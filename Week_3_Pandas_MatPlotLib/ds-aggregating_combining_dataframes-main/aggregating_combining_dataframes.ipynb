{
 "cells": [
  {
   "cell_type": "markdown",
   "metadata": {
    "toc": true
   },
   "source": [
    "<h1>Table of Contents<span class=\"tocSkip\"></span></h1>\n",
    "<div class=\"toc\"><ul class=\"toc-item\"><li><span><a href=\"#Aggregating-and-Combining-pandas-DataFrames\" data-toc-modified-id=\"Aggregating-and-Combining-pandas-DataFrames-1\"><span class=\"toc-item-num\">1&nbsp;&nbsp;</span>Aggregating and Combining <code>pandas</code> DataFrames</a></span><ul class=\"toc-item\"><li><span><a href=\"#Objectives\" data-toc-modified-id=\"Objectives-1.1\"><span class=\"toc-item-num\">1.1&nbsp;&nbsp;</span>Objectives</a></span></li></ul></li><li><span><a href=\"#Loading-Example-Data:-Austin-Animal-Center-Data\" data-toc-modified-id=\"Loading-Example-Data:-Austin-Animal-Center-Data-2\"><span class=\"toc-item-num\">2&nbsp;&nbsp;</span>Loading Example Data: Austin Animal Center Data</a></span></li><li><span><a href=\"#Aggregating-over-DataFrames:-.groupby()\" data-toc-modified-id=\"Aggregating-over-DataFrames:-.groupby()-3\"><span class=\"toc-item-num\">3&nbsp;&nbsp;</span>Aggregating over DataFrames: <code>.groupby()</code></a></span><ul class=\"toc-item\"><li><span><a href=\"#.groups-and-.get_group()\" data-toc-modified-id=\".groups-and-.get_group()-3.1\"><span class=\"toc-item-num\">3.1&nbsp;&nbsp;</span><code>.groups</code> and <code>.get_group()</code></a></span><ul class=\"toc-item\"><li><span><a href=\"#Multi-Indexing\" data-toc-modified-id=\"Multi-Indexing-3.1.1\"><span class=\"toc-item-num\">3.1.1&nbsp;&nbsp;</span>Multi-Indexing</a></span></li></ul></li><li><span><a href=\"#Aggregating\" data-toc-modified-id=\"Aggregating-3.2\"><span class=\"toc-item-num\">3.2&nbsp;&nbsp;</span>Aggregating</a></span></li><li><span><a href=\"#Exercise\" data-toc-modified-id=\"Exercise-3.3\"><span class=\"toc-item-num\">3.3&nbsp;&nbsp;</span>Exercise</a></span></li></ul></li><li><span><a href=\"#Pivoting-a-DataFrame\" data-toc-modified-id=\"Pivoting-a-DataFrame-4\"><span class=\"toc-item-num\">4&nbsp;&nbsp;</span>Pivoting a DataFrame</a></span><ul class=\"toc-item\"><li><span><a href=\"#.pivot_table()\" data-toc-modified-id=\".pivot_table()-4.1\"><span class=\"toc-item-num\">4.1&nbsp;&nbsp;</span><code>.pivot_table()</code></a></span><ul class=\"toc-item\"><li><span><a href=\"#Example\" data-toc-modified-id=\"Example-4.1.1\"><span class=\"toc-item-num\">4.1.1&nbsp;&nbsp;</span>Example</a></span></li><li><span><a href=\"#Back-to-Austin-animals\" data-toc-modified-id=\"Back-to-Austin-animals-4.1.2\"><span class=\"toc-item-num\">4.1.2&nbsp;&nbsp;</span>Back to Austin animals</a></span></li></ul></li><li><span><a href=\"#Exercise\" data-toc-modified-id=\"Exercise-4.2\"><span class=\"toc-item-num\">4.2&nbsp;&nbsp;</span>Exercise</a></span></li></ul></li><li><span><a href=\"#Methods-for-Combining-DataFrames:-.join(),-.merge(),-pd.concat()\" data-toc-modified-id=\"Methods-for-Combining-DataFrames:-.join(),-.merge(),-pd.concat()-5\"><span class=\"toc-item-num\">5&nbsp;&nbsp;</span>Methods for Combining DataFrames: <code>.join()</code>, <code>.merge()</code>, <code>pd.concat()</code></a></span><ul class=\"toc-item\"><li><span><a href=\"#.join()\" data-toc-modified-id=\".join()-5.1\"><span class=\"toc-item-num\">5.1&nbsp;&nbsp;</span><code>.join()</code></a></span></li><li><span><a href=\"#.merge()\" data-toc-modified-id=\".merge()-5.2\"><span class=\"toc-item-num\">5.2&nbsp;&nbsp;</span><code>.merge()</code></a></span></li><li><span><a href=\"#The-how-Parameter\" data-toc-modified-id=\"The-how-Parameter-5.3\"><span class=\"toc-item-num\">5.3&nbsp;&nbsp;</span>The <code>how</code> Parameter</a></span></li><li><span><a href=\"#pd.concat()\" data-toc-modified-id=\"pd.concat()-5.4\"><span class=\"toc-item-num\">5.4&nbsp;&nbsp;</span><code>pd.concat()</code></a></span></li></ul></li><li><span><a href=\"#King-County-Assessments\" data-toc-modified-id=\"King-County-Assessments-6\"><span class=\"toc-item-num\">6&nbsp;&nbsp;</span>King County Assessments</a></span><ul class=\"toc-item\"><li><span><a href=\"#First,-get-the-data!\" data-toc-modified-id=\"First,-get-the-data!-6.1\"><span class=\"toc-item-num\">6.1&nbsp;&nbsp;</span>First, get the data!</a></span></li><li><span><a href=\"#Exercise\" data-toc-modified-id=\"Exercise-6.2\"><span class=\"toc-item-num\">6.2&nbsp;&nbsp;</span>Exercise</a></span></li></ul></li><li><span><a href=\"#Time-Permitting:-Data-Cleaning-Exercises-with-Pandas\" data-toc-modified-id=\"Time-Permitting:-Data-Cleaning-Exercises-with-Pandas-7\"><span class=\"toc-item-num\">7&nbsp;&nbsp;</span>Time Permitting: Data Cleaning Exercises with Pandas</a></span><ul class=\"toc-item\"><li><span><a href=\"#Investigate-and-drop-rows-with-invalid-values-in-the-SalePrice-and-SqFtTotLiving-columns.\" data-toc-modified-id=\"Investigate-and-drop-rows-with-invalid-values-in-the-SalePrice-and-SqFtTotLiving-columns.-7.1\"><span class=\"toc-item-num\">7.1&nbsp;&nbsp;</span>Investigate and drop rows with invalid values in the SalePrice and SqFtTotLiving columns.</a></span></li><li><span><a href=\"#Investigate-and-handle-non-numeric-ZipCode-values\" data-toc-modified-id=\"Investigate-and-handle-non-numeric-ZipCode-values-7.2\"><span class=\"toc-item-num\">7.2&nbsp;&nbsp;</span>Investigate and handle non-numeric ZipCode values</a></span></li><li><span><a href=\"#Add-a-column-for-PricePerSqFt\" data-toc-modified-id=\"Add-a-column-for-PricePerSqFt-7.3\"><span class=\"toc-item-num\">7.3&nbsp;&nbsp;</span>Add a column for PricePerSqFt</a></span></li><li><span><a href=\"#Subset-the-data-to-2021-sales-only\" data-toc-modified-id=\"Subset-the-data-to-2021-sales-only-7.4\"><span class=\"toc-item-num\">7.4&nbsp;&nbsp;</span>Subset the data to 2021 sales only</a></span></li><li><span><a href=\"#What-is-the-mean-price-per-square-foot-for-a-house-sold-in-Seattle-in-2021?\" data-toc-modified-id=\"What-is-the-mean-price-per-square-foot-for-a-house-sold-in-Seattle-in-2021?-7.5\"><span class=\"toc-item-num\">7.5&nbsp;&nbsp;</span>What is the mean price per square foot for a house sold in Seattle in 2021?</a></span></li></ul></li><li><span><a href=\"#Level-Up:-pandas.set_option()\" data-toc-modified-id=\"Level-Up:-pandas.set_option()-8\"><span class=\"toc-item-num\">8&nbsp;&nbsp;</span>Level Up: <code>pandas.set_option()</code></a></span><ul class=\"toc-item\"><li><span><a href=\"#Block-Scientific-Notation\" data-toc-modified-id=\"Block-Scientific-Notation-8.1\"><span class=\"toc-item-num\">8.1&nbsp;&nbsp;</span>Block Scientific Notation</a></span></li><li><span><a href=\"#See-More-Rows\" data-toc-modified-id=\"See-More-Rows-8.2\"><span class=\"toc-item-num\">8.2&nbsp;&nbsp;</span>See More Rows</a></span></li></ul></li></ul></div>"
   ]
  },
  {
   "cell_type": "code",
   "execution_count": 1,
   "metadata": {
    "ExecuteTime": {
     "end_time": "2021-10-19T17:04:47.458015Z",
     "start_time": "2021-10-19T17:04:45.702939Z"
    }
   },
   "outputs": [],
   "source": [
    "import pandas as pd\n",
    "import numpy as np\n",
    "import requests as rq\n",
    "from sklearn.preprocessing import OneHotEncoder\n",
    "from zipfile import ZipFile"
   ]
  },
  {
   "cell_type": "markdown",
   "metadata": {
    "heading_collapsed": true
   },
   "source": [
    "# Aggregating and Combining `pandas` DataFrames"
   ]
  },
  {
   "cell_type": "markdown",
   "metadata": {
    "heading_collapsed": true,
    "hidden": true
   },
   "source": [
    "## Objectives"
   ]
  },
  {
   "cell_type": "markdown",
   "metadata": {
    "hidden": true
   },
   "source": [
    "- Use GroupBy objects to organize and aggregate data\n",
    "- Create pivot tables from DataFrames\n",
    "- Combine DataFrames by merging and appending "
   ]
  },
  {
   "cell_type": "markdown",
   "metadata": {
    "hidden": true
   },
   "source": [
    "We'll work with the Austin Animal Center dataset and with data from King County's Department of Assessments (Seattle housing data)."
   ]
  },
  {
   "cell_type": "markdown",
   "metadata": {
    "heading_collapsed": true
   },
   "source": [
    "# Loading Example Data: Austin Animal Center Data"
   ]
  },
  {
   "cell_type": "code",
   "execution_count": 2,
   "metadata": {
    "ExecuteTime": {
     "end_time": "2021-10-19T17:08:55.192780Z",
     "start_time": "2021-10-19T17:08:54.226090Z"
    },
    "hidden": true
   },
   "outputs": [],
   "source": [
    "data = rq.get('https://data.austintexas.gov/resource/9t4d-g238.json').text"
   ]
  },
  {
   "cell_type": "code",
   "execution_count": 5,
   "metadata": {
    "ExecuteTime": {
     "end_time": "2021-10-19T17:09:57.118713Z",
     "start_time": "2021-10-19T17:09:57.108939Z"
    }
   },
   "outputs": [
    {
     "data": {
      "text/plain": [
       "'[{\"animal_id\":\"A844147\",\"datetime\":\"2021-10-18T19:20:00.000\",\"monthyear\":\"2021-10-18T19:20:00.000\",\"date_of_birth\":\"2021-08-21T00:00:00.000\",\"outcome_type\":\"Adoption\",\"animal_type\":\"Dog\",\"sex_upon_outcome\":\"Neutered Male\",\"age_upon_outcome\":\"1 month\",\"breed\":\"Chihuahua Shorthair Mix\",\"color\":\"Tan\"}\\n,{\"animal_id\":\"A844427\",\"datetime\":\"2021-10-18T18:57:00.000\",\"monthyear\":\"2021-10-18T18:57:00.000\",\"date_of_birth\":\"2021-08-24T00:00:00.000\",\"outcome_type\":\"Transfer\",\"outcome_subtype\":\"Partner\",\"animal_type\":\"Cat\",\"sex_upon_outcome\":\"Intact Male\",\"age_upon_outcome\":\"1 month\",\"breed\":\"Domestic Shorthair\",\"color\":\"Black\"}\\n,{\"animal_id\":\"A842426\",\"name\":\"*Archimedes\",\"datetime\":\"2021-10-18T18:57:00.000\",\"monthyear\":\"2021-10-18T18:57:00.000\",\"date_of_birth\":\"2019-09-15T00:00:00.000\",\"outcome_type\":\"Adoption\",\"animal_type\":\"Dog\",\"sex_upon_outcome\":\"Neutered Male\",\"age_upon_outcome\":\"2 years\",\"breed\":\"Beagle Mix\",\"color\":\"Black/Tricolor\"}\\n,{\"animal_id\":\"A841352\",\"name\":\"*Zivah\",\"datetime\":\"2021-10-18T18:45:00.000\",\"monthyear\":\"2021-10-18T18:45:00.000\",\"date_of_birth\":\"2021-08-23T00:00:00.000\",\"outcome_type\":\"Adoption\",\"animal_type\":\"Dog\",\"sex_upon_outcome\":\"Spayed Female\",\"age_upon_outcome\":\"1 month\",\"breed\":\"German Shepherd/Labrador Retriever\",\"color\":\"Brown/Black\"}\\n,{\"animal_id\":\"A844145\",\"datetime\":\"2021-10-18T18:39:00.000\",\"monthyear\":\"2021-10-18T18:39:00.000\",\"date_of_birth\":\"2019-10-12T00:00:00.000\",\"outcome_type\":\"Adoption\",\"animal_type\":\"Dog\",\"sex_upon_outcome\":\"Spayed Female\",\"age_upon_outcome\":\"2 years\",\"breed\":\"Chihuahua Shorthair Mix\",\"color\":\"Tan/White\"}\\n,{\"animal_id\":\"A843692\",\"name\":\"Jerry\",\"datetime\":\"2021-10-18T18:21:00.000\",\"monthyear\":\"2021-10-18T18:21:00.000\",\"date_of_birth\":\"2021-07-21T00:00:00.000\",\"outcome_type\":\"Adoption\",\"animal_type\":\"Cat\",\"sex_upon_outcome\":\"Spayed Female\",\"age_upon_outcome\":\"2 months\",\"breed\":\"Domestic Shorthair\",\"color\":\"Brown Tabby/White\"}\\n,{\"animal_id\":\"A842113\",\"name\":\"Cudi\",\"datetime\":\"2021-10-18T18:16:00.000\",\"monthyear\":\"2021-10-18T18:16:00.000\",\"date_of_birth\":\"2021-08-09T00:00:00.000\",\"outcome_type\":\"Adoption\",\"animal_type\":\"Cat\",\"sex_upon_outcome\":\"Spayed Female\",\"age_upon_outcome\":\"2 months\",\"breed\":\"Domestic Shorthair\",\"color\":\"Brown Tabby\"}\\n,{\"animal_id\":\"A843602\",\"name\":\"Lyra\",\"datetime\":\"2021-10-18T18:05:00.000\",\"monthyear\":\"2021-10-18T18:05:00.000\",\"date_of_birth\":\"2021-07-20T00:00:00.000\",\"outcome_type\":\"Adoption\",\"animal_type\":\"Cat\",\"sex_upon_outcome\":\"Spayed Female\",\"age_upon_outcome\":\"2 months\",\"breed\":\"Domestic Shorthair\",\"color\":\"Torbie/White\"}\\n,{\"animal_id\":\"A844551\",\"name\":\"Myla\",\"datetime\":\"2021-10-18T18:02:00.000\",\"monthyear\":\"2021-10-18T18:02:00.000\",\"date_of_birth\":\"2018-10-17T00:00:00.000\",\"outcome_type\":\"Return to Owner\",\"animal_type\":\"Dog\",\"sex_upon_outcome\":\"Intact Female\",\"age_upon_outcome\":\"3 years\",\"breed\":\"Beagle Mix\",\"color\":\"Black/Brown\"}\\n,{\"animal_id\":\"A838947\",\"name\":\"*Cattabus\",\"datetime\":\"2021-10-18T17:58:00.000\",\"monthyear\":\"2021-10-18T17:58:00.000\",\"date_of_birth\":\"2021-03-14T00:00:00.000\",\"outcome_type\":\"Adoption\",\"animal_type\":\"Cat\",\"sex_upon_outcome\":\"Neutered Male\",\"age_upon_outcome\":\"7 months\",\"breed\":\"Bengal Mix\",\"color\":\"Brown Tabby\"}\\n,{\"animal_id\":\"A844412\",\"name\":\"Soju\",\"datetime\":\"2021-10-18T17:53:00.000\",\"monthyear\":\"2021-10-18T17:53:00.000\",\"date_of_birth\":\"2021-03-14T00:00:00.000\",\"outcome_type\":\"Adoption\",\"animal_type\":\"Cat\",\"sex_upon_outcome\":\"Neutered Male\",\"age_upon_outcome\":\"7 months\",\"breed\":\"Snowshoe\",\"color\":\"Seal Point/White\"}\\n,{\"animal_id\":\"A844146\",\"name\":\"Puma\",\"datetime\":\"2021-10-18T17:45:00.000\",\"monthyear\":\"2021-10-18T17:45:00.000\",\"date_of_birth\":\"2020-12-12T00:00:00.000\",\"outcome_type\":\"Adoption\",\"animal_type\":\"Dog\",\"sex_upon_outcome\":\"Neutered Male\",\"age_upon_outcome\":\"10 months\",\"breed\":\"Labrador Retriever/Pit Bull\",\"color\":\"Tan/White\"}\\n,{\"animal_id\":\"A775843\",\"name\":\"Puma\",\"datetime\":\"2021-10-18T17:43:00.000\",\"monthyear\":\"2021-10-18T17:43:00.000\",\"date_of_birth\":\"2016-07-05T00:00:00.000\",\"outcome_type\":\"Return to Owner\",\"animal_type\":\"Dog\",\"sex_upon_outcome\":\"Neutered Male\",\"age_upon_outcome\":\"5 years\",\"breed\":\"German Shepherd Mix\",\"color\":\"White/Tan\"}\\n,{\"animal_id\":\"A844553\",\"name\":\"Lobo\",\"datetime\":\"2021-10-18T17:43:00.000\",\"monthyear\":\"2021-10-18T17:43:00.000\",\"date_of_birth\":\"2016-10-17T00:00:00.000\",\"outcome_type\":\"Return to Owner\",\"animal_type\":\"Dog\",\"sex_upon_outcome\":\"Intact Male\",\"age_upon_outcome\":\"5 years\",\"breed\":\"German Shepherd\",\"color\":\"Black/Brown\"}\\n,{\"animal_id\":\"A843928\",\"name\":\"Aria\",\"datetime\":\"2021-10-18T17:42:00.000\",\"monthyear\":\"2021-10-18T17:42:00.000\",\"date_of_birth\":\"2021-05-08T00:00:00.000\",\"outcome_type\":\"Adoption\",\"animal_type\":\"Dog\",\"sex_upon_outcome\":\"Spayed Female\",\"age_upon_outcome\":\"5 months\",\"breed\":\"Pit Bull\",\"color\":\"Gray/White\"}\\n,{\"animal_id\":\"A841349\",\"name\":\"Luna\",\"datetime\":\"2021-10-18T17:30:00.000\",\"monthyear\":\"2021-10-18T17:30:00.000\",\"date_of_birth\":\"2021-08-23T00:00:00.000\",\"outcome_type\":\"Adoption\",\"animal_type\":\"Dog\",\"sex_upon_outcome\":\"Spayed Female\",\"age_upon_outcome\":\"1 month\",\"breed\":\"German Shepherd/Labrador Retriever\",\"color\":\"Brown/Black\"}\\n,{\"animal_id\":\"A841354\",\"name\":\"*Zuma\",\"datetime\":\"2021-10-18T17:30:00.000\",\"monthyear\":\"2021-10-18T17:30:00.000\",\"date_of_birth\":\"2021-08-23T00:00:00.000\",\"outcome_type\":\"Adoption\",\"animal_type\":\"Dog\",\"sex_upon_outcome\":\"Spayed Female\",\"age_upon_outcome\":\"1 month\",\"breed\":\"German Shepherd/Labrador Retriever\",\"color\":\"Brown/Black\"}\\n,{\"animal_id\":\"A841348\",\"name\":\"Lola\",\"datetime\":\"2021-10-18T17:30:00.000\",\"monthyear\":\"2021-10-18T17:30:00.000\",\"date_of_birth\":\"2021-08-23T00:00:00.000\",\"outcome_type\":\"Adoption\",\"animal_type\":\"Dog\",\"sex_upon_outcome\":\"Spayed Female\",\"age_upon_outcome\":\"1 month\",\"breed\":\"German Shepherd/Labrador Retriever\",\"color\":\"Brown/Black\"}\\n,{\"animal_id\":\"A818418\",\"name\":\"Roxy\",\"datetime\":\"2021-10-18T17:13:00.000\",\"monthyear\":\"2021-10-18T17:13:00.000\",\"date_of_birth\":\"2015-06-08T00:00:00.000\",\"outcome_type\":\"Return to Owner\",\"animal_type\":\"Dog\",\"sex_upon_outcome\":\"Spayed Female\",\"age_upon_outcome\":\"6 years\",\"breed\":\"German Shepherd Mix\",\"color\":\"Brown/Black\"}\\n,{\"animal_id\":\"A842602\",\"name\":\"Athena\",\"datetime\":\"2021-10-18T17:05:00.000\",\"monthyear\":\"2021-10-18T17:05:00.000\",\"date_of_birth\":\"2021-02-18T00:00:00.000\",\"outcome_type\":\"Adoption\",\"animal_type\":\"Dog\",\"sex_upon_outcome\":\"Spayed Female\",\"age_upon_outcome\":\"7 months\",\"breed\":\"Belgian Malinois Mix\",\"color\":\"Brown\"}\\n,{\"animal_id\":\"A841350\",\"name\":\"*Zephyr\",\"datetime\":\"2021-10-18T17:04:00.000\",\"monthyear\":\"2021-10-18T17:04:00.000\",\"date_of_birth\":\"2021-08-23T00:00:00.000\",\"outcome_type\":\"Adoption\",\"animal_type\":\"Dog\",\"sex_upon_outcome\":\"Spayed Female\",\"age_upon_outcome\":\"1 month\",\"breed\":\"German Shepherd/Labrador Retriever\",\"color\":\"Brown/Black\"}\\n,{\"animal_id\":\"A844405\",\"name\":\"Bluebell\",\"datetime\":\"2021-10-18T16:55:00.000\",\"monthyear\":\"2021-10-18T16:55:00.000\",\"date_of_birth\":\"2012-10-15T00:00:00.000\",\"outcome_type\":\"Adoption\",\"animal_type\":\"Cat\",\"sex_upon_outcome\":\"Neutered Male\",\"age_upon_outcome\":\"9 years\",\"breed\":\"Domestic Shorthair\",\"color\":\"Cream Tabby\"}\\n,{\"animal_id\":\"A844399\",\"name\":\"Gary Oldman\",\"datetime\":\"2021-10-18T16:55:00.000\",\"monthyear\":\"2021-10-18T16:55:00.000\",\"date_of_birth\":\"2007-10-15T00:00:00.000\",\"outcome_type\":\"Adoption\",\"animal_type\":\"Cat\",\"sex_upon_outcome\":\"Neutered Male\",\"age_upon_outcome\":\"14 years\",\"breed\":\"Domestic Shorthair\",\"color\":\"Orange Tabby\"}\\n,{\"animal_id\":\"A844336\",\"name\":\"Bam Bam\",\"datetime\":\"2021-10-18T16:49:00.000\",\"monthyear\":\"2021-10-18T16:49:00.000\",\"date_of_birth\":\"2019-10-15T00:00:00.000\",\"outcome_type\":\"Adoption\",\"animal_type\":\"Dog\",\"sex_upon_outcome\":\"Neutered Male\",\"age_upon_outcome\":\"2 years\",\"breed\":\"Shih Tzu Mix\",\"color\":\"Black/White\"}\\n,{\"animal_id\":\"A843664\",\"name\":\"Aurora\",\"datetime\":\"2021-10-18T16:42:00.000\",\"monthyear\":\"2021-10-18T16:42:00.000\",\"date_of_birth\":\"2021-02-11T00:00:00.000\",\"outcome_type\":\"Adoption\",\"animal_type\":\"Dog\",\"sex_upon_outcome\":\"Spayed Female\",\"age_upon_outcome\":\"8 months\",\"breed\":\"Catahoula\",\"color\":\"Blue Merle/White\"}\\n,{\"animal_id\":\"A844240\",\"name\":\"King\",\"datetime\":\"2021-10-18T16:41:00.000\",\"monthyear\":\"2021-10-18T16:41:00.000\",\"date_of_birth\":\"2021-02-13T00:00:00.000\",\"outcome_type\":\"Adoption\",\"animal_type\":\"Dog\",\"sex_upon_outcome\":\"Neutered Male\",\"age_upon_outcome\":\"8 months\",\"breed\":\"Anatol Shepherd\",\"color\":\"Tan/Black\"}\\n,{\"animal_id\":\"A844000\",\"name\":\"Cali\",\"datetime\":\"2021-10-18T16:38:00.000\",\"monthyear\":\"2021-10-18T16:38:00.000\",\"date_of_birth\":\"2021-02-10T00:00:00.000\",\"outcome_type\":\"Rto-Adopt\",\"animal_type\":\"Dog\",\"sex_upon_outcome\":\"Spayed Female\",\"age_upon_outcome\":\"8 months\",\"breed\":\"Pit Bull/Boxer\",\"color\":\"Tan/White\"}\\n,{\"animal_id\":\"A844051\",\"name\":\"Poe\",\"datetime\":\"2021-10-18T16:27:00.000\",\"monthyear\":\"2021-10-18T16:27:00.000\",\"date_of_birth\":\"2021-04-11T00:00:00.000\",\"outcome_type\":\"Adoption\",\"animal_type\":\"Cat\",\"sex_upon_outcome\":\"Neutered Male\",\"age_upon_outcome\":\"6 months\",\"breed\":\"Domestic Shorthair\",\"color\":\"Black\"}\\n,{\"animal_id\":\"A844052\",\"name\":\"Indy\",\"datetime\":\"2021-10-18T16:26:00.000\",\"monthyear\":\"2021-10-18T16:26:00.000\",\"date_of_birth\":\"2021-04-11T00:00:00.000\",\"outcome_type\":\"Adoption\",\"animal_type\":\"Cat\",\"sex_upon_outcome\":\"Neutered Male\",\"age_upon_outcome\":\"6 months\",\"breed\":\"Domestic Shorthair\",\"color\":\"Black/White\"}\\n,{\"animal_id\":\"A839229\",\"name\":\"Autumn\",\"datetime\":\"2021-10-18T16:24:00.000\",\"monthyear\":\"2021-10-18T16:24:00.000\",\"date_of_birth\":\"2021-07-17T00:00:00.000\",\"outcome_type\":\"Adoption\",\"animal_type\":\"Cat\",\"sex_upon_outcome\":\"Spayed Female\",\"age_upon_outcome\":\"3 months\",\"breed\":\"Domestic Shorthair\",\"color\":\"Tortie\"}\\n,{\"animal_id\":\"A841351\",\"name\":\"*Zelda\",\"datetime\":\"2021-10-18T16:17:00.000\",\"monthyear\":\"2021-10-18T16:17:00.000\",\"date_of_birth\":\"2021-08-23T00:00:00.000\",\"outcome_type\":\"Adoption\",\"animal_type\":\"Dog\",\"sex_upon_outcome\":\"Neutered Male\",\"age_upon_outcome\":\"1 month\",\"breed\":\"German Shepherd/Labrador Retriever\",\"color\":\"Brown/Black\"}\\n,{\"animal_id\":\"A836307\",\"name\":\"*Cranberry\",\"datetime\":\"2021-10-18T16:14:00.000\",\"monthyear\":\"2021-10-18T16:14:00.000\",\"date_of_birth\":\"2021-04-15T00:00:00.000\",\"outcome_type\":\"Adoption\",\"animal_type\":\"Cat\",\"sex_upon_outcome\":\"Neutered Male\",\"age_upon_outcome\":\"6 months\",\"breed\":\"Domestic Shorthair Mix\",\"color\":\"Black\"}\\n,{\"animal_id\":\"A670017\",\"name\":\"Saber\",\"datetime\":\"2021-10-18T16:11:00.000\",\"monthyear\":\"2021-10-18T16:11:00.000\",\"date_of_birth\":\"2013-03-31T00:00:00.000\",\"outcome_type\":\"Return to Owner\",\"animal_type\":\"Dog\",\"sex_upon_outcome\":\"Neutered Male\",\"age_upon_outcome\":\"8 years\",\"breed\":\"Pit Bull Mix\",\"color\":\"Brown Brindle/White\"}\\n,{\"animal_id\":\"A841353\",\"name\":\"*Zsa Zsa\",\"datetime\":\"2021-10-18T16:08:00.000\",\"monthyear\":\"2021-10-18T16:08:00.000\",\"date_of_birth\":\"2021-08-23T00:00:00.000\",\"outcome_type\":\"Adoption\",\"animal_type\":\"Dog\",\"sex_upon_outcome\":\"Spayed Female\",\"age_upon_outcome\":\"1 month\",\"breed\":\"German Shepherd/Labrador Retriever\",\"color\":\"Brown/Black\"}\\n,{\"animal_id\":\"A844310\",\"name\":\"Lucky\",\"datetime\":\"2021-10-18T15:58:00.000\",\"monthyear\":\"2021-10-18T15:58:00.000\",\"date_of_birth\":\"2007-10-15T00:00:00.000\",\"outcome_type\":\"Rto-Adopt\",\"animal_type\":\"Cat\",\"sex_upon_outcome\":\"Neutered Male\",\"age_upon_outcome\":\"14 years\",\"breed\":\"Domestic Shorthair\",\"color\":\"Orange Tabby/White\"}\\n,{\"animal_id\":\"A844555\",\"name\":\"Indie\",\"datetime\":\"2021-10-18T15:35:00.000\",\"monthyear\":\"2021-10-18T15:35:00.000\",\"date_of_birth\":\"2018-10-17T00:00:00.000\",\"outcome_type\":\"Return to Owner\",\"animal_type\":\"Dog\",\"sex_upon_outcome\":\"Spayed Female\",\"age_upon_outcome\":\"3 years\",\"breed\":\"Pit Bull Mix\",\"color\":\"Black\"}\\n,{\"animal_id\":\"A844651\",\"name\":\"Midnight\",\"datetime\":\"2021-10-18T15:33:00.000\",\"monthyear\":\"2021-10-18T15:33:00.000\",\"date_of_birth\":\"2021-08-18T00:00:00.000\",\"outcome_type\":\"Euthanasia\",\"outcome_subtype\":\"Suffering\",\"animal_type\":\"Cat\",\"sex_upon_outcome\":\"Unknown\",\"age_upon_outcome\":\"1 month\",\"breed\":\"Domestic Shorthair Mix\",\"color\":\"Black\"}\\n,{\"animal_id\":\"A842111\",\"name\":\"Captain\",\"datetime\":\"2021-10-18T15:14:00.000\",\"monthyear\":\"2021-10-18T15:14:00.000\",\"date_of_birth\":\"2020-03-09T00:00:00.000\",\"outcome_type\":\"Adoption\",\"animal_type\":\"Dog\",\"sex_upon_outcome\":\"Neutered Male\",\"age_upon_outcome\":\"1 year\",\"breed\":\"Labrador Retriever\",\"color\":\"Black\"}\\n,{\"animal_id\":\"A844286\",\"name\":\"A844286\",\"datetime\":\"2021-10-18T13:20:00.000\",\"monthyear\":\"2021-10-18T13:20:00.000\",\"date_of_birth\":\"2019-10-14T00:00:00.000\",\"outcome_type\":\"Transfer\",\"outcome_subtype\":\"Partner\",\"animal_type\":\"Dog\",\"sex_upon_outcome\":\"Intact Female\",\"age_upon_outcome\":\"2 years\",\"breed\":\"Yorkshire Terrier/Border Terrier\",\"color\":\"Tan\"}\\n,{\"animal_id\":\"A844174\",\"datetime\":\"2021-10-18T13:19:00.000\",\"monthyear\":\"2021-10-18T13:19:00.000\",\"date_of_birth\":\"2021-05-29T00:00:00.000\",\"outcome_type\":\"Transfer\",\"outcome_subtype\":\"Partner\",\"animal_type\":\"Dog\",\"sex_upon_outcome\":\"Intact Female\",\"age_upon_outcome\":\"4 months\",\"breed\":\"Cairn Terrier\",\"color\":\"White/Black\"}\\n,{\"animal_id\":\"A844304\",\"name\":\"Scooby\",\"datetime\":\"2021-10-18T13:01:00.000\",\"monthyear\":\"2021-10-18T13:01:00.000\",\"date_of_birth\":\"2007-04-14T00:00:00.000\",\"outcome_type\":\"Return to Owner\",\"animal_type\":\"Dog\",\"sex_upon_outcome\":\"Neutered Male\",\"age_upon_outcome\":\"14 years\",\"breed\":\"Chihuahua Shorthair\",\"color\":\"Brown/Tan\"}\\n,{\"animal_id\":\"A842910\",\"name\":\"*Jello\",\"datetime\":\"2021-10-18T12:08:00.000\",\"monthyear\":\"2021-10-18T12:08:00.000\",\"date_of_birth\":\"2018-09-23T00:00:00.000\",\"outcome_type\":\"Adoption\",\"animal_type\":\"Dog\",\"sex_upon_outcome\":\"Neutered Male\",\"age_upon_outcome\":\"3 years\",\"breed\":\"Great Pyrenees/Labrador Retriever\",\"color\":\"White\"}\\n,{\"animal_id\":\"A844268\",\"name\":\"A844268\",\"datetime\":\"2021-10-18T11:12:00.000\",\"monthyear\":\"2021-10-18T11:12:00.000\",\"date_of_birth\":\"2020-04-14T00:00:00.000\",\"outcome_type\":\"Transfer\",\"outcome_subtype\":\"Partner\",\"animal_type\":\"Dog\",\"sex_upon_outcome\":\"Intact Female\",\"age_upon_outcome\":\"1 year\",\"breed\":\"Cairn Terrier Mix\",\"color\":\"Black/White\"}\\n,{\"animal_id\":\"A717165\",\"name\":\"Quincy\",\"datetime\":\"2021-10-18T11:08:00.000\",\"monthyear\":\"2021-10-18T11:08:00.000\",\"date_of_birth\":\"2011-12-03T00:00:00.000\",\"outcome_type\":\"Adoption\",\"outcome_subtype\":\"Foster\",\"animal_type\":\"Dog\",\"sex_upon_outcome\":\"Neutered Male\",\"age_upon_outcome\":\"9 years\",\"breed\":\"Australian Cattle Dog Mix\",\"color\":\"Red/White\"}\\n,{\"animal_id\":\"A844508\",\"datetime\":\"2021-10-18T10:08:00.000\",\"monthyear\":\"2021-10-18T10:08:00.000\",\"date_of_birth\":\"2019-10-16T00:00:00.000\",\"outcome_type\":\"Euthanasia\",\"outcome_subtype\":\"Rabies Risk\",\"animal_type\":\"Other\",\"sex_upon_outcome\":\"Unknown\",\"age_upon_outcome\":\"2 years\",\"breed\":\"Bat\",\"color\":\"Brown\"}\\n,{\"animal_id\":\"A844564\",\"datetime\":\"2021-10-18T10:07:00.000\",\"monthyear\":\"2021-10-18T10:07:00.000\",\"date_of_birth\":\"2021-02-17T00:00:00.000\",\"outcome_type\":\"Euthanasia\",\"outcome_subtype\":\"Rabies Risk\",\"animal_type\":\"Other\",\"sex_upon_outcome\":\"Unknown\",\"age_upon_outcome\":\"7 months\",\"breed\":\"Raccoon\",\"color\":\"Gray/Black\"}\\n,{\"animal_id\":\"A843888\",\"name\":\"*Nana\",\"datetime\":\"2021-10-18T08:21:00.000\",\"monthyear\":\"2021-10-18T08:21:00.000\",\"date_of_birth\":\"2021-09-01T00:00:00.000\",\"outcome_type\":\"Transfer\",\"outcome_subtype\":\"Partner\",\"animal_type\":\"Dog\",\"sex_upon_outcome\":\"Intact Female\",\"age_upon_outcome\":\"1 month\",\"breed\":\"Australian Shepherd Mix\",\"color\":\"Tan/White\"}\\n,{\"animal_id\":\"A843887\",\"name\":\"*Ashley\",\"datetime\":\"2021-10-18T08:20:00.000\",\"monthyear\":\"2021-10-18T08:20:00.000\",\"date_of_birth\":\"2021-09-01T00:00:00.000\",\"outcome_type\":\"Transfer\",\"outcome_subtype\":\"Partner\",\"animal_type\":\"Dog\",\"sex_upon_outcome\":\"Intact Female\",\"age_upon_outcome\":\"1 month\",\"breed\":\"Australian Shepherd Mix\",\"color\":\"Tan/White\"}\\n,{\"animal_id\":\"A844279\",\"datetime\":\"2021-10-17T19:32:00.000\",\"monthyear\":\"2021-10-17T19:32:00.000\",\"date_of_birth\":\"2020-10-14T00:00:00.000\",\"outcome_type\":\"Euthanasia\",\"outcome_subtype\":\"Rabies Risk\",\"animal_type\":\"Other\",\"sex_upon_outcome\":\"Unknown\",\"age_upon_outcome\":\"1 year\",\"breed\":\"Raccoon\",\"color\":\"Black/Gray\"}\\n,{\"animal_id\":\"A844129\",\"datetime\":\"2021-10-17T18:55:00.000\",\"monthyear\":\"2021-10-17T18:55:00.000\",\"date_of_birth\":\"2021-09-02T00:00:00.000\",\"outcome_type\":\"Adoption\",\"animal_type\":\"Cat\",\"sex_upon_outcome\":\"Intact Female\",\"age_upon_outcome\":\"1 month\",\"breed\":\"Domestic Medium Hair\",\"color\":\"Tortie\"}\\n,{\"animal_id\":\"A844439\",\"name\":\"Zilla\",\"datetime\":\"2021-10-17T16:33:00.000\",\"monthyear\":\"2021-10-17T16:33:00.000\",\"date_of_birth\":\"2014-01-16T00:00:00.000\",\"outcome_type\":\"Return to Owner\",\"animal_type\":\"Dog\",\"sex_upon_outcome\":\"Intact Female\",\"age_upon_outcome\":\"7 years\",\"breed\":\"Australian Cattle Dog/Collie Smooth\",\"color\":\"Black/White\"}\\n,{\"animal_id\":\"A844149\",\"name\":\"*Nimbus\",\"datetime\":\"2021-10-17T16:32:00.000\",\"monthyear\":\"2021-10-17T16:32:00.000\",\"date_of_birth\":\"2019-10-12T00:00:00.000\",\"outcome_type\":\"Adoption\",\"animal_type\":\"Other\",\"sex_upon_outcome\":\"Intact Male\",\"age_upon_outcome\":\"2 years\",\"breed\":\"Rabbit Sh\",\"color\":\"White/Brown\"}\\n,{\"animal_id\":\"A844562\",\"name\":\"Red\",\"datetime\":\"2021-10-17T15:16:00.000\",\"monthyear\":\"2021-10-17T15:16:00.000\",\"date_of_birth\":\"2009-10-17T00:00:00.000\",\"outcome_type\":\"Return to Owner\",\"animal_type\":\"Dog\",\"sex_upon_outcome\":\"Neutered Male\",\"age_upon_outcome\":\"12 years\",\"breed\":\"Labrador Retriever\",\"color\":\"Red/Brown\"}\\n,{\"animal_id\":\"A843253\",\"name\":\"Molly\",\"datetime\":\"2021-10-17T15:10:00.000\",\"monthyear\":\"2021-10-17T15:10:00.000\",\"date_of_birth\":\"2019-09-28T00:00:00.000\",\"outcome_type\":\"Adoption\",\"animal_type\":\"Dog\",\"sex_upon_outcome\":\"Spayed Female\",\"age_upon_outcome\":\"2 years\",\"breed\":\"Pit Bull\",\"color\":\"Tan/White\"}\\n,{\"animal_id\":\"A844192\",\"name\":\"Fluffy\",\"datetime\":\"2021-10-17T14:32:00.000\",\"monthyear\":\"2021-10-17T14:32:00.000\",\"date_of_birth\":\"2020-04-13T00:00:00.000\",\"outcome_type\":\"Adoption\",\"animal_type\":\"Cat\",\"sex_upon_outcome\":\"Spayed Female\",\"age_upon_outcome\":\"1 year\",\"breed\":\"Domestic Shorthair Mix\",\"color\":\"Calico\"}\\n,{\"animal_id\":\"A843920\",\"datetime\":\"2021-10-17T13:47:00.000\",\"monthyear\":\"2021-10-17T13:47:00.000\",\"date_of_birth\":\"2021-07-24T00:00:00.000\",\"outcome_type\":\"Adoption\",\"animal_type\":\"Cat\",\"sex_upon_outcome\":\"Spayed Female\",\"age_upon_outcome\":\"2 months\",\"breed\":\"Domestic Medium Hair\",\"color\":\"Black/White\"}\\n,{\"animal_id\":\"A843534\",\"name\":\"Little Mike\",\"datetime\":\"2021-10-17T13:25:00.000\",\"monthyear\":\"2021-10-17T13:25:00.000\",\"date_of_birth\":\"2019-04-02T00:00:00.000\",\"outcome_type\":\"Adoption\",\"animal_type\":\"Dog\",\"sex_upon_outcome\":\"Neutered Male\",\"age_upon_outcome\":\"2 years\",\"breed\":\"Labrador Retriever Mix\",\"color\":\"Brown\"}\\n,{\"animal_id\":\"A844204\",\"datetime\":\"2021-10-17T12:23:00.000\",\"monthyear\":\"2021-10-17T12:23:00.000\",\"date_of_birth\":\"2021-06-28T00:00:00.000\",\"outcome_type\":\"Transfer\",\"outcome_subtype\":\"Partner\",\"animal_type\":\"Dog\",\"sex_upon_outcome\":\"Intact Male\",\"age_upon_outcome\":\"3 months\",\"breed\":\"Cocker Spaniel/Border Collie\",\"color\":\"Tan\"}\\n,{\"animal_id\":\"A844277\",\"name\":\"A844277\",\"datetime\":\"2021-10-17T12:18:00.000\",\"monthyear\":\"2021-10-17T12:18:00.000\",\"date_of_birth\":\"2019-10-14T00:00:00.000\",\"outcome_type\":\"Return to Owner\",\"animal_type\":\"Cat\",\"sex_upon_outcome\":\"Intact Male\",\"age_upon_outcome\":\"2 years\",\"breed\":\"Domestic Medium Hair\",\"color\":\"Black\"}\\n,{\"animal_id\":\"A843375\",\"name\":\"Lucci\",\"datetime\":\"2021-10-17T11:48:00.000\",\"monthyear\":\"2021-10-17T11:48:00.000\",\"date_of_birth\":\"2020-12-30T00:00:00.000\",\"outcome_type\":\"Adoption\",\"animal_type\":\"Dog\",\"sex_upon_outcome\":\"Spayed Female\",\"age_upon_outcome\":\"9 months\",\"breed\":\"Plott Hound\",\"color\":\"Brown Tiger/White\"}\\n,{\"animal_id\":\"A750451\",\"name\":\"Pancake\",\"datetime\":\"2021-10-17T11:29:00.000\",\"monthyear\":\"2021-10-17T11:29:00.000\",\"date_of_birth\":\"2017-04-12T00:00:00.000\",\"outcome_type\":\"Adoption\",\"animal_type\":\"Cat\",\"sex_upon_outcome\":\"Neutered Male\",\"age_upon_outcome\":\"4 years\",\"breed\":\"Domestic Shorthair Mix\",\"color\":\"Cream Tabby\"}\\n,{\"animal_id\":\"A843287\",\"name\":\"A843287\",\"datetime\":\"2021-10-17T11:22:00.000\",\"monthyear\":\"2021-10-17T11:22:00.000\",\"date_of_birth\":\"2019-09-29T00:00:00.000\",\"outcome_type\":\"Relocate\",\"animal_type\":\"Cat\",\"sex_upon_outcome\":\"Spayed Female\",\"age_upon_outcome\":\"2 years\",\"breed\":\"Domestic Shorthair Mix\",\"color\":\"Brown Tabby\"}\\n,{\"animal_id\":\"A842473\",\"name\":\"Bear\",\"datetime\":\"2021-10-17T11:13:00.000\",\"monthyear\":\"2021-10-17T11:13:00.000\",\"date_of_birth\":\"2016-10-05T00:00:00.000\",\"outcome_type\":\"Adoption\",\"animal_type\":\"Dog\",\"sex_upon_outcome\":\"Neutered Male\",\"age_upon_outcome\":\"5 years\",\"breed\":\"German Shepherd Mix\",\"color\":\"Brown/Black\"}\\n,{\"animal_id\":\"A844097\",\"name\":\"Mila\",\"datetime\":\"2021-10-17T11:05:00.000\",\"monthyear\":\"2021-10-17T11:05:00.000\",\"date_of_birth\":\"2020-10-12T00:00:00.000\",\"outcome_type\":\"Euthanasia\",\"outcome_subtype\":\"Rabies Risk\",\"animal_type\":\"Dog\",\"sex_upon_outcome\":\"Intact Female\",\"age_upon_outcome\":\"1 year\",\"breed\":\"Pit Bull\",\"color\":\"Tan\"}\\n,{\"animal_id\":\"A844428\",\"datetime\":\"2021-10-17T11:00:00.000\",\"monthyear\":\"2021-10-17T11:00:00.000\",\"date_of_birth\":\"2019-10-15T00:00:00.000\",\"outcome_type\":\"Euthanasia\",\"outcome_subtype\":\"Rabies Risk\",\"animal_type\":\"Other\",\"sex_upon_outcome\":\"Unknown\",\"age_upon_outcome\":\"2 years\",\"breed\":\"Bat\",\"color\":\"Brown\"}\\n,{\"animal_id\":\"A844478\",\"datetime\":\"2021-10-17T10:59:00.000\",\"monthyear\":\"2021-10-17T10:59:00.000\",\"date_of_birth\":\"2019-10-16T00:00:00.000\",\"outcome_type\":\"Euthanasia\",\"outcome_subtype\":\"Rabies Risk\",\"animal_type\":\"Other\",\"sex_upon_outcome\":\"Unknown\",\"age_upon_outcome\":\"2 years\",\"breed\":\"Bat\",\"color\":\"Brown\"}\\n,{\"animal_id\":\"A844496\",\"name\":\"A844496\",\"datetime\":\"2021-10-17T10:30:00.000\",\"monthyear\":\"2021-10-17T10:30:00.000\",\"date_of_birth\":\"2019-10-16T00:00:00.000\",\"outcome_type\":\"Euthanasia\",\"outcome_subtype\":\"Rabies Risk\",\"animal_type\":\"Cat\",\"sex_upon_outcome\":\"Intact Female\",\"age_upon_outcome\":\"NULL\",\"breed\":\"Domestic Shorthair\",\"color\":\"Brown Tabby\"}\\n,{\"animal_id\":\"A843562\",\"datetime\":\"2021-10-17T10:26:00.000\",\"monthyear\":\"2021-10-17T10:26:00.000\",\"date_of_birth\":\"2020-10-03T00:00:00.000\",\"animal_type\":\"Cat\",\"sex_upon_outcome\":\"Intact Female\",\"age_upon_outcome\":\"NULL\",\"breed\":\"Domestic Shorthair\",\"color\":\"Black\"}\\n,{\"animal_id\":\"A841281\",\"name\":\"Dr. King Shultz\",\"datetime\":\"2021-10-16T19:14:00.000\",\"monthyear\":\"2021-10-16T19:14:00.000\",\"date_of_birth\":\"2020-10-25T00:00:00.000\",\"outcome_type\":\"Adoption\",\"animal_type\":\"Dog\",\"sex_upon_outcome\":\"Neutered Male\",\"age_upon_outcome\":\"11 months\",\"breed\":\"Pit Bull Mix\",\"color\":\"Brown/White\"}\\n,{\"animal_id\":\"A844448\",\"name\":\"Jackson\",\"datetime\":\"2021-10-16T18:57:00.000\",\"monthyear\":\"2021-10-16T18:57:00.000\",\"date_of_birth\":\"2019-10-16T00:00:00.000\",\"outcome_type\":\"Return to Owner\",\"animal_type\":\"Dog\",\"sex_upon_outcome\":\"Intact Male\",\"age_upon_outcome\":\"2 years\",\"breed\":\"Flat Coat Retriever Mix\",\"color\":\"Brown/Black\"}\\n,{\"animal_id\":\"A844276\",\"datetime\":\"2021-10-16T18:21:00.000\",\"monthyear\":\"2021-10-16T18:21:00.000\",\"date_of_birth\":\"2021-09-14T00:00:00.000\",\"outcome_type\":\"Transfer\",\"outcome_subtype\":\"Partner\",\"animal_type\":\"Cat\",\"sex_upon_outcome\":\"Intact Male\",\"age_upon_outcome\":\"4 weeks\",\"breed\":\"Domestic Shorthair\",\"color\":\"Black/White\"}\\n,{\"animal_id\":\"A844525\",\"name\":\"A844525\",\"datetime\":\"2021-10-16T18:18:00.000\",\"monthyear\":\"2021-10-16T18:18:00.000\",\"date_of_birth\":\"2021-10-09T00:00:00.000\",\"outcome_type\":\"Transfer\",\"outcome_subtype\":\"Partner\",\"animal_type\":\"Cat\",\"sex_upon_outcome\":\"Unknown\",\"age_upon_outcome\":\"1 week\",\"breed\":\"Domestic Shorthair\",\"color\":\"Black\"}\\n,{\"animal_id\":\"A842418\",\"name\":\"*Slim Jim\",\"datetime\":\"2021-10-16T17:45:00.000\",\"monthyear\":\"2021-10-16T17:45:00.000\",\"date_of_birth\":\"2019-09-15T00:00:00.000\",\"outcome_type\":\"Adoption\",\"animal_type\":\"Dog\",\"sex_upon_outcome\":\"Neutered Male\",\"age_upon_outcome\":\"2 years\",\"breed\":\"Australian Kelpie Mix\",\"color\":\"Black/Brown Brindle\"}\\n,{\"animal_id\":\"A844485\",\"name\":\"Emma\",\"datetime\":\"2021-10-16T17:41:00.000\",\"monthyear\":\"2021-10-16T17:41:00.000\",\"date_of_birth\":\"2017-10-16T00:00:00.000\",\"outcome_type\":\"Return to Owner\",\"animal_type\":\"Dog\",\"sex_upon_outcome\":\"Intact Female\",\"age_upon_outcome\":\"4 years\",\"breed\":\"Old English Sheepdog Mix\",\"color\":\"Gray/White\"}\\n,{\"animal_id\":\"A840130\",\"name\":\"*Beacon\",\"datetime\":\"2021-10-16T17:18:00.000\",\"monthyear\":\"2021-10-16T17:18:00.000\",\"date_of_birth\":\"2021-01-02T00:00:00.000\",\"outcome_type\":\"Adoption\",\"animal_type\":\"Dog\",\"sex_upon_outcome\":\"Neutered Male\",\"age_upon_outcome\":\"9 months\",\"breed\":\"Great Pyrenees\",\"color\":\"White\"}\\n,{\"animal_id\":\"A841034\",\"name\":\"*Thundermuffin\",\"datetime\":\"2021-10-16T16:31:00.000\",\"monthyear\":\"2021-10-16T16:31:00.000\",\"date_of_birth\":\"2015-08-19T00:00:00.000\",\"outcome_type\":\"Adoption\",\"animal_type\":\"Cat\",\"sex_upon_outcome\":\"Neutered Male\",\"age_upon_outcome\":\"6 years\",\"breed\":\"Domestic Medium Hair\",\"color\":\"Orange Tabby\"}\\n,{\"animal_id\":\"A842702\",\"name\":\"A842702\",\"datetime\":\"2021-10-16T16:16:00.000\",\"monthyear\":\"2021-10-16T16:16:00.000\",\"date_of_birth\":\"2021-07-08T00:00:00.000\",\"outcome_type\":\"Adoption\",\"animal_type\":\"Cat\",\"sex_upon_outcome\":\"Neutered Male\",\"age_upon_outcome\":\"3 months\",\"breed\":\"Domestic Shorthair\",\"color\":\"Brown Tabby/White\"}\\n,{\"animal_id\":\"A843006\",\"name\":\"*Baby Blue\",\"datetime\":\"2021-10-16T16:13:00.000\",\"monthyear\":\"2021-10-16T16:13:00.000\",\"date_of_birth\":\"2021-08-24T00:00:00.000\",\"outcome_type\":\"Transfer\",\"outcome_subtype\":\"Partner\",\"animal_type\":\"Cat\",\"sex_upon_outcome\":\"Intact Male\",\"age_upon_outcome\":\"1 month\",\"breed\":\"Domestic Shorthair Mix\",\"color\":\"Blue\"}\\n,{\"animal_id\":\"A843412\",\"name\":\"A843412\",\"datetime\":\"2021-10-16T16:04:00.000\",\"monthyear\":\"2021-10-16T16:04:00.000\",\"date_of_birth\":\"2021-06-30T00:00:00.000\",\"outcome_type\":\"Transfer\",\"outcome_subtype\":\"Partner\",\"animal_type\":\"Cat\",\"sex_upon_outcome\":\"Intact Male\",\"age_upon_outcome\":\"3 months\",\"breed\":\"Domestic Shorthair\",\"color\":\"Blue\"}\\n,{\"animal_id\":\"A843914\",\"name\":\"A843914\",\"datetime\":\"2021-10-16T15:34:00.000\",\"monthyear\":\"2021-10-16T15:34:00.000\",\"date_of_birth\":\"2015-10-08T00:00:00.000\",\"outcome_type\":\"Transfer\",\"outcome_subtype\":\"Snr\",\"animal_type\":\"Cat\",\"sex_upon_outcome\":\"Neutered Male\",\"age_upon_outcome\":\"6 years\",\"breed\":\"Domestic Shorthair\",\"color\":\"Brown Tabby\"}\\n,{\"animal_id\":\"A842701\",\"name\":\"A842701\",\"datetime\":\"2021-10-16T15:26:00.000\",\"monthyear\":\"2021-10-16T15:26:00.000\",\"date_of_birth\":\"2021-07-08T00:00:00.000\",\"outcome_type\":\"Adoption\",\"animal_type\":\"Cat\",\"sex_upon_outcome\":\"Spayed Female\",\"age_upon_outcome\":\"3 months\",\"breed\":\"Domestic Shorthair\",\"color\":\"Brown Tabby/White\"}\\n,{\"animal_id\":\"A774838\",\"datetime\":\"2021-10-16T15:15:00.000\",\"monthyear\":\"2021-10-16T15:15:00.000\",\"date_of_birth\":\"2017-06-20T00:00:00.000\",\"outcome_type\":\"Euthanasia\",\"outcome_subtype\":\"Suffering\",\"animal_type\":\"Cat\",\"sex_upon_outcome\":\"Neutered Male\",\"age_upon_outcome\":\"4 years\",\"breed\":\"Domestic Shorthair Mix\",\"color\":\"Blue/White\"}\\n,{\"animal_id\":\"A844409\",\"name\":\"A844409\",\"datetime\":\"2021-10-16T14:43:00.000\",\"monthyear\":\"2021-10-16T14:43:00.000\",\"date_of_birth\":\"2020-10-15T00:00:00.000\",\"outcome_type\":\"Return to Owner\",\"animal_type\":\"Dog\",\"sex_upon_outcome\":\"Intact Female\",\"age_upon_outcome\":\"1 year\",\"breed\":\"Pug\",\"color\":\"Fawn/Black\"}\\n,{\"animal_id\":\"A844408\",\"name\":\"A844408\",\"datetime\":\"2021-10-16T14:42:00.000\",\"monthyear\":\"2021-10-16T14:42:00.000\",\"date_of_birth\":\"2021-01-15T00:00:00.000\",\"outcome_type\":\"Return to Owner\",\"animal_type\":\"Dog\",\"sex_upon_outcome\":\"Intact Male\",\"age_upon_outcome\":\"9 months\",\"breed\":\"Rottweiler\",\"color\":\"Black/Brown\"}\\n,{\"animal_id\":\"A844407\",\"name\":\"A844407\",\"datetime\":\"2021-10-16T14:41:00.000\",\"monthyear\":\"2021-10-16T14:41:00.000\",\"date_of_birth\":\"2021-01-15T00:00:00.000\",\"outcome_type\":\"Return to Owner\",\"animal_type\":\"Dog\",\"sex_upon_outcome\":\"Intact Male\",\"age_upon_outcome\":\"9 months\",\"breed\":\"Rottweiler\",\"color\":\"Black/Brown\"}\\n,{\"animal_id\":\"A844099\",\"name\":\"Hanna\",\"datetime\":\"2021-10-16T13:27:00.000\",\"monthyear\":\"2021-10-16T13:27:00.000\",\"date_of_birth\":\"2014-01-12T00:00:00.000\",\"outcome_type\":\"Adoption\",\"animal_type\":\"Cat\",\"sex_upon_outcome\":\"Spayed Female\",\"age_upon_outcome\":\"7 years\",\"breed\":\"Domestic Shorthair\",\"color\":\"Blue/White\"}\\n,{\"animal_id\":\"A843804\",\"name\":\"*Mavis\",\"datetime\":\"2021-10-16T13:19:00.000\",\"monthyear\":\"2021-10-16T13:19:00.000\",\"date_of_birth\":\"2021-03-06T00:00:00.000\",\"outcome_type\":\"Adoption\",\"animal_type\":\"Cat\",\"sex_upon_outcome\":\"Spayed Female\",\"age_upon_outcome\":\"7 months\",\"breed\":\"Domestic Medium Hair Mix\",\"color\":\"Black\"}\\n,{\"animal_id\":\"A843797\",\"name\":\"Ralphie\",\"datetime\":\"2021-10-16T12:47:00.000\",\"monthyear\":\"2021-10-16T12:47:00.000\",\"date_of_birth\":\"2019-10-06T00:00:00.000\",\"outcome_type\":\"Return to Owner\",\"animal_type\":\"Cat\",\"sex_upon_outcome\":\"Neutered Male\",\"age_upon_outcome\":\"2 years\",\"breed\":\"Domestic Shorthair\",\"color\":\"Orange Tabby\"}\\n,{\"animal_id\":\"A843496\",\"name\":\"Cheddar\",\"datetime\":\"2021-10-16T12:19:00.000\",\"monthyear\":\"2021-10-16T12:19:00.000\",\"date_of_birth\":\"2019-10-01T00:00:00.000\",\"outcome_type\":\"Adoption\",\"animal_type\":\"Cat\",\"sex_upon_outcome\":\"Neutered Male\",\"age_upon_outcome\":\"2 years\",\"breed\":\"Domestic Shorthair\",\"color\":\"Orange Tabby\"}\\n,{\"animal_id\":\"A841090\",\"name\":\"Macaroni\",\"datetime\":\"2021-10-16T11:55:00.000\",\"monthyear\":\"2021-10-16T11:55:00.000\",\"date_of_birth\":\"2021-07-13T00:00:00.000\",\"outcome_type\":\"Adoption\",\"animal_type\":\"Cat\",\"sex_upon_outcome\":\"Spayed Female\",\"age_upon_outcome\":\"3 months\",\"breed\":\"Domestic Shorthair\",\"color\":\"Orange Tabby\"}\\n,{\"animal_id\":\"A759191\",\"name\":\"Elena\",\"datetime\":\"2021-10-16T11:36:00.000\",\"monthyear\":\"2021-10-16T11:36:00.000\",\"date_of_birth\":\"2017-03-28T00:00:00.000\",\"outcome_type\":\"Adoption\",\"animal_type\":\"Cat\",\"sex_upon_outcome\":\"Spayed Female\",\"age_upon_outcome\":\"4 years\",\"breed\":\"Domestic Shorthair Mix\",\"color\":\"Blue Cream\"}\\n,{\"animal_id\":\"A708411\",\"name\":\"Bravi\",\"datetime\":\"2021-10-16T10:00:00.000\",\"monthyear\":\"2021-10-16T10:00:00.000\",\"date_of_birth\":\"2013-07-27T00:00:00.000\",\"outcome_type\":\"Return to Owner\",\"animal_type\":\"Dog\",\"sex_upon_outcome\":\"Neutered Male\",\"age_upon_outcome\":\"8 years\",\"breed\":\"Carolina Dog Mix\",\"color\":\"Red/White\"}\\n,{\"animal_id\":\"A841087\",\"name\":\"*Silk\",\"datetime\":\"2021-10-15T18:55:00.000\",\"monthyear\":\"2021-10-15T18:55:00.000\",\"date_of_birth\":\"2021-07-13T00:00:00.000\",\"outcome_type\":\"Adoption\",\"animal_type\":\"Cat\",\"sex_upon_outcome\":\"Spayed Female\",\"age_upon_outcome\":\"3 months\",\"breed\":\"Domestic Shorthair\",\"color\":\"Orange Tabby\"}\\n,{\"animal_id\":\"A838956\",\"name\":\"Rosie\",\"datetime\":\"2021-10-15T18:35:00.000\",\"monthyear\":\"2021-10-15T18:35:00.000\",\"date_of_birth\":\"2019-07-14T00:00:00.000\",\"outcome_type\":\"Adoption\",\"animal_type\":\"Dog\",\"sex_upon_outcome\":\"Spayed Female\",\"age_upon_outcome\":\"2 years\",\"breed\":\"Beagle\",\"color\":\"Tricolor\"}\\n,{\"animal_id\":\"A844395\",\"name\":\"295 Grams\",\"datetime\":\"2021-10-15T18:33:00.000\",\"monthyear\":\"2021-10-15T18:33:00.000\",\"date_of_birth\":\"2021-09-30T00:00:00.000\",\"outcome_type\":\"Transfer\",\"outcome_subtype\":\"Partner\",\"animal_type\":\"Cat\",\"sex_upon_outcome\":\"Intact Female\",\"age_upon_outcome\":\"2 weeks\",\"breed\":\"Domestic Shorthair Mix\",\"color\":\"Black\"}\\n,{\"animal_id\":\"A844393\",\"name\":\"371 Grams\",\"datetime\":\"2021-10-15T18:33:00.000\",\"monthyear\":\"2021-10-15T18:33:00.000\",\"date_of_birth\":\"2021-09-24T00:00:00.000\",\"outcome_type\":\"Transfer\",\"outcome_subtype\":\"Partner\",\"animal_type\":\"Cat\",\"sex_upon_outcome\":\"Intact Male\",\"age_upon_outcome\":\"3 weeks\",\"breed\":\"Domestic Shorthair Mix\",\"color\":\"Black\"}\\n,{\"animal_id\":\"A844394\",\"name\":\"282 Grams\",\"datetime\":\"2021-10-15T18:33:00.000\",\"monthyear\":\"2021-10-15T18:33:00.000\",\"date_of_birth\":\"2021-09-24T00:00:00.000\",\"outcome_type\":\"Transfer\",\"outcome_subtype\":\"Partner\",\"animal_type\":\"Cat\",\"sex_upon_outcome\":\"Intact Female\",\"age_upon_outcome\":\"3 weeks\",\"breed\":\"Domestic Shorthair Mix\",\"color\":\"Tortie\"}\\n,{\"animal_id\":\"A626769\",\"name\":\"Daisy\",\"datetime\":\"2021-10-15T18:22:00.000\",\"monthyear\":\"2021-10-15T18:22:00.000\",\"date_of_birth\":\"2010-11-10T00:00:00.000\",\"outcome_type\":\"Return to Owner\",\"animal_type\":\"Dog\",\"sex_upon_outcome\":\"Spayed Female\",\"age_upon_outcome\":\"10 years\",\"breed\":\"Pit Bull Mix\",\"color\":\"Tan/White\"}\\n,{\"animal_id\":\"A842177\",\"name\":\"*Chico\",\"datetime\":\"2021-10-15T18:14:00.000\",\"monthyear\":\"2021-10-15T18:14:00.000\",\"date_of_birth\":\"2021-03-27T00:00:00.000\",\"outcome_type\":\"Adoption\",\"animal_type\":\"Dog\",\"sex_upon_outcome\":\"Neutered Male\",\"age_upon_outcome\":\"6 months\",\"breed\":\"Pointer Mix\",\"color\":\"White/Black\"}\\n,{\"animal_id\":\"A844264\",\"name\":\"Oso\",\"datetime\":\"2021-10-15T17:58:00.000\",\"monthyear\":\"2021-10-15T17:58:00.000\",\"date_of_birth\":\"2021-06-11T00:00:00.000\",\"outcome_type\":\"Return to Owner\",\"animal_type\":\"Dog\",\"sex_upon_outcome\":\"Intact Male\",\"age_upon_outcome\":\"4 months\",\"breed\":\"Pit Bull\",\"color\":\"White\"}\\n,{\"animal_id\":\"A844266\",\"name\":\"Travieso\",\"datetime\":\"2021-10-15T17:58:00.000\",\"monthyear\":\"2021-10-15T17:58:00.000\",\"date_of_birth\":\"2021-06-11T00:00:00.000\",\"outcome_type\":\"Return to Owner\",\"animal_type\":\"Dog\",\"sex_upon_outcome\":\"Intact Male\",\"age_upon_outcome\":\"4 months\",\"breed\":\"Pit Bull\",\"color\":\"Black/White\"}\\n,{\"animal_id\":\"A843916\",\"name\":\"A843916\",\"datetime\":\"2021-10-15T17:53:00.000\",\"monthyear\":\"2021-10-15T17:53:00.000\",\"date_of_birth\":\"2021-07-18T00:00:00.000\",\"outcome_type\":\"Adoption\",\"animal_type\":\"Cat\",\"sex_upon_outcome\":\"Spayed Female\",\"age_upon_outcome\":\"2 months\",\"breed\":\"Domestic Medium Hair\",\"color\":\"Calico\"}\\n,{\"animal_id\":\"A844391\",\"name\":\"Chela\",\"datetime\":\"2021-10-15T17:36:00.000\",\"monthyear\":\"2021-10-15T17:36:00.000\",\"date_of_birth\":\"2020-10-15T00:00:00.000\",\"outcome_type\":\"Return to Owner\",\"animal_type\":\"Dog\",\"sex_upon_outcome\":\"Intact Female\",\"age_upon_outcome\":\"1 year\",\"breed\":\"Labrador Retriever/German Shepherd\",\"color\":\"Brown/White\"}\\n,{\"animal_id\":\"A844377\",\"name\":\"A844377\",\"datetime\":\"2021-10-15T17:19:00.000\",\"monthyear\":\"2021-10-15T17:19:00.000\",\"date_of_birth\":\"2021-07-15T00:00:00.000\",\"outcome_type\":\"Transfer\",\"outcome_subtype\":\"Partner\",\"animal_type\":\"Cat\",\"sex_upon_outcome\":\"Intact Male\",\"age_upon_outcome\":\"3 months\",\"breed\":\"Domestic Shorthair Mix\",\"color\":\"Black\"}\\n,{\"animal_id\":\"A844078\",\"name\":\"Mystery\",\"datetime\":\"2021-10-15T17:18:00.000\",\"monthyear\":\"2021-10-15T17:18:00.000\",\"date_of_birth\":\"2021-04-11T00:00:00.000\",\"outcome_type\":\"Adoption\",\"animal_type\":\"Cat\",\"sex_upon_outcome\":\"Spayed Female\",\"age_upon_outcome\":\"6 months\",\"breed\":\"Domestic Shorthair\",\"color\":\"Tortie\"}\\n,{\"animal_id\":\"A843877\",\"name\":\"Rosie\",\"datetime\":\"2021-10-15T16:31:00.000\",\"monthyear\":\"2021-10-15T16:31:00.000\",\"date_of_birth\":\"2021-05-07T00:00:00.000\",\"outcome_type\":\"Adoption\",\"animal_type\":\"Cat\",\"sex_upon_outcome\":\"Spayed Female\",\"age_upon_outcome\":\"5 months\",\"breed\":\"Domestic Shorthair Mix\",\"color\":\"Calico\"}\\n,{\"animal_id\":\"A843760\",\"name\":\"Rocky\",\"datetime\":\"2021-10-15T16:14:00.000\",\"monthyear\":\"2021-10-15T16:14:00.000\",\"date_of_birth\":\"2020-10-06T00:00:00.000\",\"outcome_type\":\"Adoption\",\"animal_type\":\"Dog\",\"sex_upon_outcome\":\"Neutered Male\",\"age_upon_outcome\":\"1 year\",\"breed\":\"Rottweiler Mix\",\"color\":\"Black/Brown\"}\\n,{\"animal_id\":\"A844186\",\"name\":\"Bruno\",\"datetime\":\"2021-10-15T16:09:00.000\",\"monthyear\":\"2021-10-15T16:09:00.000\",\"date_of_birth\":\"2019-10-13T00:00:00.000\",\"outcome_type\":\"Rto-Adopt\",\"animal_type\":\"Dog\",\"sex_upon_outcome\":\"Neutered Male\",\"age_upon_outcome\":\"2 years\",\"breed\":\"Pit Bull\",\"color\":\"White/Black\"}\\n,{\"animal_id\":\"A843610\",\"name\":\"A843610\",\"datetime\":\"2021-10-15T15:31:00.000\",\"monthyear\":\"2021-10-15T15:31:00.000\",\"date_of_birth\":\"2021-06-22T00:00:00.000\",\"outcome_type\":\"Adoption\",\"animal_type\":\"Cat\",\"sex_upon_outcome\":\"Spayed Female\",\"age_upon_outcome\":\"3 months\",\"breed\":\"Domestic Shorthair\",\"color\":\"Brown Tabby\"}\\n,{\"animal_id\":\"A841182\",\"name\":\"*Emily\",\"datetime\":\"2021-10-15T15:01:00.000\",\"monthyear\":\"2021-10-15T15:01:00.000\",\"date_of_birth\":\"2021-08-14T00:00:00.000\",\"outcome_type\":\"Adoption\",\"animal_type\":\"Dog\",\"sex_upon_outcome\":\"Spayed Female\",\"age_upon_outcome\":\"2 months\",\"breed\":\"American Staffordshire Terrier Mix\",\"color\":\"White\"}\\n,{\"animal_id\":\"A844348\",\"name\":\"193 Grams\",\"datetime\":\"2021-10-15T15:00:00.000\",\"monthyear\":\"2021-10-15T15:00:00.000\",\"date_of_birth\":\"2021-09-24T00:00:00.000\",\"outcome_type\":\"Transfer\",\"outcome_subtype\":\"Partner\",\"animal_type\":\"Cat\",\"sex_upon_outcome\":\"Intact Female\",\"age_upon_outcome\":\"3 weeks\",\"breed\":\"Domestic Shorthair Mix\",\"color\":\"Orange Tabby/White\"}\\n,{\"animal_id\":\"A844345\",\"name\":\"156 Grams\",\"datetime\":\"2021-10-15T15:00:00.000\",\"monthyear\":\"2021-10-15T15:00:00.000\",\"date_of_birth\":\"2021-09-24T00:00:00.000\",\"outcome_type\":\"Transfer\",\"outcome_subtype\":\"Partner\",\"animal_type\":\"Cat\",\"sex_upon_outcome\":\"Intact Male\",\"age_upon_outcome\":\"3 weeks\",\"breed\":\"Domestic Shorthair Mix\",\"color\":\"White/Orange Tabby\"}\\n,{\"animal_id\":\"A844343\",\"name\":\"181 Grams\",\"datetime\":\"2021-10-15T15:00:00.000\",\"monthyear\":\"2021-10-15T15:00:00.000\",\"date_of_birth\":\"2021-09-24T00:00:00.000\",\"outcome_type\":\"Transfer\",\"outcome_subtype\":\"Partner\",\"animal_type\":\"Cat\",\"sex_upon_outcome\":\"Unknown\",\"age_upon_outcome\":\"3 weeks\",\"breed\":\"Domestic Shorthair Mix\",\"color\":\"Black/White\"}\\n,{\"animal_id\":\"A844383\",\"name\":\"A844383\",\"datetime\":\"2021-10-15T15:00:00.000\",\"monthyear\":\"2021-10-15T15:00:00.000\",\"date_of_birth\":\"2021-09-18T00:00:00.000\",\"outcome_type\":\"Transfer\",\"outcome_subtype\":\"Partner\",\"animal_type\":\"Cat\",\"sex_upon_outcome\":\"Intact Female\",\"age_upon_outcome\":\"3 weeks\",\"breed\":\"Domestic Longhair Mix\",\"color\":\"Blue\"}\\n,{\"animal_id\":\"A844347\",\"name\":\"176 Grams\",\"datetime\":\"2021-10-15T15:00:00.000\",\"monthyear\":\"2021-10-15T15:00:00.000\",\"date_of_birth\":\"2021-09-24T00:00:00.000\",\"outcome_type\":\"Transfer\",\"outcome_subtype\":\"Partner\",\"animal_type\":\"Cat\",\"sex_upon_outcome\":\"Intact Male\",\"age_upon_outcome\":\"3 weeks\",\"breed\":\"Domestic Shorthair Mix\",\"color\":\"Orange Tabby/White\"}\\n,{\"animal_id\":\"A844346\",\"name\":\"161 Grams\",\"datetime\":\"2021-10-15T15:00:00.000\",\"monthyear\":\"2021-10-15T15:00:00.000\",\"date_of_birth\":\"2021-09-24T00:00:00.000\",\"outcome_type\":\"Transfer\",\"outcome_subtype\":\"Partner\",\"animal_type\":\"Cat\",\"sex_upon_outcome\":\"Intact Male\",\"age_upon_outcome\":\"3 weeks\",\"breed\":\"Domestic Shorthair Mix\",\"color\":\"Orange Tabby/White\"}\\n,{\"animal_id\":\"A844048\",\"name\":\"*Star Lord\",\"datetime\":\"2021-10-15T13:12:00.000\",\"monthyear\":\"2021-10-15T13:12:00.000\",\"date_of_birth\":\"2019-10-11T00:00:00.000\",\"outcome_type\":\"Transfer\",\"outcome_subtype\":\"Out State\",\"animal_type\":\"Dog\",\"sex_upon_outcome\":\"Intact Male\",\"age_upon_outcome\":\"2 years\",\"breed\":\"Boxer\",\"color\":\"Brown/White\"}\\n,{\"animal_id\":\"A842420\",\"name\":\"*Phantom\",\"datetime\":\"2021-10-15T13:12:00.000\",\"monthyear\":\"2021-10-15T13:12:00.000\",\"date_of_birth\":\"2021-01-15T00:00:00.000\",\"outcome_type\":\"Transfer\",\"outcome_subtype\":\"Out State\",\"animal_type\":\"Dog\",\"sex_upon_outcome\":\"Neutered Male\",\"age_upon_outcome\":\"8 months\",\"breed\":\"Blue Lacy\",\"color\":\"Blue/White\"}\\n,{\"animal_id\":\"A842488\",\"name\":\"*Chisolm\",\"datetime\":\"2021-10-15T13:11:00.000\",\"monthyear\":\"2021-10-15T13:11:00.000\",\"date_of_birth\":\"2021-06-16T00:00:00.000\",\"outcome_type\":\"Transfer\",\"outcome_subtype\":\"Out State\",\"animal_type\":\"Dog\",\"sex_upon_outcome\":\"Neutered Male\",\"age_upon_outcome\":\"3 months\",\"breed\":\"Dachshund Mix\",\"color\":\"Black/White\"}\\n,{\"animal_id\":\"A844028\",\"name\":\"*Toffee\",\"datetime\":\"2021-10-15T13:11:00.000\",\"monthyear\":\"2021-10-15T13:11:00.000\",\"date_of_birth\":\"2019-10-11T00:00:00.000\",\"outcome_type\":\"Transfer\",\"outcome_subtype\":\"Out State\",\"animal_type\":\"Dog\",\"sex_upon_outcome\":\"Intact Female\",\"age_upon_outcome\":\"2 years\",\"breed\":\"Boxer Mix\",\"color\":\"Brown Brindle/White\"}\\n,{\"animal_id\":\"A841908\",\"name\":\"Thanatos\",\"datetime\":\"2021-10-15T12:51:00.000\",\"monthyear\":\"2021-10-15T12:51:00.000\",\"date_of_birth\":\"2021-05-05T00:00:00.000\",\"outcome_type\":\"Adoption\",\"animal_type\":\"Cat\",\"sex_upon_outcome\":\"Neutered Male\",\"age_upon_outcome\":\"5 months\",\"breed\":\"Domestic Shorthair\",\"color\":\"Black\"}\\n,{\"animal_id\":\"A836692\",\"name\":\"Clarabelle\",\"datetime\":\"2021-10-15T12:40:00.000\",\"monthyear\":\"2021-10-15T12:40:00.000\",\"date_of_birth\":\"2021-06-07T00:00:00.000\",\"outcome_type\":\"Adoption\",\"animal_type\":\"Dog\",\"sex_upon_outcome\":\"Spayed Female\",\"age_upon_outcome\":\"4 months\",\"breed\":\"Basenji Mix\",\"color\":\"Black/White\"}\\n,{\"animal_id\":\"A841184\",\"name\":\"Luna-Moon\",\"datetime\":\"2021-10-15T12:21:00.000\",\"monthyear\":\"2021-10-15T12:21:00.000\",\"date_of_birth\":\"2021-08-14T00:00:00.000\",\"outcome_type\":\"Adoption\",\"animal_type\":\"Dog\",\"sex_upon_outcome\":\"Spayed Female\",\"age_upon_outcome\":\"2 months\",\"breed\":\"American Staffordshire Terrier Mix\",\"color\":\"Blue/White\"}\\n,{\"animal_id\":\"A844081\",\"name\":\"A844081\",\"datetime\":\"2021-10-15T12:16:00.000\",\"monthyear\":\"2021-10-15T12:16:00.000\",\"date_of_birth\":\"2017-10-11T00:00:00.000\",\"outcome_type\":\"Transfer\",\"outcome_subtype\":\"Partner\",\"animal_type\":\"Dog\",\"sex_upon_outcome\":\"Neutered Male\",\"age_upon_outcome\":\"4 years\",\"breed\":\"Yorkshire Terrier Mix\",\"color\":\"Tan/White\"}\\n,{\"animal_id\":\"A842283\",\"name\":\"*Smudge\",\"datetime\":\"2021-10-15T11:42:00.000\",\"monthyear\":\"2021-10-15T11:42:00.000\",\"date_of_birth\":\"2019-09-13T00:00:00.000\",\"outcome_type\":\"Adoption\",\"animal_type\":\"Dog\",\"sex_upon_outcome\":\"Neutered Male\",\"age_upon_outcome\":\"2 years\",\"breed\":\"Australian Cattle Dog Mix\",\"color\":\"Tricolor/Red\"}\\n,{\"animal_id\":\"A844042\",\"datetime\":\"2021-10-15T11:03:00.000\",\"monthyear\":\"2021-10-15T11:03:00.000\",\"date_of_birth\":\"2019-10-11T00:00:00.000\",\"outcome_type\":\"Transfer\",\"outcome_subtype\":\"Partner\",\"animal_type\":\"Dog\",\"sex_upon_outcome\":\"Intact Female\",\"age_upon_outcome\":\"2 years\",\"breed\":\"Shih Tzu\",\"color\":\"Tan/White\"}\\n,{\"animal_id\":\"A839230\",\"name\":\"A839230\",\"datetime\":\"2021-10-15T10:35:00.000\",\"monthyear\":\"2021-10-15T10:35:00.000\",\"date_of_birth\":\"2021-07-17T00:00:00.000\",\"outcome_type\":\"Adoption\",\"animal_type\":\"Cat\",\"sex_upon_outcome\":\"Spayed Female\",\"age_upon_outcome\":\"2 months\",\"breed\":\"Domestic Shorthair\",\"color\":\"Brown Tabby\"}\\n,{\"animal_id\":\"A844253\",\"datetime\":\"2021-10-15T09:14:00.000\",\"monthyear\":\"2021-10-15T09:14:00.000\",\"date_of_birth\":\"2020-10-14T00:00:00.000\",\"outcome_type\":\"Euthanasia\",\"outcome_subtype\":\"Rabies Risk\",\"animal_type\":\"Other\",\"sex_upon_outcome\":\"Unknown\",\"age_upon_outcome\":\"1 year\",\"breed\":\"Bat\",\"color\":\"Brown\"}\\n,{\"animal_id\":\"A844047\",\"datetime\":\"2021-10-15T06:00:00.000\",\"monthyear\":\"2021-10-15T06:00:00.000\",\"date_of_birth\":\"2019-10-11T00:00:00.000\",\"outcome_type\":\"Euthanasia\",\"outcome_subtype\":\"Rabies Risk\",\"animal_type\":\"Other\",\"sex_upon_outcome\":\"Unknown\",\"age_upon_outcome\":\"2 years\",\"breed\":\"Bat\",\"color\":\"Brown\"}\\n,{\"animal_id\":\"A844245\",\"name\":\"Azul\",\"datetime\":\"2021-10-14T19:19:00.000\",\"monthyear\":\"2021-10-14T19:19:00.000\",\"date_of_birth\":\"2018-10-14T00:00:00.000\",\"outcome_type\":\"Return to Owner\",\"animal_type\":\"Dog\",\"sex_upon_outcome\":\"Intact Male\",\"age_upon_outcome\":\"3 years\",\"breed\":\"Pit Bull\",\"color\":\"Blue/White\"}\\n,{\"animal_id\":\"A842381\",\"name\":\"Bino\",\"datetime\":\"2021-10-14T18:45:00.000\",\"monthyear\":\"2021-10-14T18:45:00.000\",\"date_of_birth\":\"2019-12-28T00:00:00.000\",\"outcome_type\":\"Adoption\",\"animal_type\":\"Dog\",\"sex_upon_outcome\":\"Neutered Male\",\"age_upon_outcome\":\"1 year\",\"breed\":\"Pit Bull Mix\",\"color\":\"Black/White\"}\\n,{\"animal_id\":\"A843545\",\"name\":\"*O\\'Lantern\",\"datetime\":\"2021-10-14T18:24:00.000\",\"monthyear\":\"2021-10-14T18:24:00.000\",\"date_of_birth\":\"2020-10-03T00:00:00.000\",\"outcome_type\":\"Adoption\",\"animal_type\":\"Cat\",\"sex_upon_outcome\":\"Neutered Male\",\"age_upon_outcome\":\"1 year\",\"breed\":\"Domestic Shorthair\",\"color\":\"Cream Tabby\"}\\n,{\"animal_id\":\"A843706\",\"name\":\"Trixie\",\"datetime\":\"2021-10-14T18:20:00.000\",\"monthyear\":\"2021-10-14T18:20:00.000\",\"date_of_birth\":\"2020-10-05T00:00:00.000\",\"outcome_type\":\"Adoption\",\"animal_type\":\"Cat\",\"sex_upon_outcome\":\"Spayed Female\",\"age_upon_outcome\":\"1 year\",\"breed\":\"Domestic Shorthair\",\"color\":\"Orange Tabby\"}\\n,{\"animal_id\":\"A842162\",\"name\":\"Meiko\",\"datetime\":\"2021-10-14T18:08:00.000\",\"monthyear\":\"2021-10-14T18:08:00.000\",\"date_of_birth\":\"2015-09-10T00:00:00.000\",\"outcome_type\":\"Adoption\",\"animal_type\":\"Cat\",\"sex_upon_outcome\":\"Spayed Female\",\"age_upon_outcome\":\"6 years\",\"breed\":\"Domestic Shorthair Mix\",\"color\":\"White/Orange Tabby\"}\\n,{\"animal_id\":\"A843772\",\"name\":\"A843772\",\"datetime\":\"2021-10-14T17:46:00.000\",\"monthyear\":\"2021-10-14T17:46:00.000\",\"date_of_birth\":\"2021-08-12T00:00:00.000\",\"outcome_type\":\"Adoption\",\"animal_type\":\"Cat\",\"sex_upon_outcome\":\"Spayed Female\",\"age_upon_outcome\":\"2 months\",\"breed\":\"Domestic Shorthair Mix\",\"color\":\"Tortie\"}\\n,{\"animal_id\":\"A843474\",\"name\":\"*Spencer\",\"datetime\":\"2021-10-14T17:43:00.000\",\"monthyear\":\"2021-10-14T17:43:00.000\",\"date_of_birth\":\"2019-10-01T00:00:00.000\",\"outcome_type\":\"Adoption\",\"animal_type\":\"Dog\",\"sex_upon_outcome\":\"Neutered Male\",\"age_upon_outcome\":\"2 years\",\"breed\":\"Great Pyrenees\",\"color\":\"White\"}\\n,{\"animal_id\":\"A843931\",\"name\":\"Blue\",\"datetime\":\"2021-10-14T17:42:00.000\",\"monthyear\":\"2021-10-14T17:42:00.000\",\"date_of_birth\":\"2019-10-08T00:00:00.000\",\"outcome_type\":\"Rto-Adopt\",\"animal_type\":\"Dog\",\"sex_upon_outcome\":\"Neutered Male\",\"age_upon_outcome\":\"2 years\",\"breed\":\"Pit Bull\",\"color\":\"White\"}\\n,{\"animal_id\":\"A844119\",\"name\":\"Max\",\"datetime\":\"2021-10-14T17:38:00.000\",\"monthyear\":\"2021-10-14T17:38:00.000\",\"date_of_birth\":\"2021-04-27T00:00:00.000\",\"outcome_type\":\"Adoption\",\"animal_type\":\"Cat\",\"sex_upon_outcome\":\"Neutered Male\",\"age_upon_outcome\":\"5 months\",\"breed\":\"Domestic Shorthair Mix\",\"color\":\"Brown Tabby/White\"}\\n,{\"animal_id\":\"A843835\",\"name\":\"Auggie\",\"datetime\":\"2021-10-14T17:24:00.000\",\"monthyear\":\"2021-10-14T17:24:00.000\",\"date_of_birth\":\"2020-10-07T00:00:00.000\",\"outcome_type\":\"Adoption\",\"animal_type\":\"Dog\",\"sex_upon_outcome\":\"Neutered Male\",\"age_upon_outcome\":\"1 year\",\"breed\":\"Cairn Terrier\",\"color\":\"Black/Brown\"}\\n,{\"animal_id\":\"A843949\",\"name\":\"Layla\",\"datetime\":\"2021-10-14T16:59:00.000\",\"monthyear\":\"2021-10-14T16:59:00.000\",\"date_of_birth\":\"2021-05-08T00:00:00.000\",\"outcome_type\":\"Adoption\",\"animal_type\":\"Dog\",\"sex_upon_outcome\":\"Spayed Female\",\"age_upon_outcome\":\"5 months\",\"breed\":\"German Shepherd Mix\",\"color\":\"Black/Brown\"}\\n,{\"animal_id\":\"A817342\",\"name\":\"Pup Pup\",\"datetime\":\"2021-10-14T16:52:00.000\",\"monthyear\":\"2021-10-14T16:52:00.000\",\"date_of_birth\":\"2019-05-13T00:00:00.000\",\"outcome_type\":\"Transfer\",\"outcome_subtype\":\"Partner\",\"animal_type\":\"Dog\",\"sex_upon_outcome\":\"Neutered Male\",\"age_upon_outcome\":\"2 years\",\"breed\":\"Pit Bull\",\"color\":\"Red/White\"}\\n,{\"animal_id\":\"A844120\",\"name\":\"Jax\",\"datetime\":\"2021-10-14T16:47:00.000\",\"monthyear\":\"2021-10-14T16:47:00.000\",\"date_of_birth\":\"2021-04-27T00:00:00.000\",\"outcome_type\":\"Adoption\",\"animal_type\":\"Cat\",\"sex_upon_outcome\":\"Neutered Male\",\"age_upon_outcome\":\"5 months\",\"breed\":\"Domestic Shorthair Mix\",\"color\":\"White/Blue\"}\\n,{\"animal_id\":\"A843646\",\"name\":\"A843646\",\"datetime\":\"2021-10-14T16:43:00.000\",\"monthyear\":\"2021-10-14T16:43:00.000\",\"date_of_birth\":\"2020-10-04T00:00:00.000\",\"outcome_type\":\"Transfer\",\"outcome_subtype\":\"Partner\",\"animal_type\":\"Bird\",\"sex_upon_outcome\":\"Unknown\",\"age_upon_outcome\":\"1 year\",\"breed\":\"Parakeet\",\"color\":\"White/Blue\"}\\n,{\"animal_id\":\"A843874\",\"name\":\"*Sammy\",\"datetime\":\"2021-10-14T16:30:00.000\",\"monthyear\":\"2021-10-14T16:30:00.000\",\"date_of_birth\":\"2020-12-07T00:00:00.000\",\"outcome_type\":\"Adoption\",\"animal_type\":\"Dog\",\"sex_upon_outcome\":\"Neutered Male\",\"age_upon_outcome\":\"10 months\",\"breed\":\"Chihuahua Shorthair Mix\",\"color\":\"Tan\"}\\n,{\"animal_id\":\"A843289\",\"name\":\"*Basil\",\"datetime\":\"2021-10-14T16:09:00.000\",\"monthyear\":\"2021-10-14T16:09:00.000\",\"date_of_birth\":\"2021-05-14T00:00:00.000\",\"outcome_type\":\"Adoption\",\"animal_type\":\"Cat\",\"sex_upon_outcome\":\"Neutered Male\",\"age_upon_outcome\":\"5 months\",\"breed\":\"Domestic Shorthair Mix\",\"color\":\"Brown Tabby\"}\\n,{\"animal_id\":\"A843939\",\"name\":\"Bb\",\"datetime\":\"2021-10-14T15:41:00.000\",\"monthyear\":\"2021-10-14T15:41:00.000\",\"date_of_birth\":\"2021-05-08T00:00:00.000\",\"outcome_type\":\"Adoption\",\"animal_type\":\"Dog\",\"sex_upon_outcome\":\"Spayed Female\",\"age_upon_outcome\":\"5 months\",\"breed\":\"Catahoula Mix\",\"color\":\"Brown Merle\"}\\n,{\"animal_id\":\"A843667\",\"name\":\"*Captain Underpants\",\"datetime\":\"2021-10-14T15:36:00.000\",\"monthyear\":\"2021-10-14T15:36:00.000\",\"date_of_birth\":\"2019-10-05T00:00:00.000\",\"outcome_type\":\"Transfer\",\"outcome_subtype\":\"Partner\",\"animal_type\":\"Dog\",\"sex_upon_outcome\":\"Intact Male\",\"age_upon_outcome\":\"2 years\",\"breed\":\"Boxer\",\"color\":\"White\"}\\n,{\"animal_id\":\"A842931\",\"name\":\"Harley\",\"datetime\":\"2021-10-14T12:38:00.000\",\"monthyear\":\"2021-10-14T12:38:00.000\",\"date_of_birth\":\"2021-07-16T00:00:00.000\",\"outcome_type\":\"Adoption\",\"animal_type\":\"Dog\",\"sex_upon_outcome\":\"Spayed Female\",\"age_upon_outcome\":\"2 months\",\"breed\":\"Labrador Retriever Mix\",\"color\":\"Black/White\"}\\n,{\"animal_id\":\"A844248\",\"datetime\":\"2021-10-14T12:11:00.000\",\"monthyear\":\"2021-10-14T12:11:00.000\",\"date_of_birth\":\"2019-10-14T00:00:00.000\",\"outcome_type\":\"Euthanasia\",\"outcome_subtype\":\"Rabies Risk\",\"animal_type\":\"Other\",\"sex_upon_outcome\":\"Unknown\",\"age_upon_outcome\":\"2 years\",\"breed\":\"Bat\",\"color\":\"Brown\"}\\n,{\"animal_id\":\"A844109\",\"name\":\"Luna\",\"datetime\":\"2021-10-14T11:09:00.000\",\"monthyear\":\"2021-10-14T11:09:00.000\",\"date_of_birth\":\"2020-10-12T00:00:00.000\",\"outcome_type\":\"Transfer\",\"outcome_subtype\":\"Partner\",\"animal_type\":\"Dog\",\"sex_upon_outcome\":\"Spayed Female\",\"age_upon_outcome\":\"1 year\",\"breed\":\"Collie Rough\",\"color\":\"White\"}\\n,{\"animal_id\":\"A844108\",\"name\":\"June\",\"datetime\":\"2021-10-14T11:09:00.000\",\"monthyear\":\"2021-10-14T11:09:00.000\",\"date_of_birth\":\"2020-04-12T00:00:00.000\",\"outcome_type\":\"Transfer\",\"outcome_subtype\":\"Partner\",\"animal_type\":\"Dog\",\"sex_upon_outcome\":\"Spayed Female\",\"age_upon_outcome\":\"1 year\",\"breed\":\"Collie Rough\",\"color\":\"Tricolor\"}\\n,{\"animal_id\":\"A843569\",\"name\":\"Boots\",\"datetime\":\"2021-10-14T08:43:00.000\",\"monthyear\":\"2021-10-14T08:43:00.000\",\"date_of_birth\":\"2021-05-04T00:00:00.000\",\"outcome_type\":\"Transfer\",\"outcome_subtype\":\"Partner\",\"animal_type\":\"Dog\",\"sex_upon_outcome\":\"Intact Male\",\"age_upon_outcome\":\"5 months\",\"breed\":\"Jack Russell Terrier Mix\",\"color\":\"White/Black\"}\\n,{\"animal_id\":\"A844065\",\"datetime\":\"2021-10-14T00:00:00.000\",\"monthyear\":\"2021-10-14T00:00:00.000\",\"date_of_birth\":\"2018-10-11T00:00:00.000\",\"outcome_type\":\"Transfer\",\"outcome_subtype\":\"Snr\",\"animal_type\":\"Cat\",\"sex_upon_outcome\":\"Intact Female\",\"age_upon_outcome\":\"3 years\",\"breed\":\"Domestic Shorthair\",\"color\":\"Blue Tabby\"}\\n,{\"animal_id\":\"A844046\",\"datetime\":\"2021-10-14T00:00:00.000\",\"monthyear\":\"2021-10-14T00:00:00.000\",\"date_of_birth\":\"2014-10-11T00:00:00.000\",\"outcome_type\":\"Transfer\",\"outcome_subtype\":\"Snr\",\"animal_type\":\"Cat\",\"sex_upon_outcome\":\"Intact Female\",\"age_upon_outcome\":\"7 years\",\"breed\":\"Domestic Shorthair Mix\",\"color\":\"Tortie\"}\\n,{\"animal_id\":\"A843619\",\"name\":\"Talliwalker\",\"datetime\":\"2021-10-13T18:48:00.000\",\"monthyear\":\"2021-10-13T18:48:00.000\",\"date_of_birth\":\"2021-08-04T00:00:00.000\",\"outcome_type\":\"Adoption\",\"animal_type\":\"Other\",\"sex_upon_outcome\":\"Intact Female\",\"age_upon_outcome\":\"2 months\",\"breed\":\"Guinea Pig\",\"color\":\"Black/Orange\"}\\n,{\"animal_id\":\"A843968\",\"name\":\"Shadow\",\"datetime\":\"2021-10-13T18:33:00.000\",\"monthyear\":\"2021-10-13T18:33:00.000\",\"date_of_birth\":\"2021-04-09T00:00:00.000\",\"outcome_type\":\"Return to Owner\",\"animal_type\":\"Dog\",\"sex_upon_outcome\":\"Intact Male\",\"age_upon_outcome\":\"6 months\",\"breed\":\"Border Collie\",\"color\":\"Black/White\"}\\n,{\"animal_id\":\"A843873\",\"name\":\"*Sandy\",\"datetime\":\"2021-10-13T18:27:00.000\",\"monthyear\":\"2021-10-13T18:27:00.000\",\"date_of_birth\":\"2021-07-30T00:00:00.000\",\"outcome_type\":\"Adoption\",\"animal_type\":\"Dog\",\"sex_upon_outcome\":\"Spayed Female\",\"age_upon_outcome\":\"2 months\",\"breed\":\"Dachshund Wirehair Mix\",\"color\":\"Tan\"}\\n,{\"animal_id\":\"A843884\",\"name\":\"Ollie\",\"datetime\":\"2021-10-13T18:24:00.000\",\"monthyear\":\"2021-10-13T18:24:00.000\",\"date_of_birth\":\"2019-10-07T00:00:00.000\",\"outcome_type\":\"Adoption\",\"animal_type\":\"Cat\",\"sex_upon_outcome\":\"Neutered Male\",\"age_upon_outcome\":\"2 years\",\"breed\":\"Domestic Longhair\",\"color\":\"Brown Tabby/White\"}\\n,{\"animal_id\":\"A843953\",\"name\":\"Davie\",\"datetime\":\"2021-10-13T18:18:00.000\",\"monthyear\":\"2021-10-13T18:18:00.000\",\"date_of_birth\":\"2021-07-24T00:00:00.000\",\"outcome_type\":\"Adoption\",\"animal_type\":\"Cat\",\"sex_upon_outcome\":\"Neutered Male\",\"age_upon_outcome\":\"2 months\",\"breed\":\"Domestic Shorthair\",\"color\":\"Brown Tabby\"}\\n,{\"animal_id\":\"A844239\",\"name\":\"Jero\",\"datetime\":\"2021-10-13T18:16:00.000\",\"monthyear\":\"2021-10-13T18:16:00.000\",\"date_of_birth\":\"2020-12-29T00:00:00.000\",\"outcome_type\":\"Return to Owner\",\"animal_type\":\"Dog\",\"sex_upon_outcome\":\"Intact Male\",\"age_upon_outcome\":\"9 months\",\"breed\":\"Rottweiler\",\"color\":\"Black/Tan\"}\\n,{\"animal_id\":\"A843792\",\"name\":\"Queen\",\"datetime\":\"2021-10-13T18:13:00.000\",\"monthyear\":\"2021-10-13T18:13:00.000\",\"date_of_birth\":\"2021-06-06T00:00:00.000\",\"outcome_type\":\"Adoption\",\"animal_type\":\"Dog\",\"sex_upon_outcome\":\"Spayed Female\",\"age_upon_outcome\":\"4 months\",\"breed\":\"Pit Bull Mix\",\"color\":\"Brown Brindle/White\"}\\n,{\"animal_id\":\"A843779\",\"name\":\"A843779\",\"datetime\":\"2021-10-13T17:57:00.000\",\"monthyear\":\"2021-10-13T17:57:00.000\",\"date_of_birth\":\"2021-08-06T00:00:00.000\",\"outcome_type\":\"Adoption\",\"animal_type\":\"Dog\",\"sex_upon_outcome\":\"Neutered Male\",\"age_upon_outcome\":\"2 months\",\"breed\":\"Labrador Retriever\",\"color\":\"Tricolor\"}\\n,{\"animal_id\":\"A843829\",\"name\":\"Nico\",\"datetime\":\"2021-10-13T17:45:00.000\",\"monthyear\":\"2021-10-13T17:45:00.000\",\"date_of_birth\":\"2021-03-07T00:00:00.000\",\"outcome_type\":\"Adoption\",\"animal_type\":\"Dog\",\"sex_upon_outcome\":\"Neutered Male\",\"age_upon_outcome\":\"7 months\",\"breed\":\"Labrador Retriever Mix\",\"color\":\"Black/White\"}\\n,{\"animal_id\":\"A843166\",\"name\":\"Flash\",\"datetime\":\"2021-10-13T17:40:00.000\",\"monthyear\":\"2021-10-13T17:40:00.000\",\"date_of_birth\":\"2021-02-28T00:00:00.000\",\"outcome_type\":\"Adoption\",\"animal_type\":\"Dog\",\"sex_upon_outcome\":\"Neutered Male\",\"age_upon_outcome\":\"7 months\",\"breed\":\"Plott Hound Mix\",\"color\":\"Brown Brindle/White\"}\\n,{\"animal_id\":\"A843778\",\"name\":\"A843778\",\"datetime\":\"2021-10-13T17:32:00.000\",\"monthyear\":\"2021-10-13T17:32:00.000\",\"date_of_birth\":\"2021-08-06T00:00:00.000\",\"outcome_type\":\"Adoption\",\"animal_type\":\"Dog\",\"sex_upon_outcome\":\"Spayed Female\",\"age_upon_outcome\":\"2 months\",\"breed\":\"Labrador Retriever\",\"color\":\"Tan/Black\"}\\n,{\"animal_id\":\"A841441\",\"name\":\"Zara\",\"datetime\":\"2021-10-13T17:31:00.000\",\"monthyear\":\"2021-10-13T17:31:00.000\",\"date_of_birth\":\"2019-08-27T00:00:00.000\",\"outcome_type\":\"Adoption\",\"animal_type\":\"Dog\",\"sex_upon_outcome\":\"Spayed Female\",\"age_upon_outcome\":\"2 years\",\"breed\":\"Queensland Heeler\",\"color\":\"Blue\"}\\n,{\"animal_id\":\"A843767\",\"name\":\"A843767\",\"datetime\":\"2021-10-13T17:19:00.000\",\"monthyear\":\"2021-10-13T17:19:00.000\",\"date_of_birth\":\"2021-04-21T00:00:00.000\",\"outcome_type\":\"Adoption\",\"animal_type\":\"Cat\",\"sex_upon_outcome\":\"Spayed Female\",\"age_upon_outcome\":\"5 months\",\"breed\":\"Domestic Shorthair\",\"color\":\"Tortie\"}\\n,{\"animal_id\":\"A843951\",\"name\":\"Baby\",\"datetime\":\"2021-10-13T17:07:00.000\",\"monthyear\":\"2021-10-13T17:07:00.000\",\"date_of_birth\":\"2021-07-24T00:00:00.000\",\"outcome_type\":\"Adoption\",\"animal_type\":\"Cat\",\"sex_upon_outcome\":\"Neutered Male\",\"age_upon_outcome\":\"2 months\",\"breed\":\"Domestic Shorthair\",\"color\":\"Black\"}\\n,{\"animal_id\":\"A843623\",\"name\":\"Breaux\",\"datetime\":\"2021-10-13T17:05:00.000\",\"monthyear\":\"2021-10-13T17:05:00.000\",\"date_of_birth\":\"2017-10-04T00:00:00.000\",\"outcome_type\":\"Return to Owner\",\"animal_type\":\"Dog\",\"sex_upon_outcome\":\"Intact Male\",\"age_upon_outcome\":\"4 years\",\"breed\":\"Pit Bull Mix\",\"color\":\"Tan/White\"}\\n,{\"animal_id\":\"A842699\",\"name\":\"A842699\",\"datetime\":\"2021-10-13T16:58:00.000\",\"monthyear\":\"2021-10-13T16:58:00.000\",\"date_of_birth\":\"2021-07-08T00:00:00.000\",\"outcome_type\":\"Adoption\",\"animal_type\":\"Cat\",\"sex_upon_outcome\":\"Neutered Male\",\"age_upon_outcome\":\"3 months\",\"breed\":\"Domestic Shorthair\",\"color\":\"Brown Tabby\"}\\n,{\"animal_id\":\"A841333\",\"name\":\"Bogart\",\"datetime\":\"2021-10-13T16:48:00.000\",\"monthyear\":\"2021-10-13T16:48:00.000\",\"date_of_birth\":\"2020-01-26T00:00:00.000\",\"outcome_type\":\"Adoption\",\"animal_type\":\"Dog\",\"sex_upon_outcome\":\"Neutered Male\",\"age_upon_outcome\":\"1 year\",\"breed\":\"Pit Bull\",\"color\":\"Black/White\"}\\n,{\"animal_id\":\"A843843\",\"name\":\"A843843\",\"datetime\":\"2021-10-13T16:26:00.000\",\"monthyear\":\"2021-10-13T16:26:00.000\",\"date_of_birth\":\"2021-07-07T00:00:00.000\",\"outcome_type\":\"Adoption\",\"animal_type\":\"Cat\",\"sex_upon_outcome\":\"Spayed Female\",\"age_upon_outcome\":\"3 months\",\"breed\":\"Domestic Shorthair Mix\",\"color\":\"Brown Tabby\"}\\n,{\"animal_id\":\"A844096\",\"name\":\"Zam Zam (Zammy)\",\"datetime\":\"2021-10-13T16:09:00.000\",\"monthyear\":\"2021-10-13T16:09:00.000\",\"date_of_birth\":\"2021-08-05T00:00:00.000\",\"outcome_type\":\"Adoption\",\"animal_type\":\"Cat\",\"sex_upon_outcome\":\"Neutered Male\",\"age_upon_outcome\":\"2 months\",\"breed\":\"Domestic Medium Hair\",\"color\":\"Gray/White\"}\\n,{\"animal_id\":\"A843919\",\"datetime\":\"2021-10-13T16:01:00.000\",\"monthyear\":\"2021-10-13T16:01:00.000\",\"date_of_birth\":\"2021-08-08T00:00:00.000\",\"outcome_type\":\"Adoption\",\"animal_type\":\"Cat\",\"sex_upon_outcome\":\"Neutered Male\",\"age_upon_outcome\":\"2 months\",\"breed\":\"Domestic Medium Hair\",\"color\":\"Gray Tabby\"}\\n,{\"animal_id\":\"A843776\",\"name\":\"A843776\",\"datetime\":\"2021-10-13T15:54:00.000\",\"monthyear\":\"2021-10-13T15:54:00.000\",\"date_of_birth\":\"2021-08-06T00:00:00.000\",\"outcome_type\":\"Adoption\",\"animal_type\":\"Dog\",\"sex_upon_outcome\":\"Spayed Female\",\"age_upon_outcome\":\"2 months\",\"breed\":\"Labrador Retriever\",\"color\":\"Black\"}\\n,{\"animal_id\":\"A843668\",\"name\":\"Cindy Roo\",\"datetime\":\"2021-10-13T15:47:00.000\",\"monthyear\":\"2021-10-13T15:47:00.000\",\"date_of_birth\":\"2021-04-20T00:00:00.000\",\"outcome_type\":\"Adoption\",\"animal_type\":\"Dog\",\"sex_upon_outcome\":\"Spayed Female\",\"age_upon_outcome\":\"5 months\",\"breed\":\"Pointer Mix\",\"color\":\"White/Black\"}\\n,{\"animal_id\":\"A844206\",\"name\":\"A844206\",\"datetime\":\"2021-10-13T15:11:00.000\",\"monthyear\":\"2021-10-13T15:11:00.000\",\"date_of_birth\":\"2021-09-28T00:00:00.000\",\"outcome_type\":\"Transfer\",\"outcome_subtype\":\"Partner\",\"animal_type\":\"Cat\",\"sex_upon_outcome\":\"Intact Male\",\"age_upon_outcome\":\"2 weeks\",\"breed\":\"Domestic Shorthair Mix\",\"color\":\"Black\"}\\n,{\"animal_id\":\"A844205\",\"name\":\"A844205\",\"datetime\":\"2021-10-13T15:11:00.000\",\"monthyear\":\"2021-10-13T15:11:00.000\",\"date_of_birth\":\"2021-09-28T00:00:00.000\",\"outcome_type\":\"Transfer\",\"outcome_subtype\":\"Partner\",\"animal_type\":\"Cat\",\"sex_upon_outcome\":\"Intact Male\",\"age_upon_outcome\":\"2 weeks\",\"breed\":\"Domestic Shorthair Mix\",\"color\":\"Orange Tabby\"}\\n,{\"animal_id\":\"A844220\",\"name\":\"285 G\",\"datetime\":\"2021-10-13T15:10:00.000\",\"monthyear\":\"2021-10-13T15:10:00.000\",\"date_of_birth\":\"2021-09-28T00:00:00.000\",\"outcome_type\":\"Transfer\",\"outcome_subtype\":\"Partner\",\"animal_type\":\"Cat\",\"sex_upon_outcome\":\"Intact Male\",\"age_upon_outcome\":\"2 weeks\",\"breed\":\"Domestic Shorthair Mix\",\"color\":\"Blue\"}\\n,{\"animal_id\":\"A844218\",\"name\":\"277 G\",\"datetime\":\"2021-10-13T15:10:00.000\",\"monthyear\":\"2021-10-13T15:10:00.000\",\"date_of_birth\":\"2021-09-28T00:00:00.000\",\"outcome_type\":\"Transfer\",\"outcome_subtype\":\"Partner\",\"animal_type\":\"Cat\",\"sex_upon_outcome\":\"Intact Female\",\"age_upon_outcome\":\"2 weeks\",\"breed\":\"Domestic Shorthair Mix\",\"color\":\"Blue Tabby\"}\\n,{\"animal_id\":\"A844219\",\"name\":\"280 G\",\"datetime\":\"2021-10-13T15:10:00.000\",\"monthyear\":\"2021-10-13T15:10:00.000\",\"date_of_birth\":\"2021-09-28T00:00:00.000\",\"outcome_type\":\"Transfer\",\"outcome_subtype\":\"Partner\",\"animal_type\":\"Cat\",\"sex_upon_outcome\":\"Intact Female\",\"age_upon_outcome\":\"2 weeks\",\"breed\":\"Domestic Shorthair Mix\",\"color\":\"Blue Tabby\"}\\n,{\"animal_id\":\"A844215\",\"name\":\"316 G\",\"datetime\":\"2021-10-13T15:09:00.000\",\"monthyear\":\"2021-10-13T15:09:00.000\",\"date_of_birth\":\"2021-09-28T00:00:00.000\",\"outcome_type\":\"Transfer\",\"outcome_subtype\":\"Partner\",\"animal_type\":\"Cat\",\"sex_upon_outcome\":\"Intact Male\",\"age_upon_outcome\":\"2 weeks\",\"breed\":\"Domestic Shorthair Mix\",\"color\":\"Blue Tabby\"}\\n,{\"animal_id\":\"A844217\",\"name\":\"279 G\",\"datetime\":\"2021-10-13T15:09:00.000\",\"monthyear\":\"2021-10-13T15:09:00.000\",\"date_of_birth\":\"2021-09-28T00:00:00.000\",\"outcome_type\":\"Transfer\",\"outcome_subtype\":\"Partner\",\"animal_type\":\"Cat\",\"sex_upon_outcome\":\"Intact Male\",\"age_upon_outcome\":\"2 weeks\",\"breed\":\"Domestic Shorthair Mix\",\"color\":\"Blue Tabby\"}\\n,{\"animal_id\":\"A844187\",\"name\":\"Lily\",\"datetime\":\"2021-10-13T14:22:00.000\",\"monthyear\":\"2021-10-13T14:22:00.000\",\"date_of_birth\":\"2017-10-13T00:00:00.000\",\"outcome_type\":\"Transfer\",\"outcome_subtype\":\"Partner\",\"animal_type\":\"Dog\",\"sex_upon_outcome\":\"Intact Female\",\"age_upon_outcome\":\"4 years\",\"breed\":\"Chihuahua Shorthair\",\"color\":\"Brown/White\"}\\n,{\"animal_id\":\"A843473\",\"name\":\"A843473\",\"datetime\":\"2021-10-13T13:38:00.000\",\"monthyear\":\"2021-10-13T13:38:00.000\",\"date_of_birth\":\"2020-10-01T00:00:00.000\",\"outcome_type\":\"Adoption\",\"animal_type\":\"Cat\",\"sex_upon_outcome\":\"Neutered Male\",\"age_upon_outcome\":\"1 year\",\"breed\":\"Domestic Shorthair Mix\",\"color\":\"Brown Tabby\"}\\n,{\"animal_id\":\"A817246\",\"name\":\"Eve\",\"datetime\":\"2021-10-13T12:37:00.000\",\"monthyear\":\"2021-10-13T12:37:00.000\",\"date_of_birth\":\"2018-05-11T00:00:00.000\",\"outcome_type\":\"Transfer\",\"outcome_subtype\":\"Partner\",\"animal_type\":\"Dog\",\"sex_upon_outcome\":\"Spayed Female\",\"age_upon_outcome\":\"3 years\",\"breed\":\"Plott Hound Mix\",\"color\":\"Brown Brindle\"}\\n,{\"animal_id\":\"A844163\",\"name\":\"Sugar\",\"datetime\":\"2021-10-13T12:11:00.000\",\"monthyear\":\"2021-10-13T12:11:00.000\",\"date_of_birth\":\"2021-02-13T00:00:00.000\",\"outcome_type\":\"Transfer\",\"outcome_subtype\":\"Partner\",\"animal_type\":\"Dog\",\"sex_upon_outcome\":\"Spayed Female\",\"age_upon_outcome\":\"7 months\",\"breed\":\"Labrador Retriever/Pit Bull\",\"color\":\"Black\"}\\n,{\"animal_id\":\"A844122\",\"name\":\"Calico\",\"datetime\":\"2021-10-13T11:27:00.000\",\"monthyear\":\"2021-10-13T11:27:00.000\",\"date_of_birth\":\"2007-10-12T00:00:00.000\",\"outcome_type\":\"Return to Owner\",\"animal_type\":\"Dog\",\"sex_upon_outcome\":\"Spayed Female\",\"age_upon_outcome\":\"14 years\",\"breed\":\"Maltese\",\"color\":\"White\"}\\n,{\"animal_id\":\"A843798\",\"datetime\":\"2021-10-13T11:26:00.000\",\"monthyear\":\"2021-10-13T11:26:00.000\",\"date_of_birth\":\"2021-09-21T00:00:00.000\",\"outcome_type\":\"Euthanasia\",\"outcome_subtype\":\"Suffering\",\"animal_type\":\"Cat\",\"sex_upon_outcome\":\"Intact Female\",\"age_upon_outcome\":\"3 weeks\",\"breed\":\"Domestic Shorthair\",\"color\":\"Lilac Point\"}\\n,{\"animal_id\":\"A844053\",\"name\":\"Lucky\",\"datetime\":\"2021-10-13T10:53:00.000\",\"monthyear\":\"2021-10-13T10:53:00.000\",\"date_of_birth\":\"2021-02-11T00:00:00.000\",\"outcome_type\":\"Adoption\",\"animal_type\":\"Dog\",\"sex_upon_outcome\":\"Neutered Male\",\"age_upon_outcome\":\"8 months\",\"breed\":\"Chihuahua Shorthair\",\"color\":\"Tan\"}\\n,{\"animal_id\":\"A844118\",\"datetime\":\"2021-10-13T09:46:00.000\",\"monthyear\":\"2021-10-13T09:46:00.000\",\"date_of_birth\":\"2019-10-12T00:00:00.000\",\"outcome_type\":\"Euthanasia\",\"outcome_subtype\":\"Rabies Risk\",\"animal_type\":\"Other\",\"sex_upon_outcome\":\"Unknown\",\"age_upon_outcome\":\"2 years\",\"breed\":\"Bat\",\"color\":\"Brown\"}\\n,{\"animal_id\":\"A844165\",\"datetime\":\"2021-10-13T08:43:00.000\",\"monthyear\":\"2021-10-13T08:43:00.000\",\"date_of_birth\":\"2019-10-13T00:00:00.000\",\"outcome_type\":\"Euthanasia\",\"outcome_subtype\":\"Suffering\",\"animal_type\":\"Cat\",\"sex_upon_outcome\":\"Intact Male\",\"age_upon_outcome\":\"NULL\",\"breed\":\"Domestic Shorthair\",\"color\":\"Black/White\"}\\n,{\"animal_id\":\"A844123\",\"datetime\":\"2021-10-13T08:16:00.000\",\"monthyear\":\"2021-10-13T08:16:00.000\",\"date_of_birth\":\"2021-08-31T00:00:00.000\",\"outcome_type\":\"Euthanasia\",\"outcome_subtype\":\"Suffering\",\"animal_type\":\"Cat\",\"sex_upon_outcome\":\"Intact Female\",\"age_upon_outcome\":\"1 month\",\"breed\":\"Domestic Shorthair\",\"color\":\"Black/White\"}\\n,{\"animal_id\":\"A843790\",\"name\":\"*Anise\",\"datetime\":\"2021-10-12T19:13:00.000\",\"monthyear\":\"2021-10-12T19:13:00.000\",\"date_of_birth\":\"2021-06-06T00:00:00.000\",\"outcome_type\":\"Adoption\",\"animal_type\":\"Dog\",\"sex_upon_outcome\":\"Spayed Female\",\"age_upon_outcome\":\"4 months\",\"breed\":\"Pit Bull Mix\",\"color\":\"White/Brown Brindle\"}\\n,{\"animal_id\":\"A843603\",\"datetime\":\"2021-10-12T19:03:00.000\",\"monthyear\":\"2021-10-12T19:03:00.000\",\"date_of_birth\":\"2021-07-20T00:00:00.000\",\"outcome_type\":\"Adoption\",\"animal_type\":\"Cat\",\"sex_upon_outcome\":\"Spayed Female\",\"age_upon_outcome\":\"2 months\",\"breed\":\"Domestic Shorthair\",\"color\":\"Brown Tabby/White\"}\\n,{\"animal_id\":\"A841361\",\"name\":\"Needle\",\"datetime\":\"2021-10-12T18:44:00.000\",\"monthyear\":\"2021-10-12T18:44:00.000\",\"date_of_birth\":\"2021-07-26T00:00:00.000\",\"outcome_type\":\"Adoption\",\"animal_type\":\"Cat\",\"sex_upon_outcome\":\"Spayed Female\",\"age_upon_outcome\":\"2 months\",\"breed\":\"Domestic Shorthair Mix\",\"color\":\"Tortie\"}\\n,{\"animal_id\":\"A841368\",\"name\":\"*Casper\",\"datetime\":\"2021-10-12T18:44:00.000\",\"monthyear\":\"2021-10-12T18:44:00.000\",\"date_of_birth\":\"2021-07-26T00:00:00.000\",\"outcome_type\":\"Adoption\",\"animal_type\":\"Cat\",\"sex_upon_outcome\":\"Neutered Male\",\"age_upon_outcome\":\"2 months\",\"breed\":\"Domestic Shorthair Mix\",\"color\":\"Black\"}\\n,{\"animal_id\":\"A647352\",\"name\":\"Maris\",\"datetime\":\"2021-10-12T18:26:00.000\",\"monthyear\":\"2021-10-12T18:26:00.000\",\"date_of_birth\":\"2007-02-08T00:00:00.000\",\"outcome_type\":\"Return to Owner\",\"animal_type\":\"Dog\",\"sex_upon_outcome\":\"Spayed Female\",\"age_upon_outcome\":\"14 years\",\"breed\":\"Miniature Pinscher Mix\",\"color\":\"Red\"}\\n,{\"animal_id\":\"A843713\",\"name\":\"*Mattie\",\"datetime\":\"2021-10-12T18:23:00.000\",\"monthyear\":\"2021-10-12T18:23:00.000\",\"date_of_birth\":\"2018-10-05T00:00:00.000\",\"outcome_type\":\"Adoption\",\"animal_type\":\"Cat\",\"sex_upon_outcome\":\"Neutered Male\",\"age_upon_outcome\":\"3 years\",\"breed\":\"Maine Coon\",\"color\":\"Brown Tabby/White\"}\\n,{\"animal_id\":\"A842703\",\"name\":\"A842703\",\"datetime\":\"2021-10-12T18:14:00.000\",\"monthyear\":\"2021-10-12T18:14:00.000\",\"date_of_birth\":\"2021-07-08T00:00:00.000\",\"outcome_type\":\"Adoption\",\"animal_type\":\"Cat\",\"sex_upon_outcome\":\"Spayed Female\",\"age_upon_outcome\":\"3 months\",\"breed\":\"Domestic Shorthair\",\"color\":\"Blue\"}\\n,{\"animal_id\":\"A843682\",\"name\":\"Sugar\",\"datetime\":\"2021-10-12T18:09:00.000\",\"monthyear\":\"2021-10-12T18:09:00.000\",\"date_of_birth\":\"2019-07-07T00:00:00.000\",\"outcome_type\":\"Adoption\",\"animal_type\":\"Dog\",\"sex_upon_outcome\":\"Spayed Female\",\"age_upon_outcome\":\"2 years\",\"breed\":\"Siberian Husky Mix\",\"color\":\"White\"}\\n,{\"animal_id\":\"A844061\",\"name\":\"A844061\",\"datetime\":\"2021-10-12T18:00:00.000\",\"monthyear\":\"2021-10-12T18:00:00.000\",\"date_of_birth\":\"2021-09-05T00:00:00.000\",\"outcome_type\":\"Euthanasia\",\"outcome_subtype\":\"Suffering\",\"animal_type\":\"Cat\",\"sex_upon_outcome\":\"Intact Female\",\"age_upon_outcome\":\"1 month\",\"breed\":\"Domestic Shorthair Mix\",\"color\":\"Calico\"}\\n,{\"animal_id\":\"A843687\",\"name\":\"A843687\",\"datetime\":\"2021-10-12T17:49:00.000\",\"monthyear\":\"2021-10-12T17:49:00.000\",\"date_of_birth\":\"2021-07-05T00:00:00.000\",\"outcome_type\":\"Adoption\",\"animal_type\":\"Cat\",\"sex_upon_outcome\":\"Neutered Male\",\"age_upon_outcome\":\"3 months\",\"breed\":\"Domestic Shorthair\",\"color\":\"Gray Tabby\"}\\n,{\"animal_id\":\"A843655\",\"datetime\":\"2021-10-12T17:45:00.000\",\"monthyear\":\"2021-10-12T17:45:00.000\",\"date_of_birth\":\"2021-06-19T00:00:00.000\",\"outcome_type\":\"Adoption\",\"animal_type\":\"Dog\",\"sex_upon_outcome\":\"Spayed Female\",\"age_upon_outcome\":\"3 months\",\"breed\":\"Pointer Mix\",\"color\":\"White/Black\"}\\n,{\"animal_id\":\"A843648\",\"name\":\"Spencer\",\"datetime\":\"2021-10-12T17:42:00.000\",\"monthyear\":\"2021-10-12T17:42:00.000\",\"date_of_birth\":\"2021-05-04T00:00:00.000\",\"outcome_type\":\"Adoption\",\"animal_type\":\"Cat\",\"sex_upon_outcome\":\"Neutered Male\",\"age_upon_outcome\":\"5 months\",\"breed\":\"Domestic Shorthair\",\"color\":\"Black/White\"}\\n,{\"animal_id\":\"A843238\",\"name\":\"A843238\",\"datetime\":\"2021-10-12T17:34:00.000\",\"monthyear\":\"2021-10-12T17:34:00.000\",\"date_of_birth\":\"2021-07-06T00:00:00.000\",\"outcome_type\":\"Adoption\",\"animal_type\":\"Cat\",\"sex_upon_outcome\":\"Neutered Male\",\"age_upon_outcome\":\"3 months\",\"breed\":\"Domestic Shorthair\",\"color\":\"Orange Tabby/White\"}\\n,{\"animal_id\":\"A844105\",\"name\":\"A844105\",\"datetime\":\"2021-10-12T17:30:00.000\",\"monthyear\":\"2021-10-12T17:30:00.000\",\"date_of_birth\":\"2021-09-27T00:00:00.000\",\"outcome_type\":\"Transfer\",\"outcome_subtype\":\"Partner\",\"animal_type\":\"Cat\",\"sex_upon_outcome\":\"Intact Female\",\"age_upon_outcome\":\"2 weeks\",\"breed\":\"Domestic Shorthair Mix\",\"color\":\"Orange Tabby\"}\\n,{\"animal_id\":\"A844106\",\"name\":\"A844106\",\"datetime\":\"2021-10-12T17:30:00.000\",\"monthyear\":\"2021-10-12T17:30:00.000\",\"date_of_birth\":\"2021-09-27T00:00:00.000\",\"outcome_type\":\"Transfer\",\"outcome_subtype\":\"Partner\",\"animal_type\":\"Cat\",\"sex_upon_outcome\":\"Intact Female\",\"age_upon_outcome\":\"2 weeks\",\"breed\":\"Domestic Shorthair Mix\",\"color\":\"Orange Tabby\"}\\n,{\"animal_id\":\"A844107\",\"name\":\"A844107\",\"datetime\":\"2021-10-12T17:30:00.000\",\"monthyear\":\"2021-10-12T17:30:00.000\",\"date_of_birth\":\"2021-09-27T00:00:00.000\",\"outcome_type\":\"Transfer\",\"outcome_subtype\":\"Partner\",\"animal_type\":\"Cat\",\"sex_upon_outcome\":\"Intact Female\",\"age_upon_outcome\":\"2 weeks\",\"breed\":\"Domestic Shorthair Mix\",\"color\":\"Torbie\"}\\n,{\"animal_id\":\"A843814\",\"name\":\"Primrose Everdeen\",\"datetime\":\"2021-10-12T17:25:00.000\",\"monthyear\":\"2021-10-12T17:25:00.000\",\"date_of_birth\":\"2021-07-22T00:00:00.000\",\"outcome_type\":\"Adoption\",\"animal_type\":\"Cat\",\"sex_upon_outcome\":\"Spayed Female\",\"age_upon_outcome\":\"2 months\",\"breed\":\"Domestic Shorthair Mix\",\"color\":\"Brown Tabby\"}\\n,{\"animal_id\":\"A843794\",\"name\":\"A843794\",\"datetime\":\"2021-10-12T17:23:00.000\",\"monthyear\":\"2021-10-12T17:23:00.000\",\"date_of_birth\":\"2021-07-22T00:00:00.000\",\"outcome_type\":\"Adoption\",\"animal_type\":\"Dog\",\"sex_upon_outcome\":\"Neutered Male\",\"age_upon_outcome\":\"2 months\",\"breed\":\"Border Collie Mix\",\"color\":\"Black/White\"}\\n,{\"animal_id\":\"A843363\",\"name\":\"Pepsi\",\"datetime\":\"2021-10-12T17:19:00.000\",\"monthyear\":\"2021-10-12T17:19:00.000\",\"date_of_birth\":\"2020-09-29T00:00:00.000\",\"outcome_type\":\"Adoption\",\"animal_type\":\"Dog\",\"sex_upon_outcome\":\"Neutered Male\",\"age_upon_outcome\":\"1 year\",\"breed\":\"Great Pyrenees\",\"color\":\"White\"}\\n,{\"animal_id\":\"A843764\",\"name\":\"A843764\",\"datetime\":\"2021-10-12T17:13:00.000\",\"monthyear\":\"2021-10-12T17:13:00.000\",\"date_of_birth\":\"2021-04-21T00:00:00.000\",\"outcome_type\":\"Adoption\",\"animal_type\":\"Cat\",\"sex_upon_outcome\":\"Spayed Female\",\"age_upon_outcome\":\"5 months\",\"breed\":\"Domestic Shorthair\",\"color\":\"Calico\"}\\n,{\"animal_id\":\"A843521\",\"name\":\"*Teenee\",\"datetime\":\"2021-10-12T17:08:00.000\",\"monthyear\":\"2021-10-12T17:08:00.000\",\"date_of_birth\":\"2011-10-02T00:00:00.000\",\"outcome_type\":\"Adoption\",\"animal_type\":\"Cat\",\"sex_upon_outcome\":\"Spayed Female\",\"age_upon_outcome\":\"10 years\",\"breed\":\"Domestic Shorthair\",\"color\":\"Gray/White\"}\\n,{\"animal_id\":\"A843136\",\"name\":\"*Patch\",\"datetime\":\"2021-10-12T17:07:00.000\",\"monthyear\":\"2021-10-12T17:07:00.000\",\"date_of_birth\":\"2020-03-27T00:00:00.000\",\"outcome_type\":\"Adoption\",\"animal_type\":\"Cat\",\"sex_upon_outcome\":\"Spayed Female\",\"age_upon_outcome\":\"1 year\",\"breed\":\"Domestic Shorthair\",\"color\":\"Calico\"}\\n,{\"animal_id\":\"A843654\",\"datetime\":\"2021-10-12T17:01:00.000\",\"monthyear\":\"2021-10-12T17:01:00.000\",\"date_of_birth\":\"2021-06-19T00:00:00.000\",\"outcome_type\":\"Adoption\",\"animal_type\":\"Dog\",\"sex_upon_outcome\":\"Neutered Male\",\"age_upon_outcome\":\"3 months\",\"breed\":\"Pit Bull Mix\",\"color\":\"Tricolor\"}\\n,{\"animal_id\":\"A844104\",\"name\":\"A844104\",\"datetime\":\"2021-10-12T16:54:00.000\",\"monthyear\":\"2021-10-12T16:54:00.000\",\"date_of_birth\":\"2021-09-27T00:00:00.000\",\"outcome_type\":\"Transfer\",\"outcome_subtype\":\"Partner\",\"animal_type\":\"Cat\",\"sex_upon_outcome\":\"Intact Male\",\"age_upon_outcome\":\"2 weeks\",\"breed\":\"Domestic Shorthair Mix\",\"color\":\"Black\"}\\n,{\"animal_id\":\"A844103\",\"name\":\"A844103\",\"datetime\":\"2021-10-12T16:53:00.000\",\"monthyear\":\"2021-10-12T16:53:00.000\",\"date_of_birth\":\"2021-09-27T00:00:00.000\",\"outcome_type\":\"Transfer\",\"outcome_subtype\":\"Partner\",\"animal_type\":\"Cat\",\"sex_upon_outcome\":\"Intact Male\",\"age_upon_outcome\":\"2 weeks\",\"breed\":\"Domestic Shorthair Mix\",\"color\":\"Black\"}\\n,{\"animal_id\":\"A844115\",\"name\":\"A844115\",\"datetime\":\"2021-10-12T16:50:00.000\",\"monthyear\":\"2021-10-12T16:50:00.000\",\"date_of_birth\":\"2021-09-27T00:00:00.000\",\"outcome_type\":\"Transfer\",\"outcome_subtype\":\"Partner\",\"animal_type\":\"Cat\",\"sex_upon_outcome\":\"Intact Male\",\"age_upon_outcome\":\"2 weeks\",\"breed\":\"Domestic Shorthair Mix\",\"color\":\"Brown Tabby\"}\\n,{\"animal_id\":\"A844114\",\"name\":\"A844114\",\"datetime\":\"2021-10-12T16:49:00.000\",\"monthyear\":\"2021-10-12T16:49:00.000\",\"date_of_birth\":\"2021-09-27T00:00:00.000\",\"outcome_type\":\"Transfer\",\"outcome_subtype\":\"Partner\",\"animal_type\":\"Cat\",\"sex_upon_outcome\":\"Intact Male\",\"age_upon_outcome\":\"2 weeks\",\"breed\":\"Domestic Shorthair Mix\",\"color\":\"Black\"}\\n,{\"animal_id\":\"A844112\",\"name\":\"A844112\",\"datetime\":\"2021-10-12T16:49:00.000\",\"monthyear\":\"2021-10-12T16:49:00.000\",\"date_of_birth\":\"2021-09-27T00:00:00.000\",\"outcome_type\":\"Transfer\",\"outcome_subtype\":\"Partner\",\"animal_type\":\"Cat\",\"sex_upon_outcome\":\"Intact Male\",\"age_upon_outcome\":\"2 weeks\",\"breed\":\"Domestic Shorthair Mix\",\"color\":\"Blue Tabby/White\"}\\n,{\"animal_id\":\"A844113\",\"name\":\"A844113\",\"datetime\":\"2021-10-12T16:49:00.000\",\"monthyear\":\"2021-10-12T16:49:00.000\",\"date_of_birth\":\"2021-09-27T00:00:00.000\",\"outcome_type\":\"Transfer\",\"outcome_subtype\":\"Partner\",\"animal_type\":\"Cat\",\"sex_upon_outcome\":\"Intact Male\",\"age_upon_outcome\":\"2 weeks\",\"breed\":\"Domestic Shorthair Mix\",\"color\":\"Blue Tabby\"}\\n,{\"animal_id\":\"A843952\",\"name\":\"Penelope\",\"datetime\":\"2021-10-12T16:47:00.000\",\"monthyear\":\"2021-10-12T16:47:00.000\",\"date_of_birth\":\"2021-07-24T00:00:00.000\",\"outcome_type\":\"Adoption\",\"animal_type\":\"Cat\",\"sex_upon_outcome\":\"Spayed Female\",\"age_upon_outcome\":\"2 months\",\"breed\":\"Domestic Shorthair\",\"color\":\"Torbie\"}\\n,{\"animal_id\":\"A838381\",\"name\":\"Mina\",\"datetime\":\"2021-10-12T16:36:00.000\",\"monthyear\":\"2021-10-12T16:36:00.000\",\"date_of_birth\":\"2019-07-07T00:00:00.000\",\"outcome_type\":\"Adoption\",\"animal_type\":\"Dog\",\"sex_upon_outcome\":\"Spayed Female\",\"age_upon_outcome\":\"2 years\",\"breed\":\"Siberian Husky Mix\",\"color\":\"White\"}\\n,{\"animal_id\":\"A843781\",\"name\":\"Pumpkin\",\"datetime\":\"2021-10-12T16:24:00.000\",\"monthyear\":\"2021-10-12T16:24:00.000\",\"date_of_birth\":\"2021-04-07T00:00:00.000\",\"outcome_type\":\"Adoption\",\"animal_type\":\"Dog\",\"sex_upon_outcome\":\"Spayed Female\",\"age_upon_outcome\":\"6 months\",\"breed\":\"Blue Lacy Mix\",\"color\":\"Blue/White\"}\\n,{\"animal_id\":\"A843763\",\"name\":\"A843763\",\"datetime\":\"2021-10-12T16:21:00.000\",\"monthyear\":\"2021-10-12T16:21:00.000\",\"date_of_birth\":\"2021-04-21T00:00:00.000\",\"outcome_type\":\"Adoption\",\"animal_type\":\"Cat\",\"sex_upon_outcome\":\"Neutered Male\",\"age_upon_outcome\":\"5 months\",\"breed\":\"Domestic Shorthair\",\"color\":\"Blue\"}\\n,{\"animal_id\":\"A843811\",\"name\":\"Mabel\",\"datetime\":\"2021-10-12T16:08:00.000\",\"monthyear\":\"2021-10-12T16:08:00.000\",\"date_of_birth\":\"2021-06-06T00:00:00.000\",\"outcome_type\":\"Adoption\",\"animal_type\":\"Cat\",\"sex_upon_outcome\":\"Spayed Female\",\"age_upon_outcome\":\"4 months\",\"breed\":\"Domestic Medium Hair Mix\",\"color\":\"Brown Tabby\"}\\n,{\"animal_id\":\"A843796\",\"name\":\"Milo\",\"datetime\":\"2021-10-12T16:06:00.000\",\"monthyear\":\"2021-10-12T16:06:00.000\",\"date_of_birth\":\"2021-08-22T00:00:00.000\",\"outcome_type\":\"Adoption\",\"animal_type\":\"Cat\",\"sex_upon_outcome\":\"Neutered Male\",\"age_upon_outcome\":\"1 month\",\"breed\":\"Domestic Medium Hair\",\"color\":\"Black\"}\\n,{\"animal_id\":\"A840497\",\"name\":\"*Naomi\",\"datetime\":\"2021-10-12T16:01:00.000\",\"monthyear\":\"2021-10-12T16:01:00.000\",\"date_of_birth\":\"2016-08-09T00:00:00.000\",\"outcome_type\":\"Adoption\",\"outcome_subtype\":\"Foster\",\"animal_type\":\"Dog\",\"sex_upon_outcome\":\"Spayed Female\",\"age_upon_outcome\":\"5 years\",\"breed\":\"Chihuahua Shorthair Mix\",\"color\":\"Black\"}\\n,{\"animal_id\":\"A834724\",\"name\":\"A834724\",\"datetime\":\"2021-10-12T15:59:00.000\",\"monthyear\":\"2021-10-12T15:59:00.000\",\"date_of_birth\":\"2021-03-31T00:00:00.000\",\"outcome_type\":\"Adoption\",\"outcome_subtype\":\"Foster\",\"animal_type\":\"Cat\",\"sex_upon_outcome\":\"Spayed Female\",\"age_upon_outcome\":\"6 months\",\"breed\":\"Domestic Shorthair\",\"color\":\"Black\"}\\n,{\"animal_id\":\"A843943\",\"name\":\"Martha\",\"datetime\":\"2021-10-12T15:57:00.000\",\"monthyear\":\"2021-10-12T15:57:00.000\",\"date_of_birth\":\"2021-03-08T00:00:00.000\",\"outcome_type\":\"Transfer\",\"outcome_subtype\":\"Partner\",\"animal_type\":\"Dog\",\"sex_upon_outcome\":\"Intact Female\",\"age_upon_outcome\":\"7 months\",\"breed\":\"Beagle/Pit Bull\",\"color\":\"Chocolate/White\"}\\n,{\"animal_id\":\"A842103\",\"name\":\"*Lily\",\"datetime\":\"2021-10-12T15:46:00.000\",\"monthyear\":\"2021-10-12T15:46:00.000\",\"date_of_birth\":\"2021-07-29T00:00:00.000\",\"outcome_type\":\"Adoption\",\"outcome_subtype\":\"Foster\",\"animal_type\":\"Cat\",\"sex_upon_outcome\":\"Spayed Female\",\"age_upon_outcome\":\"2 months\",\"breed\":\"Domestic Shorthair\",\"color\":\"Brown Tabby\"}\\n,{\"animal_id\":\"A836865\",\"name\":\"*Hope\",\"datetime\":\"2021-10-12T15:43:00.000\",\"monthyear\":\"2021-10-12T15:43:00.000\",\"date_of_birth\":\"2019-06-15T00:00:00.000\",\"outcome_type\":\"Adoption\",\"outcome_subtype\":\"Foster\",\"animal_type\":\"Dog\",\"sex_upon_outcome\":\"Spayed Female\",\"age_upon_outcome\":\"2 years\",\"breed\":\"Pit Bull\",\"color\":\"Blue/White\"}\\n,{\"animal_id\":\"A840502\",\"name\":\"*Jerry\",\"datetime\":\"2021-10-12T15:40:00.000\",\"monthyear\":\"2021-10-12T15:40:00.000\",\"date_of_birth\":\"2021-07-30T00:00:00.000\",\"outcome_type\":\"Adoption\",\"outcome_subtype\":\"Foster\",\"animal_type\":\"Dog\",\"sex_upon_outcome\":\"Neutered Male\",\"age_upon_outcome\":\"2 months\",\"breed\":\"Chihuahua Shorthair Mix\",\"color\":\"Black/Tan\"}\\n,{\"animal_id\":\"A834798\",\"name\":\"*Sir Purr\",\"datetime\":\"2021-10-12T15:38:00.000\",\"monthyear\":\"2021-10-12T15:38:00.000\",\"date_of_birth\":\"2021-04-18T00:00:00.000\",\"outcome_type\":\"Adoption\",\"outcome_subtype\":\"Foster\",\"animal_type\":\"Cat\",\"sex_upon_outcome\":\"Neutered Male\",\"age_upon_outcome\":\"5 months\",\"breed\":\"Domestic Medium Hair\",\"color\":\"Black/White\"}\\n,{\"animal_id\":\"A841091\",\"name\":\"*Corduroy\",\"datetime\":\"2021-10-12T15:36:00.000\",\"monthyear\":\"2021-10-12T15:36:00.000\",\"date_of_birth\":\"2021-07-13T00:00:00.000\",\"outcome_type\":\"Adoption\",\"outcome_subtype\":\"Foster\",\"animal_type\":\"Cat\",\"sex_upon_outcome\":\"Neutered Male\",\"age_upon_outcome\":\"2 months\",\"breed\":\"Domestic Shorthair\",\"color\":\"Orange Tabby\"}\\n,{\"animal_id\":\"A841977\",\"name\":\"*Socks\",\"datetime\":\"2021-10-12T15:32:00.000\",\"monthyear\":\"2021-10-12T15:32:00.000\",\"date_of_birth\":\"2021-07-07T00:00:00.000\",\"outcome_type\":\"Adoption\",\"outcome_subtype\":\"Foster\",\"animal_type\":\"Cat\",\"sex_upon_outcome\":\"Spayed Female\",\"age_upon_outcome\":\"3 months\",\"breed\":\"Domestic Shorthair\",\"color\":\"Black/White\"}\\n,{\"animal_id\":\"A824994\",\"name\":\"*Frankie\",\"datetime\":\"2021-10-12T15:25:00.000\",\"monthyear\":\"2021-10-12T15:25:00.000\",\"date_of_birth\":\"2018-10-26T00:00:00.000\",\"outcome_type\":\"Adoption\",\"outcome_subtype\":\"Foster\",\"animal_type\":\"Dog\",\"sex_upon_outcome\":\"Neutered Male\",\"age_upon_outcome\":\"2 years\",\"breed\":\"Pit Bull\",\"color\":\"Black\"}\\n,{\"animal_id\":\"A843343\",\"name\":\"*Cobalt\",\"datetime\":\"2021-10-12T15:02:00.000\",\"monthyear\":\"2021-10-12T15:02:00.000\",\"date_of_birth\":\"2021-05-14T00:00:00.000\",\"outcome_type\":\"Adoption\",\"animal_type\":\"Dog\",\"sex_upon_outcome\":\"Neutered Male\",\"age_upon_outcome\":\"4 months\",\"breed\":\"German Shepherd\",\"color\":\"Blue/Tan\"}\\n,{\"animal_id\":\"A843059\",\"name\":\"Bear\",\"datetime\":\"2021-10-12T14:27:00.000\",\"monthyear\":\"2021-10-12T14:27:00.000\",\"date_of_birth\":\"2016-09-25T00:00:00.000\",\"outcome_type\":\"Rto-Adopt\",\"animal_type\":\"Dog\",\"sex_upon_outcome\":\"Neutered Male\",\"age_upon_outcome\":\"5 years\",\"breed\":\"Great Pyrenees\",\"color\":\"White\"}\\n,{\"animal_id\":\"A844032\",\"name\":\"Lilu\",\"datetime\":\"2021-10-12T14:26:00.000\",\"monthyear\":\"2021-10-12T14:26:00.000\",\"date_of_birth\":\"2019-10-11T00:00:00.000\",\"outcome_type\":\"Return to Owner\",\"animal_type\":\"Dog\",\"sex_upon_outcome\":\"Intact Female\",\"age_upon_outcome\":\"2 years\",\"breed\":\"Pit Bull Mix\",\"color\":\"Brown\"}\\n,{\"animal_id\":\"A843869\",\"name\":\"Oliver\",\"datetime\":\"2021-10-12T13:44:00.000\",\"monthyear\":\"2021-10-12T13:44:00.000\",\"date_of_birth\":\"2021-07-07T00:00:00.000\",\"outcome_type\":\"Adoption\",\"animal_type\":\"Dog\",\"sex_upon_outcome\":\"Neutered Male\",\"age_upon_outcome\":\"3 months\",\"breed\":\"Yorkshire Terrier Mix\",\"color\":\"Tricolor\"}\\n,{\"animal_id\":\"A842311\",\"name\":\"*Martha\",\"datetime\":\"2021-10-12T13:08:00.000\",\"monthyear\":\"2021-10-12T13:08:00.000\",\"date_of_birth\":\"2021-07-31T00:00:00.000\",\"outcome_type\":\"Adoption\",\"outcome_subtype\":\"Foster\",\"animal_type\":\"Cat\",\"sex_upon_outcome\":\"Spayed Female\",\"age_upon_outcome\":\"2 months\",\"breed\":\"Domestic Longhair\",\"color\":\"Black\"}\\n,{\"animal_id\":\"A841833\",\"name\":\"*Lucian\",\"datetime\":\"2021-10-12T13:00:00.000\",\"monthyear\":\"2021-10-12T13:00:00.000\",\"date_of_birth\":\"2021-06-18T00:00:00.000\",\"outcome_type\":\"Adoption\",\"outcome_subtype\":\"Foster\",\"animal_type\":\"Cat\",\"sex_upon_outcome\":\"Neutered Male\",\"age_upon_outcome\":\"3 months\",\"breed\":\"Domestic Shorthair Mix\",\"color\":\"Blue Tabby/White\"}\\n,{\"animal_id\":\"A842467\",\"name\":\"*Ghost\",\"datetime\":\"2021-10-12T12:56:00.000\",\"monthyear\":\"2021-10-12T12:56:00.000\",\"date_of_birth\":\"2021-08-09T00:00:00.000\",\"outcome_type\":\"Adoption\",\"outcome_subtype\":\"Foster\",\"animal_type\":\"Cat\",\"sex_upon_outcome\":\"Neutered Male\",\"age_upon_outcome\":\"2 months\",\"breed\":\"Domestic Shorthair\",\"color\":\"Black Smoke\"}\\n,{\"animal_id\":\"A841330\",\"datetime\":\"2021-10-12T12:43:00.000\",\"monthyear\":\"2021-10-12T12:43:00.000\",\"date_of_birth\":\"2021-07-26T00:00:00.000\",\"outcome_type\":\"Adoption\",\"outcome_subtype\":\"Foster\",\"animal_type\":\"Cat\",\"sex_upon_outcome\":\"Neutered Male\",\"age_upon_outcome\":\"2 months\",\"breed\":\"Domestic Longhair\",\"color\":\"Blue/White\"}\\n,{\"animal_id\":\"A842469\",\"name\":\"*Goblin\",\"datetime\":\"2021-10-12T12:41:00.000\",\"monthyear\":\"2021-10-12T12:41:00.000\",\"date_of_birth\":\"2021-08-09T00:00:00.000\",\"outcome_type\":\"Adoption\",\"outcome_subtype\":\"Foster\",\"animal_type\":\"Cat\",\"sex_upon_outcome\":\"Neutered Male\",\"age_upon_outcome\":\"2 months\",\"breed\":\"Domestic Shorthair\",\"color\":\"Black\"}\\n,{\"animal_id\":\"A842468\",\"name\":\"*Spooky\",\"datetime\":\"2021-10-12T12:40:00.000\",\"monthyear\":\"2021-10-12T12:40:00.000\",\"date_of_birth\":\"2021-08-09T00:00:00.000\",\"outcome_type\":\"Adoption\",\"outcome_subtype\":\"Foster\",\"animal_type\":\"Cat\",\"sex_upon_outcome\":\"Neutered Male\",\"age_upon_outcome\":\"2 months\",\"breed\":\"Domestic Shorthair\",\"color\":\"Black Smoke\"}\\n,{\"animal_id\":\"A843711\",\"name\":\"Peaches\",\"datetime\":\"2021-10-12T11:32:00.000\",\"monthyear\":\"2021-10-12T11:32:00.000\",\"date_of_birth\":\"2019-10-05T00:00:00.000\",\"outcome_type\":\"Adoption\",\"animal_type\":\"Dog\",\"sex_upon_outcome\":\"Spayed Female\",\"age_upon_outcome\":\"2 years\",\"breed\":\"American Pit Bull Terrier\",\"color\":\"White\"}\\n,{\"animal_id\":\"A840224\",\"name\":\"Galaxy\",\"datetime\":\"2021-10-12T09:38:00.000\",\"monthyear\":\"2021-10-12T09:38:00.000\",\"date_of_birth\":\"2021-02-04T00:00:00.000\",\"outcome_type\":\"Adoption\",\"outcome_subtype\":\"Foster\",\"animal_type\":\"Cat\",\"sex_upon_outcome\":\"Spayed Female\",\"age_upon_outcome\":\"8 months\",\"breed\":\"Domestic Longhair\",\"color\":\"Blue/White\"}\\n,{\"animal_id\":\"A842019\",\"name\":\"*Ziti\",\"datetime\":\"2021-10-12T08:57:00.000\",\"monthyear\":\"2021-10-12T08:57:00.000\",\"date_of_birth\":\"2021-08-02T00:00:00.000\",\"outcome_type\":\"Adoption\",\"outcome_subtype\":\"Foster\",\"animal_type\":\"Cat\",\"sex_upon_outcome\":\"Neutered Male\",\"age_upon_outcome\":\"2 months\",\"breed\":\"Domestic Shorthair\",\"color\":\"Brown Tabby/White\"}\\n,{\"animal_id\":\"A832850\",\"name\":\"*Dickey\",\"datetime\":\"2021-10-12T08:50:00.000\",\"monthyear\":\"2021-10-12T08:50:00.000\",\"date_of_birth\":\"2021-03-07T00:00:00.000\",\"outcome_type\":\"Adoption\",\"outcome_subtype\":\"Foster\",\"animal_type\":\"Cat\",\"sex_upon_outcome\":\"Spayed Female\",\"age_upon_outcome\":\"7 months\",\"breed\":\"Domestic Shorthair\",\"color\":\"Brown Tabby\"}\\n,{\"animal_id\":\"A832851\",\"name\":\"*Chase\",\"datetime\":\"2021-10-12T08:50:00.000\",\"monthyear\":\"2021-10-12T08:50:00.000\",\"date_of_birth\":\"2021-03-07T00:00:00.000\",\"outcome_type\":\"Adoption\",\"outcome_subtype\":\"Foster\",\"animal_type\":\"Cat\",\"sex_upon_outcome\":\"Spayed Female\",\"age_upon_outcome\":\"7 months\",\"breed\":\"Domestic Shorthair\",\"color\":\"Brown Tabby\"}\\n,{\"animal_id\":\"A824751\",\"name\":\"*Belly\",\"datetime\":\"2021-10-12T08:40:00.000\",\"monthyear\":\"2021-10-12T08:40:00.000\",\"date_of_birth\":\"2020-08-26T00:00:00.000\",\"outcome_type\":\"Adoption\",\"outcome_subtype\":\"Foster\",\"animal_type\":\"Cat\",\"sex_upon_outcome\":\"Neutered Male\",\"age_upon_outcome\":\"1 year\",\"breed\":\"Domestic Shorthair\",\"color\":\"Brown Tabby\"}\\n,{\"animal_id\":\"A824752\",\"name\":\"*Ora\",\"datetime\":\"2021-10-12T08:40:00.000\",\"monthyear\":\"2021-10-12T08:40:00.000\",\"date_of_birth\":\"2020-08-26T00:00:00.000\",\"outcome_type\":\"Adoption\",\"outcome_subtype\":\"Foster\",\"animal_type\":\"Cat\",\"sex_upon_outcome\":\"Spayed Female\",\"age_upon_outcome\":\"1 year\",\"breed\":\"Domestic Shorthair\",\"color\":\"Brown Tabby\"}\\n,{\"animal_id\":\"A832522\",\"name\":\"Lilly\",\"datetime\":\"2021-10-12T08:05:00.000\",\"monthyear\":\"2021-10-12T08:05:00.000\",\"date_of_birth\":\"2016-04-14T00:00:00.000\",\"outcome_type\":\"Died\",\"outcome_subtype\":\"At Vet\",\"animal_type\":\"Dog\",\"sex_upon_outcome\":\"Spayed Female\",\"age_upon_outcome\":\"5 years\",\"breed\":\"Pit Bull Mix\",\"color\":\"Blue/White\"}\\n,{\"animal_id\":\"A843599\",\"name\":\"Charlie\",\"datetime\":\"2021-10-11T19:12:00.000\",\"monthyear\":\"2021-10-11T19:12:00.000\",\"date_of_birth\":\"2021-06-22T00:00:00.000\",\"outcome_type\":\"Adoption\",\"animal_type\":\"Cat\",\"sex_upon_outcome\":\"Spayed Female\",\"age_upon_outcome\":\"3 months\",\"breed\":\"Domestic Shorthair Mix\",\"color\":\"Brown Tabby/White\"}\\n,{\"animal_id\":\"A843803\",\"name\":\"A843803\",\"datetime\":\"2021-10-11T19:04:00.000\",\"monthyear\":\"2021-10-11T19:04:00.000\",\"date_of_birth\":\"2021-05-06T00:00:00.000\",\"outcome_type\":\"Adoption\",\"animal_type\":\"Cat\",\"sex_upon_outcome\":\"Neutered Male\",\"age_upon_outcome\":\"5 months\",\"breed\":\"Domestic Medium Hair Mix\",\"color\":\"Black\"}\\n,{\"animal_id\":\"A841365\",\"name\":\"Serta\",\"datetime\":\"2021-10-11T18:53:00.000\",\"monthyear\":\"2021-10-11T18:53:00.000\",\"date_of_birth\":\"2021-07-26T00:00:00.000\",\"outcome_type\":\"Adoption\",\"animal_type\":\"Cat\",\"sex_upon_outcome\":\"Spayed Female\",\"age_upon_outcome\":\"2 months\",\"breed\":\"Domestic Shorthair Mix\",\"color\":\"Brown Tabby\"}\\n,{\"animal_id\":\"A843690\",\"name\":\"A843690\",\"datetime\":\"2021-10-11T18:50:00.000\",\"monthyear\":\"2021-10-11T18:50:00.000\",\"date_of_birth\":\"2021-08-05T00:00:00.000\",\"outcome_type\":\"Adoption\",\"animal_type\":\"Dog\",\"sex_upon_outcome\":\"Spayed Female\",\"age_upon_outcome\":\"2 months\",\"breed\":\"Labrador Retriever/Australian Cattle Dog\",\"color\":\"Tan/White\"}\\n,{\"animal_id\":\"A843870\",\"name\":\"Ollie\",\"datetime\":\"2021-10-11T18:49:00.000\",\"monthyear\":\"2021-10-11T18:49:00.000\",\"date_of_birth\":\"2021-07-07T00:00:00.000\",\"outcome_type\":\"Adoption\",\"animal_type\":\"Dog\",\"sex_upon_outcome\":\"Spayed Female\",\"age_upon_outcome\":\"3 months\",\"breed\":\"Beagle Mix\",\"color\":\"Tricolor\"}\\n,{\"animal_id\":\"A844037\",\"name\":\"348 Grams\",\"datetime\":\"2021-10-11T18:47:00.000\",\"monthyear\":\"2021-10-11T18:47:00.000\",\"date_of_birth\":\"2021-09-19T00:00:00.000\",\"outcome_type\":\"Transfer\",\"outcome_subtype\":\"Partner\",\"animal_type\":\"Cat\",\"sex_upon_outcome\":\"Intact Male\",\"age_upon_outcome\":\"3 weeks\",\"breed\":\"Domestic Medium Hair\",\"color\":\"White/Brown Tabby\"}\\n,{\"animal_id\":\"A844057\",\"name\":\"525 G-Pink Mark\",\"datetime\":\"2021-10-11T18:46:00.000\",\"monthyear\":\"2021-10-11T18:46:00.000\",\"date_of_birth\":\"2021-10-01T00:00:00.000\",\"outcome_type\":\"Transfer\",\"outcome_subtype\":\"Partner\",\"animal_type\":\"Dog\",\"sex_upon_outcome\":\"Intact Female\",\"age_upon_outcome\":\"1 weeks\",\"breed\":\"Pit Bull\",\"color\":\"Black Brindle\"}\\n,{\"animal_id\":\"A844055\",\"name\":\"665 G- Red Mark\",\"datetime\":\"2021-10-11T18:46:00.000\",\"monthyear\":\"2021-10-11T18:46:00.000\",\"date_of_birth\":\"2021-10-01T00:00:00.000\",\"outcome_type\":\"Transfer\",\"outcome_subtype\":\"Partner\",\"animal_type\":\"Dog\",\"sex_upon_outcome\":\"Intact Female\",\"age_upon_outcome\":\"1 weeks\",\"breed\":\"Pit Bull\",\"color\":\"Brown\"}\\n,{\"animal_id\":\"A844056\",\"name\":\"522 G-Purple Mark\",\"datetime\":\"2021-10-11T18:46:00.000\",\"monthyear\":\"2021-10-11T18:46:00.000\",\"date_of_birth\":\"2021-10-01T00:00:00.000\",\"outcome_type\":\"Transfer\",\"outcome_subtype\":\"Partner\",\"animal_type\":\"Dog\",\"sex_upon_outcome\":\"Intact Female\",\"age_upon_outcome\":\"1 weeks\",\"breed\":\"Pit Bull\",\"color\":\"Brown\"}\\n,{\"animal_id\":\"A844058\",\"name\":\"486 G-Yellow Mark\",\"datetime\":\"2021-10-11T18:46:00.000\",\"monthyear\":\"2021-10-11T18:46:00.000\",\"date_of_birth\":\"2021-10-01T00:00:00.000\",\"outcome_type\":\"Transfer\",\"outcome_subtype\":\"Partner\",\"animal_type\":\"Dog\",\"sex_upon_outcome\":\"Intact Male\",\"age_upon_outcome\":\"1 weeks\",\"breed\":\"Pit Bull\",\"color\":\"Brown\"}\\n,{\"animal_id\":\"A844054\",\"name\":\"456 G-Blue Mark\",\"datetime\":\"2021-10-11T18:45:00.000\",\"monthyear\":\"2021-10-11T18:45:00.000\",\"date_of_birth\":\"2021-10-01T00:00:00.000\",\"outcome_type\":\"Transfer\",\"outcome_subtype\":\"Partner\",\"animal_type\":\"Dog\",\"sex_upon_outcome\":\"Intact Male\",\"age_upon_outcome\":\"1 weeks\",\"breed\":\"Pit Bull\",\"color\":\"Yellow Brindle\"}\\n,{\"animal_id\":\"A843276\",\"name\":\"*Poppi\",\"datetime\":\"2021-10-11T18:42:00.000\",\"monthyear\":\"2021-10-11T18:42:00.000\",\"date_of_birth\":\"2021-01-29T00:00:00.000\",\"outcome_type\":\"Adoption\",\"animal_type\":\"Dog\",\"sex_upon_outcome\":\"Neutered Male\",\"age_upon_outcome\":\"8 months\",\"breed\":\"American Pit Bull Terrier\",\"color\":\"Brown/White\"}\\n,{\"animal_id\":\"A843705\",\"name\":\"Haku\",\"datetime\":\"2021-10-11T18:42:00.000\",\"monthyear\":\"2021-10-11T18:42:00.000\",\"date_of_birth\":\"2019-04-05T00:00:00.000\",\"outcome_type\":\"Adoption\",\"animal_type\":\"Cat\",\"sex_upon_outcome\":\"Neutered Male\",\"age_upon_outcome\":\"2 years\",\"breed\":\"Domestic Shorthair\",\"color\":\"Gray Tabby\"}\\n,{\"animal_id\":\"A842228\",\"name\":\"Phoenix\",\"datetime\":\"2021-10-11T18:42:00.000\",\"monthyear\":\"2021-10-11T18:42:00.000\",\"date_of_birth\":\"2021-06-12T00:00:00.000\",\"outcome_type\":\"Adoption\",\"animal_type\":\"Cat\",\"sex_upon_outcome\":\"Spayed Female\",\"age_upon_outcome\":\"3 months\",\"breed\":\"Domestic Shorthair\",\"color\":\"Blue Tabby\"}\\n,{\"animal_id\":\"A843716\",\"datetime\":\"2021-10-11T18:05:00.000\",\"monthyear\":\"2021-10-11T18:05:00.000\",\"date_of_birth\":\"2021-08-10T00:00:00.000\",\"outcome_type\":\"Adoption\",\"animal_type\":\"Cat\",\"sex_upon_outcome\":\"Spayed Female\",\"age_upon_outcome\":\"2 months\",\"breed\":\"Siamese\",\"color\":\"Lynx Point\"}\\n,{\"animal_id\":\"A843605\",\"name\":\"A843605\",\"datetime\":\"2021-10-11T17:59:00.000\",\"monthyear\":\"2021-10-11T17:59:00.000\",\"date_of_birth\":\"2020-06-04T00:00:00.000\",\"outcome_type\":\"Adoption\",\"animal_type\":\"Cat\",\"sex_upon_outcome\":\"Spayed Female\",\"age_upon_outcome\":\"1 year\",\"breed\":\"Domestic Shorthair Mix\",\"color\":\"Orange Tabby\"}\\n,{\"animal_id\":\"A843460\",\"name\":\"*Daisy\",\"datetime\":\"2021-10-11T17:57:00.000\",\"monthyear\":\"2021-10-11T17:57:00.000\",\"date_of_birth\":\"2019-10-01T00:00:00.000\",\"outcome_type\":\"Adoption\",\"animal_type\":\"Cat\",\"sex_upon_outcome\":\"Spayed Female\",\"age_upon_outcome\":\"2 years\",\"breed\":\"Domestic Shorthair\",\"color\":\"Orange Tabby\"}\\n,{\"animal_id\":\"A843689\",\"name\":\"Aubrey\",\"datetime\":\"2021-10-11T17:56:00.000\",\"monthyear\":\"2021-10-11T17:56:00.000\",\"date_of_birth\":\"2015-10-11T00:00:00.000\",\"outcome_type\":\"Rto-Adopt\",\"animal_type\":\"Dog\",\"sex_upon_outcome\":\"Spayed Female\",\"age_upon_outcome\":\"6 years\",\"breed\":\"Pit Bull\",\"color\":\"Tan/White\"}\\n,{\"animal_id\":\"A843717\",\"datetime\":\"2021-10-11T17:53:00.000\",\"monthyear\":\"2021-10-11T17:53:00.000\",\"date_of_birth\":\"2021-07-05T00:00:00.000\",\"outcome_type\":\"Adoption\",\"animal_type\":\"Cat\",\"sex_upon_outcome\":\"Neutered Male\",\"age_upon_outcome\":\"3 months\",\"breed\":\"Domestic Shorthair\",\"color\":\"Brown Tabby\"}\\n,{\"animal_id\":\"A841187\",\"name\":\"*Latte\",\"datetime\":\"2021-10-11T17:51:00.000\",\"monthyear\":\"2021-10-11T17:51:00.000\",\"date_of_birth\":\"2021-08-03T00:00:00.000\",\"outcome_type\":\"Adoption\",\"animal_type\":\"Cat\",\"sex_upon_outcome\":\"Neutered Male\",\"age_upon_outcome\":\"2 months\",\"breed\":\"Domestic Shorthair\",\"color\":\"Orange Tabby\"}\\n,{\"animal_id\":\"A843652\",\"name\":\"*Indigo\",\"datetime\":\"2021-10-11T17:51:00.000\",\"monthyear\":\"2021-10-11T17:51:00.000\",\"date_of_birth\":\"2017-10-05T00:00:00.000\",\"outcome_type\":\"Adoption\",\"animal_type\":\"Dog\",\"sex_upon_outcome\":\"Neutered Male\",\"age_upon_outcome\":\"4 years\",\"breed\":\"Pit Bull Mix\",\"color\":\"Blue/White\"}\\n,{\"animal_id\":\"A843536\",\"name\":\"843536\",\"datetime\":\"2021-10-11T17:46:00.000\",\"monthyear\":\"2021-10-11T17:46:00.000\",\"date_of_birth\":\"2020-10-02T00:00:00.000\",\"outcome_type\":\"Transfer\",\"outcome_subtype\":\"Partner\",\"animal_type\":\"Cat\",\"sex_upon_outcome\":\"Intact Male\",\"age_upon_outcome\":\"1 year\",\"breed\":\"Domestic Shorthair\",\"color\":\"Brown Tabby\"}\\n,{\"animal_id\":\"A841190\",\"name\":\"*Coffee\",\"datetime\":\"2021-10-11T17:45:00.000\",\"monthyear\":\"2021-10-11T17:45:00.000\",\"date_of_birth\":\"2021-08-03T00:00:00.000\",\"outcome_type\":\"Adoption\",\"animal_type\":\"Cat\",\"sex_upon_outcome\":\"Spayed Female\",\"age_upon_outcome\":\"2 months\",\"breed\":\"Domestic Shorthair\",\"color\":\"Tortie\"}\\n,{\"animal_id\":\"A842551\",\"name\":\"Kit Kat\",\"datetime\":\"2021-10-11T17:45:00.000\",\"monthyear\":\"2021-10-11T17:45:00.000\",\"date_of_birth\":\"2019-10-04T00:00:00.000\",\"outcome_type\":\"Transfer\",\"outcome_subtype\":\"Partner\",\"animal_type\":\"Cat\",\"sex_upon_outcome\":\"Spayed Female\",\"age_upon_outcome\":\"2 years\",\"breed\":\"Domestic Shorthair\",\"color\":\"Brown Tabby/White\"}\\n,{\"animal_id\":\"A841953\",\"name\":\"*Sheldon\",\"datetime\":\"2021-10-11T17:44:00.000\",\"monthyear\":\"2021-10-11T17:44:00.000\",\"date_of_birth\":\"2021-08-07T00:00:00.000\",\"outcome_type\":\"Transfer\",\"outcome_subtype\":\"Partner\",\"animal_type\":\"Cat\",\"sex_upon_outcome\":\"Intact Male\",\"age_upon_outcome\":\"2 months\",\"breed\":\"Domestic Shorthair\",\"color\":\"Blue Tabby/White\"}\\n,{\"animal_id\":\"A841951\",\"name\":\"*Bernadette\",\"datetime\":\"2021-10-11T17:43:00.000\",\"monthyear\":\"2021-10-11T17:43:00.000\",\"date_of_birth\":\"2021-08-07T00:00:00.000\",\"outcome_type\":\"Transfer\",\"outcome_subtype\":\"Partner\",\"animal_type\":\"Cat\",\"sex_upon_outcome\":\"Intact Female\",\"age_upon_outcome\":\"2 months\",\"breed\":\"Domestic Shorthair\",\"color\":\"Torbie/White\"}\\n,{\"animal_id\":\"A841950\",\"name\":\"*Leonard\",\"datetime\":\"2021-10-11T17:41:00.000\",\"monthyear\":\"2021-10-11T17:41:00.000\",\"date_of_birth\":\"2021-08-07T00:00:00.000\",\"outcome_type\":\"Transfer\",\"outcome_subtype\":\"Partner\",\"animal_type\":\"Cat\",\"sex_upon_outcome\":\"Intact Male\",\"age_upon_outcome\":\"2 months\",\"breed\":\"Domestic Shorthair\",\"color\":\"Black/White\"}\\n,{\"animal_id\":\"A843724\",\"name\":\"A843724\",\"datetime\":\"2021-10-11T17:38:00.000\",\"monthyear\":\"2021-10-11T17:38:00.000\",\"date_of_birth\":\"2020-10-05T00:00:00.000\",\"outcome_type\":\"Adoption\",\"animal_type\":\"Cat\",\"sex_upon_outcome\":\"Neutered Male\",\"age_upon_outcome\":\"1 year\",\"breed\":\"Bengal\",\"color\":\"Brown Tabby\"}\\n,{\"animal_id\":\"A843707\",\"name\":\"Vee\",\"datetime\":\"2021-10-11T17:25:00.000\",\"monthyear\":\"2021-10-11T17:25:00.000\",\"date_of_birth\":\"2021-07-05T00:00:00.000\",\"outcome_type\":\"Adoption\",\"animal_type\":\"Cat\",\"sex_upon_outcome\":\"Neutered Male\",\"age_upon_outcome\":\"3 months\",\"breed\":\"Domestic Shorthair\",\"color\":\"Brown Tabby/White\"}\\n,{\"animal_id\":\"A842753\",\"name\":\"*Charlie\",\"datetime\":\"2021-10-11T17:12:00.000\",\"monthyear\":\"2021-10-11T17:12:00.000\",\"date_of_birth\":\"2021-08-12T00:00:00.000\",\"outcome_type\":\"Adoption\",\"animal_type\":\"Cat\",\"sex_upon_outcome\":\"Neutered Male\",\"age_upon_outcome\":\"1 month\",\"breed\":\"Domestic Shorthair\",\"color\":\"Brown Tabby/White\"}\\n,{\"animal_id\":\"A843951\",\"name\":\"Baby\",\"datetime\":\"2021-10-11T17:05:00.000\",\"monthyear\":\"2021-10-11T17:05:00.000\",\"date_of_birth\":\"2021-07-24T00:00:00.000\",\"outcome_type\":\"Adoption\",\"animal_type\":\"Cat\",\"sex_upon_outcome\":\"Neutered Male\",\"age_upon_outcome\":\"2 months\",\"breed\":\"Domestic Shorthair\",\"color\":\"Black\"}\\n,{\"animal_id\":\"A843389\",\"name\":\"A843389\",\"datetime\":\"2021-10-11T16:52:00.000\",\"monthyear\":\"2021-10-11T16:52:00.000\",\"date_of_birth\":\"2021-04-30T00:00:00.000\",\"outcome_type\":\"Adoption\",\"animal_type\":\"Cat\",\"sex_upon_outcome\":\"Neutered Male\",\"age_upon_outcome\":\"5 months\",\"breed\":\"Domestic Shorthair Mix\",\"color\":\"Brown Tabby/White\"}\\n,{\"animal_id\":\"A841366\",\"name\":\"*Purple\",\"datetime\":\"2021-10-11T16:49:00.000\",\"monthyear\":\"2021-10-11T16:49:00.000\",\"date_of_birth\":\"2021-07-26T00:00:00.000\",\"outcome_type\":\"Adoption\",\"animal_type\":\"Cat\",\"sex_upon_outcome\":\"Neutered Male\",\"age_upon_outcome\":\"2 months\",\"breed\":\"Domestic Shorthair Mix\",\"color\":\"Black\"}\\n,{\"animal_id\":\"A842172\",\"name\":\"Sunderlin\",\"datetime\":\"2021-10-11T16:47:00.000\",\"monthyear\":\"2021-10-11T16:47:00.000\",\"date_of_birth\":\"2016-09-10T00:00:00.000\",\"outcome_type\":\"Adoption\",\"animal_type\":\"Cat\",\"sex_upon_outcome\":\"Neutered Male\",\"age_upon_outcome\":\"5 years\",\"breed\":\"Domestic Shorthair Mix\",\"color\":\"Black/White\"}\\n,{\"animal_id\":\"A843452\",\"name\":\"Oso\",\"datetime\":\"2021-10-11T16:34:00.000\",\"monthyear\":\"2021-10-11T16:34:00.000\",\"date_of_birth\":\"2019-10-01T00:00:00.000\",\"outcome_type\":\"Adoption\",\"animal_type\":\"Dog\",\"sex_upon_outcome\":\"Neutered Male\",\"age_upon_outcome\":\"2 years\",\"breed\":\"Great Pyrenees\",\"color\":\"White\"}\\n,{\"animal_id\":\"A841367\",\"name\":\"Lucid\",\"datetime\":\"2021-10-11T16:32:00.000\",\"monthyear\":\"2021-10-11T16:32:00.000\",\"date_of_birth\":\"2021-07-26T00:00:00.000\",\"outcome_type\":\"Adoption\",\"animal_type\":\"Cat\",\"sex_upon_outcome\":\"Spayed Female\",\"age_upon_outcome\":\"2 months\",\"breed\":\"Domestic Shorthair Mix\",\"color\":\"Black\"}\\n,{\"animal_id\":\"A843440\",\"name\":\"Gangsta\",\"datetime\":\"2021-10-11T16:25:00.000\",\"monthyear\":\"2021-10-11T16:25:00.000\",\"date_of_birth\":\"2021-05-15T00:00:00.000\",\"outcome_type\":\"Adoption\",\"animal_type\":\"Cat\",\"sex_upon_outcome\":\"Neutered Male\",\"age_upon_outcome\":\"4 months\",\"breed\":\"Domestic Shorthair Mix\",\"color\":\"Orange Tabby/White\"}\\n,{\"animal_id\":\"A843596\",\"name\":\"Bentley\",\"datetime\":\"2021-10-11T16:15:00.000\",\"monthyear\":\"2021-10-11T16:15:00.000\",\"date_of_birth\":\"2018-10-04T00:00:00.000\",\"outcome_type\":\"Adoption\",\"animal_type\":\"Dog\",\"sex_upon_outcome\":\"Neutered Male\",\"age_upon_outcome\":\"3 years\",\"breed\":\"Chihuahua Shorthair\",\"color\":\"Tan/White\"}\\n,{\"animal_id\":\"A842271\",\"name\":\"Buster\",\"datetime\":\"2021-10-11T16:14:00.000\",\"monthyear\":\"2021-10-11T16:14:00.000\",\"date_of_birth\":\"2012-03-13T00:00:00.000\",\"outcome_type\":\"Return to Owner\",\"animal_type\":\"Dog\",\"sex_upon_outcome\":\"Neutered Male\",\"age_upon_outcome\":\"9 years\",\"breed\":\"German Shepherd Mix\",\"color\":\"Tan\"}\\n,{\"animal_id\":\"A843954\",\"name\":\"Marie\",\"datetime\":\"2021-10-11T16:01:00.000\",\"monthyear\":\"2021-10-11T16:01:00.000\",\"date_of_birth\":\"2021-07-24T00:00:00.000\",\"outcome_type\":\"Adoption\",\"animal_type\":\"Cat\",\"sex_upon_outcome\":\"Spayed Female\",\"age_upon_outcome\":\"2 months\",\"breed\":\"Siamese\",\"color\":\"Chocolate Point\"}\\n,{\"animal_id\":\"A843495\",\"name\":\"Lulu\",\"datetime\":\"2021-10-11T15:53:00.000\",\"monthyear\":\"2021-10-11T15:53:00.000\",\"date_of_birth\":\"2021-03-01T00:00:00.000\",\"outcome_type\":\"Adoption\",\"animal_type\":\"Dog\",\"sex_upon_outcome\":\"Spayed Female\",\"age_upon_outcome\":\"7 months\",\"breed\":\"Boxer Mix\",\"color\":\"Brown/White\"}\\n,{\"animal_id\":\"A844041\",\"name\":\"Rocky\",\"datetime\":\"2021-10-11T15:50:00.000\",\"monthyear\":\"2021-10-11T15:50:00.000\",\"date_of_birth\":\"2019-10-11T00:00:00.000\",\"outcome_type\":\"Return to Owner\",\"animal_type\":\"Dog\",\"sex_upon_outcome\":\"Neutered Male\",\"age_upon_outcome\":\"2 years\",\"breed\":\"Rottweiler\",\"color\":\"Black/Brown\"}\\n,{\"animal_id\":\"A838955\",\"name\":\"*George\",\"datetime\":\"2021-10-11T15:26:00.000\",\"monthyear\":\"2021-10-11T15:26:00.000\",\"date_of_birth\":\"2021-01-14T00:00:00.000\",\"outcome_type\":\"Adoption\",\"animal_type\":\"Dog\",\"sex_upon_outcome\":\"Intact Male\",\"age_upon_outcome\":\"8 months\",\"breed\":\"Standard Poodle\",\"color\":\"Brown\"}\\n,{\"animal_id\":\"A843147\",\"name\":\"*Stubz\",\"datetime\":\"2021-10-11T15:23:00.000\",\"monthyear\":\"2021-10-11T15:23:00.000\",\"date_of_birth\":\"2019-09-27T00:00:00.000\",\"outcome_type\":\"Transfer\",\"outcome_subtype\":\"Partner\",\"animal_type\":\"Dog\",\"sex_upon_outcome\":\"Intact Male\",\"age_upon_outcome\":\"2 years\",\"breed\":\"Pit Bull\",\"color\":\"Black/White\"}\\n,{\"animal_id\":\"A844001\",\"name\":\"Toby\",\"datetime\":\"2021-10-11T14:36:00.000\",\"monthyear\":\"2021-10-11T14:36:00.000\",\"date_of_birth\":\"2020-11-10T00:00:00.000\",\"outcome_type\":\"Return to Owner\",\"animal_type\":\"Dog\",\"sex_upon_outcome\":\"Intact Male\",\"age_upon_outcome\":\"11 months\",\"breed\":\"Labrador Retriever Mix\",\"color\":\"Tan\"}\\n,{\"animal_id\":\"A843976\",\"name\":\"*Twinkle\",\"datetime\":\"2021-10-11T14:15:00.000\",\"monthyear\":\"2021-10-11T14:15:00.000\",\"date_of_birth\":\"2021-06-09T00:00:00.000\",\"outcome_type\":\"Transfer\",\"outcome_subtype\":\"Partner\",\"animal_type\":\"Dog\",\"sex_upon_outcome\":\"Intact Female\",\"age_upon_outcome\":\"4 months\",\"breed\":\"Cocker Spaniel/Border Collie\",\"color\":\"White\"}\\n,{\"animal_id\":\"A844049\",\"name\":\"A844049\",\"datetime\":\"2021-10-11T14:01:00.000\",\"monthyear\":\"2021-10-11T14:01:00.000\",\"date_of_birth\":\"2021-08-11T00:00:00.000\",\"outcome_type\":\"Euthanasia\",\"outcome_subtype\":\"Suffering\",\"animal_type\":\"Cat\",\"sex_upon_outcome\":\"Intact Female\",\"age_upon_outcome\":\"1 month\",\"breed\":\"Domestic Shorthair Mix\",\"color\":\"Black\"}\\n,{\"animal_id\":\"A843437\",\"name\":\"Evan\",\"datetime\":\"2021-10-11T13:25:00.000\",\"monthyear\":\"2021-10-11T13:25:00.000\",\"date_of_birth\":\"2021-07-21T00:00:00.000\",\"outcome_type\":\"Adoption\",\"animal_type\":\"Dog\",\"sex_upon_outcome\":\"Neutered Male\",\"age_upon_outcome\":\"2 months\",\"breed\":\"Labrador Retriever Mix\",\"color\":\"Black/Brown Brindle\"}\\n,{\"animal_id\":\"A843435\",\"name\":\"Biscuit\",\"datetime\":\"2021-10-11T13:24:00.000\",\"monthyear\":\"2021-10-11T13:24:00.000\",\"date_of_birth\":\"2021-07-21T00:00:00.000\",\"outcome_type\":\"Adoption\",\"animal_type\":\"Dog\",\"sex_upon_outcome\":\"Neutered Male\",\"age_upon_outcome\":\"2 months\",\"breed\":\"Labrador Retriever Mix\",\"color\":\"Black\"}\\n,{\"animal_id\":\"A842846\",\"name\":\"Miss Sunshine\",\"datetime\":\"2021-10-11T12:15:00.000\",\"monthyear\":\"2021-10-11T12:15:00.000\",\"date_of_birth\":\"2018-09-22T00:00:00.000\",\"outcome_type\":\"Adoption\",\"animal_type\":\"Cat\",\"sex_upon_outcome\":\"Spayed Female\",\"age_upon_outcome\":\"3 years\",\"breed\":\"Domestic Shorthair\",\"color\":\"Orange Tabby/White\"}\\n,{\"animal_id\":\"A839394\",\"name\":\"Navi\",\"datetime\":\"2021-10-11T11:54:00.000\",\"monthyear\":\"2021-10-11T11:54:00.000\",\"date_of_birth\":\"2019-07-21T00:00:00.000\",\"outcome_type\":\"Adoption\",\"animal_type\":\"Cat\",\"sex_upon_outcome\":\"Spayed Female\",\"age_upon_outcome\":\"2 years\",\"breed\":\"Siamese\",\"color\":\"Seal Point\"}\\n,{\"animal_id\":\"A843865\",\"name\":\"Milo\",\"datetime\":\"2021-10-11T11:37:00.000\",\"monthyear\":\"2021-10-11T11:37:00.000\",\"date_of_birth\":\"2020-02-07T00:00:00.000\",\"outcome_type\":\"Transfer\",\"outcome_subtype\":\"Partner\",\"animal_type\":\"Dog\",\"sex_upon_outcome\":\"Intact Male\",\"age_upon_outcome\":\"1 year\",\"breed\":\"Chihuahua Shorthair/Papillon\",\"color\":\"White\"}\\n,{\"animal_id\":\"A843871\",\"name\":\"*Ember\",\"datetime\":\"2021-10-11T11:37:00.000\",\"monthyear\":\"2021-10-11T11:37:00.000\",\"date_of_birth\":\"2021-04-07T00:00:00.000\",\"outcome_type\":\"Transfer\",\"outcome_subtype\":\"Partner\",\"animal_type\":\"Dog\",\"sex_upon_outcome\":\"Intact Female\",\"age_upon_outcome\":\"6 months\",\"breed\":\"Chihuahua Shorthair Mix\",\"color\":\"Brown/White\"}\\n,{\"animal_id\":\"A808881\",\"name\":\"Palermo\",\"datetime\":\"2021-10-11T11:27:00.000\",\"monthyear\":\"2021-10-11T11:27:00.000\",\"date_of_birth\":\"2019-08-31T00:00:00.000\",\"outcome_type\":\"Return to Owner\",\"animal_type\":\"Cat\",\"sex_upon_outcome\":\"Neutered Male\",\"age_upon_outcome\":\"2 years\",\"breed\":\"Domestic Shorthair\",\"color\":\"Brown Tabby\"}\\n,{\"animal_id\":\"A843912\",\"datetime\":\"2021-10-11T11:20:00.000\",\"monthyear\":\"2021-10-11T11:20:00.000\",\"date_of_birth\":\"2019-10-08T00:00:00.000\",\"outcome_type\":\"Disposal\",\"animal_type\":\"Other\",\"sex_upon_outcome\":\"Unknown\",\"age_upon_outcome\":\"2 years\",\"breed\":\"Bat\",\"color\":\"Brown\"}\\n,{\"animal_id\":\"A843566\",\"name\":\"*Beanie\",\"datetime\":\"2021-10-11T10:52:00.000\",\"monthyear\":\"2021-10-11T10:52:00.000\",\"date_of_birth\":\"2021-01-03T00:00:00.000\",\"outcome_type\":\"Adoption\",\"animal_type\":\"Dog\",\"sex_upon_outcome\":\"Spayed Female\",\"age_upon_outcome\":\"9 months\",\"breed\":\"Australian Cattle Dog Mix\",\"color\":\"Brown/White\"}\\n,{\"animal_id\":\"A843890\",\"datetime\":\"2021-10-11T00:00:00.000\",\"monthyear\":\"2021-10-11T00:00:00.000\",\"date_of_birth\":\"2020-10-07T00:00:00.000\",\"outcome_type\":\"Transfer\",\"outcome_subtype\":\"Snr\",\"animal_type\":\"Cat\",\"sex_upon_outcome\":\"Unknown\",\"age_upon_outcome\":\"1 year\",\"breed\":\"Domestic Shorthair\",\"color\":\"Blue/White\"}\\n,{\"animal_id\":\"A843997\",\"name\":\"A843997\",\"datetime\":\"2021-10-10T23:33:00.000\",\"monthyear\":\"2021-10-10T23:33:00.000\",\"date_of_birth\":\"2013-10-10T00:00:00.000\",\"outcome_type\":\"Return to Owner\",\"outcome_subtype\":\"Customer S\",\"animal_type\":\"Dog\",\"sex_upon_outcome\":\"Intact Female\",\"age_upon_outcome\":\"8 years\",\"breed\":\"English Setter\",\"color\":\"White/Brown\"}\\n,{\"animal_id\":\"A732703\",\"name\":\"Kade\",\"datetime\":\"2021-10-10T18:51:00.000\",\"monthyear\":\"2021-10-10T18:51:00.000\",\"date_of_birth\":\"2013-08-02T00:00:00.000\",\"outcome_type\":\"Return to Owner\",\"animal_type\":\"Dog\",\"sex_upon_outcome\":\"Neutered Male\",\"age_upon_outcome\":\"8 years\",\"breed\":\"Great Dane/Boxer\",\"color\":\"Tan/White\"}\\n,{\"animal_id\":\"A843996\",\"name\":\"321 Grams\",\"datetime\":\"2021-10-10T18:02:00.000\",\"monthyear\":\"2021-10-10T18:02:00.000\",\"date_of_birth\":\"2021-09-19T00:00:00.000\",\"outcome_type\":\"Transfer\",\"outcome_subtype\":\"Partner\",\"animal_type\":\"Cat\",\"sex_upon_outcome\":\"Intact Male\",\"age_upon_outcome\":\"3 weeks\",\"breed\":\"Domestic Shorthair\",\"color\":\"Orange\"}\\n,{\"animal_id\":\"A841047\",\"name\":\"Toulouse\",\"datetime\":\"2021-10-10T17:18:00.000\",\"monthyear\":\"2021-10-10T17:18:00.000\",\"date_of_birth\":\"2021-07-06T00:00:00.000\",\"outcome_type\":\"Adoption\",\"animal_type\":\"Cat\",\"sex_upon_outcome\":\"Neutered Male\",\"age_upon_outcome\":\"3 months\",\"breed\":\"Domestic Shorthair\",\"color\":\"Orange Tabby/White\"}\\n,{\"animal_id\":\"A841854\",\"name\":\"*Phish\",\"datetime\":\"2021-10-10T16:47:00.000\",\"monthyear\":\"2021-10-10T16:47:00.000\",\"date_of_birth\":\"2020-09-04T00:00:00.000\",\"outcome_type\":\"Adoption\",\"animal_type\":\"Dog\",\"sex_upon_outcome\":\"Neutered Male\",\"age_upon_outcome\":\"1 year\",\"breed\":\"American Bulldog\",\"color\":\"White/Chocolate\"}\\n,{\"animal_id\":\"A843446\",\"name\":\"*Mercury\",\"datetime\":\"2021-10-10T15:44:00.000\",\"monthyear\":\"2021-10-10T15:44:00.000\",\"date_of_birth\":\"2020-09-30T00:00:00.000\",\"outcome_type\":\"Transfer\",\"outcome_subtype\":\"Partner\",\"animal_type\":\"Dog\",\"sex_upon_outcome\":\"Intact Male\",\"age_upon_outcome\":\"1 year\",\"breed\":\"Border Collie Mix\",\"color\":\"Black/White\"}\\n,{\"animal_id\":\"A842986\",\"name\":\"*Noosa\",\"datetime\":\"2021-10-10T15:15:00.000\",\"monthyear\":\"2021-10-10T15:15:00.000\",\"date_of_birth\":\"2021-08-09T00:00:00.000\",\"outcome_type\":\"Adoption\",\"animal_type\":\"Cat\",\"sex_upon_outcome\":\"Spayed Female\",\"age_upon_outcome\":\"2 months\",\"breed\":\"Domestic Shorthair Mix\",\"color\":\"Black\"}\\n,{\"animal_id\":\"A843182\",\"name\":\"A843182\",\"datetime\":\"2021-10-10T15:09:00.000\",\"monthyear\":\"2021-10-10T15:09:00.000\",\"date_of_birth\":\"2021-06-27T00:00:00.000\",\"outcome_type\":\"Adoption\",\"animal_type\":\"Cat\",\"sex_upon_outcome\":\"Spayed Female\",\"age_upon_outcome\":\"3 months\",\"breed\":\"Domestic Shorthair\",\"color\":\"Brown Tabby\"}\\n,{\"animal_id\":\"A842958\",\"name\":\"Salem\",\"datetime\":\"2021-10-10T14:53:00.000\",\"monthyear\":\"2021-10-10T14:53:00.000\",\"date_of_birth\":\"2021-01-23T00:00:00.000\",\"outcome_type\":\"Adoption\",\"animal_type\":\"Cat\",\"sex_upon_outcome\":\"Spayed Female\",\"age_upon_outcome\":\"8 months\",\"breed\":\"Domestic Shorthair Mix\",\"color\":\"Black\"}\\n,{\"animal_id\":\"A739560\",\"name\":\"Beau\",\"datetime\":\"2021-10-10T14:45:00.000\",\"monthyear\":\"2021-10-10T14:45:00.000\",\"date_of_birth\":\"2015-12-04T00:00:00.000\",\"outcome_type\":\"Return to Owner\",\"animal_type\":\"Dog\",\"sex_upon_outcome\":\"Neutered Male\",\"age_upon_outcome\":\"5 years\",\"breed\":\"Pointer Mix\",\"color\":\"Brown Brindle/White\"}\\n,{\"animal_id\":\"A843989\",\"name\":\"Ares\",\"datetime\":\"2021-10-10T14:44:00.000\",\"monthyear\":\"2021-10-10T14:44:00.000\",\"date_of_birth\":\"2012-10-10T00:00:00.000\",\"outcome_type\":\"Return to Owner\",\"animal_type\":\"Dog\",\"sex_upon_outcome\":\"Neutered Male\",\"age_upon_outcome\":\"9 years\",\"breed\":\"Australian Shepherd\",\"color\":\"Black/Brown\"}\\n,{\"animal_id\":\"A821758\",\"name\":\"*Soup\",\"datetime\":\"2021-10-10T14:26:00.000\",\"monthyear\":\"2021-10-10T14:26:00.000\",\"date_of_birth\":\"2017-12-18T00:00:00.000\",\"outcome_type\":\"Adoption\",\"animal_type\":\"Dog\",\"sex_upon_outcome\":\"Neutered Male\",\"age_upon_outcome\":\"3 years\",\"breed\":\"Labrador Retriever Mix\",\"color\":\"Tan/White\"}\\n,{\"animal_id\":\"A803374\",\"name\":\"Sasha\",\"datetime\":\"2021-10-10T14:07:00.000\",\"monthyear\":\"2021-10-10T14:07:00.000\",\"date_of_birth\":\"2014-08-31T00:00:00.000\",\"outcome_type\":\"Adoption\",\"animal_type\":\"Dog\",\"sex_upon_outcome\":\"Spayed Female\",\"age_upon_outcome\":\"7 years\",\"breed\":\"Staffordshire\",\"color\":\"White/Gray\"}\\n,{\"animal_id\":\"A842974\",\"name\":\"*Jerry\",\"datetime\":\"2021-10-10T13:55:00.000\",\"monthyear\":\"2021-10-10T13:55:00.000\",\"date_of_birth\":\"2020-12-24T00:00:00.000\",\"outcome_type\":\"Adoption\",\"animal_type\":\"Dog\",\"sex_upon_outcome\":\"Neutered Male\",\"age_upon_outcome\":\"9 months\",\"breed\":\"Doberman Pinsch Mix\",\"color\":\"Chocolate/Tan\"}\\n,{\"animal_id\":\"A843137\",\"name\":\"*Ramona\",\"datetime\":\"2021-10-10T13:24:00.000\",\"monthyear\":\"2021-10-10T13:24:00.000\",\"date_of_birth\":\"2019-09-27T00:00:00.000\",\"outcome_type\":\"Adoption\",\"animal_type\":\"Other\",\"sex_upon_outcome\":\"Intact Female\",\"age_upon_outcome\":\"2 years\",\"breed\":\"Rabbit Sh\",\"color\":\"White/Brown\"}\\n,{\"animal_id\":\"A839883\",\"name\":\"Freddy\",\"datetime\":\"2021-10-10T13:14:00.000\",\"monthyear\":\"2021-10-10T13:14:00.000\",\"date_of_birth\":\"2021-07-07T00:00:00.000\",\"outcome_type\":\"Adoption\",\"animal_type\":\"Cat\",\"sex_upon_outcome\":\"Neutered Male\",\"age_upon_outcome\":\"3 months\",\"breed\":\"Domestic Shorthair Mix\",\"color\":\"White/Orange Tabby\"}\\n,{\"animal_id\":\"A843818\",\"name\":\"*Werewolf\",\"datetime\":\"2021-10-10T13:03:00.000\",\"monthyear\":\"2021-10-10T13:03:00.000\",\"date_of_birth\":\"2021-02-06T00:00:00.000\",\"outcome_type\":\"Adoption\",\"animal_type\":\"Other\",\"sex_upon_outcome\":\"Intact Male\",\"age_upon_outcome\":\"8 months\",\"breed\":\"Guinea Pig\",\"color\":\"Black\"}\\n,{\"animal_id\":\"A843439\",\"name\":\"Screw\",\"datetime\":\"2021-10-10T11:55:00.000\",\"monthyear\":\"2021-10-10T11:55:00.000\",\"date_of_birth\":\"2021-07-21T00:00:00.000\",\"outcome_type\":\"Adoption\",\"animal_type\":\"Dog\",\"sex_upon_outcome\":\"Neutered Male\",\"age_upon_outcome\":\"2 months\",\"breed\":\"Labrador Retriever\",\"color\":\"Brown Brindle\"}\\n,{\"animal_id\":\"A843964\",\"datetime\":\"2021-10-10T09:49:00.000\",\"monthyear\":\"2021-10-10T09:49:00.000\",\"date_of_birth\":\"2019-10-09T00:00:00.000\",\"outcome_type\":\"Euthanasia\",\"outcome_subtype\":\"Suffering\",\"animal_type\":\"Other\",\"sex_upon_outcome\":\"Unknown\",\"age_upon_outcome\":\"2 years\",\"breed\":\"Raccoon\",\"color\":\"Gray\"}\\n,{\"animal_id\":\"A842014\",\"name\":\"Coco\",\"datetime\":\"2021-10-10T00:00:00.000\",\"monthyear\":\"2021-10-10T00:00:00.000\",\"date_of_birth\":\"2019-09-08T00:00:00.000\",\"outcome_type\":\"Transfer\",\"outcome_subtype\":\"Partner\",\"animal_type\":\"Other\",\"sex_upon_outcome\":\"Intact Male\",\"age_upon_outcome\":\"2 years\",\"breed\":\"Rabbit Sh\",\"color\":\"Brown\"}\\n,{\"animal_id\":\"A843463\",\"name\":\"*Zephyr\",\"datetime\":\"2021-10-09T20:44:00.000\",\"monthyear\":\"2021-10-09T20:44:00.000\",\"date_of_birth\":\"2021-08-13T00:00:00.000\",\"outcome_type\":\"Adoption\",\"animal_type\":\"Cat\",\"sex_upon_outcome\":\"Spayed Female\",\"age_upon_outcome\":\"1 month\",\"breed\":\"Domestic Shorthair\",\"color\":\"Orange Tabby\"}\\n,{\"animal_id\":\"A843681\",\"name\":\"Magic\",\"datetime\":\"2021-10-09T18:51:00.000\",\"monthyear\":\"2021-10-09T18:51:00.000\",\"date_of_birth\":\"2017-10-05T00:00:00.000\",\"outcome_type\":\"Adoption\",\"animal_type\":\"Dog\",\"sex_upon_outcome\":\"Neutered Male\",\"age_upon_outcome\":\"4 years\",\"breed\":\"Siberian Husky\",\"color\":\"White/Brown\"}\\n,{\"animal_id\":\"A842785\",\"name\":\"Reef\",\"datetime\":\"2021-10-09T18:43:00.000\",\"monthyear\":\"2021-10-09T18:43:00.000\",\"date_of_birth\":\"2017-06-21T00:00:00.000\",\"outcome_type\":\"Adoption\",\"animal_type\":\"Dog\",\"sex_upon_outcome\":\"Neutered Male\",\"age_upon_outcome\":\"4 years\",\"breed\":\"Dalmatian Mix\",\"color\":\"White/Black\"}\\n,{\"animal_id\":\"A822114\",\"name\":\"Roman\",\"datetime\":\"2021-10-09T18:27:00.000\",\"monthyear\":\"2021-10-09T18:27:00.000\",\"date_of_birth\":\"2015-08-26T00:00:00.000\",\"outcome_type\":\"Adoption\",\"animal_type\":\"Dog\",\"sex_upon_outcome\":\"Neutered Male\",\"age_upon_outcome\":\"6 years\",\"breed\":\"Pit Bull\",\"color\":\"Blue/White\"}\\n,{\"animal_id\":\"A843861\",\"name\":\"Princess\",\"datetime\":\"2021-10-09T17:47:00.000\",\"monthyear\":\"2021-10-09T17:47:00.000\",\"date_of_birth\":\"2017-10-07T00:00:00.000\",\"outcome_type\":\"Adoption\",\"animal_type\":\"Dog\",\"sex_upon_outcome\":\"Spayed Female\",\"age_upon_outcome\":\"4 years\",\"breed\":\"Chihuahua Shorthair/Pug\",\"color\":\"Black/Tan\"}\\n,{\"animal_id\":\"A842888\",\"name\":\"*Shadow\",\"datetime\":\"2021-10-09T17:29:00.000\",\"monthyear\":\"2021-10-09T17:29:00.000\",\"date_of_birth\":\"2021-08-07T00:00:00.000\",\"outcome_type\":\"Adoption\",\"animal_type\":\"Cat\",\"sex_upon_outcome\":\"Neutered Male\",\"age_upon_outcome\":\"2 months\",\"breed\":\"Domestic Shorthair\",\"color\":\"Blue Tabby\"}\\n,{\"animal_id\":\"A843723\",\"datetime\":\"2021-10-09T16:08:00.000\",\"monthyear\":\"2021-10-09T16:08:00.000\",\"date_of_birth\":\"2019-10-05T00:00:00.000\",\"outcome_type\":\"Euthanasia\",\"outcome_subtype\":\"Suffering\",\"animal_type\":\"Other\",\"sex_upon_outcome\":\"Unknown\",\"age_upon_outcome\":\"2 years\",\"breed\":\"Raccoon\",\"color\":\"Brown\"}\\n,{\"animal_id\":\"A840117\",\"name\":\"*Ozzy Pawsborne\",\"datetime\":\"2021-10-09T15:54:00.000\",\"monthyear\":\"2021-10-09T15:54:00.000\",\"date_of_birth\":\"2019-08-02T00:00:00.000\",\"outcome_type\":\"Adoption\",\"animal_type\":\"Dog\",\"sex_upon_outcome\":\"Neutered Male\",\"age_upon_outcome\":\"2 years\",\"breed\":\"Pointer Mix\",\"color\":\"Black/White\"}\\n,{\"animal_id\":\"A843305\",\"name\":\"Bobby\",\"datetime\":\"2021-10-09T15:42:00.000\",\"monthyear\":\"2021-10-09T15:42:00.000\",\"date_of_birth\":\"2020-03-29T00:00:00.000\",\"outcome_type\":\"Adoption\",\"animal_type\":\"Dog\",\"sex_upon_outcome\":\"Neutered Male\",\"age_upon_outcome\":\"1 year\",\"breed\":\"Australian Cattle Dog Mix\",\"color\":\"Blue Tick/Tan\"}\\n,{\"animal_id\":\"A843921\",\"name\":\"Chichi\",\"datetime\":\"2021-10-09T15:10:00.000\",\"monthyear\":\"2021-10-09T15:10:00.000\",\"date_of_birth\":\"2016-10-09T00:00:00.000\",\"outcome_type\":\"Return to Owner\",\"animal_type\":\"Dog\",\"sex_upon_outcome\":\"Spayed Female\",\"age_upon_outcome\":\"5 years\",\"breed\":\"Chihuahua Shorthair\",\"color\":\"Tan\"}\\n,{\"animal_id\":\"A842938\",\"name\":\"Marcy\",\"datetime\":\"2021-10-09T15:05:00.000\",\"monthyear\":\"2021-10-09T15:05:00.000\",\"date_of_birth\":\"2005-09-23T00:00:00.000\",\"outcome_type\":\"Adoption\",\"animal_type\":\"Dog\",\"sex_upon_outcome\":\"Spayed Female\",\"age_upon_outcome\":\"16 years\",\"breed\":\"Chihuahua Shorthair\",\"color\":\"Brown\"}\\n,{\"animal_id\":\"A843784\",\"name\":\"Mango\",\"datetime\":\"2021-10-09T14:46:00.000\",\"monthyear\":\"2021-10-09T14:46:00.000\",\"date_of_birth\":\"2021-06-06T00:00:00.000\",\"outcome_type\":\"Adoption\",\"animal_type\":\"Cat\",\"sex_upon_outcome\":\"Spayed Female\",\"age_upon_outcome\":\"4 months\",\"breed\":\"Domestic Shorthair\",\"color\":\"Torbie\"}\\n,{\"animal_id\":\"A843810\",\"name\":\"Leo\",\"datetime\":\"2021-10-09T14:46:00.000\",\"monthyear\":\"2021-10-09T14:46:00.000\",\"date_of_birth\":\"2019-10-06T00:00:00.000\",\"outcome_type\":\"Adoption\",\"animal_type\":\"Cat\",\"sex_upon_outcome\":\"Neutered Male\",\"age_upon_outcome\":\"2 years\",\"breed\":\"Domestic Shorthair\",\"color\":\"White/Brown Tabby\"}\\n,{\"animal_id\":\"A843957\",\"name\":\"Dutchess \\\\\"Nana\\\\\" Starr\",\"datetime\":\"2021-10-09T14:07:00.000\",\"monthyear\":\"2021-10-09T14:07:00.000\",\"date_of_birth\":\"2016-10-09T00:00:00.000\",\"outcome_type\":\"Return to Owner\",\"animal_type\":\"Dog\",\"sex_upon_outcome\":\"Intact Female\",\"age_upon_outcome\":\"5 years\",\"breed\":\"Pit Bull\",\"color\":\"Tan\"}\\n,{\"animal_id\":\"A843163\",\"name\":\"*Asuka\",\"datetime\":\"2021-10-09T13:58:00.000\",\"monthyear\":\"2021-10-09T13:58:00.000\",\"date_of_birth\":\"2018-09-27T00:00:00.000\",\"outcome_type\":\"Adoption\",\"animal_type\":\"Cat\",\"sex_upon_outcome\":\"Spayed Female\",\"age_upon_outcome\":\"3 years\",\"breed\":\"Domestic Shorthair Mix\",\"color\":\"Blue Tabby/White\"}\\n,{\"animal_id\":\"A843510\",\"name\":\"Bonita\",\"datetime\":\"2021-10-09T13:52:00.000\",\"monthyear\":\"2021-10-09T13:52:00.000\",\"date_of_birth\":\"2019-10-02T00:00:00.000\",\"outcome_type\":\"Adoption\",\"animal_type\":\"Dog\",\"sex_upon_outcome\":\"Spayed Female\",\"age_upon_outcome\":\"2 years\",\"breed\":\"Great Pyrenees\",\"color\":\"White\"}\\n,{\"animal_id\":\"A843785\",\"name\":\"Luna\",\"datetime\":\"2021-10-09T13:25:00.000\",\"monthyear\":\"2021-10-09T13:25:00.000\",\"date_of_birth\":\"2021-06-06T00:00:00.000\",\"outcome_type\":\"Adoption\",\"animal_type\":\"Cat\",\"sex_upon_outcome\":\"Spayed Female\",\"age_upon_outcome\":\"4 months\",\"breed\":\"Domestic Shorthair\",\"color\":\"Torbie\"}\\n,{\"animal_id\":\"A842940\",\"name\":\"Honey\",\"datetime\":\"2021-10-09T13:21:00.000\",\"monthyear\":\"2021-10-09T13:21:00.000\",\"date_of_birth\":\"2021-06-08T00:00:00.000\",\"outcome_type\":\"Adoption\",\"animal_type\":\"Dog\",\"sex_upon_outcome\":\"Spayed Female\",\"age_upon_outcome\":\"4 months\",\"breed\":\"Australian Cattle Dog Mix\",\"color\":\"Tan/White\"}\\n,{\"animal_id\":\"A843467\",\"name\":\"Oreo\",\"datetime\":\"2021-10-09T13:02:00.000\",\"monthyear\":\"2021-10-09T13:02:00.000\",\"date_of_birth\":\"2020-10-01T00:00:00.000\",\"outcome_type\":\"Adoption\",\"animal_type\":\"Dog\",\"sex_upon_outcome\":\"Spayed Female\",\"age_upon_outcome\":\"1 year\",\"breed\":\"Siberian Husky Mix\",\"color\":\"Black/White\"}\\n,{\"animal_id\":\"A843436\",\"name\":\"Scooby\",\"datetime\":\"2021-10-09T12:07:00.000\",\"monthyear\":\"2021-10-09T12:07:00.000\",\"date_of_birth\":\"2021-07-21T00:00:00.000\",\"outcome_type\":\"Adoption\",\"animal_type\":\"Dog\",\"sex_upon_outcome\":\"Neutered Male\",\"age_upon_outcome\":\"2 months\",\"breed\":\"Labrador Retriever\",\"color\":\"Brown Brindle/White\"}\\n,{\"animal_id\":\"A837941\",\"name\":\"A837941\",\"datetime\":\"2021-10-09T11:44:00.000\",\"monthyear\":\"2021-10-09T11:44:00.000\",\"date_of_birth\":\"2021-04-14T00:00:00.000\",\"outcome_type\":\"Adoption\",\"outcome_subtype\":\"Foster\",\"animal_type\":\"Cat\",\"sex_upon_outcome\":\"Spayed Female\",\"age_upon_outcome\":\"5 months\",\"breed\":\"Domestic Shorthair\",\"color\":\"Black/White\"}\\n,{\"animal_id\":\"A842313\",\"name\":\"*Skits\",\"datetime\":\"2021-10-09T11:41:00.000\",\"monthyear\":\"2021-10-09T11:41:00.000\",\"date_of_birth\":\"2021-07-31T00:00:00.000\",\"outcome_type\":\"Adoption\",\"outcome_subtype\":\"Foster\",\"animal_type\":\"Cat\",\"sex_upon_outcome\":\"Spayed Female\",\"age_upon_outcome\":\"2 months\",\"breed\":\"Domestic Longhair\",\"color\":\"Blue\"}\\n,{\"animal_id\":\"A841529\",\"name\":\"*Bear\",\"datetime\":\"2021-10-09T11:38:00.000\",\"monthyear\":\"2021-10-09T11:38:00.000\",\"date_of_birth\":\"2021-07-23T00:00:00.000\",\"outcome_type\":\"Adoption\",\"outcome_subtype\":\"Foster\",\"animal_type\":\"Cat\",\"sex_upon_outcome\":\"Neutered Male\",\"age_upon_outcome\":\"2 months\",\"breed\":\"Domestic Shorthair\",\"color\":\"Black\"}\\n,{\"animal_id\":\"A841328\",\"datetime\":\"2021-10-09T11:32:00.000\",\"monthyear\":\"2021-10-09T11:32:00.000\",\"date_of_birth\":\"2021-07-26T00:00:00.000\",\"outcome_type\":\"Adoption\",\"outcome_subtype\":\"Foster\",\"animal_type\":\"Cat\",\"sex_upon_outcome\":\"Spayed Female\",\"age_upon_outcome\":\"2 months\",\"breed\":\"Domestic Longhair\",\"color\":\"Blue/White\"}\\n,{\"animal_id\":\"A841327\",\"datetime\":\"2021-10-09T11:28:00.000\",\"monthyear\":\"2021-10-09T11:28:00.000\",\"date_of_birth\":\"2021-07-26T00:00:00.000\",\"outcome_type\":\"Adoption\",\"outcome_subtype\":\"Foster\",\"animal_type\":\"Cat\",\"sex_upon_outcome\":\"Neutered Male\",\"age_upon_outcome\":\"2 months\",\"breed\":\"Domestic Longhair\",\"color\":\"Blue/White\"}\\n,{\"animal_id\":\"A843684\",\"datetime\":\"2021-10-09T11:14:00.000\",\"monthyear\":\"2021-10-09T11:14:00.000\",\"date_of_birth\":\"2021-08-21T00:00:00.000\",\"outcome_type\":\"Transfer\",\"outcome_subtype\":\"Partner\",\"animal_type\":\"Dog\",\"sex_upon_outcome\":\"Intact Male\",\"age_upon_outcome\":\"1 month\",\"breed\":\"Great Pyrenees\",\"color\":\"White\"}\\n,{\"animal_id\":\"A842363\",\"name\":\"*Brioche\",\"datetime\":\"2021-10-09T11:00:00.000\",\"monthyear\":\"2021-10-09T11:00:00.000\",\"date_of_birth\":\"2021-08-07T00:00:00.000\",\"outcome_type\":\"Adoption\",\"outcome_subtype\":\"Foster\",\"animal_type\":\"Cat\",\"sex_upon_outcome\":\"Spayed Female\",\"age_upon_outcome\":\"2 months\",\"breed\":\"Domestic Medium Hair\",\"color\":\"Black\"}\\n,{\"animal_id\":\"A842364\",\"name\":\"*Focaccia\",\"datetime\":\"2021-10-09T10:46:00.000\",\"monthyear\":\"2021-10-09T10:46:00.000\",\"date_of_birth\":\"2021-08-07T00:00:00.000\",\"outcome_type\":\"Adoption\",\"outcome_subtype\":\"Foster\",\"animal_type\":\"Cat\",\"sex_upon_outcome\":\"Spayed Female\",\"age_upon_outcome\":\"2 months\",\"breed\":\"Domestic Medium Hair\",\"color\":\"Black\"}\\n,{\"animal_id\":\"A842996\",\"name\":\"*Trilby\",\"datetime\":\"2021-10-09T10:40:00.000\",\"monthyear\":\"2021-10-09T10:40:00.000\",\"date_of_birth\":\"2021-08-08T00:00:00.000\",\"outcome_type\":\"Adoption\",\"outcome_subtype\":\"Foster\",\"animal_type\":\"Dog\",\"sex_upon_outcome\":\"Spayed Female\",\"age_upon_outcome\":\"2 months\",\"breed\":\"Dachshund Mix\",\"color\":\"Brown Merle\"}\\n,{\"animal_id\":\"A841185\",\"name\":\"*Butter Bean\",\"datetime\":\"2021-10-09T10:30:00.000\",\"monthyear\":\"2021-10-09T10:30:00.000\",\"date_of_birth\":\"2021-07-20T00:00:00.000\",\"outcome_type\":\"Adoption\",\"outcome_subtype\":\"Foster\",\"animal_type\":\"Cat\",\"sex_upon_outcome\":\"Neutered Male\",\"age_upon_outcome\":\"2 months\",\"breed\":\"Domestic Shorthair\",\"color\":\"Orange Tabby\"}\\n,{\"animal_id\":\"A842993\",\"name\":\"*Fedora\",\"datetime\":\"2021-10-09T10:28:00.000\",\"monthyear\":\"2021-10-09T10:28:00.000\",\"date_of_birth\":\"2021-08-08T00:00:00.000\",\"outcome_type\":\"Adoption\",\"outcome_subtype\":\"Foster\",\"animal_type\":\"Dog\",\"sex_upon_outcome\":\"Neutered Male\",\"age_upon_outcome\":\"2 months\",\"breed\":\"Dachshund Mix\",\"color\":\"Tan\"}\\n,{\"animal_id\":\"A842994\",\"name\":\"*Fez\",\"datetime\":\"2021-10-09T10:14:00.000\",\"monthyear\":\"2021-10-09T10:14:00.000\",\"date_of_birth\":\"2021-08-08T00:00:00.000\",\"outcome_type\":\"Adoption\",\"outcome_subtype\":\"Foster\",\"animal_type\":\"Dog\",\"sex_upon_outcome\":\"Neutered Male\",\"age_upon_outcome\":\"2 months\",\"breed\":\"Dachshund Mix\",\"color\":\"Tan/White\"}\\n,{\"animal_id\":\"A842365\",\"name\":\"*Pita\",\"datetime\":\"2021-10-09T10:09:00.000\",\"monthyear\":\"2021-10-09T10:09:00.000\",\"date_of_birth\":\"2021-08-07T00:00:00.000\",\"outcome_type\":\"Adoption\",\"outcome_subtype\":\"Foster\",\"animal_type\":\"Cat\",\"sex_upon_outcome\":\"Spayed Female\",\"age_upon_outcome\":\"2 months\",\"breed\":\"Domestic Medium Hair\",\"color\":\"Black/White\"}\\n,{\"animal_id\":\"A835194\",\"name\":\"*Jango\",\"datetime\":\"2021-10-09T10:07:00.000\",\"monthyear\":\"2021-10-09T10:07:00.000\",\"date_of_birth\":\"2009-05-26T00:00:00.000\",\"outcome_type\":\"Adoption\",\"outcome_subtype\":\"Foster\",\"animal_type\":\"Dog\",\"sex_upon_outcome\":\"Neutered Male\",\"age_upon_outcome\":\"12 years\",\"breed\":\"Australian Shepherd\",\"color\":\"Chocolate/White\"}\\n,{\"animal_id\":\"A841434\",\"name\":\"*Victoria\",\"datetime\":\"2021-10-09T08:09:00.000\",\"monthyear\":\"2021-10-09T08:09:00.000\",\"date_of_birth\":\"2021-07-12T00:00:00.000\",\"outcome_type\":\"Adoption\",\"outcome_subtype\":\"Foster\",\"animal_type\":\"Cat\",\"sex_upon_outcome\":\"Spayed Female\",\"age_upon_outcome\":\"2 months\",\"breed\":\"Domestic Shorthair\",\"color\":\"Tortie\"}\\n,{\"animal_id\":\"A841325\",\"name\":\"*Albert\",\"datetime\":\"2021-10-09T08:09:00.000\",\"monthyear\":\"2021-10-09T08:09:00.000\",\"date_of_birth\":\"2021-07-20T00:00:00.000\",\"outcome_type\":\"Adoption\",\"outcome_subtype\":\"Foster\",\"animal_type\":\"Cat\",\"sex_upon_outcome\":\"Neutered Male\",\"age_upon_outcome\":\"2 months\",\"breed\":\"Domestic Shorthair\",\"color\":\"Cream Tabby/White\"}\\n,{\"animal_id\":\"A836279\",\"name\":\"*Pierre\",\"datetime\":\"2021-10-09T07:46:00.000\",\"monthyear\":\"2021-10-09T07:46:00.000\",\"date_of_birth\":\"2015-06-08T00:00:00.000\",\"outcome_type\":\"Adoption\",\"outcome_subtype\":\"Foster\",\"animal_type\":\"Cat\",\"sex_upon_outcome\":\"Neutered Male\",\"age_upon_outcome\":\"6 years\",\"breed\":\"Domestic Shorthair\",\"color\":\"White/Gray\"}\\n,{\"animal_id\":\"A842283\",\"name\":\"*Smudge\",\"datetime\":\"2021-10-08T19:07:00.000\",\"monthyear\":\"2021-10-08T19:07:00.000\",\"date_of_birth\":\"2019-09-13T00:00:00.000\",\"outcome_type\":\"Adoption\",\"animal_type\":\"Dog\",\"sex_upon_outcome\":\"Neutered Male\",\"age_upon_outcome\":\"2 years\",\"breed\":\"Australian Cattle Dog Mix\",\"color\":\"Tricolor/Red\"}\\n,{\"animal_id\":\"A833569\",\"name\":\"Fendi\",\"datetime\":\"2021-10-08T19:05:00.000\",\"monthyear\":\"2021-10-08T19:05:00.000\",\"date_of_birth\":\"2019-05-03T00:00:00.000\",\"outcome_type\":\"Return to Owner\",\"animal_type\":\"Dog\",\"sex_upon_outcome\":\"Spayed Female\",\"age_upon_outcome\":\"2 years\",\"breed\":\"American Pit Bull Terrier\",\"color\":\"White\"}\\n,{\"animal_id\":\"A843152\",\"name\":\"*Ro\",\"datetime\":\"2021-10-08T18:18:00.000\",\"monthyear\":\"2021-10-08T18:18:00.000\",\"date_of_birth\":\"2020-09-27T00:00:00.000\",\"outcome_type\":\"Adoption\",\"animal_type\":\"Other\",\"sex_upon_outcome\":\"Intact Male\",\"age_upon_outcome\":\"1 year\",\"breed\":\"Guinea Pig\",\"color\":\"White/Brown\"}\\n,{\"animal_id\":\"A842182\",\"name\":\"Ruby\",\"datetime\":\"2021-10-08T17:47:00.000\",\"monthyear\":\"2021-10-08T17:47:00.000\",\"date_of_birth\":\"2021-06-11T00:00:00.000\",\"outcome_type\":\"Adoption\",\"animal_type\":\"Dog\",\"sex_upon_outcome\":\"Spayed Female\",\"age_upon_outcome\":\"3 months\",\"breed\":\"German Shepherd Mix\",\"color\":\"Black/Brown\"}\\n,{\"animal_id\":\"A843497\",\"name\":\"*Jazz\",\"datetime\":\"2021-10-08T17:43:00.000\",\"monthyear\":\"2021-10-08T17:43:00.000\",\"date_of_birth\":\"2020-10-01T00:00:00.000\",\"outcome_type\":\"Adoption\",\"animal_type\":\"Cat\",\"sex_upon_outcome\":\"Spayed Female\",\"age_upon_outcome\":\"1 year\",\"breed\":\"Domestic Shorthair\",\"color\":\"Blue\"}\\n,{\"animal_id\":\"A843493\",\"name\":\"Magic\",\"datetime\":\"2021-10-08T17:41:00.000\",\"monthyear\":\"2021-10-08T17:41:00.000\",\"date_of_birth\":\"2018-04-01T00:00:00.000\",\"outcome_type\":\"Adoption\",\"animal_type\":\"Dog\",\"sex_upon_outcome\":\"Neutered Male\",\"age_upon_outcome\":\"3 years\",\"breed\":\"Labrador Retriever\",\"color\":\"Black/White\"}\\n,{\"animal_id\":\"A843860\",\"name\":\"China\",\"datetime\":\"2021-10-08T17:15:00.000\",\"monthyear\":\"2021-10-08T17:15:00.000\",\"date_of_birth\":\"2020-04-07T00:00:00.000\",\"outcome_type\":\"Adoption\",\"animal_type\":\"Dog\",\"sex_upon_outcome\":\"Spayed Female\",\"age_upon_outcome\":\"1 year\",\"breed\":\"Miniature Schnauzer Mix\",\"color\":\"Gray/Tan\"}\\n,{\"animal_id\":\"A843103\",\"datetime\":\"2021-10-08T17:05:00.000\",\"monthyear\":\"2021-10-08T17:05:00.000\",\"date_of_birth\":\"2020-03-27T00:00:00.000\",\"outcome_type\":\"Adoption\",\"animal_type\":\"Dog\",\"sex_upon_outcome\":\"Neutered Male\",\"age_upon_outcome\":\"1 year\",\"breed\":\"Chihuahua Shorthair\",\"color\":\"Tan/Black\"}\\n,{\"animal_id\":\"A843461\",\"name\":\"*Delicata\",\"datetime\":\"2021-10-08T16:56:00.000\",\"monthyear\":\"2021-10-08T16:56:00.000\",\"date_of_birth\":\"2021-08-13T00:00:00.000\",\"outcome_type\":\"Adoption\",\"animal_type\":\"Cat\",\"sex_upon_outcome\":\"Neutered Male\",\"age_upon_outcome\":\"1 month\",\"breed\":\"Domestic Shorthair\",\"color\":\"Orange Tabby\"}\\n,{\"animal_id\":\"A842534\",\"name\":\"Max\",\"datetime\":\"2021-10-08T16:49:00.000\",\"monthyear\":\"2021-10-08T16:49:00.000\",\"date_of_birth\":\"2021-08-05T00:00:00.000\",\"outcome_type\":\"Adoption\",\"animal_type\":\"Dog\",\"sex_upon_outcome\":\"Neutered Male\",\"age_upon_outcome\":\"2 months\",\"breed\":\"Dachshund\",\"color\":\"Black\"}\\n,{\"animal_id\":\"A843946\",\"name\":\"126 Grams\",\"datetime\":\"2021-10-08T16:47:00.000\",\"monthyear\":\"2021-10-08T16:47:00.000\",\"date_of_birth\":\"2021-09-28T00:00:00.000\",\"outcome_type\":\"Transfer\",\"outcome_subtype\":\"Partner\",\"animal_type\":\"Cat\",\"sex_upon_outcome\":\"Intact Female\",\"age_upon_outcome\":\"1 weeks\",\"breed\":\"Domestic Shorthair\",\"color\":\"Torbie\"}\\n,{\"animal_id\":\"A843945\",\"name\":\"117 Grams\",\"datetime\":\"2021-10-08T16:47:00.000\",\"monthyear\":\"2021-10-08T16:47:00.000\",\"date_of_birth\":\"2021-09-28T00:00:00.000\",\"outcome_type\":\"Transfer\",\"outcome_subtype\":\"Partner\",\"animal_type\":\"Cat\",\"sex_upon_outcome\":\"Intact Female\",\"age_upon_outcome\":\"1 weeks\",\"breed\":\"Domestic Shorthair\",\"color\":\"Black/White\"}\\n,{\"animal_id\":\"A843629\",\"datetime\":\"2021-10-08T16:41:00.000\",\"monthyear\":\"2021-10-08T16:41:00.000\",\"date_of_birth\":\"2017-10-04T00:00:00.000\",\"outcome_type\":\"Transfer\",\"outcome_subtype\":\"Partner\",\"animal_type\":\"Dog\",\"sex_upon_outcome\":\"Intact Male\",\"age_upon_outcome\":\"4 years\",\"breed\":\"Papillon Mix\",\"color\":\"Black/White\"}\\n,{\"animal_id\":\"A843304\",\"name\":\"Baby Girl\",\"datetime\":\"2021-10-08T16:33:00.000\",\"monthyear\":\"2021-10-08T16:33:00.000\",\"date_of_birth\":\"2019-09-29T00:00:00.000\",\"outcome_type\":\"Adoption\",\"animal_type\":\"Dog\",\"sex_upon_outcome\":\"Spayed Female\",\"age_upon_outcome\":\"2 years\",\"breed\":\"Labrador Retriever\",\"color\":\"Black/White\"}\\n,{\"animal_id\":\"A843635\",\"name\":\"Kenichi\",\"datetime\":\"2021-10-08T16:22:00.000\",\"monthyear\":\"2021-10-08T16:22:00.000\",\"date_of_birth\":\"2001-10-08T00:00:00.000\",\"outcome_type\":\"Return to Owner\",\"animal_type\":\"Cat\",\"sex_upon_outcome\":\"Neutered Male\",\"age_upon_outcome\":\"20 years\",\"breed\":\"Domestic Longhair\",\"color\":\"White\"}\\n,{\"animal_id\":\"A841363\",\"name\":\"*Avocado\",\"datetime\":\"2021-10-08T16:00:00.000\",\"monthyear\":\"2021-10-08T16:00:00.000\",\"date_of_birth\":\"2021-07-26T00:00:00.000\",\"outcome_type\":\"Adoption\",\"animal_type\":\"Cat\",\"sex_upon_outcome\":\"Neutered Male\",\"age_upon_outcome\":\"2 months\",\"breed\":\"Domestic Shorthair Mix\",\"color\":\"Orange Tabby/White\"}\\n,{\"animal_id\":\"A843609\",\"name\":\"A843609\",\"datetime\":\"2021-10-08T15:37:00.000\",\"monthyear\":\"2021-10-08T15:37:00.000\",\"date_of_birth\":\"2021-06-27T00:00:00.000\",\"outcome_type\":\"Adoption\",\"animal_type\":\"Cat\",\"sex_upon_outcome\":\"Neutered Male\",\"age_upon_outcome\":\"3 months\",\"breed\":\"Domestic Medium Hair\",\"color\":\"Brown Tabby\"}\\n,{\"animal_id\":\"A827860\",\"name\":\"*Wallace\",\"datetime\":\"2021-10-08T15:28:00.000\",\"monthyear\":\"2021-10-08T15:28:00.000\",\"date_of_birth\":\"2019-01-02T00:00:00.000\",\"outcome_type\":\"Adoption\",\"animal_type\":\"Dog\",\"sex_upon_outcome\":\"Neutered Male\",\"age_upon_outcome\":\"2 years\",\"breed\":\"Siberian Husky Mix\",\"color\":\"Cream/Black\"}\\n,{\"animal_id\":\"A843498\",\"name\":\"Pricilla\",\"datetime\":\"2021-10-08T15:12:00.000\",\"monthyear\":\"2021-10-08T15:12:00.000\",\"date_of_birth\":\"2018-10-01T00:00:00.000\",\"outcome_type\":\"Return to Owner\",\"animal_type\":\"Cat\",\"sex_upon_outcome\":\"Intact Female\",\"age_upon_outcome\":\"3 years\",\"breed\":\"Domestic Medium Hair Mix\",\"color\":\"Brown Tabby/Black\"}\\n,{\"animal_id\":\"A836113\",\"name\":\"Atlas\",\"datetime\":\"2021-10-08T14:47:00.000\",\"monthyear\":\"2021-10-08T14:47:00.000\",\"date_of_birth\":\"2020-08-06T00:00:00.000\",\"outcome_type\":\"Adoption\",\"animal_type\":\"Dog\",\"sex_upon_outcome\":\"Neutered Male\",\"age_upon_outcome\":\"1 year\",\"breed\":\"Pit Bull Mix\",\"color\":\"Brown Brindle/White\"}\\n,{\"animal_id\":\"A843926\",\"name\":\"156 Grams\",\"datetime\":\"2021-10-08T14:12:00.000\",\"monthyear\":\"2021-10-08T14:12:00.000\",\"date_of_birth\":\"2021-09-20T00:00:00.000\",\"outcome_type\":\"Transfer\",\"outcome_subtype\":\"Partner\",\"animal_type\":\"Cat\",\"sex_upon_outcome\":\"Intact Female\",\"age_upon_outcome\":\"2 weeks\",\"breed\":\"Domestic Medium Hair\",\"color\":\"Brown Tabby\"}\\n,{\"animal_id\":\"A843927\",\"datetime\":\"2021-10-08T14:07:00.000\",\"monthyear\":\"2021-10-08T14:07:00.000\",\"date_of_birth\":\"2019-10-08T00:00:00.000\",\"outcome_type\":\"Euthanasia\",\"outcome_subtype\":\"Rabies Risk\",\"animal_type\":\"Other\",\"sex_upon_outcome\":\"Unknown\",\"age_upon_outcome\":\"2 years\",\"breed\":\"Bat\",\"color\":\"Black\"}\\n,{\"animal_id\":\"A843862\",\"name\":\"Peluchin\",\"datetime\":\"2021-10-08T13:39:00.000\",\"monthyear\":\"2021-10-08T13:39:00.000\",\"date_of_birth\":\"2018-10-07T00:00:00.000\",\"outcome_type\":\"Transfer\",\"outcome_subtype\":\"Partner\",\"animal_type\":\"Dog\",\"sex_upon_outcome\":\"Intact Male\",\"age_upon_outcome\":\"3 years\",\"breed\":\"Papillon Mix\",\"color\":\"White/Tricolor\"}\\n,{\"animal_id\":\"A617671\",\"name\":\"Juliet\",\"datetime\":\"2021-10-08T13:27:00.000\",\"monthyear\":\"2021-10-08T13:27:00.000\",\"date_of_birth\":\"2010-12-23T00:00:00.000\",\"outcome_type\":\"Transfer\",\"outcome_subtype\":\"Out State\",\"animal_type\":\"Dog\",\"sex_upon_outcome\":\"Spayed Female\",\"age_upon_outcome\":\"10 years\",\"breed\":\"Chihuahua Shorthair Mix\",\"color\":\"Black\"}\\n,{\"animal_id\":\"A843318\",\"name\":\"*Lulabelle\",\"datetime\":\"2021-10-08T13:27:00.000\",\"monthyear\":\"2021-10-08T13:27:00.000\",\"date_of_birth\":\"2021-07-29T00:00:00.000\",\"outcome_type\":\"Transfer\",\"outcome_subtype\":\"Out State\",\"animal_type\":\"Dog\",\"sex_upon_outcome\":\"Intact Female\",\"age_upon_outcome\":\"2 months\",\"breed\":\"Chihuahua Shorthair Mix\",\"color\":\"Black/White\"}\\n,{\"animal_id\":\"A843323\",\"name\":\"*Lincoln\",\"datetime\":\"2021-10-08T13:26:00.000\",\"monthyear\":\"2021-10-08T13:26:00.000\",\"date_of_birth\":\"2021-06-29T00:00:00.000\",\"outcome_type\":\"Transfer\",\"outcome_subtype\":\"Out State\",\"animal_type\":\"Dog\",\"sex_upon_outcome\":\"Intact Male\",\"age_upon_outcome\":\"3 months\",\"breed\":\"Chihuahua Shorthair Mix\",\"color\":\"Blue\"}\\n,{\"animal_id\":\"A843328\",\"name\":\"*Sarah\",\"datetime\":\"2021-10-08T13:26:00.000\",\"monthyear\":\"2021-10-08T13:26:00.000\",\"date_of_birth\":\"2020-09-29T00:00:00.000\",\"outcome_type\":\"Transfer\",\"outcome_subtype\":\"Out State\",\"animal_type\":\"Dog\",\"sex_upon_outcome\":\"Intact Female\",\"age_upon_outcome\":\"1 year\",\"breed\":\"Chihuahua Shorthair Mix\",\"color\":\"White/Black\"}\\n,{\"animal_id\":\"A843129\",\"name\":\"Babo\",\"datetime\":\"2021-10-08T13:25:00.000\",\"monthyear\":\"2021-10-08T13:25:00.000\",\"date_of_birth\":\"2019-09-27T00:00:00.000\",\"outcome_type\":\"Transfer\",\"outcome_subtype\":\"Out State\",\"animal_type\":\"Dog\",\"sex_upon_outcome\":\"Neutered Male\",\"age_upon_outcome\":\"2 years\",\"breed\":\"Chihuahua Shorthair\",\"color\":\"Black/Brown\"}\\n,{\"animal_id\":\"A843326\",\"name\":\"*Winnie\",\"datetime\":\"2021-10-08T13:25:00.000\",\"monthyear\":\"2021-10-08T13:25:00.000\",\"date_of_birth\":\"2019-09-29T00:00:00.000\",\"outcome_type\":\"Transfer\",\"outcome_subtype\":\"Out State\",\"animal_type\":\"Dog\",\"sex_upon_outcome\":\"Intact Female\",\"age_upon_outcome\":\"2 years\",\"breed\":\"Chihuahua Shorthair Mix\",\"color\":\"Chocolate/White\"}\\n,{\"animal_id\":\"A843327\",\"name\":\"*Mary\",\"datetime\":\"2021-10-08T13:25:00.000\",\"monthyear\":\"2021-10-08T13:25:00.000\",\"date_of_birth\":\"2019-09-29T00:00:00.000\",\"outcome_type\":\"Transfer\",\"outcome_subtype\":\"Out State\",\"animal_type\":\"Dog\",\"sex_upon_outcome\":\"Intact Female\",\"age_upon_outcome\":\"2 years\",\"breed\":\"Chihuahua Shorthair Mix\",\"color\":\"Black/White\"}\\n,{\"animal_id\":\"A606477\",\"name\":\"Maxine\",\"datetime\":\"2021-10-08T13:24:00.000\",\"monthyear\":\"2021-10-08T13:24:00.000\",\"date_of_birth\":\"2011-05-08T00:00:00.000\",\"outcome_type\":\"Transfer\",\"outcome_subtype\":\"Out State\",\"animal_type\":\"Dog\",\"sex_upon_outcome\":\"Spayed Female\",\"age_upon_outcome\":\"10 years\",\"breed\":\"Catahoula/Plott Hound\",\"color\":\"Brown Brindle\"}\\n,{\"animal_id\":\"A843128\",\"name\":\"Milo\",\"datetime\":\"2021-10-08T13:24:00.000\",\"monthyear\":\"2021-10-08T13:24:00.000\",\"date_of_birth\":\"2019-09-27T00:00:00.000\",\"outcome_type\":\"Transfer\",\"outcome_subtype\":\"Out State\",\"animal_type\":\"Dog\",\"sex_upon_outcome\":\"Intact Male\",\"age_upon_outcome\":\"2 years\",\"breed\":\"Norwich Terrier Mix\",\"color\":\"Tan/Black\"}\\n,{\"animal_id\":\"A842956\",\"name\":\"*Laurel\",\"datetime\":\"2021-10-08T13:24:00.000\",\"monthyear\":\"2021-10-08T13:24:00.000\",\"date_of_birth\":\"2020-09-23T00:00:00.000\",\"outcome_type\":\"Transfer\",\"outcome_subtype\":\"Out State\",\"animal_type\":\"Dog\",\"sex_upon_outcome\":\"Spayed Female\",\"age_upon_outcome\":\"1 year\",\"breed\":\"Harrier Mix\",\"color\":\"Brown/Tricolor\"}\\n,{\"animal_id\":\"A840844\",\"name\":\"Gordo\",\"datetime\":\"2021-10-08T13:23:00.000\",\"monthyear\":\"2021-10-08T13:23:00.000\",\"date_of_birth\":\"2019-08-16T00:00:00.000\",\"outcome_type\":\"Transfer\",\"outcome_subtype\":\"Out State\",\"animal_type\":\"Dog\",\"sex_upon_outcome\":\"Neutered Male\",\"age_upon_outcome\":\"2 years\",\"breed\":\"Labrador Retriever Mix\",\"color\":\"Black/White\"}\\n,{\"animal_id\":\"A838400\",\"name\":\"Oso\",\"datetime\":\"2021-10-08T13:23:00.000\",\"monthyear\":\"2021-10-08T13:23:00.000\",\"date_of_birth\":\"2015-07-07T00:00:00.000\",\"outcome_type\":\"Transfer\",\"outcome_subtype\":\"Out State\",\"animal_type\":\"Dog\",\"sex_upon_outcome\":\"Neutered Male\",\"age_upon_outcome\":\"6 years\",\"breed\":\"German Shepherd Mix\",\"color\":\"Brown\"}\\n,{\"animal_id\":\"A835597\",\"name\":\"*Spark\",\"datetime\":\"2021-10-08T13:22:00.000\",\"monthyear\":\"2021-10-08T13:22:00.000\",\"date_of_birth\":\"2020-07-30T00:00:00.000\",\"outcome_type\":\"Transfer\",\"outcome_subtype\":\"Out State\",\"animal_type\":\"Dog\",\"sex_upon_outcome\":\"Neutered Male\",\"age_upon_outcome\":\"1 year\",\"breed\":\"American Bulldog Mix\",\"color\":\"White/Tan\"}\\n,{\"animal_id\":\"A826298\",\"name\":\"Harley\",\"datetime\":\"2021-10-08T13:22:00.000\",\"monthyear\":\"2021-10-08T13:22:00.000\",\"date_of_birth\":\"2017-11-23T00:00:00.000\",\"outcome_type\":\"Transfer\",\"outcome_subtype\":\"Out State\",\"animal_type\":\"Dog\",\"sex_upon_outcome\":\"Spayed Female\",\"age_upon_outcome\":\"3 years\",\"breed\":\"Australian Kelpie Mix\",\"color\":\"Brown/Black\"}\\n,{\"animal_id\":\"A840527\",\"name\":\"Lobo\",\"datetime\":\"2021-10-08T13:21:00.000\",\"monthyear\":\"2021-10-08T13:21:00.000\",\"date_of_birth\":\"2017-08-10T00:00:00.000\",\"outcome_type\":\"Transfer\",\"outcome_subtype\":\"Out State\",\"animal_type\":\"Dog\",\"sex_upon_outcome\":\"Neutered Male\",\"age_upon_outcome\":\"4 years\",\"breed\":\"German Shepherd Mix\",\"color\":\"Black/Brown\"}\\n,{\"animal_id\":\"A839856\",\"name\":\"Loki\",\"datetime\":\"2021-10-08T13:21:00.000\",\"monthyear\":\"2021-10-08T13:21:00.000\",\"date_of_birth\":\"2018-01-28T00:00:00.000\",\"outcome_type\":\"Transfer\",\"outcome_subtype\":\"Out State\",\"animal_type\":\"Dog\",\"sex_upon_outcome\":\"Neutered Male\",\"age_upon_outcome\":\"3 years\",\"breed\":\"Labrador Retriever Mix\",\"color\":\"Black\"}\\n,{\"animal_id\":\"A841669\",\"name\":\"*Geoffrey\",\"datetime\":\"2021-10-08T13:20:00.000\",\"monthyear\":\"2021-10-08T13:20:00.000\",\"date_of_birth\":\"2016-09-01T00:00:00.000\",\"outcome_type\":\"Transfer\",\"outcome_subtype\":\"Out State\",\"animal_type\":\"Dog\",\"sex_upon_outcome\":\"Neutered Male\",\"age_upon_outcome\":\"5 years\",\"breed\":\"German Shepherd\",\"color\":\"Tan/Black\"}\\n,{\"animal_id\":\"A842475\",\"name\":\"*Ardy\",\"datetime\":\"2021-10-08T13:20:00.000\",\"monthyear\":\"2021-10-08T13:20:00.000\",\"date_of_birth\":\"2014-09-16T00:00:00.000\",\"outcome_type\":\"Transfer\",\"outcome_subtype\":\"Out State\",\"animal_type\":\"Dog\",\"sex_upon_outcome\":\"Neutered Male\",\"age_upon_outcome\":\"7 years\",\"breed\":\"German Shepherd\",\"color\":\"Black/Brown\"}\\n,{\"animal_id\":\"A839038\",\"name\":\"Astro\",\"datetime\":\"2021-10-08T13:20:00.000\",\"monthyear\":\"2021-10-08T13:20:00.000\",\"date_of_birth\":\"2019-01-15T00:00:00.000\",\"outcome_type\":\"Transfer\",\"outcome_subtype\":\"Out State\",\"animal_type\":\"Dog\",\"sex_upon_outcome\":\"Neutered Male\",\"age_upon_outcome\":\"2 years\",\"breed\":\"Labrador Retriever/German Shepherd\",\"color\":\"Tan/White\"}\\n,{\"animal_id\":\"A843864\",\"name\":\"Luna\",\"datetime\":\"2021-10-08T13:18:00.000\",\"monthyear\":\"2021-10-08T13:18:00.000\",\"date_of_birth\":\"2020-10-07T00:00:00.000\",\"outcome_type\":\"Transfer\",\"outcome_subtype\":\"Partner\",\"animal_type\":\"Dog\",\"sex_upon_outcome\":\"Spayed Female\",\"age_upon_outcome\":\"1 year\",\"breed\":\"Chihuahua Shorthair/Papillon\",\"color\":\"White\"}\\n,{\"animal_id\":\"A843863\",\"name\":\"Leila\",\"datetime\":\"2021-10-08T13:18:00.000\",\"monthyear\":\"2021-10-08T13:18:00.000\",\"date_of_birth\":\"2020-10-07T00:00:00.000\",\"outcome_type\":\"Transfer\",\"outcome_subtype\":\"Partner\",\"animal_type\":\"Dog\",\"sex_upon_outcome\":\"Spayed Female\",\"age_upon_outcome\":\"1 year\",\"breed\":\"Chihuahua Shorthair/Papillon\",\"color\":\"Buff\"}\\n,{\"animal_id\":\"A843300\",\"name\":\"A843300\",\"datetime\":\"2021-10-08T12:59:00.000\",\"monthyear\":\"2021-10-08T12:59:00.000\",\"date_of_birth\":\"2021-05-29T00:00:00.000\",\"outcome_type\":\"Adoption\",\"animal_type\":\"Cat\",\"sex_upon_outcome\":\"Neutered Male\",\"age_upon_outcome\":\"4 months\",\"breed\":\"Domestic Shorthair\",\"color\":\"Blue\"}\\n,{\"animal_id\":\"A833677\",\"name\":\"Terry\",\"datetime\":\"2021-10-08T12:05:00.000\",\"monthyear\":\"2021-10-08T12:05:00.000\",\"date_of_birth\":\"2021-03-10T00:00:00.000\",\"outcome_type\":\"Return to Owner\",\"animal_type\":\"Dog\",\"sex_upon_outcome\":\"Intact Male\",\"age_upon_outcome\":\"6 months\",\"breed\":\"Boxer Mix\",\"color\":\"Brown/Tricolor\"}\\n,{\"animal_id\":\"A842396\",\"name\":\"Joey Joestar\",\"datetime\":\"2021-10-08T11:57:00.000\",\"monthyear\":\"2021-10-08T11:57:00.000\",\"date_of_birth\":\"2020-03-15T00:00:00.000\",\"outcome_type\":\"Return to Owner\",\"animal_type\":\"Cat\",\"sex_upon_outcome\":\"Intact Male\",\"age_upon_outcome\":\"1 year\",\"breed\":\"Domestic Shorthair\",\"color\":\"Brown Tabby/White\"}\\n,{\"animal_id\":\"A841778\",\"name\":\"Storm\",\"datetime\":\"2021-10-08T11:35:00.000\",\"monthyear\":\"2021-10-08T11:35:00.000\",\"date_of_birth\":\"2019-09-02T00:00:00.000\",\"outcome_type\":\"Adoption\",\"animal_type\":\"Dog\",\"sex_upon_outcome\":\"Spayed Female\",\"age_upon_outcome\":\"2 years\",\"breed\":\"Staffordshire\",\"color\":\"White/Black\"}\\n,{\"animal_id\":\"A843742\",\"datetime\":\"2021-10-08T11:30:00.000\",\"monthyear\":\"2021-10-08T11:30:00.000\",\"date_of_birth\":\"2021-05-07T00:00:00.000\",\"outcome_type\":\"Transfer\",\"outcome_subtype\":\"Partner\",\"animal_type\":\"Dog\",\"sex_upon_outcome\":\"Intact Male\",\"age_upon_outcome\":\"5 months\",\"breed\":\"Shih Tzu\",\"color\":\"White/Tan\"}\\n,{\"animal_id\":\"A843787\",\"name\":\"Rocco\",\"datetime\":\"2021-10-08T10:15:00.000\",\"monthyear\":\"2021-10-08T10:15:00.000\",\"date_of_birth\":\"2019-10-06T00:00:00.000\",\"outcome_type\":\"Transfer\",\"outcome_subtype\":\"Partner\",\"animal_type\":\"Dog\",\"sex_upon_outcome\":\"Intact Male\",\"age_upon_outcome\":\"2 years\",\"breed\":\"Chihuahua Shorthair\",\"color\":\"Red\"}\\n,{\"animal_id\":\"A733271\",\"name\":\"Yellie\",\"datetime\":\"2021-10-08T08:47:00.000\",\"monthyear\":\"2021-10-08T08:47:00.000\",\"date_of_birth\":\"2015-08-21T00:00:00.000\",\"outcome_type\":\"Adoption\",\"outcome_subtype\":\"Foster\",\"animal_type\":\"Dog\",\"sex_upon_outcome\":\"Spayed Female\",\"age_upon_outcome\":\"6 years\",\"breed\":\"Labrador Retriever Mix\",\"color\":\"Yellow\"}\\n,{\"animal_id\":\"A843639\",\"datetime\":\"2021-10-08T00:00:00.000\",\"monthyear\":\"2021-10-08T00:00:00.000\",\"date_of_birth\":\"2021-08-17T00:00:00.000\",\"outcome_type\":\"Transfer\",\"outcome_subtype\":\"Partner\",\"animal_type\":\"Dog\",\"sex_upon_outcome\":\"Intact Male\",\"age_upon_outcome\":\"1 month\",\"breed\":\"Golden Retriever Mix\",\"color\":\"Yellow\"}\\n,{\"animal_id\":\"A840038\",\"name\":\"*Cornelius\",\"datetime\":\"2021-10-07T20:55:00.000\",\"monthyear\":\"2021-10-07T20:55:00.000\",\"date_of_birth\":\"2019-07-31T00:00:00.000\",\"outcome_type\":\"Transfer\",\"outcome_subtype\":\"Partner\",\"animal_type\":\"Other\",\"sex_upon_outcome\":\"Neutered Male\",\"age_upon_outcome\":\"2 years\",\"breed\":\"Rex\",\"color\":\"Brown\"}\\n,{\"animal_id\":\"A842177\",\"name\":\"*Chico\",\"datetime\":\"2021-10-07T19:19:00.000\",\"monthyear\":\"2021-10-07T19:19:00.000\",\"date_of_birth\":\"2021-03-27T00:00:00.000\",\"outcome_type\":\"Adoption\",\"animal_type\":\"Dog\",\"sex_upon_outcome\":\"Neutered Male\",\"age_upon_outcome\":\"6 months\",\"breed\":\"Pointer Mix\",\"color\":\"White/Black\"}\\n,{\"animal_id\":\"A843352\",\"name\":\"Harry\",\"datetime\":\"2021-10-07T19:03:00.000\",\"monthyear\":\"2021-10-07T19:03:00.000\",\"date_of_birth\":\"2020-11-29T00:00:00.000\",\"outcome_type\":\"Adoption\",\"animal_type\":\"Cat\",\"sex_upon_outcome\":\"Neutered Male\",\"age_upon_outcome\":\"10 months\",\"breed\":\"Domestic Shorthair\",\"color\":\"Orange Tabby\"}\\n,{\"animal_id\":\"A843465\",\"name\":\"*Acorn\",\"datetime\":\"2021-10-07T18:57:00.000\",\"monthyear\":\"2021-10-07T18:57:00.000\",\"date_of_birth\":\"2021-08-13T00:00:00.000\",\"outcome_type\":\"Adoption\",\"animal_type\":\"Cat\",\"sex_upon_outcome\":\"Neutered Male\",\"age_upon_outcome\":\"1 month\",\"breed\":\"Domestic Shorthair\",\"color\":\"Orange Tabby\"}\\n,{\"animal_id\":\"A842922\",\"name\":\"*Sparky\",\"datetime\":\"2021-10-07T18:47:00.000\",\"monthyear\":\"2021-10-07T18:47:00.000\",\"date_of_birth\":\"2019-09-23T00:00:00.000\",\"outcome_type\":\"Adoption\",\"animal_type\":\"Dog\",\"sex_upon_outcome\":\"Neutered Male\",\"age_upon_outcome\":\"2 years\",\"breed\":\"Australian Cattle Dog\",\"color\":\"Blue Tick/Tan\"}\\n,{\"animal_id\":\"A843422\",\"name\":\"A843422\",\"datetime\":\"2021-10-07T18:32:00.000\",\"monthyear\":\"2021-10-07T18:32:00.000\",\"date_of_birth\":\"2021-07-30T00:00:00.000\",\"outcome_type\":\"Adoption\",\"animal_type\":\"Cat\",\"sex_upon_outcome\":\"Neutered Male\",\"age_upon_outcome\":\"2 months\",\"breed\":\"Domestic Shorthair Mix\",\"color\":\"Black\"}\\n,{\"animal_id\":\"A812197\",\"name\":\"Junai\",\"datetime\":\"2021-10-07T18:31:00.000\",\"monthyear\":\"2021-10-07T18:31:00.000\",\"date_of_birth\":\"2018-10-19T00:00:00.000\",\"outcome_type\":\"Return to Owner\",\"animal_type\":\"Dog\",\"sex_upon_outcome\":\"Spayed Female\",\"age_upon_outcome\":\"2 years\",\"breed\":\"Australian Kelpie Mix\",\"color\":\"Brown/White\"}\\n,{\"animal_id\":\"A843783\",\"name\":\"Mia\",\"datetime\":\"2021-10-07T18:25:00.000\",\"monthyear\":\"2021-10-07T18:25:00.000\",\"date_of_birth\":\"2021-06-06T00:00:00.000\",\"outcome_type\":\"Adoption\",\"animal_type\":\"Cat\",\"sex_upon_outcome\":\"Spayed Female\",\"age_upon_outcome\":\"4 months\",\"breed\":\"Domestic Shorthair\",\"color\":\"Torbie\"}\\n,{\"animal_id\":\"A843625\",\"name\":\"Harold\",\"datetime\":\"2021-10-07T18:15:00.000\",\"monthyear\":\"2021-10-07T18:15:00.000\",\"date_of_birth\":\"2021-07-20T00:00:00.000\",\"outcome_type\":\"Adoption\",\"animal_type\":\"Dog\",\"sex_upon_outcome\":\"Neutered Male\",\"age_upon_outcome\":\"2 months\",\"breed\":\"Labrador Retriever Mix\",\"color\":\"Brown/Black\"}\\n,{\"animal_id\":\"A841364\",\"name\":\"Beauty\",\"datetime\":\"2021-10-07T17:56:00.000\",\"monthyear\":\"2021-10-07T17:56:00.000\",\"date_of_birth\":\"2021-07-26T00:00:00.000\",\"outcome_type\":\"Adoption\",\"animal_type\":\"Cat\",\"sex_upon_outcome\":\"Neutered Male\",\"age_upon_outcome\":\"2 months\",\"breed\":\"Domestic Shorthair Mix\",\"color\":\"Brown Tabby\"}\\n,{\"animal_id\":\"A843462\",\"name\":\"*Kabocha\",\"datetime\":\"2021-10-07T17:56:00.000\",\"monthyear\":\"2021-10-07T17:56:00.000\",\"date_of_birth\":\"2021-08-13T00:00:00.000\",\"outcome_type\":\"Adoption\",\"animal_type\":\"Cat\",\"sex_upon_outcome\":\"Neutered Male\",\"age_upon_outcome\":\"1 month\",\"breed\":\"Domestic Shorthair\",\"color\":\"Orange Tabby\"}\\n,{\"animal_id\":\"A842752\",\"name\":\"*Jill\",\"datetime\":\"2021-10-07T17:36:00.000\",\"monthyear\":\"2021-10-07T17:36:00.000\",\"date_of_birth\":\"2021-08-12T00:00:00.000\",\"outcome_type\":\"Adoption\",\"animal_type\":\"Cat\",\"sex_upon_outcome\":\"Spayed Female\",\"age_upon_outcome\":\"1 month\",\"breed\":\"Domestic Shorthair\",\"color\":\"Brown Tabby/White\"}\\n,{\"animal_id\":\"A843453\",\"name\":\"A843453\",\"datetime\":\"2021-10-07T17:18:00.000\",\"monthyear\":\"2021-10-07T17:18:00.000\",\"date_of_birth\":\"2019-10-01T00:00:00.000\",\"outcome_type\":\"Adoption\",\"animal_type\":\"Dog\",\"sex_upon_outcome\":\"Neutered Male\",\"age_upon_outcome\":\"2 years\",\"breed\":\"Chihuahua Shorthair\",\"color\":\"Tan\"}\\n,{\"animal_id\":\"A842749\",\"name\":\"*Kelly\",\"datetime\":\"2021-10-07T16:51:00.000\",\"monthyear\":\"2021-10-07T16:51:00.000\",\"date_of_birth\":\"2021-08-12T00:00:00.000\",\"outcome_type\":\"Adoption\",\"animal_type\":\"Cat\",\"sex_upon_outcome\":\"Spayed Female\",\"age_upon_outcome\":\"1 month\",\"breed\":\"Domestic Shorthair\",\"color\":\"White/Brown Tabby\"}\\n,{\"animal_id\":\"A842750\",\"name\":\"*Sabrina\",\"datetime\":\"2021-10-07T16:50:00.000\",\"monthyear\":\"2021-10-07T16:50:00.000\",\"date_of_birth\":\"2021-08-12T00:00:00.000\",\"outcome_type\":\"Adoption\",\"animal_type\":\"Cat\",\"sex_upon_outcome\":\"Spayed Female\",\"age_upon_outcome\":\"1 month\",\"breed\":\"Domestic Shorthair\",\"color\":\"Brown Tabby\"}\\n,{\"animal_id\":\"A843537\",\"name\":\"*Victoria\",\"datetime\":\"2021-10-07T16:42:00.000\",\"monthyear\":\"2021-10-07T16:42:00.000\",\"date_of_birth\":\"2021-07-26T00:00:00.000\",\"outcome_type\":\"Adoption\",\"animal_type\":\"Cat\",\"sex_upon_outcome\":\"Spayed Female\",\"age_upon_outcome\":\"2 months\",\"breed\":\"Domestic Shorthair\",\"color\":\"Black/White\"}\\n,{\"animal_id\":\"A843402\",\"name\":\"A843402\",\"datetime\":\"2021-10-07T16:22:00.000\",\"monthyear\":\"2021-10-07T16:22:00.000\",\"date_of_birth\":\"2021-04-15T00:00:00.000\",\"outcome_type\":\"Adoption\",\"animal_type\":\"Dog\",\"sex_upon_outcome\":\"Neutered Male\",\"age_upon_outcome\":\"5 months\",\"breed\":\"Redbone Hound Mix\",\"color\":\"Red/Black\"}\\n,{\"animal_id\":\"A841360\",\"name\":\"Luxe\",\"datetime\":\"2021-10-07T16:03:00.000\",\"monthyear\":\"2021-10-07T16:03:00.000\",\"date_of_birth\":\"2021-07-26T00:00:00.000\",\"outcome_type\":\"Adoption\",\"animal_type\":\"Cat\",\"sex_upon_outcome\":\"Spayed Female\",\"age_upon_outcome\":\"2 months\",\"breed\":\"Domestic Shorthair Mix\",\"color\":\"Tortie\"}\\n,{\"animal_id\":\"A841227\",\"name\":\"*Honey\",\"datetime\":\"2021-10-07T15:47:00.000\",\"monthyear\":\"2021-10-07T15:47:00.000\",\"date_of_birth\":\"2019-08-23T00:00:00.000\",\"outcome_type\":\"Adoption\",\"animal_type\":\"Dog\",\"sex_upon_outcome\":\"Spayed Female\",\"age_upon_outcome\":\"2 years\",\"breed\":\"Labrador Retriever Mix\",\"color\":\"Brown/White\"}\\n,{\"animal_id\":\"A842729\",\"name\":\"Deebo\",\"datetime\":\"2021-10-07T15:02:00.000\",\"monthyear\":\"2021-10-07T15:02:00.000\",\"date_of_birth\":\"2021-02-21T00:00:00.000\",\"outcome_type\":\"Transfer\",\"outcome_subtype\":\"Partner\",\"animal_type\":\"Dog\",\"sex_upon_outcome\":\"Intact Male\",\"age_upon_outcome\":\"7 months\",\"breed\":\"Chihuahua Shorthair/Cairn Terrier\",\"color\":\"Brown\"}\\n,{\"animal_id\":\"A843844\",\"datetime\":\"2021-10-07T14:48:00.000\",\"monthyear\":\"2021-10-07T14:48:00.000\",\"date_of_birth\":\"2020-12-07T00:00:00.000\",\"outcome_type\":\"Return to Owner\",\"animal_type\":\"Cat\",\"sex_upon_outcome\":\"Intact Male\",\"age_upon_outcome\":\"9 months\",\"breed\":\"Domestic Shorthair\",\"color\":\"Brown Tabby/White\"}\\n,{\"animal_id\":\"A843826\",\"datetime\":\"2021-10-07T14:12:00.000\",\"monthyear\":\"2021-10-07T14:12:00.000\",\"date_of_birth\":\"2021-10-07T00:00:00.000\",\"outcome_type\":\"Transfer\",\"outcome_subtype\":\"Partner\",\"animal_type\":\"Cat\",\"sex_upon_outcome\":\"Unknown\",\"age_upon_outcome\":\"0 years\",\"breed\":\"Domestic Shorthair\",\"color\":\"Black\"}\\n,{\"animal_id\":\"A843825\",\"name\":\"A843825\",\"datetime\":\"2021-10-07T14:11:00.000\",\"monthyear\":\"2021-10-07T14:11:00.000\",\"date_of_birth\":\"2020-10-07T00:00:00.000\",\"outcome_type\":\"Transfer\",\"outcome_subtype\":\"Partner\",\"animal_type\":\"Cat\",\"sex_upon_outcome\":\"Intact Female\",\"age_upon_outcome\":\"1 year\",\"breed\":\"Domestic Shorthair\",\"color\":\"Brown Tabby\"}\\n,{\"animal_id\":\"A843482\",\"name\":\"A843482\",\"datetime\":\"2021-10-07T13:59:00.000\",\"monthyear\":\"2021-10-07T13:59:00.000\",\"date_of_birth\":\"2021-08-01T00:00:00.000\",\"outcome_type\":\"Adoption\",\"animal_type\":\"Dog\",\"sex_upon_outcome\":\"Neutered Male\",\"age_upon_outcome\":\"2 months\",\"breed\":\"Dachshund Mix\",\"color\":\"Black/Brown\"}\\n,{\"animal_id\":\"A842001\",\"name\":\"Boops\",\"datetime\":\"2021-10-07T13:58:00.000\",\"monthyear\":\"2021-10-07T13:58:00.000\",\"date_of_birth\":\"2017-06-01T00:00:00.000\",\"outcome_type\":\"Return to Owner\",\"animal_type\":\"Cat\",\"sex_upon_outcome\":\"Neutered Male\",\"age_upon_outcome\":\"4 years\",\"breed\":\"Domestic Shorthair\",\"color\":\"Black/White\"}\\n,{\"animal_id\":\"A843571\",\"datetime\":\"2021-10-07T13:34:00.000\",\"monthyear\":\"2021-10-07T13:34:00.000\",\"date_of_birth\":\"2020-10-03T00:00:00.000\",\"outcome_type\":\"Transfer\",\"outcome_subtype\":\"Partner\",\"animal_type\":\"Dog\",\"sex_upon_outcome\":\"Intact Female\",\"age_upon_outcome\":\"1 year\",\"breed\":\"Pug Mix\",\"color\":\"Tan/Black\"}\\n,{\"animal_id\":\"A841528\",\"name\":\"*Opal Squirrel\",\"datetime\":\"2021-10-07T12:59:00.000\",\"monthyear\":\"2021-10-07T12:59:00.000\",\"date_of_birth\":\"2021-05-14T00:00:00.000\",\"outcome_type\":\"Transfer\",\"outcome_subtype\":\"Partner\",\"animal_type\":\"Cat\",\"sex_upon_outcome\":\"Intact Female\",\"age_upon_outcome\":\"4 months\",\"breed\":\"Domestic Shorthair\",\"color\":\"Brown Tabby\"}\\n,{\"animal_id\":\"A843561\",\"datetime\":\"2021-10-07T11:25:00.000\",\"monthyear\":\"2021-10-07T11:25:00.000\",\"date_of_birth\":\"2021-04-03T00:00:00.000\",\"outcome_type\":\"Transfer\",\"outcome_subtype\":\"Partner\",\"animal_type\":\"Dog\",\"sex_upon_outcome\":\"Intact Male\",\"age_upon_outcome\":\"6 months\",\"breed\":\"Norwich Terrier/Maltese\",\"color\":\"Cream\"}\\n,{\"animal_id\":\"A843560\",\"datetime\":\"2021-10-07T11:24:00.000\",\"monthyear\":\"2021-10-07T11:24:00.000\",\"date_of_birth\":\"2019-10-03T00:00:00.000\",\"outcome_type\":\"Transfer\",\"outcome_subtype\":\"Partner\",\"animal_type\":\"Dog\",\"sex_upon_outcome\":\"Intact Female\",\"age_upon_outcome\":\"2 years\",\"breed\":\"Norwich Terrier/Maltese\",\"color\":\"Cream\"}\\n,{\"animal_id\":\"A843575\",\"datetime\":\"2021-10-07T11:24:00.000\",\"monthyear\":\"2021-10-07T11:24:00.000\",\"date_of_birth\":\"2020-10-03T00:00:00.000\",\"outcome_type\":\"Transfer\",\"outcome_subtype\":\"Partner\",\"animal_type\":\"Dog\",\"sex_upon_outcome\":\"Intact Female\",\"age_upon_outcome\":\"1 year\",\"breed\":\"Norwich Terrier/Maltese\",\"color\":\"Cream\"}\\n,{\"animal_id\":\"A843782\",\"datetime\":\"2021-10-07T10:57:00.000\",\"monthyear\":\"2021-10-07T10:57:00.000\",\"date_of_birth\":\"2019-10-06T00:00:00.000\",\"outcome_type\":\"Euthanasia\",\"outcome_subtype\":\"Rabies Risk\",\"animal_type\":\"Other\",\"sex_upon_outcome\":\"Unknown\",\"age_upon_outcome\":\"2 years\",\"breed\":\"Bat\",\"color\":\"Black\"}\\n,{\"animal_id\":\"A706833\",\"name\":\"Flo\",\"datetime\":\"2021-10-07T10:45:00.000\",\"monthyear\":\"2021-10-07T10:45:00.000\",\"date_of_birth\":\"2009-07-03T00:00:00.000\",\"outcome_type\":\"Return to Owner\",\"animal_type\":\"Dog\",\"sex_upon_outcome\":\"Spayed Female\",\"age_upon_outcome\":\"12 years\",\"breed\":\"Miniature Schnauzer Mix\",\"color\":\"Gray/White\"}\\n,{\"animal_id\":\"A842650\",\"datetime\":\"2021-10-07T09:53:00.000\",\"monthyear\":\"2021-10-07T09:53:00.000\",\"date_of_birth\":\"2019-09-19T00:00:00.000\",\"outcome_type\":\"Adoption\",\"outcome_subtype\":\"Foster\",\"animal_type\":\"Bird\",\"sex_upon_outcome\":\"Unknown\",\"age_upon_outcome\":\"2 years\",\"breed\":\"Dove\",\"color\":\"White\"}\\n,{\"animal_id\":\"A840024\",\"name\":\"*A840024\",\"datetime\":\"2021-10-07T08:27:00.000\",\"monthyear\":\"2021-10-07T08:27:00.000\",\"date_of_birth\":\"2021-07-25T00:00:00.000\",\"outcome_type\":\"Missing\",\"outcome_subtype\":\"In Foster\",\"animal_type\":\"Dog\",\"sex_upon_outcome\":\"Intact Male\",\"age_upon_outcome\":\"2 months\",\"breed\":\"Pit Bull Mix\",\"color\":\"Blue/White\"}\\n,{\"animal_id\":\"A843685\",\"name\":\"*Nettle\",\"datetime\":\"2021-10-07T00:00:00.000\",\"monthyear\":\"2021-10-07T00:00:00.000\",\"date_of_birth\":\"2021-07-05T00:00:00.000\",\"outcome_type\":\"Transfer\",\"outcome_subtype\":\"Snr\",\"animal_type\":\"Cat\",\"sex_upon_outcome\":\"Intact Male\",\"age_upon_outcome\":\"3 months\",\"breed\":\"Domestic Shorthair\",\"color\":\"Brown Tabby\"}\\n,{\"animal_id\":\"A843791\",\"datetime\":\"2021-10-07T00:00:00.000\",\"monthyear\":\"2021-10-07T00:00:00.000\",\"date_of_birth\":\"2019-10-06T00:00:00.000\",\"outcome_type\":\"Transfer\",\"outcome_subtype\":\"Snr\",\"animal_type\":\"Cat\",\"sex_upon_outcome\":\"Intact Male\",\"age_upon_outcome\":\"2 years\",\"breed\":\"Domestic Shorthair\",\"color\":\"Gray Tabby/White\"}\\n,{\"animal_id\":\"A843683\",\"name\":\"*Pepper\",\"datetime\":\"2021-10-07T00:00:00.000\",\"monthyear\":\"2021-10-07T00:00:00.000\",\"date_of_birth\":\"2021-07-05T00:00:00.000\",\"outcome_type\":\"Transfer\",\"outcome_subtype\":\"Snr\",\"animal_type\":\"Cat\",\"sex_upon_outcome\":\"Intact Male\",\"age_upon_outcome\":\"3 months\",\"breed\":\"Domestic Shorthair\",\"color\":\"Brown Tabby\"}\\n,{\"animal_id\":\"A843351\",\"name\":\"A843351\",\"datetime\":\"2021-10-06T19:06:00.000\",\"monthyear\":\"2021-10-06T19:06:00.000\",\"date_of_birth\":\"2021-07-16T00:00:00.000\",\"outcome_type\":\"Adoption\",\"animal_type\":\"Dog\",\"sex_upon_outcome\":\"Spayed Female\",\"age_upon_outcome\":\"2 months\",\"breed\":\"Labrador Retriever Mix\",\"color\":\"Black/White\"}\\n,{\"animal_id\":\"A843472\",\"name\":\"Fantasma\",\"datetime\":\"2021-10-06T18:31:00.000\",\"monthyear\":\"2021-10-06T18:31:00.000\",\"date_of_birth\":\"2020-04-01T00:00:00.000\",\"outcome_type\":\"Adoption\",\"animal_type\":\"Dog\",\"sex_upon_outcome\":\"Neutered Male\",\"age_upon_outcome\":\"1 year\",\"breed\":\"Great Pyrenees Mix\",\"color\":\"White\"}\\n,{\"animal_id\":\"A840671\",\"name\":\"Rosie\",\"datetime\":\"2021-10-06T18:10:00.000\",\"monthyear\":\"2021-10-06T18:10:00.000\",\"date_of_birth\":\"2015-08-11T00:00:00.000\",\"outcome_type\":\"Adoption\",\"animal_type\":\"Dog\",\"sex_upon_outcome\":\"Spayed Female\",\"age_upon_outcome\":\"6 years\",\"breed\":\"Labrador Retriever Mix\",\"color\":\"Black/Tan\"}\\n,{\"animal_id\":\"A843023\",\"name\":\"*Kramer\",\"datetime\":\"2021-10-06T18:01:00.000\",\"monthyear\":\"2021-10-06T18:01:00.000\",\"date_of_birth\":\"2020-04-25T00:00:00.000\",\"outcome_type\":\"Transfer\",\"outcome_subtype\":\"Partner\",\"animal_type\":\"Dog\",\"sex_upon_outcome\":\"Intact Male\",\"age_upon_outcome\":\"1 year\",\"breed\":\"Labrador Retriever/Chesa Bay Retr\",\"color\":\"Chocolate\"}\\n,{\"animal_id\":\"A843235\",\"name\":\"A843235\",\"datetime\":\"2021-10-06T17:58:00.000\",\"monthyear\":\"2021-10-06T17:58:00.000\",\"date_of_birth\":\"2021-07-06T00:00:00.000\",\"outcome_type\":\"Adoption\",\"animal_type\":\"Cat\",\"sex_upon_outcome\":\"Neutered Male\",\"age_upon_outcome\":\"3 months\",\"breed\":\"Domestic Shorthair\",\"color\":\"Cream Tabby\"}\\n,{\"animal_id\":\"A842477\",\"name\":\"*Turk\",\"datetime\":\"2021-10-06T17:54:00.000\",\"monthyear\":\"2021-10-06T17:54:00.000\",\"date_of_birth\":\"2019-07-16T00:00:00.000\",\"outcome_type\":\"Adoption\",\"animal_type\":\"Dog\",\"sex_upon_outcome\":\"Neutered Male\",\"age_upon_outcome\":\"2 years\",\"breed\":\"Rhod Ridgeback Mix\",\"color\":\"Red\"}\\n,{\"animal_id\":\"A794725\",\"name\":\"Ms.Blinky\",\"datetime\":\"2021-10-06T17:50:00.000\",\"monthyear\":\"2021-10-06T17:50:00.000\",\"date_of_birth\":\"2018-07-11T00:00:00.000\",\"outcome_type\":\"Return to Owner\",\"animal_type\":\"Dog\",\"sex_upon_outcome\":\"Intact Female\",\"age_upon_outcome\":\"3 years\",\"breed\":\"Staffordshire\",\"color\":\"Black\"}\\n,{\"animal_id\":\"A843399\",\"name\":\"Simba\",\"datetime\":\"2021-10-06T17:41:00.000\",\"monthyear\":\"2021-10-06T17:41:00.000\",\"date_of_birth\":\"2021-07-30T00:00:00.000\",\"outcome_type\":\"Return to Owner\",\"animal_type\":\"Cat\",\"sex_upon_outcome\":\"Neutered Male\",\"age_upon_outcome\":\"2 months\",\"breed\":\"Domestic Shorthair Mix\",\"color\":\"Black\"}\\n,{\"animal_id\":\"A843237\",\"name\":\"A843237\",\"datetime\":\"2021-10-06T17:34:00.000\",\"monthyear\":\"2021-10-06T17:34:00.000\",\"date_of_birth\":\"2021-07-06T00:00:00.000\",\"outcome_type\":\"Adoption\",\"animal_type\":\"Cat\",\"sex_upon_outcome\":\"Neutered Male\",\"age_upon_outcome\":\"3 months\",\"breed\":\"Domestic Shorthair\",\"color\":\"Orange Tabby/White\"}\\n,{\"animal_id\":\"A843417\",\"name\":\"*Tober\",\"datetime\":\"2021-10-06T17:25:00.000\",\"monthyear\":\"2021-10-06T17:25:00.000\",\"date_of_birth\":\"2020-09-30T00:00:00.000\",\"outcome_type\":\"Adoption\",\"animal_type\":\"Cat\",\"sex_upon_outcome\":\"Neutered Male\",\"age_upon_outcome\":\"1 year\",\"breed\":\"Domestic Shorthair\",\"color\":\"Brown Tabby/White\"}\\n,{\"animal_id\":\"A843397\",\"name\":\"A843397\",\"datetime\":\"2021-10-06T17:01:00.000\",\"monthyear\":\"2021-10-06T17:01:00.000\",\"date_of_birth\":\"2021-03-02T00:00:00.000\",\"outcome_type\":\"Adoption\",\"animal_type\":\"Dog\",\"sex_upon_outcome\":\"Neutered Male\",\"age_upon_outcome\":\"7 months\",\"breed\":\"Harrier Mix\",\"color\":\"Tan/White\"}\\n,{\"animal_id\":\"A843624\",\"name\":\"Hank\",\"datetime\":\"2021-10-06T17:00:00.000\",\"monthyear\":\"2021-10-06T17:00:00.000\",\"date_of_birth\":\"2021-07-20T00:00:00.000\",\"outcome_type\":\"Adoption\",\"animal_type\":\"Dog\",\"sex_upon_outcome\":\"Neutered Male\",\"age_upon_outcome\":\"2 months\",\"breed\":\"Labrador Retriever Mix\",\"color\":\"Brown/Black\"}\\n,{\"animal_id\":\"A843793\",\"name\":\"Wesley\",\"datetime\":\"2021-10-06T16:19:00.000\",\"monthyear\":\"2021-10-06T16:19:00.000\",\"date_of_birth\":\"2011-10-06T00:00:00.000\",\"outcome_type\":\"Return to Owner\",\"animal_type\":\"Dog\",\"sex_upon_outcome\":\"Neutered Male\",\"age_upon_outcome\":\"10 years\",\"breed\":\"Chihuahua Shorthair Mix\",\"color\":\"Tan\"}\\n,{\"animal_id\":\"A843514\",\"datetime\":\"2021-10-06T16:09:00.000\",\"monthyear\":\"2021-10-06T16:09:00.000\",\"date_of_birth\":\"2017-10-02T00:00:00.000\",\"outcome_type\":\"Disposal\",\"animal_type\":\"Cat\",\"sex_upon_outcome\":\"Intact Male\",\"age_upon_outcome\":\"4 years\",\"breed\":\"Domestic Longhair\",\"color\":\"Orange Tabby\"}\\n,{\"animal_id\":\"A841362\",\"name\":\"Sealy\",\"datetime\":\"2021-10-06T16:05:00.000\",\"monthyear\":\"2021-10-06T16:05:00.000\",\"date_of_birth\":\"2021-07-26T00:00:00.000\",\"outcome_type\":\"Adoption\",\"animal_type\":\"Cat\",\"sex_upon_outcome\":\"Spayed Female\",\"age_upon_outcome\":\"2 months\",\"breed\":\"Siamese Mix\",\"color\":\"Tortie Point\"}\\n,{\"animal_id\":\"A843391\",\"name\":\"10A843391\",\"datetime\":\"2021-10-06T15:57:00.000\",\"monthyear\":\"2021-10-06T15:57:00.000\",\"date_of_birth\":\"2021-04-30T00:00:00.000\",\"outcome_type\":\"Adoption\",\"animal_type\":\"Cat\",\"sex_upon_outcome\":\"Neutered Male\",\"age_upon_outcome\":\"5 months\",\"breed\":\"Domestic Shorthair Mix\",\"color\":\"Orange Tabby/White\"}\\n,{\"animal_id\":\"A843390\",\"name\":\"A843390\",\"datetime\":\"2021-10-06T15:57:00.000\",\"monthyear\":\"2021-10-06T15:57:00.000\",\"date_of_birth\":\"2021-04-30T00:00:00.000\",\"outcome_type\":\"Adoption\",\"animal_type\":\"Cat\",\"sex_upon_outcome\":\"Neutered Male\",\"age_upon_outcome\":\"5 months\",\"breed\":\"Domestic Shorthair Mix\",\"color\":\"Orange Tabby/White\"}\\n,{\"animal_id\":\"A837441\",\"name\":\"Willy\",\"datetime\":\"2021-10-06T15:52:00.000\",\"monthyear\":\"2021-10-06T15:52:00.000\",\"date_of_birth\":\"2011-06-23T00:00:00.000\",\"outcome_type\":\"Adoption\",\"outcome_subtype\":\"Foster\",\"animal_type\":\"Cat\",\"sex_upon_outcome\":\"Neutered Male\",\"age_upon_outcome\":\"10 years\",\"breed\":\"Domestic Shorthair\",\"color\":\"Orange Tabby\"}\\n,{\"animal_id\":\"A612028\",\"name\":\"Hannah\",\"datetime\":\"2021-10-06T15:35:00.000\",\"monthyear\":\"2021-10-06T15:35:00.000\",\"date_of_birth\":\"2011-08-31T00:00:00.000\",\"outcome_type\":\"Return to Owner\",\"animal_type\":\"Dog\",\"sex_upon_outcome\":\"Spayed Female\",\"age_upon_outcome\":\"10 years\",\"breed\":\"Labrador Retriever Mix\",\"color\":\"White/Tan\"}\\n,{\"animal_id\":\"A760095\",\"name\":\"Rory\",\"datetime\":\"2021-10-06T15:24:00.000\",\"monthyear\":\"2021-10-06T15:24:00.000\",\"date_of_birth\":\"2016-10-12T00:00:00.000\",\"outcome_type\":\"Adoption\",\"animal_type\":\"Dog\",\"sex_upon_outcome\":\"Neutered Male\",\"age_upon_outcome\":\"4 years\",\"breed\":\"Doberman Pinsch/Pit Bull\",\"color\":\"Black/Brown\"}\\n,{\"animal_id\":\"A835742\",\"name\":\"*Thor\",\"datetime\":\"2021-10-06T15:22:00.000\",\"monthyear\":\"2021-10-06T15:22:00.000\",\"date_of_birth\":\"2021-04-16T00:00:00.000\",\"outcome_type\":\"Adoption\",\"outcome_subtype\":\"Foster\",\"animal_type\":\"Cat\",\"sex_upon_outcome\":\"Neutered Male\",\"age_upon_outcome\":\"5 months\",\"breed\":\"Domestic Shorthair\",\"color\":\"Cream Tabby\"}\\n,{\"animal_id\":\"A843731\",\"datetime\":\"2021-10-06T15:09:00.000\",\"monthyear\":\"2021-10-06T15:09:00.000\",\"date_of_birth\":\"2021-09-13T00:00:00.000\",\"outcome_type\":\"Transfer\",\"outcome_subtype\":\"Partner\",\"animal_type\":\"Cat\",\"sex_upon_outcome\":\"Intact Male\",\"age_upon_outcome\":\"3 weeks\",\"breed\":\"Domestic Shorthair\",\"color\":\"White/Blue Tabby\"}\\n,{\"animal_id\":\"A843740\",\"datetime\":\"2021-10-06T15:09:00.000\",\"monthyear\":\"2021-10-06T15:09:00.000\",\"date_of_birth\":\"2021-09-13T00:00:00.000\",\"outcome_type\":\"Transfer\",\"outcome_subtype\":\"Partner\",\"animal_type\":\"Cat\",\"sex_upon_outcome\":\"Intact Male\",\"age_upon_outcome\":\"3 weeks\",\"breed\":\"Domestic Shorthair\",\"color\":\"Lynx Point\"}\\n,{\"animal_id\":\"A843739\",\"datetime\":\"2021-10-06T15:08:00.000\",\"monthyear\":\"2021-10-06T15:08:00.000\",\"date_of_birth\":\"2021-09-13T00:00:00.000\",\"outcome_type\":\"Transfer\",\"outcome_subtype\":\"Partner\",\"animal_type\":\"Cat\",\"sex_upon_outcome\":\"Intact Female\",\"age_upon_outcome\":\"3 weeks\",\"breed\":\"Domestic Shorthair\",\"color\":\"Flame Point\"}\\n,{\"animal_id\":\"A843738\",\"datetime\":\"2021-10-06T15:08:00.000\",\"monthyear\":\"2021-10-06T15:08:00.000\",\"date_of_birth\":\"2021-09-13T00:00:00.000\",\"outcome_type\":\"Transfer\",\"outcome_subtype\":\"Partner\",\"animal_type\":\"Cat\",\"sex_upon_outcome\":\"Intact Female\",\"age_upon_outcome\":\"3 weeks\",\"breed\":\"Domestic Shorthair\",\"color\":\"Flame Point\"}\\n,{\"animal_id\":\"A843737\",\"datetime\":\"2021-10-06T15:08:00.000\",\"monthyear\":\"2021-10-06T15:08:00.000\",\"date_of_birth\":\"2021-09-13T00:00:00.000\",\"outcome_type\":\"Transfer\",\"outcome_subtype\":\"Partner\",\"animal_type\":\"Cat\",\"sex_upon_outcome\":\"Intact Male\",\"age_upon_outcome\":\"3 weeks\",\"breed\":\"Domestic Shorthair\",\"color\":\"Black\"}\\n,{\"animal_id\":\"A843736\",\"datetime\":\"2021-10-06T15:08:00.000\",\"monthyear\":\"2021-10-06T15:08:00.000\",\"date_of_birth\":\"2021-09-13T00:00:00.000\",\"outcome_type\":\"Transfer\",\"outcome_subtype\":\"Partner\",\"animal_type\":\"Cat\",\"sex_upon_outcome\":\"Intact Female\",\"age_upon_outcome\":\"3 weeks\",\"breed\":\"Domestic Shorthair\",\"color\":\"Black\"}\\n,{\"animal_id\":\"A843735\",\"datetime\":\"2021-10-06T15:07:00.000\",\"monthyear\":\"2021-10-06T15:07:00.000\",\"date_of_birth\":\"2021-09-13T00:00:00.000\",\"outcome_type\":\"Transfer\",\"outcome_subtype\":\"Partner\",\"animal_type\":\"Cat\",\"sex_upon_outcome\":\"Intact Female\",\"age_upon_outcome\":\"3 weeks\",\"breed\":\"Domestic Shorthair\",\"color\":\"Tortie\"}\\n,{\"animal_id\":\"A843371\",\"datetime\":\"2021-10-06T15:07:00.000\",\"monthyear\":\"2021-10-06T15:07:00.000\",\"date_of_birth\":\"2021-08-30T00:00:00.000\",\"outcome_type\":\"Transfer\",\"outcome_subtype\":\"Partner\",\"animal_type\":\"Cat\",\"sex_upon_outcome\":\"Intact Male\",\"age_upon_outcome\":\"1 month\",\"breed\":\"Domestic Shorthair\",\"color\":\"Orange Tabby\"}\\n,{\"animal_id\":\"A843754\",\"name\":\"158 G\",\"datetime\":\"2021-10-06T14:59:00.000\",\"monthyear\":\"2021-10-06T14:59:00.000\",\"date_of_birth\":\"2021-09-29T00:00:00.000\",\"outcome_type\":\"Transfer\",\"outcome_subtype\":\"Partner\",\"animal_type\":\"Cat\",\"sex_upon_outcome\":\"Intact Female\",\"age_upon_outcome\":\"1 week\",\"breed\":\"Domestic Shorthair\",\"color\":\"Lilac Point\"}\\n,{\"animal_id\":\"A843753\",\"name\":\"162 G\",\"datetime\":\"2021-10-06T14:59:00.000\",\"monthyear\":\"2021-10-06T14:59:00.000\",\"date_of_birth\":\"2021-09-29T00:00:00.000\",\"outcome_type\":\"Transfer\",\"outcome_subtype\":\"Partner\",\"animal_type\":\"Cat\",\"sex_upon_outcome\":\"Intact Male\",\"age_upon_outcome\":\"1 week\",\"breed\":\"Domestic Shorthair\",\"color\":\"Orange Tabby\"}\\n,{\"animal_id\":\"A843751\",\"name\":\"146 G\",\"datetime\":\"2021-10-06T14:58:00.000\",\"monthyear\":\"2021-10-06T14:58:00.000\",\"date_of_birth\":\"2021-09-29T00:00:00.000\",\"outcome_type\":\"Transfer\",\"outcome_subtype\":\"Partner\",\"animal_type\":\"Cat\",\"sex_upon_outcome\":\"Intact Male\",\"age_upon_outcome\":\"1 week\",\"breed\":\"Domestic Shorthair\",\"color\":\"Black/White\"}\\n,{\"animal_id\":\"A843752\",\"name\":\"144 G\",\"datetime\":\"2021-10-06T14:58:00.000\",\"monthyear\":\"2021-10-06T14:58:00.000\",\"date_of_birth\":\"2021-09-29T00:00:00.000\",\"outcome_type\":\"Transfer\",\"outcome_subtype\":\"Partner\",\"animal_type\":\"Cat\",\"sex_upon_outcome\":\"Intact Female\",\"age_upon_outcome\":\"1 week\",\"breed\":\"Domestic Shorthair\",\"color\":\"Black/White\"}\\n,{\"animal_id\":\"A783773\",\"name\":\"Buddy\",\"datetime\":\"2021-10-06T14:05:00.000\",\"monthyear\":\"2021-10-06T14:05:00.000\",\"date_of_birth\":\"2016-11-15T00:00:00.000\",\"outcome_type\":\"Rto-Adopt\",\"animal_type\":\"Dog\",\"sex_upon_outcome\":\"Neutered Male\",\"age_upon_outcome\":\"4 years\",\"breed\":\"German Shepherd Mix\",\"color\":\"Tan/Black\"}\\n,{\"animal_id\":\"A843708\",\"datetime\":\"2021-10-06T13:22:00.000\",\"monthyear\":\"2021-10-06T13:22:00.000\",\"date_of_birth\":\"2019-10-05T00:00:00.000\",\"outcome_type\":\"Euthanasia\",\"outcome_subtype\":\"Rabies Risk\",\"animal_type\":\"Other\",\"sex_upon_outcome\":\"Unknown\",\"age_upon_outcome\":\"2 years\",\"breed\":\"Bat\",\"color\":\"Brown\"}\\n,{\"animal_id\":\"A843694\",\"datetime\":\"2021-10-06T13:20:00.000\",\"monthyear\":\"2021-10-06T13:20:00.000\",\"date_of_birth\":\"2019-10-05T00:00:00.000\",\"outcome_type\":\"Euthanasia\",\"outcome_subtype\":\"Rabies Risk\",\"animal_type\":\"Other\",\"sex_upon_outcome\":\"Unknown\",\"age_upon_outcome\":\"2 years\",\"breed\":\"Bat\",\"color\":\"Brown\"}\\n,{\"animal_id\":\"A838666\",\"name\":\"*Polly\",\"datetime\":\"2021-10-06T12:11:00.000\",\"monthyear\":\"2021-10-06T12:11:00.000\",\"date_of_birth\":\"2021-05-24T00:00:00.000\",\"outcome_type\":\"Adoption\",\"outcome_subtype\":\"Foster\",\"animal_type\":\"Cat\",\"sex_upon_outcome\":\"Spayed Female\",\"age_upon_outcome\":\"4 months\",\"breed\":\"Domestic Shorthair\",\"color\":\"Brown Tabby\"}\\n,{\"animal_id\":\"A841834\",\"name\":\"A841834\",\"datetime\":\"2021-10-06T12:04:00.000\",\"monthyear\":\"2021-10-06T12:04:00.000\",\"date_of_birth\":\"2021-06-18T00:00:00.000\",\"outcome_type\":\"Adoption\",\"outcome_subtype\":\"Foster\",\"animal_type\":\"Cat\",\"sex_upon_outcome\":\"Spayed Female\",\"age_upon_outcome\":\"3 months\",\"breed\":\"Siamese Mix\",\"color\":\"Lynx Point\"}\\n,{\"animal_id\":\"A834707\",\"name\":\"Dahlia\",\"datetime\":\"2021-10-06T12:01:00.000\",\"monthyear\":\"2021-10-06T12:01:00.000\",\"date_of_birth\":\"2017-05-17T00:00:00.000\",\"outcome_type\":\"Adoption\",\"outcome_subtype\":\"Foster\",\"animal_type\":\"Cat\",\"sex_upon_outcome\":\"Spayed Female\",\"age_upon_outcome\":\"4 years\",\"breed\":\"Domestic Shorthair Mix\",\"color\":\"Tortie\"}\\n,{\"animal_id\":\"A842045\",\"name\":\"*Fideo\",\"datetime\":\"2021-10-06T11:58:00.000\",\"monthyear\":\"2021-10-06T11:58:00.000\",\"date_of_birth\":\"2021-07-27T00:00:00.000\",\"outcome_type\":\"Adoption\",\"outcome_subtype\":\"Foster\",\"animal_type\":\"Cat\",\"sex_upon_outcome\":\"Spayed Female\",\"age_upon_outcome\":\"2 months\",\"breed\":\"Domestic Longhair\",\"color\":\"Brown Tabby/White\"}\\n,{\"animal_id\":\"A839986\",\"name\":\"*Greta\",\"datetime\":\"2021-10-06T11:55:00.000\",\"monthyear\":\"2021-10-06T11:55:00.000\",\"date_of_birth\":\"2019-07-30T00:00:00.000\",\"outcome_type\":\"Adoption\",\"outcome_subtype\":\"Foster\",\"animal_type\":\"Other\",\"sex_upon_outcome\":\"Intact Female\",\"age_upon_outcome\":\"2 years\",\"breed\":\"Guinea Pig\",\"color\":\"Brown\"}\\n,{\"animal_id\":\"A840166\",\"name\":\"*Hank\",\"datetime\":\"2021-10-06T11:49:00.000\",\"monthyear\":\"2021-10-06T11:49:00.000\",\"date_of_birth\":\"2020-08-03T00:00:00.000\",\"outcome_type\":\"Adoption\",\"outcome_subtype\":\"Foster\",\"animal_type\":\"Other\",\"sex_upon_outcome\":\"Intact Male\",\"age_upon_outcome\":\"1 year\",\"breed\":\"Lop-Mini/Hotot\",\"color\":\"White/Black\"}\\n,{\"animal_id\":\"A830728\",\"datetime\":\"2021-10-06T11:47:00.000\",\"monthyear\":\"2021-10-06T11:47:00.000\",\"date_of_birth\":\"2021-03-13T00:00:00.000\",\"outcome_type\":\"Adoption\",\"outcome_subtype\":\"Foster\",\"animal_type\":\"Cat\",\"sex_upon_outcome\":\"Spayed Female\",\"age_upon_outcome\":\"6 months\",\"breed\":\"Domestic Shorthair\",\"color\":\"Torbie\"}\\n,{\"animal_id\":\"A830729\",\"datetime\":\"2021-10-06T11:45:00.000\",\"monthyear\":\"2021-10-06T11:45:00.000\",\"date_of_birth\":\"2021-03-13T00:00:00.000\",\"outcome_type\":\"Adoption\",\"outcome_subtype\":\"Foster\",\"animal_type\":\"Cat\",\"sex_upon_outcome\":\"Spayed Female\",\"age_upon_outcome\":\"6 months\",\"breed\":\"Domestic Shorthair\",\"color\":\"Blue Tabby\"}\\n,{\"animal_id\":\"A829198\",\"name\":\"*Elena\",\"datetime\":\"2021-10-06T11:44:00.000\",\"monthyear\":\"2021-10-06T11:44:00.000\",\"date_of_birth\":\"2019-10-04T00:00:00.000\",\"outcome_type\":\"Adoption\",\"outcome_subtype\":\"Foster\",\"animal_type\":\"Cat\",\"sex_upon_outcome\":\"Spayed Female\",\"age_upon_outcome\":\"2 years\",\"breed\":\"Domestic Shorthair\",\"color\":\"Torbie\"}\\n,{\"animal_id\":\"A843617\",\"name\":\"Mason\",\"datetime\":\"2021-10-06T11:41:00.000\",\"monthyear\":\"2021-10-06T11:41:00.000\",\"date_of_birth\":\"2021-03-04T00:00:00.000\",\"outcome_type\":\"Adoption\",\"animal_type\":\"Other\",\"sex_upon_outcome\":\"Intact Male\",\"age_upon_outcome\":\"7 months\",\"breed\":\"Guinea Pig\",\"color\":\"Black/White\"}\\n,{\"animal_id\":\"A833239\",\"name\":\"*Sprout\",\"datetime\":\"2021-10-06T11:24:00.000\",\"monthyear\":\"2021-10-06T11:24:00.000\",\"date_of_birth\":\"2020-06-26T00:00:00.000\",\"outcome_type\":\"Adoption\",\"outcome_subtype\":\"Foster\",\"animal_type\":\"Dog\",\"sex_upon_outcome\":\"Spayed Female\",\"age_upon_outcome\":\"1 year\",\"breed\":\"Pit Bull\",\"color\":\"White\"}\\n,{\"animal_id\":\"A841489\",\"name\":\"Coucous (Billie)\",\"datetime\":\"2021-10-06T08:46:00.000\",\"monthyear\":\"2021-10-06T08:46:00.000\",\"date_of_birth\":\"2011-08-29T00:00:00.000\",\"outcome_type\":\"Died\",\"outcome_subtype\":\"In Foster\",\"animal_type\":\"Cat\",\"sex_upon_outcome\":\"Spayed Female\",\"age_upon_outcome\":\"10 years\",\"breed\":\"Domestic Medium Hair\",\"color\":\"Torbie\"}\\n,{\"animal_id\":\"A842740\",\"datetime\":\"2021-10-06T08:16:00.000\",\"monthyear\":\"2021-10-06T08:16:00.000\",\"date_of_birth\":\"2021-03-21T00:00:00.000\",\"outcome_type\":\"Disposal\",\"animal_type\":\"Dog\",\"sex_upon_outcome\":\"Intact Male\",\"age_upon_outcome\":\"6 months\",\"breed\":\"Labrador Retriever Mix\",\"color\":\"Black/Brown\"}\\n,{\"animal_id\":\"A842663\",\"name\":\"Tigre\",\"datetime\":\"2021-10-05T19:16:00.000\",\"monthyear\":\"2021-10-05T19:16:00.000\",\"date_of_birth\":\"2021-07-05T00:00:00.000\",\"outcome_type\":\"Adoption\",\"animal_type\":\"Dog\",\"sex_upon_outcome\":\"Neutered Male\",\"age_upon_outcome\":\"3 months\",\"breed\":\"Pit Bull\",\"color\":\"Brown Brindle/White\"}\\n,{\"animal_id\":\"A841865\",\"name\":\"Flower\",\"datetime\":\"2021-10-05T19:03:00.000\",\"monthyear\":\"2021-10-05T19:03:00.000\",\"date_of_birth\":\"2021-07-20T00:00:00.000\",\"outcome_type\":\"Adoption\",\"animal_type\":\"Dog\",\"sex_upon_outcome\":\"Spayed Female\",\"age_upon_outcome\":\"2 months\",\"breed\":\"Pit Bull\",\"color\":\"Brown Brindle/White\"}\\n,{\"animal_id\":\"A843353\",\"name\":\"*Jitterbug\",\"datetime\":\"2021-10-05T18:52:00.000\",\"monthyear\":\"2021-10-05T18:52:00.000\",\"date_of_birth\":\"2021-05-30T00:00:00.000\",\"outcome_type\":\"Adoption\",\"animal_type\":\"Dog\",\"sex_upon_outcome\":\"Spayed Female\",\"age_upon_outcome\":\"4 months\",\"breed\":\"Siberian Husky Mix\",\"color\":\"White\"}\\n,{\"animal_id\":\"A843718\",\"datetime\":\"2021-10-05T18:30:00.000\",\"monthyear\":\"2021-10-05T18:30:00.000\",\"date_of_birth\":\"2021-09-14T00:00:00.000\",\"outcome_type\":\"Transfer\",\"outcome_subtype\":\"Partner\",\"animal_type\":\"Cat\",\"sex_upon_outcome\":\"Intact Female\",\"age_upon_outcome\":\"3 weeks\",\"breed\":\"Domestic Shorthair\",\"color\":\"Brown Tabby\"}\\n,{\"animal_id\":\"A843347\",\"name\":\"Bubbles\",\"datetime\":\"2021-10-05T18:23:00.000\",\"monthyear\":\"2021-10-05T18:23:00.000\",\"date_of_birth\":\"2018-09-29T00:00:00.000\",\"outcome_type\":\"Adoption\",\"animal_type\":\"Dog\",\"sex_upon_outcome\":\"Spayed Female\",\"age_upon_outcome\":\"3 years\",\"breed\":\"Labrador Retriever/German Shepherd\",\"color\":\"Buff\"}\\n,{\"animal_id\":\"A843214\",\"name\":\"A843214\",\"datetime\":\"2021-10-05T18:15:00.000\",\"monthyear\":\"2021-10-05T18:15:00.000\",\"date_of_birth\":\"2021-06-28T00:00:00.000\",\"outcome_type\":\"Adoption\",\"animal_type\":\"Dog\",\"sex_upon_outcome\":\"Spayed Female\",\"age_upon_outcome\":\"3 months\",\"breed\":\"Golden Retriever Mix\",\"color\":\"Tan\"}\\n,{\"animal_id\":\"A843529\",\"name\":\"Bubbles\",\"datetime\":\"2021-10-05T17:59:00.000\",\"monthyear\":\"2021-10-05T17:59:00.000\",\"date_of_birth\":\"2020-10-02T00:00:00.000\",\"outcome_type\":\"Adoption\",\"animal_type\":\"Dog\",\"sex_upon_outcome\":\"Spayed Female\",\"age_upon_outcome\":\"1 year\",\"breed\":\"Chihuahua Shorthair/Dachshund\",\"color\":\"Tan\"}\\n,{\"animal_id\":\"A838093\",\"name\":\"Boots\",\"datetime\":\"2021-10-05T17:58:00.000\",\"monthyear\":\"2021-10-05T17:58:00.000\",\"date_of_birth\":\"2021-04-19T00:00:00.000\",\"outcome_type\":\"Return to Owner\",\"animal_type\":\"Cat\",\"sex_upon_outcome\":\"Neutered Male\",\"age_upon_outcome\":\"5 months\",\"breed\":\"Domestic Shorthair\",\"color\":\"Brown Tabby/White\"}\\n,{\"animal_id\":\"A843050\",\"name\":\"A843050\",\"datetime\":\"2021-10-05T17:55:00.000\",\"monthyear\":\"2021-10-05T17:55:00.000\",\"date_of_birth\":\"2021-05-01T00:00:00.000\",\"outcome_type\":\"Adoption\",\"animal_type\":\"Cat\",\"sex_upon_outcome\":\"Neutered Male\",\"age_upon_outcome\":\"5 months\",\"breed\":\"Domestic Shorthair\",\"color\":\"Black\"}\\n,{\"animal_id\":\"A843434\",\"name\":\"Duke\",\"datetime\":\"2021-10-05T17:52:00.000\",\"monthyear\":\"2021-10-05T17:52:00.000\",\"date_of_birth\":\"2021-07-21T00:00:00.000\",\"outcome_type\":\"Adoption\",\"animal_type\":\"Dog\",\"sex_upon_outcome\":\"Neutered Male\",\"age_upon_outcome\":\"2 months\",\"breed\":\"Labrador Retriever\",\"color\":\"Brown Brindle\"}\\n,{\"animal_id\":\"A843531\",\"name\":\"Ash\",\"datetime\":\"2021-10-05T17:50:00.000\",\"monthyear\":\"2021-10-05T17:50:00.000\",\"date_of_birth\":\"2020-10-02T00:00:00.000\",\"outcome_type\":\"Adoption\",\"animal_type\":\"Dog\",\"sex_upon_outcome\":\"Spayed Female\",\"age_upon_outcome\":\"1 year\",\"breed\":\"Chihuahua Shorthair/Dachshund\",\"color\":\"Black/Tan\"}\\n,{\"animal_id\":\"A840585\",\"name\":\"*Cobalt\",\"datetime\":\"2021-10-05T17:45:00.000\",\"monthyear\":\"2021-10-05T17:45:00.000\",\"date_of_birth\":\"2021-07-10T00:00:00.000\",\"outcome_type\":\"Adoption\",\"animal_type\":\"Cat\",\"sex_upon_outcome\":\"Neutered Male\",\"age_upon_outcome\":\"2 months\",\"breed\":\"Domestic Medium Hair\",\"color\":\"Blue Tabby\"}\\n,{\"animal_id\":\"A839343\",\"name\":\"Florentino\",\"datetime\":\"2021-10-05T17:37:00.000\",\"monthyear\":\"2021-10-05T17:37:00.000\",\"date_of_birth\":\"2021-04-20T00:00:00.000\",\"outcome_type\":\"Adoption\",\"animal_type\":\"Cat\",\"sex_upon_outcome\":\"Neutered Male\",\"age_upon_outcome\":\"5 months\",\"breed\":\"Domestic Shorthair\",\"color\":\"Black\"}\\n,{\"animal_id\":\"A843530\",\"name\":\"Momo\",\"datetime\":\"2021-10-05T17:36:00.000\",\"monthyear\":\"2021-10-05T17:36:00.000\",\"date_of_birth\":\"2020-10-02T00:00:00.000\",\"outcome_type\":\"Adoption\",\"animal_type\":\"Dog\",\"sex_upon_outcome\":\"Spayed Female\",\"age_upon_outcome\":\"1 year\",\"breed\":\"Chihuahua Shorthair/Dachshund\",\"color\":\"Black/Tan\"}\\n,{\"animal_id\":\"A843436\",\"name\":\"Scooby\",\"datetime\":\"2021-10-05T17:25:00.000\",\"monthyear\":\"2021-10-05T17:25:00.000\",\"date_of_birth\":\"2021-07-21T00:00:00.000\",\"outcome_type\":\"Adoption\",\"animal_type\":\"Dog\",\"sex_upon_outcome\":\"Neutered Male\",\"age_upon_outcome\":\"2 months\",\"breed\":\"Labrador Retriever\",\"color\":\"Brown Brindle/White\"}\\n,{\"animal_id\":\"A842536\",\"datetime\":\"2021-10-05T17:03:00.000\",\"monthyear\":\"2021-10-05T17:03:00.000\",\"date_of_birth\":\"2021-08-05T00:00:00.000\",\"outcome_type\":\"Adoption\",\"animal_type\":\"Dog\",\"sex_upon_outcome\":\"Spayed Female\",\"age_upon_outcome\":\"1 month\",\"breed\":\"Dachshund\",\"color\":\"Black\"}\\n,{\"animal_id\":\"A842913\",\"name\":\"*Summer\",\"datetime\":\"2021-10-05T16:58:00.000\",\"monthyear\":\"2021-10-05T16:58:00.000\",\"date_of_birth\":\"2019-09-23T00:00:00.000\",\"outcome_type\":\"Adoption\",\"animal_type\":\"Dog\",\"sex_upon_outcome\":\"Spayed Female\",\"age_upon_outcome\":\"2 years\",\"breed\":\"Great Pyrenees Mix\",\"color\":\"Brown/White\"}\\n,{\"animal_id\":\"A840282\",\"name\":\"*Hubert\",\"datetime\":\"2021-10-05T16:56:00.000\",\"monthyear\":\"2021-10-05T16:56:00.000\",\"date_of_birth\":\"2021-07-04T00:00:00.000\",\"outcome_type\":\"Adoption\",\"animal_type\":\"Cat\",\"sex_upon_outcome\":\"Neutered Male\",\"age_upon_outcome\":\"3 months\",\"breed\":\"Domestic Shorthair\",\"color\":\"Black\"}\\n,{\"animal_id\":\"A843241\",\"name\":\"*Squish\",\"datetime\":\"2021-10-05T16:44:00.000\",\"monthyear\":\"2021-10-05T16:44:00.000\",\"date_of_birth\":\"2016-09-28T00:00:00.000\",\"outcome_type\":\"Adoption\",\"animal_type\":\"Cat\",\"sex_upon_outcome\":\"Neutered Male\",\"age_upon_outcome\":\"5 years\",\"breed\":\"Persian\",\"color\":\"White/Tricolor\"}\\n,{\"animal_id\":\"A842535\",\"name\":\"Lucy\",\"datetime\":\"2021-10-05T16:38:00.000\",\"monthyear\":\"2021-10-05T16:38:00.000\",\"date_of_birth\":\"2021-08-05T00:00:00.000\",\"outcome_type\":\"Adoption\",\"animal_type\":\"Dog\",\"sex_upon_outcome\":\"Spayed Female\",\"age_upon_outcome\":\"1 month\",\"breed\":\"Dachshund\",\"color\":\"Black\"}\\n,{\"animal_id\":\"A843468\",\"name\":\"Hades\",\"datetime\":\"2021-10-05T16:37:00.000\",\"monthyear\":\"2021-10-05T16:37:00.000\",\"date_of_birth\":\"2019-10-01T00:00:00.000\",\"outcome_type\":\"Adoption\",\"animal_type\":\"Cat\",\"sex_upon_outcome\":\"Neutered Male\",\"age_upon_outcome\":\"2 years\",\"breed\":\"Domestic Shorthair\",\"color\":\"Black\"}\\n,{\"animal_id\":\"A843336\",\"name\":\"A843336\",\"datetime\":\"2021-10-05T16:26:00.000\",\"monthyear\":\"2021-10-05T16:26:00.000\",\"date_of_birth\":\"2021-07-16T00:00:00.000\",\"outcome_type\":\"Adoption\",\"animal_type\":\"Dog\",\"sex_upon_outcome\":\"Spayed Female\",\"age_upon_outcome\":\"2 months\",\"breed\":\"American Pit Bull Terrier Mix\",\"color\":\"Chocolate/White\"}\\n,{\"animal_id\":\"A843421\",\"name\":\"A843421\",\"datetime\":\"2021-10-05T16:25:00.000\",\"monthyear\":\"2021-10-05T16:25:00.000\",\"date_of_birth\":\"2021-07-30T00:00:00.000\",\"outcome_type\":\"Adoption\",\"animal_type\":\"Cat\",\"sex_upon_outcome\":\"Neutered Male\",\"age_upon_outcome\":\"2 months\",\"breed\":\"Domestic Shorthair Mix\",\"color\":\"Black\"}\\n,{\"animal_id\":\"A842482\",\"name\":\"*Eliza\",\"datetime\":\"2021-10-05T16:16:00.000\",\"monthyear\":\"2021-10-05T16:16:00.000\",\"date_of_birth\":\"2021-05-16T00:00:00.000\",\"outcome_type\":\"Adoption\",\"animal_type\":\"Cat\",\"sex_upon_outcome\":\"Spayed Female\",\"age_upon_outcome\":\"4 months\",\"breed\":\"Domestic Shorthair\",\"color\":\"Calico\"}\\n,{\"animal_id\":\"A840162\",\"name\":\"*Norma\",\"datetime\":\"2021-10-05T16:13:00.000\",\"monthyear\":\"2021-10-05T16:13:00.000\",\"date_of_birth\":\"2021-07-02T00:00:00.000\",\"outcome_type\":\"Adoption\",\"outcome_subtype\":\"Foster\",\"animal_type\":\"Cat\",\"sex_upon_outcome\":\"Spayed Female\",\"age_upon_outcome\":\"3 months\",\"breed\":\"Domestic Shorthair Mix\",\"color\":\"Orange Tabby\"}\\n,{\"animal_id\":\"A843459\",\"datetime\":\"2021-10-05T16:10:00.000\",\"monthyear\":\"2021-10-05T16:10:00.000\",\"date_of_birth\":\"2007-10-01T00:00:00.000\",\"outcome_type\":\"Euthanasia\",\"outcome_subtype\":\"Medical\",\"animal_type\":\"Cat\",\"sex_upon_outcome\":\"Spayed Female\",\"age_upon_outcome\":\"14 years\",\"breed\":\"Domestic Shorthair\",\"color\":\"Calico\"}\\n,{\"animal_id\":\"A842347\",\"name\":\"*Sprout\",\"datetime\":\"2021-10-05T15:57:00.000\",\"monthyear\":\"2021-10-05T15:57:00.000\",\"date_of_birth\":\"2021-07-30T00:00:00.000\",\"outcome_type\":\"Adoption\",\"outcome_subtype\":\"Foster\",\"animal_type\":\"Dog\",\"sex_upon_outcome\":\"Neutered Male\",\"age_upon_outcome\":\"2 months\",\"breed\":\"Jack Russell Terrier/Boston Terrier\",\"color\":\"Red/White\"}\\n,{\"animal_id\":\"A840659\",\"name\":\"*Velveteen\",\"datetime\":\"2021-10-05T15:55:00.000\",\"monthyear\":\"2021-10-05T15:55:00.000\",\"date_of_birth\":\"2020-08-11T00:00:00.000\",\"outcome_type\":\"Adoption\",\"outcome_subtype\":\"Foster\",\"animal_type\":\"Other\",\"sex_upon_outcome\":\"Neutered Male\",\"age_upon_outcome\":\"1 year\",\"breed\":\"Rex Mix\",\"color\":\"Agouti\"}\\n,{\"animal_id\":\"A843079\",\"name\":\"*Watermelon\",\"datetime\":\"2021-10-05T15:54:00.000\",\"monthyear\":\"2021-10-05T15:54:00.000\",\"date_of_birth\":\"2019-09-26T00:00:00.000\",\"outcome_type\":\"Adoption\",\"animal_type\":\"Dog\",\"sex_upon_outcome\":\"Spayed Female\",\"age_upon_outcome\":\"2 years\",\"breed\":\"German Shepherd Mix\",\"color\":\"Black/Brown\"}\\n,{\"animal_id\":\"A842344\",\"name\":\"*Lettuce\",\"datetime\":\"2021-10-05T15:53:00.000\",\"monthyear\":\"2021-10-05T15:53:00.000\",\"date_of_birth\":\"2021-07-30T00:00:00.000\",\"outcome_type\":\"Adoption\",\"outcome_subtype\":\"Foster\",\"animal_type\":\"Dog\",\"sex_upon_outcome\":\"Neutered Male\",\"age_upon_outcome\":\"2 months\",\"breed\":\"Jack Russell Terrier/Boston Terrier\",\"color\":\"Black/White\"}\\n,{\"animal_id\":\"A843487\",\"name\":\"Deja Mae\",\"datetime\":\"2021-10-05T15:51:00.000\",\"monthyear\":\"2021-10-05T15:51:00.000\",\"date_of_birth\":\"2020-10-01T00:00:00.000\",\"outcome_type\":\"Adoption\",\"animal_type\":\"Dog\",\"sex_upon_outcome\":\"Spayed Female\",\"age_upon_outcome\":\"1 year\",\"breed\":\"Chihuahua Shorthair\",\"color\":\"Red\"}\\n,{\"animal_id\":\"A842366\",\"name\":\"*Naan\",\"datetime\":\"2021-10-05T15:50:00.000\",\"monthyear\":\"2021-10-05T15:50:00.000\",\"date_of_birth\":\"2021-08-07T00:00:00.000\",\"outcome_type\":\"Adoption\",\"outcome_subtype\":\"Foster\",\"animal_type\":\"Cat\",\"sex_upon_outcome\":\"Spayed Female\",\"age_upon_outcome\":\"1 month\",\"breed\":\"Domestic Medium Hair\",\"color\":\"Black\"}\\n,{\"animal_id\":\"A836282\",\"name\":\"*Daisy\",\"datetime\":\"2021-10-05T15:48:00.000\",\"monthyear\":\"2021-10-05T15:48:00.000\",\"date_of_birth\":\"2021-05-03T00:00:00.000\",\"outcome_type\":\"Adoption\",\"outcome_subtype\":\"Foster\",\"animal_type\":\"Cat\",\"sex_upon_outcome\":\"Spayed Female\",\"age_upon_outcome\":\"5 months\",\"breed\":\"Domestic Shorthair\",\"color\":\"Gray Tabby\"}\\n,{\"animal_id\":\"A842367\",\"name\":\"*Ciabatta\",\"datetime\":\"2021-10-05T15:43:00.000\",\"monthyear\":\"2021-10-05T15:43:00.000\",\"date_of_birth\":\"2021-08-07T00:00:00.000\",\"outcome_type\":\"Adoption\",\"outcome_subtype\":\"Foster\",\"animal_type\":\"Cat\",\"sex_upon_outcome\":\"Neutered Male\",\"age_upon_outcome\":\"1 month\",\"breed\":\"Domestic Medium Hair\",\"color\":\"Black\"}\\n,{\"animal_id\":\"A840599\",\"name\":\"*Lady\",\"datetime\":\"2021-10-05T15:27:00.000\",\"monthyear\":\"2021-10-05T15:27:00.000\",\"date_of_birth\":\"2021-06-24T00:00:00.000\",\"outcome_type\":\"Adoption\",\"outcome_subtype\":\"Foster\",\"animal_type\":\"Cat\",\"sex_upon_outcome\":\"Spayed Female\",\"age_upon_outcome\":\"3 months\",\"breed\":\"Domestic Shorthair Mix\",\"color\":\"Orange Tabby\"}\\n,{\"animal_id\":\"A843476\",\"name\":\"Shadow\",\"datetime\":\"2021-10-05T14:58:00.000\",\"monthyear\":\"2021-10-05T14:58:00.000\",\"date_of_birth\":\"2019-10-01T00:00:00.000\",\"outcome_type\":\"Return to Owner\",\"animal_type\":\"Dog\",\"sex_upon_outcome\":\"Neutered Male\",\"age_upon_outcome\":\"2 years\",\"breed\":\"Patterdale Terr\",\"color\":\"Black/White\"}\\n,{\"animal_id\":\"A843634\",\"name\":\"Goblin\",\"datetime\":\"2021-10-05T14:53:00.000\",\"monthyear\":\"2021-10-05T14:53:00.000\",\"date_of_birth\":\"2021-02-04T00:00:00.000\",\"outcome_type\":\"Adoption\",\"animal_type\":\"Cat\",\"sex_upon_outcome\":\"Spayed Female\",\"age_upon_outcome\":\"7 months\",\"breed\":\"Domestic Shorthair\",\"color\":\"Black/White\"}\\n,{\"animal_id\":\"A843441\",\"name\":\"Teachy\",\"datetime\":\"2021-10-05T14:40:00.000\",\"monthyear\":\"2021-10-05T14:40:00.000\",\"date_of_birth\":\"2020-09-30T00:00:00.000\",\"outcome_type\":\"Return to Owner\",\"animal_type\":\"Dog\",\"sex_upon_outcome\":\"Intact Female\",\"age_upon_outcome\":\"1 year\",\"breed\":\"Maltese Mix\",\"color\":\"White\"}\\n,{\"animal_id\":\"A842603\",\"name\":\"A842603\",\"datetime\":\"2021-10-05T14:27:00.000\",\"monthyear\":\"2021-10-05T14:27:00.000\",\"date_of_birth\":\"2021-05-03T00:00:00.000\",\"outcome_type\":\"Transfer\",\"outcome_subtype\":\"Partner\",\"animal_type\":\"Cat\",\"sex_upon_outcome\":\"Intact Male\",\"age_upon_outcome\":\"5 months\",\"breed\":\"Domestic Shorthair\",\"color\":\"Brown Tabby\"}\\n,{\"animal_id\":\"A841872\",\"name\":\"Jinx\",\"datetime\":\"2021-10-05T13:18:00.000\",\"monthyear\":\"2021-10-05T13:18:00.000\",\"date_of_birth\":\"2021-07-18T00:00:00.000\",\"outcome_type\":\"Adoption\",\"animal_type\":\"Dog\",\"sex_upon_outcome\":\"Neutered Male\",\"age_upon_outcome\":\"2 months\",\"breed\":\"Australian Cattle Dog\",\"color\":\"Black/White\"}\\n,{\"animal_id\":\"A843614\",\"name\":\"A843614\",\"datetime\":\"2021-10-05T12:17:00.000\",\"monthyear\":\"2021-10-05T12:17:00.000\",\"date_of_birth\":\"2021-10-03T00:00:00.000\",\"outcome_type\":\"Transfer\",\"outcome_subtype\":\"Partner\",\"animal_type\":\"Other\",\"sex_upon_outcome\":\"Unknown\",\"age_upon_outcome\":\"2 days\",\"breed\":\"Guinea Pig\",\"color\":\"Black\"}\\n,{\"animal_id\":\"A843613\",\"name\":\"A843613\",\"datetime\":\"2021-10-05T12:12:00.000\",\"monthyear\":\"2021-10-05T12:12:00.000\",\"date_of_birth\":\"2021-10-03T00:00:00.000\",\"outcome_type\":\"Transfer\",\"outcome_subtype\":\"Partner\",\"animal_type\":\"Other\",\"sex_upon_outcome\":\"Unknown\",\"age_upon_outcome\":\"2 days\",\"breed\":\"Guinea Pig\",\"color\":\"Black/Orange\"}\\n,{\"animal_id\":\"A843612\",\"name\":\"Woods\",\"datetime\":\"2021-10-05T12:11:00.000\",\"monthyear\":\"2021-10-05T12:11:00.000\",\"date_of_birth\":\"2021-03-04T00:00:00.000\",\"outcome_type\":\"Transfer\",\"outcome_subtype\":\"Partner\",\"animal_type\":\"Other\",\"sex_upon_outcome\":\"Intact Female\",\"age_upon_outcome\":\"7 months\",\"breed\":\"Guinea Pig\",\"color\":\"Black/Orange\"}\\n,{\"animal_id\":\"A843567\",\"name\":\"Trashcat\",\"datetime\":\"2021-10-05T11:50:00.000\",\"monthyear\":\"2021-10-05T11:50:00.000\",\"date_of_birth\":\"2019-10-03T00:00:00.000\",\"outcome_type\":\"Return to Owner\",\"animal_type\":\"Cat\",\"sex_upon_outcome\":\"Neutered Male\",\"age_upon_outcome\":\"2 years\",\"breed\":\"American Shorthair\",\"color\":\"White/White\"}\\n,{\"animal_id\":\"A843479\",\"name\":\"Rufus\",\"datetime\":\"2021-10-05T11:32:00.000\",\"monthyear\":\"2021-10-05T11:32:00.000\",\"date_of_birth\":\"2012-10-01T00:00:00.000\",\"outcome_type\":\"Return to Owner\",\"animal_type\":\"Dog\",\"sex_upon_outcome\":\"Neutered Male\",\"age_upon_outcome\":\"9 years\",\"breed\":\"Bearded Collie Mix\",\"color\":\"Gray/White\"}\\n,{\"animal_id\":\"A842345\",\"name\":\"*Avocado\",\"datetime\":\"2021-10-05T09:02:00.000\",\"monthyear\":\"2021-10-05T09:02:00.000\",\"date_of_birth\":\"2021-07-30T00:00:00.000\",\"outcome_type\":\"Adoption\",\"outcome_subtype\":\"Foster\",\"animal_type\":\"Dog\",\"sex_upon_outcome\":\"Spayed Female\",\"age_upon_outcome\":\"2 months\",\"breed\":\"Jack Russell Terrier/Boston Terrier\",\"color\":\"Black/White\"}\\n,{\"animal_id\":\"A839023\",\"name\":\"*Tot\",\"datetime\":\"2021-10-05T07:22:00.000\",\"monthyear\":\"2021-10-05T07:22:00.000\",\"date_of_birth\":\"2021-07-14T00:00:00.000\",\"outcome_type\":\"Adoption\",\"outcome_subtype\":\"Foster\",\"animal_type\":\"Cat\",\"sex_upon_outcome\":\"Neutered Male\",\"age_upon_outcome\":\"2 months\",\"breed\":\"Domestic Shorthair\",\"color\":\"Black/White\"}\\n,{\"animal_id\":\"A843057\",\"name\":\"A843057\",\"datetime\":\"2021-10-04T19:29:00.000\",\"monthyear\":\"2021-10-04T19:29:00.000\",\"date_of_birth\":\"2021-08-09T00:00:00.000\",\"outcome_type\":\"Adoption\",\"animal_type\":\"Cat\",\"sex_upon_outcome\":\"Spayed Female\",\"age_upon_outcome\":\"1 month\",\"breed\":\"Domestic Shorthair\",\"color\":\"Blue\"}\\n,{\"animal_id\":\"A843056\",\"name\":\"A843056\",\"datetime\":\"2021-10-04T19:28:00.000\",\"monthyear\":\"2021-10-04T19:28:00.000\",\"date_of_birth\":\"2021-08-09T00:00:00.000\",\"outcome_type\":\"Adoption\",\"animal_type\":\"Cat\",\"sex_upon_outcome\":\"Neutered Male\",\"age_upon_outcome\":\"1 month\",\"breed\":\"Domestic Shorthair\",\"color\":\"Blue\"}\\n,{\"animal_id\":\"A843298\",\"datetime\":\"2021-10-04T19:17:00.000\",\"monthyear\":\"2021-10-04T19:17:00.000\",\"date_of_birth\":\"2020-09-29T00:00:00.000\",\"outcome_type\":\"Adoption\",\"animal_type\":\"Dog\",\"sex_upon_outcome\":\"Intact Female\",\"age_upon_outcome\":\"1 year\",\"breed\":\"Cardigan Welsh Corgi Mix\",\"color\":\"Tan\"}\\n,{\"animal_id\":\"A843225\",\"name\":\"Ranger\",\"datetime\":\"2021-10-04T19:10:00.000\",\"monthyear\":\"2021-10-04T19:10:00.000\",\"date_of_birth\":\"2019-09-28T00:00:00.000\",\"outcome_type\":\"Adoption\",\"animal_type\":\"Dog\",\"sex_upon_outcome\":\"Neutered Male\",\"age_upon_outcome\":\"2 years\",\"breed\":\"Labrador Retriever/German Shepherd\",\"color\":\"White\"}\\n,{\"animal_id\":\"A843102\",\"datetime\":\"2021-10-04T19:04:00.000\",\"monthyear\":\"2021-10-04T19:04:00.000\",\"date_of_birth\":\"2020-03-27T00:00:00.000\",\"outcome_type\":\"Adoption\",\"animal_type\":\"Dog\",\"sex_upon_outcome\":\"Spayed Female\",\"age_upon_outcome\":\"1 year\",\"breed\":\"Chihuahua Shorthair\",\"color\":\"Tan/Black\"}\\n,{\"animal_id\":\"A842894\",\"name\":\"A842894\",\"datetime\":\"2021-10-04T18:58:00.000\",\"monthyear\":\"2021-10-04T18:58:00.000\",\"date_of_birth\":\"2019-09-22T00:00:00.000\",\"outcome_type\":\"Adoption\",\"animal_type\":\"Cat\",\"sex_upon_outcome\":\"Spayed Female\",\"age_upon_outcome\":\"2 years\",\"breed\":\"Domestic Shorthair\",\"color\":\"Black\"}\\n,{\"animal_id\":\"A843627\",\"datetime\":\"2021-10-04T18:56:00.000\",\"monthyear\":\"2021-10-04T18:56:00.000\",\"date_of_birth\":\"2021-09-13T00:00:00.000\",\"outcome_type\":\"Transfer\",\"outcome_subtype\":\"Partner\",\"animal_type\":\"Cat\",\"sex_upon_outcome\":\"Intact Male\",\"age_upon_outcome\":\"3 weeks\",\"breed\":\"Domestic Medium Hair\",\"color\":\"Cream Tabby\"}\\n,{\"animal_id\":\"A843628\",\"datetime\":\"2021-10-04T18:56:00.000\",\"monthyear\":\"2021-10-04T18:56:00.000\",\"date_of_birth\":\"2021-09-13T00:00:00.000\",\"outcome_type\":\"Transfer\",\"outcome_subtype\":\"Partner\",\"animal_type\":\"Cat\",\"sex_upon_outcome\":\"Intact Male\",\"age_upon_outcome\":\"3 weeks\",\"breed\":\"Domestic Medium Hair\",\"color\":\"Orange Tabby\"}\\n,{\"animal_id\":\"A843626\",\"datetime\":\"2021-10-04T18:55:00.000\",\"monthyear\":\"2021-10-04T18:55:00.000\",\"date_of_birth\":\"2021-09-13T00:00:00.000\",\"outcome_type\":\"Transfer\",\"outcome_subtype\":\"Partner\",\"animal_type\":\"Cat\",\"sex_upon_outcome\":\"Intact Male\",\"age_upon_outcome\":\"3 weeks\",\"breed\":\"Domestic Medium Hair\",\"color\":\"Brown Tabby\"}\\n,{\"animal_id\":\"A843484\",\"name\":\"A843484\",\"datetime\":\"2021-10-04T18:55:00.000\",\"monthyear\":\"2021-10-04T18:55:00.000\",\"date_of_birth\":\"2021-08-20T00:00:00.000\",\"outcome_type\":\"Transfer\",\"outcome_subtype\":\"Partner\",\"animal_type\":\"Cat\",\"sex_upon_outcome\":\"Intact Female\",\"age_upon_outcome\":\"1 month\",\"breed\":\"Domestic Shorthair Mix\",\"color\":\"Orange Tabby/White\"}\\n,{\"animal_id\":\"A767759\",\"name\":\"Rodeo\",\"datetime\":\"2021-10-04T18:43:00.000\",\"monthyear\":\"2021-10-04T18:43:00.000\",\"date_of_birth\":\"2016-03-06T00:00:00.000\",\"outcome_type\":\"Return to Owner\",\"animal_type\":\"Dog\",\"sex_upon_outcome\":\"Neutered Male\",\"age_upon_outcome\":\"5 years\",\"breed\":\"Labrador Retriever Mix\",\"color\":\"Black\"}\\n,{\"animal_id\":\"A829140\",\"name\":\"*Twix\",\"datetime\":\"2021-10-04T18:35:00.000\",\"monthyear\":\"2021-10-04T18:35:00.000\",\"date_of_birth\":\"2020-11-26T00:00:00.000\",\"outcome_type\":\"Adoption\",\"animal_type\":\"Dog\",\"sex_upon_outcome\":\"Neutered Male\",\"age_upon_outcome\":\"10 months\",\"breed\":\"Pit Bull Mix\",\"color\":\"Brown Brindle/White\"}\\n,{\"animal_id\":\"A840949\",\"name\":\"Littlefoot\",\"datetime\":\"2021-10-04T18:25:00.000\",\"monthyear\":\"2021-10-04T18:25:00.000\",\"date_of_birth\":\"2021-07-26T00:00:00.000\",\"outcome_type\":\"Adoption\",\"animal_type\":\"Cat\",\"sex_upon_outcome\":\"Spayed Female\",\"age_upon_outcome\":\"2 months\",\"breed\":\"Domestic Shorthair Mix\",\"color\":\"Brown Tabby\"}\\n,{\"animal_id\":\"A843181\",\"name\":\"A843181\",\"datetime\":\"2021-10-04T18:25:00.000\",\"monthyear\":\"2021-10-04T18:25:00.000\",\"date_of_birth\":\"2021-06-27T00:00:00.000\",\"outcome_type\":\"Adoption\",\"animal_type\":\"Cat\",\"sex_upon_outcome\":\"Neutered Male\",\"age_upon_outcome\":\"3 months\",\"breed\":\"Domestic Shorthair\",\"color\":\"Black\"}\\n,{\"animal_id\":\"A843324\",\"name\":\"A843324\",\"datetime\":\"2021-10-04T18:14:00.000\",\"monthyear\":\"2021-10-04T18:14:00.000\",\"date_of_birth\":\"2021-07-16T00:00:00.000\",\"outcome_type\":\"Adoption\",\"animal_type\":\"Dog\",\"sex_upon_outcome\":\"Spayed Female\",\"age_upon_outcome\":\"2 months\",\"breed\":\"Chihuahua Shorthair Mix\",\"color\":\"Black/White\"}\\n,{\"animal_id\":\"A843618\",\"name\":\"Godzilla\",\"datetime\":\"2021-10-04T18:10:00.000\",\"monthyear\":\"2021-10-04T18:10:00.000\",\"date_of_birth\":\"2021-08-04T00:00:00.000\",\"outcome_type\":\"Adoption\",\"animal_type\":\"Other\",\"sex_upon_outcome\":\"Intact Male\",\"age_upon_outcome\":\"1 month\",\"breed\":\"Guinea Pig\",\"color\":\"Black\"}\\n,{\"animal_id\":\"A843101\",\"datetime\":\"2021-10-04T18:08:00.000\",\"monthyear\":\"2021-10-04T18:08:00.000\",\"date_of_birth\":\"2021-01-27T00:00:00.000\",\"outcome_type\":\"Adoption\",\"animal_type\":\"Dog\",\"sex_upon_outcome\":\"Spayed Female\",\"age_upon_outcome\":\"8 months\",\"breed\":\"Chihuahua Shorthair\",\"color\":\"Black/Tan\"}\\n,{\"animal_id\":\"A843616\",\"name\":\"Woods Jr\",\"datetime\":\"2021-10-04T18:07:00.000\",\"monthyear\":\"2021-10-04T18:07:00.000\",\"date_of_birth\":\"2021-07-04T00:00:00.000\",\"outcome_type\":\"Adoption\",\"animal_type\":\"Other\",\"sex_upon_outcome\":\"Intact Male\",\"age_upon_outcome\":\"3 months\",\"breed\":\"Guinea Pig\",\"color\":\"Black/Orange\"}\\n,{\"animal_id\":\"A842893\",\"name\":\"A842893\",\"datetime\":\"2021-10-04T18:00:00.000\",\"monthyear\":\"2021-10-04T18:00:00.000\",\"date_of_birth\":\"2021-03-22T00:00:00.000\",\"outcome_type\":\"Adoption\",\"animal_type\":\"Cat\",\"sex_upon_outcome\":\"Spayed Female\",\"age_upon_outcome\":\"6 months\",\"breed\":\"Domestic Shorthair\",\"color\":\"Black\"}\\n,{\"animal_id\":\"A840586\",\"name\":\"*Cerulean\",\"datetime\":\"2021-10-04T18:00:00.000\",\"monthyear\":\"2021-10-04T18:00:00.000\",\"date_of_birth\":\"2021-07-10T00:00:00.000\",\"outcome_type\":\"Adoption\",\"animal_type\":\"Cat\",\"sex_upon_outcome\":\"Neutered Male\",\"age_upon_outcome\":\"2 months\",\"breed\":\"Domestic Medium Hair\",\"color\":\"Blue Tabby/White\"}\\n,{\"animal_id\":\"A839417\",\"name\":\"*Fritz\",\"datetime\":\"2021-10-04T17:55:00.000\",\"monthyear\":\"2021-10-04T17:55:00.000\",\"date_of_birth\":\"2019-07-21T00:00:00.000\",\"outcome_type\":\"Adoption\",\"animal_type\":\"Dog\",\"sex_upon_outcome\":\"Neutered Male\",\"age_upon_outcome\":\"2 years\",\"breed\":\"Rottweiler Mix\",\"color\":\"Black/Brown\"}\\n,{\"animal_id\":\"A843651\",\"datetime\":\"2021-10-04T17:47:00.000\",\"monthyear\":\"2021-10-04T17:47:00.000\",\"date_of_birth\":\"2021-09-20T00:00:00.000\",\"outcome_type\":\"Transfer\",\"outcome_subtype\":\"Partner\",\"animal_type\":\"Cat\",\"sex_upon_outcome\":\"Intact Female\",\"age_upon_outcome\":\"2 weeks\",\"breed\":\"Domestic Shorthair\",\"color\":\"Brown Tabby\"}\\n,{\"animal_id\":\"A842051\",\"name\":\"*Ethan\",\"datetime\":\"2021-10-04T17:37:00.000\",\"monthyear\":\"2021-10-04T17:37:00.000\",\"date_of_birth\":\"2021-08-02T00:00:00.000\",\"outcome_type\":\"Adoption\",\"animal_type\":\"Cat\",\"sex_upon_outcome\":\"Neutered Male\",\"age_upon_outcome\":\"2 months\",\"breed\":\"Domestic Shorthair Mix\",\"color\":\"Orange Tabby/White\"}\\n,{\"animal_id\":\"A843227\",\"name\":\"Shadow\",\"datetime\":\"2021-10-04T17:28:00.000\",\"monthyear\":\"2021-10-04T17:28:00.000\",\"date_of_birth\":\"2020-09-28T00:00:00.000\",\"outcome_type\":\"Adoption\",\"animal_type\":\"Dog\",\"sex_upon_outcome\":\"Spayed Female\",\"age_upon_outcome\":\"1 year\",\"breed\":\"American Pit Bull Terrier\",\"color\":\"Black\"}\\n,{\"animal_id\":\"A843186\",\"name\":\"*Gravy\",\"datetime\":\"2021-10-04T17:27:00.000\",\"monthyear\":\"2021-10-04T17:27:00.000\",\"date_of_birth\":\"2021-08-02T00:00:00.000\",\"outcome_type\":\"Adoption\",\"animal_type\":\"Cat\",\"sex_upon_outcome\":\"Neutered Male\",\"age_upon_outcome\":\"2 months\",\"breed\":\"Domestic Shorthair\",\"color\":\"Brown Tabby\"}\\n,{\"animal_id\":\"A843185\",\"name\":\"*Biscuits\",\"datetime\":\"2021-10-04T17:27:00.000\",\"monthyear\":\"2021-10-04T17:27:00.000\",\"date_of_birth\":\"2021-08-02T00:00:00.000\",\"outcome_type\":\"Adoption\",\"animal_type\":\"Cat\",\"sex_upon_outcome\":\"Neutered Male\",\"age_upon_outcome\":\"2 months\",\"breed\":\"Domestic Shorthair\",\"color\":\"Black\"}\\n,{\"animal_id\":\"A843110\",\"name\":\"A843110\",\"datetime\":\"2021-10-04T17:27:00.000\",\"monthyear\":\"2021-10-04T17:27:00.000\",\"date_of_birth\":\"2019-09-27T00:00:00.000\",\"outcome_type\":\"Adoption\",\"animal_type\":\"Dog\",\"sex_upon_outcome\":\"Neutered Male\",\"age_upon_outcome\":\"2 years\",\"breed\":\"Border Terrier/Dachshund\",\"color\":\"Black\"}\\n,{\"animal_id\":\"A843553\",\"datetime\":\"2021-10-04T17:23:00.000\",\"monthyear\":\"2021-10-04T17:23:00.000\",\"date_of_birth\":\"2019-10-03T00:00:00.000\",\"outcome_type\":\"Return to Owner\",\"animal_type\":\"Dog\",\"sex_upon_outcome\":\"Intact Male\",\"age_upon_outcome\":\"2 years\",\"breed\":\"Belgian Malinois\",\"color\":\"Brown/Black\"}\\n,{\"animal_id\":\"A843615\",\"name\":\"A843615\",\"datetime\":\"2021-10-04T17:17:00.000\",\"monthyear\":\"2021-10-04T17:17:00.000\",\"date_of_birth\":\"2021-10-03T00:00:00.000\",\"outcome_type\":\"Euthanasia\",\"outcome_subtype\":\"Suffering\",\"animal_type\":\"Other\",\"sex_upon_outcome\":\"Unknown\",\"age_upon_outcome\":\"1 day\",\"breed\":\"Guinea Pig\",\"color\":\"White/Tricolor\"}\\n,{\"animal_id\":\"A843469\",\"name\":\"Lucifer\",\"datetime\":\"2021-10-04T17:16:00.000\",\"monthyear\":\"2021-10-04T17:16:00.000\",\"date_of_birth\":\"2021-03-01T00:00:00.000\",\"outcome_type\":\"Adoption\",\"animal_type\":\"Cat\",\"sex_upon_outcome\":\"Neutered Male\",\"age_upon_outcome\":\"7 months\",\"breed\":\"Domestic Longhair\",\"color\":\"Black\"}\\n,{\"animal_id\":\"A843524\",\"name\":\"Rizzo\",\"datetime\":\"2021-10-04T17:10:00.000\",\"monthyear\":\"2021-10-04T17:10:00.000\",\"date_of_birth\":\"2019-05-02T00:00:00.000\",\"outcome_type\":\"Adoption\",\"animal_type\":\"Dog\",\"sex_upon_outcome\":\"Neutered Male\",\"age_upon_outcome\":\"2 years\",\"breed\":\"Miniature Poodle/Maltese\",\"color\":\"White\"}\\n,{\"animal_id\":\"A843329\",\"name\":\"A843329\",\"datetime\":\"2021-10-04T17:03:00.000\",\"monthyear\":\"2021-10-04T17:03:00.000\",\"date_of_birth\":\"2021-06-29T00:00:00.000\",\"outcome_type\":\"Adoption\",\"animal_type\":\"Dog\",\"sex_upon_outcome\":\"Spayed Female\",\"age_upon_outcome\":\"3 months\",\"breed\":\"Chihuahua Shorthair Mix\",\"color\":\"White/Tan\"}\\n,{\"animal_id\":\"A843438\",\"name\":\"King\",\"datetime\":\"2021-10-04T16:59:00.000\",\"monthyear\":\"2021-10-04T16:59:00.000\",\"date_of_birth\":\"2021-05-30T00:00:00.000\",\"outcome_type\":\"Adoption\",\"animal_type\":\"Dog\",\"sex_upon_outcome\":\"Neutered Male\",\"age_upon_outcome\":\"4 months\",\"breed\":\"Labrador Retriever\",\"color\":\"Black\"}\\n,{\"animal_id\":\"A843322\",\"name\":\"A843322\",\"datetime\":\"2021-10-04T16:57:00.000\",\"monthyear\":\"2021-10-04T16:57:00.000\",\"date_of_birth\":\"2021-06-29T00:00:00.000\",\"outcome_type\":\"Adoption\",\"animal_type\":\"Dog\",\"sex_upon_outcome\":\"Neutered Male\",\"age_upon_outcome\":\"3 months\",\"breed\":\"Chihuahua Shorthair Mix\",\"color\":\"Blue/White\"}\\n,{\"animal_id\":\"A842895\",\"name\":\"A842895\",\"datetime\":\"2021-10-04T16:52:00.000\",\"monthyear\":\"2021-10-04T16:52:00.000\",\"date_of_birth\":\"2020-12-22T00:00:00.000\",\"outcome_type\":\"Adoption\",\"animal_type\":\"Cat\",\"sex_upon_outcome\":\"Spayed Female\",\"age_upon_outcome\":\"9 months\",\"breed\":\"Domestic Shorthair\",\"color\":\"Torbie\"}\\n,{\"animal_id\":\"A843049\",\"name\":\"A843049\",\"datetime\":\"2021-10-04T16:46:00.000\",\"monthyear\":\"2021-10-04T16:46:00.000\",\"date_of_birth\":\"2021-05-01T00:00:00.000\",\"outcome_type\":\"Adoption\",\"animal_type\":\"Cat\",\"sex_upon_outcome\":\"Spayed Female\",\"age_upon_outcome\":\"5 months\",\"breed\":\"Domestic Shorthair\",\"color\":\"Tortie\"}\\n,{\"animal_id\":\"A843048\",\"name\":\"A843048\",\"datetime\":\"2021-10-04T16:45:00.000\",\"monthyear\":\"2021-10-04T16:45:00.000\",\"date_of_birth\":\"2021-05-10T00:00:00.000\",\"outcome_type\":\"Adoption\",\"animal_type\":\"Cat\",\"sex_upon_outcome\":\"Spayed Female\",\"age_upon_outcome\":\"4 months\",\"breed\":\"Domestic Shorthair\",\"color\":\"Tortie\"}\\n,{\"animal_id\":\"A843229\",\"name\":\"*Peanut\",\"datetime\":\"2021-10-04T16:41:00.000\",\"monthyear\":\"2021-10-04T16:41:00.000\",\"date_of_birth\":\"2018-09-28T00:00:00.000\",\"outcome_type\":\"Adoption\",\"animal_type\":\"Dog\",\"sex_upon_outcome\":\"Neutered Male\",\"age_upon_outcome\":\"3 years\",\"breed\":\"Basset Hound/Cairn Terrier\",\"color\":\"White/Tan\"}\\n,{\"animal_id\":\"A843320\",\"name\":\"A843320\",\"datetime\":\"2021-10-04T16:39:00.000\",\"monthyear\":\"2021-10-04T16:39:00.000\",\"date_of_birth\":\"2021-06-29T00:00:00.000\",\"outcome_type\":\"Adoption\",\"animal_type\":\"Dog\",\"sex_upon_outcome\":\"Neutered Male\",\"age_upon_outcome\":\"3 months\",\"breed\":\"Chihuahua Shorthair Mix\",\"color\":\"Blue/White\"}\\n,{\"animal_id\":\"A843541\",\"name\":\"843541\",\"datetime\":\"2021-10-04T16:30:00.000\",\"monthyear\":\"2021-10-04T16:30:00.000\",\"date_of_birth\":\"2021-08-22T00:00:00.000\",\"outcome_type\":\"Return to Owner\",\"animal_type\":\"Dog\",\"sex_upon_outcome\":\"Intact Female\",\"age_upon_outcome\":\"1 month\",\"breed\":\"Chihuahua Shorthair\",\"color\":\"Tan\"}\\n,{\"animal_id\":\"A843350\",\"name\":\"A843350\",\"datetime\":\"2021-10-04T16:20:00.000\",\"monthyear\":\"2021-10-04T16:20:00.000\",\"date_of_birth\":\"2021-07-16T00:00:00.000\",\"outcome_type\":\"Adoption\",\"animal_type\":\"Dog\",\"sex_upon_outcome\":\"Spayed Female\",\"age_upon_outcome\":\"2 months\",\"breed\":\"Labrador Retriever Mix\",\"color\":\"Black/White\"}\\n,{\"animal_id\":\"A843471\",\"name\":\"Luna\",\"datetime\":\"2021-10-04T16:19:00.000\",\"monthyear\":\"2021-10-04T16:19:00.000\",\"date_of_birth\":\"2019-10-01T00:00:00.000\",\"outcome_type\":\"Adoption\",\"animal_type\":\"Cat\",\"sex_upon_outcome\":\"Spayed Female\",\"age_upon_outcome\":\"2 years\",\"breed\":\"Domestic Shorthair\",\"color\":\"Brown Tabby\"}\\n,{\"animal_id\":\"A843420\",\"name\":\"A843420\",\"datetime\":\"2021-10-04T16:10:00.000\",\"monthyear\":\"2021-10-04T16:10:00.000\",\"date_of_birth\":\"2021-04-30T00:00:00.000\",\"outcome_type\":\"Euthanasia\",\"outcome_subtype\":\"Medical\",\"animal_type\":\"Dog\",\"sex_upon_outcome\":\"Intact Female\",\"age_upon_outcome\":\"5 months\",\"breed\":\"Pit Bull\",\"color\":\"White/Brown\"}\\n,{\"animal_id\":\"A843321\",\"name\":\"A843321\",\"datetime\":\"2021-10-04T16:04:00.000\",\"monthyear\":\"2021-10-04T16:04:00.000\",\"date_of_birth\":\"2021-07-16T00:00:00.000\",\"outcome_type\":\"Adoption\",\"animal_type\":\"Dog\",\"sex_upon_outcome\":\"Spayed Female\",\"age_upon_outcome\":\"2 months\",\"breed\":\"Chihuahua Shorthair Mix\",\"color\":\"White/Black\"}\\n,{\"animal_id\":\"A698833\",\"name\":\"*Quiche\",\"datetime\":\"2021-10-04T16:00:00.000\",\"monthyear\":\"2021-10-04T16:00:00.000\",\"date_of_birth\":\"2014-11-18T00:00:00.000\",\"outcome_type\":\"Adoption\",\"animal_type\":\"Dog\",\"sex_upon_outcome\":\"Spayed Female\",\"age_upon_outcome\":\"6 years\",\"breed\":\"Pointer/Pit Bull\",\"color\":\"White/Chocolate\"}\\n,{\"animal_id\":\"A843381\",\"name\":\"A843381\",\"datetime\":\"2021-10-04T15:59:00.000\",\"monthyear\":\"2021-10-04T15:59:00.000\",\"date_of_birth\":\"2019-09-30T00:00:00.000\",\"outcome_type\":\"Return to Owner\",\"animal_type\":\"Dog\",\"sex_upon_outcome\":\"Intact Male\",\"age_upon_outcome\":\"2 years\",\"breed\":\"Chihuahua Shorthair\",\"color\":\"Tan/White\"}\\n,{\"animal_id\":\"A843382\",\"name\":\"A843382\",\"datetime\":\"2021-10-04T15:59:00.000\",\"monthyear\":\"2021-10-04T15:59:00.000\",\"date_of_birth\":\"2021-04-15T00:00:00.000\",\"outcome_type\":\"Return to Owner\",\"animal_type\":\"Dog\",\"sex_upon_outcome\":\"Intact Male\",\"age_upon_outcome\":\"5 months\",\"breed\":\"Chihuahua Shorthair\",\"color\":\"White/Tan\"}\\n,{\"animal_id\":\"A843379\",\"name\":\"A843379\",\"datetime\":\"2021-10-04T15:58:00.000\",\"monthyear\":\"2021-10-04T15:58:00.000\",\"date_of_birth\":\"2021-09-27T00:00:00.000\",\"outcome_type\":\"Return to Owner\",\"animal_type\":\"Dog\",\"sex_upon_outcome\":\"Unknown\",\"age_upon_outcome\":\"1 week\",\"breed\":\"Chihuahua Shorthair\",\"color\":\"Brown/Black\"}\\n,{\"animal_id\":\"A843380\",\"name\":\"A843380\",\"datetime\":\"2021-10-04T15:58:00.000\",\"monthyear\":\"2021-10-04T15:58:00.000\",\"date_of_birth\":\"2019-09-30T00:00:00.000\",\"outcome_type\":\"Return to Owner\",\"animal_type\":\"Dog\",\"sex_upon_outcome\":\"Intact Female\",\"age_upon_outcome\":\"2 years\",\"breed\":\"Chihuahua Shorthair\",\"color\":\"Tan/White\"}\\n,{\"animal_id\":\"A843378\",\"name\":\"A843378\",\"datetime\":\"2021-10-04T15:57:00.000\",\"monthyear\":\"2021-10-04T15:57:00.000\",\"date_of_birth\":\"2021-09-27T00:00:00.000\",\"outcome_type\":\"Return to Owner\",\"animal_type\":\"Dog\",\"sex_upon_outcome\":\"Unknown\",\"age_upon_outcome\":\"1 week\",\"breed\":\"Chihuahua Shorthair\",\"color\":\"White/Brown\"}\\n,{\"animal_id\":\"A843376\",\"name\":\"A843376\",\"datetime\":\"2021-10-04T15:56:00.000\",\"monthyear\":\"2021-10-04T15:56:00.000\",\"date_of_birth\":\"2021-09-27T00:00:00.000\",\"outcome_type\":\"Return to Owner\",\"animal_type\":\"Dog\",\"sex_upon_outcome\":\"Unknown\",\"age_upon_outcome\":\"1 week\",\"breed\":\"Chihuahua Shorthair\",\"color\":\"White/Brown\"}\\n,{\"animal_id\":\"A843377\",\"name\":\"A843377\",\"datetime\":\"2021-10-04T15:56:00.000\",\"monthyear\":\"2021-10-04T15:56:00.000\",\"date_of_birth\":\"2021-09-27T00:00:00.000\",\"outcome_type\":\"Return to Owner\",\"animal_type\":\"Dog\",\"sex_upon_outcome\":\"Unknown\",\"age_upon_outcome\":\"1 week\",\"breed\":\"Chihuahua Shorthair\",\"color\":\"White/Brown\"}\\n,{\"animal_id\":\"A842987\",\"name\":\"*Oikos\",\"datetime\":\"2021-10-04T15:54:00.000\",\"monthyear\":\"2021-10-04T15:54:00.000\",\"date_of_birth\":\"2021-08-16T00:00:00.000\",\"outcome_type\":\"Adoption\",\"animal_type\":\"Cat\",\"sex_upon_outcome\":\"Neutered Male\",\"age_upon_outcome\":\"1 month\",\"breed\":\"Domestic Shorthair Mix\",\"color\":\"Black\"}\\n,{\"animal_id\":\"A843404\",\"datetime\":\"2021-10-04T15:29:00.000\",\"monthyear\":\"2021-10-04T15:29:00.000\",\"date_of_birth\":\"2021-05-20T00:00:00.000\",\"outcome_type\":\"Transfer\",\"outcome_subtype\":\"Partner\",\"animal_type\":\"Dog\",\"sex_upon_outcome\":\"Intact Male\",\"age_upon_outcome\":\"4 months\",\"breed\":\"Shih Tzu Mix\",\"color\":\"Black/Brown\"}\\n,{\"animal_id\":\"A843570\",\"name\":\"Zena\",\"datetime\":\"2021-10-04T15:09:00.000\",\"monthyear\":\"2021-10-04T15:09:00.000\",\"date_of_birth\":\"2020-04-03T00:00:00.000\",\"outcome_type\":\"Return to Owner\",\"animal_type\":\"Dog\",\"sex_upon_outcome\":\"Intact Female\",\"age_upon_outcome\":\"1 year\",\"breed\":\"Staffordshire\",\"color\":\"Blue/White\"}\\n,{\"animal_id\":\"A841821\",\"name\":\"A841821\",\"datetime\":\"2021-10-04T15:00:00.000\",\"monthyear\":\"2021-10-04T15:00:00.000\",\"date_of_birth\":\"2016-09-28T00:00:00.000\",\"outcome_type\":\"Transfer\",\"outcome_subtype\":\"Barn\",\"animal_type\":\"Cat\",\"sex_upon_outcome\":\"Neutered Male\",\"age_upon_outcome\":\"5 years\",\"breed\":\"Domestic Shorthair Mix\",\"color\":\"White/Blue\"}\\n,{\"animal_id\":\"A841027\",\"name\":\"A841027\",\"datetime\":\"2021-10-04T15:00:00.000\",\"monthyear\":\"2021-10-04T15:00:00.000\",\"date_of_birth\":\"2021-08-02T00:00:00.000\",\"outcome_type\":\"Transfer\",\"outcome_subtype\":\"Partner\",\"animal_type\":\"Cat\",\"sex_upon_outcome\":\"Intact Male\",\"age_upon_outcome\":\"2 months\",\"breed\":\"Domestic Shorthair Mix\",\"color\":\"Cream Tabby/White\"}\\n,{\"animal_id\":\"A841029\",\"name\":\"A841029\",\"datetime\":\"2021-10-04T15:00:00.000\",\"monthyear\":\"2021-10-04T15:00:00.000\",\"date_of_birth\":\"2021-08-02T00:00:00.000\",\"outcome_type\":\"Transfer\",\"outcome_subtype\":\"Partner\",\"animal_type\":\"Cat\",\"sex_upon_outcome\":\"Intact Female\",\"age_upon_outcome\":\"2 months\",\"breed\":\"Domestic Shorthair Mix\",\"color\":\"Blue/White\"}\\n,{\"animal_id\":\"A841028\",\"name\":\"A841028\",\"datetime\":\"2021-10-04T15:00:00.000\",\"monthyear\":\"2021-10-04T15:00:00.000\",\"date_of_birth\":\"2021-08-02T00:00:00.000\",\"outcome_type\":\"Transfer\",\"outcome_subtype\":\"Partner\",\"animal_type\":\"Cat\",\"sex_upon_outcome\":\"Intact Male\",\"age_upon_outcome\":\"2 months\",\"breed\":\"Domestic Shorthair Mix\",\"color\":\"Cream Tabby\"}\\n,{\"animal_id\":\"A843601\",\"name\":\"121 Grams\",\"datetime\":\"2021-10-04T13:42:00.000\",\"monthyear\":\"2021-10-04T13:42:00.000\",\"date_of_birth\":\"2021-10-01T00:00:00.000\",\"outcome_type\":\"Transfer\",\"outcome_subtype\":\"Partner\",\"animal_type\":\"Cat\",\"sex_upon_outcome\":\"Intact Female\",\"age_upon_outcome\":\"3 days\",\"breed\":\"Domestic Shorthair\",\"color\":\"Blue Tabby\"}\\n,{\"animal_id\":\"A843600\",\"name\":\"126 Grams\",\"datetime\":\"2021-10-04T13:42:00.000\",\"monthyear\":\"2021-10-04T13:42:00.000\",\"date_of_birth\":\"2021-10-01T00:00:00.000\",\"outcome_type\":\"Transfer\",\"outcome_subtype\":\"Partner\",\"animal_type\":\"Cat\",\"sex_upon_outcome\":\"Intact Female\",\"age_upon_outcome\":\"3 days\",\"breed\":\"Domestic Shorthair\",\"color\":\"Blue Tabby\"}\\n,{\"animal_id\":\"A843598\",\"name\":\"125 Grams\",\"datetime\":\"2021-10-04T13:41:00.000\",\"monthyear\":\"2021-10-04T13:41:00.000\",\"date_of_birth\":\"2021-10-01T00:00:00.000\",\"outcome_type\":\"Transfer\",\"outcome_subtype\":\"Partner\",\"animal_type\":\"Cat\",\"sex_upon_outcome\":\"Intact Male\",\"age_upon_outcome\":\"3 days\",\"breed\":\"Domestic Shorthair\",\"color\":\"Blue Tabby\"}\\n,{\"animal_id\":\"A843220\",\"name\":\"Luna\",\"datetime\":\"2021-10-04T12:04:00.000\",\"monthyear\":\"2021-10-04T12:04:00.000\",\"date_of_birth\":\"2021-06-28T00:00:00.000\",\"outcome_type\":\"Transfer\",\"outcome_subtype\":\"Partner\",\"animal_type\":\"Dog\",\"sex_upon_outcome\":\"Intact Female\",\"age_upon_outcome\":\"3 months\",\"breed\":\"Doberman Pinsch\",\"color\":\"Black/Brown\"}\\n,{\"animal_id\":\"A843526\",\"name\":\"Mara\",\"datetime\":\"2021-10-04T11:49:00.000\",\"monthyear\":\"2021-10-04T11:49:00.000\",\"date_of_birth\":\"2021-06-02T00:00:00.000\",\"outcome_type\":\"Return to Owner\",\"animal_type\":\"Cat\",\"sex_upon_outcome\":\"Intact Female\",\"age_upon_outcome\":\"4 months\",\"breed\":\"Domestic Shorthair\",\"color\":\"Tortie\"}\\n,{\"animal_id\":\"A843555\",\"name\":\"Lilith\",\"datetime\":\"2021-10-04T11:44:00.000\",\"monthyear\":\"2021-10-04T11:44:00.000\",\"date_of_birth\":\"2019-10-03T00:00:00.000\",\"outcome_type\":\"Return to Owner\",\"animal_type\":\"Cat\",\"sex_upon_outcome\":\"Intact Female\",\"age_upon_outcome\":\"2 years\",\"breed\":\"Bengal\",\"color\":\"Brown Tabby\"}\\n,{\"animal_id\":\"A843372\",\"datetime\":\"2021-10-04T10:27:00.000\",\"monthyear\":\"2021-10-04T10:27:00.000\",\"date_of_birth\":\"2021-08-30T00:00:00.000\",\"outcome_type\":\"Euthanasia\",\"outcome_subtype\":\"Suffering\",\"animal_type\":\"Cat\",\"sex_upon_outcome\":\"Intact Male\",\"age_upon_outcome\":\"5 weeks\",\"breed\":\"Domestic Shorthair\",\"color\":\"Brown Tabby\"}\\n,{\"animal_id\":\"A839447\",\"name\":\"*Luka\",\"datetime\":\"2021-10-03T19:13:00.000\",\"monthyear\":\"2021-10-03T19:13:00.000\",\"date_of_birth\":\"2018-07-22T00:00:00.000\",\"outcome_type\":\"Adoption\",\"animal_type\":\"Dog\",\"sex_upon_outcome\":\"Spayed Female\",\"age_upon_outcome\":\"3 years\",\"breed\":\"Belgian Malinois/Labrador Retriever\",\"color\":\"Brown\"}\\n,{\"animal_id\":\"A842886\",\"name\":\"*Samhain\",\"datetime\":\"2021-10-03T18:19:00.000\",\"monthyear\":\"2021-10-03T18:19:00.000\",\"date_of_birth\":\"2019-09-22T00:00:00.000\",\"outcome_type\":\"Adoption\",\"animal_type\":\"Dog\",\"sex_upon_outcome\":\"Neutered Male\",\"age_upon_outcome\":\"2 years\",\"breed\":\"Pit Bull Mix\",\"color\":\"Chocolate/White\"}\\n,{\"animal_id\":\"A843551\",\"name\":\"Sydney\",\"datetime\":\"2021-10-03T17:57:00.000\",\"monthyear\":\"2021-10-03T17:57:00.000\",\"date_of_birth\":\"2013-10-03T00:00:00.000\",\"outcome_type\":\"Return to Owner\",\"animal_type\":\"Dog\",\"sex_upon_outcome\":\"Spayed Female\",\"age_upon_outcome\":\"8 years\",\"breed\":\"Labrador Retriever\",\"color\":\"White/White\"}\\n,{\"animal_id\":\"A790482\",\"name\":\"Blue\",\"datetime\":\"2021-10-03T17:18:00.000\",\"monthyear\":\"2021-10-03T17:18:00.000\",\"date_of_birth\":\"2017-03-11T00:00:00.000\",\"outcome_type\":\"Adoption\",\"animal_type\":\"Dog\",\"sex_upon_outcome\":\"Neutered Male\",\"age_upon_outcome\":\"4 years\",\"breed\":\"Pit Bull Mix\",\"color\":\"Blue/White\"}\\n,{\"animal_id\":\"A842533\",\"name\":\"Phoebe\",\"datetime\":\"2021-10-03T17:08:00.000\",\"monthyear\":\"2021-10-03T17:08:00.000\",\"date_of_birth\":\"2019-09-17T00:00:00.000\",\"outcome_type\":\"Adoption\",\"animal_type\":\"Dog\",\"sex_upon_outcome\":\"Spayed Female\",\"age_upon_outcome\":\"2 years\",\"breed\":\"Dachshund\",\"color\":\"Black\"}\\n,{\"animal_id\":\"A843105\",\"name\":\"Dina\",\"datetime\":\"2021-10-03T17:07:00.000\",\"monthyear\":\"2021-10-03T17:07:00.000\",\"date_of_birth\":\"2019-09-27T00:00:00.000\",\"outcome_type\":\"Rto-Adopt\",\"animal_type\":\"Dog\",\"sex_upon_outcome\":\"Spayed Female\",\"age_upon_outcome\":\"2 years\",\"breed\":\"German Shepherd\",\"color\":\"Black/Tan\"}\\n,{\"animal_id\":\"A843104\",\"name\":\"Rex\",\"datetime\":\"2021-10-03T17:06:00.000\",\"monthyear\":\"2021-10-03T17:06:00.000\",\"date_of_birth\":\"2019-09-27T00:00:00.000\",\"outcome_type\":\"Rto-Adopt\",\"animal_type\":\"Dog\",\"sex_upon_outcome\":\"Neutered Male\",\"age_upon_outcome\":\"2 years\",\"breed\":\"German Shepherd\",\"color\":\"Tan/Black\"}\\n,{\"animal_id\":\"A843559\",\"name\":\"94 G\",\"datetime\":\"2021-10-03T16:17:00.000\",\"monthyear\":\"2021-10-03T16:17:00.000\",\"date_of_birth\":\"2021-09-27T00:00:00.000\",\"outcome_type\":\"Transfer\",\"outcome_subtype\":\"Partner\",\"animal_type\":\"Cat\",\"sex_upon_outcome\":\"Intact Male\",\"age_upon_outcome\":\"6 days\",\"breed\":\"Domestic Shorthair\",\"color\":\"Cream Tabby\"}\\n,{\"animal_id\":\"A843155\",\"name\":\"Millie\",\"datetime\":\"2021-10-03T15:58:00.000\",\"monthyear\":\"2021-10-03T15:58:00.000\",\"date_of_birth\":\"2019-09-27T00:00:00.000\",\"outcome_type\":\"Adoption\",\"animal_type\":\"Dog\",\"sex_upon_outcome\":\"Spayed Female\",\"age_upon_outcome\":\"2 years\",\"breed\":\"Australian Cattle Dog Mix\",\"color\":\"Black/White\"}\\n,{\"animal_id\":\"A841333\",\"name\":\"Bogart\",\"datetime\":\"2021-10-03T15:11:00.000\",\"monthyear\":\"2021-10-03T15:11:00.000\",\"date_of_birth\":\"2020-01-26T00:00:00.000\",\"outcome_type\":\"Adoption\",\"animal_type\":\"Dog\",\"sex_upon_outcome\":\"Neutered Male\",\"age_upon_outcome\":\"1 year\",\"breed\":\"Pit Bull\",\"color\":\"Black/White\"}\\n,{\"animal_id\":\"A843432\",\"name\":\"*Phantom\",\"datetime\":\"2021-10-03T15:06:00.000\",\"monthyear\":\"2021-10-03T15:06:00.000\",\"date_of_birth\":\"2021-09-15T00:00:00.000\",\"outcome_type\":\"Adoption\",\"animal_type\":\"Other\",\"sex_upon_outcome\":\"Intact Female\",\"age_upon_outcome\":\"2 weeks\",\"breed\":\"Guinea Pig\",\"color\":\"White/Black\"}\\n,{\"animal_id\":\"A843430\",\"name\":\"*Omen\",\"datetime\":\"2021-10-03T15:05:00.000\",\"monthyear\":\"2021-10-03T15:05:00.000\",\"date_of_birth\":\"2021-09-15T00:00:00.000\",\"outcome_type\":\"Adoption\",\"animal_type\":\"Other\",\"sex_upon_outcome\":\"Intact Female\",\"age_upon_outcome\":\"2 weeks\",\"breed\":\"Guinea Pig\",\"color\":\"Tricolor\"}\\n,{\"animal_id\":\"A828102\",\"name\":\"Rosa\",\"datetime\":\"2021-10-03T13:58:00.000\",\"monthyear\":\"2021-10-03T13:58:00.000\",\"date_of_birth\":\"2019-01-07T00:00:00.000\",\"outcome_type\":\"Adoption\",\"animal_type\":\"Dog\",\"sex_upon_outcome\":\"Spayed Female\",\"age_upon_outcome\":\"2 years\",\"breed\":\"Pit Bull\",\"color\":\"Brown Brindle\"}\\n,{\"animal_id\":\"A842526\",\"name\":\"*Pete And Repeat\",\"datetime\":\"2021-10-03T13:47:00.000\",\"monthyear\":\"2021-10-03T13:47:00.000\",\"date_of_birth\":\"2021-03-17T00:00:00.000\",\"outcome_type\":\"Adoption\",\"animal_type\":\"Other\",\"sex_upon_outcome\":\"Intact Male\",\"age_upon_outcome\":\"6 months\",\"breed\":\"Guinea Pig\",\"color\":\"Tricolor/White\"}\\n,{\"animal_id\":\"A842527\",\"name\":\"*Repeat And Pete\",\"datetime\":\"2021-10-03T13:47:00.000\",\"monthyear\":\"2021-10-03T13:47:00.000\",\"date_of_birth\":\"2021-03-17T00:00:00.000\",\"outcome_type\":\"Adoption\",\"animal_type\":\"Other\",\"sex_upon_outcome\":\"Intact Male\",\"age_upon_outcome\":\"6 months\",\"breed\":\"Guinea Pig\",\"color\":\"White/Gray\"}\\n,{\"animal_id\":\"A843433\",\"name\":\"*Spider\",\"datetime\":\"2021-10-03T13:44:00.000\",\"monthyear\":\"2021-10-03T13:44:00.000\",\"date_of_birth\":\"2021-09-15T00:00:00.000\",\"outcome_type\":\"Adoption\",\"animal_type\":\"Other\",\"sex_upon_outcome\":\"Intact Male\",\"age_upon_outcome\":\"2 weeks\",\"breed\":\"Guinea Pig\",\"color\":\"Tan/Black\"}\\n,{\"animal_id\":\"A841751\",\"name\":\"*Bingo\",\"datetime\":\"2021-10-03T13:14:00.000\",\"monthyear\":\"2021-10-03T13:14:00.000\",\"date_of_birth\":\"2021-04-02T00:00:00.000\",\"outcome_type\":\"Transfer\",\"outcome_subtype\":\"Partner\",\"animal_type\":\"Dog\",\"sex_upon_outcome\":\"Neutered Male\",\"age_upon_outcome\":\"6 months\",\"breed\":\"Pit Bull/Labrador Retriever\",\"color\":\"Black/White\"}\\n,{\"animal_id\":\"A842863\",\"name\":\"Tuesday\",\"datetime\":\"2021-10-03T12:55:00.000\",\"monthyear\":\"2021-10-03T12:55:00.000\",\"date_of_birth\":\"2019-09-22T00:00:00.000\",\"outcome_type\":\"Adoption\",\"animal_type\":\"Dog\",\"sex_upon_outcome\":\"Spayed Female\",\"age_upon_outcome\":\"2 years\",\"breed\":\"Chihuahua Shorthair/Dachshund\",\"color\":\"Red\"}\\n,{\"animal_id\":\"A762359\",\"name\":\"Sushi\",\"datetime\":\"2021-10-03T12:37:00.000\",\"monthyear\":\"2021-10-03T12:37:00.000\",\"date_of_birth\":\"2017-07-19T00:00:00.000\",\"outcome_type\":\"Adoption\",\"animal_type\":\"Cat\",\"sex_upon_outcome\":\"Neutered Male\",\"age_upon_outcome\":\"4 years\",\"breed\":\"Domestic Shorthair Mix\",\"color\":\"Orange Tabby/White\"}\\n,{\"animal_id\":\"A842463\",\"name\":\"*Citrine\",\"datetime\":\"2021-10-03T12:07:00.000\",\"monthyear\":\"2021-10-03T12:07:00.000\",\"date_of_birth\":\"2021-08-05T00:00:00.000\",\"outcome_type\":\"Adoption\",\"animal_type\":\"Cat\",\"sex_upon_outcome\":\"Neutered Male\",\"age_upon_outcome\":\"1 month\",\"breed\":\"Domestic Shorthair Mix\",\"color\":\"Orange Tabby\"}\\n,{\"animal_id\":\"A843547\",\"datetime\":\"2021-10-03T11:49:00.000\",\"monthyear\":\"2021-10-03T11:49:00.000\",\"date_of_birth\":\"2019-10-03T00:00:00.000\",\"outcome_type\":\"Euthanasia\",\"outcome_subtype\":\"Rabies Risk\",\"animal_type\":\"Other\",\"sex_upon_outcome\":\"Unknown\",\"age_upon_outcome\":\"2 years\",\"breed\":\"Raccoon\",\"color\":\"Brown\"}\\n,{\"animal_id\":\"A843297\",\"datetime\":\"2021-10-03T08:46:00.000\",\"monthyear\":\"2021-10-03T08:46:00.000\",\"date_of_birth\":\"2021-08-22T00:00:00.000\",\"outcome_type\":\"Euthanasia\",\"outcome_subtype\":\"Suffering\",\"animal_type\":\"Cat\",\"sex_upon_outcome\":\"Unknown\",\"age_upon_outcome\":\"1 month\",\"breed\":\"Domestic Shorthair\",\"color\":\"Brown Tabby\"}\\n,{\"animal_id\":\"A843535\",\"name\":\"Fee Fee\",\"datetime\":\"2021-10-02T18:31:00.000\",\"monthyear\":\"2021-10-02T18:31:00.000\",\"date_of_birth\":\"2008-10-02T00:00:00.000\",\"outcome_type\":\"Euthanasia\",\"outcome_subtype\":\"Suffering\",\"animal_type\":\"Dog\",\"sex_upon_outcome\":\"Unknown\",\"age_upon_outcome\":\"13 years\",\"breed\":\"Miniature Poodle\",\"color\":\"White\"}\\n,{\"animal_id\":\"A843426\",\"name\":\"*Boo\",\"datetime\":\"2021-10-02T18:14:00.000\",\"monthyear\":\"2021-10-02T18:14:00.000\",\"date_of_birth\":\"2020-09-30T00:00:00.000\",\"outcome_type\":\"Adoption\",\"animal_type\":\"Other\",\"sex_upon_outcome\":\"Intact Male\",\"age_upon_outcome\":\"1 year\",\"breed\":\"Guinea Pig\",\"color\":\"Orange/Black\"}\\n,{\"animal_id\":\"A843425\",\"name\":\"*Pumpkin\",\"datetime\":\"2021-10-02T18:14:00.000\",\"monthyear\":\"2021-10-02T18:14:00.000\",\"date_of_birth\":\"2020-09-30T00:00:00.000\",\"outcome_type\":\"Adoption\",\"animal_type\":\"Other\",\"sex_upon_outcome\":\"Intact Male\",\"age_upon_outcome\":\"1 year\",\"breed\":\"Guinea Pig\",\"color\":\"Orange/Black\"}\\n,{\"animal_id\":\"A839707\",\"name\":\"Edith\",\"datetime\":\"2021-10-02T18:06:00.000\",\"monthyear\":\"2021-10-02T18:06:00.000\",\"date_of_birth\":\"2018-07-26T00:00:00.000\",\"outcome_type\":\"Adoption\",\"animal_type\":\"Dog\",\"sex_upon_outcome\":\"Spayed Female\",\"age_upon_outcome\":\"3 years\",\"breed\":\"Staffordshire Mix\",\"color\":\"Brown/White\"}\\n,{\"animal_id\":\"A843021\",\"name\":\"A843021\",\"datetime\":\"2021-10-02T17:26:00.000\",\"monthyear\":\"2021-10-02T17:26:00.000\",\"date_of_birth\":\"2018-09-25T00:00:00.000\",\"outcome_type\":\"Adoption\",\"animal_type\":\"Dog\",\"sex_upon_outcome\":\"Neutered Male\",\"age_upon_outcome\":\"3 years\",\"breed\":\"Chihuahua Shorthair\",\"color\":\"Tan\"}\\n,{\"animal_id\":\"A843454\",\"name\":\"Paul\",\"datetime\":\"2021-10-02T16:51:00.000\",\"monthyear\":\"2021-10-02T16:51:00.000\",\"date_of_birth\":\"2020-12-01T00:00:00.000\",\"outcome_type\":\"Return to Owner\",\"animal_type\":\"Dog\",\"sex_upon_outcome\":\"Intact Male\",\"age_upon_outcome\":\"10 months\",\"breed\":\"Pit Bull Mix\",\"color\":\"Chocolate/White\"}\\n,{\"animal_id\":\"A842999\",\"name\":\"Dawn Kitty\",\"datetime\":\"2021-10-02T16:50:00.000\",\"monthyear\":\"2021-10-02T16:50:00.000\",\"date_of_birth\":\"2019-09-24T00:00:00.000\",\"outcome_type\":\"Adoption\",\"animal_type\":\"Cat\",\"sex_upon_outcome\":\"Spayed Female\",\"age_upon_outcome\":\"2 years\",\"breed\":\"Domestic Shorthair\",\"color\":\"Black/White\"}\\n,{\"animal_id\":\"A843387\",\"name\":\"*Malfoy\",\"datetime\":\"2021-10-02T16:30:00.000\",\"monthyear\":\"2021-10-02T16:30:00.000\",\"date_of_birth\":\"2021-07-30T00:00:00.000\",\"outcome_type\":\"Adoption\",\"animal_type\":\"Dog\",\"sex_upon_outcome\":\"Neutered Male\",\"age_upon_outcome\":\"2 months\",\"breed\":\"Labrador Retriever Mix\",\"color\":\"White\"}\\n,{\"animal_id\":\"A843206\",\"name\":\"A843206\",\"datetime\":\"2021-10-02T16:10:00.000\",\"monthyear\":\"2021-10-02T16:10:00.000\",\"date_of_birth\":\"2011-09-28T00:00:00.000\",\"outcome_type\":\"Euthanasia\",\"outcome_subtype\":\"Medical\",\"animal_type\":\"Cat\",\"sex_upon_outcome\":\"Neutered Male\",\"age_upon_outcome\":\"10 years\",\"breed\":\"Domestic Shorthair\",\"color\":\"Brown Tabby\"}\\n,{\"animal_id\":\"A843401\",\"name\":\"Pupalux\",\"datetime\":\"2021-10-02T15:26:00.000\",\"monthyear\":\"2021-10-02T15:26:00.000\",\"date_of_birth\":\"2019-09-30T00:00:00.000\",\"outcome_type\":\"Return to Owner\",\"animal_type\":\"Dog\",\"sex_upon_outcome\":\"Intact Male\",\"age_upon_outcome\":\"2 years\",\"breed\":\"Australian Cattle Dog\",\"color\":\"White/Brown\"}\\n,{\"animal_id\":\"A843518\",\"name\":\"300 Grams\",\"datetime\":\"2021-10-02T15:00:00.000\",\"monthyear\":\"2021-10-02T15:00:00.000\",\"date_of_birth\":\"2021-09-17T00:00:00.000\",\"outcome_type\":\"Transfer\",\"outcome_subtype\":\"Partner\",\"animal_type\":\"Cat\",\"sex_upon_outcome\":\"Intact Male\",\"age_upon_outcome\":\"2 weeks\",\"breed\":\"Domestic Shorthair\",\"color\":\"Black/White\"}\\n,{\"animal_id\":\"A843163\",\"name\":\"*Asuka\",\"datetime\":\"2021-10-02T14:58:00.000\",\"monthyear\":\"2021-10-02T14:58:00.000\",\"date_of_birth\":\"2018-09-27T00:00:00.000\",\"outcome_type\":\"Adoption\",\"animal_type\":\"Cat\",\"sex_upon_outcome\":\"Spayed Female\",\"age_upon_outcome\":\"3 years\",\"breed\":\"Domestic Shorthair Mix\",\"color\":\"Blue Tabby/White\"}\\n,{\"animal_id\":\"A843386\",\"name\":\"*Neville\",\"datetime\":\"2021-10-02T14:12:00.000\",\"monthyear\":\"2021-10-02T14:12:00.000\",\"date_of_birth\":\"2021-07-30T00:00:00.000\",\"outcome_type\":\"Adoption\",\"animal_type\":\"Dog\",\"sex_upon_outcome\":\"Neutered Male\",\"age_upon_outcome\":\"2 months\",\"breed\":\"Labrador Retriever Mix\",\"color\":\"White\"}\\n,{\"animal_id\":\"A841772\",\"name\":\"Zeus\",\"datetime\":\"2021-10-02T13:44:00.000\",\"monthyear\":\"2021-10-02T13:44:00.000\",\"date_of_birth\":\"2019-04-02T00:00:00.000\",\"outcome_type\":\"Adoption\",\"animal_type\":\"Dog\",\"sex_upon_outcome\":\"Neutered Male\",\"age_upon_outcome\":\"2 years\",\"breed\":\"Pit Bull\",\"color\":\"Tan/White\"}\\n,{\"animal_id\":\"A833747\",\"name\":\"*Jamie\",\"datetime\":\"2021-10-02T13:34:00.000\",\"monthyear\":\"2021-10-02T13:34:00.000\",\"date_of_birth\":\"2021-03-05T00:00:00.000\",\"outcome_type\":\"Adoption\",\"outcome_subtype\":\"Foster\",\"animal_type\":\"Cat\",\"sex_upon_outcome\":\"Spayed Female\",\"age_upon_outcome\":\"6 months\",\"breed\":\"Domestic Shorthair\",\"color\":\"Brown Tabby/White\"}\\n,{\"animal_id\":\"A832183\",\"name\":\"*Trina\",\"datetime\":\"2021-10-02T13:25:00.000\",\"monthyear\":\"2021-10-02T13:25:00.000\",\"date_of_birth\":\"2012-04-08T00:00:00.000\",\"outcome_type\":\"Adoption\",\"outcome_subtype\":\"Foster\",\"animal_type\":\"Dog\",\"sex_upon_outcome\":\"Intact Female\",\"age_upon_outcome\":\"9 years\",\"breed\":\"Australian Shepherd Mix\",\"color\":\"White/Gray\"}\\n,{\"animal_id\":\"A840704\",\"name\":\"*Wasabi\",\"datetime\":\"2021-10-02T12:56:00.000\",\"monthyear\":\"2021-10-02T12:56:00.000\",\"date_of_birth\":\"2021-07-12T00:00:00.000\",\"outcome_type\":\"Adoption\",\"outcome_subtype\":\"Foster\",\"animal_type\":\"Cat\",\"sex_upon_outcome\":\"Neutered Male\",\"age_upon_outcome\":\"2 months\",\"breed\":\"Domestic Shorthair\",\"color\":\"Brown Tabby\"}\\n,{\"animal_id\":\"A839401\",\"name\":\"A839401\",\"datetime\":\"2021-10-02T12:54:00.000\",\"monthyear\":\"2021-10-02T12:54:00.000\",\"date_of_birth\":\"2021-06-29T00:00:00.000\",\"outcome_type\":\"Adoption\",\"outcome_subtype\":\"Foster\",\"animal_type\":\"Cat\",\"sex_upon_outcome\":\"Spayed Female\",\"age_upon_outcome\":\"3 months\",\"breed\":\"Siamese\",\"color\":\"White/Blue Tabby\"}\\n,{\"animal_id\":\"A842888\",\"name\":\"*Shadow\",\"datetime\":\"2021-10-02T12:51:00.000\",\"monthyear\":\"2021-10-02T12:51:00.000\",\"date_of_birth\":\"2021-08-07T00:00:00.000\",\"outcome_type\":\"Adoption\",\"animal_type\":\"Cat\",\"sex_upon_outcome\":\"Neutered Male\",\"age_upon_outcome\":\"1 month\",\"breed\":\"Domestic Shorthair\",\"color\":\"Blue Tabby\"}\\n,{\"animal_id\":\"A839403\",\"name\":\"A839403\",\"datetime\":\"2021-10-02T12:51:00.000\",\"monthyear\":\"2021-10-02T12:51:00.000\",\"date_of_birth\":\"2021-06-29T00:00:00.000\",\"outcome_type\":\"Adoption\",\"outcome_subtype\":\"Foster\",\"animal_type\":\"Cat\",\"sex_upon_outcome\":\"Spayed Female\",\"age_upon_outcome\":\"3 months\",\"breed\":\"Snowshoe Mix\",\"color\":\"Lynx Point\"}\\n,{\"animal_id\":\"A842465\",\"name\":\"*Peridot\",\"datetime\":\"2021-10-02T12:51:00.000\",\"monthyear\":\"2021-10-02T12:51:00.000\",\"date_of_birth\":\"2021-08-05T00:00:00.000\",\"outcome_type\":\"Adoption\",\"animal_type\":\"Cat\",\"sex_upon_outcome\":\"Neutered Male\",\"age_upon_outcome\":\"1 month\",\"breed\":\"Domestic Shorthair Mix\",\"color\":\"Orange Tabby\"}\\n,{\"animal_id\":\"A836280\",\"name\":\"*Petunia\",\"datetime\":\"2021-10-02T12:49:00.000\",\"monthyear\":\"2021-10-02T12:49:00.000\",\"date_of_birth\":\"2021-05-03T00:00:00.000\",\"outcome_type\":\"Adoption\",\"outcome_subtype\":\"Foster\",\"animal_type\":\"Cat\",\"sex_upon_outcome\":\"Spayed Female\",\"age_upon_outcome\":\"4 months\",\"breed\":\"Domestic Shorthair\",\"color\":\"Blue\"}\\n,{\"animal_id\":\"A839860\",\"name\":\"Spooky\",\"datetime\":\"2021-10-02T12:47:00.000\",\"monthyear\":\"2021-10-02T12:47:00.000\",\"date_of_birth\":\"2011-07-28T00:00:00.000\",\"outcome_type\":\"Adoption\",\"outcome_subtype\":\"Foster\",\"animal_type\":\"Cat\",\"sex_upon_outcome\":\"Neutered Male\",\"age_upon_outcome\":\"10 years\",\"breed\":\"Domestic Shorthair\",\"color\":\"Black\"}\\n,{\"animal_id\":\"A834854\",\"name\":\"*Babka\",\"datetime\":\"2021-10-02T12:45:00.000\",\"monthyear\":\"2021-10-02T12:45:00.000\",\"date_of_birth\":\"2021-03-28T00:00:00.000\",\"outcome_type\":\"Adoption\",\"outcome_subtype\":\"Foster\",\"animal_type\":\"Cat\",\"sex_upon_outcome\":\"Neutered Male\",\"age_upon_outcome\":\"6 months\",\"breed\":\"Domestic Shorthair\",\"color\":\"Blue Tabby/White\"}\\n,{\"animal_id\":\"A842464\",\"name\":\"*Tourmaline\",\"datetime\":\"2021-10-02T12:43:00.000\",\"monthyear\":\"2021-10-02T12:43:00.000\",\"date_of_birth\":\"2021-08-05T00:00:00.000\",\"outcome_type\":\"Adoption\",\"animal_type\":\"Cat\",\"sex_upon_outcome\":\"Neutered Male\",\"age_upon_outcome\":\"1 month\",\"breed\":\"Domestic Shorthair Mix\",\"color\":\"Orange Tabby\"}\\n,{\"animal_id\":\"A837389\",\"name\":\"*Willy\",\"datetime\":\"2021-10-02T12:42:00.000\",\"monthyear\":\"2021-10-02T12:42:00.000\",\"date_of_birth\":\"2021-05-16T00:00:00.000\",\"outcome_type\":\"Adoption\",\"outcome_subtype\":\"Foster\",\"animal_type\":\"Cat\",\"sex_upon_outcome\":\"Neutered Male\",\"age_upon_outcome\":\"4 months\",\"breed\":\"Domestic Shorthair\",\"color\":\"Orange Tabby\"}\\n,{\"animal_id\":\"A836383\",\"name\":\"*James Baldwin\",\"datetime\":\"2021-10-02T12:40:00.000\",\"monthyear\":\"2021-10-02T12:40:00.000\",\"date_of_birth\":\"2021-04-28T00:00:00.000\",\"outcome_type\":\"Adoption\",\"outcome_subtype\":\"Foster\",\"animal_type\":\"Cat\",\"sex_upon_outcome\":\"Neutered Male\",\"age_upon_outcome\":\"5 months\",\"breed\":\"Domestic Shorthair\",\"color\":\"Black/White\"}\\n,{\"animal_id\":\"A842915\",\"name\":\"A842915\",\"datetime\":\"2021-10-02T12:39:00.000\",\"monthyear\":\"2021-10-02T12:39:00.000\",\"date_of_birth\":\"2021-07-01T00:00:00.000\",\"outcome_type\":\"Adoption\",\"animal_type\":\"Cat\",\"sex_upon_outcome\":\"Neutered Male\",\"age_upon_outcome\":\"3 months\",\"breed\":\"Domestic Shorthair Mix\",\"color\":\"Brown Tabby\"}\\n,{\"animal_id\":\"A829290\",\"name\":\"*Raddix\",\"datetime\":\"2021-10-02T12:36:00.000\",\"monthyear\":\"2021-10-02T12:36:00.000\",\"date_of_birth\":\"2014-03-04T00:00:00.000\",\"outcome_type\":\"Adoption\",\"outcome_subtype\":\"Foster\",\"animal_type\":\"Dog\",\"sex_upon_outcome\":\"Neutered Male\",\"age_upon_outcome\":\"7 years\",\"breed\":\"Labrador Retriever/German Shepherd\",\"color\":\"Red\"}\\n,{\"animal_id\":\"A842868\",\"name\":\"Max\",\"datetime\":\"2021-10-02T12:35:00.000\",\"monthyear\":\"2021-10-02T12:35:00.000\",\"date_of_birth\":\"2019-09-22T00:00:00.000\",\"outcome_type\":\"Adoption\",\"animal_type\":\"Dog\",\"sex_upon_outcome\":\"Neutered Male\",\"age_upon_outcome\":\"2 years\",\"breed\":\"Pug/Dachshund\",\"color\":\"Tan/Black\"}\\n,{\"animal_id\":\"A842841\",\"name\":\"A842841\",\"datetime\":\"2021-10-02T12:35:00.000\",\"monthyear\":\"2021-10-02T12:35:00.000\",\"date_of_birth\":\"2021-07-04T00:00:00.000\",\"outcome_type\":\"Adoption\",\"animal_type\":\"Cat\",\"sex_upon_outcome\":\"Spayed Female\",\"age_upon_outcome\":\"2 months\",\"breed\":\"Domestic Shorthair\",\"color\":\"Black\"}\\n,{\"animal_id\":\"A839318\",\"datetime\":\"2021-10-02T12:34:00.000\",\"monthyear\":\"2021-10-02T12:34:00.000\",\"date_of_birth\":\"2021-07-14T00:00:00.000\",\"outcome_type\":\"Adoption\",\"outcome_subtype\":\"Foster\",\"animal_type\":\"Cat\",\"sex_upon_outcome\":\"Neutered Male\",\"age_upon_outcome\":\"2 months\",\"breed\":\"Domestic Shorthair Mix\",\"color\":\"Black\"}\\n,{\"animal_id\":\"A843400\",\"name\":\"Sandy\",\"datetime\":\"2021-10-02T12:31:00.000\",\"monthyear\":\"2021-10-02T12:31:00.000\",\"date_of_birth\":\"2021-07-30T00:00:00.000\",\"outcome_type\":\"Adoption\",\"animal_type\":\"Cat\",\"sex_upon_outcome\":\"Neutered Male\",\"age_upon_outcome\":\"2 months\",\"breed\":\"Domestic Shorthair Mix\",\"color\":\"Brown Tabby\"}\\n,{\"animal_id\":\"A842346\",\"name\":\"*Tomato\",\"datetime\":\"2021-10-02T12:28:00.000\",\"monthyear\":\"2021-10-02T12:28:00.000\",\"date_of_birth\":\"2021-07-30T00:00:00.000\",\"outcome_type\":\"Adoption\",\"outcome_subtype\":\"Foster\",\"animal_type\":\"Dog\",\"sex_upon_outcome\":\"Spayed Female\",\"age_upon_outcome\":\"2 months\",\"breed\":\"Jack Russell Terrier/Boston Terrier\",\"color\":\"Brown/White\"}\\n,{\"animal_id\":\"A843398\",\"name\":\"Piper\",\"datetime\":\"2021-10-02T12:27:00.000\",\"monthyear\":\"2021-10-02T12:27:00.000\",\"date_of_birth\":\"2021-07-30T00:00:00.000\",\"outcome_type\":\"Adoption\",\"animal_type\":\"Cat\",\"sex_upon_outcome\":\"Neutered Male\",\"age_upon_outcome\":\"2 months\",\"breed\":\"Domestic Shorthair Mix\",\"color\":\"Black\"}\\n,{\"animal_id\":\"A841383\",\"datetime\":\"2021-10-02T12:25:00.000\",\"monthyear\":\"2021-10-02T12:25:00.000\",\"date_of_birth\":\"2021-07-26T00:00:00.000\",\"outcome_type\":\"Adoption\",\"outcome_subtype\":\"Foster\",\"animal_type\":\"Cat\",\"sex_upon_outcome\":\"Neutered Male\",\"age_upon_outcome\":\"2 months\",\"breed\":\"Domestic Shorthair\",\"color\":\"Black/White\"}\\n,{\"animal_id\":\"A838295\",\"name\":\"*Mia\",\"datetime\":\"2021-10-02T12:24:00.000\",\"monthyear\":\"2021-10-02T12:24:00.000\",\"date_of_birth\":\"2021-05-30T00:00:00.000\",\"outcome_type\":\"Adoption\",\"outcome_subtype\":\"Foster\",\"animal_type\":\"Cat\",\"sex_upon_outcome\":\"Spayed Female\",\"age_upon_outcome\":\"4 months\",\"breed\":\"Domestic Medium Hair\",\"color\":\"Brown Tabby\"}\\n,{\"animal_id\":\"A843138\",\"name\":\"*Crybaby\",\"datetime\":\"2021-10-02T12:05:00.000\",\"monthyear\":\"2021-10-02T12:05:00.000\",\"date_of_birth\":\"2019-09-27T00:00:00.000\",\"outcome_type\":\"Adoption\",\"animal_type\":\"Other\",\"sex_upon_outcome\":\"Intact Male\",\"age_upon_outcome\":\"2 years\",\"breed\":\"Rabbit Sh\",\"color\":\"White/Black\"}\\n,{\"animal_id\":\"A843399\",\"name\":\"Simba\",\"datetime\":\"2021-10-02T11:54:00.000\",\"monthyear\":\"2021-10-02T11:54:00.000\",\"date_of_birth\":\"2021-07-30T00:00:00.000\",\"outcome_type\":\"Adoption\",\"animal_type\":\"Cat\",\"sex_upon_outcome\":\"Neutered Male\",\"age_upon_outcome\":\"2 months\",\"breed\":\"Domestic Shorthair Mix\",\"color\":\"Black\"}\\n,{\"animal_id\":\"A832944\",\"name\":\"*Cheryl\",\"datetime\":\"2021-10-02T11:30:00.000\",\"monthyear\":\"2021-10-02T11:30:00.000\",\"date_of_birth\":\"2021-03-21T00:00:00.000\",\"outcome_type\":\"Adoption\",\"outcome_subtype\":\"Foster\",\"animal_type\":\"Cat\",\"sex_upon_outcome\":\"Spayed Female\",\"age_upon_outcome\":\"6 months\",\"breed\":\"Domestic Shorthair\",\"color\":\"Tortie\"}\\n,{\"animal_id\":\"A836176\",\"name\":\"*Jackson\",\"datetime\":\"2021-10-02T10:09:00.000\",\"monthyear\":\"2021-10-02T10:09:00.000\",\"date_of_birth\":\"2021-05-02T00:00:00.000\",\"outcome_type\":\"Adoption\",\"outcome_subtype\":\"Foster\",\"animal_type\":\"Cat\",\"sex_upon_outcome\":\"Intact Male\",\"age_upon_outcome\":\"5 months\",\"breed\":\"Domestic Medium Hair Mix\",\"color\":\"Black\"}\\n,{\"animal_id\":\"A843475\",\"name\":\"Jojo\",\"datetime\":\"2021-10-01T18:58:00.000\",\"monthyear\":\"2021-10-01T18:58:00.000\",\"date_of_birth\":\"2012-10-01T00:00:00.000\",\"outcome_type\":\"Return to Owner\",\"animal_type\":\"Dog\",\"sex_upon_outcome\":\"Intact Male\",\"age_upon_outcome\":\"9 years\",\"breed\":\"Shih Tzu\",\"color\":\"Brown/White\"}\\n,{\"animal_id\":\"A842981\",\"name\":\"A842981\",\"datetime\":\"2021-10-01T18:43:00.000\",\"monthyear\":\"2021-10-01T18:43:00.000\",\"date_of_birth\":\"2021-07-24T00:00:00.000\",\"outcome_type\":\"Adoption\",\"animal_type\":\"Cat\",\"sex_upon_outcome\":\"Spayed Female\",\"age_upon_outcome\":\"2 months\",\"breed\":\"Domestic Shorthair Mix\",\"color\":\"Blue Tabby\"}\\n,{\"animal_id\":\"A841773\",\"name\":\"*Otto\",\"datetime\":\"2021-10-01T18:20:00.000\",\"monthyear\":\"2021-10-01T18:20:00.000\",\"date_of_birth\":\"2020-09-02T00:00:00.000\",\"outcome_type\":\"Adoption\",\"animal_type\":\"Dog\",\"sex_upon_outcome\":\"Neutered Male\",\"age_upon_outcome\":\"1 year\",\"breed\":\"Chihuahua Shorthair Mix\",\"color\":\"Brown/Tan\"}\\n,{\"animal_id\":\"A843385\",\"name\":\"Bailey\",\"datetime\":\"2021-10-01T18:00:00.000\",\"monthyear\":\"2021-10-01T18:00:00.000\",\"date_of_birth\":\"2021-07-30T00:00:00.000\",\"outcome_type\":\"Adoption\",\"animal_type\":\"Dog\",\"sex_upon_outcome\":\"Spayed Female\",\"age_upon_outcome\":\"2 months\",\"breed\":\"Labrador Retriever Mix\",\"color\":\"Brown/White\"}\\n,{\"animal_id\":\"A843150\",\"datetime\":\"2021-10-01T17:48:00.000\",\"monthyear\":\"2021-10-01T17:48:00.000\",\"date_of_birth\":\"2021-03-27T00:00:00.000\",\"outcome_type\":\"Adoption\",\"animal_type\":\"Dog\",\"sex_upon_outcome\":\"Neutered Male\",\"age_upon_outcome\":\"6 months\",\"breed\":\"Labrador Retriever\",\"color\":\"Gray/White\"}\\n,{\"animal_id\":\"A843162\",\"name\":\"*Esme\",\"datetime\":\"2021-10-01T17:47:00.000\",\"monthyear\":\"2021-10-01T17:47:00.000\",\"date_of_birth\":\"2021-06-27T00:00:00.000\",\"outcome_type\":\"Adoption\",\"animal_type\":\"Cat\",\"sex_upon_outcome\":\"Spayed Female\",\"age_upon_outcome\":\"3 months\",\"breed\":\"Domestic Shorthair Mix\",\"color\":\"Blue\"}\\n,{\"animal_id\":\"A843026\",\"datetime\":\"2021-10-01T17:13:00.000\",\"monthyear\":\"2021-10-01T17:13:00.000\",\"date_of_birth\":\"2021-07-25T00:00:00.000\",\"outcome_type\":\"Adoption\",\"animal_type\":\"Cat\",\"sex_upon_outcome\":\"Spayed Female\",\"age_upon_outcome\":\"2 months\",\"breed\":\"Domestic Shorthair\",\"color\":\"Black\"}\\n,{\"animal_id\":\"A743117\",\"name\":\"Hunter\",\"datetime\":\"2021-10-01T17:10:00.000\",\"monthyear\":\"2021-10-01T17:10:00.000\",\"date_of_birth\":\"2016-08-04T00:00:00.000\",\"outcome_type\":\"Adoption\",\"animal_type\":\"Dog\",\"sex_upon_outcome\":\"Neutered Male\",\"age_upon_outcome\":\"5 years\",\"breed\":\"Australian Terrier Mix\",\"color\":\"Tan\"}\\n,{\"animal_id\":\"A843325\",\"name\":\"A843325\",\"datetime\":\"2021-10-01T16:53:00.000\",\"monthyear\":\"2021-10-01T16:53:00.000\",\"date_of_birth\":\"2021-07-16T00:00:00.000\",\"outcome_type\":\"Adoption\",\"animal_type\":\"Dog\",\"sex_upon_outcome\":\"Spayed Female\",\"age_upon_outcome\":\"2 months\",\"breed\":\"Chihuahua Shorthair Mix\",\"color\":\"White/Black\"}\\n,{\"animal_id\":\"A841661\",\"name\":\"Wirt\",\"datetime\":\"2021-10-01T16:50:00.000\",\"monthyear\":\"2021-10-01T16:50:00.000\",\"date_of_birth\":\"2021-06-16T00:00:00.000\",\"outcome_type\":\"Adoption\",\"animal_type\":\"Cat\",\"sex_upon_outcome\":\"Neutered Male\",\"age_upon_outcome\":\"3 months\",\"breed\":\"Domestic Shorthair\",\"color\":\"Black/Black\"}\\n,{\"animal_id\":\"A843349\",\"name\":\"A843349\",\"datetime\":\"2021-10-01T16:42:00.000\",\"monthyear\":\"2021-10-01T16:42:00.000\",\"date_of_birth\":\"2021-07-16T00:00:00.000\",\"outcome_type\":\"Adoption\",\"animal_type\":\"Dog\",\"sex_upon_outcome\":\"Neutered Male\",\"age_upon_outcome\":\"2 months\",\"breed\":\"Labrador Retriever Mix\",\"color\":\"Sable/White\"}\\n,{\"animal_id\":\"A843317\",\"name\":\"A843317\",\"datetime\":\"2021-10-01T16:31:00.000\",\"monthyear\":\"2021-10-01T16:31:00.000\",\"date_of_birth\":\"2021-07-29T00:00:00.000\",\"outcome_type\":\"Adoption\",\"animal_type\":\"Dog\",\"sex_upon_outcome\":\"Spayed Female\",\"age_upon_outcome\":\"2 months\",\"breed\":\"Chihuahua Shorthair Mix\",\"color\":\"White/Black\"}\\n,{\"animal_id\":\"A843115\",\"name\":\"A843115\",\"datetime\":\"2021-10-01T16:30:00.000\",\"monthyear\":\"2021-10-01T16:30:00.000\",\"date_of_birth\":\"2021-05-20T00:00:00.000\",\"outcome_type\":\"Adoption\",\"animal_type\":\"Cat\",\"sex_upon_outcome\":\"Spayed Female\",\"age_upon_outcome\":\"4 months\",\"breed\":\"Domestic Shorthair Mix\",\"color\":\"Blue Tabby\"}\\n,{\"animal_id\":\"A843146\",\"name\":\"A843146\",\"datetime\":\"2021-10-01T16:10:00.000\",\"monthyear\":\"2021-10-01T16:10:00.000\",\"date_of_birth\":\"2021-05-27T00:00:00.000\",\"outcome_type\":\"Adoption\",\"animal_type\":\"Dog\",\"sex_upon_outcome\":\"Neutered Male\",\"age_upon_outcome\":\"4 months\",\"breed\":\"Lhasa Apso\",\"color\":\"Brown/Black\"}\\n,{\"animal_id\":\"A843316\",\"name\":\"A843316\",\"datetime\":\"2021-10-01T14:21:00.000\",\"monthyear\":\"2021-10-01T14:21:00.000\",\"date_of_birth\":\"2021-07-29T00:00:00.000\",\"outcome_type\":\"Transfer\",\"outcome_subtype\":\"Partner\",\"animal_type\":\"Dog\",\"sex_upon_outcome\":\"Intact Female\",\"age_upon_outcome\":\"2 months\",\"breed\":\"Chihuahua Shorthair Mix\",\"color\":\"Blue/White\"}\\n,{\"animal_id\":\"A842865\",\"name\":\"Ella\",\"datetime\":\"2021-10-01T14:20:00.000\",\"monthyear\":\"2021-10-01T14:20:00.000\",\"date_of_birth\":\"2021-04-22T00:00:00.000\",\"outcome_type\":\"Transfer\",\"outcome_subtype\":\"Partner\",\"animal_type\":\"Dog\",\"sex_upon_outcome\":\"Spayed Female\",\"age_upon_outcome\":\"5 months\",\"breed\":\"Chihuahua Shorthair/Dachshund\",\"color\":\"Red\"}\\n,{\"animal_id\":\"A842983\",\"name\":\"A842983\",\"datetime\":\"2021-10-01T14:01:00.000\",\"monthyear\":\"2021-10-01T14:01:00.000\",\"date_of_birth\":\"2021-07-24T00:00:00.000\",\"outcome_type\":\"Adoption\",\"animal_type\":\"Cat\",\"sex_upon_outcome\":\"Spayed Female\",\"age_upon_outcome\":\"2 months\",\"breed\":\"Domestic Shorthair Mix\",\"color\":\"Blue Tabby\"}\\n,{\"animal_id\":\"A842718\",\"name\":\"*Fozzy\",\"datetime\":\"2021-10-01T13:59:00.000\",\"monthyear\":\"2021-10-01T13:59:00.000\",\"date_of_birth\":\"2020-09-20T00:00:00.000\",\"outcome_type\":\"Adoption\",\"animal_type\":\"Other\",\"sex_upon_outcome\":\"Intact Male\",\"age_upon_outcome\":\"1 year\",\"breed\":\"Guinea Pig\",\"color\":\"Tricolor\"}\\n,{\"animal_id\":\"A839586\",\"name\":\"*Pinky\",\"datetime\":\"2021-10-01T13:47:00.000\",\"monthyear\":\"2021-10-01T13:47:00.000\",\"date_of_birth\":\"2020-07-23T00:00:00.000\",\"outcome_type\":\"Adoption\",\"animal_type\":\"Cat\",\"sex_upon_outcome\":\"Spayed Female\",\"age_upon_outcome\":\"1 year\",\"breed\":\"Domestic Shorthair\",\"color\":\"Tortie\"}\\n,{\"animal_id\":\"A841451\",\"name\":\"*Rooney\",\"datetime\":\"2021-10-01T13:33:00.000\",\"monthyear\":\"2021-10-01T13:33:00.000\",\"date_of_birth\":\"2021-07-25T00:00:00.000\",\"outcome_type\":\"Adoption\",\"animal_type\":\"Cat\",\"sex_upon_outcome\":\"Neutered Male\",\"age_upon_outcome\":\"2 months\",\"breed\":\"Domestic Shorthair\",\"color\":\"Orange Tabby\"}\\n,{\"animal_id\":\"A838320\",\"name\":\"*Gemma\",\"datetime\":\"2021-10-01T13:19:00.000\",\"monthyear\":\"2021-10-01T13:19:00.000\",\"date_of_birth\":\"2021-05-25T00:00:00.000\",\"outcome_type\":\"Adoption\",\"outcome_subtype\":\"Foster\",\"animal_type\":\"Cat\",\"sex_upon_outcome\":\"Spayed Female\",\"age_upon_outcome\":\"4 months\",\"breed\":\"Domestic Shorthair\",\"color\":\"Tortie\"}\\n,{\"animal_id\":\"A836413\",\"name\":\"*Mae\",\"datetime\":\"2021-10-01T13:15:00.000\",\"monthyear\":\"2021-10-01T13:15:00.000\",\"date_of_birth\":\"2021-05-10T00:00:00.000\",\"outcome_type\":\"Adoption\",\"outcome_subtype\":\"Foster\",\"animal_type\":\"Cat\",\"sex_upon_outcome\":\"Spayed Female\",\"age_upon_outcome\":\"4 months\",\"breed\":\"Domestic Shorthair\",\"color\":\"Brown Tabby\"}\\n,{\"animal_id\":\"A842977\",\"name\":\"A842977\",\"datetime\":\"2021-10-01T13:11:00.000\",\"monthyear\":\"2021-10-01T13:11:00.000\",\"date_of_birth\":\"2020-09-24T00:00:00.000\",\"outcome_type\":\"Adoption\",\"animal_type\":\"Dog\",\"sex_upon_outcome\":\"Spayed Female\",\"age_upon_outcome\":\"1 year\",\"breed\":\"Chihuahua Shorthair\",\"color\":\"White/Tan\"}\\n,{\"animal_id\":\"A795620\",\"name\":\"Bubbas\",\"datetime\":\"2021-10-01T13:09:00.000\",\"monthyear\":\"2021-10-01T13:09:00.000\",\"date_of_birth\":\"2017-05-22T00:00:00.000\",\"outcome_type\":\"Adoption\",\"outcome_subtype\":\"Foster\",\"animal_type\":\"Dog\",\"sex_upon_outcome\":\"Neutered Male\",\"age_upon_outcome\":\"4 years\",\"breed\":\"Pit Bull\",\"color\":\"Brown Brindle\"}\\n,{\"animal_id\":\"A799465\",\"name\":\"Harley\",\"datetime\":\"2021-10-01T13:06:00.000\",\"monthyear\":\"2021-10-01T13:06:00.000\",\"date_of_birth\":\"2017-07-09T00:00:00.000\",\"outcome_type\":\"Transfer\",\"outcome_subtype\":\"Partner\",\"animal_type\":\"Dog\",\"sex_upon_outcome\":\"Neutered Male\",\"age_upon_outcome\":\"4 years\",\"breed\":\"Pit Bull Mix\",\"color\":\"White/Black\"}\\n,{\"animal_id\":\"A843456\",\"name\":\"186G\",\"datetime\":\"2021-10-01T13:00:00.000\",\"monthyear\":\"2021-10-01T13:00:00.000\",\"date_of_birth\":\"2021-09-16T00:00:00.000\",\"outcome_type\":\"Transfer\",\"outcome_subtype\":\"Partner\",\"animal_type\":\"Cat\",\"sex_upon_outcome\":\"Intact Male\",\"age_upon_outcome\":\"2 weeks\",\"breed\":\"Domestic Shorthair\",\"color\":\"Torbie\"}\\n,{\"animal_id\":\"A843457\",\"name\":\"172G\",\"datetime\":\"2021-10-01T13:00:00.000\",\"monthyear\":\"2021-10-01T13:00:00.000\",\"date_of_birth\":\"2021-09-16T00:00:00.000\",\"outcome_type\":\"Transfer\",\"outcome_subtype\":\"Partner\",\"animal_type\":\"Cat\",\"sex_upon_outcome\":\"Intact Female\",\"age_upon_outcome\":\"2 weeks\",\"breed\":\"Domestic Shorthair\",\"color\":\"Silver\"}\\n,{\"animal_id\":\"A843455\",\"name\":\"174G\",\"datetime\":\"2021-10-01T13:00:00.000\",\"monthyear\":\"2021-10-01T13:00:00.000\",\"date_of_birth\":\"2021-09-16T00:00:00.000\",\"outcome_type\":\"Transfer\",\"outcome_subtype\":\"Partner\",\"animal_type\":\"Cat\",\"sex_upon_outcome\":\"Intact Male\",\"age_upon_outcome\":\"2 weeks\",\"breed\":\"Domestic Shorthair\",\"color\":\"Black\"}\\n,{\"animal_id\":\"A843458\",\"name\":\"183G\",\"datetime\":\"2021-10-01T13:00:00.000\",\"monthyear\":\"2021-10-01T13:00:00.000\",\"date_of_birth\":\"2021-09-16T00:00:00.000\",\"outcome_type\":\"Transfer\",\"outcome_subtype\":\"Partner\",\"animal_type\":\"Cat\",\"sex_upon_outcome\":\"Intact Male\",\"age_upon_outcome\":\"2 weeks\",\"breed\":\"Domestic Shorthair\",\"color\":\"Silver\"}\\n,{\"animal_id\":\"A832331\",\"name\":\"*Gus\",\"datetime\":\"2021-10-01T12:52:00.000\",\"monthyear\":\"2021-10-01T12:52:00.000\",\"date_of_birth\":\"2019-04-11T00:00:00.000\",\"outcome_type\":\"Adoption\",\"outcome_subtype\":\"Foster\",\"animal_type\":\"Dog\",\"sex_upon_outcome\":\"Neutered Male\",\"age_upon_outcome\":\"2 years\",\"breed\":\"Chihuahua Shorthair/Manchester Terrier\",\"color\":\"Black/Brown\"}\\n,{\"animal_id\":\"A838816\",\"name\":\"*Tater\",\"datetime\":\"2021-10-01T12:29:00.000\",\"monthyear\":\"2021-10-01T12:29:00.000\",\"date_of_birth\":\"2020-07-12T00:00:00.000\",\"outcome_type\":\"Adoption\",\"outcome_subtype\":\"Foster\",\"animal_type\":\"Cat\",\"sex_upon_outcome\":\"Spayed Female\",\"age_upon_outcome\":\"1 year\",\"breed\":\"Domestic Shorthair\",\"color\":\"Black/White\"}\\n,{\"animal_id\":\"A843429\",\"name\":\"*Pocus\",\"datetime\":\"2021-10-01T12:22:00.000\",\"monthyear\":\"2021-10-01T12:22:00.000\",\"date_of_birth\":\"2021-03-30T00:00:00.000\",\"outcome_type\":\"Adoption\",\"animal_type\":\"Other\",\"sex_upon_outcome\":\"Intact Female\",\"age_upon_outcome\":\"6 months\",\"breed\":\"Guinea Pig\",\"color\":\"Tricolor\"}\\n,{\"animal_id\":\"A843428\",\"name\":\"*Hocus\",\"datetime\":\"2021-10-01T12:22:00.000\",\"monthyear\":\"2021-10-01T12:22:00.000\",\"date_of_birth\":\"2020-09-30T00:00:00.000\",\"outcome_type\":\"Adoption\",\"animal_type\":\"Other\",\"sex_upon_outcome\":\"Intact Female\",\"age_upon_outcome\":\"1 year\",\"breed\":\"Guinea Pig\",\"color\":\"Brown/White\"}\\n,{\"animal_id\":\"A843427\",\"name\":\"*Fang\",\"datetime\":\"2021-10-01T12:21:00.000\",\"monthyear\":\"2021-10-01T12:21:00.000\",\"date_of_birth\":\"2020-09-30T00:00:00.000\",\"outcome_type\":\"Adoption\",\"animal_type\":\"Other\",\"sex_upon_outcome\":\"Intact Female\",\"age_upon_outcome\":\"1 year\",\"breed\":\"Guinea Pig\",\"color\":\"Brown/White\"}\\n,{\"animal_id\":\"A836178\",\"name\":\"Xiaomei\",\"datetime\":\"2021-10-01T11:41:00.000\",\"monthyear\":\"2021-10-01T11:41:00.000\",\"date_of_birth\":\"2021-05-02T00:00:00.000\",\"outcome_type\":\"Adoption\",\"outcome_subtype\":\"Foster\",\"animal_type\":\"Cat\",\"sex_upon_outcome\":\"Intact Female\",\"age_upon_outcome\":\"4 months\",\"breed\":\"Domestic Shorthair Mix\",\"color\":\"Black\"}\\n,{\"animal_id\":\"A842958\",\"name\":\"Salem\",\"datetime\":\"2021-10-01T11:24:00.000\",\"monthyear\":\"2021-10-01T11:24:00.000\",\"date_of_birth\":\"2021-01-23T00:00:00.000\",\"outcome_type\":\"Adoption\",\"animal_type\":\"Cat\",\"sex_upon_outcome\":\"Spayed Female\",\"age_upon_outcome\":\"8 months\",\"breed\":\"Domestic Shorthair Mix\",\"color\":\"Black\"}\\n,{\"animal_id\":\"A823542\",\"name\":\"Chuck\",\"datetime\":\"2021-10-01T11:00:00.000\",\"monthyear\":\"2021-10-01T11:00:00.000\",\"date_of_birth\":\"2010-10-31T00:00:00.000\",\"outcome_type\":\"Adoption\",\"outcome_subtype\":\"Foster\",\"animal_type\":\"Dog\",\"sex_upon_outcome\":\"Neutered Male\",\"age_upon_outcome\":\"10 years\",\"breed\":\"Pit Bull Mix\",\"color\":\"Chocolate/White\"}\\n,{\"animal_id\":\"A842540\",\"name\":\"*Teddy\",\"datetime\":\"2021-10-01T09:28:00.000\",\"monthyear\":\"2021-10-01T09:28:00.000\",\"date_of_birth\":\"2019-09-17T00:00:00.000\",\"outcome_type\":\"Adoption\",\"outcome_subtype\":\"Foster\",\"animal_type\":\"Cat\",\"sex_upon_outcome\":\"Neutered Male\",\"age_upon_outcome\":\"2 years\",\"breed\":\"Domestic Shorthair Mix\",\"color\":\"Orange Tabby/White\"}\\n,{\"animal_id\":\"A836846\",\"name\":\"*Kisses\",\"datetime\":\"2021-10-01T08:20:00.000\",\"monthyear\":\"2021-10-01T08:20:00.000\",\"date_of_birth\":\"2021-05-08T00:00:00.000\",\"outcome_type\":\"Adoption\",\"outcome_subtype\":\"Foster\",\"animal_type\":\"Cat\",\"sex_upon_outcome\":\"Spayed Female\",\"age_upon_outcome\":\"4 months\",\"breed\":\"Domestic Shorthair\",\"color\":\"Calico/Brown Tabby\"}\\n,{\"animal_id\":\"A836845\",\"name\":\"*Hugs\",\"datetime\":\"2021-10-01T08:20:00.000\",\"monthyear\":\"2021-10-01T08:20:00.000\",\"date_of_birth\":\"2021-05-08T00:00:00.000\",\"outcome_type\":\"Adoption\",\"outcome_subtype\":\"Foster\",\"animal_type\":\"Cat\",\"sex_upon_outcome\":\"Spayed Female\",\"age_upon_outcome\":\"4 months\",\"breed\":\"Domestic Shorthair\",\"color\":\"Calico/Brown Tabby\"}\\n,{\"animal_id\":\"A836847\",\"name\":\"*Cuddles\",\"datetime\":\"2021-10-01T08:15:00.000\",\"monthyear\":\"2021-10-01T08:15:00.000\",\"date_of_birth\":\"2021-05-08T00:00:00.000\",\"outcome_type\":\"Adoption\",\"outcome_subtype\":\"Foster\",\"animal_type\":\"Cat\",\"sex_upon_outcome\":\"Neutered Male\",\"age_upon_outcome\":\"4 months\",\"breed\":\"Domestic Longhair\",\"color\":\"Orange Tabby/White\"}\\n,{\"animal_id\":\"A835402\",\"name\":\"Isabella\",\"datetime\":\"2021-10-01T08:11:00.000\",\"monthyear\":\"2021-10-01T08:11:00.000\",\"date_of_birth\":\"2018-02-27T00:00:00.000\",\"outcome_type\":\"Adoption\",\"outcome_subtype\":\"Foster\",\"animal_type\":\"Dog\",\"sex_upon_outcome\":\"Spayed Female\",\"age_upon_outcome\":\"3 years\",\"breed\":\"Pit Bull Mix\",\"color\":\"White/Black Brindle\"}\\n,{\"animal_id\":\"A840422\",\"name\":\"Lassie\",\"datetime\":\"2021-09-30T19:19:00.000\",\"monthyear\":\"2021-09-30T19:19:00.000\",\"date_of_birth\":\"2021-04-15T00:00:00.000\",\"outcome_type\":\"Adoption\",\"animal_type\":\"Dog\",\"sex_upon_outcome\":\"Spayed Female\",\"age_upon_outcome\":\"5 months\",\"breed\":\"Labrador Retriever/German Shepherd\",\"color\":\"Tan/White\"}\\n,{\"animal_id\":\"A843419\",\"name\":\"Cinder\",\"datetime\":\"2021-09-30T19:03:00.000\",\"monthyear\":\"2021-09-30T19:03:00.000\",\"date_of_birth\":\"2014-09-30T00:00:00.000\",\"outcome_type\":\"Return to Owner\",\"animal_type\":\"Cat\",\"sex_upon_outcome\":\"Neutered Male\",\"age_upon_outcome\":\"7 years\",\"breed\":\"Domestic Longhair\",\"color\":\"Blue\"}\\n,{\"animal_id\":\"A843384\",\"name\":\"Luna\",\"datetime\":\"2021-09-30T18:52:00.000\",\"monthyear\":\"2021-09-30T18:52:00.000\",\"date_of_birth\":\"2020-09-30T00:00:00.000\",\"outcome_type\":\"Return to Owner\",\"animal_type\":\"Dog\",\"sex_upon_outcome\":\"Intact Female\",\"age_upon_outcome\":\"1 year\",\"breed\":\"Rottweiler/Labrador Retriever\",\"color\":\"Tricolor\"}\\n,{\"animal_id\":\"A843431\",\"name\":\"A843431\",\"datetime\":\"2021-09-30T18:47:00.000\",\"monthyear\":\"2021-09-30T18:47:00.000\",\"date_of_birth\":\"2021-09-15T00:00:00.000\",\"outcome_type\":\"Transfer\",\"outcome_subtype\":\"Partner\",\"animal_type\":\"Cat\",\"sex_upon_outcome\":\"Unknown\",\"age_upon_outcome\":\"2 weeks\",\"breed\":\"Domestic Medium Hair\",\"color\":\"Orange\"}\\n,{\"animal_id\":\"A843405\",\"name\":\"Franco\",\"datetime\":\"2021-09-30T18:42:00.000\",\"monthyear\":\"2021-09-30T18:42:00.000\",\"date_of_birth\":\"2013-09-30T00:00:00.000\",\"outcome_type\":\"Return to Owner\",\"animal_type\":\"Cat\",\"sex_upon_outcome\":\"Neutered Male\",\"age_upon_outcome\":\"8 years\",\"breed\":\"Domestic Shorthair\",\"color\":\"Orange\"}\\n,{\"animal_id\":\"A843291\",\"name\":\"Faez\",\"datetime\":\"2021-09-30T18:41:00.000\",\"monthyear\":\"2021-09-30T18:41:00.000\",\"date_of_birth\":\"2021-07-29T00:00:00.000\",\"outcome_type\":\"Adoption\",\"animal_type\":\"Dog\",\"sex_upon_outcome\":\"Neutered Male\",\"age_upon_outcome\":\"2 months\",\"breed\":\"Border Terrier\",\"color\":\"Tan/White\"}\\n,{\"animal_id\":\"A742129\",\"name\":\"Diamond\",\"datetime\":\"2021-09-30T18:29:00.000\",\"monthyear\":\"2021-09-30T18:29:00.000\",\"date_of_birth\":\"2016-02-15T00:00:00.000\",\"outcome_type\":\"Adoption\",\"animal_type\":\"Dog\",\"sex_upon_outcome\":\"Spayed Female\",\"age_upon_outcome\":\"5 years\",\"breed\":\"Pit Bull Mix\",\"color\":\"Blue/White\"}\\n,{\"animal_id\":\"A842631\",\"name\":\"Oliver\",\"datetime\":\"2021-09-30T18:19:00.000\",\"monthyear\":\"2021-09-30T18:19:00.000\",\"date_of_birth\":\"2018-09-19T00:00:00.000\",\"outcome_type\":\"Return to Owner\",\"animal_type\":\"Dog\",\"sex_upon_outcome\":\"Intact Male\",\"age_upon_outcome\":\"3 years\",\"breed\":\"Chihuahua Shorthair Mix\",\"color\":\"Tricolor\"}\\n,{\"animal_id\":\"A756776\",\"name\":\"Rocky\",\"datetime\":\"2021-09-30T18:19:00.000\",\"monthyear\":\"2021-09-30T18:19:00.000\",\"date_of_birth\":\"2015-08-25T00:00:00.000\",\"outcome_type\":\"Return to Owner\",\"animal_type\":\"Dog\",\"sex_upon_outcome\":\"Spayed Female\",\"age_upon_outcome\":\"6 years\",\"breed\":\"Labrador Retriever Mix\",\"color\":\"Brown\"}\\n,{\"animal_id\":\"A843292\",\"name\":\"Sadie\",\"datetime\":\"2021-09-30T18:19:00.000\",\"monthyear\":\"2021-09-30T18:19:00.000\",\"date_of_birth\":\"2021-07-29T00:00:00.000\",\"outcome_type\":\"Adoption\",\"animal_type\":\"Dog\",\"sex_upon_outcome\":\"Spayed Female\",\"age_upon_outcome\":\"2 months\",\"breed\":\"Border Terrier\",\"color\":\"Tan\"}\\n,{\"animal_id\":\"A839995\",\"name\":\"*Mr. T\",\"datetime\":\"2021-09-30T18:03:00.000\",\"monthyear\":\"2021-09-30T18:03:00.000\",\"date_of_birth\":\"2019-06-02T00:00:00.000\",\"outcome_type\":\"Adoption\",\"animal_type\":\"Dog\",\"sex_upon_outcome\":\"Neutered Male\",\"age_upon_outcome\":\"2 years\",\"breed\":\"German Shepherd Mix\",\"color\":\"Black/Brown\"}\\n,{\"animal_id\":\"A843028\",\"name\":\"Smokey\",\"datetime\":\"2021-09-30T17:46:00.000\",\"monthyear\":\"2021-09-30T17:46:00.000\",\"date_of_birth\":\"2021-07-25T00:00:00.000\",\"outcome_type\":\"Adoption\",\"animal_type\":\"Cat\",\"sex_upon_outcome\":\"Spayed Female\",\"age_upon_outcome\":\"2 months\",\"breed\":\"Domestic Shorthair\",\"color\":\"Blue\"}\\n,{\"animal_id\":\"A843131\",\"name\":\"Luna\",\"datetime\":\"2021-09-30T17:24:00.000\",\"monthyear\":\"2021-09-30T17:24:00.000\",\"date_of_birth\":\"2020-12-27T00:00:00.000\",\"outcome_type\":\"Adoption\",\"animal_type\":\"Cat\",\"sex_upon_outcome\":\"Spayed Female\",\"age_upon_outcome\":\"9 months\",\"breed\":\"Domestic Shorthair Mix\",\"color\":\"Black/White\"}\\n,{\"animal_id\":\"A843130\",\"name\":\"Evie\",\"datetime\":\"2021-09-30T17:24:00.000\",\"monthyear\":\"2021-09-30T17:24:00.000\",\"date_of_birth\":\"2020-12-27T00:00:00.000\",\"outcome_type\":\"Adoption\",\"animal_type\":\"Cat\",\"sex_upon_outcome\":\"Spayed Female\",\"age_upon_outcome\":\"9 months\",\"breed\":\"Domestic Shorthair Mix\",\"color\":\"Brown Tabby/White\"}\\n,{\"animal_id\":\"A842906\",\"name\":\"Littles\",\"datetime\":\"2021-09-30T17:13:00.000\",\"monthyear\":\"2021-09-30T17:13:00.000\",\"date_of_birth\":\"2019-09-23T00:00:00.000\",\"outcome_type\":\"Rto-Adopt\",\"animal_type\":\"Cat\",\"sex_upon_outcome\":\"Neutered Male\",\"age_upon_outcome\":\"2 years\",\"breed\":\"Domestic Shorthair\",\"color\":\"Brown Tabby\"}\\n,{\"animal_id\":\"A843051\",\"name\":\"A843051\",\"datetime\":\"2021-09-30T17:09:00.000\",\"monthyear\":\"2021-09-30T17:09:00.000\",\"date_of_birth\":\"2021-05-10T00:00:00.000\",\"outcome_type\":\"Adoption\",\"animal_type\":\"Cat\",\"sex_upon_outcome\":\"Neutered Male\",\"age_upon_outcome\":\"4 months\",\"breed\":\"Domestic Shorthair\",\"color\":\"Black\"}\\n,{\"animal_id\":\"A843052\",\"name\":\"A843052\",\"datetime\":\"2021-09-30T17:08:00.000\",\"monthyear\":\"2021-09-30T17:08:00.000\",\"date_of_birth\":\"2021-05-10T00:00:00.000\",\"outcome_type\":\"Adoption\",\"animal_type\":\"Cat\",\"sex_upon_outcome\":\"Neutered Male\",\"age_upon_outcome\":\"4 months\",\"breed\":\"Siamese\",\"color\":\"Seal Point\"}\\n,{\"animal_id\":\"A843027\",\"name\":\"Luna\",\"datetime\":\"2021-09-30T16:58:00.000\",\"monthyear\":\"2021-09-30T16:58:00.000\",\"date_of_birth\":\"2021-07-25T00:00:00.000\",\"outcome_type\":\"Adoption\",\"animal_type\":\"Cat\",\"sex_upon_outcome\":\"Spayed Female\",\"age_upon_outcome\":\"2 months\",\"breed\":\"Domestic Shorthair\",\"color\":\"Black\"}\\n,{\"animal_id\":\"A843058\",\"name\":\"Ziggy\",\"datetime\":\"2021-09-30T16:33:00.000\",\"monthyear\":\"2021-09-30T16:33:00.000\",\"date_of_birth\":\"2021-08-09T00:00:00.000\",\"outcome_type\":\"Adoption\",\"animal_type\":\"Cat\",\"sex_upon_outcome\":\"Neutered Male\",\"age_upon_outcome\":\"1 month\",\"breed\":\"Domestic Shorthair\",\"color\":\"Blue Tabby/White\"}\\n,{\"animal_id\":\"A823676\",\"name\":\"Molasses\",\"datetime\":\"2021-09-30T16:24:00.000\",\"monthyear\":\"2021-09-30T16:24:00.000\",\"date_of_birth\":\"2020-08-18T00:00:00.000\",\"outcome_type\":\"Adoption\",\"animal_type\":\"Cat\",\"sex_upon_outcome\":\"Spayed Female\",\"age_upon_outcome\":\"1 year\",\"breed\":\"Siamese\",\"color\":\"Lynx Point/White\"}\\n,{\"animal_id\":\"A843057\",\"name\":\"A843057\",\"datetime\":\"2021-09-30T16:17:00.000\",\"monthyear\":\"2021-09-30T16:17:00.000\",\"date_of_birth\":\"2021-08-09T00:00:00.000\",\"outcome_type\":\"Adoption\",\"animal_type\":\"Cat\",\"sex_upon_outcome\":\"Spayed Female\",\"age_upon_outcome\":\"1 month\",\"breed\":\"Domestic Shorthair\",\"color\":\"Blue\"}\\n,{\"animal_id\":\"A843056\",\"name\":\"A843056\",\"datetime\":\"2021-09-30T16:17:00.000\",\"monthyear\":\"2021-09-30T16:17:00.000\",\"date_of_birth\":\"2021-08-09T00:00:00.000\",\"outcome_type\":\"Adoption\",\"animal_type\":\"Cat\",\"sex_upon_outcome\":\"Neutered Male\",\"age_upon_outcome\":\"1 month\",\"breed\":\"Domestic Shorthair\",\"color\":\"Blue\"}\\n,{\"animal_id\":\"A842941\",\"name\":\"Spot\",\"datetime\":\"2021-09-30T16:10:00.000\",\"monthyear\":\"2021-09-30T16:10:00.000\",\"date_of_birth\":\"2021-06-08T00:00:00.000\",\"outcome_type\":\"Adoption\",\"animal_type\":\"Dog\",\"sex_upon_outcome\":\"Neutered Male\",\"age_upon_outcome\":\"3 months\",\"breed\":\"Australian Cattle Dog Mix\",\"color\":\"White/Tan\"}\\n,{\"animal_id\":\"A843024\",\"name\":\"Lucky\",\"datetime\":\"2021-09-30T16:03:00.000\",\"monthyear\":\"2021-09-30T16:03:00.000\",\"date_of_birth\":\"2021-07-25T00:00:00.000\",\"outcome_type\":\"Adoption\",\"animal_type\":\"Cat\",\"sex_upon_outcome\":\"Neutered Male\",\"age_upon_outcome\":\"2 months\",\"breed\":\"Domestic Shorthair\",\"color\":\"Blue Tabby/White\"}\\n,{\"animal_id\":\"A843154\",\"name\":\"Leo\",\"datetime\":\"2021-09-30T15:51:00.000\",\"monthyear\":\"2021-09-30T15:51:00.000\",\"date_of_birth\":\"2019-09-27T00:00:00.000\",\"outcome_type\":\"Adoption\",\"animal_type\":\"Dog\",\"sex_upon_outcome\":\"Neutered Male\",\"age_upon_outcome\":\"2 years\",\"breed\":\"Great Pyrenees/Golden Retriever\",\"color\":\"White\"}\\n,{\"animal_id\":\"A841052\",\"name\":\"*Bird\",\"datetime\":\"2021-09-30T15:49:00.000\",\"monthyear\":\"2021-09-30T15:49:00.000\",\"date_of_birth\":\"2021-07-06T00:00:00.000\",\"outcome_type\":\"Adoption\",\"outcome_subtype\":\"Foster\",\"animal_type\":\"Cat\",\"sex_upon_outcome\":\"Spayed Female\",\"age_upon_outcome\":\"2 months\",\"breed\":\"Domestic Shorthair\",\"color\":\"Black\"}\\n,{\"animal_id\":\"A843159\",\"name\":\"Aslan\",\"datetime\":\"2021-09-30T15:46:00.000\",\"monthyear\":\"2021-09-30T15:46:00.000\",\"date_of_birth\":\"2021-06-27T00:00:00.000\",\"outcome_type\":\"Adoption\",\"animal_type\":\"Cat\",\"sex_upon_outcome\":\"Neutered Male\",\"age_upon_outcome\":\"3 months\",\"breed\":\"Domestic Shorthair Mix\",\"color\":\"Blue/White\"}\\n,{\"animal_id\":\"A843084\",\"name\":\"*Aloysius\",\"datetime\":\"2021-09-30T14:42:00.000\",\"monthyear\":\"2021-09-30T14:42:00.000\",\"date_of_birth\":\"2019-09-26T00:00:00.000\",\"outcome_type\":\"Adoption\",\"animal_type\":\"Cat\",\"sex_upon_outcome\":\"Neutered Male\",\"age_upon_outcome\":\"2 years\",\"breed\":\"Domestic Shorthair\",\"color\":\"White\"}\\n,{\"animal_id\":\"A843088\",\"datetime\":\"2021-09-30T13:29:00.000\",\"monthyear\":\"2021-09-30T13:29:00.000\",\"date_of_birth\":\"2021-01-26T00:00:00.000\",\"outcome_type\":\"Transfer\",\"outcome_subtype\":\"Partner\",\"animal_type\":\"Dog\",\"sex_upon_outcome\":\"Intact Female\",\"age_upon_outcome\":\"8 months\",\"breed\":\"Soft Coated Wheaten Terrier Mix\",\"color\":\"Tan\"}\\n,{\"animal_id\":\"A746563\",\"name\":\"Max\",\"datetime\":\"2021-09-30T12:41:00.000\",\"monthyear\":\"2021-09-30T12:41:00.000\",\"date_of_birth\":\"2016-04-04T00:00:00.000\",\"outcome_type\":\"Adoption\",\"animal_type\":\"Dog\",\"sex_upon_outcome\":\"Neutered Male\",\"age_upon_outcome\":\"5 years\",\"breed\":\"Miniature Pinscher\",\"color\":\"Black/Tan\"}\\n,{\"animal_id\":\"A843370\",\"name\":\"215 Grams\",\"datetime\":\"2021-09-30T12:28:00.000\",\"monthyear\":\"2021-09-30T12:28:00.000\",\"date_of_birth\":\"2021-09-15T00:00:00.000\",\"outcome_type\":\"Transfer\",\"outcome_subtype\":\"Partner\",\"animal_type\":\"Cat\",\"sex_upon_outcome\":\"Intact Female\",\"age_upon_outcome\":\"2 weeks\",\"breed\":\"Domestic Shorthair\",\"color\":\"Torbie\"}\\n,{\"animal_id\":\"A843331\",\"name\":\"A843331\",\"datetime\":\"2021-09-30T12:23:00.000\",\"monthyear\":\"2021-09-30T12:23:00.000\",\"date_of_birth\":\"2021-03-30T00:00:00.000\",\"outcome_type\":\"Return to Owner\",\"animal_type\":\"Other\",\"sex_upon_outcome\":\"Neutered Male\",\"age_upon_outcome\":\"6 months\",\"breed\":\"Ferret\",\"color\":\"Sable/White\"}\\n,{\"animal_id\":\"A842555\",\"name\":\"Garfield\",\"datetime\":\"2021-09-30T11:32:00.000\",\"monthyear\":\"2021-09-30T11:32:00.000\",\"date_of_birth\":\"2015-09-17T00:00:00.000\",\"outcome_type\":\"Adoption\",\"animal_type\":\"Cat\",\"sex_upon_outcome\":\"Neutered Male\",\"age_upon_outcome\":\"6 years\",\"breed\":\"Domestic Shorthair\",\"color\":\"Orange Tabby\"}\\n,{\"animal_id\":\"A841395\",\"name\":\"Rex\",\"datetime\":\"2021-09-30T11:03:00.000\",\"monthyear\":\"2021-09-30T11:03:00.000\",\"date_of_birth\":\"2017-02-26T00:00:00.000\",\"outcome_type\":\"Adoption\",\"animal_type\":\"Dog\",\"sex_upon_outcome\":\"Neutered Male\",\"age_upon_outcome\":\"4 years\",\"breed\":\"German Shepherd Mix\",\"color\":\"Brown\"}\\n,{\"animal_id\":\"A843009\",\"name\":\"A843009\",\"datetime\":\"2021-09-30T08:51:00.000\",\"monthyear\":\"2021-09-30T08:51:00.000\",\"date_of_birth\":\"2020-09-24T00:00:00.000\",\"outcome_type\":\"Disposal\",\"animal_type\":\"Cat\",\"sex_upon_outcome\":\"Unknown\",\"age_upon_outcome\":\"1 year\",\"breed\":\"Domestic Medium Hair\",\"color\":\"Gray Tabby\"}\\n,{\"animal_id\":\"A843273\",\"datetime\":\"2021-09-30T08:46:00.000\",\"monthyear\":\"2021-09-30T08:46:00.000\",\"date_of_birth\":\"2021-06-29T00:00:00.000\",\"outcome_type\":\"Euthanasia\",\"outcome_subtype\":\"Rabies Risk\",\"animal_type\":\"Other\",\"sex_upon_outcome\":\"Unknown\",\"age_upon_outcome\":\"3 months\",\"breed\":\"Raccoon\",\"color\":\"Gray/Black\"}\\n,{\"animal_id\":\"A843364\",\"datetime\":\"2021-09-30T08:37:00.000\",\"monthyear\":\"2021-09-30T08:37:00.000\",\"date_of_birth\":\"2019-09-30T00:00:00.000\",\"outcome_type\":\"Disposal\",\"animal_type\":\"Other\",\"sex_upon_outcome\":\"Unknown\",\"age_upon_outcome\":\"2 years\",\"breed\":\"Raccoon\",\"color\":\"Brown/Gray\"}\\n,{\"animal_id\":\"A843250\",\"name\":\"A843250\",\"datetime\":\"2021-09-30T00:00:00.000\",\"monthyear\":\"2021-09-30T00:00:00.000\",\"date_of_birth\":\"2019-09-28T00:00:00.000\",\"outcome_type\":\"Transfer\",\"outcome_subtype\":\"Snr\",\"animal_type\":\"Cat\",\"sex_upon_outcome\":\"Intact Female\",\"age_upon_outcome\":\"2 years\",\"breed\":\"Domestic Shorthair Mix\",\"color\":\"Brown Tabby\"}\\n,{\"animal_id\":\"A840592\",\"name\":\"*Minnie\",\"datetime\":\"2021-09-30T00:00:00.000\",\"monthyear\":\"2021-09-30T00:00:00.000\",\"date_of_birth\":\"2019-08-10T00:00:00.000\",\"outcome_type\":\"Transfer\",\"outcome_subtype\":\"Snr\",\"animal_type\":\"Cat\",\"sex_upon_outcome\":\"Intact Female\",\"age_upon_outcome\":\"2 years\",\"breed\":\"Domestic Shorthair Mix\",\"color\":\"Brown Tabby\"}\\n,{\"animal_id\":\"A842481\",\"name\":\"A842481\",\"datetime\":\"2021-09-30T00:00:00.000\",\"monthyear\":\"2021-09-30T00:00:00.000\",\"date_of_birth\":\"2021-05-16T00:00:00.000\",\"outcome_type\":\"Transfer\",\"outcome_subtype\":\"Snr\",\"animal_type\":\"Cat\",\"sex_upon_outcome\":\"Unknown\",\"age_upon_outcome\":\"4 months\",\"breed\":\"Domestic Shorthair\",\"color\":\"White/Blue\"}\\n,{\"animal_id\":\"A843252\",\"name\":\"A843252\",\"datetime\":\"2021-09-30T00:00:00.000\",\"monthyear\":\"2021-09-30T00:00:00.000\",\"date_of_birth\":\"2015-09-28T00:00:00.000\",\"outcome_type\":\"Transfer\",\"outcome_subtype\":\"Snr\",\"animal_type\":\"Cat\",\"sex_upon_outcome\":\"Intact Male\",\"age_upon_outcome\":\"6 years\",\"breed\":\"Domestic Shorthair Mix\",\"color\":\"Brown Tabby\"}\\n,{\"animal_id\":\"A842286\",\"name\":\"*Fancy\",\"datetime\":\"2021-09-29T19:15:00.000\",\"monthyear\":\"2021-09-29T19:15:00.000\",\"date_of_birth\":\"2019-09-13T00:00:00.000\",\"outcome_type\":\"Adoption\",\"animal_type\":\"Dog\",\"sex_upon_outcome\":\"Spayed Female\",\"age_upon_outcome\":\"2 years\",\"breed\":\"Pit Bull\",\"color\":\"Fawn/White\"}\\n,{\"animal_id\":\"A843161\",\"name\":\"A843161\",\"datetime\":\"2021-09-29T19:11:00.000\",\"monthyear\":\"2021-09-29T19:11:00.000\",\"date_of_birth\":\"2021-06-27T00:00:00.000\",\"outcome_type\":\"Adoption\",\"animal_type\":\"Cat\",\"sex_upon_outcome\":\"Neutered Male\",\"age_upon_outcome\":\"3 months\",\"breed\":\"Domestic Shorthair Mix\",\"color\":\"Blue\"}\\n,{\"animal_id\":\"A842868\",\"name\":\"Max\",\"datetime\":\"2021-09-29T19:09:00.000\",\"monthyear\":\"2021-09-29T19:09:00.000\",\"date_of_birth\":\"2019-09-22T00:00:00.000\",\"outcome_type\":\"Adoption\",\"animal_type\":\"Dog\",\"sex_upon_outcome\":\"Neutered Male\",\"age_upon_outcome\":\"2 years\",\"breed\":\"Pug/Dachshund\",\"color\":\"Tan/Black\"}\\n,{\"animal_id\":\"A841441\",\"name\":\"Zara\",\"datetime\":\"2021-09-29T18:59:00.000\",\"monthyear\":\"2021-09-29T18:59:00.000\",\"date_of_birth\":\"2019-08-27T00:00:00.000\",\"outcome_type\":\"Adoption\",\"animal_type\":\"Dog\",\"sex_upon_outcome\":\"Spayed Female\",\"age_upon_outcome\":\"2 years\",\"breed\":\"Queensland Heeler\",\"color\":\"Blue\"}\\n,{\"animal_id\":\"A842539\",\"name\":\"Zeus\",\"datetime\":\"2021-09-29T18:28:00.000\",\"monthyear\":\"2021-09-29T18:28:00.000\",\"date_of_birth\":\"2021-07-10T00:00:00.000\",\"outcome_type\":\"Adoption\",\"animal_type\":\"Dog\",\"sex_upon_outcome\":\"Neutered Male\",\"age_upon_outcome\":\"2 months\",\"breed\":\"Pit Bull\",\"color\":\"Black/White\"}\\n,{\"animal_id\":\"A842982\",\"name\":\"A842982\",\"datetime\":\"2021-09-29T18:11:00.000\",\"monthyear\":\"2021-09-29T18:11:00.000\",\"date_of_birth\":\"2021-07-24T00:00:00.000\",\"outcome_type\":\"Adoption\",\"animal_type\":\"Cat\",\"sex_upon_outcome\":\"Spayed Female\",\"age_upon_outcome\":\"2 months\",\"breed\":\"Domestic Shorthair Mix\",\"color\":\"Blue Tabby\"}\\n,{\"animal_id\":\"A843008\",\"name\":\"Molly\",\"datetime\":\"2021-09-29T18:01:00.000\",\"monthyear\":\"2021-09-29T18:01:00.000\",\"date_of_birth\":\"2020-09-24T00:00:00.000\",\"outcome_type\":\"Return to Owner\",\"animal_type\":\"Dog\",\"sex_upon_outcome\":\"Intact Female\",\"age_upon_outcome\":\"1 year\",\"breed\":\"Chihuahua Shorthair\",\"color\":\"Tan\"}\\n,{\"animal_id\":\"A841620\",\"name\":\"*Roscoe\",\"datetime\":\"2021-09-29T17:30:00.000\",\"monthyear\":\"2021-09-29T17:30:00.000\",\"date_of_birth\":\"2020-08-30T00:00:00.000\",\"outcome_type\":\"Adoption\",\"animal_type\":\"Dog\",\"sex_upon_outcome\":\"Neutered Male\",\"age_upon_outcome\":\"1 year\",\"breed\":\"Pit Bull Mix\",\"color\":\"Blue/White\"}\\n,{\"animal_id\":\"A843160\",\"name\":\"A843160\",\"datetime\":\"2021-09-29T17:01:00.000\",\"monthyear\":\"2021-09-29T17:01:00.000\",\"date_of_birth\":\"2021-06-27T00:00:00.000\",\"outcome_type\":\"Adoption\",\"animal_type\":\"Cat\",\"sex_upon_outcome\":\"Spayed Female\",\"age_upon_outcome\":\"3 months\",\"breed\":\"Domestic Shorthair Mix\",\"color\":\"Blue/White\"}\\n,{\"animal_id\":\"A843007\",\"datetime\":\"2021-09-29T16:44:00.000\",\"monthyear\":\"2021-09-29T16:44:00.000\",\"date_of_birth\":\"2020-09-24T00:00:00.000\",\"outcome_type\":\"Adoption\",\"animal_type\":\"Dog\",\"sex_upon_outcome\":\"Neutered Male\",\"age_upon_outcome\":\"1 year\",\"breed\":\"Doberman Pinsch\",\"color\":\"Black/Brown\"}\\n,{\"animal_id\":\"A842543\",\"name\":\"Cold Brew\",\"datetime\":\"2021-09-29T16:30:00.000\",\"monthyear\":\"2021-09-29T16:30:00.000\",\"date_of_birth\":\"2020-11-17T00:00:00.000\",\"outcome_type\":\"Adoption\",\"animal_type\":\"Dog\",\"sex_upon_outcome\":\"Neutered Male\",\"age_upon_outcome\":\"10 months\",\"breed\":\"Beagle Mix\",\"color\":\"Brown/Black\"}\\n,{\"animal_id\":\"A842177\",\"name\":\"*Chico\",\"datetime\":\"2021-09-29T16:29:00.000\",\"monthyear\":\"2021-09-29T16:29:00.000\",\"date_of_birth\":\"2021-03-27T00:00:00.000\",\"outcome_type\":\"Adoption\",\"animal_type\":\"Dog\",\"sex_upon_outcome\":\"Neutered Male\",\"age_upon_outcome\":\"6 months\",\"breed\":\"Pointer Mix\",\"color\":\"White/Black\"}\\n,{\"animal_id\":\"A843041\",\"name\":\"A843041\",\"datetime\":\"2021-09-29T16:23:00.000\",\"monthyear\":\"2021-09-29T16:23:00.000\",\"date_of_birth\":\"2021-07-25T00:00:00.000\",\"outcome_type\":\"Transfer\",\"outcome_subtype\":\"Partner\",\"animal_type\":\"Cat\",\"sex_upon_outcome\":\"Intact Female\",\"age_upon_outcome\":\"2 months\",\"breed\":\"Domestic Shorthair\",\"color\":\"Torbie\"}\\n,{\"animal_id\":\"A843043\",\"name\":\"A843043\",\"datetime\":\"2021-09-29T16:23:00.000\",\"monthyear\":\"2021-09-29T16:23:00.000\",\"date_of_birth\":\"2021-07-25T00:00:00.000\",\"outcome_type\":\"Transfer\",\"outcome_subtype\":\"Partner\",\"animal_type\":\"Cat\",\"sex_upon_outcome\":\"Intact Female\",\"age_upon_outcome\":\"2 months\",\"breed\":\"Domestic Longhair\",\"color\":\"Torbie\"}\\n,{\"animal_id\":\"A843038\",\"name\":\"A843038\",\"datetime\":\"2021-09-29T16:23:00.000\",\"monthyear\":\"2021-09-29T16:23:00.000\",\"date_of_birth\":\"2021-07-25T00:00:00.000\",\"outcome_type\":\"Transfer\",\"outcome_subtype\":\"Partner\",\"animal_type\":\"Cat\",\"sex_upon_outcome\":\"Intact Female\",\"age_upon_outcome\":\"2 months\",\"breed\":\"Domestic Shorthair\",\"color\":\"Calico\"}\\n,{\"animal_id\":\"A843035\",\"name\":\"A843035\",\"datetime\":\"2021-09-29T16:22:00.000\",\"monthyear\":\"2021-09-29T16:22:00.000\",\"date_of_birth\":\"2021-07-25T00:00:00.000\",\"outcome_type\":\"Transfer\",\"outcome_subtype\":\"Partner\",\"animal_type\":\"Cat\",\"sex_upon_outcome\":\"Intact Female\",\"age_upon_outcome\":\"2 months\",\"breed\":\"Domestic Shorthair\",\"color\":\"White/Black\"}\\n,{\"animal_id\":\"A843036\",\"name\":\"843036\",\"datetime\":\"2021-09-29T16:22:00.000\",\"monthyear\":\"2021-09-29T16:22:00.000\",\"date_of_birth\":\"2021-07-25T00:00:00.000\",\"outcome_type\":\"Transfer\",\"outcome_subtype\":\"Partner\",\"animal_type\":\"Cat\",\"sex_upon_outcome\":\"Intact Male\",\"age_upon_outcome\":\"2 months\",\"breed\":\"Domestic Shorthair\",\"color\":\"Gray/White\"}\\n,{\"animal_id\":\"A843299\",\"datetime\":\"2021-09-29T16:22:00.000\",\"monthyear\":\"2021-09-29T16:22:00.000\",\"date_of_birth\":\"2021-09-28T00:00:00.000\",\"outcome_type\":\"Transfer\",\"outcome_subtype\":\"Partner\",\"animal_type\":\"Cat\",\"sex_upon_outcome\":\"Intact Female\",\"age_upon_outcome\":\"1 day\",\"breed\":\"Domestic Shorthair\",\"color\":\"Orange Tabby/White\"}\\n,{\"animal_id\":\"A842634\",\"datetime\":\"2021-09-29T16:20:00.000\",\"monthyear\":\"2021-09-29T16:20:00.000\",\"date_of_birth\":\"2019-09-19T00:00:00.000\",\"outcome_type\":\"Euthanasia\",\"outcome_subtype\":\"Aggressive\",\"animal_type\":\"Dog\",\"sex_upon_outcome\":\"Intact Male\",\"age_upon_outcome\":\"2 years\",\"breed\":\"Pit Bull\",\"color\":\"Gray/White\"}\\n,{\"animal_id\":\"A843127\",\"name\":\"A843127\",\"datetime\":\"2021-09-29T16:10:00.000\",\"monthyear\":\"2021-09-29T16:10:00.000\",\"date_of_birth\":\"2015-09-27T00:00:00.000\",\"outcome_type\":\"Transfer\",\"outcome_subtype\":\"Partner\",\"animal_type\":\"Cat\",\"sex_upon_outcome\":\"Intact Male\",\"age_upon_outcome\":\"6 years\",\"breed\":\"Domestic Shorthair Mix\",\"color\":\"Black/White\"}\\n,{\"animal_id\":\"A841425\",\"name\":\"Zuko\",\"datetime\":\"2021-09-29T15:59:00.000\",\"monthyear\":\"2021-09-29T15:59:00.000\",\"date_of_birth\":\"2021-05-12T00:00:00.000\",\"outcome_type\":\"Adoption\",\"animal_type\":\"Cat\",\"sex_upon_outcome\":\"Neutered Male\",\"age_upon_outcome\":\"4 months\",\"breed\":\"Domestic Shorthair\",\"color\":\"White/Orange Tabby\"}\\n,{\"animal_id\":\"A842918\",\"name\":\"A842918\",\"datetime\":\"2021-09-29T15:48:00.000\",\"monthyear\":\"2021-09-29T15:48:00.000\",\"date_of_birth\":\"2021-05-23T00:00:00.000\",\"outcome_type\":\"Adoption\",\"animal_type\":\"Dog\",\"sex_upon_outcome\":\"Spayed Female\",\"age_upon_outcome\":\"4 months\",\"breed\":\"German Shepherd/Border Collie\",\"color\":\"Black/White\"}\\n,{\"animal_id\":\"A841466\",\"name\":\"*Luna\",\"datetime\":\"2021-09-29T15:31:00.000\",\"monthyear\":\"2021-09-29T15:31:00.000\",\"date_of_birth\":\"2021-07-31T00:00:00.000\",\"outcome_type\":\"Adoption\",\"outcome_subtype\":\"Foster\",\"animal_type\":\"Dog\",\"sex_upon_outcome\":\"Spayed Female\",\"age_upon_outcome\":\"1 month\",\"breed\":\"Chihuahua Shorthair Mix\",\"color\":\"Tan\"}\\n,{\"animal_id\":\"A842163\",\"name\":\"Spaz\",\"datetime\":\"2021-09-29T15:29:00.000\",\"monthyear\":\"2021-09-29T15:29:00.000\",\"date_of_birth\":\"2015-09-10T00:00:00.000\",\"outcome_type\":\"Adoption\",\"animal_type\":\"Cat\",\"sex_upon_outcome\":\"Neutered Male\",\"age_upon_outcome\":\"6 years\",\"breed\":\"Domestic Shorthair Mix\",\"color\":\"Orange Tabby/White\"}\\n,{\"animal_id\":\"A843037\",\"name\":\"A843037\",\"datetime\":\"2021-09-29T15:20:00.000\",\"monthyear\":\"2021-09-29T15:20:00.000\",\"date_of_birth\":\"2021-07-25T00:00:00.000\",\"outcome_type\":\"Transfer\",\"outcome_subtype\":\"Partner\",\"animal_type\":\"Cat\",\"sex_upon_outcome\":\"Intact Male\",\"age_upon_outcome\":\"2 months\",\"breed\":\"Domestic Shorthair\",\"color\":\"Brown Tabby/White\"}\\n,{\"animal_id\":\"A842887\",\"name\":\"*Sade\",\"datetime\":\"2021-09-29T14:56:00.000\",\"monthyear\":\"2021-09-29T14:56:00.000\",\"date_of_birth\":\"2021-07-14T00:00:00.000\",\"outcome_type\":\"Adoption\",\"animal_type\":\"Dog\",\"sex_upon_outcome\":\"Spayed Female\",\"age_upon_outcome\":\"2 months\",\"breed\":\"Black Mouth Cur Mix\",\"color\":\"Tan/Black\"}\\n,{\"animal_id\":\"A841565\",\"name\":\"Amaya\",\"datetime\":\"2021-09-29T14:17:00.000\",\"monthyear\":\"2021-09-29T14:17:00.000\",\"date_of_birth\":\"2019-08-30T00:00:00.000\",\"outcome_type\":\"Adoption\",\"animal_type\":\"Dog\",\"sex_upon_outcome\":\"Spayed Female\",\"age_upon_outcome\":\"2 years\",\"breed\":\"Pit Bull\",\"color\":\"Fawn/White\"}\\n,{\"animal_id\":\"A843284\",\"name\":\"Bella\",\"datetime\":\"2021-09-29T14:06:00.000\",\"monthyear\":\"2021-09-29T14:06:00.000\",\"date_of_birth\":\"2021-07-29T00:00:00.000\",\"outcome_type\":\"Transfer\",\"outcome_subtype\":\"Partner\",\"animal_type\":\"Dog\",\"sex_upon_outcome\":\"Intact Female\",\"age_upon_outcome\":\"2 months\",\"breed\":\"Chihuahua Shorthair\",\"color\":\"Brown\"}\\n,{\"animal_id\":\"A843191\",\"name\":\"Gary\",\"datetime\":\"2021-09-29T13:48:00.000\",\"monthyear\":\"2021-09-29T13:48:00.000\",\"date_of_birth\":\"2020-10-28T00:00:00.000\",\"outcome_type\":\"Return to Owner\",\"animal_type\":\"Dog\",\"sex_upon_outcome\":\"Neutered Male\",\"age_upon_outcome\":\"11 months\",\"breed\":\"Pit Bull/Labrador Retriever\",\"color\":\"Black\"}\\n,{\"animal_id\":\"A836314\",\"name\":\"Puppernickle\",\"datetime\":\"2021-09-29T13:39:00.000\",\"monthyear\":\"2021-09-29T13:39:00.000\",\"date_of_birth\":\"2019-06-08T00:00:00.000\",\"outcome_type\":\"Adoption\",\"animal_type\":\"Dog\",\"sex_upon_outcome\":\"Neutered Male\",\"age_upon_outcome\":\"2 years\",\"breed\":\"Pit Bull Mix\",\"color\":\"White/Blue\"}\\n,{\"animal_id\":\"A841662\",\"datetime\":\"2021-09-29T13:27:00.000\",\"monthyear\":\"2021-09-29T13:27:00.000\",\"date_of_birth\":\"2021-06-16T00:00:00.000\",\"outcome_type\":\"Adoption\",\"animal_type\":\"Cat\",\"sex_upon_outcome\":\"Neutered Male\",\"age_upon_outcome\":\"3 months\",\"breed\":\"Domestic Shorthair\",\"color\":\"Brown Tabby/White\"}\\n,{\"animal_id\":\"A843002\",\"name\":\"A843002\",\"datetime\":\"2021-09-29T13:18:00.000\",\"monthyear\":\"2021-09-29T13:18:00.000\",\"date_of_birth\":\"2019-09-24T00:00:00.000\",\"outcome_type\":\"Adoption\",\"animal_type\":\"Dog\",\"sex_upon_outcome\":\"Spayed Female\",\"age_upon_outcome\":\"2 years\",\"breed\":\"Pit Bull\",\"color\":\"Black/White\"}\\n,{\"animal_id\":\"A839102\",\"datetime\":\"2021-09-29T13:05:00.000\",\"monthyear\":\"2021-09-29T13:05:00.000\",\"date_of_birth\":\"2021-07-04T00:00:00.000\",\"outcome_type\":\"Adoption\",\"outcome_subtype\":\"Foster\",\"animal_type\":\"Cat\",\"sex_upon_outcome\":\"Neutered Male\",\"age_upon_outcome\":\"2 months\",\"breed\":\"Domestic Shorthair\",\"color\":\"Brown Tabby\"}\\n,{\"animal_id\":\"A843274\",\"datetime\":\"2021-09-29T12:30:00.000\",\"monthyear\":\"2021-09-29T12:30:00.000\",\"date_of_birth\":\"2021-03-29T00:00:00.000\",\"outcome_type\":\"Euthanasia\",\"outcome_subtype\":\"Rabies Risk\",\"animal_type\":\"Other\",\"sex_upon_outcome\":\"Unknown\",\"age_upon_outcome\":\"6 months\",\"breed\":\"Skunk\",\"color\":\"Black/White\"}\\n,{\"animal_id\":\"A843045\",\"datetime\":\"2021-09-29T12:26:00.000\",\"monthyear\":\"2021-09-29T12:26:00.000\",\"date_of_birth\":\"2008-09-27T00:00:00.000\",\"outcome_type\":\"Transfer\",\"outcome_subtype\":\"Partner\",\"animal_type\":\"Dog\",\"sex_upon_outcome\":\"Neutered Male\",\"age_upon_outcome\":\"13 years\",\"breed\":\"Labrador Retriever Mix\",\"color\":\"White/Gray\"}\\n,{\"animal_id\":\"A842947\",\"name\":\"A842947\",\"datetime\":\"2021-09-29T12:26:00.000\",\"monthyear\":\"2021-09-29T12:26:00.000\",\"date_of_birth\":\"2011-09-27T00:00:00.000\",\"outcome_type\":\"Transfer\",\"outcome_subtype\":\"Partner\",\"animal_type\":\"Dog\",\"sex_upon_outcome\":\"Intact Female\",\"age_upon_outcome\":\"10 years\",\"breed\":\"Boxer\",\"color\":\"White\"}\\n,{\"animal_id\":\"A843126\",\"name\":\"A843126\",\"datetime\":\"2021-09-29T12:26:00.000\",\"monthyear\":\"2021-09-29T12:26:00.000\",\"date_of_birth\":\"2008-09-28T00:00:00.000\",\"outcome_type\":\"Transfer\",\"outcome_subtype\":\"Partner\",\"animal_type\":\"Dog\",\"sex_upon_outcome\":\"Intact Male\",\"age_upon_outcome\":\"13 years\",\"breed\":\"Chihuahua Shorthair Mix\",\"color\":\"Black/White\"}\\n,{\"animal_id\":\"A842538\",\"name\":\"Doki\",\"datetime\":\"2021-09-29T12:24:00.000\",\"monthyear\":\"2021-09-29T12:24:00.000\",\"date_of_birth\":\"2020-11-17T00:00:00.000\",\"outcome_type\":\"Transfer\",\"outcome_subtype\":\"Partner\",\"animal_type\":\"Dog\",\"sex_upon_outcome\":\"Intact Male\",\"age_upon_outcome\":\"10 months\",\"breed\":\"Siberian Husky\",\"color\":\"Black/Gray\"}\\n,{\"animal_id\":\"A842850\",\"name\":\"A842850\",\"datetime\":\"2021-09-29T12:00:00.000\",\"monthyear\":\"2021-09-29T12:00:00.000\",\"date_of_birth\":\"2021-07-22T00:00:00.000\",\"outcome_type\":\"Adoption\",\"animal_type\":\"Cat\",\"sex_upon_outcome\":\"Spayed Female\",\"age_upon_outcome\":\"2 months\",\"breed\":\"Domestic Shorthair\",\"color\":\"Orange Tabby\"}\\n,{\"animal_id\":\"A843285\",\"name\":\"Teddy\",\"datetime\":\"2021-09-29T11:41:00.000\",\"monthyear\":\"2021-09-29T11:41:00.000\",\"date_of_birth\":\"2015-09-29T00:00:00.000\",\"outcome_type\":\"Return to Owner\",\"animal_type\":\"Dog\",\"sex_upon_outcome\":\"Intact Male\",\"age_upon_outcome\":\"6 years\",\"breed\":\"Shih Tzu Mix\",\"color\":\"Gray/Black\"}\\n,{\"animal_id\":\"A836549\",\"name\":\"*Sunny\",\"datetime\":\"2021-09-29T11:38:00.000\",\"monthyear\":\"2021-09-29T11:38:00.000\",\"date_of_birth\":\"2020-06-11T00:00:00.000\",\"outcome_type\":\"Adoption\",\"outcome_subtype\":\"Foster\",\"animal_type\":\"Dog\",\"sex_upon_outcome\":\"Spayed Female\",\"age_upon_outcome\":\"1 year\",\"breed\":\"Australian Shepherd Mix\",\"color\":\"Buff/White\"}\\n,{\"animal_id\":\"A840127\",\"name\":\"*Pepper Potts\",\"datetime\":\"2021-09-29T11:36:00.000\",\"monthyear\":\"2021-09-29T11:36:00.000\",\"date_of_birth\":\"2021-07-17T00:00:00.000\",\"outcome_type\":\"Adoption\",\"outcome_subtype\":\"Foster\",\"animal_type\":\"Cat\",\"sex_upon_outcome\":\"Spayed Female\",\"age_upon_outcome\":\"2 months\",\"breed\":\"Domestic Shorthair\",\"color\":\"Orange Tabby\"}\\n,{\"animal_id\":\"A842570\",\"name\":\"*Aspen\",\"datetime\":\"2021-09-29T11:06:00.000\",\"monthyear\":\"2021-09-29T11:06:00.000\",\"date_of_birth\":\"2021-08-26T00:00:00.000\",\"outcome_type\":\"Transfer\",\"outcome_subtype\":\"Partner\",\"animal_type\":\"Cat\",\"sex_upon_outcome\":\"Intact Male\",\"age_upon_outcome\":\"4 weeks\",\"breed\":\"Domestic Shorthair\",\"color\":\"Brown Tabby\"}\\n,{\"animal_id\":\"A842006\",\"name\":\"*Mario\",\"datetime\":\"2021-09-29T11:06:00.000\",\"monthyear\":\"2021-09-29T11:06:00.000\",\"date_of_birth\":\"2021-07-24T00:00:00.000\",\"outcome_type\":\"Transfer\",\"outcome_subtype\":\"Partner\",\"animal_type\":\"Cat\",\"sex_upon_outcome\":\"Intact Male\",\"age_upon_outcome\":\"2 months\",\"breed\":\"Domestic Medium Hair Mix\",\"color\":\"Black\"}\\n,{\"animal_id\":\"A842586\",\"name\":\"*Frankie\",\"datetime\":\"2021-09-29T11:06:00.000\",\"monthyear\":\"2021-09-29T11:06:00.000\",\"date_of_birth\":\"2021-08-02T00:00:00.000\",\"outcome_type\":\"Transfer\",\"outcome_subtype\":\"Partner\",\"animal_type\":\"Cat\",\"sex_upon_outcome\":\"Intact Male\",\"age_upon_outcome\":\"1 month\",\"breed\":\"Domestic Shorthair\",\"color\":\"Black/White\"}\\n,{\"animal_id\":\"A840128\",\"name\":\"*Loki\",\"datetime\":\"2021-09-29T11:01:00.000\",\"monthyear\":\"2021-09-29T11:01:00.000\",\"date_of_birth\":\"2021-07-17T00:00:00.000\",\"outcome_type\":\"Adoption\",\"outcome_subtype\":\"Foster\",\"animal_type\":\"Cat\",\"sex_upon_outcome\":\"Neutered Male\",\"age_upon_outcome\":\"2 months\",\"breed\":\"Domestic Shorthair\",\"color\":\"Cream Tabby\"}\\n,{\"animal_id\":\"A843265\",\"name\":\"196 Grams\",\"datetime\":\"2021-09-29T11:00:00.000\",\"monthyear\":\"2021-09-29T11:00:00.000\",\"date_of_birth\":\"2021-09-22T00:00:00.000\",\"outcome_type\":\"Transfer\",\"outcome_subtype\":\"Partner\",\"animal_type\":\"Cat\",\"sex_upon_outcome\":\"Intact Female\",\"age_upon_outcome\":\"1 week\",\"breed\":\"Domestic Shorthair\",\"color\":\"Blue Tabby/White\"}\\n,{\"animal_id\":\"A843266\",\"name\":\"169 Grams\",\"datetime\":\"2021-09-29T11:00:00.000\",\"monthyear\":\"2021-09-29T11:00:00.000\",\"date_of_birth\":\"2021-09-22T00:00:00.000\",\"outcome_type\":\"Transfer\",\"outcome_subtype\":\"Partner\",\"animal_type\":\"Cat\",\"sex_upon_outcome\":\"Intact Female\",\"age_upon_outcome\":\"1 week\",\"breed\":\"Domestic Shorthair\",\"color\":\"Blue Tabby/White\"}\\n,{\"animal_id\":\"A840932\",\"name\":\"*Cocoa\",\"datetime\":\"2021-09-29T10:50:00.000\",\"monthyear\":\"2021-09-29T10:50:00.000\",\"date_of_birth\":\"2021-07-17T00:00:00.000\",\"outcome_type\":\"Adoption\",\"outcome_subtype\":\"Foster\",\"animal_type\":\"Cat\",\"sex_upon_outcome\":\"Spayed Female\",\"age_upon_outcome\":\"2 months\",\"breed\":\"Domestic Shorthair Mix\",\"color\":\"Orange Tabby\"}\\n,{\"animal_id\":\"A840931\",\"name\":\"*Smoothie\",\"datetime\":\"2021-09-29T10:48:00.000\",\"monthyear\":\"2021-09-29T10:48:00.000\",\"date_of_birth\":\"2021-07-17T00:00:00.000\",\"outcome_type\":\"Adoption\",\"outcome_subtype\":\"Foster\",\"animal_type\":\"Cat\",\"sex_upon_outcome\":\"Spayed Female\",\"age_upon_outcome\":\"2 months\",\"breed\":\"Domestic Shorthair Mix\",\"color\":\"Orange Tabby/White\"}\\n,{\"animal_id\":\"A836654\",\"name\":\"A836654\",\"datetime\":\"2021-09-29T10:39:00.000\",\"monthyear\":\"2021-09-29T10:39:00.000\",\"date_of_birth\":\"2021-06-12T00:00:00.000\",\"outcome_type\":\"Adoption\",\"outcome_subtype\":\"Foster\",\"animal_type\":\"Cat\",\"sex_upon_outcome\":\"Spayed Female\",\"age_upon_outcome\":\"3 months\",\"breed\":\"Domestic Shorthair\",\"color\":\"White/Orange Tabby\"}\\n,{\"animal_id\":\"A841224\",\"name\":\"*Lily\",\"datetime\":\"2021-09-29T10:36:00.000\",\"monthyear\":\"2021-09-29T10:36:00.000\",\"date_of_birth\":\"2021-07-10T00:00:00.000\",\"outcome_type\":\"Adoption\",\"outcome_subtype\":\"Foster\",\"animal_type\":\"Cat\",\"sex_upon_outcome\":\"Spayed Female\",\"age_upon_outcome\":\"2 months\",\"breed\":\"Domestic Shorthair\",\"color\":\"Calico\"}\\n,{\"animal_id\":\"A842988\",\"name\":\"A842988\",\"datetime\":\"2021-09-29T10:29:00.000\",\"monthyear\":\"2021-09-29T10:29:00.000\",\"date_of_birth\":\"2021-04-24T00:00:00.000\",\"outcome_type\":\"Transfer\",\"outcome_subtype\":\"Partner\",\"animal_type\":\"Dog\",\"sex_upon_outcome\":\"Intact Female\",\"age_upon_outcome\":\"5 months\",\"breed\":\"Border Collie\",\"color\":\"Tricolor\"}\\n,{\"animal_id\":\"A841223\",\"name\":\"*Rose\",\"datetime\":\"2021-09-29T10:29:00.000\",\"monthyear\":\"2021-09-29T10:29:00.000\",\"date_of_birth\":\"2021-07-10T00:00:00.000\",\"outcome_type\":\"Adoption\",\"outcome_subtype\":\"Foster\",\"animal_type\":\"Cat\",\"sex_upon_outcome\":\"Spayed Female\",\"age_upon_outcome\":\"2 months\",\"breed\":\"Domestic Shorthair\",\"color\":\"White/Cream\"}\\n,{\"animal_id\":\"A841221\",\"name\":\"*Tulip\",\"datetime\":\"2021-09-29T10:26:00.000\",\"monthyear\":\"2021-09-29T10:26:00.000\",\"date_of_birth\":\"2021-07-10T00:00:00.000\",\"outcome_type\":\"Adoption\",\"outcome_subtype\":\"Foster\",\"animal_type\":\"Cat\",\"sex_upon_outcome\":\"Spayed Female\",\"age_upon_outcome\":\"2 months\",\"breed\":\"Domestic Shorthair\",\"color\":\"White/Cream Tabby\"}\\n,{\"animal_id\":\"A841075\",\"name\":\"A841075\",\"datetime\":\"2021-09-29T10:23:00.000\",\"monthyear\":\"2021-09-29T10:23:00.000\",\"date_of_birth\":\"2021-07-19T00:00:00.000\",\"outcome_type\":\"Adoption\",\"outcome_subtype\":\"Foster\",\"animal_type\":\"Dog\",\"sex_upon_outcome\":\"Neutered Male\",\"age_upon_outcome\":\"2 months\",\"breed\":\"Chihuahua Shorthair Mix\",\"color\":\"Brown\"}\\n,{\"animal_id\":\"A840558\",\"name\":\"*Dakiti\",\"datetime\":\"2021-09-29T00:00:00.000\",\"monthyear\":\"2021-09-29T00:00:00.000\",\"date_of_birth\":\"2021-03-10T00:00:00.000\",\"outcome_type\":\"Transfer\",\"outcome_subtype\":\"Snr\",\"animal_type\":\"Cat\",\"sex_upon_outcome\":\"Neutered Male\",\"age_upon_outcome\":\"6 months\",\"breed\":\"Domestic Shorthair Mix\",\"color\":\"Brown Tabby/White\"}\\n,{\"animal_id\":\"A843251\",\"datetime\":\"2021-09-28T18:35:00.000\",\"monthyear\":\"2021-09-28T18:35:00.000\",\"date_of_birth\":\"2020-09-28T00:00:00.000\",\"outcome_type\":\"Euthanasia\",\"outcome_subtype\":\"Rabies Risk\",\"animal_type\":\"Other\",\"sex_upon_outcome\":\"Unknown\",\"age_upon_outcome\":\"1 year\",\"breed\":\"Fox\",\"color\":\"Red/Gray\"}\\n,{\"animal_id\":\"A841586\",\"name\":\"Josephine\",\"datetime\":\"2021-09-28T18:23:00.000\",\"monthyear\":\"2021-09-28T18:23:00.000\",\"date_of_birth\":\"2021-03-30T00:00:00.000\",\"outcome_type\":\"Adoption\",\"animal_type\":\"Cat\",\"sex_upon_outcome\":\"Spayed Female\",\"age_upon_outcome\":\"5 months\",\"breed\":\"Domestic Shorthair\",\"color\":\"Black/White\"}\\n,{\"animal_id\":\"A842931\",\"name\":\"Harley\",\"datetime\":\"2021-09-28T17:27:00.000\",\"monthyear\":\"2021-09-28T17:27:00.000\",\"date_of_birth\":\"2021-07-16T00:00:00.000\",\"outcome_type\":\"Adoption\",\"animal_type\":\"Dog\",\"sex_upon_outcome\":\"Spayed Female\",\"age_upon_outcome\":\"2 months\",\"breed\":\"Labrador Retriever Mix\",\"color\":\"Black/White\"}\\n,{\"animal_id\":\"A842954\",\"name\":\"Angel\",\"datetime\":\"2021-09-28T17:05:00.000\",\"monthyear\":\"2021-09-28T17:05:00.000\",\"date_of_birth\":\"2021-02-23T00:00:00.000\",\"outcome_type\":\"Adoption\",\"animal_type\":\"Dog\",\"sex_upon_outcome\":\"Spayed Female\",\"age_upon_outcome\":\"7 months\",\"breed\":\"Border Collie Mix\",\"color\":\"White/Black\"}\\n,{\"animal_id\":\"A842916\",\"datetime\":\"2021-09-28T16:59:00.000\",\"monthyear\":\"2021-09-28T16:59:00.000\",\"date_of_birth\":\"2021-06-23T00:00:00.000\",\"outcome_type\":\"Adoption\",\"animal_type\":\"Dog\",\"sex_upon_outcome\":\"Neutered Male\",\"age_upon_outcome\":\"3 months\",\"breed\":\"Chihuahua Shorthair/Chihuahua Shorthair\",\"color\":\"White/Tan\"}\\n,{\"animal_id\":\"A842646\",\"name\":\"*Doodle\",\"datetime\":\"2021-09-28T16:58:00.000\",\"monthyear\":\"2021-09-28T16:58:00.000\",\"date_of_birth\":\"2021-06-19T00:00:00.000\",\"outcome_type\":\"Adoption\",\"animal_type\":\"Dog\",\"sex_upon_outcome\":\"Neutered Male\",\"age_upon_outcome\":\"3 months\",\"breed\":\"Great Pyrenees Mix\",\"color\":\"White/Tan\"}\\n,{\"animal_id\":\"A842712\",\"name\":\"Kane\",\"datetime\":\"2021-09-28T16:53:00.000\",\"monthyear\":\"2021-09-28T16:53:00.000\",\"date_of_birth\":\"2020-08-20T00:00:00.000\",\"outcome_type\":\"Adoption\",\"animal_type\":\"Dog\",\"sex_upon_outcome\":\"Neutered Male\",\"age_upon_outcome\":\"1 year\",\"breed\":\"St. Bernard Smooth Coat/Mastiff\",\"color\":\"Brown Brindle/White\"}\\n,{\"animal_id\":\"A842917\",\"name\":\"Buster\",\"datetime\":\"2021-09-28T16:46:00.000\",\"monthyear\":\"2021-09-28T16:46:00.000\",\"date_of_birth\":\"2021-06-23T00:00:00.000\",\"outcome_type\":\"Adoption\",\"animal_type\":\"Dog\",\"sex_upon_outcome\":\"Neutered Male\",\"age_upon_outcome\":\"3 months\",\"breed\":\"Chihuahua Shorthair\",\"color\":\"White/Tan\"}\\n,{\"animal_id\":\"A841954\",\"name\":\"*Raj\",\"datetime\":\"2021-09-28T16:41:00.000\",\"monthyear\":\"2021-09-28T16:41:00.000\",\"date_of_birth\":\"2021-08-07T00:00:00.000\",\"outcome_type\":\"Transfer\",\"outcome_subtype\":\"Partner\",\"animal_type\":\"Cat\",\"sex_upon_outcome\":\"Intact Male\",\"age_upon_outcome\":\"1 month\",\"breed\":\"Domestic Shorthair\",\"color\":\"Blue/White\"}\\n,{\"animal_id\":\"A841952\",\"name\":\"*Howard\",\"datetime\":\"2021-09-28T16:41:00.000\",\"monthyear\":\"2021-09-28T16:41:00.000\",\"date_of_birth\":\"2021-08-07T00:00:00.000\",\"outcome_type\":\"Transfer\",\"outcome_subtype\":\"Partner\",\"animal_type\":\"Cat\",\"sex_upon_outcome\":\"Intact Male\",\"age_upon_outcome\":\"1 month\",\"breed\":\"Domestic Shorthair\",\"color\":\"Blue Tabby/White\"}\\n,{\"animal_id\":\"A842404\",\"datetime\":\"2021-09-28T16:40:00.000\",\"monthyear\":\"2021-09-28T16:40:00.000\",\"date_of_birth\":\"2019-09-15T00:00:00.000\",\"outcome_type\":\"Transfer\",\"outcome_subtype\":\"Partner\",\"animal_type\":\"Cat\",\"sex_upon_outcome\":\"Spayed Female\",\"age_upon_outcome\":\"2 years\",\"breed\":\"Domestic Shorthair\",\"color\":\"Tortie\"}\\n,{\"animal_id\":\"A841638\",\"name\":\"A841638\",\"datetime\":\"2021-09-28T16:40:00.000\",\"monthyear\":\"2021-09-28T16:40:00.000\",\"date_of_birth\":\"2021-07-01T00:00:00.000\",\"outcome_type\":\"Transfer\",\"outcome_subtype\":\"Partner\",\"animal_type\":\"Cat\",\"sex_upon_outcome\":\"Intact Male\",\"age_upon_outcome\":\"2 months\",\"breed\":\"Domestic Shorthair\",\"color\":\"Brown Tabby\"}\\n,{\"animal_id\":\"A841637\",\"name\":\"A841637\",\"datetime\":\"2021-09-28T16:37:00.000\",\"monthyear\":\"2021-09-28T16:37:00.000\",\"date_of_birth\":\"2021-07-01T00:00:00.000\",\"outcome_type\":\"Transfer\",\"outcome_subtype\":\"Partner\",\"animal_type\":\"Cat\",\"sex_upon_outcome\":\"Intact Male\",\"age_upon_outcome\":\"2 months\",\"breed\":\"Domestic Shorthair\",\"color\":\"Brown Tabby\"}\\n,{\"animal_id\":\"A841636\",\"name\":\"A841636\",\"datetime\":\"2021-09-28T16:37:00.000\",\"monthyear\":\"2021-09-28T16:37:00.000\",\"date_of_birth\":\"2021-07-01T00:00:00.000\",\"outcome_type\":\"Transfer\",\"outcome_subtype\":\"Partner\",\"animal_type\":\"Cat\",\"sex_upon_outcome\":\"Intact Male\",\"age_upon_outcome\":\"2 months\",\"breed\":\"Domestic Shorthair\",\"color\":\"Blue Tabby\"}\\n,{\"animal_id\":\"A811565\",\"name\":\"Frodo\",\"datetime\":\"2021-09-28T15:56:00.000\",\"monthyear\":\"2021-09-28T15:56:00.000\",\"date_of_birth\":\"2018-01-05T00:00:00.000\",\"outcome_type\":\"Return to Owner\",\"animal_type\":\"Dog\",\"sex_upon_outcome\":\"Neutered Male\",\"age_upon_outcome\":\"3 years\",\"breed\":\"Siberian Husky\",\"color\":\"Black/Gray\"}\\n,{\"animal_id\":\"A840025\",\"name\":\"A840025\",\"datetime\":\"2021-09-28T15:29:00.000\",\"monthyear\":\"2021-09-28T15:29:00.000\",\"date_of_birth\":\"2021-07-25T00:00:00.000\",\"outcome_type\":\"Adoption\",\"outcome_subtype\":\"Foster\",\"animal_type\":\"Dog\",\"sex_upon_outcome\":\"Spayed Female\",\"age_upon_outcome\":\"2 months\",\"breed\":\"Pit Bull Mix\",\"color\":\"Blue/White\"}\\n,{\"animal_id\":\"A843234\",\"datetime\":\"2021-09-28T15:28:00.000\",\"monthyear\":\"2021-09-28T15:28:00.000\",\"date_of_birth\":\"2021-09-10T00:00:00.000\",\"outcome_type\":\"Euthanasia\",\"outcome_subtype\":\"Suffering\",\"animal_type\":\"Cat\",\"sex_upon_outcome\":\"Unknown\",\"age_upon_outcome\":\"2 weeks\",\"breed\":\"Domestic Shorthair\",\"color\":\"Lilac Point\"}\\n,{\"animal_id\":\"A836859\",\"name\":\"*Amiga\",\"datetime\":\"2021-09-28T15:23:00.000\",\"monthyear\":\"2021-09-28T15:23:00.000\",\"date_of_birth\":\"2019-06-15T00:00:00.000\",\"outcome_type\":\"Adoption\",\"outcome_subtype\":\"Foster\",\"animal_type\":\"Dog\",\"sex_upon_outcome\":\"Spayed Female\",\"age_upon_outcome\":\"2 years\",\"breed\":\"Pit Bull\",\"color\":\"Blue/White\"}\\n,{\"animal_id\":\"A842560\",\"name\":\"Jordan\",\"datetime\":\"2021-09-28T15:10:00.000\",\"monthyear\":\"2021-09-28T15:10:00.000\",\"date_of_birth\":\"2016-03-17T00:00:00.000\",\"outcome_type\":\"Return to Owner\",\"animal_type\":\"Cat\",\"sex_upon_outcome\":\"Neutered Male\",\"age_upon_outcome\":\"5 years\",\"breed\":\"Domestic Shorthair\",\"color\":\"Blue Tabby\"}\\n,{\"animal_id\":\"A843117\",\"name\":\"209G\",\"datetime\":\"2021-09-28T15:00:00.000\",\"monthyear\":\"2021-09-28T15:00:00.000\",\"date_of_birth\":\"2021-09-20T00:00:00.000\",\"outcome_type\":\"Transfer\",\"outcome_subtype\":\"Partner\",\"animal_type\":\"Cat\",\"sex_upon_outcome\":\"Intact Female\",\"age_upon_outcome\":\"1 weeks\",\"breed\":\"Domestic Shorthair\",\"color\":\"Orange Tabby\"}\\n,{\"animal_id\":\"A843119\",\"name\":\"188G\",\"datetime\":\"2021-09-28T15:00:00.000\",\"monthyear\":\"2021-09-28T15:00:00.000\",\"date_of_birth\":\"2021-09-20T00:00:00.000\",\"outcome_type\":\"Transfer\",\"outcome_subtype\":\"Partner\",\"animal_type\":\"Cat\",\"sex_upon_outcome\":\"Intact Female\",\"age_upon_outcome\":\"1 weeks\",\"breed\":\"Domestic Shorthair\",\"color\":\"Brown Tabby\"}\\n,{\"animal_id\":\"A843118\",\"name\":\"189G\",\"datetime\":\"2021-09-28T15:00:00.000\",\"monthyear\":\"2021-09-28T15:00:00.000\",\"date_of_birth\":\"2021-09-20T00:00:00.000\",\"outcome_type\":\"Transfer\",\"outcome_subtype\":\"Partner\",\"animal_type\":\"Cat\",\"sex_upon_outcome\":\"Intact Female\",\"age_upon_outcome\":\"1 weeks\",\"breed\":\"Domestic Shorthair\",\"color\":\"Orange Tabby\"}\\n,{\"animal_id\":\"A843116\",\"name\":\"190G\",\"datetime\":\"2021-09-28T15:00:00.000\",\"monthyear\":\"2021-09-28T15:00:00.000\",\"date_of_birth\":\"2021-09-20T00:00:00.000\",\"outcome_type\":\"Transfer\",\"outcome_subtype\":\"Partner\",\"animal_type\":\"Cat\",\"sex_upon_outcome\":\"Intact Male\",\"age_upon_outcome\":\"1 weeks\",\"breed\":\"Domestic Shorthair\",\"color\":\"Orange Tabby\"}\\n,{\"animal_id\":\"A843153\",\"datetime\":\"2021-09-28T13:57:00.000\",\"monthyear\":\"2021-09-28T13:57:00.000\",\"date_of_birth\":\"2021-08-27T00:00:00.000\",\"outcome_type\":\"Transfer\",\"outcome_subtype\":\"Partner\",\"animal_type\":\"Other\",\"sex_upon_outcome\":\"Unknown\",\"age_upon_outcome\":\"4 weeks\",\"breed\":\"Raccoon\",\"color\":\"Gray/Black\"}\\n,{\"animal_id\":\"A843219\",\"datetime\":\"2021-09-28T13:31:00.000\",\"monthyear\":\"2021-09-28T13:31:00.000\",\"date_of_birth\":\"2021-04-28T00:00:00.000\",\"outcome_type\":\"Euthanasia\",\"outcome_subtype\":\"Suffering\",\"animal_type\":\"Other\",\"sex_upon_outcome\":\"Unknown\",\"age_upon_outcome\":\"5 months\",\"breed\":\"Raccoon\",\"color\":\"Gray/Black\"}\\n,{\"animal_id\":\"A821731\",\"name\":\"*Philip\",\"datetime\":\"2021-09-28T12:43:00.000\",\"monthyear\":\"2021-09-28T12:43:00.000\",\"date_of_birth\":\"2014-08-20T00:00:00.000\",\"outcome_type\":\"Transfer\",\"outcome_subtype\":\"Partner\",\"animal_type\":\"Dog\",\"sex_upon_outcome\":\"Neutered Male\",\"age_upon_outcome\":\"7 years\",\"breed\":\"Pit Bull\",\"color\":\"White/Brown\"}\\n,{\"animal_id\":\"A841248\",\"name\":\"A841248\",\"datetime\":\"2021-09-28T11:33:00.000\",\"monthyear\":\"2021-09-28T11:33:00.000\",\"date_of_birth\":\"2019-08-24T00:00:00.000\",\"outcome_type\":\"Euthanasia\",\"outcome_subtype\":\"Aggressive\",\"animal_type\":\"Dog\",\"sex_upon_outcome\":\"Intact Female\",\"age_upon_outcome\":\"2 years\",\"breed\":\"Pit Bull\",\"color\":\"Blue\"}\\n,{\"animal_id\":\"A841245\",\"name\":\"A841245\",\"datetime\":\"2021-09-28T11:31:00.000\",\"monthyear\":\"2021-09-28T11:31:00.000\",\"date_of_birth\":\"2019-08-24T00:00:00.000\",\"outcome_type\":\"Euthanasia\",\"outcome_subtype\":\"Aggressive\",\"animal_type\":\"Dog\",\"sex_upon_outcome\":\"Intact Male\",\"age_upon_outcome\":\"2 years\",\"breed\":\"Pit Bull\",\"color\":\"Brown Merle/White\"}\\n,{\"animal_id\":\"A836558\",\"name\":\"*Freddie\",\"datetime\":\"2021-09-28T10:40:00.000\",\"monthyear\":\"2021-09-28T10:40:00.000\",\"date_of_birth\":\"2020-07-09T00:00:00.000\",\"outcome_type\":\"Transfer\",\"outcome_subtype\":\"Out State\",\"animal_type\":\"Dog\",\"sex_upon_outcome\":\"Neutered Male\",\"age_upon_outcome\":\"1 year\",\"breed\":\"Labrador Retriever Mix\",\"color\":\"Chocolate\"}\\n,{\"animal_id\":\"A842825\",\"datetime\":\"2021-09-28T10:39:00.000\",\"monthyear\":\"2021-09-28T10:39:00.000\",\"date_of_birth\":\"2021-09-18T00:00:00.000\",\"outcome_type\":\"Transfer\",\"outcome_subtype\":\"Out State\",\"animal_type\":\"Dog\",\"sex_upon_outcome\":\"Intact Male\",\"age_upon_outcome\":\"1 weeks\",\"breed\":\"Alaskan Husky/German Shepherd\",\"color\":\"Tan/White\"}\\n,{\"animal_id\":\"A842824\",\"datetime\":\"2021-09-28T10:38:00.000\",\"monthyear\":\"2021-09-28T10:38:00.000\",\"date_of_birth\":\"2021-09-18T00:00:00.000\",\"outcome_type\":\"Transfer\",\"outcome_subtype\":\"Out State\",\"animal_type\":\"Dog\",\"sex_upon_outcome\":\"Intact Female\",\"age_upon_outcome\":\"1 weeks\",\"breed\":\"Alaskan Husky/German Shepherd\",\"color\":\"Black/White\"}\\n,{\"animal_id\":\"A842823\",\"datetime\":\"2021-09-28T10:37:00.000\",\"monthyear\":\"2021-09-28T10:37:00.000\",\"date_of_birth\":\"2021-09-18T00:00:00.000\",\"outcome_type\":\"Transfer\",\"outcome_subtype\":\"Out State\",\"animal_type\":\"Dog\",\"sex_upon_outcome\":\"Intact Female\",\"age_upon_outcome\":\"1 weeks\",\"breed\":\"Alaskan Husky/German Shepherd\",\"color\":\"Black\"}\\n,{\"animal_id\":\"A842822\",\"datetime\":\"2021-09-28T10:36:00.000\",\"monthyear\":\"2021-09-28T10:36:00.000\",\"date_of_birth\":\"2021-09-18T00:00:00.000\",\"outcome_type\":\"Transfer\",\"outcome_subtype\":\"Out State\",\"animal_type\":\"Dog\",\"sex_upon_outcome\":\"Intact Female\",\"age_upon_outcome\":\"1 weeks\",\"breed\":\"Alaskan Husky/German Shepherd\",\"color\":\"Black/White\"}\\n,{\"animal_id\":\"A842820\",\"datetime\":\"2021-09-28T10:35:00.000\",\"monthyear\":\"2021-09-28T10:35:00.000\",\"date_of_birth\":\"2021-09-18T00:00:00.000\",\"outcome_type\":\"Transfer\",\"outcome_subtype\":\"Out State\",\"animal_type\":\"Dog\",\"sex_upon_outcome\":\"Intact Male\",\"age_upon_outcome\":\"1 weeks\",\"breed\":\"Alaskan Husky/German Shepherd\",\"color\":\"Black/White\"}\\n,{\"animal_id\":\"A842821\",\"datetime\":\"2021-09-28T10:35:00.000\",\"monthyear\":\"2021-09-28T10:35:00.000\",\"date_of_birth\":\"2021-09-18T00:00:00.000\",\"outcome_type\":\"Transfer\",\"outcome_subtype\":\"Out State\",\"animal_type\":\"Dog\",\"sex_upon_outcome\":\"Intact Female\",\"age_upon_outcome\":\"1 weeks\",\"breed\":\"Alaskan Husky/German Shepherd\",\"color\":\"Black/White\"}\\n,{\"animal_id\":\"A842819\",\"datetime\":\"2021-09-28T10:34:00.000\",\"monthyear\":\"2021-09-28T10:34:00.000\",\"date_of_birth\":\"2021-09-18T00:00:00.000\",\"outcome_type\":\"Transfer\",\"outcome_subtype\":\"Out State\",\"animal_type\":\"Dog\",\"sex_upon_outcome\":\"Intact Male\",\"age_upon_outcome\":\"1 weeks\",\"breed\":\"Alaskan Husky/German Shepherd\",\"color\":\"Black/White\"}\\n,{\"animal_id\":\"A842818\",\"datetime\":\"2021-09-28T10:33:00.000\",\"monthyear\":\"2021-09-28T10:33:00.000\",\"date_of_birth\":\"2021-09-18T00:00:00.000\",\"outcome_type\":\"Transfer\",\"outcome_subtype\":\"Out State\",\"animal_type\":\"Dog\",\"sex_upon_outcome\":\"Intact Female\",\"age_upon_outcome\":\"1 weeks\",\"breed\":\"Alaskan Husky/German Shepherd\",\"color\":\"Black/Brown\"}\\n,{\"animal_id\":\"A842817\",\"datetime\":\"2021-09-28T10:32:00.000\",\"monthyear\":\"2021-09-28T10:32:00.000\",\"date_of_birth\":\"2021-09-18T00:00:00.000\",\"outcome_type\":\"Transfer\",\"outcome_subtype\":\"Out State\",\"animal_type\":\"Dog\",\"sex_upon_outcome\":\"Intact Female\",\"age_upon_outcome\":\"1 weeks\",\"breed\":\"Alaskan Husky/German Shepherd\",\"color\":\"Black/Brown\"}\\n,{\"animal_id\":\"A842546\",\"name\":\"Rosa\",\"datetime\":\"2021-09-28T10:31:00.000\",\"monthyear\":\"2021-09-28T10:31:00.000\",\"date_of_birth\":\"2021-04-17T00:00:00.000\",\"outcome_type\":\"Transfer\",\"outcome_subtype\":\"Out State\",\"animal_type\":\"Dog\",\"sex_upon_outcome\":\"Intact Female\",\"age_upon_outcome\":\"5 months\",\"breed\":\"Dachshund Mix\",\"color\":\"Tan\"}\\n,{\"animal_id\":\"A842675\",\"name\":\"*Short Cake\",\"datetime\":\"2021-09-28T10:31:00.000\",\"monthyear\":\"2021-09-28T10:31:00.000\",\"date_of_birth\":\"2020-10-20T00:00:00.000\",\"outcome_type\":\"Transfer\",\"outcome_subtype\":\"Out State\",\"animal_type\":\"Dog\",\"sex_upon_outcome\":\"Intact Male\",\"age_upon_outcome\":\"11 months\",\"breed\":\"Chihuahua Shorthair/Chinese Crested\",\"color\":\"Tan/Tan\"}\\n,{\"animal_id\":\"A842545\",\"name\":\"Lila\",\"datetime\":\"2021-09-28T10:30:00.000\",\"monthyear\":\"2021-09-28T10:30:00.000\",\"date_of_birth\":\"2021-04-17T00:00:00.000\",\"outcome_type\":\"Transfer\",\"outcome_subtype\":\"Out State\",\"animal_type\":\"Dog\",\"sex_upon_outcome\":\"Intact Female\",\"age_upon_outcome\":\"5 months\",\"breed\":\"Dachshund Mix\",\"color\":\"Tan\"}\\n,{\"animal_id\":\"A842547\",\"name\":\"Flora\",\"datetime\":\"2021-09-28T10:30:00.000\",\"monthyear\":\"2021-09-28T10:30:00.000\",\"date_of_birth\":\"2019-09-17T00:00:00.000\",\"outcome_type\":\"Transfer\",\"outcome_subtype\":\"Out State\",\"animal_type\":\"Dog\",\"sex_upon_outcome\":\"Intact Female\",\"age_upon_outcome\":\"2 years\",\"breed\":\"Dachshund Mix\",\"color\":\"Black/Red\"}\\n,{\"animal_id\":\"A842614\",\"name\":\"*Jelly\",\"datetime\":\"2021-09-28T10:29:00.000\",\"monthyear\":\"2021-09-28T10:29:00.000\",\"date_of_birth\":\"2021-05-01T00:00:00.000\",\"outcome_type\":\"Transfer\",\"outcome_subtype\":\"Out State\",\"animal_type\":\"Dog\",\"sex_upon_outcome\":\"Intact Female\",\"age_upon_outcome\":\"4 months\",\"breed\":\"Border Collie/Labrador Retriever\",\"color\":\"Black/White\"}\\n,{\"animal_id\":\"A842713\",\"name\":\"*Snickers\",\"datetime\":\"2021-09-28T10:29:00.000\",\"monthyear\":\"2021-09-28T10:29:00.000\",\"date_of_birth\":\"2020-09-20T00:00:00.000\",\"outcome_type\":\"Transfer\",\"outcome_subtype\":\"Out State\",\"animal_type\":\"Dog\",\"sex_upon_outcome\":\"Intact Female\",\"age_upon_outcome\":\"1 year\",\"breed\":\"Australian Cattle Dog Mix\",\"color\":\"Tan/Tricolor\"}\\n,{\"animal_id\":\"A842615\",\"name\":\"*Peanut Butter\",\"datetime\":\"2021-09-28T10:29:00.000\",\"monthyear\":\"2021-09-28T10:29:00.000\",\"date_of_birth\":\"2021-05-01T00:00:00.000\",\"outcome_type\":\"Transfer\",\"outcome_subtype\":\"Out State\",\"animal_type\":\"Dog\",\"sex_upon_outcome\":\"Intact Male\",\"age_upon_outcome\":\"4 months\",\"breed\":\"Black Mouth Cur Mix\",\"color\":\"Brown\"}\\n,{\"animal_id\":\"A842569\",\"name\":\"*Elsa\",\"datetime\":\"2021-09-28T10:28:00.000\",\"monthyear\":\"2021-09-28T10:28:00.000\",\"date_of_birth\":\"2021-03-18T00:00:00.000\",\"outcome_type\":\"Transfer\",\"outcome_subtype\":\"Out State\",\"animal_type\":\"Dog\",\"sex_upon_outcome\":\"Intact Female\",\"age_upon_outcome\":\"6 months\",\"breed\":\"Border Collie Mix\",\"color\":\"White/Tan\"}\\n,{\"animal_id\":\"A842509\",\"name\":\"Caramel\",\"datetime\":\"2021-09-28T10:28:00.000\",\"monthyear\":\"2021-09-28T10:28:00.000\",\"date_of_birth\":\"2020-09-16T00:00:00.000\",\"outcome_type\":\"Transfer\",\"outcome_subtype\":\"Out State\",\"animal_type\":\"Dog\",\"sex_upon_outcome\":\"Intact Female\",\"age_upon_outcome\":\"1 year\",\"breed\":\"Doberman Pinsch\",\"color\":\"Red/White\"}\\n,{\"animal_id\":\"A842815\",\"name\":\"*Ophelia\",\"datetime\":\"2021-09-28T10:27:00.000\",\"monthyear\":\"2021-09-28T10:27:00.000\",\"date_of_birth\":\"2018-11-21T00:00:00.000\",\"outcome_type\":\"Transfer\",\"outcome_subtype\":\"Out State\",\"animal_type\":\"Dog\",\"sex_upon_outcome\":\"Intact Female\",\"age_upon_outcome\":\"2 years\",\"breed\":\"Alaskan Husky/German Shepherd\",\"color\":\"Tan/White\"}\\n,{\"animal_id\":\"A840767\",\"name\":\"*Guenivere\",\"datetime\":\"2021-09-28T10:27:00.000\",\"monthyear\":\"2021-09-28T10:27:00.000\",\"date_of_birth\":\"2020-12-13T00:00:00.000\",\"outcome_type\":\"Transfer\",\"outcome_subtype\":\"Out State\",\"animal_type\":\"Dog\",\"sex_upon_outcome\":\"Intact Female\",\"age_upon_outcome\":\"9 months\",\"breed\":\"Labrador Retriever Mix\",\"color\":\"Brown/Tan\"}\\n,{\"animal_id\":\"A835168\",\"name\":\"*Rogan\",\"datetime\":\"2021-09-28T10:26:00.000\",\"monthyear\":\"2021-09-28T10:26:00.000\",\"date_of_birth\":\"2020-05-24T00:00:00.000\",\"outcome_type\":\"Transfer\",\"outcome_subtype\":\"Out State\",\"animal_type\":\"Dog\",\"sex_upon_outcome\":\"Neutered Male\",\"age_upon_outcome\":\"1 year\",\"breed\":\"Labrador Retriever Mix\",\"color\":\"Black/White\"}\\n,{\"animal_id\":\"A841911\",\"name\":\"Chloe\",\"datetime\":\"2021-09-28T10:26:00.000\",\"monthyear\":\"2021-09-28T10:26:00.000\",\"date_of_birth\":\"2020-03-05T00:00:00.000\",\"outcome_type\":\"Transfer\",\"outcome_subtype\":\"Out State\",\"animal_type\":\"Dog\",\"sex_upon_outcome\":\"Spayed Female\",\"age_upon_outcome\":\"1 year\",\"breed\":\"Labrador Retriever Mix\",\"color\":\"White/Brown\"}\\n,{\"animal_id\":\"A841203\",\"name\":\"Su-Ji\",\"datetime\":\"2021-09-28T10:26:00.000\",\"monthyear\":\"2021-09-28T10:26:00.000\",\"date_of_birth\":\"2016-08-23T00:00:00.000\",\"outcome_type\":\"Transfer\",\"outcome_subtype\":\"Out State\",\"animal_type\":\"Dog\",\"sex_upon_outcome\":\"Spayed Female\",\"age_upon_outcome\":\"5 years\",\"breed\":\"Beagle/Labrador Retriever\",\"color\":\"Brown/White\"}\\n,{\"animal_id\":\"A839192\",\"name\":\"*Serenity\",\"datetime\":\"2021-09-28T10:25:00.000\",\"monthyear\":\"2021-09-28T10:25:00.000\",\"date_of_birth\":\"2016-07-18T00:00:00.000\",\"outcome_type\":\"Transfer\",\"outcome_subtype\":\"Out State\",\"animal_type\":\"Dog\",\"sex_upon_outcome\":\"Spayed Female\",\"age_upon_outcome\":\"5 years\",\"breed\":\"Border Collie/Labrador Retriever\",\"color\":\"Black/White\"}\\n,{\"animal_id\":\"A840081\",\"name\":\"*Bilbo Waggins\",\"datetime\":\"2021-09-28T10:25:00.000\",\"monthyear\":\"2021-09-28T10:25:00.000\",\"date_of_birth\":\"2019-08-02T00:00:00.000\",\"outcome_type\":\"Transfer\",\"outcome_subtype\":\"Out State\",\"animal_type\":\"Dog\",\"sex_upon_outcome\":\"Neutered Male\",\"age_upon_outcome\":\"2 years\",\"breed\":\"Border Collie/Labrador Retriever\",\"color\":\"Black/White\"}\\n,{\"animal_id\":\"A843187\",\"datetime\":\"2021-09-28T10:24:00.000\",\"monthyear\":\"2021-09-28T10:24:00.000\",\"date_of_birth\":\"2020-11-28T00:00:00.000\",\"outcome_type\":\"Euthanasia\",\"outcome_subtype\":\"Suffering\",\"animal_type\":\"Cat\",\"sex_upon_outcome\":\"Intact Male\",\"age_upon_outcome\":\"9 months\",\"breed\":\"Domestic Shorthair\",\"color\":\"Orange Tabby\"}\\n,{\"animal_id\":\"A831304\",\"name\":\"Lola\",\"datetime\":\"2021-09-28T10:24:00.000\",\"monthyear\":\"2021-09-28T10:24:00.000\",\"date_of_birth\":\"2019-03-25T00:00:00.000\",\"outcome_type\":\"Transfer\",\"outcome_subtype\":\"Out State\",\"animal_type\":\"Dog\",\"sex_upon_outcome\":\"Spayed Female\",\"age_upon_outcome\":\"2 years\",\"breed\":\"Alaskan Husky Mix\",\"color\":\"Black/White\"}\\n,{\"animal_id\":\"A840942\",\"name\":\"*Brutus\",\"datetime\":\"2021-09-28T10:23:00.000\",\"monthyear\":\"2021-09-28T10:23:00.000\",\"date_of_birth\":\"2019-08-17T00:00:00.000\",\"outcome_type\":\"Transfer\",\"outcome_subtype\":\"Out State\",\"animal_type\":\"Dog\",\"sex_upon_outcome\":\"Neutered Male\",\"age_upon_outcome\":\"2 years\",\"breed\":\"English Bulldog Mix\",\"color\":\"Tan/White\"}\\n,{\"animal_id\":\"A837608\",\"name\":\"*Colonel\",\"datetime\":\"2021-09-28T10:22:00.000\",\"monthyear\":\"2021-09-28T10:22:00.000\",\"date_of_birth\":\"2019-06-25T00:00:00.000\",\"outcome_type\":\"Transfer\",\"outcome_subtype\":\"Out State\",\"animal_type\":\"Dog\",\"sex_upon_outcome\":\"Neutered Male\",\"age_upon_outcome\":\"2 years\",\"breed\":\"Great Dane/Dalmatian\",\"color\":\"White/Black\"}\\n,{\"animal_id\":\"A839590\",\"datetime\":\"2021-09-27T18:57:00.000\",\"monthyear\":\"2021-09-27T18:57:00.000\",\"date_of_birth\":\"2021-05-23T00:00:00.000\",\"outcome_type\":\"Adoption\",\"animal_type\":\"Cat\",\"sex_upon_outcome\":\"Neutered Male\",\"age_upon_outcome\":\"4 months\",\"breed\":\"Domestic Shorthair\",\"color\":\"Black Smoke\"}\\n,{\"animal_id\":\"A840472\",\"name\":\"Ms. Meadow\",\"datetime\":\"2021-09-27T18:51:00.000\",\"monthyear\":\"2021-09-27T18:51:00.000\",\"date_of_birth\":\"2020-02-09T00:00:00.000\",\"outcome_type\":\"Adoption\",\"animal_type\":\"Dog\",\"sex_upon_outcome\":\"Spayed Female\",\"age_upon_outcome\":\"1 year\",\"breed\":\"Labrador Retriever Mix\",\"color\":\"Tan\"}\\n,{\"animal_id\":\"A841583\",\"name\":\"A841583\",\"datetime\":\"2021-09-27T18:22:00.000\",\"monthyear\":\"2021-09-27T18:22:00.000\",\"date_of_birth\":\"2021-07-24T00:00:00.000\",\"outcome_type\":\"Adoption\",\"animal_type\":\"Cat\",\"sex_upon_outcome\":\"Spayed Female\",\"age_upon_outcome\":\"2 months\",\"breed\":\"Domestic Shorthair\",\"color\":\"Calico\"}\\n,{\"animal_id\":\"A842779\",\"name\":\"Ragnar\",\"datetime\":\"2021-09-27T18:14:00.000\",\"monthyear\":\"2021-09-27T18:14:00.000\",\"date_of_birth\":\"2021-06-06T00:00:00.000\",\"outcome_type\":\"Adoption\",\"animal_type\":\"Cat\",\"sex_upon_outcome\":\"Neutered Male\",\"age_upon_outcome\":\"3 months\",\"breed\":\"Domestic Longhair\",\"color\":\"Black\"}\\n,{\"animal_id\":\"A842375\",\"name\":\"Cali\",\"datetime\":\"2021-09-27T18:05:00.000\",\"monthyear\":\"2021-09-27T18:05:00.000\",\"date_of_birth\":\"2020-09-14T00:00:00.000\",\"outcome_type\":\"Adoption\",\"animal_type\":\"Cat\",\"sex_upon_outcome\":\"Spayed Female\",\"age_upon_outcome\":\"1 year\",\"breed\":\"Domestic Medium Hair Mix\",\"color\":\"Calico\"}\\n,{\"animal_id\":\"A842191\",\"datetime\":\"2021-09-27T18:03:00.000\",\"monthyear\":\"2021-09-27T18:03:00.000\",\"date_of_birth\":\"2021-05-11T00:00:00.000\",\"outcome_type\":\"Adoption\",\"animal_type\":\"Cat\",\"sex_upon_outcome\":\"Neutered Male\",\"age_upon_outcome\":\"4 months\",\"breed\":\"Domestic Shorthair\",\"color\":\"Lynx Point\"}\\n,{\"animal_id\":\"A830110\",\"name\":\"Nikki\",\"datetime\":\"2021-09-27T18:01:00.000\",\"monthyear\":\"2021-09-27T18:01:00.000\",\"date_of_birth\":\"2019-03-02T00:00:00.000\",\"outcome_type\":\"Return to Owner\",\"animal_type\":\"Dog\",\"sex_upon_outcome\":\"Spayed Female\",\"age_upon_outcome\":\"2 years\",\"breed\":\"Belgian Malinois\",\"color\":\"Brown/Black\"}\\n,{\"animal_id\":\"A842863\",\"name\":\"Tuesday\",\"datetime\":\"2021-09-27T17:59:00.000\",\"monthyear\":\"2021-09-27T17:59:00.000\",\"date_of_birth\":\"2019-09-22T00:00:00.000\",\"outcome_type\":\"Adoption\",\"animal_type\":\"Dog\",\"sex_upon_outcome\":\"Spayed Female\",\"age_upon_outcome\":\"2 years\",\"breed\":\"Chihuahua Shorthair/Dachshund\",\"color\":\"Red\"}\\n,{\"animal_id\":\"A842682\",\"name\":\"*Esme\",\"datetime\":\"2021-09-27T17:57:00.000\",\"monthyear\":\"2021-09-27T17:57:00.000\",\"date_of_birth\":\"2021-05-05T00:00:00.000\",\"outcome_type\":\"Adoption\",\"animal_type\":\"Cat\",\"sex_upon_outcome\":\"Spayed Female\",\"age_upon_outcome\":\"4 months\",\"breed\":\"Domestic Medium Hair Mix\",\"color\":\"Black\"}\\n,{\"animal_id\":\"A842865\",\"name\":\"Ella\",\"datetime\":\"2021-09-27T17:48:00.000\",\"monthyear\":\"2021-09-27T17:48:00.000\",\"date_of_birth\":\"2021-04-22T00:00:00.000\",\"outcome_type\":\"Adoption\",\"animal_type\":\"Dog\",\"sex_upon_outcome\":\"Spayed Female\",\"age_upon_outcome\":\"5 months\",\"breed\":\"Chihuahua Shorthair/Dachshund\",\"color\":\"Red\"}\\n,{\"animal_id\":\"A842966\",\"name\":\"Rambo\",\"datetime\":\"2021-09-27T17:45:00.000\",\"monthyear\":\"2021-09-27T17:45:00.000\",\"date_of_birth\":\"2019-09-24T00:00:00.000\",\"outcome_type\":\"Return to Owner\",\"animal_type\":\"Dog\",\"sex_upon_outcome\":\"Intact Male\",\"age_upon_outcome\":\"2 years\",\"breed\":\"Pit Bull Mix\",\"color\":\"Black/White\"}\\n,{\"animal_id\":\"A842826\",\"name\":\"Bailey\",\"datetime\":\"2021-09-27T17:45:00.000\",\"monthyear\":\"2021-09-27T17:45:00.000\",\"date_of_birth\":\"2021-07-22T00:00:00.000\",\"outcome_type\":\"Adoption\",\"animal_type\":\"Dog\",\"sex_upon_outcome\":\"Spayed Female\",\"age_upon_outcome\":\"2 months\",\"breed\":\"Australian Cattle Dog Mix\",\"color\":\"Tan/White\"}\\n,{\"animal_id\":\"A842849\",\"name\":\"A842849\",\"datetime\":\"2021-09-27T17:40:00.000\",\"monthyear\":\"2021-09-27T17:40:00.000\",\"date_of_birth\":\"2021-07-22T00:00:00.000\",\"outcome_type\":\"Adoption\",\"animal_type\":\"Cat\",\"sex_upon_outcome\":\"Neutered Male\",\"age_upon_outcome\":\"2 months\",\"breed\":\"Domestic Shorthair\",\"color\":\"Orange Tabby/White\"}\\n,{\"animal_id\":\"A841498\",\"name\":\"Dwayne\",\"datetime\":\"2021-09-27T17:38:00.000\",\"monthyear\":\"2021-09-27T17:38:00.000\",\"date_of_birth\":\"2019-08-28T00:00:00.000\",\"outcome_type\":\"Adoption\",\"animal_type\":\"Dog\",\"sex_upon_outcome\":\"Neutered Male\",\"age_upon_outcome\":\"2 years\",\"breed\":\"Belgian Malinois\",\"color\":\"Brown/Black\"}\\n,{\"animal_id\":\"A842814\",\"name\":\"Pablo\",\"datetime\":\"2021-09-27T17:36:00.000\",\"monthyear\":\"2021-09-27T17:36:00.000\",\"date_of_birth\":\"2021-02-21T00:00:00.000\",\"outcome_type\":\"Adoption\",\"animal_type\":\"Dog\",\"sex_upon_outcome\":\"Neutered Male\",\"age_upon_outcome\":\"7 months\",\"breed\":\"Carolina Dog Mix\",\"color\":\"Red/White\"}\\n,{\"animal_id\":\"A839394\",\"name\":\"Navi\",\"datetime\":\"2021-09-27T17:27:00.000\",\"monthyear\":\"2021-09-27T17:27:00.000\",\"date_of_birth\":\"2019-07-21T00:00:00.000\",\"outcome_type\":\"Adoption\",\"animal_type\":\"Cat\",\"sex_upon_outcome\":\"Spayed Female\",\"age_upon_outcome\":\"2 years\",\"breed\":\"Siamese\",\"color\":\"Seal Point\"}\\n,{\"animal_id\":\"A842733\",\"name\":\"*Rio\",\"datetime\":\"2021-09-27T17:23:00.000\",\"monthyear\":\"2021-09-27T17:23:00.000\",\"date_of_birth\":\"2019-09-21T00:00:00.000\",\"outcome_type\":\"Adoption\",\"animal_type\":\"Dog\",\"sex_upon_outcome\":\"Neutered Male\",\"age_upon_outcome\":\"2 years\",\"breed\":\"English Bulldog Mix\",\"color\":\"Black\"}\\n,{\"animal_id\":\"A842953\",\"name\":\"Linda\",\"datetime\":\"2021-09-27T17:20:00.000\",\"monthyear\":\"2021-09-27T17:20:00.000\",\"date_of_birth\":\"2021-02-23T00:00:00.000\",\"outcome_type\":\"Adoption\",\"animal_type\":\"Dog\",\"sex_upon_outcome\":\"Spayed Female\",\"age_upon_outcome\":\"7 months\",\"breed\":\"Border Collie\",\"color\":\"White/Black\"}\\n,{\"animal_id\":\"A842955\",\"name\":\"A842955\",\"datetime\":\"2021-09-27T17:12:00.000\",\"monthyear\":\"2021-09-27T17:12:00.000\",\"date_of_birth\":\"2021-06-08T00:00:00.000\",\"outcome_type\":\"Adoption\",\"animal_type\":\"Cat\",\"sex_upon_outcome\":\"Spayed Female\",\"age_upon_outcome\":\"3 months\",\"breed\":\"Domestic Shorthair\",\"color\":\"Torbie\"}\\n,{\"animal_id\":\"A842853\",\"name\":\"Bmo\",\"datetime\":\"2021-09-27T17:10:00.000\",\"monthyear\":\"2021-09-27T17:10:00.000\",\"date_of_birth\":\"2021-07-04T00:00:00.000\",\"outcome_type\":\"Adoption\",\"animal_type\":\"Cat\",\"sex_upon_outcome\":\"Neutered Male\",\"age_upon_outcome\":\"2 months\",\"breed\":\"Domestic Shorthair\",\"color\":\"Brown Tabby/White\"}\\n,{\"animal_id\":\"A842868\",\"name\":\"Max\",\"datetime\":\"2021-09-27T17:00:00.000\",\"monthyear\":\"2021-09-27T17:00:00.000\",\"date_of_birth\":\"2019-09-22T00:00:00.000\",\"outcome_type\":\"Adoption\",\"animal_type\":\"Dog\",\"sex_upon_outcome\":\"Neutered Male\",\"age_upon_outcome\":\"2 years\",\"breed\":\"Pug/Dachshund\",\"color\":\"Tan/Black\"}\\n,{\"animal_id\":\"A842943\",\"name\":\"Gavin\",\"datetime\":\"2021-09-27T16:57:00.000\",\"monthyear\":\"2021-09-27T16:57:00.000\",\"date_of_birth\":\"2021-06-08T00:00:00.000\",\"outcome_type\":\"Adoption\",\"animal_type\":\"Dog\",\"sex_upon_outcome\":\"Neutered Male\",\"age_upon_outcome\":\"3 months\",\"breed\":\"Australian Cattle Dog Mix\",\"color\":\"Black/White\"}\\n,{\"animal_id\":\"A842856\",\"name\":\"Phoenix\",\"datetime\":\"2021-09-27T16:36:00.000\",\"monthyear\":\"2021-09-27T16:36:00.000\",\"date_of_birth\":\"2020-09-22T00:00:00.000\",\"outcome_type\":\"Adoption\",\"animal_type\":\"Dog\",\"sex_upon_outcome\":\"Neutered Male\",\"age_upon_outcome\":\"1 year\",\"breed\":\"Labrador Retriever\",\"color\":\"Yellow\"}\\n,{\"animal_id\":\"A841625\",\"name\":\"*Polly\",\"datetime\":\"2021-09-27T16:34:00.000\",\"monthyear\":\"2021-09-27T16:34:00.000\",\"date_of_birth\":\"2019-08-31T00:00:00.000\",\"outcome_type\":\"Adoption\",\"animal_type\":\"Cat\",\"sex_upon_outcome\":\"Spayed Female\",\"age_upon_outcome\":\"2 years\",\"breed\":\"Domestic Shorthair\",\"color\":\"Brown Tabby\"}\\n,{\"animal_id\":\"A842991\",\"name\":\"Pebbles\",\"datetime\":\"2021-09-27T16:27:00.000\",\"monthyear\":\"2021-09-27T16:27:00.000\",\"date_of_birth\":\"2019-09-24T00:00:00.000\",\"outcome_type\":\"Adoption\",\"animal_type\":\"Dog\",\"sex_upon_outcome\":\"Spayed Female\",\"age_upon_outcome\":\"2 years\",\"breed\":\"Chihuahua Shorthair Mix\",\"color\":\"Brown Merle\"}\\n,{\"animal_id\":\"A842813\",\"name\":\"Jenni\",\"datetime\":\"2021-09-27T16:17:00.000\",\"monthyear\":\"2021-09-27T16:17:00.000\",\"date_of_birth\":\"2021-02-21T00:00:00.000\",\"outcome_type\":\"Adoption\",\"animal_type\":\"Dog\",\"sex_upon_outcome\":\"Spayed Female\",\"age_upon_outcome\":\"7 months\",\"breed\":\"Carolina Dog Mix\",\"color\":\"Tricolor\"}\\n,{\"animal_id\":\"A841585\",\"name\":\"Rowena Ravenpaw\",\"datetime\":\"2021-09-27T16:12:00.000\",\"monthyear\":\"2021-09-27T16:12:00.000\",\"date_of_birth\":\"2021-07-07T00:00:00.000\",\"outcome_type\":\"Adoption\",\"animal_type\":\"Cat\",\"sex_upon_outcome\":\"Spayed Female\",\"age_upon_outcome\":\"2 months\",\"breed\":\"Domestic Shorthair\",\"color\":\"Tortie/White\"}\\n,{\"animal_id\":\"A842870\",\"name\":\"A842870\",\"datetime\":\"2021-09-27T16:09:00.000\",\"monthyear\":\"2021-09-27T16:09:00.000\",\"date_of_birth\":\"2021-01-22T00:00:00.000\",\"outcome_type\":\"Adoption\",\"animal_type\":\"Dog\",\"sex_upon_outcome\":\"Neutered Male\",\"age_upon_outcome\":\"8 months\",\"breed\":\"German Shepherd Mix\",\"color\":\"Black/Brown\"}\\n,{\"animal_id\":\"A842852\",\"name\":\"A842852\",\"datetime\":\"2021-09-27T16:05:00.000\",\"monthyear\":\"2021-09-27T16:05:00.000\",\"date_of_birth\":\"2021-07-04T00:00:00.000\",\"outcome_type\":\"Adoption\",\"animal_type\":\"Cat\",\"sex_upon_outcome\":\"Spayed Female\",\"age_upon_outcome\":\"2 months\",\"breed\":\"Domestic Shorthair\",\"color\":\"Torbie/White\"}\\n,{\"animal_id\":\"A842899\",\"name\":\"*Amulet\",\"datetime\":\"2021-09-27T16:00:00.000\",\"monthyear\":\"2021-09-27T16:00:00.000\",\"date_of_birth\":\"2021-01-22T00:00:00.000\",\"outcome_type\":\"Adoption\",\"animal_type\":\"Cat\",\"sex_upon_outcome\":\"Spayed Female\",\"age_upon_outcome\":\"8 months\",\"breed\":\"Domestic Shorthair\",\"color\":\"Tortie\"}\\n,{\"animal_id\":\"A841966\",\"name\":\"Marie\",\"datetime\":\"2021-09-27T15:58:00.000\",\"monthyear\":\"2021-09-27T15:58:00.000\",\"date_of_birth\":\"2021-07-13T00:00:00.000\",\"outcome_type\":\"Adoption\",\"animal_type\":\"Cat\",\"sex_upon_outcome\":\"Spayed Female\",\"age_upon_outcome\":\"2 months\",\"breed\":\"Domestic Longhair\",\"color\":\"Brown Tabby/White\"}\\n,{\"animal_id\":\"A835356\",\"name\":\"Rocky\",\"datetime\":\"2021-09-27T15:47:00.000\",\"monthyear\":\"2021-09-27T15:47:00.000\",\"date_of_birth\":\"2019-05-26T00:00:00.000\",\"outcome_type\":\"Adoption\",\"animal_type\":\"Dog\",\"sex_upon_outcome\":\"Neutered Male\",\"age_upon_outcome\":\"2 years\",\"breed\":\"Siberian Husky\",\"color\":\"White/Black\"}\\n,{\"animal_id\":\"A842476\",\"name\":\"*Jd\",\"datetime\":\"2021-09-27T15:46:00.000\",\"monthyear\":\"2021-09-27T15:46:00.000\",\"date_of_birth\":\"2019-09-16T00:00:00.000\",\"outcome_type\":\"Adoption\",\"animal_type\":\"Dog\",\"sex_upon_outcome\":\"Neutered Male\",\"age_upon_outcome\":\"2 years\",\"breed\":\"Rhod Ridgeback Mix\",\"color\":\"Red\"}\\n,{\"animal_id\":\"A842957\",\"name\":\"A842957\",\"datetime\":\"2021-09-27T15:38:00.000\",\"monthyear\":\"2021-09-27T15:38:00.000\",\"date_of_birth\":\"2021-06-23T00:00:00.000\",\"outcome_type\":\"Transfer\",\"outcome_subtype\":\"Partner\",\"animal_type\":\"Dog\",\"sex_upon_outcome\":\"Intact Female\",\"age_upon_outcome\":\"3 months\",\"breed\":\"Shih Tzu Mix\",\"color\":\"White/Tan\"}\\n,{\"animal_id\":\"A843105\",\"name\":\"Dina\",\"datetime\":\"2021-09-27T15:29:00.000\",\"monthyear\":\"2021-09-27T15:29:00.000\",\"date_of_birth\":\"2019-09-27T00:00:00.000\",\"outcome_type\":\"Return to Owner\",\"outcome_subtype\":\"Field\",\"animal_type\":\"Dog\",\"sex_upon_outcome\":\"Intact Female\",\"age_upon_outcome\":\"2 years\",\"breed\":\"German Shepherd\",\"color\":\"Black/Tan\"}\\n,{\"animal_id\":\"A843104\",\"name\":\"Rex\",\"datetime\":\"2021-09-27T15:27:00.000\",\"monthyear\":\"2021-09-27T15:27:00.000\",\"date_of_birth\":\"2019-09-27T00:00:00.000\",\"outcome_type\":\"Return to Owner\",\"outcome_subtype\":\"Field\",\"animal_type\":\"Dog\",\"sex_upon_outcome\":\"Intact Male\",\"age_upon_outcome\":\"2 years\",\"breed\":\"German Shepherd\",\"color\":\"Tan/Black\"}\\n,{\"animal_id\":\"A842804\",\"name\":\"Biggie\",\"datetime\":\"2021-09-27T14:49:00.000\",\"monthyear\":\"2021-09-27T14:49:00.000\",\"date_of_birth\":\"2021-07-21T00:00:00.000\",\"outcome_type\":\"Adoption\",\"animal_type\":\"Dog\",\"sex_upon_outcome\":\"Spayed Female\",\"age_upon_outcome\":\"2 months\",\"breed\":\"Pit Bull\",\"color\":\"Black/White\"}\\n,{\"animal_id\":\"A842967\",\"name\":\"Jazz\",\"datetime\":\"2021-09-27T14:34:00.000\",\"monthyear\":\"2021-09-27T14:34:00.000\",\"date_of_birth\":\"2020-03-24T00:00:00.000\",\"outcome_type\":\"Return to Owner\",\"animal_type\":\"Dog\",\"sex_upon_outcome\":\"Intact Female\",\"age_upon_outcome\":\"1 year\",\"breed\":\"Pit Bull Mix\",\"color\":\"White/Gray\"}\\n,{\"animal_id\":\"A842965\",\"name\":\"Kane\",\"datetime\":\"2021-09-27T14:34:00.000\",\"monthyear\":\"2021-09-27T14:34:00.000\",\"date_of_birth\":\"2019-09-24T00:00:00.000\",\"outcome_type\":\"Return to Owner\",\"animal_type\":\"Dog\",\"sex_upon_outcome\":\"Intact Male\",\"age_upon_outcome\":\"2 years\",\"breed\":\"Pit Bull Mix\",\"color\":\"Gray\"}\\n,{\"animal_id\":\"A842329\",\"name\":\"Loki\",\"datetime\":\"2021-09-27T13:37:00.000\",\"monthyear\":\"2021-09-27T13:37:00.000\",\"date_of_birth\":\"2018-09-14T00:00:00.000\",\"outcome_type\":\"Adoption\",\"animal_type\":\"Cat\",\"sex_upon_outcome\":\"Spayed Female\",\"age_upon_outcome\":\"3 years\",\"breed\":\"Domestic Shorthair Mix\",\"color\":\"Brown Tabby/White\"}\\n,{\"animal_id\":\"A842687\",\"name\":\"A842687\",\"datetime\":\"2021-09-27T13:31:00.000\",\"monthyear\":\"2021-09-27T13:31:00.000\",\"date_of_birth\":\"2019-04-20T00:00:00.000\",\"outcome_type\":\"Transfer\",\"outcome_subtype\":\"Partner\",\"animal_type\":\"Cat\",\"sex_upon_outcome\":\"Intact Female\",\"age_upon_outcome\":\"2 years\",\"breed\":\"Domestic Shorthair\",\"color\":\"Black\"}\\n,{\"animal_id\":\"A843090\",\"name\":\"Spotem\",\"datetime\":\"2021-09-27T12:24:00.000\",\"monthyear\":\"2021-09-27T12:24:00.000\",\"date_of_birth\":\"2021-04-14T00:00:00.000\",\"outcome_type\":\"Return to Owner\",\"animal_type\":\"Dog\",\"sex_upon_outcome\":\"Intact Male\",\"age_upon_outcome\":\"5 months\",\"breed\":\"American Bulldog Mix\",\"color\":\"White/Blue\"}\\n,{\"animal_id\":\"A843089\",\"name\":\"Snow\",\"datetime\":\"2021-09-27T12:22:00.000\",\"monthyear\":\"2021-09-27T12:22:00.000\",\"date_of_birth\":\"2019-09-26T00:00:00.000\",\"outcome_type\":\"Return to Owner\",\"animal_type\":\"Dog\",\"sex_upon_outcome\":\"Intact Female\",\"age_upon_outcome\":\"2 years\",\"breed\":\"American Bulldog Mix\",\"color\":\"White\"}\\n,{\"animal_id\":\"A840985\",\"name\":\"Kelley\",\"datetime\":\"2021-09-27T12:15:00.000\",\"monthyear\":\"2021-09-27T12:15:00.000\",\"date_of_birth\":\"2016-03-18T00:00:00.000\",\"outcome_type\":\"Adoption\",\"animal_type\":\"Dog\",\"sex_upon_outcome\":\"Spayed Female\",\"age_upon_outcome\":\"5 years\",\"breed\":\"German Shepherd Mix\",\"color\":\"Black/Brown\"}\\n,{\"animal_id\":\"A842930\",\"name\":\"A842930\",\"datetime\":\"2021-09-27T11:26:00.000\",\"monthyear\":\"2021-09-27T11:26:00.000\",\"date_of_birth\":\"2020-09-23T00:00:00.000\",\"outcome_type\":\"Transfer\",\"outcome_subtype\":\"Partner\",\"animal_type\":\"Dog\",\"sex_upon_outcome\":\"Intact Female\",\"age_upon_outcome\":\"1 year\",\"breed\":\"Maltese/Yorkshire Terrier\",\"color\":\"Buff/Brown\"}\\n,{\"animal_id\":\"A843097\",\"name\":\"Astro\",\"datetime\":\"2021-09-27T11:25:00.000\",\"monthyear\":\"2021-09-27T11:25:00.000\",\"date_of_birth\":\"2021-07-14T00:00:00.000\",\"outcome_type\":\"Transfer\",\"outcome_subtype\":\"Partner\",\"animal_type\":\"Dog\",\"sex_upon_outcome\":\"Intact Male\",\"age_upon_outcome\":\"2 months\",\"breed\":\"Shih Tzu Mix\",\"color\":\"Black/White\"}\\n,{\"animal_id\":\"A842872\",\"datetime\":\"2021-09-27T11:03:00.000\",\"monthyear\":\"2021-09-27T11:03:00.000\",\"date_of_birth\":\"2014-09-25T00:00:00.000\",\"outcome_type\":\"Transfer\",\"outcome_subtype\":\"Partner\",\"animal_type\":\"Dog\",\"sex_upon_outcome\":\"Intact Female\",\"age_upon_outcome\":\"7 years\",\"breed\":\"Shih Tzu Mix\",\"color\":\"White\"}\\n,{\"animal_id\":\"A841026\",\"name\":\"A841026\",\"datetime\":\"2021-09-27T00:00:00.000\",\"monthyear\":\"2021-09-27T00:00:00.000\",\"date_of_birth\":\"2019-08-19T00:00:00.000\",\"outcome_type\":\"Transfer\",\"outcome_subtype\":\"Snr\",\"animal_type\":\"Cat\",\"sex_upon_outcome\":\"Intact Female\",\"age_upon_outcome\":\"2 years\",\"breed\":\"Domestic Shorthair Mix\",\"color\":\"Tortie\"}\\n,{\"animal_id\":\"A842783\",\"name\":\"A842783\",\"datetime\":\"2021-09-27T00:00:00.000\",\"monthyear\":\"2021-09-27T00:00:00.000\",\"date_of_birth\":\"2019-09-21T00:00:00.000\",\"outcome_type\":\"Transfer\",\"outcome_subtype\":\"Snr\",\"animal_type\":\"Cat\",\"sex_upon_outcome\":\"Intact Male\",\"age_upon_outcome\":\"2 years\",\"breed\":\"Domestic Shorthair\",\"color\":\"Blue\"}\\n,{\"animal_id\":\"A841821\",\"name\":\"A841821\",\"datetime\":\"2021-09-27T00:00:00.000\",\"monthyear\":\"2021-09-27T00:00:00.000\",\"date_of_birth\":\"2016-09-28T00:00:00.000\",\"outcome_type\":\"Transfer\",\"outcome_subtype\":\"Snr\",\"animal_type\":\"Cat\",\"sex_upon_outcome\":\"Neutered Male\",\"age_upon_outcome\":\"5 years\",\"breed\":\"Domestic Shorthair Mix\",\"color\":\"White/Blue\"}\\n,{\"animal_id\":\"A842001\",\"name\":\"Boops\",\"datetime\":\"2021-09-27T00:00:00.000\",\"monthyear\":\"2021-09-27T00:00:00.000\",\"date_of_birth\":\"2017-06-01T00:00:00.000\",\"outcome_type\":\"Transfer\",\"outcome_subtype\":\"Snr\",\"animal_type\":\"Cat\",\"sex_upon_outcome\":\"Neutered Male\",\"age_upon_outcome\":\"4 years\",\"breed\":\"Domestic Shorthair\",\"color\":\"Black/White\"}\\n,{\"animal_id\":\"A843091\",\"name\":\"A843091\",\"datetime\":\"2021-09-26T19:15:00.000\",\"monthyear\":\"2021-09-26T19:15:00.000\",\"date_of_birth\":\"2021-09-10T00:00:00.000\",\"outcome_type\":\"Transfer\",\"outcome_subtype\":\"Partner\",\"animal_type\":\"Cat\",\"sex_upon_outcome\":\"Intact Female\",\"age_upon_outcome\":\"2 weeks\",\"breed\":\"Domestic Shorthair\",\"color\":\"Blue Tabby\"}\\n,{\"animal_id\":\"A843086\",\"name\":\"Rosie\",\"datetime\":\"2021-09-26T18:52:00.000\",\"monthyear\":\"2021-09-26T18:52:00.000\",\"date_of_birth\":\"2020-04-26T00:00:00.000\",\"outcome_type\":\"Return to Owner\",\"animal_type\":\"Dog\",\"sex_upon_outcome\":\"Intact Female\",\"age_upon_outcome\":\"1 year\",\"breed\":\"Pembroke Welsh Corgi\",\"color\":\"Tan/White\"}\\n,{\"animal_id\":\"A820567\",\"name\":\"Bear\",\"datetime\":\"2021-09-26T18:36:00.000\",\"monthyear\":\"2021-09-26T18:36:00.000\",\"date_of_birth\":\"2020-05-29T00:00:00.000\",\"outcome_type\":\"Adoption\",\"animal_type\":\"Cat\",\"sex_upon_outcome\":\"Spayed Female\",\"age_upon_outcome\":\"1 year\",\"breed\":\"Domestic Medium Hair Mix\",\"color\":\"Blue\"}\\n,{\"animal_id\":\"A836878\",\"name\":\"Bailey\",\"datetime\":\"2021-09-26T18:30:00.000\",\"monthyear\":\"2021-09-26T18:30:00.000\",\"date_of_birth\":\"2019-06-15T00:00:00.000\",\"outcome_type\":\"Adoption\",\"animal_type\":\"Dog\",\"sex_upon_outcome\":\"Spayed Female\",\"age_upon_outcome\":\"2 years\",\"breed\":\"Pit Bull\",\"color\":\"Blue Tiger/White\"}\\n,{\"animal_id\":\"A838959\",\"name\":\"Tippi\",\"datetime\":\"2021-09-26T18:18:00.000\",\"monthyear\":\"2021-09-26T18:18:00.000\",\"date_of_birth\":\"2018-07-14T00:00:00.000\",\"outcome_type\":\"Adoption\",\"animal_type\":\"Cat\",\"sex_upon_outcome\":\"Neutered Male\",\"age_upon_outcome\":\"3 years\",\"breed\":\"Domestic Shorthair\",\"color\":\"Black/White\"}\\n,{\"animal_id\":\"A810245\",\"name\":\"Suki\",\"datetime\":\"2021-09-26T18:01:00.000\",\"monthyear\":\"2021-09-26T18:01:00.000\",\"date_of_birth\":\"2017-12-09T00:00:00.000\",\"outcome_type\":\"Adoption\",\"animal_type\":\"Dog\",\"sex_upon_outcome\":\"Neutered Male\",\"age_upon_outcome\":\"3 years\",\"breed\":\"Kuvasz/Labrador Retriever\",\"color\":\"White\"}\\n,{\"animal_id\":\"A842427\",\"name\":\"*Ellie\",\"datetime\":\"2021-09-26T17:51:00.000\",\"monthyear\":\"2021-09-26T17:51:00.000\",\"date_of_birth\":\"2019-09-15T00:00:00.000\",\"outcome_type\":\"Adoption\",\"animal_type\":\"Dog\",\"sex_upon_outcome\":\"Spayed Female\",\"age_upon_outcome\":\"2 years\",\"breed\":\"Beagle Mix\",\"color\":\"White/Tan\"}\\n,{\"animal_id\":\"A842898\",\"name\":\"Bebe\",\"datetime\":\"2021-09-26T17:50:00.000\",\"monthyear\":\"2021-09-26T17:50:00.000\",\"date_of_birth\":\"2020-03-22T00:00:00.000\",\"outcome_type\":\"Adoption\",\"animal_type\":\"Cat\",\"sex_upon_outcome\":\"Neutered Male\",\"age_upon_outcome\":\"1 year\",\"breed\":\"Domestic Shorthair\",\"color\":\"White/Brown Tabby\"}\\n,{\"animal_id\":\"A842756\",\"name\":\"*Basil\",\"datetime\":\"2021-09-26T17:13:00.000\",\"monthyear\":\"2021-09-26T17:13:00.000\",\"date_of_birth\":\"2021-08-10T00:00:00.000\",\"outcome_type\":\"Transfer\",\"outcome_subtype\":\"Partner\",\"animal_type\":\"Cat\",\"sex_upon_outcome\":\"Intact Male\",\"age_upon_outcome\":\"1 month\",\"breed\":\"Domestic Shorthair\",\"color\":\"Brown Tabby/White\"}\\n,{\"animal_id\":\"A842764\",\"name\":\"*Rosemary\",\"datetime\":\"2021-09-26T17:13:00.000\",\"monthyear\":\"2021-09-26T17:13:00.000\",\"date_of_birth\":\"2021-08-10T00:00:00.000\",\"outcome_type\":\"Transfer\",\"outcome_subtype\":\"Partner\",\"animal_type\":\"Cat\",\"sex_upon_outcome\":\"Intact Female\",\"age_upon_outcome\":\"1 month\",\"breed\":\"Domestic Shorthair\",\"color\":\"Torbie/White\"}\\n,{\"animal_id\":\"A842762\",\"name\":\"*Sage\",\"datetime\":\"2021-09-26T17:12:00.000\",\"monthyear\":\"2021-09-26T17:12:00.000\",\"date_of_birth\":\"2021-08-10T00:00:00.000\",\"outcome_type\":\"Transfer\",\"outcome_subtype\":\"Partner\",\"animal_type\":\"Cat\",\"sex_upon_outcome\":\"Intact Female\",\"age_upon_outcome\":\"1 month\",\"breed\":\"Domestic Shorthair\",\"color\":\"Orange Tabby/White\"}\\n,{\"animal_id\":\"A842763\",\"name\":\"*Parsley\",\"datetime\":\"2021-09-26T17:12:00.000\",\"monthyear\":\"2021-09-26T17:12:00.000\",\"date_of_birth\":\"2021-08-10T00:00:00.000\",\"outcome_type\":\"Transfer\",\"outcome_subtype\":\"Partner\",\"animal_type\":\"Cat\",\"sex_upon_outcome\":\"Intact Female\",\"age_upon_outcome\":\"1 month\",\"breed\":\"Domestic Shorthair\",\"color\":\"Calico\"}\\n,{\"animal_id\":\"A842761\",\"name\":\"*Dill\",\"datetime\":\"2021-09-26T17:12:00.000\",\"monthyear\":\"2021-09-26T17:12:00.000\",\"date_of_birth\":\"2021-08-10T00:00:00.000\",\"outcome_type\":\"Transfer\",\"outcome_subtype\":\"Partner\",\"animal_type\":\"Cat\",\"sex_upon_outcome\":\"Intact Male\",\"age_upon_outcome\":\"1 month\",\"breed\":\"Domestic Shorthair\",\"color\":\"Black/White\"}\\n,{\"animal_id\":\"A841108\",\"name\":\"*Frieda\",\"datetime\":\"2021-09-26T15:47:00.000\",\"monthyear\":\"2021-09-26T15:47:00.000\",\"date_of_birth\":\"2019-08-20T00:00:00.000\",\"outcome_type\":\"Adoption\",\"animal_type\":\"Dog\",\"sex_upon_outcome\":\"Spayed Female\",\"age_upon_outcome\":\"2 years\",\"breed\":\"Siberian Husky Mix\",\"color\":\"Black/White\"}\\n,{\"animal_id\":\"A842088\",\"name\":\"Nishi\",\"datetime\":\"2021-09-26T15:03:00.000\",\"monthyear\":\"2021-09-26T15:03:00.000\",\"date_of_birth\":\"2019-09-09T00:00:00.000\",\"outcome_type\":\"Adoption\",\"animal_type\":\"Cat\",\"sex_upon_outcome\":\"Spayed Female\",\"age_upon_outcome\":\"2 years\",\"breed\":\"Domestic Shorthair Mix\",\"color\":\"Gray\"}\\n,{\"animal_id\":\"A842087\",\"name\":\"Tito\",\"datetime\":\"2021-09-26T15:02:00.000\",\"monthyear\":\"2021-09-26T15:02:00.000\",\"date_of_birth\":\"2019-09-09T00:00:00.000\",\"outcome_type\":\"Adoption\",\"animal_type\":\"Cat\",\"sex_upon_outcome\":\"Neutered Male\",\"age_upon_outcome\":\"2 years\",\"breed\":\"Domestic Shorthair Mix\",\"color\":\"Cream Tabby\"}\\n,{\"animal_id\":\"A842976\",\"name\":\"Chiquita\",\"datetime\":\"2021-09-26T15:00:00.000\",\"monthyear\":\"2021-09-26T15:00:00.000\",\"date_of_birth\":\"2021-02-24T00:00:00.000\",\"outcome_type\":\"Transfer\",\"outcome_subtype\":\"Partner\",\"animal_type\":\"Dog\",\"sex_upon_outcome\":\"Intact Female\",\"age_upon_outcome\":\"7 months\",\"breed\":\"Great Dane\",\"color\":\"Black/White\"}\\n,{\"animal_id\":\"A843075\",\"datetime\":\"2021-09-26T14:10:00.000\",\"monthyear\":\"2021-09-26T14:10:00.000\",\"date_of_birth\":\"2015-09-26T00:00:00.000\",\"outcome_type\":\"Return to Owner\",\"animal_type\":\"Dog\",\"sex_upon_outcome\":\"Intact Male\",\"age_upon_outcome\":\"6 years\",\"breed\":\"Dachshund Mix\",\"color\":\"Brown\"}\\n,{\"animal_id\":\"A841377\",\"name\":\"*Buttons\",\"datetime\":\"2021-09-26T13:42:00.000\",\"monthyear\":\"2021-09-26T13:42:00.000\",\"date_of_birth\":\"2019-08-26T00:00:00.000\",\"outcome_type\":\"Adoption\",\"animal_type\":\"Dog\",\"sex_upon_outcome\":\"Neutered Male\",\"age_upon_outcome\":\"2 years\",\"breed\":\"Pit Bull Mix\",\"color\":\"Black\"}\\n,{\"animal_id\":\"A843046\",\"datetime\":\"2021-09-26T13:40:00.000\",\"monthyear\":\"2021-09-26T13:40:00.000\",\"date_of_birth\":\"2012-09-26T00:00:00.000\",\"outcome_type\":\"Transfer\",\"outcome_subtype\":\"Partner\",\"animal_type\":\"Cat\",\"sex_upon_outcome\":\"Neutered Male\",\"age_upon_outcome\":\"9 years\",\"breed\":\"Domestic Shorthair\",\"color\":\"Blue\"}\\n,{\"animal_id\":\"A786115\",\"name\":\"Cudi\",\"datetime\":\"2021-09-26T13:37:00.000\",\"monthyear\":\"2021-09-26T13:37:00.000\",\"date_of_birth\":\"2018-01-17T00:00:00.000\",\"outcome_type\":\"Return to Owner\",\"animal_type\":\"Dog\",\"sex_upon_outcome\":\"Intact Male\",\"age_upon_outcome\":\"3 years\",\"breed\":\"Soft Coated Wheaten Terrier Mix\",\"color\":\"Tan\"}\\n,{\"animal_id\":\"A842153\",\"name\":\"*Mack\",\"datetime\":\"2021-09-26T13:06:00.000\",\"monthyear\":\"2021-09-26T13:06:00.000\",\"date_of_birth\":\"2021-03-26T00:00:00.000\",\"outcome_type\":\"Adoption\",\"animal_type\":\"Cat\",\"sex_upon_outcome\":\"Neutered Male\",\"age_upon_outcome\":\"6 months\",\"breed\":\"Domestic Shorthair\",\"color\":\"Orange Tabby\"}\\n,{\"animal_id\":\"A843074\",\"datetime\":\"2021-09-26T13:00:00.000\",\"monthyear\":\"2021-09-26T13:00:00.000\",\"date_of_birth\":\"2021-09-24T00:00:00.000\",\"outcome_type\":\"Transfer\",\"outcome_subtype\":\"Partner\",\"animal_type\":\"Cat\",\"sex_upon_outcome\":\"Intact Male\",\"age_upon_outcome\":\"2 days\",\"breed\":\"Domestic Shorthair\",\"color\":\"Blue Tabby/White\"}\\n,{\"animal_id\":\"A842837\",\"name\":\"Zues\",\"datetime\":\"2021-09-26T12:55:00.000\",\"monthyear\":\"2021-09-26T12:55:00.000\",\"date_of_birth\":\"2021-01-22T00:00:00.000\",\"outcome_type\":\"Adoption\",\"animal_type\":\"Dog\",\"sex_upon_outcome\":\"Neutered Male\",\"age_upon_outcome\":\"8 months\",\"breed\":\"Blue Lacy Mix\",\"color\":\"Blue/White\"}\\n,{\"animal_id\":\"A841787\",\"name\":\"Sabrina\",\"datetime\":\"2021-09-26T12:31:00.000\",\"monthyear\":\"2021-09-26T12:31:00.000\",\"date_of_birth\":\"2018-09-02T00:00:00.000\",\"outcome_type\":\"Adoption\",\"animal_type\":\"Cat\",\"sex_upon_outcome\":\"Spayed Female\",\"age_upon_outcome\":\"3 years\",\"breed\":\"Domestic Shorthair Mix\",\"color\":\"Torbie\"}\\n,{\"animal_id\":\"A841788\",\"name\":\"Simon\",\"datetime\":\"2021-09-26T12:30:00.000\",\"monthyear\":\"2021-09-26T12:30:00.000\",\"date_of_birth\":\"2020-03-02T00:00:00.000\",\"outcome_type\":\"Adoption\",\"animal_type\":\"Cat\",\"sex_upon_outcome\":\"Neutered Male\",\"age_upon_outcome\":\"1 year\",\"breed\":\"Domestic Shorthair Mix\",\"color\":\"Brown Tabby\"}\\n,{\"animal_id\":\"A842897\",\"name\":\"A842897\",\"datetime\":\"2021-09-26T12:23:00.000\",\"monthyear\":\"2021-09-26T12:23:00.000\",\"date_of_birth\":\"2021-07-22T00:00:00.000\",\"outcome_type\":\"Adoption\",\"animal_type\":\"Cat\",\"sex_upon_outcome\":\"Intact Female\",\"age_upon_outcome\":\"2 months\",\"breed\":\"Domestic Shorthair\",\"color\":\"Calico\"}\\n,{\"animal_id\":\"A842896\",\"name\":\"A842896\",\"datetime\":\"2021-09-26T12:22:00.000\",\"monthyear\":\"2021-09-26T12:22:00.000\",\"date_of_birth\":\"2021-07-22T00:00:00.000\",\"outcome_type\":\"Adoption\",\"animal_type\":\"Cat\",\"sex_upon_outcome\":\"Intact Female\",\"age_upon_outcome\":\"2 months\",\"breed\":\"Domestic Shorthair\",\"color\":\"Brown Tabby\"}\\n,{\"animal_id\":\"A840078\",\"name\":\"*Cindy\",\"datetime\":\"2021-09-26T12:13:00.000\",\"monthyear\":\"2021-09-26T12:13:00.000\",\"date_of_birth\":\"2016-08-02T00:00:00.000\",\"outcome_type\":\"Adoption\",\"animal_type\":\"Cat\",\"sex_upon_outcome\":\"Spayed Female\",\"age_upon_outcome\":\"5 years\",\"breed\":\"Domestic Shorthair Mix\",\"color\":\"Black/White\"}\\n,{\"animal_id\":\"A841109\",\"name\":\"*Buzz\",\"datetime\":\"2021-09-26T11:40:00.000\",\"monthyear\":\"2021-09-26T11:40:00.000\",\"date_of_birth\":\"2020-08-20T00:00:00.000\",\"outcome_type\":\"Adoption\",\"animal_type\":\"Dog\",\"sex_upon_outcome\":\"Neutered Male\",\"age_upon_outcome\":\"1 year\",\"breed\":\"Labrador Retriever Mix\",\"color\":\"Black/White\"}\\n,{\"animal_id\":\"A842504\",\"name\":\"*Mouse\",\"datetime\":\"2021-09-26T11:26:00.000\",\"monthyear\":\"2021-09-26T11:26:00.000\",\"date_of_birth\":\"2021-05-16T00:00:00.000\",\"outcome_type\":\"Adoption\",\"animal_type\":\"Cat\",\"sex_upon_outcome\":\"Spayed Female\",\"age_upon_outcome\":\"4 months\",\"breed\":\"Domestic Shorthair\",\"color\":\"Brown Tabby\"}\\n,{\"animal_id\":\"A843018\",\"name\":\"Gracie\",\"datetime\":\"2021-09-26T11:24:00.000\",\"monthyear\":\"2021-09-26T11:24:00.000\",\"date_of_birth\":\"2008-12-25T00:00:00.000\",\"outcome_type\":\"Return to Owner\",\"animal_type\":\"Dog\",\"sex_upon_outcome\":\"Spayed Female\",\"age_upon_outcome\":\"12 years\",\"breed\":\"Yorkshire Terrier/Silkie\",\"color\":\"Tan/Brown\"}\\n,{\"animal_id\":\"A843044\",\"name\":\"305 Grams\",\"datetime\":\"2021-09-26T10:32:00.000\",\"monthyear\":\"2021-09-26T10:32:00.000\",\"date_of_birth\":\"2021-09-11T00:00:00.000\",\"outcome_type\":\"Transfer\",\"outcome_subtype\":\"Partner\",\"animal_type\":\"Cat\",\"sex_upon_outcome\":\"Intact Male\",\"age_upon_outcome\":\"2 weeks\",\"breed\":\"Domestic Shorthair\",\"color\":\"Orange\"}\\n,{\"animal_id\":\"A843001\",\"datetime\":\"2021-09-26T10:23:00.000\",\"monthyear\":\"2021-09-26T10:23:00.000\",\"date_of_birth\":\"2019-09-24T00:00:00.000\",\"outcome_type\":\"Euthanasia\",\"outcome_subtype\":\"Suffering\",\"animal_type\":\"Other\",\"sex_upon_outcome\":\"Unknown\",\"age_upon_outcome\":\"2 years\",\"breed\":\"Bat\",\"color\":\"Brown\"}\\n,{\"animal_id\":\"A843010\",\"datetime\":\"2021-09-26T10:22:00.000\",\"monthyear\":\"2021-09-26T10:22:00.000\",\"date_of_birth\":\"2020-09-25T00:00:00.000\",\"outcome_type\":\"Disposal\",\"animal_type\":\"Other\",\"sex_upon_outcome\":\"Unknown\",\"age_upon_outcome\":\"1 year\",\"breed\":\"Raccoon\",\"color\":\"Black/Gray\"}\\n,{\"animal_id\":\"A842937\",\"name\":\"Rocky\",\"datetime\":\"2021-09-25T18:42:00.000\",\"monthyear\":\"2021-09-25T18:42:00.000\",\"date_of_birth\":\"2015-09-23T00:00:00.000\",\"outcome_type\":\"Adoption\",\"animal_type\":\"Cat\",\"sex_upon_outcome\":\"Spayed Female\",\"age_upon_outcome\":\"6 years\",\"breed\":\"Domestic Shorthair\",\"color\":\"Brown Tabby\"}\\n,{\"animal_id\":\"A842681\",\"datetime\":\"2021-09-25T17:36:00.000\",\"monthyear\":\"2021-09-25T17:36:00.000\",\"date_of_birth\":\"2021-05-13T00:00:00.000\",\"outcome_type\":\"Adoption\",\"animal_type\":\"Cat\",\"sex_upon_outcome\":\"Neutered Male\",\"age_upon_outcome\":\"4 months\",\"breed\":\"Domestic Medium Hair Mix\",\"color\":\"Black/White\"}\\n,{\"animal_id\":\"A840507\",\"name\":\"*Siouxsie Sioux\",\"datetime\":\"2021-09-25T16:41:00.000\",\"monthyear\":\"2021-09-25T16:41:00.000\",\"date_of_birth\":\"2021-03-09T00:00:00.000\",\"outcome_type\":\"Adoption\",\"outcome_subtype\":\"Foster\",\"animal_type\":\"Other\",\"sex_upon_outcome\":\"Intact Female\",\"age_upon_outcome\":\"6 months\",\"breed\":\"Mouse\",\"color\":\"White/Black\"}\\n,{\"animal_id\":\"A842433\",\"name\":\"*Daffodil\",\"datetime\":\"2021-09-25T16:40:00.000\",\"monthyear\":\"2021-09-25T16:40:00.000\",\"date_of_birth\":\"2019-09-15T00:00:00.000\",\"outcome_type\":\"Adoption\",\"animal_type\":\"Dog\",\"sex_upon_outcome\":\"Spayed Female\",\"age_upon_outcome\":\"2 years\",\"breed\":\"Pit Bull\",\"color\":\"Tan/White\"}\\n,{\"animal_id\":\"A784801\",\"name\":\"Canelo\",\"datetime\":\"2021-09-25T16:37:00.000\",\"monthyear\":\"2021-09-25T16:37:00.000\",\"date_of_birth\":\"2018-04-21T00:00:00.000\",\"outcome_type\":\"Transfer\",\"outcome_subtype\":\"Partner\",\"animal_type\":\"Dog\",\"sex_upon_outcome\":\"Neutered Male\",\"age_upon_outcome\":\"3 years\",\"breed\":\"Australian Cattle Dog Mix\",\"color\":\"Tan/White\"}\\n,{\"animal_id\":\"A842928\",\"name\":\"Bear\",\"datetime\":\"2021-09-25T16:20:00.000\",\"monthyear\":\"2021-09-25T16:20:00.000\",\"date_of_birth\":\"2021-06-08T00:00:00.000\",\"outcome_type\":\"Adoption\",\"animal_type\":\"Cat\",\"sex_upon_outcome\":\"Neutered Male\",\"age_upon_outcome\":\"3 months\",\"breed\":\"Domestic Shorthair\",\"color\":\"Black\"}\\n,{\"animal_id\":\"A841380\",\"datetime\":\"2021-09-25T16:08:00.000\",\"monthyear\":\"2021-09-25T16:08:00.000\",\"date_of_birth\":\"2021-07-26T00:00:00.000\",\"outcome_type\":\"Adoption\",\"animal_type\":\"Cat\",\"sex_upon_outcome\":\"Neutered Male\",\"age_upon_outcome\":\"1 month\",\"breed\":\"Domestic Shorthair\",\"color\":\"White/Brown Tabby\"}\\n,{\"animal_id\":\"A842283\",\"name\":\"*Smudge\",\"datetime\":\"2021-09-25T16:06:00.000\",\"monthyear\":\"2021-09-25T16:06:00.000\",\"date_of_birth\":\"2019-09-13T00:00:00.000\",\"outcome_type\":\"Adoption\",\"animal_type\":\"Dog\",\"sex_upon_outcome\":\"Neutered Male\",\"age_upon_outcome\":\"2 years\",\"breed\":\"Australian Cattle Dog Mix\",\"color\":\"Tricolor/Red\"}\\n,{\"animal_id\":\"A841381\",\"datetime\":\"2021-09-25T15:29:00.000\",\"monthyear\":\"2021-09-25T15:29:00.000\",\"date_of_birth\":\"2021-07-26T00:00:00.000\",\"outcome_type\":\"Adoption\",\"animal_type\":\"Cat\",\"sex_upon_outcome\":\"Neutered Male\",\"age_upon_outcome\":\"1 month\",\"breed\":\"Domestic Shorthair\",\"color\":\"White/Brown Tabby\"}\\n,{\"animal_id\":\"A842273\",\"name\":\"Angel\",\"datetime\":\"2021-09-25T15:00:00.000\",\"monthyear\":\"2021-09-25T15:00:00.000\",\"date_of_birth\":\"2020-09-13T00:00:00.000\",\"outcome_type\":\"Adoption\",\"animal_type\":\"Dog\",\"sex_upon_outcome\":\"Spayed Female\",\"age_upon_outcome\":\"1 year\",\"breed\":\"Border Collie Mix\",\"color\":\"Black/White\"}\\n,{\"animal_id\":\"A842064\",\"name\":\"Butters\",\"datetime\":\"2021-09-25T14:51:00.000\",\"monthyear\":\"2021-09-25T14:51:00.000\",\"date_of_birth\":\"2021-07-25T00:00:00.000\",\"outcome_type\":\"Adoption\",\"outcome_subtype\":\"Foster\",\"animal_type\":\"Dog\",\"sex_upon_outcome\":\"Spayed Female\",\"age_upon_outcome\":\"2 months\",\"breed\":\"Labrador Retriever Mix\",\"color\":\"Black\"}\\n,{\"animal_id\":\"A843022\",\"name\":\"Marley\",\"datetime\":\"2021-09-25T13:59:00.000\",\"monthyear\":\"2021-09-25T13:59:00.000\",\"date_of_birth\":\"2020-12-25T00:00:00.000\",\"outcome_type\":\"Return to Owner\",\"animal_type\":\"Dog\",\"sex_upon_outcome\":\"Intact Female\",\"age_upon_outcome\":\"9 months\",\"breed\":\"Jack Russell Terrier\",\"color\":\"Tan/White\"}\\n,{\"animal_id\":\"A776816\",\"name\":\"*Blake\",\"datetime\":\"2021-09-25T13:48:00.000\",\"monthyear\":\"2021-09-25T13:48:00.000\",\"date_of_birth\":\"2011-07-19T00:00:00.000\",\"outcome_type\":\"Transfer\",\"outcome_subtype\":\"Snr\",\"animal_type\":\"Cat\",\"sex_upon_outcome\":\"Neutered Male\",\"age_upon_outcome\":\"10 years\",\"breed\":\"Domestic Shorthair Mix\",\"color\":\"Silver Tabby\"}\\n,{\"animal_id\":\"A842066\",\"name\":\"Toast\",\"datetime\":\"2021-09-25T13:42:00.000\",\"monthyear\":\"2021-09-25T13:42:00.000\",\"date_of_birth\":\"2021-07-25T00:00:00.000\",\"outcome_type\":\"Adoption\",\"outcome_subtype\":\"Foster\",\"animal_type\":\"Dog\",\"sex_upon_outcome\":\"Spayed Female\",\"age_upon_outcome\":\"2 months\",\"breed\":\"Labrador Retriever Mix\",\"color\":\"Black\"}\\n,{\"animal_id\":\"A825252\",\"name\":\"*Bandicoot\",\"datetime\":\"2021-09-25T13:37:00.000\",\"monthyear\":\"2021-09-25T13:37:00.000\",\"date_of_birth\":\"2018-10-30T00:00:00.000\",\"outcome_type\":\"Adoption\",\"outcome_subtype\":\"Foster\",\"animal_type\":\"Dog\",\"sex_upon_outcome\":\"Neutered Male\",\"age_upon_outcome\":\"2 years\",\"breed\":\"Staffordshire Mix\",\"color\":\"Tan\"}\\n,{\"animal_id\":\"A840366\",\"name\":\"*Saoirse\",\"datetime\":\"2021-09-25T13:34:00.000\",\"monthyear\":\"2021-09-25T13:34:00.000\",\"date_of_birth\":\"2019-08-06T00:00:00.000\",\"outcome_type\":\"Adoption\",\"outcome_subtype\":\"Foster\",\"animal_type\":\"Cat\",\"sex_upon_outcome\":\"Spayed Female\",\"age_upon_outcome\":\"2 years\",\"breed\":\"Domestic Medium Hair\",\"color\":\"Black/White\"}\\n,{\"animal_id\":\"A831805\",\"name\":\"Kiki\",\"datetime\":\"2021-09-25T13:31:00.000\",\"monthyear\":\"2021-09-25T13:31:00.000\",\"date_of_birth\":\"2016-04-02T00:00:00.000\",\"outcome_type\":\"Adoption\",\"outcome_subtype\":\"Foster\",\"animal_type\":\"Cat\",\"sex_upon_outcome\":\"Spayed Female\",\"age_upon_outcome\":\"5 years\",\"breed\":\"Domestic Shorthair\",\"color\":\"White/Blue\"}\\n,{\"animal_id\":\"A840313\",\"name\":\"*Gavin\",\"datetime\":\"2021-09-25T13:29:00.000\",\"monthyear\":\"2021-09-25T13:29:00.000\",\"date_of_birth\":\"2021-07-05T00:00:00.000\",\"outcome_type\":\"Adoption\",\"outcome_subtype\":\"Foster\",\"animal_type\":\"Cat\",\"sex_upon_outcome\":\"Neutered Male\",\"age_upon_outcome\":\"2 months\",\"breed\":\"Domestic Shorthair Mix\",\"color\":\"Blue Tabby\"}\\n,{\"animal_id\":\"A840314\",\"name\":\"*Skye\",\"datetime\":\"2021-09-25T13:26:00.000\",\"monthyear\":\"2021-09-25T13:26:00.000\",\"date_of_birth\":\"2021-07-05T00:00:00.000\",\"outcome_type\":\"Adoption\",\"outcome_subtype\":\"Foster\",\"animal_type\":\"Cat\",\"sex_upon_outcome\":\"Spayed Female\",\"age_upon_outcome\":\"2 months\",\"breed\":\"Siamese Mix\",\"color\":\"Lynx Point\"}\\n,{\"animal_id\":\"A840312\",\"name\":\"*Kyleigh\",\"datetime\":\"2021-09-25T13:21:00.000\",\"monthyear\":\"2021-09-25T13:21:00.000\",\"date_of_birth\":\"2021-07-05T00:00:00.000\",\"outcome_type\":\"Adoption\",\"outcome_subtype\":\"Foster\",\"animal_type\":\"Cat\",\"sex_upon_outcome\":\"Spayed Female\",\"age_upon_outcome\":\"2 months\",\"breed\":\"Domestic Shorthair Mix\",\"color\":\"Blue Tabby/White\"}\\n,{\"animal_id\":\"A840315\",\"name\":\"*Mina\",\"datetime\":\"2021-09-25T13:19:00.000\",\"monthyear\":\"2021-09-25T13:19:00.000\",\"date_of_birth\":\"2021-07-05T00:00:00.000\",\"outcome_type\":\"Adoption\",\"outcome_subtype\":\"Foster\",\"animal_type\":\"Cat\",\"sex_upon_outcome\":\"Spayed Female\",\"age_upon_outcome\":\"2 months\",\"breed\":\"Snowshoe Mix\",\"color\":\"Tortie Point/White\"}\\n,{\"animal_id\":\"A838748\",\"name\":\"*Splenda\",\"datetime\":\"2021-09-25T13:17:00.000\",\"monthyear\":\"2021-09-25T13:17:00.000\",\"date_of_birth\":\"2021-06-08T00:00:00.000\",\"outcome_type\":\"Adoption\",\"outcome_subtype\":\"Foster\",\"animal_type\":\"Cat\",\"sex_upon_outcome\":\"Neutered Male\",\"age_upon_outcome\":\"3 months\",\"breed\":\"Domestic Shorthair\",\"color\":\"Black/White\"}\\n,{\"animal_id\":\"A830652\",\"name\":\"*Maui\",\"datetime\":\"2021-09-25T13:15:00.000\",\"monthyear\":\"2021-09-25T13:15:00.000\",\"date_of_birth\":\"2020-09-28T00:00:00.000\",\"outcome_type\":\"Adoption\",\"outcome_subtype\":\"Foster\",\"animal_type\":\"Cat\",\"sex_upon_outcome\":\"Neutered Male\",\"age_upon_outcome\":\"11 months\",\"breed\":\"Domestic Shorthair\",\"color\":\"Orange Tabby\"}\\n,{\"animal_id\":\"A841089\",\"name\":\"*Chaos\",\"datetime\":\"2021-09-25T13:13:00.000\",\"monthyear\":\"2021-09-25T13:13:00.000\",\"date_of_birth\":\"2021-07-13T00:00:00.000\",\"outcome_type\":\"Adoption\",\"outcome_subtype\":\"Foster\",\"animal_type\":\"Cat\",\"sex_upon_outcome\":\"Spayed Female\",\"age_upon_outcome\":\"2 months\",\"breed\":\"Domestic Shorthair\",\"color\":\"Orange Tabby\"}\\n,{\"animal_id\":\"A841088\",\"name\":\"*Anarchy\",\"datetime\":\"2021-09-25T13:11:00.000\",\"monthyear\":\"2021-09-25T13:11:00.000\",\"date_of_birth\":\"2021-07-13T00:00:00.000\",\"outcome_type\":\"Adoption\",\"outcome_subtype\":\"Foster\",\"animal_type\":\"Cat\",\"sex_upon_outcome\":\"Spayed Female\",\"age_upon_outcome\":\"2 months\",\"breed\":\"Domestic Shorthair\",\"color\":\"Orange Tabby\"}\\n,{\"animal_id\":\"A841074\",\"name\":\"A841074\",\"datetime\":\"2021-09-25T13:09:00.000\",\"monthyear\":\"2021-09-25T13:09:00.000\",\"date_of_birth\":\"2021-07-19T00:00:00.000\",\"outcome_type\":\"Adoption\",\"outcome_subtype\":\"Foster\",\"animal_type\":\"Dog\",\"sex_upon_outcome\":\"Spayed Female\",\"age_upon_outcome\":\"2 months\",\"breed\":\"Chihuahua Shorthair Mix\",\"color\":\"Black\"}\\n,{\"animal_id\":\"A840933\",\"name\":\"*Orange Julius\",\"datetime\":\"2021-09-25T13:07:00.000\",\"monthyear\":\"2021-09-25T13:07:00.000\",\"date_of_birth\":\"2021-07-17T00:00:00.000\",\"outcome_type\":\"Adoption\",\"outcome_subtype\":\"Foster\",\"animal_type\":\"Cat\",\"sex_upon_outcome\":\"Neutered Male\",\"age_upon_outcome\":\"2 months\",\"breed\":\"Domestic Shorthair Mix\",\"color\":\"Orange Tabby/White\"}\\n,{\"animal_id\":\"A839029\",\"name\":\"*Gobstopper\",\"datetime\":\"2021-09-25T13:04:00.000\",\"monthyear\":\"2021-09-25T13:04:00.000\",\"date_of_birth\":\"2021-05-23T00:00:00.000\",\"outcome_type\":\"Adoption\",\"outcome_subtype\":\"Foster\",\"animal_type\":\"Cat\",\"sex_upon_outcome\":\"Neutered Male\",\"age_upon_outcome\":\"4 months\",\"breed\":\"Domestic Shorthair\",\"color\":\"Brown Tabby\"}\\n,{\"animal_id\":\"A842065\",\"name\":\"Waffle\",\"datetime\":\"2021-09-25T13:02:00.000\",\"monthyear\":\"2021-09-25T13:02:00.000\",\"date_of_birth\":\"2021-07-25T00:00:00.000\",\"outcome_type\":\"Adoption\",\"outcome_subtype\":\"Foster\",\"animal_type\":\"Dog\",\"sex_upon_outcome\":\"Neutered Male\",\"age_upon_outcome\":\"2 months\",\"breed\":\"Labrador Retriever Mix\",\"color\":\"Black\"}\\n,{\"animal_id\":\"A842067\",\"name\":\"Grits\",\"datetime\":\"2021-09-25T12:54:00.000\",\"monthyear\":\"2021-09-25T12:54:00.000\",\"date_of_birth\":\"2021-07-25T00:00:00.000\",\"outcome_type\":\"Adoption\",\"outcome_subtype\":\"Foster\",\"animal_type\":\"Dog\",\"sex_upon_outcome\":\"Neutered Male\",\"age_upon_outcome\":\"2 months\",\"breed\":\"Labrador Retriever Mix\",\"color\":\"Black\"}\\n,{\"animal_id\":\"A842927\",\"name\":\"Jasper\",\"datetime\":\"2021-09-25T12:41:00.000\",\"monthyear\":\"2021-09-25T12:41:00.000\",\"date_of_birth\":\"2021-06-08T00:00:00.000\",\"outcome_type\":\"Adoption\",\"animal_type\":\"Cat\",\"sex_upon_outcome\":\"Neutered Male\",\"age_upon_outcome\":\"3 months\",\"breed\":\"Domestic Shorthair\",\"color\":\"Black\"}\\n,{\"animal_id\":\"A841939\",\"datetime\":\"2021-09-25T12:41:00.000\",\"monthyear\":\"2021-09-25T12:41:00.000\",\"date_of_birth\":\"2021-09-01T00:00:00.000\",\"outcome_type\":\"Adoption\",\"outcome_subtype\":\"Foster\",\"animal_type\":\"Other\",\"sex_upon_outcome\":\"Intact Female\",\"age_upon_outcome\":\"3 weeks\",\"breed\":\"Mouse\",\"color\":\"Black/White\"}]\\n'"
      ]
     },
     "metadata": {},
     "output_type": "display_data"
    }
   ],
   "source": [
    "display(data)"
   ]
  },
  {
   "cell_type": "code",
   "execution_count": 6,
   "metadata": {
    "ExecuteTime": {
     "end_time": "2021-10-19T17:11:00.675261Z",
     "start_time": "2021-10-19T17:11:00.644382Z"
    },
    "hidden": true
   },
   "outputs": [],
   "source": [
    "animals = pd.read_json(data)"
   ]
  },
  {
   "cell_type": "code",
   "execution_count": 10,
   "metadata": {
    "ExecuteTime": {
     "end_time": "2021-10-19T17:14:52.145920Z",
     "start_time": "2021-10-19T17:14:52.130333Z"
    },
    "hidden": true
   },
   "outputs": [
    {
     "data": {
      "text/html": [
       "<div>\n",
       "<style scoped>\n",
       "    .dataframe tbody tr th:only-of-type {\n",
       "        vertical-align: middle;\n",
       "    }\n",
       "\n",
       "    .dataframe tbody tr th {\n",
       "        vertical-align: top;\n",
       "    }\n",
       "\n",
       "    .dataframe thead th {\n",
       "        text-align: right;\n",
       "    }\n",
       "</style>\n",
       "<table border=\"1\" class=\"dataframe\">\n",
       "  <thead>\n",
       "    <tr style=\"text-align: right;\">\n",
       "      <th></th>\n",
       "      <th>animal_id</th>\n",
       "      <th>datetime</th>\n",
       "      <th>monthyear</th>\n",
       "      <th>date_of_birth</th>\n",
       "      <th>outcome_type</th>\n",
       "      <th>animal_type</th>\n",
       "      <th>sex_upon_outcome</th>\n",
       "      <th>age_upon_outcome</th>\n",
       "      <th>breed</th>\n",
       "      <th>color</th>\n",
       "      <th>outcome_subtype</th>\n",
       "      <th>name</th>\n",
       "    </tr>\n",
       "  </thead>\n",
       "  <tbody>\n",
       "    <tr>\n",
       "      <th>0</th>\n",
       "      <td>A844147</td>\n",
       "      <td>2021-10-18 19:20:00</td>\n",
       "      <td>2021-10-18T19:20:00.000</td>\n",
       "      <td>2021-08-21T00:00:00.000</td>\n",
       "      <td>Adoption</td>\n",
       "      <td>Dog</td>\n",
       "      <td>Neutered Male</td>\n",
       "      <td>1 month</td>\n",
       "      <td>Chihuahua Shorthair Mix</td>\n",
       "      <td>Tan</td>\n",
       "      <td>NaN</td>\n",
       "      <td>NaN</td>\n",
       "    </tr>\n",
       "    <tr>\n",
       "      <th>1</th>\n",
       "      <td>A844427</td>\n",
       "      <td>2021-10-18 18:57:00</td>\n",
       "      <td>2021-10-18T18:57:00.000</td>\n",
       "      <td>2021-08-24T00:00:00.000</td>\n",
       "      <td>Transfer</td>\n",
       "      <td>Cat</td>\n",
       "      <td>Intact Male</td>\n",
       "      <td>1 month</td>\n",
       "      <td>Domestic Shorthair</td>\n",
       "      <td>Black</td>\n",
       "      <td>Partner</td>\n",
       "      <td>NaN</td>\n",
       "    </tr>\n",
       "    <tr>\n",
       "      <th>2</th>\n",
       "      <td>A842426</td>\n",
       "      <td>2021-10-18 18:57:00</td>\n",
       "      <td>2021-10-18T18:57:00.000</td>\n",
       "      <td>2019-09-15T00:00:00.000</td>\n",
       "      <td>Adoption</td>\n",
       "      <td>Dog</td>\n",
       "      <td>Neutered Male</td>\n",
       "      <td>2 years</td>\n",
       "      <td>Beagle Mix</td>\n",
       "      <td>Black/Tricolor</td>\n",
       "      <td>NaN</td>\n",
       "      <td>*Archimedes</td>\n",
       "    </tr>\n",
       "    <tr>\n",
       "      <th>3</th>\n",
       "      <td>A841352</td>\n",
       "      <td>2021-10-18 18:45:00</td>\n",
       "      <td>2021-10-18T18:45:00.000</td>\n",
       "      <td>2021-08-23T00:00:00.000</td>\n",
       "      <td>Adoption</td>\n",
       "      <td>Dog</td>\n",
       "      <td>Spayed Female</td>\n",
       "      <td>1 month</td>\n",
       "      <td>German Shepherd/Labrador Retriever</td>\n",
       "      <td>Brown/Black</td>\n",
       "      <td>NaN</td>\n",
       "      <td>*Zivah</td>\n",
       "    </tr>\n",
       "    <tr>\n",
       "      <th>4</th>\n",
       "      <td>A844145</td>\n",
       "      <td>2021-10-18 18:39:00</td>\n",
       "      <td>2021-10-18T18:39:00.000</td>\n",
       "      <td>2019-10-12T00:00:00.000</td>\n",
       "      <td>Adoption</td>\n",
       "      <td>Dog</td>\n",
       "      <td>Spayed Female</td>\n",
       "      <td>2 years</td>\n",
       "      <td>Chihuahua Shorthair Mix</td>\n",
       "      <td>Tan/White</td>\n",
       "      <td>NaN</td>\n",
       "      <td>NaN</td>\n",
       "    </tr>\n",
       "    <tr>\n",
       "      <th>5</th>\n",
       "      <td>A843692</td>\n",
       "      <td>2021-10-18 18:21:00</td>\n",
       "      <td>2021-10-18T18:21:00.000</td>\n",
       "      <td>2021-07-21T00:00:00.000</td>\n",
       "      <td>Adoption</td>\n",
       "      <td>Cat</td>\n",
       "      <td>Spayed Female</td>\n",
       "      <td>2 months</td>\n",
       "      <td>Domestic Shorthair</td>\n",
       "      <td>Brown Tabby/White</td>\n",
       "      <td>NaN</td>\n",
       "      <td>Jerry</td>\n",
       "    </tr>\n",
       "    <tr>\n",
       "      <th>6</th>\n",
       "      <td>A842113</td>\n",
       "      <td>2021-10-18 18:16:00</td>\n",
       "      <td>2021-10-18T18:16:00.000</td>\n",
       "      <td>2021-08-09T00:00:00.000</td>\n",
       "      <td>Adoption</td>\n",
       "      <td>Cat</td>\n",
       "      <td>Spayed Female</td>\n",
       "      <td>2 months</td>\n",
       "      <td>Domestic Shorthair</td>\n",
       "      <td>Brown Tabby</td>\n",
       "      <td>NaN</td>\n",
       "      <td>Cudi</td>\n",
       "    </tr>\n",
       "    <tr>\n",
       "      <th>7</th>\n",
       "      <td>A843602</td>\n",
       "      <td>2021-10-18 18:05:00</td>\n",
       "      <td>2021-10-18T18:05:00.000</td>\n",
       "      <td>2021-07-20T00:00:00.000</td>\n",
       "      <td>Adoption</td>\n",
       "      <td>Cat</td>\n",
       "      <td>Spayed Female</td>\n",
       "      <td>2 months</td>\n",
       "      <td>Domestic Shorthair</td>\n",
       "      <td>Torbie/White</td>\n",
       "      <td>NaN</td>\n",
       "      <td>Lyra</td>\n",
       "    </tr>\n",
       "    <tr>\n",
       "      <th>8</th>\n",
       "      <td>A844551</td>\n",
       "      <td>2021-10-18 18:02:00</td>\n",
       "      <td>2021-10-18T18:02:00.000</td>\n",
       "      <td>2018-10-17T00:00:00.000</td>\n",
       "      <td>Return to Owner</td>\n",
       "      <td>Dog</td>\n",
       "      <td>Intact Female</td>\n",
       "      <td>3 years</td>\n",
       "      <td>Beagle Mix</td>\n",
       "      <td>Black/Brown</td>\n",
       "      <td>NaN</td>\n",
       "      <td>Myla</td>\n",
       "    </tr>\n",
       "    <tr>\n",
       "      <th>9</th>\n",
       "      <td>A838947</td>\n",
       "      <td>2021-10-18 17:58:00</td>\n",
       "      <td>2021-10-18T17:58:00.000</td>\n",
       "      <td>2021-03-14T00:00:00.000</td>\n",
       "      <td>Adoption</td>\n",
       "      <td>Cat</td>\n",
       "      <td>Neutered Male</td>\n",
       "      <td>7 months</td>\n",
       "      <td>Bengal Mix</td>\n",
       "      <td>Brown Tabby</td>\n",
       "      <td>NaN</td>\n",
       "      <td>*Cattabus</td>\n",
       "    </tr>\n",
       "  </tbody>\n",
       "</table>\n",
       "</div>"
      ],
      "text/plain": [
       "  animal_id            datetime                monthyear  \\\n",
       "0   A844147 2021-10-18 19:20:00  2021-10-18T19:20:00.000   \n",
       "1   A844427 2021-10-18 18:57:00  2021-10-18T18:57:00.000   \n",
       "2   A842426 2021-10-18 18:57:00  2021-10-18T18:57:00.000   \n",
       "3   A841352 2021-10-18 18:45:00  2021-10-18T18:45:00.000   \n",
       "4   A844145 2021-10-18 18:39:00  2021-10-18T18:39:00.000   \n",
       "5   A843692 2021-10-18 18:21:00  2021-10-18T18:21:00.000   \n",
       "6   A842113 2021-10-18 18:16:00  2021-10-18T18:16:00.000   \n",
       "7   A843602 2021-10-18 18:05:00  2021-10-18T18:05:00.000   \n",
       "8   A844551 2021-10-18 18:02:00  2021-10-18T18:02:00.000   \n",
       "9   A838947 2021-10-18 17:58:00  2021-10-18T17:58:00.000   \n",
       "\n",
       "             date_of_birth     outcome_type animal_type sex_upon_outcome  \\\n",
       "0  2021-08-21T00:00:00.000         Adoption         Dog    Neutered Male   \n",
       "1  2021-08-24T00:00:00.000         Transfer         Cat      Intact Male   \n",
       "2  2019-09-15T00:00:00.000         Adoption         Dog    Neutered Male   \n",
       "3  2021-08-23T00:00:00.000         Adoption         Dog    Spayed Female   \n",
       "4  2019-10-12T00:00:00.000         Adoption         Dog    Spayed Female   \n",
       "5  2021-07-21T00:00:00.000         Adoption         Cat    Spayed Female   \n",
       "6  2021-08-09T00:00:00.000         Adoption         Cat    Spayed Female   \n",
       "7  2021-07-20T00:00:00.000         Adoption         Cat    Spayed Female   \n",
       "8  2018-10-17T00:00:00.000  Return to Owner         Dog    Intact Female   \n",
       "9  2021-03-14T00:00:00.000         Adoption         Cat    Neutered Male   \n",
       "\n",
       "  age_upon_outcome                               breed              color  \\\n",
       "0          1 month             Chihuahua Shorthair Mix                Tan   \n",
       "1          1 month                  Domestic Shorthair              Black   \n",
       "2          2 years                          Beagle Mix     Black/Tricolor   \n",
       "3          1 month  German Shepherd/Labrador Retriever        Brown/Black   \n",
       "4          2 years             Chihuahua Shorthair Mix          Tan/White   \n",
       "5         2 months                  Domestic Shorthair  Brown Tabby/White   \n",
       "6         2 months                  Domestic Shorthair        Brown Tabby   \n",
       "7         2 months                  Domestic Shorthair       Torbie/White   \n",
       "8          3 years                          Beagle Mix        Black/Brown   \n",
       "9         7 months                          Bengal Mix        Brown Tabby   \n",
       "\n",
       "  outcome_subtype         name  \n",
       "0             NaN          NaN  \n",
       "1         Partner          NaN  \n",
       "2             NaN  *Archimedes  \n",
       "3             NaN       *Zivah  \n",
       "4             NaN          NaN  \n",
       "5             NaN        Jerry  \n",
       "6             NaN         Cudi  \n",
       "7             NaN         Lyra  \n",
       "8             NaN         Myla  \n",
       "9             NaN    *Cattabus  "
      ]
     },
     "execution_count": 10,
     "metadata": {},
     "output_type": "execute_result"
    }
   ],
   "source": [
    "animals.head(10)"
   ]
  },
  {
   "cell_type": "markdown",
   "metadata": {
    "heading_collapsed": true
   },
   "source": [
    "# Aggregating over DataFrames: `.groupby()`"
   ]
  },
  {
   "cell_type": "markdown",
   "metadata": {
    "hidden": true
   },
   "source": [
    "Those of you familiar with SQL have probably used the GROUP BY command. (And if you haven't, you'll see it very soon!) Pandas has this, too.\n",
    "\n",
    "The `.groupby()` method is especially useful for aggregate functions applied to the data grouped in particular ways."
   ]
  },
  {
   "cell_type": "code",
   "execution_count": 8,
   "metadata": {
    "ExecuteTime": {
     "end_time": "2021-10-19T17:13:55.874102Z",
     "start_time": "2021-10-19T17:13:55.870446Z"
    },
    "hidden": true
   },
   "outputs": [
    {
     "data": {
      "text/plain": [
       "<pandas.core.groupby.generic.DataFrameGroupBy object at 0x7fc4f43ea4c0>"
      ]
     },
     "execution_count": 8,
     "metadata": {},
     "output_type": "execute_result"
    }
   ],
   "source": [
    "animals.groupby('animal_type')"
   ]
  },
  {
   "cell_type": "code",
   "execution_count": 9,
   "metadata": {
    "ExecuteTime": {
     "end_time": "2021-10-19T17:14:31.017339Z",
     "start_time": "2021-10-19T17:14:31.013562Z"
    },
    "hidden": true
   },
   "outputs": [
    {
     "data": {
      "text/plain": [
       "Index(['animal_id', 'datetime', 'monthyear', 'date_of_birth', 'outcome_type',\n",
       "       'animal_type', 'sex_upon_outcome', 'age_upon_outcome', 'breed', 'color',\n",
       "       'outcome_subtype', 'name'],\n",
       "      dtype='object')"
      ]
     },
     "execution_count": 9,
     "metadata": {},
     "output_type": "execute_result"
    }
   ],
   "source": [
    "animals.columns"
   ]
  },
  {
   "cell_type": "markdown",
   "metadata": {
    "hidden": true
   },
   "source": [
    "We can group by multiple columns, and also return a DataFrameGroupBy object\n",
    "\n",
    "Notice the object type [DataFrameGroupBy](https://pandas.pydata.org/pandas-docs/stable/user_guide/groupby.html) object. "
   ]
  },
  {
   "cell_type": "markdown",
   "metadata": {
    "heading_collapsed": true,
    "hidden": true
   },
   "source": [
    "## `.groups` and `.get_group()`"
   ]
  },
  {
   "cell_type": "code",
   "execution_count": 11,
   "metadata": {
    "ExecuteTime": {
     "end_time": "2021-10-19T17:15:57.308357Z",
     "start_time": "2021-10-19T17:15:57.301149Z"
    },
    "hidden": true
   },
   "outputs": [
    {
     "data": {
      "text/plain": [
       "{'Bird': [142, 454], 'Cat': [1, 5, 6, 7, 9, 10, 21, 22, 27, 28, 29, 31, 34, 36, 49, 54, 55, 58, 60, 61, 66, 67, 70, 71, 75, 76, 77, 78, 79, 80, 81, 85, 86, 87, 88, 89, 90, 92, 94, 95, 96, 101, 103, 104, 105, 108, 110, 111, 112, 113, 114, 115, 120, 126, 131, 132, 133, 134, 137, 141, 144, 152, 153, 157, 158, 166, 167, 169, 171, 172, 173, 176, 177, 178, 179, 180, 181, 182, 184, 188, 191, 192, 194, 195, 196, 198, 199, 201, 202, 204, 205, 206, 207, 208, 209, 212, 213, 214, 216, 217, ...], 'Dog': [0, 2, 3, 4, 8, 11, 12, 13, 14, 15, 16, 17, 18, 19, 20, 23, 24, 25, 26, 30, 32, 33, 35, 37, 38, 39, 40, 41, 42, 43, 46, 47, 50, 52, 53, 56, 57, 59, 62, 63, 68, 69, 72, 73, 74, 82, 83, 84, 91, 93, 97, 98, 99, 100, 102, 106, 107, 109, 116, 117, 118, 119, 121, 122, 123, 124, 125, 129, 130, 135, 136, 138, 139, 140, 143, 145, 146, 147, 149, 150, 151, 155, 156, 159, 160, 161, 162, 163, 164, 165, 168, 170, 174, 175, 183, 185, 186, 187, 189, 193, ...], 'Other': [44, 45, 48, 51, 64, 65, 127, 128, 148, 154, 190, 310, 327, 329, 331, 332, 339, 372, 391, 422, 452, 493, 494, 499, 500, 504, 535, 548, 549, 550, 570, 572, 583, 631, 632, 634, 635, 636, 641, 644, 645, 680, 701, 715, 716, 717, 757, 761, 762, 800, 824, 847, 848, 966, 967, 970, 999]}"
      ]
     },
     "execution_count": 11,
     "metadata": {},
     "output_type": "execute_result"
    }
   ],
   "source": [
    "# This retuns each group indexed by the group name, e.g. 'Bird',\n",
    "# along with the row indices of each value\n",
    "\n",
    "animals.groupby('animal_type').groups"
   ]
  },
  {
   "cell_type": "markdown",
   "metadata": {
    "hidden": true
   },
   "source": [
    "Once we know we are working with a type of object, it opens up a suite of attributes and methods. One attribute we can look at is groups."
   ]
  },
  {
   "cell_type": "code",
   "execution_count": 12,
   "metadata": {
    "ExecuteTime": {
     "end_time": "2021-10-19T17:17:27.440561Z",
     "start_time": "2021-10-19T17:17:27.418357Z"
    },
    "hidden": true
   },
   "outputs": [
    {
     "data": {
      "text/html": [
       "<div>\n",
       "<style scoped>\n",
       "    .dataframe tbody tr th:only-of-type {\n",
       "        vertical-align: middle;\n",
       "    }\n",
       "\n",
       "    .dataframe tbody tr th {\n",
       "        vertical-align: top;\n",
       "    }\n",
       "\n",
       "    .dataframe thead th {\n",
       "        text-align: right;\n",
       "    }\n",
       "</style>\n",
       "<table border=\"1\" class=\"dataframe\">\n",
       "  <thead>\n",
       "    <tr style=\"text-align: right;\">\n",
       "      <th></th>\n",
       "      <th>animal_id</th>\n",
       "      <th>datetime</th>\n",
       "      <th>monthyear</th>\n",
       "      <th>date_of_birth</th>\n",
       "      <th>outcome_type</th>\n",
       "      <th>animal_type</th>\n",
       "      <th>sex_upon_outcome</th>\n",
       "      <th>age_upon_outcome</th>\n",
       "      <th>breed</th>\n",
       "      <th>color</th>\n",
       "      <th>outcome_subtype</th>\n",
       "      <th>name</th>\n",
       "    </tr>\n",
       "  </thead>\n",
       "  <tbody>\n",
       "    <tr>\n",
       "      <th>0</th>\n",
       "      <td>A844147</td>\n",
       "      <td>2021-10-18 19:20:00</td>\n",
       "      <td>2021-10-18T19:20:00.000</td>\n",
       "      <td>2021-08-21T00:00:00.000</td>\n",
       "      <td>Adoption</td>\n",
       "      <td>Dog</td>\n",
       "      <td>Neutered Male</td>\n",
       "      <td>1 month</td>\n",
       "      <td>Chihuahua Shorthair Mix</td>\n",
       "      <td>Tan</td>\n",
       "      <td>NaN</td>\n",
       "      <td>NaN</td>\n",
       "    </tr>\n",
       "    <tr>\n",
       "      <th>2</th>\n",
       "      <td>A842426</td>\n",
       "      <td>2021-10-18 18:57:00</td>\n",
       "      <td>2021-10-18T18:57:00.000</td>\n",
       "      <td>2019-09-15T00:00:00.000</td>\n",
       "      <td>Adoption</td>\n",
       "      <td>Dog</td>\n",
       "      <td>Neutered Male</td>\n",
       "      <td>2 years</td>\n",
       "      <td>Beagle Mix</td>\n",
       "      <td>Black/Tricolor</td>\n",
       "      <td>NaN</td>\n",
       "      <td>*Archimedes</td>\n",
       "    </tr>\n",
       "    <tr>\n",
       "      <th>3</th>\n",
       "      <td>A841352</td>\n",
       "      <td>2021-10-18 18:45:00</td>\n",
       "      <td>2021-10-18T18:45:00.000</td>\n",
       "      <td>2021-08-23T00:00:00.000</td>\n",
       "      <td>Adoption</td>\n",
       "      <td>Dog</td>\n",
       "      <td>Spayed Female</td>\n",
       "      <td>1 month</td>\n",
       "      <td>German Shepherd/Labrador Retriever</td>\n",
       "      <td>Brown/Black</td>\n",
       "      <td>NaN</td>\n",
       "      <td>*Zivah</td>\n",
       "    </tr>\n",
       "    <tr>\n",
       "      <th>4</th>\n",
       "      <td>A844145</td>\n",
       "      <td>2021-10-18 18:39:00</td>\n",
       "      <td>2021-10-18T18:39:00.000</td>\n",
       "      <td>2019-10-12T00:00:00.000</td>\n",
       "      <td>Adoption</td>\n",
       "      <td>Dog</td>\n",
       "      <td>Spayed Female</td>\n",
       "      <td>2 years</td>\n",
       "      <td>Chihuahua Shorthair Mix</td>\n",
       "      <td>Tan/White</td>\n",
       "      <td>NaN</td>\n",
       "      <td>NaN</td>\n",
       "    </tr>\n",
       "    <tr>\n",
       "      <th>8</th>\n",
       "      <td>A844551</td>\n",
       "      <td>2021-10-18 18:02:00</td>\n",
       "      <td>2021-10-18T18:02:00.000</td>\n",
       "      <td>2018-10-17T00:00:00.000</td>\n",
       "      <td>Return to Owner</td>\n",
       "      <td>Dog</td>\n",
       "      <td>Intact Female</td>\n",
       "      <td>3 years</td>\n",
       "      <td>Beagle Mix</td>\n",
       "      <td>Black/Brown</td>\n",
       "      <td>NaN</td>\n",
       "      <td>Myla</td>\n",
       "    </tr>\n",
       "    <tr>\n",
       "      <th>...</th>\n",
       "      <td>...</td>\n",
       "      <td>...</td>\n",
       "      <td>...</td>\n",
       "      <td>...</td>\n",
       "      <td>...</td>\n",
       "      <td>...</td>\n",
       "      <td>...</td>\n",
       "      <td>...</td>\n",
       "      <td>...</td>\n",
       "      <td>...</td>\n",
       "      <td>...</td>\n",
       "      <td>...</td>\n",
       "    </tr>\n",
       "    <tr>\n",
       "      <th>981</th>\n",
       "      <td>A842066</td>\n",
       "      <td>2021-09-25 13:42:00</td>\n",
       "      <td>2021-09-25T13:42:00.000</td>\n",
       "      <td>2021-07-25T00:00:00.000</td>\n",
       "      <td>Adoption</td>\n",
       "      <td>Dog</td>\n",
       "      <td>Spayed Female</td>\n",
       "      <td>2 months</td>\n",
       "      <td>Labrador Retriever Mix</td>\n",
       "      <td>Black</td>\n",
       "      <td>Foster</td>\n",
       "      <td>Toast</td>\n",
       "    </tr>\n",
       "    <tr>\n",
       "      <th>982</th>\n",
       "      <td>A825252</td>\n",
       "      <td>2021-09-25 13:37:00</td>\n",
       "      <td>2021-09-25T13:37:00.000</td>\n",
       "      <td>2018-10-30T00:00:00.000</td>\n",
       "      <td>Adoption</td>\n",
       "      <td>Dog</td>\n",
       "      <td>Neutered Male</td>\n",
       "      <td>2 years</td>\n",
       "      <td>Staffordshire Mix</td>\n",
       "      <td>Tan</td>\n",
       "      <td>Foster</td>\n",
       "      <td>*Bandicoot</td>\n",
       "    </tr>\n",
       "    <tr>\n",
       "      <th>993</th>\n",
       "      <td>A841074</td>\n",
       "      <td>2021-09-25 13:09:00</td>\n",
       "      <td>2021-09-25T13:09:00.000</td>\n",
       "      <td>2021-07-19T00:00:00.000</td>\n",
       "      <td>Adoption</td>\n",
       "      <td>Dog</td>\n",
       "      <td>Spayed Female</td>\n",
       "      <td>2 months</td>\n",
       "      <td>Chihuahua Shorthair Mix</td>\n",
       "      <td>Black</td>\n",
       "      <td>Foster</td>\n",
       "      <td>A841074</td>\n",
       "    </tr>\n",
       "    <tr>\n",
       "      <th>996</th>\n",
       "      <td>A842065</td>\n",
       "      <td>2021-09-25 13:02:00</td>\n",
       "      <td>2021-09-25T13:02:00.000</td>\n",
       "      <td>2021-07-25T00:00:00.000</td>\n",
       "      <td>Adoption</td>\n",
       "      <td>Dog</td>\n",
       "      <td>Neutered Male</td>\n",
       "      <td>2 months</td>\n",
       "      <td>Labrador Retriever Mix</td>\n",
       "      <td>Black</td>\n",
       "      <td>Foster</td>\n",
       "      <td>Waffle</td>\n",
       "    </tr>\n",
       "    <tr>\n",
       "      <th>997</th>\n",
       "      <td>A842067</td>\n",
       "      <td>2021-09-25 12:54:00</td>\n",
       "      <td>2021-09-25T12:54:00.000</td>\n",
       "      <td>2021-07-25T00:00:00.000</td>\n",
       "      <td>Adoption</td>\n",
       "      <td>Dog</td>\n",
       "      <td>Neutered Male</td>\n",
       "      <td>2 months</td>\n",
       "      <td>Labrador Retriever Mix</td>\n",
       "      <td>Black</td>\n",
       "      <td>Foster</td>\n",
       "      <td>Grits</td>\n",
       "    </tr>\n",
       "  </tbody>\n",
       "</table>\n",
       "<p>468 rows × 12 columns</p>\n",
       "</div>"
      ],
      "text/plain": [
       "    animal_id            datetime                monthyear  \\\n",
       "0     A844147 2021-10-18 19:20:00  2021-10-18T19:20:00.000   \n",
       "2     A842426 2021-10-18 18:57:00  2021-10-18T18:57:00.000   \n",
       "3     A841352 2021-10-18 18:45:00  2021-10-18T18:45:00.000   \n",
       "4     A844145 2021-10-18 18:39:00  2021-10-18T18:39:00.000   \n",
       "8     A844551 2021-10-18 18:02:00  2021-10-18T18:02:00.000   \n",
       "..        ...                 ...                      ...   \n",
       "981   A842066 2021-09-25 13:42:00  2021-09-25T13:42:00.000   \n",
       "982   A825252 2021-09-25 13:37:00  2021-09-25T13:37:00.000   \n",
       "993   A841074 2021-09-25 13:09:00  2021-09-25T13:09:00.000   \n",
       "996   A842065 2021-09-25 13:02:00  2021-09-25T13:02:00.000   \n",
       "997   A842067 2021-09-25 12:54:00  2021-09-25T12:54:00.000   \n",
       "\n",
       "               date_of_birth     outcome_type animal_type sex_upon_outcome  \\\n",
       "0    2021-08-21T00:00:00.000         Adoption         Dog    Neutered Male   \n",
       "2    2019-09-15T00:00:00.000         Adoption         Dog    Neutered Male   \n",
       "3    2021-08-23T00:00:00.000         Adoption         Dog    Spayed Female   \n",
       "4    2019-10-12T00:00:00.000         Adoption         Dog    Spayed Female   \n",
       "8    2018-10-17T00:00:00.000  Return to Owner         Dog    Intact Female   \n",
       "..                       ...              ...         ...              ...   \n",
       "981  2021-07-25T00:00:00.000         Adoption         Dog    Spayed Female   \n",
       "982  2018-10-30T00:00:00.000         Adoption         Dog    Neutered Male   \n",
       "993  2021-07-19T00:00:00.000         Adoption         Dog    Spayed Female   \n",
       "996  2021-07-25T00:00:00.000         Adoption         Dog    Neutered Male   \n",
       "997  2021-07-25T00:00:00.000         Adoption         Dog    Neutered Male   \n",
       "\n",
       "    age_upon_outcome                               breed           color  \\\n",
       "0            1 month             Chihuahua Shorthair Mix             Tan   \n",
       "2            2 years                          Beagle Mix  Black/Tricolor   \n",
       "3            1 month  German Shepherd/Labrador Retriever     Brown/Black   \n",
       "4            2 years             Chihuahua Shorthair Mix       Tan/White   \n",
       "8            3 years                          Beagle Mix     Black/Brown   \n",
       "..               ...                                 ...             ...   \n",
       "981         2 months              Labrador Retriever Mix           Black   \n",
       "982          2 years                   Staffordshire Mix             Tan   \n",
       "993         2 months             Chihuahua Shorthair Mix           Black   \n",
       "996         2 months              Labrador Retriever Mix           Black   \n",
       "997         2 months              Labrador Retriever Mix           Black   \n",
       "\n",
       "    outcome_subtype         name  \n",
       "0               NaN          NaN  \n",
       "2               NaN  *Archimedes  \n",
       "3               NaN       *Zivah  \n",
       "4               NaN          NaN  \n",
       "8               NaN         Myla  \n",
       "..              ...          ...  \n",
       "981          Foster        Toast  \n",
       "982          Foster   *Bandicoot  \n",
       "993          Foster      A841074  \n",
       "996          Foster       Waffle  \n",
       "997          Foster        Grits  \n",
       "\n",
       "[468 rows x 12 columns]"
      ]
     },
     "execution_count": 12,
     "metadata": {},
     "output_type": "execute_result"
    }
   ],
   "source": [
    "# Once we know the group indices, we can return the groups using those indices.\n",
    "animals.groupby('animal_type').get_group('Dog')"
   ]
  },
  {
   "cell_type": "code",
   "execution_count": 14,
   "metadata": {
    "ExecuteTime": {
     "end_time": "2021-10-19T17:18:25.831825Z",
     "start_time": "2021-10-19T17:18:25.811859Z"
    }
   },
   "outputs": [
    {
     "data": {
      "text/html": [
       "<div>\n",
       "<style scoped>\n",
       "    .dataframe tbody tr th:only-of-type {\n",
       "        vertical-align: middle;\n",
       "    }\n",
       "\n",
       "    .dataframe tbody tr th {\n",
       "        vertical-align: top;\n",
       "    }\n",
       "\n",
       "    .dataframe thead th {\n",
       "        text-align: right;\n",
       "    }\n",
       "</style>\n",
       "<table border=\"1\" class=\"dataframe\">\n",
       "  <thead>\n",
       "    <tr style=\"text-align: right;\">\n",
       "      <th></th>\n",
       "      <th>animal_id</th>\n",
       "      <th>datetime</th>\n",
       "      <th>monthyear</th>\n",
       "      <th>date_of_birth</th>\n",
       "      <th>outcome_type</th>\n",
       "      <th>animal_type</th>\n",
       "      <th>sex_upon_outcome</th>\n",
       "      <th>age_upon_outcome</th>\n",
       "      <th>breed</th>\n",
       "      <th>color</th>\n",
       "      <th>outcome_subtype</th>\n",
       "      <th>name</th>\n",
       "    </tr>\n",
       "  </thead>\n",
       "  <tbody>\n",
       "    <tr>\n",
       "      <th>0</th>\n",
       "      <td>A844147</td>\n",
       "      <td>2021-10-18 19:20:00</td>\n",
       "      <td>2021-10-18T19:20:00.000</td>\n",
       "      <td>2021-08-21T00:00:00.000</td>\n",
       "      <td>Adoption</td>\n",
       "      <td>Dog</td>\n",
       "      <td>Neutered Male</td>\n",
       "      <td>1 month</td>\n",
       "      <td>Chihuahua Shorthair Mix</td>\n",
       "      <td>Tan</td>\n",
       "      <td>NaN</td>\n",
       "      <td>NaN</td>\n",
       "    </tr>\n",
       "    <tr>\n",
       "      <th>2</th>\n",
       "      <td>A842426</td>\n",
       "      <td>2021-10-18 18:57:00</td>\n",
       "      <td>2021-10-18T18:57:00.000</td>\n",
       "      <td>2019-09-15T00:00:00.000</td>\n",
       "      <td>Adoption</td>\n",
       "      <td>Dog</td>\n",
       "      <td>Neutered Male</td>\n",
       "      <td>2 years</td>\n",
       "      <td>Beagle Mix</td>\n",
       "      <td>Black/Tricolor</td>\n",
       "      <td>NaN</td>\n",
       "      <td>*Archimedes</td>\n",
       "    </tr>\n",
       "    <tr>\n",
       "      <th>3</th>\n",
       "      <td>A841352</td>\n",
       "      <td>2021-10-18 18:45:00</td>\n",
       "      <td>2021-10-18T18:45:00.000</td>\n",
       "      <td>2021-08-23T00:00:00.000</td>\n",
       "      <td>Adoption</td>\n",
       "      <td>Dog</td>\n",
       "      <td>Spayed Female</td>\n",
       "      <td>1 month</td>\n",
       "      <td>German Shepherd/Labrador Retriever</td>\n",
       "      <td>Brown/Black</td>\n",
       "      <td>NaN</td>\n",
       "      <td>*Zivah</td>\n",
       "    </tr>\n",
       "    <tr>\n",
       "      <th>4</th>\n",
       "      <td>A844145</td>\n",
       "      <td>2021-10-18 18:39:00</td>\n",
       "      <td>2021-10-18T18:39:00.000</td>\n",
       "      <td>2019-10-12T00:00:00.000</td>\n",
       "      <td>Adoption</td>\n",
       "      <td>Dog</td>\n",
       "      <td>Spayed Female</td>\n",
       "      <td>2 years</td>\n",
       "      <td>Chihuahua Shorthair Mix</td>\n",
       "      <td>Tan/White</td>\n",
       "      <td>NaN</td>\n",
       "      <td>NaN</td>\n",
       "    </tr>\n",
       "    <tr>\n",
       "      <th>8</th>\n",
       "      <td>A844551</td>\n",
       "      <td>2021-10-18 18:02:00</td>\n",
       "      <td>2021-10-18T18:02:00.000</td>\n",
       "      <td>2018-10-17T00:00:00.000</td>\n",
       "      <td>Return to Owner</td>\n",
       "      <td>Dog</td>\n",
       "      <td>Intact Female</td>\n",
       "      <td>3 years</td>\n",
       "      <td>Beagle Mix</td>\n",
       "      <td>Black/Brown</td>\n",
       "      <td>NaN</td>\n",
       "      <td>Myla</td>\n",
       "    </tr>\n",
       "    <tr>\n",
       "      <th>...</th>\n",
       "      <td>...</td>\n",
       "      <td>...</td>\n",
       "      <td>...</td>\n",
       "      <td>...</td>\n",
       "      <td>...</td>\n",
       "      <td>...</td>\n",
       "      <td>...</td>\n",
       "      <td>...</td>\n",
       "      <td>...</td>\n",
       "      <td>...</td>\n",
       "      <td>...</td>\n",
       "      <td>...</td>\n",
       "    </tr>\n",
       "    <tr>\n",
       "      <th>981</th>\n",
       "      <td>A842066</td>\n",
       "      <td>2021-09-25 13:42:00</td>\n",
       "      <td>2021-09-25T13:42:00.000</td>\n",
       "      <td>2021-07-25T00:00:00.000</td>\n",
       "      <td>Adoption</td>\n",
       "      <td>Dog</td>\n",
       "      <td>Spayed Female</td>\n",
       "      <td>2 months</td>\n",
       "      <td>Labrador Retriever Mix</td>\n",
       "      <td>Black</td>\n",
       "      <td>Foster</td>\n",
       "      <td>Toast</td>\n",
       "    </tr>\n",
       "    <tr>\n",
       "      <th>982</th>\n",
       "      <td>A825252</td>\n",
       "      <td>2021-09-25 13:37:00</td>\n",
       "      <td>2021-09-25T13:37:00.000</td>\n",
       "      <td>2018-10-30T00:00:00.000</td>\n",
       "      <td>Adoption</td>\n",
       "      <td>Dog</td>\n",
       "      <td>Neutered Male</td>\n",
       "      <td>2 years</td>\n",
       "      <td>Staffordshire Mix</td>\n",
       "      <td>Tan</td>\n",
       "      <td>Foster</td>\n",
       "      <td>*Bandicoot</td>\n",
       "    </tr>\n",
       "    <tr>\n",
       "      <th>993</th>\n",
       "      <td>A841074</td>\n",
       "      <td>2021-09-25 13:09:00</td>\n",
       "      <td>2021-09-25T13:09:00.000</td>\n",
       "      <td>2021-07-19T00:00:00.000</td>\n",
       "      <td>Adoption</td>\n",
       "      <td>Dog</td>\n",
       "      <td>Spayed Female</td>\n",
       "      <td>2 months</td>\n",
       "      <td>Chihuahua Shorthair Mix</td>\n",
       "      <td>Black</td>\n",
       "      <td>Foster</td>\n",
       "      <td>A841074</td>\n",
       "    </tr>\n",
       "    <tr>\n",
       "      <th>996</th>\n",
       "      <td>A842065</td>\n",
       "      <td>2021-09-25 13:02:00</td>\n",
       "      <td>2021-09-25T13:02:00.000</td>\n",
       "      <td>2021-07-25T00:00:00.000</td>\n",
       "      <td>Adoption</td>\n",
       "      <td>Dog</td>\n",
       "      <td>Neutered Male</td>\n",
       "      <td>2 months</td>\n",
       "      <td>Labrador Retriever Mix</td>\n",
       "      <td>Black</td>\n",
       "      <td>Foster</td>\n",
       "      <td>Waffle</td>\n",
       "    </tr>\n",
       "    <tr>\n",
       "      <th>997</th>\n",
       "      <td>A842067</td>\n",
       "      <td>2021-09-25 12:54:00</td>\n",
       "      <td>2021-09-25T12:54:00.000</td>\n",
       "      <td>2021-07-25T00:00:00.000</td>\n",
       "      <td>Adoption</td>\n",
       "      <td>Dog</td>\n",
       "      <td>Neutered Male</td>\n",
       "      <td>2 months</td>\n",
       "      <td>Labrador Retriever Mix</td>\n",
       "      <td>Black</td>\n",
       "      <td>Foster</td>\n",
       "      <td>Grits</td>\n",
       "    </tr>\n",
       "  </tbody>\n",
       "</table>\n",
       "<p>468 rows × 12 columns</p>\n",
       "</div>"
      ],
      "text/plain": [
       "    animal_id            datetime                monthyear  \\\n",
       "0     A844147 2021-10-18 19:20:00  2021-10-18T19:20:00.000   \n",
       "2     A842426 2021-10-18 18:57:00  2021-10-18T18:57:00.000   \n",
       "3     A841352 2021-10-18 18:45:00  2021-10-18T18:45:00.000   \n",
       "4     A844145 2021-10-18 18:39:00  2021-10-18T18:39:00.000   \n",
       "8     A844551 2021-10-18 18:02:00  2021-10-18T18:02:00.000   \n",
       "..        ...                 ...                      ...   \n",
       "981   A842066 2021-09-25 13:42:00  2021-09-25T13:42:00.000   \n",
       "982   A825252 2021-09-25 13:37:00  2021-09-25T13:37:00.000   \n",
       "993   A841074 2021-09-25 13:09:00  2021-09-25T13:09:00.000   \n",
       "996   A842065 2021-09-25 13:02:00  2021-09-25T13:02:00.000   \n",
       "997   A842067 2021-09-25 12:54:00  2021-09-25T12:54:00.000   \n",
       "\n",
       "               date_of_birth     outcome_type animal_type sex_upon_outcome  \\\n",
       "0    2021-08-21T00:00:00.000         Adoption         Dog    Neutered Male   \n",
       "2    2019-09-15T00:00:00.000         Adoption         Dog    Neutered Male   \n",
       "3    2021-08-23T00:00:00.000         Adoption         Dog    Spayed Female   \n",
       "4    2019-10-12T00:00:00.000         Adoption         Dog    Spayed Female   \n",
       "8    2018-10-17T00:00:00.000  Return to Owner         Dog    Intact Female   \n",
       "..                       ...              ...         ...              ...   \n",
       "981  2021-07-25T00:00:00.000         Adoption         Dog    Spayed Female   \n",
       "982  2018-10-30T00:00:00.000         Adoption         Dog    Neutered Male   \n",
       "993  2021-07-19T00:00:00.000         Adoption         Dog    Spayed Female   \n",
       "996  2021-07-25T00:00:00.000         Adoption         Dog    Neutered Male   \n",
       "997  2021-07-25T00:00:00.000         Adoption         Dog    Neutered Male   \n",
       "\n",
       "    age_upon_outcome                               breed           color  \\\n",
       "0            1 month             Chihuahua Shorthair Mix             Tan   \n",
       "2            2 years                          Beagle Mix  Black/Tricolor   \n",
       "3            1 month  German Shepherd/Labrador Retriever     Brown/Black   \n",
       "4            2 years             Chihuahua Shorthair Mix       Tan/White   \n",
       "8            3 years                          Beagle Mix     Black/Brown   \n",
       "..               ...                                 ...             ...   \n",
       "981         2 months              Labrador Retriever Mix           Black   \n",
       "982          2 years                   Staffordshire Mix             Tan   \n",
       "993         2 months             Chihuahua Shorthair Mix           Black   \n",
       "996         2 months              Labrador Retriever Mix           Black   \n",
       "997         2 months              Labrador Retriever Mix           Black   \n",
       "\n",
       "    outcome_subtype         name  \n",
       "0               NaN          NaN  \n",
       "2               NaN  *Archimedes  \n",
       "3               NaN       *Zivah  \n",
       "4               NaN          NaN  \n",
       "8               NaN         Myla  \n",
       "..              ...          ...  \n",
       "981          Foster        Toast  \n",
       "982          Foster   *Bandicoot  \n",
       "993          Foster      A841074  \n",
       "996          Foster       Waffle  \n",
       "997          Foster        Grits  \n",
       "\n",
       "[468 rows x 12 columns]"
      ]
     },
     "execution_count": 14,
     "metadata": {},
     "output_type": "execute_result"
    }
   ],
   "source": [
    "animals[(animals['animal_type'] == \"Dog\")]"
   ]
  },
  {
   "cell_type": "markdown",
   "metadata": {
    "heading_collapsed": true,
    "hidden": true
   },
   "source": [
    "### Multi-Indexing"
   ]
  },
  {
   "cell_type": "code",
   "execution_count": 15,
   "metadata": {
    "ExecuteTime": {
     "end_time": "2021-10-19T17:20:14.990306Z",
     "start_time": "2021-10-19T17:20:14.973647Z"
    },
    "hidden": true
   },
   "outputs": [
    {
     "data": {
      "text/plain": [
       "{('Bird', 'Adoption'): [454], ('Bird', 'Transfer'): [142], ('Cat', 'Adoption'): [5, 6, 7, 9, 10, 21, 22, 27, 28, 29, 31, 49, 54, 55, 60, 75, 76, 80, 85, 86, 88, 89, 90, 92, 101, 104, 105, 108, 120, 126, 131, 132, 133, 134, 137, 141, 144, 157, 158, 166, 167, 169, 171, 172, 173, 184, 194, 195, 196, 198, 199, 202, 204, 205, 209, 212, 213, 214, 222, 225, 226, 227, 229, 231, 234, 235, 236, 242, 243, 244, 245, 246, 247, 249, 250, 251, 252, 253, 254, 256, 257, 258, 268, 269, 270, 271, 272, 274, 275, 278, 283, 284, 285, 286, 287, 288, 289, 291, 292, 295, ...], ('Cat', 'Died'): [506], ('Cat', 'Disposal'): [472, 760], ('Cat', 'Euthanasia'): [36, 66, 81, 188, 191, 192, 201, 302, 533, 620, 642, 651, 840, 878], ('Cat', 'Relocate'): [61], ('Cat', 'Return to Owner'): [58, 87, 309, 384, 388, 416, 442, 446, 466, 515, 551, 618, 619, 727, 730, 842], ('Cat', 'Rto-Adopt'): [34, 740], ('Cat', 'Transfer'): [1, 70, 71, 77, 78, 79, 94, 95, 96, 103, 110, 111, 112, 113, 114, 115, 152, 153, 176, 177, 178, 179, 180, 181, 182, 206, 207, 208, 216, 217, 218, 219, 220, 221, 261, 277, 279, 280, 281, 282, 312, 315, 380, 381, 390, 443, 444, 448, 456, 457, 458, 480, 481, 482, 483, 484, 485, 486, 487, 488, 489, 490, 491, 511, 546, 561, 562, 563, 564, 576, 610, 611, 612, 613, 614, 615, 616, 628, 653, 709, 710, 711, 712, 729, 756, 763, 764, 765, 766, 779, 780, 781, 782, 783, 784, 786, 791, 809, 810, 811, ...], ('Cat', nan): [67], ('Dog', 'Adoption'): [0, 2, 3, 4, 11, 14, 15, 16, 17, 19, 20, 23, 24, 25, 30, 33, 37, 41, 43, 53, 56, 59, 62, 68, 72, 74, 93, 98, 106, 109, 121, 122, 124, 130, 135, 138, 139, 143, 145, 147, 156, 160, 161, 162, 163, 164, 165, 170, 174, 175, 189, 193, 200, 203, 210, 211, 215, 223, 224, 228, 232, 233, 237, 238, 241, 248, 259, 260, 267, 276, 290, 293, 296, 298, 303, 304, 311, 317, 324, 325, 326, 330, 334, 335, 336, 337, 340, 341, 343, 348, 350, 351, 352, 361, 363, 364, 366, 370, 373, 375, ...], ('Dog', 'Died'): [255], ('Dog', 'Disposal'): [507], ('Dog', 'Euthanasia'): [63, 597, 643, 785, 850, 851], ('Dog', 'Missing'): [455], ('Dog', 'Return to Owner'): [8, 12, 13, 18, 32, 35, 40, 50, 52, 69, 73, 82, 83, 84, 91, 97, 99, 100, 102, 129, 155, 159, 168, 187, 197, 240, 294, 297, 300, 313, 314, 322, 323, 342, 346, 371, 415, 428, 453, 465, 471, 477, 543, 545, 552, 565, 582, 594, 600, 601, 602, 603, 604, 605, 606, 609, 623, 648, 652, 684, 728, 733, 734, 773, 795, 806, 838, 888, 892, 916, 917, 919, 920, 923, 924, 934, 950, 953, 964, 979], ('Dog', 'Rto-Adopt'): [26, 107, 136, 239, 273, 492, 626, 627], ('Dog', 'Transfer'): [38, 39, 42, 46, 47, 57, 116, 117, 118, 119, 123, 125, 140, 146, 149, 150, 151, 183, 185, 186, 230, 262, 263, 264, 265, 266, 299, 301, 307, 308, 318, 358, 382, 392, 393, 394, 395, 396, 397, 398, 399, 400, 401, 402, 403, 404, 405, 406, 407, 408, 409, 410, 411, 412, 413, 418, 419, 421, 441, 447, 449, 450, 451, 462, 608, 617, 637, 698, 699, 708, 754, 794, 801, 802, 803, 804, 819, 849, 852, 853, 854, 855, 856, 857, 858, 859, 860, 861, 862, 863, 864, 865, 866, 867, 868, 869, 870, 871, 872, 873, ...], ('Other', 'Adoption'): [51, 154, 327, 329, 372, 499, 500, 504, 535, 570, 572, 631, 632, 634, 635, 636, 644, 645, 680, 701, 715, 716, 717, 970, 999], ('Other', 'Disposal'): [310, 762, 967], ('Other', 'Euthanasia'): [44, 45, 48, 64, 65, 127, 128, 148, 190, 331, 339, 391, 452, 493, 494, 583, 641, 761, 800, 824, 848, 966], ('Other', 'Return to Owner'): [757], ('Other', 'Transfer'): [332, 422, 548, 549, 550, 847]}"
      ]
     },
     "execution_count": 15,
     "metadata": {},
     "output_type": "execute_result"
    }
   ],
   "source": [
    "# Same goes for multi-index groupbys\n",
    "animal_outcome = animals.groupby(['animal_type', 'outcome_type'])\n",
    "animal_outcome.groups"
   ]
  },
  {
   "cell_type": "code",
   "execution_count": 20,
   "metadata": {
    "ExecuteTime": {
     "end_time": "2021-10-19T17:30:10.495498Z",
     "start_time": "2021-10-19T17:30:10.492182Z"
    }
   },
   "outputs": [
    {
     "data": {
      "text/plain": [
       "pandas.core.indexes.numeric.Int64Index"
      ]
     },
     "execution_count": 20,
     "metadata": {},
     "output_type": "execute_result"
    }
   ],
   "source": [
    "type(animal_outcome.groups[('Dog', 'Adoption')])"
   ]
  },
  {
   "cell_type": "code",
   "execution_count": 16,
   "metadata": {
    "ExecuteTime": {
     "end_time": "2021-10-19T17:22:58.195047Z",
     "start_time": "2021-10-19T17:22:58.190973Z"
    },
    "hidden": true
   },
   "outputs": [
    {
     "data": {
      "text/plain": [
       "dict_keys([('Bird', 'Adoption'), ('Bird', 'Transfer'), ('Cat', 'Adoption'), ('Cat', 'Died'), ('Cat', 'Disposal'), ('Cat', 'Euthanasia'), ('Cat', 'Relocate'), ('Cat', 'Return to Owner'), ('Cat', 'Rto-Adopt'), ('Cat', 'Transfer'), ('Cat', nan), ('Dog', 'Adoption'), ('Dog', 'Died'), ('Dog', 'Disposal'), ('Dog', 'Euthanasia'), ('Dog', 'Missing'), ('Dog', 'Return to Owner'), ('Dog', 'Rto-Adopt'), ('Dog', 'Transfer'), ('Other', 'Adoption'), ('Other', 'Disposal'), ('Other', 'Euthanasia'), ('Other', 'Return to Owner'), ('Other', 'Transfer')])"
      ]
     },
     "execution_count": 16,
     "metadata": {},
     "output_type": "execute_result"
    }
   ],
   "source": [
    "# animal_outcome.groups is a dictionary, so we can access the group names using keys()\n",
    "animal_outcome.groups.keys()"
   ]
  },
  {
   "cell_type": "code",
   "execution_count": 17,
   "metadata": {
    "ExecuteTime": {
     "end_time": "2021-10-19T17:23:20.073310Z",
     "start_time": "2021-10-19T17:23:20.067138Z"
    }
   },
   "outputs": [
    {
     "data": {
      "text/plain": [
       "Cat      473\n",
       "Dog      468\n",
       "Other     57\n",
       "Bird       2\n",
       "Name: animal_type, dtype: int64"
      ]
     },
     "execution_count": 17,
     "metadata": {},
     "output_type": "execute_result"
    }
   ],
   "source": [
    "animals['animal_type'].value_counts()"
   ]
  },
  {
   "cell_type": "code",
   "execution_count": 18,
   "metadata": {
    "ExecuteTime": {
     "end_time": "2021-10-19T17:23:23.422972Z",
     "start_time": "2021-10-19T17:23:23.417993Z"
    }
   },
   "outputs": [
    {
     "data": {
      "text/plain": [
       "Adoption           592\n",
       "Transfer           248\n",
       "Return to Owner     97\n",
       "Euthanasia          42\n",
       "Rto-Adopt           10\n",
       "Disposal             6\n",
       "Died                 2\n",
       "Missing              1\n",
       "Relocate             1\n",
       "Name: outcome_type, dtype: int64"
      ]
     },
     "execution_count": 18,
     "metadata": {},
     "output_type": "execute_result"
    }
   ],
   "source": [
    "animals['outcome_type'].value_counts()"
   ]
  },
  {
   "cell_type": "code",
   "execution_count": 19,
   "metadata": {
    "ExecuteTime": {
     "end_time": "2021-10-19T17:23:45.982323Z",
     "start_time": "2021-10-19T17:23:45.961393Z"
    },
    "hidden": true
   },
   "outputs": [
    {
     "data": {
      "text/html": [
       "<div>\n",
       "<style scoped>\n",
       "    .dataframe tbody tr th:only-of-type {\n",
       "        vertical-align: middle;\n",
       "    }\n",
       "\n",
       "    .dataframe tbody tr th {\n",
       "        vertical-align: top;\n",
       "    }\n",
       "\n",
       "    .dataframe thead th {\n",
       "        text-align: right;\n",
       "    }\n",
       "</style>\n",
       "<table border=\"1\" class=\"dataframe\">\n",
       "  <thead>\n",
       "    <tr style=\"text-align: right;\">\n",
       "      <th></th>\n",
       "      <th>animal_id</th>\n",
       "      <th>datetime</th>\n",
       "      <th>monthyear</th>\n",
       "      <th>date_of_birth</th>\n",
       "      <th>outcome_type</th>\n",
       "      <th>animal_type</th>\n",
       "      <th>sex_upon_outcome</th>\n",
       "      <th>age_upon_outcome</th>\n",
       "      <th>breed</th>\n",
       "      <th>color</th>\n",
       "      <th>outcome_subtype</th>\n",
       "      <th>name</th>\n",
       "    </tr>\n",
       "  </thead>\n",
       "  <tbody>\n",
       "    <tr>\n",
       "      <th>5</th>\n",
       "      <td>A843692</td>\n",
       "      <td>2021-10-18 18:21:00</td>\n",
       "      <td>2021-10-18T18:21:00.000</td>\n",
       "      <td>2021-07-21T00:00:00.000</td>\n",
       "      <td>Adoption</td>\n",
       "      <td>Cat</td>\n",
       "      <td>Spayed Female</td>\n",
       "      <td>2 months</td>\n",
       "      <td>Domestic Shorthair</td>\n",
       "      <td>Brown Tabby/White</td>\n",
       "      <td>NaN</td>\n",
       "      <td>Jerry</td>\n",
       "    </tr>\n",
       "    <tr>\n",
       "      <th>6</th>\n",
       "      <td>A842113</td>\n",
       "      <td>2021-10-18 18:16:00</td>\n",
       "      <td>2021-10-18T18:16:00.000</td>\n",
       "      <td>2021-08-09T00:00:00.000</td>\n",
       "      <td>Adoption</td>\n",
       "      <td>Cat</td>\n",
       "      <td>Spayed Female</td>\n",
       "      <td>2 months</td>\n",
       "      <td>Domestic Shorthair</td>\n",
       "      <td>Brown Tabby</td>\n",
       "      <td>NaN</td>\n",
       "      <td>Cudi</td>\n",
       "    </tr>\n",
       "    <tr>\n",
       "      <th>7</th>\n",
       "      <td>A843602</td>\n",
       "      <td>2021-10-18 18:05:00</td>\n",
       "      <td>2021-10-18T18:05:00.000</td>\n",
       "      <td>2021-07-20T00:00:00.000</td>\n",
       "      <td>Adoption</td>\n",
       "      <td>Cat</td>\n",
       "      <td>Spayed Female</td>\n",
       "      <td>2 months</td>\n",
       "      <td>Domestic Shorthair</td>\n",
       "      <td>Torbie/White</td>\n",
       "      <td>NaN</td>\n",
       "      <td>Lyra</td>\n",
       "    </tr>\n",
       "    <tr>\n",
       "      <th>9</th>\n",
       "      <td>A838947</td>\n",
       "      <td>2021-10-18 17:58:00</td>\n",
       "      <td>2021-10-18T17:58:00.000</td>\n",
       "      <td>2021-03-14T00:00:00.000</td>\n",
       "      <td>Adoption</td>\n",
       "      <td>Cat</td>\n",
       "      <td>Neutered Male</td>\n",
       "      <td>7 months</td>\n",
       "      <td>Bengal Mix</td>\n",
       "      <td>Brown Tabby</td>\n",
       "      <td>NaN</td>\n",
       "      <td>*Cattabus</td>\n",
       "    </tr>\n",
       "    <tr>\n",
       "      <th>10</th>\n",
       "      <td>A844412</td>\n",
       "      <td>2021-10-18 17:53:00</td>\n",
       "      <td>2021-10-18T17:53:00.000</td>\n",
       "      <td>2021-03-14T00:00:00.000</td>\n",
       "      <td>Adoption</td>\n",
       "      <td>Cat</td>\n",
       "      <td>Neutered Male</td>\n",
       "      <td>7 months</td>\n",
       "      <td>Snowshoe</td>\n",
       "      <td>Seal Point/White</td>\n",
       "      <td>NaN</td>\n",
       "      <td>Soju</td>\n",
       "    </tr>\n",
       "    <tr>\n",
       "      <th>...</th>\n",
       "      <td>...</td>\n",
       "      <td>...</td>\n",
       "      <td>...</td>\n",
       "      <td>...</td>\n",
       "      <td>...</td>\n",
       "      <td>...</td>\n",
       "      <td>...</td>\n",
       "      <td>...</td>\n",
       "      <td>...</td>\n",
       "      <td>...</td>\n",
       "      <td>...</td>\n",
       "      <td>...</td>\n",
       "    </tr>\n",
       "    <tr>\n",
       "      <th>991</th>\n",
       "      <td>A841089</td>\n",
       "      <td>2021-09-25 13:13:00</td>\n",
       "      <td>2021-09-25T13:13:00.000</td>\n",
       "      <td>2021-07-13T00:00:00.000</td>\n",
       "      <td>Adoption</td>\n",
       "      <td>Cat</td>\n",
       "      <td>Spayed Female</td>\n",
       "      <td>2 months</td>\n",
       "      <td>Domestic Shorthair</td>\n",
       "      <td>Orange Tabby</td>\n",
       "      <td>Foster</td>\n",
       "      <td>*Chaos</td>\n",
       "    </tr>\n",
       "    <tr>\n",
       "      <th>992</th>\n",
       "      <td>A841088</td>\n",
       "      <td>2021-09-25 13:11:00</td>\n",
       "      <td>2021-09-25T13:11:00.000</td>\n",
       "      <td>2021-07-13T00:00:00.000</td>\n",
       "      <td>Adoption</td>\n",
       "      <td>Cat</td>\n",
       "      <td>Spayed Female</td>\n",
       "      <td>2 months</td>\n",
       "      <td>Domestic Shorthair</td>\n",
       "      <td>Orange Tabby</td>\n",
       "      <td>Foster</td>\n",
       "      <td>*Anarchy</td>\n",
       "    </tr>\n",
       "    <tr>\n",
       "      <th>994</th>\n",
       "      <td>A840933</td>\n",
       "      <td>2021-09-25 13:07:00</td>\n",
       "      <td>2021-09-25T13:07:00.000</td>\n",
       "      <td>2021-07-17T00:00:00.000</td>\n",
       "      <td>Adoption</td>\n",
       "      <td>Cat</td>\n",
       "      <td>Neutered Male</td>\n",
       "      <td>2 months</td>\n",
       "      <td>Domestic Shorthair Mix</td>\n",
       "      <td>Orange Tabby/White</td>\n",
       "      <td>Foster</td>\n",
       "      <td>*Orange Julius</td>\n",
       "    </tr>\n",
       "    <tr>\n",
       "      <th>995</th>\n",
       "      <td>A839029</td>\n",
       "      <td>2021-09-25 13:04:00</td>\n",
       "      <td>2021-09-25T13:04:00.000</td>\n",
       "      <td>2021-05-23T00:00:00.000</td>\n",
       "      <td>Adoption</td>\n",
       "      <td>Cat</td>\n",
       "      <td>Neutered Male</td>\n",
       "      <td>4 months</td>\n",
       "      <td>Domestic Shorthair</td>\n",
       "      <td>Brown Tabby</td>\n",
       "      <td>Foster</td>\n",
       "      <td>*Gobstopper</td>\n",
       "    </tr>\n",
       "    <tr>\n",
       "      <th>998</th>\n",
       "      <td>A842927</td>\n",
       "      <td>2021-09-25 12:41:00</td>\n",
       "      <td>2021-09-25T12:41:00.000</td>\n",
       "      <td>2021-06-08T00:00:00.000</td>\n",
       "      <td>Adoption</td>\n",
       "      <td>Cat</td>\n",
       "      <td>Neutered Male</td>\n",
       "      <td>3 months</td>\n",
       "      <td>Domestic Shorthair</td>\n",
       "      <td>Black</td>\n",
       "      <td>NaN</td>\n",
       "      <td>Jasper</td>\n",
       "    </tr>\n",
       "  </tbody>\n",
       "</table>\n",
       "<p>308 rows × 12 columns</p>\n",
       "</div>"
      ],
      "text/plain": [
       "    animal_id            datetime                monthyear  \\\n",
       "5     A843692 2021-10-18 18:21:00  2021-10-18T18:21:00.000   \n",
       "6     A842113 2021-10-18 18:16:00  2021-10-18T18:16:00.000   \n",
       "7     A843602 2021-10-18 18:05:00  2021-10-18T18:05:00.000   \n",
       "9     A838947 2021-10-18 17:58:00  2021-10-18T17:58:00.000   \n",
       "10    A844412 2021-10-18 17:53:00  2021-10-18T17:53:00.000   \n",
       "..        ...                 ...                      ...   \n",
       "991   A841089 2021-09-25 13:13:00  2021-09-25T13:13:00.000   \n",
       "992   A841088 2021-09-25 13:11:00  2021-09-25T13:11:00.000   \n",
       "994   A840933 2021-09-25 13:07:00  2021-09-25T13:07:00.000   \n",
       "995   A839029 2021-09-25 13:04:00  2021-09-25T13:04:00.000   \n",
       "998   A842927 2021-09-25 12:41:00  2021-09-25T12:41:00.000   \n",
       "\n",
       "               date_of_birth outcome_type animal_type sex_upon_outcome  \\\n",
       "5    2021-07-21T00:00:00.000     Adoption         Cat    Spayed Female   \n",
       "6    2021-08-09T00:00:00.000     Adoption         Cat    Spayed Female   \n",
       "7    2021-07-20T00:00:00.000     Adoption         Cat    Spayed Female   \n",
       "9    2021-03-14T00:00:00.000     Adoption         Cat    Neutered Male   \n",
       "10   2021-03-14T00:00:00.000     Adoption         Cat    Neutered Male   \n",
       "..                       ...          ...         ...              ...   \n",
       "991  2021-07-13T00:00:00.000     Adoption         Cat    Spayed Female   \n",
       "992  2021-07-13T00:00:00.000     Adoption         Cat    Spayed Female   \n",
       "994  2021-07-17T00:00:00.000     Adoption         Cat    Neutered Male   \n",
       "995  2021-05-23T00:00:00.000     Adoption         Cat    Neutered Male   \n",
       "998  2021-06-08T00:00:00.000     Adoption         Cat    Neutered Male   \n",
       "\n",
       "    age_upon_outcome                   breed               color  \\\n",
       "5           2 months      Domestic Shorthair   Brown Tabby/White   \n",
       "6           2 months      Domestic Shorthair         Brown Tabby   \n",
       "7           2 months      Domestic Shorthair        Torbie/White   \n",
       "9           7 months              Bengal Mix         Brown Tabby   \n",
       "10          7 months                Snowshoe    Seal Point/White   \n",
       "..               ...                     ...                 ...   \n",
       "991         2 months      Domestic Shorthair        Orange Tabby   \n",
       "992         2 months      Domestic Shorthair        Orange Tabby   \n",
       "994         2 months  Domestic Shorthair Mix  Orange Tabby/White   \n",
       "995         4 months      Domestic Shorthair         Brown Tabby   \n",
       "998         3 months      Domestic Shorthair               Black   \n",
       "\n",
       "    outcome_subtype            name  \n",
       "5               NaN           Jerry  \n",
       "6               NaN            Cudi  \n",
       "7               NaN            Lyra  \n",
       "9               NaN       *Cattabus  \n",
       "10              NaN            Soju  \n",
       "..              ...             ...  \n",
       "991          Foster          *Chaos  \n",
       "992          Foster        *Anarchy  \n",
       "994          Foster  *Orange Julius  \n",
       "995          Foster     *Gobstopper  \n",
       "998             NaN          Jasper  \n",
       "\n",
       "[308 rows x 12 columns]"
      ]
     },
     "execution_count": 19,
     "metadata": {},
     "output_type": "execute_result"
    }
   ],
   "source": [
    "# We can then get a specific group, such as cats that were adopted\n",
    "animal_outcome.get_group(('Cat', 'Adoption'))"
   ]
  },
  {
   "cell_type": "markdown",
   "metadata": {
    "heading_collapsed": true,
    "hidden": true
   },
   "source": [
    "## Aggregating"
   ]
  },
  {
   "cell_type": "markdown",
   "metadata": {
    "hidden": true
   },
   "source": [
    "Once again, as we will see in SQL, groupby objects are intended to be used with aggregation. In SQL, we will see that our queries that include GROUP BY require aggregation performed on columns.\n",
    "\n",
    "We can use `.sum()`, `.mean()`, `.count()`, `.max()`, `.min()`, etc. Find a list of common aggregations [here](https://pandas.pydata.org/pandas-docs/stable/user_guide/groupby.html)."
   ]
  },
  {
   "cell_type": "code",
   "execution_count": 23,
   "metadata": {
    "ExecuteTime": {
     "end_time": "2021-10-19T17:35:16.811789Z",
     "start_time": "2021-10-19T17:35:16.799113Z"
    },
    "hidden": true
   },
   "outputs": [
    {
     "data": {
      "text/html": [
       "<div>\n",
       "<style scoped>\n",
       "    .dataframe tbody tr th:only-of-type {\n",
       "        vertical-align: middle;\n",
       "    }\n",
       "\n",
       "    .dataframe tbody tr th {\n",
       "        vertical-align: top;\n",
       "    }\n",
       "\n",
       "    .dataframe thead th {\n",
       "        text-align: right;\n",
       "    }\n",
       "</style>\n",
       "<table border=\"1\" class=\"dataframe\">\n",
       "  <thead>\n",
       "    <tr style=\"text-align: right;\">\n",
       "      <th></th>\n",
       "      <th>animal_id</th>\n",
       "      <th>datetime</th>\n",
       "      <th>monthyear</th>\n",
       "      <th>date_of_birth</th>\n",
       "      <th>outcome_type</th>\n",
       "      <th>sex_upon_outcome</th>\n",
       "      <th>age_upon_outcome</th>\n",
       "      <th>breed</th>\n",
       "      <th>color</th>\n",
       "      <th>outcome_subtype</th>\n",
       "      <th>name</th>\n",
       "    </tr>\n",
       "    <tr>\n",
       "      <th>animal_type</th>\n",
       "      <th></th>\n",
       "      <th></th>\n",
       "      <th></th>\n",
       "      <th></th>\n",
       "      <th></th>\n",
       "      <th></th>\n",
       "      <th></th>\n",
       "      <th></th>\n",
       "      <th></th>\n",
       "      <th></th>\n",
       "      <th></th>\n",
       "    </tr>\n",
       "  </thead>\n",
       "  <tbody>\n",
       "    <tr>\n",
       "      <th>Bird</th>\n",
       "      <td>2</td>\n",
       "      <td>2</td>\n",
       "      <td>2</td>\n",
       "      <td>2</td>\n",
       "      <td>2</td>\n",
       "      <td>2</td>\n",
       "      <td>2</td>\n",
       "      <td>2</td>\n",
       "      <td>2</td>\n",
       "      <td>2</td>\n",
       "      <td>1</td>\n",
       "    </tr>\n",
       "    <tr>\n",
       "      <th>Cat</th>\n",
       "      <td>473</td>\n",
       "      <td>473</td>\n",
       "      <td>473</td>\n",
       "      <td>473</td>\n",
       "      <td>472</td>\n",
       "      <td>473</td>\n",
       "      <td>473</td>\n",
       "      <td>473</td>\n",
       "      <td>473</td>\n",
       "      <td>231</td>\n",
       "      <td>416</td>\n",
       "    </tr>\n",
       "    <tr>\n",
       "      <th>Dog</th>\n",
       "      <td>468</td>\n",
       "      <td>468</td>\n",
       "      <td>468</td>\n",
       "      <td>468</td>\n",
       "      <td>468</td>\n",
       "      <td>468</td>\n",
       "      <td>468</td>\n",
       "      <td>468</td>\n",
       "      <td>468</td>\n",
       "      <td>156</td>\n",
       "      <td>428</td>\n",
       "    </tr>\n",
       "    <tr>\n",
       "      <th>Other</th>\n",
       "      <td>57</td>\n",
       "      <td>57</td>\n",
       "      <td>57</td>\n",
       "      <td>57</td>\n",
       "      <td>57</td>\n",
       "      <td>57</td>\n",
       "      <td>57</td>\n",
       "      <td>57</td>\n",
       "      <td>57</td>\n",
       "      <td>33</td>\n",
       "      <td>31</td>\n",
       "    </tr>\n",
       "  </tbody>\n",
       "</table>\n",
       "</div>"
      ],
      "text/plain": [
       "             animal_id  datetime  monthyear  date_of_birth  outcome_type  \\\n",
       "animal_type                                                                \n",
       "Bird                 2         2          2              2             2   \n",
       "Cat                473       473        473            473           472   \n",
       "Dog                468       468        468            468           468   \n",
       "Other               57        57         57             57            57   \n",
       "\n",
       "             sex_upon_outcome  age_upon_outcome  breed  color  \\\n",
       "animal_type                                                     \n",
       "Bird                        2                 2      2      2   \n",
       "Cat                       473               473    473    473   \n",
       "Dog                       468               468    468    468   \n",
       "Other                      57                57     57     57   \n",
       "\n",
       "             outcome_subtype  name  \n",
       "animal_type                         \n",
       "Bird                       2     1  \n",
       "Cat                      231   416  \n",
       "Dog                      156   428  \n",
       "Other                     33    31  "
      ]
     },
     "execution_count": 23,
     "metadata": {},
     "output_type": "execute_result"
    }
   ],
   "source": [
    "animals.groupby('animal_type').count()"
   ]
  },
  {
   "cell_type": "markdown",
   "metadata": {
    "heading_collapsed": true,
    "hidden": true
   },
   "source": [
    "## Exercise"
   ]
  },
  {
   "cell_type": "markdown",
   "metadata": {
    "hidden": true
   },
   "source": [
    "Use `.groupby()` to find the most recently born of each (main) animal type."
   ]
  },
  {
   "cell_type": "code",
   "execution_count": 30,
   "metadata": {
    "ExecuteTime": {
     "end_time": "2021-10-19T17:47:26.865631Z",
     "start_time": "2021-10-19T17:47:26.856397Z"
    },
    "hidden": true
   },
   "outputs": [
    {
     "data": {
      "text/plain": [
       "animal_type\n",
       "Bird    2020-10-04\n",
       "Cat     2021-10-09\n",
       "Dog     2021-10-01\n",
       "Other   2021-10-03\n",
       "Name: date_of_birth, dtype: datetime64[ns]"
      ]
     },
     "execution_count": 30,
     "metadata": {},
     "output_type": "execute_result"
    }
   ],
   "source": [
    "# This is a string object\n",
    "type(animals['date_of_birth'][0])\n",
    "\n",
    "# Change the str into datetime object?\n",
    "animals['date_of_birth'] = pd.to_datetime(animals['date_of_birth'])\n",
    "\n",
    "animals[['data_of_birth', 'monthyear']]\n",
    "\n",
    "animals.groupby('animal_type')['date_of_birth'].max()"
   ]
  },
  {
   "cell_type": "markdown",
   "metadata": {
    "hidden": true
   },
   "source": [
    "<details>\n",
    "    <summary>Answer</summary>\n",
    "\n",
    "```python\n",
    "animals.groupby('animal_type')['date_of_birth'].max()\n",
    "```\n",
    "</details>"
   ]
  },
  {
   "cell_type": "markdown",
   "metadata": {
    "heading_collapsed": true
   },
   "source": [
    "# Pivoting a DataFrame"
   ]
  },
  {
   "cell_type": "markdown",
   "metadata": {
    "heading_collapsed": true,
    "hidden": true
   },
   "source": [
    "## `.pivot_table()`"
   ]
  },
  {
   "cell_type": "markdown",
   "metadata": {
    "hidden": true
   },
   "source": [
    "Those of you familiar with Excel have probably used Pivot Tables. Pandas has a similar functionality.\n",
    "\n",
    "Grouping by two different columns can be very helpful."
   ]
  },
  {
   "cell_type": "code",
   "execution_count": 33,
   "metadata": {
    "ExecuteTime": {
     "end_time": "2021-10-19T17:53:22.579767Z",
     "start_time": "2021-10-19T17:53:22.549063Z"
    },
    "hidden": true
   },
   "outputs": [
    {
     "data": {
      "text/html": [
       "<div>\n",
       "<style scoped>\n",
       "    .dataframe tbody tr th:only-of-type {\n",
       "        vertical-align: middle;\n",
       "    }\n",
       "\n",
       "    .dataframe tbody tr th {\n",
       "        vertical-align: top;\n",
       "    }\n",
       "\n",
       "    .dataframe thead th {\n",
       "        text-align: right;\n",
       "    }\n",
       "</style>\n",
       "<table border=\"1\" class=\"dataframe\">\n",
       "  <thead>\n",
       "    <tr style=\"text-align: right;\">\n",
       "      <th></th>\n",
       "      <th></th>\n",
       "      <th>animal_id</th>\n",
       "      <th>datetime</th>\n",
       "      <th>monthyear</th>\n",
       "      <th>date_of_birth</th>\n",
       "      <th>animal_type</th>\n",
       "      <th>age_upon_outcome</th>\n",
       "      <th>breed</th>\n",
       "      <th>color</th>\n",
       "      <th>outcome_subtype</th>\n",
       "      <th>name</th>\n",
       "    </tr>\n",
       "    <tr>\n",
       "      <th>outcome_type</th>\n",
       "      <th>sex_upon_outcome</th>\n",
       "      <th></th>\n",
       "      <th></th>\n",
       "      <th></th>\n",
       "      <th></th>\n",
       "      <th></th>\n",
       "      <th></th>\n",
       "      <th></th>\n",
       "      <th></th>\n",
       "      <th></th>\n",
       "      <th></th>\n",
       "    </tr>\n",
       "  </thead>\n",
       "  <tbody>\n",
       "    <tr>\n",
       "      <th rowspan=\"5\" valign=\"top\">Adoption</th>\n",
       "      <th>Intact Female</th>\n",
       "      <td>16</td>\n",
       "      <td>16</td>\n",
       "      <td>16</td>\n",
       "      <td>16</td>\n",
       "      <td>16</td>\n",
       "      <td>16</td>\n",
       "      <td>16</td>\n",
       "      <td>16</td>\n",
       "      <td>16</td>\n",
       "      <td>16</td>\n",
       "    </tr>\n",
       "    <tr>\n",
       "      <th>Intact Male</th>\n",
       "      <td>16</td>\n",
       "      <td>16</td>\n",
       "      <td>16</td>\n",
       "      <td>16</td>\n",
       "      <td>16</td>\n",
       "      <td>16</td>\n",
       "      <td>16</td>\n",
       "      <td>16</td>\n",
       "      <td>16</td>\n",
       "      <td>16</td>\n",
       "    </tr>\n",
       "    <tr>\n",
       "      <th>Neutered Male</th>\n",
       "      <td>284</td>\n",
       "      <td>284</td>\n",
       "      <td>284</td>\n",
       "      <td>284</td>\n",
       "      <td>284</td>\n",
       "      <td>284</td>\n",
       "      <td>284</td>\n",
       "      <td>284</td>\n",
       "      <td>284</td>\n",
       "      <td>284</td>\n",
       "    </tr>\n",
       "    <tr>\n",
       "      <th>Spayed Female</th>\n",
       "      <td>275</td>\n",
       "      <td>275</td>\n",
       "      <td>275</td>\n",
       "      <td>275</td>\n",
       "      <td>275</td>\n",
       "      <td>275</td>\n",
       "      <td>275</td>\n",
       "      <td>275</td>\n",
       "      <td>275</td>\n",
       "      <td>275</td>\n",
       "    </tr>\n",
       "    <tr>\n",
       "      <th>Unknown</th>\n",
       "      <td>1</td>\n",
       "      <td>1</td>\n",
       "      <td>1</td>\n",
       "      <td>1</td>\n",
       "      <td>1</td>\n",
       "      <td>1</td>\n",
       "      <td>1</td>\n",
       "      <td>1</td>\n",
       "      <td>1</td>\n",
       "      <td>1</td>\n",
       "    </tr>\n",
       "    <tr>\n",
       "      <th>Died</th>\n",
       "      <th>Spayed Female</th>\n",
       "      <td>2</td>\n",
       "      <td>2</td>\n",
       "      <td>2</td>\n",
       "      <td>2</td>\n",
       "      <td>2</td>\n",
       "      <td>2</td>\n",
       "      <td>2</td>\n",
       "      <td>2</td>\n",
       "      <td>2</td>\n",
       "      <td>2</td>\n",
       "    </tr>\n",
       "    <tr>\n",
       "      <th rowspan=\"2\" valign=\"top\">Disposal</th>\n",
       "      <th>Intact Male</th>\n",
       "      <td>2</td>\n",
       "      <td>2</td>\n",
       "      <td>2</td>\n",
       "      <td>2</td>\n",
       "      <td>2</td>\n",
       "      <td>2</td>\n",
       "      <td>2</td>\n",
       "      <td>2</td>\n",
       "      <td>2</td>\n",
       "      <td>2</td>\n",
       "    </tr>\n",
       "    <tr>\n",
       "      <th>Unknown</th>\n",
       "      <td>4</td>\n",
       "      <td>4</td>\n",
       "      <td>4</td>\n",
       "      <td>4</td>\n",
       "      <td>4</td>\n",
       "      <td>4</td>\n",
       "      <td>4</td>\n",
       "      <td>4</td>\n",
       "      <td>4</td>\n",
       "      <td>4</td>\n",
       "    </tr>\n",
       "    <tr>\n",
       "      <th rowspan=\"5\" valign=\"top\">Euthanasia</th>\n",
       "      <th>Intact Female</th>\n",
       "      <td>8</td>\n",
       "      <td>8</td>\n",
       "      <td>8</td>\n",
       "      <td>8</td>\n",
       "      <td>8</td>\n",
       "      <td>8</td>\n",
       "      <td>8</td>\n",
       "      <td>8</td>\n",
       "      <td>8</td>\n",
       "      <td>8</td>\n",
       "    </tr>\n",
       "    <tr>\n",
       "      <th>Intact Male</th>\n",
       "      <td>5</td>\n",
       "      <td>5</td>\n",
       "      <td>5</td>\n",
       "      <td>5</td>\n",
       "      <td>5</td>\n",
       "      <td>5</td>\n",
       "      <td>5</td>\n",
       "      <td>5</td>\n",
       "      <td>5</td>\n",
       "      <td>5</td>\n",
       "    </tr>\n",
       "    <tr>\n",
       "      <th>Neutered Male</th>\n",
       "      <td>2</td>\n",
       "      <td>2</td>\n",
       "      <td>2</td>\n",
       "      <td>2</td>\n",
       "      <td>2</td>\n",
       "      <td>2</td>\n",
       "      <td>2</td>\n",
       "      <td>2</td>\n",
       "      <td>2</td>\n",
       "      <td>2</td>\n",
       "    </tr>\n",
       "    <tr>\n",
       "      <th>Spayed Female</th>\n",
       "      <td>1</td>\n",
       "      <td>1</td>\n",
       "      <td>1</td>\n",
       "      <td>1</td>\n",
       "      <td>1</td>\n",
       "      <td>1</td>\n",
       "      <td>1</td>\n",
       "      <td>1</td>\n",
       "      <td>1</td>\n",
       "      <td>1</td>\n",
       "    </tr>\n",
       "    <tr>\n",
       "      <th>Unknown</th>\n",
       "      <td>26</td>\n",
       "      <td>26</td>\n",
       "      <td>26</td>\n",
       "      <td>26</td>\n",
       "      <td>26</td>\n",
       "      <td>26</td>\n",
       "      <td>26</td>\n",
       "      <td>26</td>\n",
       "      <td>26</td>\n",
       "      <td>26</td>\n",
       "    </tr>\n",
       "    <tr>\n",
       "      <th>Missing</th>\n",
       "      <th>Intact Male</th>\n",
       "      <td>1</td>\n",
       "      <td>1</td>\n",
       "      <td>1</td>\n",
       "      <td>1</td>\n",
       "      <td>1</td>\n",
       "      <td>1</td>\n",
       "      <td>1</td>\n",
       "      <td>1</td>\n",
       "      <td>1</td>\n",
       "      <td>1</td>\n",
       "    </tr>\n",
       "    <tr>\n",
       "      <th>Relocate</th>\n",
       "      <th>Spayed Female</th>\n",
       "      <td>1</td>\n",
       "      <td>1</td>\n",
       "      <td>1</td>\n",
       "      <td>1</td>\n",
       "      <td>1</td>\n",
       "      <td>1</td>\n",
       "      <td>1</td>\n",
       "      <td>1</td>\n",
       "      <td>1</td>\n",
       "      <td>1</td>\n",
       "    </tr>\n",
       "    <tr>\n",
       "      <th rowspan=\"5\" valign=\"top\">Return to Owner</th>\n",
       "      <th>Intact Female</th>\n",
       "      <td>23</td>\n",
       "      <td>23</td>\n",
       "      <td>23</td>\n",
       "      <td>23</td>\n",
       "      <td>23</td>\n",
       "      <td>23</td>\n",
       "      <td>23</td>\n",
       "      <td>23</td>\n",
       "      <td>23</td>\n",
       "      <td>23</td>\n",
       "    </tr>\n",
       "    <tr>\n",
       "      <th>Intact Male</th>\n",
       "      <td>29</td>\n",
       "      <td>29</td>\n",
       "      <td>29</td>\n",
       "      <td>29</td>\n",
       "      <td>29</td>\n",
       "      <td>29</td>\n",
       "      <td>29</td>\n",
       "      <td>29</td>\n",
       "      <td>29</td>\n",
       "      <td>29</td>\n",
       "    </tr>\n",
       "    <tr>\n",
       "      <th>Neutered Male</th>\n",
       "      <td>27</td>\n",
       "      <td>27</td>\n",
       "      <td>27</td>\n",
       "      <td>27</td>\n",
       "      <td>27</td>\n",
       "      <td>27</td>\n",
       "      <td>27</td>\n",
       "      <td>27</td>\n",
       "      <td>27</td>\n",
       "      <td>27</td>\n",
       "    </tr>\n",
       "    <tr>\n",
       "      <th>Spayed Female</th>\n",
       "      <td>14</td>\n",
       "      <td>14</td>\n",
       "      <td>14</td>\n",
       "      <td>14</td>\n",
       "      <td>14</td>\n",
       "      <td>14</td>\n",
       "      <td>14</td>\n",
       "      <td>14</td>\n",
       "      <td>14</td>\n",
       "      <td>14</td>\n",
       "    </tr>\n",
       "    <tr>\n",
       "      <th>Unknown</th>\n",
       "      <td>4</td>\n",
       "      <td>4</td>\n",
       "      <td>4</td>\n",
       "      <td>4</td>\n",
       "      <td>4</td>\n",
       "      <td>4</td>\n",
       "      <td>4</td>\n",
       "      <td>4</td>\n",
       "      <td>4</td>\n",
       "      <td>4</td>\n",
       "    </tr>\n",
       "    <tr>\n",
       "      <th rowspan=\"2\" valign=\"top\">Rto-Adopt</th>\n",
       "      <th>Neutered Male</th>\n",
       "      <td>7</td>\n",
       "      <td>7</td>\n",
       "      <td>7</td>\n",
       "      <td>7</td>\n",
       "      <td>7</td>\n",
       "      <td>7</td>\n",
       "      <td>7</td>\n",
       "      <td>7</td>\n",
       "      <td>7</td>\n",
       "      <td>7</td>\n",
       "    </tr>\n",
       "    <tr>\n",
       "      <th>Spayed Female</th>\n",
       "      <td>3</td>\n",
       "      <td>3</td>\n",
       "      <td>3</td>\n",
       "      <td>3</td>\n",
       "      <td>3</td>\n",
       "      <td>3</td>\n",
       "      <td>3</td>\n",
       "      <td>3</td>\n",
       "      <td>3</td>\n",
       "      <td>3</td>\n",
       "    </tr>\n",
       "    <tr>\n",
       "      <th rowspan=\"5\" valign=\"top\">Transfer</th>\n",
       "      <th>Intact Female</th>\n",
       "      <td>96</td>\n",
       "      <td>96</td>\n",
       "      <td>96</td>\n",
       "      <td>96</td>\n",
       "      <td>96</td>\n",
       "      <td>96</td>\n",
       "      <td>96</td>\n",
       "      <td>96</td>\n",
       "      <td>96</td>\n",
       "      <td>96</td>\n",
       "    </tr>\n",
       "    <tr>\n",
       "      <th>Intact Male</th>\n",
       "      <td>94</td>\n",
       "      <td>94</td>\n",
       "      <td>94</td>\n",
       "      <td>94</td>\n",
       "      <td>94</td>\n",
       "      <td>94</td>\n",
       "      <td>94</td>\n",
       "      <td>94</td>\n",
       "      <td>94</td>\n",
       "      <td>94</td>\n",
       "    </tr>\n",
       "    <tr>\n",
       "      <th>Neutered Male</th>\n",
       "      <td>31</td>\n",
       "      <td>31</td>\n",
       "      <td>31</td>\n",
       "      <td>31</td>\n",
       "      <td>31</td>\n",
       "      <td>31</td>\n",
       "      <td>31</td>\n",
       "      <td>31</td>\n",
       "      <td>31</td>\n",
       "      <td>31</td>\n",
       "    </tr>\n",
       "    <tr>\n",
       "      <th>Spayed Female</th>\n",
       "      <td>17</td>\n",
       "      <td>17</td>\n",
       "      <td>17</td>\n",
       "      <td>17</td>\n",
       "      <td>17</td>\n",
       "      <td>17</td>\n",
       "      <td>17</td>\n",
       "      <td>17</td>\n",
       "      <td>17</td>\n",
       "      <td>17</td>\n",
       "    </tr>\n",
       "    <tr>\n",
       "      <th>Unknown</th>\n",
       "      <td>10</td>\n",
       "      <td>10</td>\n",
       "      <td>10</td>\n",
       "      <td>10</td>\n",
       "      <td>10</td>\n",
       "      <td>10</td>\n",
       "      <td>10</td>\n",
       "      <td>10</td>\n",
       "      <td>10</td>\n",
       "      <td>10</td>\n",
       "    </tr>\n",
       "  </tbody>\n",
       "</table>\n",
       "</div>"
      ],
      "text/plain": [
       "                                  animal_id  datetime  monthyear  \\\n",
       "outcome_type    sex_upon_outcome                                   \n",
       "Adoption        Intact Female            16        16         16   \n",
       "                Intact Male              16        16         16   \n",
       "                Neutered Male           284       284        284   \n",
       "                Spayed Female           275       275        275   \n",
       "                Unknown                   1         1          1   \n",
       "Died            Spayed Female             2         2          2   \n",
       "Disposal        Intact Male               2         2          2   \n",
       "                Unknown                   4         4          4   \n",
       "Euthanasia      Intact Female             8         8          8   \n",
       "                Intact Male               5         5          5   \n",
       "                Neutered Male             2         2          2   \n",
       "                Spayed Female             1         1          1   \n",
       "                Unknown                  26        26         26   \n",
       "Missing         Intact Male               1         1          1   \n",
       "Relocate        Spayed Female             1         1          1   \n",
       "Return to Owner Intact Female            23        23         23   \n",
       "                Intact Male              29        29         29   \n",
       "                Neutered Male            27        27         27   \n",
       "                Spayed Female            14        14         14   \n",
       "                Unknown                   4         4          4   \n",
       "Rto-Adopt       Neutered Male             7         7          7   \n",
       "                Spayed Female             3         3          3   \n",
       "Transfer        Intact Female            96        96         96   \n",
       "                Intact Male              94        94         94   \n",
       "                Neutered Male            31        31         31   \n",
       "                Spayed Female            17        17         17   \n",
       "                Unknown                  10        10         10   \n",
       "\n",
       "                                  date_of_birth  animal_type  \\\n",
       "outcome_type    sex_upon_outcome                               \n",
       "Adoption        Intact Female                16           16   \n",
       "                Intact Male                  16           16   \n",
       "                Neutered Male               284          284   \n",
       "                Spayed Female               275          275   \n",
       "                Unknown                       1            1   \n",
       "Died            Spayed Female                 2            2   \n",
       "Disposal        Intact Male                   2            2   \n",
       "                Unknown                       4            4   \n",
       "Euthanasia      Intact Female                 8            8   \n",
       "                Intact Male                   5            5   \n",
       "                Neutered Male                 2            2   \n",
       "                Spayed Female                 1            1   \n",
       "                Unknown                      26           26   \n",
       "Missing         Intact Male                   1            1   \n",
       "Relocate        Spayed Female                 1            1   \n",
       "Return to Owner Intact Female                23           23   \n",
       "                Intact Male                  29           29   \n",
       "                Neutered Male                27           27   \n",
       "                Spayed Female                14           14   \n",
       "                Unknown                       4            4   \n",
       "Rto-Adopt       Neutered Male                 7            7   \n",
       "                Spayed Female                 3            3   \n",
       "Transfer        Intact Female                96           96   \n",
       "                Intact Male                  94           94   \n",
       "                Neutered Male                31           31   \n",
       "                Spayed Female                17           17   \n",
       "                Unknown                      10           10   \n",
       "\n",
       "                                  age_upon_outcome  breed  color  \\\n",
       "outcome_type    sex_upon_outcome                                   \n",
       "Adoption        Intact Female                   16     16     16   \n",
       "                Intact Male                     16     16     16   \n",
       "                Neutered Male                  284    284    284   \n",
       "                Spayed Female                  275    275    275   \n",
       "                Unknown                          1      1      1   \n",
       "Died            Spayed Female                    2      2      2   \n",
       "Disposal        Intact Male                      2      2      2   \n",
       "                Unknown                          4      4      4   \n",
       "Euthanasia      Intact Female                    8      8      8   \n",
       "                Intact Male                      5      5      5   \n",
       "                Neutered Male                    2      2      2   \n",
       "                Spayed Female                    1      1      1   \n",
       "                Unknown                         26     26     26   \n",
       "Missing         Intact Male                      1      1      1   \n",
       "Relocate        Spayed Female                    1      1      1   \n",
       "Return to Owner Intact Female                   23     23     23   \n",
       "                Intact Male                     29     29     29   \n",
       "                Neutered Male                   27     27     27   \n",
       "                Spayed Female                   14     14     14   \n",
       "                Unknown                          4      4      4   \n",
       "Rto-Adopt       Neutered Male                    7      7      7   \n",
       "                Spayed Female                    3      3      3   \n",
       "Transfer        Intact Female                   96     96     96   \n",
       "                Intact Male                     94     94     94   \n",
       "                Neutered Male                   31     31     31   \n",
       "                Spayed Female                   17     17     17   \n",
       "                Unknown                         10     10     10   \n",
       "\n",
       "                                  outcome_subtype  name  \n",
       "outcome_type    sex_upon_outcome                         \n",
       "Adoption        Intact Female                  16    16  \n",
       "                Intact Male                    16    16  \n",
       "                Neutered Male                 284   284  \n",
       "                Spayed Female                 275   275  \n",
       "                Unknown                         1     1  \n",
       "Died            Spayed Female                   2     2  \n",
       "Disposal        Intact Male                     2     2  \n",
       "                Unknown                         4     4  \n",
       "Euthanasia      Intact Female                   8     8  \n",
       "                Intact Male                     5     5  \n",
       "                Neutered Male                   2     2  \n",
       "                Spayed Female                   1     1  \n",
       "                Unknown                        26    26  \n",
       "Missing         Intact Male                     1     1  \n",
       "Relocate        Spayed Female                   1     1  \n",
       "Return to Owner Intact Female                  23    23  \n",
       "                Intact Male                    29    29  \n",
       "                Neutered Male                  27    27  \n",
       "                Spayed Female                  14    14  \n",
       "                Unknown                         4     4  \n",
       "Rto-Adopt       Neutered Male                   7     7  \n",
       "                Spayed Female                   3     3  \n",
       "Transfer        Intact Female                  96    96  \n",
       "                Intact Male                    94    94  \n",
       "                Neutered Male                  31    31  \n",
       "                Spayed Female                  17    17  \n",
       "                Unknown                        10    10  "
      ]
     },
     "execution_count": 33,
     "metadata": {},
     "output_type": "execute_result"
    }
   ],
   "source": [
    "animals.groupby(by=['outcome_type', 'sex_upon_outcome']).agg(len)"
   ]
  },
  {
   "cell_type": "markdown",
   "metadata": {
    "hidden": true
   },
   "source": [
    "But it has the unsavory side effect of creating a two-level index. This can be a good time to use `.pivot_table()`.\n",
    "\n",
    "(There is also a `.pivot()`. For the somewhat subtle differences, see [here](https://stackoverflow.com/questions/30960338/pandas-difference-between-pivot-and-pivot-table-why-is-only-pivot-table-workin).)"
   ]
  },
  {
   "cell_type": "markdown",
   "metadata": {
    "heading_collapsed": true,
    "hidden": true
   },
   "source": [
    "### Example"
   ]
  },
  {
   "cell_type": "code",
   "execution_count": 34,
   "metadata": {
    "ExecuteTime": {
     "end_time": "2021-10-19T17:54:03.377451Z",
     "start_time": "2021-10-19T17:54:03.365554Z"
    },
    "hidden": true
   },
   "outputs": [
    {
     "data": {
      "text/html": [
       "<div>\n",
       "<style scoped>\n",
       "    .dataframe tbody tr th:only-of-type {\n",
       "        vertical-align: middle;\n",
       "    }\n",
       "\n",
       "    .dataframe tbody tr th {\n",
       "        vertical-align: top;\n",
       "    }\n",
       "\n",
       "    .dataframe thead th {\n",
       "        text-align: right;\n",
       "    }\n",
       "</style>\n",
       "<table border=\"1\" class=\"dataframe\">\n",
       "  <thead>\n",
       "    <tr style=\"text-align: right;\">\n",
       "      <th></th>\n",
       "      <th>sex</th>\n",
       "      <th>num_puppies</th>\n",
       "      <th>breed</th>\n",
       "      <th>past_owners</th>\n",
       "      <th>family_members</th>\n",
       "    </tr>\n",
       "  </thead>\n",
       "  <tbody>\n",
       "    <tr>\n",
       "      <th>0</th>\n",
       "      <td>male</td>\n",
       "      <td>one</td>\n",
       "      <td>terrier</td>\n",
       "      <td>1</td>\n",
       "      <td>2</td>\n",
       "    </tr>\n",
       "    <tr>\n",
       "      <th>1</th>\n",
       "      <td>male</td>\n",
       "      <td>one</td>\n",
       "      <td>retriever</td>\n",
       "      <td>2</td>\n",
       "      <td>4</td>\n",
       "    </tr>\n",
       "    <tr>\n",
       "      <th>2</th>\n",
       "      <td>male</td>\n",
       "      <td>one</td>\n",
       "      <td>retriever</td>\n",
       "      <td>2</td>\n",
       "      <td>5</td>\n",
       "    </tr>\n",
       "    <tr>\n",
       "      <th>3</th>\n",
       "      <td>male</td>\n",
       "      <td>two</td>\n",
       "      <td>terrier</td>\n",
       "      <td>3</td>\n",
       "      <td>5</td>\n",
       "    </tr>\n",
       "    <tr>\n",
       "      <th>4</th>\n",
       "      <td>male</td>\n",
       "      <td>two</td>\n",
       "      <td>terrier</td>\n",
       "      <td>3</td>\n",
       "      <td>6</td>\n",
       "    </tr>\n",
       "    <tr>\n",
       "      <th>5</th>\n",
       "      <td>female</td>\n",
       "      <td>one</td>\n",
       "      <td>retriever</td>\n",
       "      <td>4</td>\n",
       "      <td>6</td>\n",
       "    </tr>\n",
       "    <tr>\n",
       "      <th>6</th>\n",
       "      <td>female</td>\n",
       "      <td>one</td>\n",
       "      <td>terrier</td>\n",
       "      <td>5</td>\n",
       "      <td>8</td>\n",
       "    </tr>\n",
       "    <tr>\n",
       "      <th>7</th>\n",
       "      <td>female</td>\n",
       "      <td>two</td>\n",
       "      <td>terrier</td>\n",
       "      <td>6</td>\n",
       "      <td>9</td>\n",
       "    </tr>\n",
       "    <tr>\n",
       "      <th>8</th>\n",
       "      <td>female</td>\n",
       "      <td>two</td>\n",
       "      <td>retriever</td>\n",
       "      <td>7</td>\n",
       "      <td>9</td>\n",
       "    </tr>\n",
       "  </tbody>\n",
       "</table>\n",
       "</div>"
      ],
      "text/plain": [
       "      sex num_puppies      breed  past_owners  family_members\n",
       "0    male         one    terrier            1               2\n",
       "1    male         one  retriever            2               4\n",
       "2    male         one  retriever            2               5\n",
       "3    male         two    terrier            3               5\n",
       "4    male         two    terrier            3               6\n",
       "5  female         one  retriever            4               6\n",
       "6  female         one    terrier            5               8\n",
       "7  female         two    terrier            6               9\n",
       "8  female         two  retriever            7               9"
      ]
     },
     "execution_count": 34,
     "metadata": {},
     "output_type": "execute_result"
    }
   ],
   "source": [
    "df = pd.DataFrame({\"sex\": [\"male\", \"male\", \"male\", \"male\", \"male\",\n",
    "                          \"female\", \"female\", \"female\", \"female\"],\n",
    "                    \"num_puppies\": [\"one\", \"one\", \"one\", \"two\", \"two\",\n",
    "                          \"one\", \"one\", \"two\", \"two\"],\n",
    "                    \"breed\": [\"terrier\", \"retriever\", \"retriever\", \"terrier\",\n",
    "                          \"terrier\", \"retriever\", \"terrier\", \"terrier\",\n",
    "                          \"retriever\"],\n",
    "                    \"past_owners\": [1, 2, 2, 3, 3, 4, 5, 6, 7],\n",
    "                    \"family_members\": [2, 4, 5, 5, 6, 6, 8, 9, 9]})\n",
    "df"
   ]
  },
  {
   "cell_type": "code",
   "execution_count": 35,
   "metadata": {
    "ExecuteTime": {
     "end_time": "2021-10-19T17:56:09.745425Z",
     "start_time": "2021-10-19T17:56:09.725664Z"
    },
    "hidden": true
   },
   "outputs": [
    {
     "data": {
      "text/html": [
       "<div>\n",
       "<style scoped>\n",
       "    .dataframe tbody tr th:only-of-type {\n",
       "        vertical-align: middle;\n",
       "    }\n",
       "\n",
       "    .dataframe tbody tr th {\n",
       "        vertical-align: top;\n",
       "    }\n",
       "\n",
       "    .dataframe thead th {\n",
       "        text-align: right;\n",
       "    }\n",
       "</style>\n",
       "<table border=\"1\" class=\"dataframe\">\n",
       "  <thead>\n",
       "    <tr style=\"text-align: right;\">\n",
       "      <th></th>\n",
       "      <th>breed</th>\n",
       "      <th>retriever</th>\n",
       "      <th>terrier</th>\n",
       "    </tr>\n",
       "    <tr>\n",
       "      <th>sex</th>\n",
       "      <th>num_puppies</th>\n",
       "      <th></th>\n",
       "      <th></th>\n",
       "    </tr>\n",
       "  </thead>\n",
       "  <tbody>\n",
       "    <tr>\n",
       "      <th rowspan=\"2\" valign=\"top\">female</th>\n",
       "      <th>one</th>\n",
       "      <td>4.0</td>\n",
       "      <td>5.0</td>\n",
       "    </tr>\n",
       "    <tr>\n",
       "      <th>two</th>\n",
       "      <td>7.0</td>\n",
       "      <td>6.0</td>\n",
       "    </tr>\n",
       "    <tr>\n",
       "      <th rowspan=\"2\" valign=\"top\">male</th>\n",
       "      <th>one</th>\n",
       "      <td>4.0</td>\n",
       "      <td>1.0</td>\n",
       "    </tr>\n",
       "    <tr>\n",
       "      <th>two</th>\n",
       "      <td>NaN</td>\n",
       "      <td>6.0</td>\n",
       "    </tr>\n",
       "  </tbody>\n",
       "</table>\n",
       "</div>"
      ],
      "text/plain": [
       "breed               retriever  terrier\n",
       "sex    num_puppies                    \n",
       "female one                4.0      5.0\n",
       "       two                7.0      6.0\n",
       "male   one                4.0      1.0\n",
       "       two                NaN      6.0"
      ]
     },
     "execution_count": 35,
     "metadata": {},
     "output_type": "execute_result"
    }
   ],
   "source": [
    "# This first example aggregates values by taking the sum.\n",
    "\n",
    "table = pd.pivot_table(df, values='past_owners', index=['sex', 'num_puppies'],\n",
    "                     columns=['breed'], aggfunc=np.sum)\n",
    "table"
   ]
  },
  {
   "cell_type": "markdown",
   "metadata": {
    "heading_collapsed": true,
    "hidden": true
   },
   "source": [
    "### Back to Austin animals"
   ]
  },
  {
   "cell_type": "code",
   "execution_count": 36,
   "metadata": {
    "ExecuteTime": {
     "end_time": "2021-10-19T17:57:44.910364Z",
     "start_time": "2021-10-19T17:57:44.847189Z"
    },
    "hidden": true,
    "scrolled": true
   },
   "outputs": [
    {
     "data": {
      "text/html": [
       "<div>\n",
       "<style scoped>\n",
       "    .dataframe tbody tr th:only-of-type {\n",
       "        vertical-align: middle;\n",
       "    }\n",
       "\n",
       "    .dataframe tbody tr th {\n",
       "        vertical-align: top;\n",
       "    }\n",
       "\n",
       "    .dataframe thead tr th {\n",
       "        text-align: left;\n",
       "    }\n",
       "\n",
       "    .dataframe thead tr:last-of-type th {\n",
       "        text-align: right;\n",
       "    }\n",
       "</style>\n",
       "<table border=\"1\" class=\"dataframe\">\n",
       "  <thead>\n",
       "    <tr>\n",
       "      <th></th>\n",
       "      <th colspan=\"5\" halign=\"left\">age_upon_outcome</th>\n",
       "      <th colspan=\"5\" halign=\"left\">animal_id</th>\n",
       "      <th>...</th>\n",
       "      <th colspan=\"5\" halign=\"left\">name</th>\n",
       "      <th colspan=\"5\" halign=\"left\">outcome_subtype</th>\n",
       "    </tr>\n",
       "    <tr>\n",
       "      <th>sex_upon_outcome</th>\n",
       "      <th>Intact Female</th>\n",
       "      <th>Intact Male</th>\n",
       "      <th>Neutered Male</th>\n",
       "      <th>Spayed Female</th>\n",
       "      <th>Unknown</th>\n",
       "      <th>Intact Female</th>\n",
       "      <th>Intact Male</th>\n",
       "      <th>Neutered Male</th>\n",
       "      <th>Spayed Female</th>\n",
       "      <th>Unknown</th>\n",
       "      <th>...</th>\n",
       "      <th>Intact Female</th>\n",
       "      <th>Intact Male</th>\n",
       "      <th>Neutered Male</th>\n",
       "      <th>Spayed Female</th>\n",
       "      <th>Unknown</th>\n",
       "      <th>Intact Female</th>\n",
       "      <th>Intact Male</th>\n",
       "      <th>Neutered Male</th>\n",
       "      <th>Spayed Female</th>\n",
       "      <th>Unknown</th>\n",
       "    </tr>\n",
       "    <tr>\n",
       "      <th>outcome_type</th>\n",
       "      <th></th>\n",
       "      <th></th>\n",
       "      <th></th>\n",
       "      <th></th>\n",
       "      <th></th>\n",
       "      <th></th>\n",
       "      <th></th>\n",
       "      <th></th>\n",
       "      <th></th>\n",
       "      <th></th>\n",
       "      <th></th>\n",
       "      <th></th>\n",
       "      <th></th>\n",
       "      <th></th>\n",
       "      <th></th>\n",
       "      <th></th>\n",
       "      <th></th>\n",
       "      <th></th>\n",
       "      <th></th>\n",
       "      <th></th>\n",
       "      <th></th>\n",
       "    </tr>\n",
       "  </thead>\n",
       "  <tbody>\n",
       "    <tr>\n",
       "      <th>Adoption</th>\n",
       "      <td>16.0</td>\n",
       "      <td>16.0</td>\n",
       "      <td>284.0</td>\n",
       "      <td>275.0</td>\n",
       "      <td>1.0</td>\n",
       "      <td>16.0</td>\n",
       "      <td>16.0</td>\n",
       "      <td>284.0</td>\n",
       "      <td>275.0</td>\n",
       "      <td>1.0</td>\n",
       "      <td>...</td>\n",
       "      <td>16.0</td>\n",
       "      <td>16.0</td>\n",
       "      <td>284.0</td>\n",
       "      <td>275.0</td>\n",
       "      <td>1.0</td>\n",
       "      <td>16.0</td>\n",
       "      <td>16.0</td>\n",
       "      <td>284.0</td>\n",
       "      <td>275.0</td>\n",
       "      <td>1.0</td>\n",
       "    </tr>\n",
       "    <tr>\n",
       "      <th>Died</th>\n",
       "      <td>NaN</td>\n",
       "      <td>NaN</td>\n",
       "      <td>NaN</td>\n",
       "      <td>2.0</td>\n",
       "      <td>NaN</td>\n",
       "      <td>NaN</td>\n",
       "      <td>NaN</td>\n",
       "      <td>NaN</td>\n",
       "      <td>2.0</td>\n",
       "      <td>NaN</td>\n",
       "      <td>...</td>\n",
       "      <td>NaN</td>\n",
       "      <td>NaN</td>\n",
       "      <td>NaN</td>\n",
       "      <td>2.0</td>\n",
       "      <td>NaN</td>\n",
       "      <td>NaN</td>\n",
       "      <td>NaN</td>\n",
       "      <td>NaN</td>\n",
       "      <td>2.0</td>\n",
       "      <td>NaN</td>\n",
       "    </tr>\n",
       "    <tr>\n",
       "      <th>Disposal</th>\n",
       "      <td>NaN</td>\n",
       "      <td>2.0</td>\n",
       "      <td>NaN</td>\n",
       "      <td>NaN</td>\n",
       "      <td>4.0</td>\n",
       "      <td>NaN</td>\n",
       "      <td>2.0</td>\n",
       "      <td>NaN</td>\n",
       "      <td>NaN</td>\n",
       "      <td>4.0</td>\n",
       "      <td>...</td>\n",
       "      <td>NaN</td>\n",
       "      <td>2.0</td>\n",
       "      <td>NaN</td>\n",
       "      <td>NaN</td>\n",
       "      <td>4.0</td>\n",
       "      <td>NaN</td>\n",
       "      <td>2.0</td>\n",
       "      <td>NaN</td>\n",
       "      <td>NaN</td>\n",
       "      <td>4.0</td>\n",
       "    </tr>\n",
       "    <tr>\n",
       "      <th>Euthanasia</th>\n",
       "      <td>8.0</td>\n",
       "      <td>5.0</td>\n",
       "      <td>2.0</td>\n",
       "      <td>1.0</td>\n",
       "      <td>26.0</td>\n",
       "      <td>8.0</td>\n",
       "      <td>5.0</td>\n",
       "      <td>2.0</td>\n",
       "      <td>1.0</td>\n",
       "      <td>26.0</td>\n",
       "      <td>...</td>\n",
       "      <td>8.0</td>\n",
       "      <td>5.0</td>\n",
       "      <td>2.0</td>\n",
       "      <td>1.0</td>\n",
       "      <td>26.0</td>\n",
       "      <td>8.0</td>\n",
       "      <td>5.0</td>\n",
       "      <td>2.0</td>\n",
       "      <td>1.0</td>\n",
       "      <td>26.0</td>\n",
       "    </tr>\n",
       "    <tr>\n",
       "      <th>Missing</th>\n",
       "      <td>NaN</td>\n",
       "      <td>1.0</td>\n",
       "      <td>NaN</td>\n",
       "      <td>NaN</td>\n",
       "      <td>NaN</td>\n",
       "      <td>NaN</td>\n",
       "      <td>1.0</td>\n",
       "      <td>NaN</td>\n",
       "      <td>NaN</td>\n",
       "      <td>NaN</td>\n",
       "      <td>...</td>\n",
       "      <td>NaN</td>\n",
       "      <td>1.0</td>\n",
       "      <td>NaN</td>\n",
       "      <td>NaN</td>\n",
       "      <td>NaN</td>\n",
       "      <td>NaN</td>\n",
       "      <td>1.0</td>\n",
       "      <td>NaN</td>\n",
       "      <td>NaN</td>\n",
       "      <td>NaN</td>\n",
       "    </tr>\n",
       "    <tr>\n",
       "      <th>Relocate</th>\n",
       "      <td>NaN</td>\n",
       "      <td>NaN</td>\n",
       "      <td>NaN</td>\n",
       "      <td>1.0</td>\n",
       "      <td>NaN</td>\n",
       "      <td>NaN</td>\n",
       "      <td>NaN</td>\n",
       "      <td>NaN</td>\n",
       "      <td>1.0</td>\n",
       "      <td>NaN</td>\n",
       "      <td>...</td>\n",
       "      <td>NaN</td>\n",
       "      <td>NaN</td>\n",
       "      <td>NaN</td>\n",
       "      <td>1.0</td>\n",
       "      <td>NaN</td>\n",
       "      <td>NaN</td>\n",
       "      <td>NaN</td>\n",
       "      <td>NaN</td>\n",
       "      <td>1.0</td>\n",
       "      <td>NaN</td>\n",
       "    </tr>\n",
       "    <tr>\n",
       "      <th>Return to Owner</th>\n",
       "      <td>23.0</td>\n",
       "      <td>29.0</td>\n",
       "      <td>27.0</td>\n",
       "      <td>14.0</td>\n",
       "      <td>4.0</td>\n",
       "      <td>23.0</td>\n",
       "      <td>29.0</td>\n",
       "      <td>27.0</td>\n",
       "      <td>14.0</td>\n",
       "      <td>4.0</td>\n",
       "      <td>...</td>\n",
       "      <td>23.0</td>\n",
       "      <td>29.0</td>\n",
       "      <td>27.0</td>\n",
       "      <td>14.0</td>\n",
       "      <td>4.0</td>\n",
       "      <td>23.0</td>\n",
       "      <td>29.0</td>\n",
       "      <td>27.0</td>\n",
       "      <td>14.0</td>\n",
       "      <td>4.0</td>\n",
       "    </tr>\n",
       "    <tr>\n",
       "      <th>Rto-Adopt</th>\n",
       "      <td>NaN</td>\n",
       "      <td>NaN</td>\n",
       "      <td>7.0</td>\n",
       "      <td>3.0</td>\n",
       "      <td>NaN</td>\n",
       "      <td>NaN</td>\n",
       "      <td>NaN</td>\n",
       "      <td>7.0</td>\n",
       "      <td>3.0</td>\n",
       "      <td>NaN</td>\n",
       "      <td>...</td>\n",
       "      <td>NaN</td>\n",
       "      <td>NaN</td>\n",
       "      <td>7.0</td>\n",
       "      <td>3.0</td>\n",
       "      <td>NaN</td>\n",
       "      <td>NaN</td>\n",
       "      <td>NaN</td>\n",
       "      <td>7.0</td>\n",
       "      <td>3.0</td>\n",
       "      <td>NaN</td>\n",
       "    </tr>\n",
       "    <tr>\n",
       "      <th>Transfer</th>\n",
       "      <td>96.0</td>\n",
       "      <td>94.0</td>\n",
       "      <td>31.0</td>\n",
       "      <td>17.0</td>\n",
       "      <td>10.0</td>\n",
       "      <td>96.0</td>\n",
       "      <td>94.0</td>\n",
       "      <td>31.0</td>\n",
       "      <td>17.0</td>\n",
       "      <td>10.0</td>\n",
       "      <td>...</td>\n",
       "      <td>96.0</td>\n",
       "      <td>94.0</td>\n",
       "      <td>31.0</td>\n",
       "      <td>17.0</td>\n",
       "      <td>10.0</td>\n",
       "      <td>96.0</td>\n",
       "      <td>94.0</td>\n",
       "      <td>31.0</td>\n",
       "      <td>17.0</td>\n",
       "      <td>10.0</td>\n",
       "    </tr>\n",
       "  </tbody>\n",
       "</table>\n",
       "<p>9 rows × 50 columns</p>\n",
       "</div>"
      ],
      "text/plain": [
       "                 age_upon_outcome                                          \\\n",
       "sex_upon_outcome    Intact Female Intact Male Neutered Male Spayed Female   \n",
       "outcome_type                                                                \n",
       "Adoption                     16.0        16.0         284.0         275.0   \n",
       "Died                          NaN         NaN           NaN           2.0   \n",
       "Disposal                      NaN         2.0           NaN           NaN   \n",
       "Euthanasia                    8.0         5.0           2.0           1.0   \n",
       "Missing                       NaN         1.0           NaN           NaN   \n",
       "Relocate                      NaN         NaN           NaN           1.0   \n",
       "Return to Owner              23.0        29.0          27.0          14.0   \n",
       "Rto-Adopt                     NaN         NaN           7.0           3.0   \n",
       "Transfer                     96.0        94.0          31.0          17.0   \n",
       "\n",
       "                             animal_id                            \\\n",
       "sex_upon_outcome Unknown Intact Female Intact Male Neutered Male   \n",
       "outcome_type                                                       \n",
       "Adoption             1.0          16.0        16.0         284.0   \n",
       "Died                 NaN           NaN         NaN           NaN   \n",
       "Disposal             4.0           NaN         2.0           NaN   \n",
       "Euthanasia          26.0           8.0         5.0           2.0   \n",
       "Missing              NaN           NaN         1.0           NaN   \n",
       "Relocate             NaN           NaN         NaN           NaN   \n",
       "Return to Owner      4.0          23.0        29.0          27.0   \n",
       "Rto-Adopt            NaN           NaN         NaN           7.0   \n",
       "Transfer            10.0          96.0        94.0          31.0   \n",
       "\n",
       "                                        ...          name              \\\n",
       "sex_upon_outcome Spayed Female Unknown  ... Intact Female Intact Male   \n",
       "outcome_type                            ...                             \n",
       "Adoption                 275.0     1.0  ...          16.0        16.0   \n",
       "Died                       2.0     NaN  ...           NaN         NaN   \n",
       "Disposal                   NaN     4.0  ...           NaN         2.0   \n",
       "Euthanasia                 1.0    26.0  ...           8.0         5.0   \n",
       "Missing                    NaN     NaN  ...           NaN         1.0   \n",
       "Relocate                   1.0     NaN  ...           NaN         NaN   \n",
       "Return to Owner           14.0     4.0  ...          23.0        29.0   \n",
       "Rto-Adopt                  3.0     NaN  ...           NaN         NaN   \n",
       "Transfer                  17.0    10.0  ...          96.0        94.0   \n",
       "\n",
       "                                                     outcome_subtype  \\\n",
       "sex_upon_outcome Neutered Male Spayed Female Unknown   Intact Female   \n",
       "outcome_type                                                           \n",
       "Adoption                 284.0         275.0     1.0            16.0   \n",
       "Died                       NaN           2.0     NaN             NaN   \n",
       "Disposal                   NaN           NaN     4.0             NaN   \n",
       "Euthanasia                 2.0           1.0    26.0             8.0   \n",
       "Missing                    NaN           NaN     NaN             NaN   \n",
       "Relocate                   NaN           1.0     NaN             NaN   \n",
       "Return to Owner           27.0          14.0     4.0            23.0   \n",
       "Rto-Adopt                  7.0           3.0     NaN             NaN   \n",
       "Transfer                  31.0          17.0    10.0            96.0   \n",
       "\n",
       "                                                                  \n",
       "sex_upon_outcome Intact Male Neutered Male Spayed Female Unknown  \n",
       "outcome_type                                                      \n",
       "Adoption                16.0         284.0         275.0     1.0  \n",
       "Died                     NaN           NaN           2.0     NaN  \n",
       "Disposal                 2.0           NaN           NaN     4.0  \n",
       "Euthanasia               5.0           2.0           1.0    26.0  \n",
       "Missing                  1.0           NaN           NaN     NaN  \n",
       "Relocate                 NaN           NaN           1.0     NaN  \n",
       "Return to Owner         29.0          27.0          14.0     4.0  \n",
       "Rto-Adopt                NaN           7.0           3.0     NaN  \n",
       "Transfer                94.0          31.0          17.0    10.0  \n",
       "\n",
       "[9 rows x 50 columns]"
      ]
     },
     "execution_count": 36,
     "metadata": {},
     "output_type": "execute_result"
    }
   ],
   "source": [
    "animals.pivot_table(index='outcome_type', columns='sex_upon_outcome', aggfunc=len)"
   ]
  },
  {
   "cell_type": "markdown",
   "metadata": {
    "heading_collapsed": true,
    "hidden": true
   },
   "source": [
    "## Exercise"
   ]
  },
  {
   "cell_type": "markdown",
   "metadata": {
    "hidden": true
   },
   "source": [
    "Use `.pivot_table()` to add up the number of my tasks by category. \n",
    "\n",
    ">  Hint: Use `sum()` as your aggregating function."
   ]
  },
  {
   "cell_type": "code",
   "execution_count": null,
   "metadata": {
    "hidden": true
   },
   "outputs": [],
   "source": [
    "tasks = pd.DataFrame({'category': ['house', 'house', 'school', 'school'],\n",
    "                      'descr': ['kitchen', 'laundry', 'git', 'Python'],\n",
    "                      'priority': [2, 3, 4, 1], 'num_tasks': [2, 1, 2, 3]})\n",
    "\n",
    "tasks"
   ]
  },
  {
   "cell_type": "code",
   "execution_count": null,
   "metadata": {},
   "outputs": [],
   "source": []
  },
  {
   "cell_type": "markdown",
   "metadata": {
    "hidden": true
   },
   "source": [
    "<details>\n",
    "    <summary>Answer</summary>\n",
    "\n",
    "```python\n",
    "tasks.pivot_table(values='num_tasks', index='category', aggfunc=sum)\n",
    "```\n",
    "</details>"
   ]
  },
  {
   "cell_type": "markdown",
   "metadata": {
    "heading_collapsed": true
   },
   "source": [
    "# Methods for Combining DataFrames: `.join()`, `.merge()`, `pd.concat()`"
   ]
  },
  {
   "cell_type": "markdown",
   "metadata": {
    "heading_collapsed": true,
    "hidden": true
   },
   "source": [
    "## `.join()`"
   ]
  },
  {
   "cell_type": "code",
   "execution_count": 45,
   "metadata": {
    "ExecuteTime": {
     "end_time": "2021-10-19T20:39:12.283245Z",
     "start_time": "2021-10-19T20:39:12.275431Z"
    },
    "hidden": true
   },
   "outputs": [
    {
     "data": {
      "text/html": [
       "<div>\n",
       "<style scoped>\n",
       "    .dataframe tbody tr th:only-of-type {\n",
       "        vertical-align: middle;\n",
       "    }\n",
       "\n",
       "    .dataframe tbody tr th {\n",
       "        vertical-align: top;\n",
       "    }\n",
       "\n",
       "    .dataframe thead th {\n",
       "        text-align: right;\n",
       "    }\n",
       "</style>\n",
       "<table border=\"1\" class=\"dataframe\">\n",
       "  <thead>\n",
       "    <tr style=\"text-align: right;\">\n",
       "      <th></th>\n",
       "      <th>age</th>\n",
       "      <th>HP</th>\n",
       "    </tr>\n",
       "  </thead>\n",
       "  <tbody>\n",
       "    <tr>\n",
       "      <th>0</th>\n",
       "      <td>63</td>\n",
       "      <td>142</td>\n",
       "    </tr>\n",
       "    <tr>\n",
       "      <th>1</th>\n",
       "      <td>33</td>\n",
       "      <td>47</td>\n",
       "    </tr>\n",
       "  </tbody>\n",
       "</table>\n",
       "</div>"
      ],
      "text/plain": [
       "   age   HP\n",
       "0   63  142\n",
       "1   33   47"
      ]
     },
     "execution_count": 45,
     "metadata": {},
     "output_type": "execute_result"
    }
   ],
   "source": [
    "toy1 = pd.DataFrame([[63, 142], [33, 47]], columns=['age', 'HP'])\n",
    "toy2 = pd.DataFrame([[63, 100], [33, 200]], columns=['age', 'MP'])\n",
    "\n",
    "toy1"
   ]
  },
  {
   "cell_type": "code",
   "execution_count": 38,
   "metadata": {
    "ExecuteTime": {
     "end_time": "2021-10-19T20:32:59.059534Z",
     "start_time": "2021-10-19T20:32:59.053919Z"
    },
    "hidden": true
   },
   "outputs": [
    {
     "data": {
      "text/html": [
       "<div>\n",
       "<style scoped>\n",
       "    .dataframe tbody tr th:only-of-type {\n",
       "        vertical-align: middle;\n",
       "    }\n",
       "\n",
       "    .dataframe tbody tr th {\n",
       "        vertical-align: top;\n",
       "    }\n",
       "\n",
       "    .dataframe thead th {\n",
       "        text-align: right;\n",
       "    }\n",
       "</style>\n",
       "<table border=\"1\" class=\"dataframe\">\n",
       "  <thead>\n",
       "    <tr style=\"text-align: right;\">\n",
       "      <th></th>\n",
       "      <th>age</th>\n",
       "      <th>MP</th>\n",
       "    </tr>\n",
       "  </thead>\n",
       "  <tbody>\n",
       "    <tr>\n",
       "      <th>0</th>\n",
       "      <td>63</td>\n",
       "      <td>100</td>\n",
       "    </tr>\n",
       "    <tr>\n",
       "      <th>1</th>\n",
       "      <td>33</td>\n",
       "      <td>200</td>\n",
       "    </tr>\n",
       "  </tbody>\n",
       "</table>\n",
       "</div>"
      ],
      "text/plain": [
       "   age   MP\n",
       "0   63  100\n",
       "1   33  200"
      ]
     },
     "execution_count": 38,
     "metadata": {},
     "output_type": "execute_result"
    }
   ],
   "source": [
    "toy2"
   ]
  },
  {
   "cell_type": "code",
   "execution_count": 39,
   "metadata": {
    "ExecuteTime": {
     "end_time": "2021-10-19T20:33:38.022933Z",
     "start_time": "2021-10-19T20:33:38.004679Z"
    },
    "hidden": true
   },
   "outputs": [
    {
     "ename": "ValueError",
     "evalue": "columns overlap but no suffix specified: Index(['age'], dtype='object')",
     "output_type": "error",
     "traceback": [
      "\u001b[0;31m---------------------------------------------------------------------------\u001b[0m",
      "\u001b[0;31mValueError\u001b[0m                                Traceback (most recent call last)",
      "\u001b[0;32m<ipython-input-39-ac291fb78a21>\u001b[0m in \u001b[0;36m<module>\u001b[0;34m\u001b[0m\n\u001b[1;32m      1\u001b[0m \u001b[0;31m# We can't just join these as they are, since we haven't specified our suffixes.\u001b[0m\u001b[0;34m\u001b[0m\u001b[0;34m\u001b[0m\u001b[0;34m\u001b[0m\u001b[0m\n\u001b[1;32m      2\u001b[0m \u001b[0;34m\u001b[0m\u001b[0m\n\u001b[0;32m----> 3\u001b[0;31m \u001b[0mtoy1\u001b[0m\u001b[0;34m.\u001b[0m\u001b[0mjoin\u001b[0m\u001b[0;34m(\u001b[0m\u001b[0mtoy2\u001b[0m\u001b[0;34m)\u001b[0m\u001b[0;34m\u001b[0m\u001b[0;34m\u001b[0m\u001b[0m\n\u001b[0m",
      "\u001b[0;32m~/opt/anaconda3/lib/python3.8/site-packages/pandas/core/frame.py\u001b[0m in \u001b[0;36mjoin\u001b[0;34m(self, other, on, how, lsuffix, rsuffix, sort)\u001b[0m\n\u001b[1;32m   8108\u001b[0m         \u001b[0;36m5\u001b[0m  \u001b[0mK5\u001b[0m  \u001b[0mA5\u001b[0m  \u001b[0mNaN\u001b[0m\u001b[0;34m\u001b[0m\u001b[0;34m\u001b[0m\u001b[0m\n\u001b[1;32m   8109\u001b[0m         \"\"\"\n\u001b[0;32m-> 8110\u001b[0;31m         return self._join_compat(\n\u001b[0m\u001b[1;32m   8111\u001b[0m             \u001b[0mother\u001b[0m\u001b[0;34m,\u001b[0m \u001b[0mon\u001b[0m\u001b[0;34m=\u001b[0m\u001b[0mon\u001b[0m\u001b[0;34m,\u001b[0m \u001b[0mhow\u001b[0m\u001b[0;34m=\u001b[0m\u001b[0mhow\u001b[0m\u001b[0;34m,\u001b[0m \u001b[0mlsuffix\u001b[0m\u001b[0;34m=\u001b[0m\u001b[0mlsuffix\u001b[0m\u001b[0;34m,\u001b[0m \u001b[0mrsuffix\u001b[0m\u001b[0;34m=\u001b[0m\u001b[0mrsuffix\u001b[0m\u001b[0;34m,\u001b[0m \u001b[0msort\u001b[0m\u001b[0;34m=\u001b[0m\u001b[0msort\u001b[0m\u001b[0;34m\u001b[0m\u001b[0;34m\u001b[0m\u001b[0m\n\u001b[1;32m   8112\u001b[0m         )\n",
      "\u001b[0;32m~/opt/anaconda3/lib/python3.8/site-packages/pandas/core/frame.py\u001b[0m in \u001b[0;36m_join_compat\u001b[0;34m(self, other, on, how, lsuffix, rsuffix, sort)\u001b[0m\n\u001b[1;32m   8133\u001b[0m                     \u001b[0msort\u001b[0m\u001b[0;34m=\u001b[0m\u001b[0msort\u001b[0m\u001b[0;34m,\u001b[0m\u001b[0;34m\u001b[0m\u001b[0;34m\u001b[0m\u001b[0m\n\u001b[1;32m   8134\u001b[0m                 )\n\u001b[0;32m-> 8135\u001b[0;31m             return merge(\n\u001b[0m\u001b[1;32m   8136\u001b[0m                 \u001b[0mself\u001b[0m\u001b[0;34m,\u001b[0m\u001b[0;34m\u001b[0m\u001b[0;34m\u001b[0m\u001b[0m\n\u001b[1;32m   8137\u001b[0m                 \u001b[0mother\u001b[0m\u001b[0;34m,\u001b[0m\u001b[0;34m\u001b[0m\u001b[0;34m\u001b[0m\u001b[0m\n",
      "\u001b[0;32m~/opt/anaconda3/lib/python3.8/site-packages/pandas/core/reshape/merge.py\u001b[0m in \u001b[0;36mmerge\u001b[0;34m(left, right, how, on, left_on, right_on, left_index, right_index, sort, suffixes, copy, indicator, validate)\u001b[0m\n\u001b[1;32m     87\u001b[0m         \u001b[0mvalidate\u001b[0m\u001b[0;34m=\u001b[0m\u001b[0mvalidate\u001b[0m\u001b[0;34m,\u001b[0m\u001b[0;34m\u001b[0m\u001b[0;34m\u001b[0m\u001b[0m\n\u001b[1;32m     88\u001b[0m     )\n\u001b[0;32m---> 89\u001b[0;31m     \u001b[0;32mreturn\u001b[0m \u001b[0mop\u001b[0m\u001b[0;34m.\u001b[0m\u001b[0mget_result\u001b[0m\u001b[0;34m(\u001b[0m\u001b[0;34m)\u001b[0m\u001b[0;34m\u001b[0m\u001b[0;34m\u001b[0m\u001b[0m\n\u001b[0m\u001b[1;32m     90\u001b[0m \u001b[0;34m\u001b[0m\u001b[0m\n\u001b[1;32m     91\u001b[0m \u001b[0;34m\u001b[0m\u001b[0m\n",
      "\u001b[0;32m~/opt/anaconda3/lib/python3.8/site-packages/pandas/core/reshape/merge.py\u001b[0m in \u001b[0;36mget_result\u001b[0;34m(self)\u001b[0m\n\u001b[1;32m    684\u001b[0m         \u001b[0mjoin_index\u001b[0m\u001b[0;34m,\u001b[0m \u001b[0mleft_indexer\u001b[0m\u001b[0;34m,\u001b[0m \u001b[0mright_indexer\u001b[0m \u001b[0;34m=\u001b[0m \u001b[0mself\u001b[0m\u001b[0;34m.\u001b[0m\u001b[0m_get_join_info\u001b[0m\u001b[0;34m(\u001b[0m\u001b[0;34m)\u001b[0m\u001b[0;34m\u001b[0m\u001b[0;34m\u001b[0m\u001b[0m\n\u001b[1;32m    685\u001b[0m \u001b[0;34m\u001b[0m\u001b[0m\n\u001b[0;32m--> 686\u001b[0;31m         llabels, rlabels = _items_overlap_with_suffix(\n\u001b[0m\u001b[1;32m    687\u001b[0m             \u001b[0mself\u001b[0m\u001b[0;34m.\u001b[0m\u001b[0mleft\u001b[0m\u001b[0;34m.\u001b[0m\u001b[0m_info_axis\u001b[0m\u001b[0;34m,\u001b[0m \u001b[0mself\u001b[0m\u001b[0;34m.\u001b[0m\u001b[0mright\u001b[0m\u001b[0;34m.\u001b[0m\u001b[0m_info_axis\u001b[0m\u001b[0;34m,\u001b[0m \u001b[0mself\u001b[0m\u001b[0;34m.\u001b[0m\u001b[0msuffixes\u001b[0m\u001b[0;34m\u001b[0m\u001b[0;34m\u001b[0m\u001b[0m\n\u001b[1;32m    688\u001b[0m         )\n",
      "\u001b[0;32m~/opt/anaconda3/lib/python3.8/site-packages/pandas/core/reshape/merge.py\u001b[0m in \u001b[0;36m_items_overlap_with_suffix\u001b[0;34m(left, right, suffixes)\u001b[0m\n\u001b[1;32m   2176\u001b[0m \u001b[0;34m\u001b[0m\u001b[0m\n\u001b[1;32m   2177\u001b[0m     \u001b[0;32mif\u001b[0m \u001b[0;32mnot\u001b[0m \u001b[0mlsuffix\u001b[0m \u001b[0;32mand\u001b[0m \u001b[0;32mnot\u001b[0m \u001b[0mrsuffix\u001b[0m\u001b[0;34m:\u001b[0m\u001b[0;34m\u001b[0m\u001b[0;34m\u001b[0m\u001b[0m\n\u001b[0;32m-> 2178\u001b[0;31m         \u001b[0;32mraise\u001b[0m \u001b[0mValueError\u001b[0m\u001b[0;34m(\u001b[0m\u001b[0;34mf\"columns overlap but no suffix specified: {to_rename}\"\u001b[0m\u001b[0;34m)\u001b[0m\u001b[0;34m\u001b[0m\u001b[0;34m\u001b[0m\u001b[0m\n\u001b[0m\u001b[1;32m   2179\u001b[0m \u001b[0;34m\u001b[0m\u001b[0m\n\u001b[1;32m   2180\u001b[0m     \u001b[0;32mdef\u001b[0m \u001b[0mrenamer\u001b[0m\u001b[0;34m(\u001b[0m\u001b[0mx\u001b[0m\u001b[0;34m,\u001b[0m \u001b[0msuffix\u001b[0m\u001b[0;34m)\u001b[0m\u001b[0;34m:\u001b[0m\u001b[0;34m\u001b[0m\u001b[0;34m\u001b[0m\u001b[0m\n",
      "\u001b[0;31mValueError\u001b[0m: columns overlap but no suffix specified: Index(['age'], dtype='object')"
     ]
    }
   ],
   "source": [
    "# We can't just join these as they are, since we haven't specified our suffixes.\n",
    "\n",
    "toy1.join(toy2)"
   ]
  },
  {
   "cell_type": "code",
   "execution_count": 40,
   "metadata": {
    "ExecuteTime": {
     "end_time": "2021-10-19T20:35:04.216892Z",
     "start_time": "2021-10-19T20:35:04.209603Z"
    },
    "hidden": true
   },
   "outputs": [
    {
     "data": {
      "text/html": [
       "<div>\n",
       "<style scoped>\n",
       "    .dataframe tbody tr th:only-of-type {\n",
       "        vertical-align: middle;\n",
       "    }\n",
       "\n",
       "    .dataframe tbody tr th {\n",
       "        vertical-align: top;\n",
       "    }\n",
       "\n",
       "    .dataframe thead th {\n",
       "        text-align: right;\n",
       "    }\n",
       "</style>\n",
       "<table border=\"1\" class=\"dataframe\">\n",
       "  <thead>\n",
       "    <tr style=\"text-align: right;\">\n",
       "      <th></th>\n",
       "      <th>age1</th>\n",
       "      <th>HP</th>\n",
       "      <th>age2</th>\n",
       "      <th>MP</th>\n",
       "    </tr>\n",
       "  </thead>\n",
       "  <tbody>\n",
       "    <tr>\n",
       "      <th>0</th>\n",
       "      <td>63</td>\n",
       "      <td>142</td>\n",
       "      <td>63</td>\n",
       "      <td>100</td>\n",
       "    </tr>\n",
       "    <tr>\n",
       "      <th>1</th>\n",
       "      <td>33</td>\n",
       "      <td>47</td>\n",
       "      <td>33</td>\n",
       "      <td>200</td>\n",
       "    </tr>\n",
       "  </tbody>\n",
       "</table>\n",
       "</div>"
      ],
      "text/plain": [
       "   age1   HP  age2   MP\n",
       "0    63  142    63  100\n",
       "1    33   47    33  200"
      ]
     },
     "execution_count": 40,
     "metadata": {},
     "output_type": "execute_result"
    }
   ],
   "source": [
    "toy1.join(toy2, lsuffix='1', rsuffix='2')"
   ]
  },
  {
   "cell_type": "markdown",
   "metadata": {
    "hidden": true
   },
   "source": [
    "If we don't want to keep both, we could set the overlapping column as the index in each DataFrame:"
   ]
  },
  {
   "cell_type": "code",
   "execution_count": 43,
   "metadata": {
    "ExecuteTime": {
     "end_time": "2021-10-19T20:37:45.150718Z",
     "start_time": "2021-10-19T20:37:45.142091Z"
    },
    "hidden": true
   },
   "outputs": [
    {
     "data": {
      "text/html": [
       "<div>\n",
       "<style scoped>\n",
       "    .dataframe tbody tr th:only-of-type {\n",
       "        vertical-align: middle;\n",
       "    }\n",
       "\n",
       "    .dataframe tbody tr th {\n",
       "        vertical-align: top;\n",
       "    }\n",
       "\n",
       "    .dataframe thead th {\n",
       "        text-align: right;\n",
       "    }\n",
       "</style>\n",
       "<table border=\"1\" class=\"dataframe\">\n",
       "  <thead>\n",
       "    <tr style=\"text-align: right;\">\n",
       "      <th></th>\n",
       "      <th>HP</th>\n",
       "      <th>MP</th>\n",
       "    </tr>\n",
       "    <tr>\n",
       "      <th>age</th>\n",
       "      <th></th>\n",
       "      <th></th>\n",
       "    </tr>\n",
       "  </thead>\n",
       "  <tbody>\n",
       "    <tr>\n",
       "      <th>62</th>\n",
       "      <td>142</td>\n",
       "      <td>NaN</td>\n",
       "    </tr>\n",
       "    <tr>\n",
       "      <th>32</th>\n",
       "      <td>47</td>\n",
       "      <td>NaN</td>\n",
       "    </tr>\n",
       "  </tbody>\n",
       "</table>\n",
       "</div>"
      ],
      "text/plain": [
       "      HP  MP\n",
       "age         \n",
       "62   142 NaN\n",
       "32    47 NaN"
      ]
     },
     "execution_count": 43,
     "metadata": {},
     "output_type": "execute_result"
    }
   ],
   "source": [
    "toy1.set_index('age').join(toy2.set_index('age'))"
   ]
  },
  {
   "cell_type": "code",
   "execution_count": 44,
   "metadata": {
    "ExecuteTime": {
     "end_time": "2021-10-19T20:38:58.220241Z",
     "start_time": "2021-10-19T20:38:58.212516Z"
    }
   },
   "outputs": [
    {
     "data": {
      "text/html": [
       "<div>\n",
       "<style scoped>\n",
       "    .dataframe tbody tr th:only-of-type {\n",
       "        vertical-align: middle;\n",
       "    }\n",
       "\n",
       "    .dataframe tbody tr th {\n",
       "        vertical-align: top;\n",
       "    }\n",
       "\n",
       "    .dataframe thead th {\n",
       "        text-align: right;\n",
       "    }\n",
       "</style>\n",
       "<table border=\"1\" class=\"dataframe\">\n",
       "  <thead>\n",
       "    <tr style=\"text-align: right;\">\n",
       "      <th></th>\n",
       "      <th>HP</th>\n",
       "      <th>age</th>\n",
       "      <th>MP</th>\n",
       "    </tr>\n",
       "  </thead>\n",
       "  <tbody>\n",
       "    <tr>\n",
       "      <th>0</th>\n",
       "      <td>142</td>\n",
       "      <td>63</td>\n",
       "      <td>100</td>\n",
       "    </tr>\n",
       "    <tr>\n",
       "      <th>1</th>\n",
       "      <td>47</td>\n",
       "      <td>33</td>\n",
       "      <td>200</td>\n",
       "    </tr>\n",
       "  </tbody>\n",
       "</table>\n",
       "</div>"
      ],
      "text/plain": [
       "    HP  age   MP\n",
       "0  142   63  100\n",
       "1   47   33  200"
      ]
     },
     "execution_count": 44,
     "metadata": {},
     "output_type": "execute_result"
    }
   ],
   "source": [
    "toy1.drop('age', axis=1).join(toy2)"
   ]
  },
  {
   "cell_type": "markdown",
   "metadata": {
    "hidden": true
   },
   "source": [
    "For more on this method, check out the [doc](https://pandas.pydata.org/pandas-docs/stable/reference/api/pandas.DataFrame.join.html)!"
   ]
  },
  {
   "cell_type": "markdown",
   "metadata": {
    "heading_collapsed": true,
    "hidden": true
   },
   "source": [
    "## `.merge()`"
   ]
  },
  {
   "cell_type": "markdown",
   "metadata": {
    "hidden": true
   },
   "source": [
    "Or we could use `.merge()`:"
   ]
  },
  {
   "cell_type": "code",
   "execution_count": 46,
   "metadata": {
    "ExecuteTime": {
     "end_time": "2021-10-19T20:39:35.579227Z",
     "start_time": "2021-10-19T20:39:35.569212Z"
    },
    "hidden": true
   },
   "outputs": [
    {
     "data": {
      "text/html": [
       "<div>\n",
       "<style scoped>\n",
       "    .dataframe tbody tr th:only-of-type {\n",
       "        vertical-align: middle;\n",
       "    }\n",
       "\n",
       "    .dataframe tbody tr th {\n",
       "        vertical-align: top;\n",
       "    }\n",
       "\n",
       "    .dataframe thead th {\n",
       "        text-align: right;\n",
       "    }\n",
       "</style>\n",
       "<table border=\"1\" class=\"dataframe\">\n",
       "  <thead>\n",
       "    <tr style=\"text-align: right;\">\n",
       "      <th></th>\n",
       "      <th>age</th>\n",
       "      <th>HP</th>\n",
       "      <th>MP</th>\n",
       "    </tr>\n",
       "  </thead>\n",
       "  <tbody>\n",
       "    <tr>\n",
       "      <th>0</th>\n",
       "      <td>63</td>\n",
       "      <td>142</td>\n",
       "      <td>100</td>\n",
       "    </tr>\n",
       "    <tr>\n",
       "      <th>1</th>\n",
       "      <td>33</td>\n",
       "      <td>47</td>\n",
       "      <td>200</td>\n",
       "    </tr>\n",
       "  </tbody>\n",
       "</table>\n",
       "</div>"
      ],
      "text/plain": [
       "   age   HP   MP\n",
       "0   63  142  100\n",
       "1   33   47  200"
      ]
     },
     "execution_count": 46,
     "metadata": {},
     "output_type": "execute_result"
    }
   ],
   "source": [
    "toy1.merge(toy2)"
   ]
  },
  {
   "cell_type": "code",
   "execution_count": 47,
   "metadata": {
    "ExecuteTime": {
     "end_time": "2021-10-19T20:40:13.454287Z",
     "start_time": "2021-10-19T20:40:13.442398Z"
    },
    "hidden": true
   },
   "outputs": [
    {
     "data": {
      "text/html": [
       "<div>\n",
       "<style scoped>\n",
       "    .dataframe tbody tr th:only-of-type {\n",
       "        vertical-align: middle;\n",
       "    }\n",
       "\n",
       "    .dataframe tbody tr th {\n",
       "        vertical-align: top;\n",
       "    }\n",
       "\n",
       "    .dataframe thead th {\n",
       "        text-align: right;\n",
       "    }\n",
       "</style>\n",
       "<table border=\"1\" class=\"dataframe\">\n",
       "  <thead>\n",
       "    <tr style=\"text-align: right;\">\n",
       "      <th></th>\n",
       "      <th>name</th>\n",
       "      <th>HP</th>\n",
       "      <th>home_state</th>\n",
       "    </tr>\n",
       "  </thead>\n",
       "  <tbody>\n",
       "    <tr>\n",
       "      <th>0</th>\n",
       "      <td>greg</td>\n",
       "      <td>200</td>\n",
       "      <td>WA</td>\n",
       "    </tr>\n",
       "    <tr>\n",
       "      <th>1</th>\n",
       "      <td>miles</td>\n",
       "      <td>200</td>\n",
       "      <td>WA</td>\n",
       "    </tr>\n",
       "    <tr>\n",
       "      <th>2</th>\n",
       "      <td>alan</td>\n",
       "      <td>170</td>\n",
       "      <td>TX</td>\n",
       "    </tr>\n",
       "    <tr>\n",
       "      <th>3</th>\n",
       "      <td>alison</td>\n",
       "      <td>300</td>\n",
       "      <td>DC</td>\n",
       "    </tr>\n",
       "    <tr>\n",
       "      <th>4</th>\n",
       "      <td>rachel</td>\n",
       "      <td>200</td>\n",
       "      <td>TX</td>\n",
       "    </tr>\n",
       "  </tbody>\n",
       "</table>\n",
       "</div>"
      ],
      "text/plain": [
       "     name   HP home_state\n",
       "0    greg  200         WA\n",
       "1   miles  200         WA\n",
       "2    alan  170         TX\n",
       "3  alison  300         DC\n",
       "4  rachel  200         TX"
      ]
     },
     "execution_count": 47,
     "metadata": {},
     "output_type": "execute_result"
    }
   ],
   "source": [
    "ds_chars = pd.read_csv('data/ds_chars.csv', index_col=0)\n",
    "ds_chars"
   ]
  },
  {
   "cell_type": "code",
   "execution_count": 48,
   "metadata": {
    "ExecuteTime": {
     "end_time": "2021-10-19T20:40:24.511814Z",
     "start_time": "2021-10-19T20:40:24.501554Z"
    },
    "hidden": true
   },
   "outputs": [
    {
     "data": {
      "text/html": [
       "<div>\n",
       "<style scoped>\n",
       "    .dataframe tbody tr th:only-of-type {\n",
       "        vertical-align: middle;\n",
       "    }\n",
       "\n",
       "    .dataframe tbody tr th {\n",
       "        vertical-align: top;\n",
       "    }\n",
       "\n",
       "    .dataframe thead th {\n",
       "        text-align: right;\n",
       "    }\n",
       "</style>\n",
       "<table border=\"1\" class=\"dataframe\">\n",
       "  <thead>\n",
       "    <tr style=\"text-align: right;\">\n",
       "      <th></th>\n",
       "      <th>state</th>\n",
       "      <th>nickname</th>\n",
       "      <th>capital</th>\n",
       "    </tr>\n",
       "  </thead>\n",
       "  <tbody>\n",
       "    <tr>\n",
       "      <th>0</th>\n",
       "      <td>WA</td>\n",
       "      <td>evergreen</td>\n",
       "      <td>Olympia</td>\n",
       "    </tr>\n",
       "    <tr>\n",
       "      <th>1</th>\n",
       "      <td>TX</td>\n",
       "      <td>alamo</td>\n",
       "      <td>Austin</td>\n",
       "    </tr>\n",
       "    <tr>\n",
       "      <th>2</th>\n",
       "      <td>DC</td>\n",
       "      <td>district</td>\n",
       "      <td>Washington</td>\n",
       "    </tr>\n",
       "    <tr>\n",
       "      <th>3</th>\n",
       "      <td>OH</td>\n",
       "      <td>buckeye</td>\n",
       "      <td>Columbus</td>\n",
       "    </tr>\n",
       "    <tr>\n",
       "      <th>4</th>\n",
       "      <td>OR</td>\n",
       "      <td>beaver</td>\n",
       "      <td>Salem</td>\n",
       "    </tr>\n",
       "  </tbody>\n",
       "</table>\n",
       "</div>"
      ],
      "text/plain": [
       "  state   nickname     capital\n",
       "0    WA  evergreen     Olympia\n",
       "1    TX      alamo      Austin\n",
       "2    DC   district  Washington\n",
       "3    OH    buckeye    Columbus\n",
       "4    OR     beaver       Salem"
      ]
     },
     "execution_count": 48,
     "metadata": {},
     "output_type": "execute_result"
    }
   ],
   "source": [
    "states = pd.read_csv('data/states.csv', index_col=0)\n",
    "states"
   ]
  },
  {
   "cell_type": "markdown",
   "metadata": {
    "heading_collapsed": true,
    "hidden": true
   },
   "source": [
    "## The `how` Parameter"
   ]
  },
  {
   "cell_type": "markdown",
   "metadata": {
    "hidden": true
   },
   "source": [
    "This parameter in both `.join()` and `.merge()` tells the compiler what sort of join to effect. We'll cover this in detail when we discuss SQL."
   ]
  },
  {
   "cell_type": "code",
   "execution_count": 49,
   "metadata": {
    "ExecuteTime": {
     "end_time": "2021-10-19T20:42:50.079959Z",
     "start_time": "2021-10-19T20:42:50.070786Z"
    },
    "hidden": true
   },
   "outputs": [
    {
     "data": {
      "text/html": [
       "<div>\n",
       "<style scoped>\n",
       "    .dataframe tbody tr th:only-of-type {\n",
       "        vertical-align: middle;\n",
       "    }\n",
       "\n",
       "    .dataframe tbody tr th {\n",
       "        vertical-align: top;\n",
       "    }\n",
       "\n",
       "    .dataframe thead th {\n",
       "        text-align: right;\n",
       "    }\n",
       "</style>\n",
       "<table border=\"1\" class=\"dataframe\">\n",
       "  <thead>\n",
       "    <tr style=\"text-align: right;\">\n",
       "      <th></th>\n",
       "      <th>name</th>\n",
       "      <th>HP</th>\n",
       "      <th>home_state</th>\n",
       "      <th>state</th>\n",
       "      <th>nickname</th>\n",
       "      <th>capital</th>\n",
       "    </tr>\n",
       "  </thead>\n",
       "  <tbody>\n",
       "    <tr>\n",
       "      <th>0</th>\n",
       "      <td>greg</td>\n",
       "      <td>200</td>\n",
       "      <td>WA</td>\n",
       "      <td>WA</td>\n",
       "      <td>evergreen</td>\n",
       "      <td>Olympia</td>\n",
       "    </tr>\n",
       "    <tr>\n",
       "      <th>1</th>\n",
       "      <td>miles</td>\n",
       "      <td>200</td>\n",
       "      <td>WA</td>\n",
       "      <td>WA</td>\n",
       "      <td>evergreen</td>\n",
       "      <td>Olympia</td>\n",
       "    </tr>\n",
       "    <tr>\n",
       "      <th>2</th>\n",
       "      <td>alan</td>\n",
       "      <td>170</td>\n",
       "      <td>TX</td>\n",
       "      <td>TX</td>\n",
       "      <td>alamo</td>\n",
       "      <td>Austin</td>\n",
       "    </tr>\n",
       "    <tr>\n",
       "      <th>3</th>\n",
       "      <td>rachel</td>\n",
       "      <td>200</td>\n",
       "      <td>TX</td>\n",
       "      <td>TX</td>\n",
       "      <td>alamo</td>\n",
       "      <td>Austin</td>\n",
       "    </tr>\n",
       "    <tr>\n",
       "      <th>4</th>\n",
       "      <td>alison</td>\n",
       "      <td>300</td>\n",
       "      <td>DC</td>\n",
       "      <td>DC</td>\n",
       "      <td>district</td>\n",
       "      <td>Washington</td>\n",
       "    </tr>\n",
       "  </tbody>\n",
       "</table>\n",
       "</div>"
      ],
      "text/plain": [
       "     name   HP home_state state   nickname     capital\n",
       "0    greg  200         WA    WA  evergreen     Olympia\n",
       "1   miles  200         WA    WA  evergreen     Olympia\n",
       "2    alan  170         TX    TX      alamo      Austin\n",
       "3  rachel  200         TX    TX      alamo      Austin\n",
       "4  alison  300         DC    DC   district  Washington"
      ]
     },
     "execution_count": 49,
     "metadata": {},
     "output_type": "execute_result"
    }
   ],
   "source": [
    "ds_chars.merge(states,\n",
    "               left_on='home_state',\n",
    "               right_on='state',\n",
    "               how='inner')"
   ]
  },
  {
   "cell_type": "code",
   "execution_count": 50,
   "metadata": {
    "ExecuteTime": {
     "end_time": "2021-10-19T20:44:39.812038Z",
     "start_time": "2021-10-19T20:44:39.799861Z"
    },
    "hidden": true
   },
   "outputs": [
    {
     "data": {
      "text/html": [
       "<div>\n",
       "<style scoped>\n",
       "    .dataframe tbody tr th:only-of-type {\n",
       "        vertical-align: middle;\n",
       "    }\n",
       "\n",
       "    .dataframe tbody tr th {\n",
       "        vertical-align: top;\n",
       "    }\n",
       "\n",
       "    .dataframe thead th {\n",
       "        text-align: right;\n",
       "    }\n",
       "</style>\n",
       "<table border=\"1\" class=\"dataframe\">\n",
       "  <thead>\n",
       "    <tr style=\"text-align: right;\">\n",
       "      <th></th>\n",
       "      <th>name</th>\n",
       "      <th>HP</th>\n",
       "      <th>home_state</th>\n",
       "      <th>state</th>\n",
       "      <th>nickname</th>\n",
       "      <th>capital</th>\n",
       "    </tr>\n",
       "  </thead>\n",
       "  <tbody>\n",
       "    <tr>\n",
       "      <th>0</th>\n",
       "      <td>greg</td>\n",
       "      <td>200.0</td>\n",
       "      <td>WA</td>\n",
       "      <td>WA</td>\n",
       "      <td>evergreen</td>\n",
       "      <td>Olympia</td>\n",
       "    </tr>\n",
       "    <tr>\n",
       "      <th>1</th>\n",
       "      <td>miles</td>\n",
       "      <td>200.0</td>\n",
       "      <td>WA</td>\n",
       "      <td>WA</td>\n",
       "      <td>evergreen</td>\n",
       "      <td>Olympia</td>\n",
       "    </tr>\n",
       "    <tr>\n",
       "      <th>2</th>\n",
       "      <td>alan</td>\n",
       "      <td>170.0</td>\n",
       "      <td>TX</td>\n",
       "      <td>TX</td>\n",
       "      <td>alamo</td>\n",
       "      <td>Austin</td>\n",
       "    </tr>\n",
       "    <tr>\n",
       "      <th>3</th>\n",
       "      <td>rachel</td>\n",
       "      <td>200.0</td>\n",
       "      <td>TX</td>\n",
       "      <td>TX</td>\n",
       "      <td>alamo</td>\n",
       "      <td>Austin</td>\n",
       "    </tr>\n",
       "    <tr>\n",
       "      <th>4</th>\n",
       "      <td>alison</td>\n",
       "      <td>300.0</td>\n",
       "      <td>DC</td>\n",
       "      <td>DC</td>\n",
       "      <td>district</td>\n",
       "      <td>Washington</td>\n",
       "    </tr>\n",
       "    <tr>\n",
       "      <th>5</th>\n",
       "      <td>NaN</td>\n",
       "      <td>NaN</td>\n",
       "      <td>NaN</td>\n",
       "      <td>OH</td>\n",
       "      <td>buckeye</td>\n",
       "      <td>Columbus</td>\n",
       "    </tr>\n",
       "    <tr>\n",
       "      <th>6</th>\n",
       "      <td>NaN</td>\n",
       "      <td>NaN</td>\n",
       "      <td>NaN</td>\n",
       "      <td>OR</td>\n",
       "      <td>beaver</td>\n",
       "      <td>Salem</td>\n",
       "    </tr>\n",
       "  </tbody>\n",
       "</table>\n",
       "</div>"
      ],
      "text/plain": [
       "     name     HP home_state state   nickname     capital\n",
       "0    greg  200.0         WA    WA  evergreen     Olympia\n",
       "1   miles  200.0         WA    WA  evergreen     Olympia\n",
       "2    alan  170.0         TX    TX      alamo      Austin\n",
       "3  rachel  200.0         TX    TX      alamo      Austin\n",
       "4  alison  300.0         DC    DC   district  Washington\n",
       "5     NaN    NaN        NaN    OH    buckeye    Columbus\n",
       "6     NaN    NaN        NaN    OR     beaver       Salem"
      ]
     },
     "execution_count": 50,
     "metadata": {},
     "output_type": "execute_result"
    }
   ],
   "source": [
    "ds_chars.merge(states,\n",
    "               left_on='home_state',\n",
    "               right_on='state',\n",
    "               how='outer')"
   ]
  },
  {
   "cell_type": "markdown",
   "metadata": {
    "heading_collapsed": true,
    "hidden": true
   },
   "source": [
    "## `pd.concat()`"
   ]
  },
  {
   "cell_type": "markdown",
   "metadata": {
    "hidden": true
   },
   "source": [
    "This method takes a *list* of pandas objects as arguments."
   ]
  },
  {
   "cell_type": "code",
   "execution_count": 51,
   "metadata": {
    "ExecuteTime": {
     "end_time": "2021-10-19T20:47:26.969722Z",
     "start_time": "2021-10-19T20:47:26.958958Z"
    }
   },
   "outputs": [
    {
     "data": {
      "text/html": [
       "<div>\n",
       "<style scoped>\n",
       "    .dataframe tbody tr th:only-of-type {\n",
       "        vertical-align: middle;\n",
       "    }\n",
       "\n",
       "    .dataframe tbody tr th {\n",
       "        vertical-align: top;\n",
       "    }\n",
       "\n",
       "    .dataframe thead th {\n",
       "        text-align: right;\n",
       "    }\n",
       "</style>\n",
       "<table border=\"1\" class=\"dataframe\">\n",
       "  <thead>\n",
       "    <tr style=\"text-align: right;\">\n",
       "      <th></th>\n",
       "      <th>cuisine</th>\n",
       "      <th>genre</th>\n",
       "    </tr>\n",
       "  </thead>\n",
       "  <tbody>\n",
       "    <tr>\n",
       "      <th>0</th>\n",
       "      <td>Greek</td>\n",
       "      <td>horror</td>\n",
       "    </tr>\n",
       "    <tr>\n",
       "      <th>1</th>\n",
       "      <td>Indian</td>\n",
       "      <td>scifi</td>\n",
       "    </tr>\n",
       "    <tr>\n",
       "      <th>2</th>\n",
       "      <td>American</td>\n",
       "      <td>fantasy</td>\n",
       "    </tr>\n",
       "    <tr>\n",
       "      <th>3</th>\n",
       "      <td>Thai</td>\n",
       "      <td>tech</td>\n",
       "    </tr>\n",
       "    <tr>\n",
       "      <th>4</th>\n",
       "      <td>Indian</td>\n",
       "      <td>documentary</td>\n",
       "    </tr>\n",
       "  </tbody>\n",
       "</table>\n",
       "</div>"
      ],
      "text/plain": [
       "    cuisine        genre\n",
       "0     Greek       horror\n",
       "1    Indian        scifi\n",
       "2  American      fantasy\n",
       "3      Thai         tech\n",
       "4    Indian  documentary"
      ]
     },
     "execution_count": 51,
     "metadata": {},
     "output_type": "execute_result"
    }
   ],
   "source": [
    "prefs = pd.read_csv('data/preferences.csv', index_col=0)\n",
    "prefs"
   ]
  },
  {
   "cell_type": "code",
   "execution_count": 52,
   "metadata": {
    "ExecuteTime": {
     "end_time": "2021-10-19T20:48:19.437909Z",
     "start_time": "2021-10-19T20:48:19.426028Z"
    },
    "hidden": true
   },
   "outputs": [
    {
     "data": {
      "text/html": [
       "<div>\n",
       "<style scoped>\n",
       "    .dataframe tbody tr th:only-of-type {\n",
       "        vertical-align: middle;\n",
       "    }\n",
       "\n",
       "    .dataframe tbody tr th {\n",
       "        vertical-align: top;\n",
       "    }\n",
       "\n",
       "    .dataframe thead th {\n",
       "        text-align: right;\n",
       "    }\n",
       "</style>\n",
       "<table border=\"1\" class=\"dataframe\">\n",
       "  <thead>\n",
       "    <tr style=\"text-align: right;\">\n",
       "      <th></th>\n",
       "      <th>name</th>\n",
       "      <th>HP</th>\n",
       "      <th>home_state</th>\n",
       "      <th>cuisine</th>\n",
       "      <th>genre</th>\n",
       "    </tr>\n",
       "  </thead>\n",
       "  <tbody>\n",
       "    <tr>\n",
       "      <th>0</th>\n",
       "      <td>greg</td>\n",
       "      <td>200.0</td>\n",
       "      <td>WA</td>\n",
       "      <td>NaN</td>\n",
       "      <td>NaN</td>\n",
       "    </tr>\n",
       "    <tr>\n",
       "      <th>1</th>\n",
       "      <td>miles</td>\n",
       "      <td>200.0</td>\n",
       "      <td>WA</td>\n",
       "      <td>NaN</td>\n",
       "      <td>NaN</td>\n",
       "    </tr>\n",
       "    <tr>\n",
       "      <th>2</th>\n",
       "      <td>alan</td>\n",
       "      <td>170.0</td>\n",
       "      <td>TX</td>\n",
       "      <td>NaN</td>\n",
       "      <td>NaN</td>\n",
       "    </tr>\n",
       "    <tr>\n",
       "      <th>3</th>\n",
       "      <td>alison</td>\n",
       "      <td>300.0</td>\n",
       "      <td>DC</td>\n",
       "      <td>NaN</td>\n",
       "      <td>NaN</td>\n",
       "    </tr>\n",
       "    <tr>\n",
       "      <th>4</th>\n",
       "      <td>rachel</td>\n",
       "      <td>200.0</td>\n",
       "      <td>TX</td>\n",
       "      <td>NaN</td>\n",
       "      <td>NaN</td>\n",
       "    </tr>\n",
       "    <tr>\n",
       "      <th>0</th>\n",
       "      <td>NaN</td>\n",
       "      <td>NaN</td>\n",
       "      <td>NaN</td>\n",
       "      <td>Greek</td>\n",
       "      <td>horror</td>\n",
       "    </tr>\n",
       "    <tr>\n",
       "      <th>1</th>\n",
       "      <td>NaN</td>\n",
       "      <td>NaN</td>\n",
       "      <td>NaN</td>\n",
       "      <td>Indian</td>\n",
       "      <td>scifi</td>\n",
       "    </tr>\n",
       "    <tr>\n",
       "      <th>2</th>\n",
       "      <td>NaN</td>\n",
       "      <td>NaN</td>\n",
       "      <td>NaN</td>\n",
       "      <td>American</td>\n",
       "      <td>fantasy</td>\n",
       "    </tr>\n",
       "    <tr>\n",
       "      <th>3</th>\n",
       "      <td>NaN</td>\n",
       "      <td>NaN</td>\n",
       "      <td>NaN</td>\n",
       "      <td>Thai</td>\n",
       "      <td>tech</td>\n",
       "    </tr>\n",
       "    <tr>\n",
       "      <th>4</th>\n",
       "      <td>NaN</td>\n",
       "      <td>NaN</td>\n",
       "      <td>NaN</td>\n",
       "      <td>Indian</td>\n",
       "      <td>documentary</td>\n",
       "    </tr>\n",
       "  </tbody>\n",
       "</table>\n",
       "</div>"
      ],
      "text/plain": [
       "     name     HP home_state   cuisine        genre\n",
       "0    greg  200.0         WA       NaN          NaN\n",
       "1   miles  200.0         WA       NaN          NaN\n",
       "2    alan  170.0         TX       NaN          NaN\n",
       "3  alison  300.0         DC       NaN          NaN\n",
       "4  rachel  200.0         TX       NaN          NaN\n",
       "0     NaN    NaN        NaN     Greek       horror\n",
       "1     NaN    NaN        NaN    Indian        scifi\n",
       "2     NaN    NaN        NaN  American      fantasy\n",
       "3     NaN    NaN        NaN      Thai         tech\n",
       "4     NaN    NaN        NaN    Indian  documentary"
      ]
     },
     "execution_count": 52,
     "metadata": {},
     "output_type": "execute_result"
    }
   ],
   "source": [
    "ds_full = pd.concat([ds_chars, prefs])\n",
    "ds_full"
   ]
  },
  {
   "cell_type": "markdown",
   "metadata": {
    "hidden": true
   },
   "source": [
    "`pd.concat()`–– and many other pandas operations –– make use of an `axis` parameter. For this particular method I need to specify whether I want to concatenate the DataFrames *row-wise* (`axis=0`) or *column-wise* (`axis=1`). The default is `axis=0`, so let's override that!"
   ]
  },
  {
   "cell_type": "code",
   "execution_count": 53,
   "metadata": {
    "ExecuteTime": {
     "end_time": "2021-10-19T20:50:05.446144Z",
     "start_time": "2021-10-19T20:50:05.436061Z"
    },
    "hidden": true
   },
   "outputs": [
    {
     "data": {
      "text/html": [
       "<div>\n",
       "<style scoped>\n",
       "    .dataframe tbody tr th:only-of-type {\n",
       "        vertical-align: middle;\n",
       "    }\n",
       "\n",
       "    .dataframe tbody tr th {\n",
       "        vertical-align: top;\n",
       "    }\n",
       "\n",
       "    .dataframe thead th {\n",
       "        text-align: right;\n",
       "    }\n",
       "</style>\n",
       "<table border=\"1\" class=\"dataframe\">\n",
       "  <thead>\n",
       "    <tr style=\"text-align: right;\">\n",
       "      <th></th>\n",
       "      <th>name</th>\n",
       "      <th>HP</th>\n",
       "      <th>home_state</th>\n",
       "      <th>cuisine</th>\n",
       "      <th>genre</th>\n",
       "    </tr>\n",
       "  </thead>\n",
       "  <tbody>\n",
       "    <tr>\n",
       "      <th>0</th>\n",
       "      <td>greg</td>\n",
       "      <td>200</td>\n",
       "      <td>WA</td>\n",
       "      <td>Greek</td>\n",
       "      <td>horror</td>\n",
       "    </tr>\n",
       "    <tr>\n",
       "      <th>1</th>\n",
       "      <td>miles</td>\n",
       "      <td>200</td>\n",
       "      <td>WA</td>\n",
       "      <td>Indian</td>\n",
       "      <td>scifi</td>\n",
       "    </tr>\n",
       "    <tr>\n",
       "      <th>2</th>\n",
       "      <td>alan</td>\n",
       "      <td>170</td>\n",
       "      <td>TX</td>\n",
       "      <td>American</td>\n",
       "      <td>fantasy</td>\n",
       "    </tr>\n",
       "    <tr>\n",
       "      <th>3</th>\n",
       "      <td>alison</td>\n",
       "      <td>300</td>\n",
       "      <td>DC</td>\n",
       "      <td>Thai</td>\n",
       "      <td>tech</td>\n",
       "    </tr>\n",
       "    <tr>\n",
       "      <th>4</th>\n",
       "      <td>rachel</td>\n",
       "      <td>200</td>\n",
       "      <td>TX</td>\n",
       "      <td>Indian</td>\n",
       "      <td>documentary</td>\n",
       "    </tr>\n",
       "  </tbody>\n",
       "</table>\n",
       "</div>"
      ],
      "text/plain": [
       "     name   HP home_state   cuisine        genre\n",
       "0    greg  200         WA     Greek       horror\n",
       "1   miles  200         WA    Indian        scifi\n",
       "2    alan  170         TX  American      fantasy\n",
       "3  alison  300         DC      Thai         tech\n",
       "4  rachel  200         TX    Indian  documentary"
      ]
     },
     "execution_count": 53,
     "metadata": {},
     "output_type": "execute_result"
    }
   ],
   "source": [
    "ds_full = pd.concat([ds_chars, prefs], axis=1)\n",
    "ds_full"
   ]
  },
  {
   "cell_type": "markdown",
   "metadata": {
    "heading_collapsed": true
   },
   "source": [
    "# King County Assessments"
   ]
  },
  {
   "cell_type": "markdown",
   "metadata": {
    "hidden": true
   },
   "source": [
    "As data scientists, we want to build a model to predict the sale price of a house in Seattle in 2019, based on its square footage. We know that the King County Department of Assessments has comprehensive data available on real property sales in the Seattle area. We need to prepare the data."
   ]
  },
  {
   "cell_type": "markdown",
   "metadata": {
    "heading_collapsed": true,
    "hidden": true
   },
   "source": [
    "## First, get the data!"
   ]
  },
  {
   "cell_type": "markdown",
   "metadata": {
    "hidden": true
   },
   "source": [
    "Go [here](https://info.kingcounty.gov/assessor/DataDownload/default.aspx) and download two files: \"Real Property Sales\" and \"Residential Building\". Then unzip them. (Or you can run the cells below if you prefer.)"
   ]
  },
  {
   "cell_type": "code",
   "execution_count": null,
   "metadata": {
    "hidden": true
   },
   "outputs": [],
   "source": [
    "# %%bash\n",
    "# cd data\n",
    "# curl -o property_sales.zip https://aqua.kingcounty.gov/extranet/assessor/Real%20Property%20Sales.zip "
   ]
  },
  {
   "cell_type": "code",
   "execution_count": null,
   "metadata": {
    "hidden": true
   },
   "outputs": [],
   "source": [
    "# %%bash\n",
    "# cd data\n",
    "# curl -o res_bldg.zip https://aqua.kingcounty.gov/extranet/assessor/Residential%20Building.zip "
   ]
  },
  {
   "cell_type": "code",
   "execution_count": null,
   "metadata": {
    "hidden": true
   },
   "outputs": [],
   "source": [
    "# zf = ZipFile('data/property_sales.zip', 'r')\n",
    "# zf.extractall('data')\n",
    "# zf.close()"
   ]
  },
  {
   "cell_type": "code",
   "execution_count": null,
   "metadata": {
    "hidden": true
   },
   "outputs": [],
   "source": [
    "# zf = ZipFile('data/res_bldg.zip', 'r')\n",
    "# zf.extractall('data')\n",
    "# zf.close()"
   ]
  },
  {
   "cell_type": "code",
   "execution_count": null,
   "metadata": {
    "hidden": true,
    "scrolled": true
   },
   "outputs": [],
   "source": [
    "# You'll need to use a new encoding here. List of all encodings here:\n",
    "# https://docs.python.org/3/library/codecs.html#standard-encodings\n",
    "\n",
    "# Both of these csv files have many columns, so we'll just pre-select\n",
    "# which ones we want to use.\n",
    "\n",
    "sales_df = pd.read_csv('/Users/gdamico/Downloads/EXTR_RPSale.csv',\n",
    "                       encoding='latin-1',\n",
    "                       usecols=['Major', 'Minor', 'DocumentDate', 'SalePrice'])"
   ]
  },
  {
   "cell_type": "code",
   "execution_count": null,
   "metadata": {
    "hidden": true
   },
   "outputs": [],
   "source": [
    "sales_df.info()"
   ]
  },
  {
   "cell_type": "code",
   "execution_count": null,
   "metadata": {
    "hidden": true,
    "scrolled": true
   },
   "outputs": [],
   "source": [
    "bldg_df = pd.read_csv('~/Downloads/EXTR_ResBldg.csv',\n",
    "                     usecols=['Major', 'Minor', 'SqFtTotLiving', 'ZipCode'])"
   ]
  },
  {
   "cell_type": "code",
   "execution_count": null,
   "metadata": {
    "hidden": true,
    "scrolled": true
   },
   "outputs": [],
   "source": [
    "bldg_df.info()"
   ]
  },
  {
   "cell_type": "code",
   "execution_count": null,
   "metadata": {
    "hidden": true
   },
   "outputs": [],
   "source": [
    "sales_data = pd.merge(sales_df, bldg_df, on=['Major', 'Minor'])"
   ]
  },
  {
   "cell_type": "code",
   "execution_count": null,
   "metadata": {
    "hidden": true
   },
   "outputs": [],
   "source": [
    "sales_data.head()"
   ]
  },
  {
   "cell_type": "code",
   "execution_count": null,
   "metadata": {
    "hidden": true
   },
   "outputs": [],
   "source": [
    "sales_data.info()"
   ]
  },
  {
   "cell_type": "markdown",
   "metadata": {
    "hidden": true
   },
   "source": [
    "We can see right away that we're missing ZIP codes for many of the sales transactions."
   ]
  },
  {
   "cell_type": "code",
   "execution_count": null,
   "metadata": {
    "hidden": true
   },
   "outputs": [],
   "source": [
    "sales_data.loc[sales_data['ZipCode'].isna()].head()"
   ]
  },
  {
   "cell_type": "markdown",
   "metadata": {
    "heading_collapsed": true,
    "hidden": true
   },
   "source": [
    "## Exercise"
   ]
  },
  {
   "cell_type": "markdown",
   "metadata": {
    "hidden": true
   },
   "source": [
    "What percentage of housing records are missing ZIP codes?"
   ]
  },
  {
   "cell_type": "code",
   "execution_count": null,
   "metadata": {
    "hidden": true
   },
   "outputs": [],
   "source": []
  },
  {
   "cell_type": "markdown",
   "metadata": {
    "hidden": true
   },
   "source": [
    "<details>\n",
    "    <summary>Answer</summary>\n",
    "\n",
    "```python\n",
    "sales_data['ZipCode'].isna().sum() / sales_data.shape[0]\n",
    "```\n",
    "</details>"
   ]
  },
  {
   "cell_type": "markdown",
   "metadata": {
    "hidden": true
   },
   "source": [
    "Let's drop the rows with missing zip codes."
   ]
  },
  {
   "cell_type": "code",
   "execution_count": null,
   "metadata": {
    "hidden": true
   },
   "outputs": [],
   "source": [
    "sales_data = sales_data.loc[~sales_data['ZipCode'].isna(), :]\n",
    "\n",
    "sales_data.head()"
   ]
  },
  {
   "cell_type": "markdown",
   "metadata": {
    "heading_collapsed": true
   },
   "source": [
    "# Time Permitting: Data Cleaning Exercises with Pandas"
   ]
  },
  {
   "cell_type": "markdown",
   "metadata": {
    "heading_collapsed": true,
    "hidden": true
   },
   "source": [
    "## Investigate and drop rows with invalid values in the SalePrice and SqFtTotLiving columns."
   ]
  },
  {
   "cell_type": "code",
   "execution_count": null,
   "metadata": {
    "hidden": true
   },
   "outputs": [],
   "source": []
  },
  {
   "cell_type": "markdown",
   "metadata": {
    "hidden": true
   },
   "source": [
    "<details>\n",
    "    <summary>One possible answer here</summary>\n",
    "\n",
    "```python\n",
    "sales_data = sales_data[sales_data['SalePrice'] > 10000]\n",
    "```\n",
    "</details>"
   ]
  },
  {
   "cell_type": "markdown",
   "metadata": {
    "heading_collapsed": true,
    "hidden": true
   },
   "source": [
    "## Investigate and handle non-numeric ZipCode values"
   ]
  },
  {
   "cell_type": "markdown",
   "metadata": {
    "hidden": true
   },
   "source": [
    "Can you find a way to shorten ZIP+4 codes to the first five digits?"
   ]
  },
  {
   "cell_type": "code",
   "execution_count": null,
   "metadata": {
    "hidden": true
   },
   "outputs": [],
   "source": [
    "def is_integer(x):\n",
    "    try:\n",
    "        _ = int(x)\n",
    "    except ValueError:\n",
    "        return False\n",
    "    return True\n",
    "\n",
    "sales_data.loc[sales_data['ZipCode'].apply(is_integer) == False, 'ZipCode'].head()"
   ]
  },
  {
   "cell_type": "code",
   "execution_count": null,
   "metadata": {
    "hidden": true
   },
   "outputs": [],
   "source": []
  },
  {
   "cell_type": "markdown",
   "metadata": {
    "hidden": true
   },
   "source": [
    "<details>\n",
    "    <summary>One possible answer here</summary>\n",
    "\n",
    "```python\n",
    "def five_digit_ZIP(x):\n",
    "    try:\n",
    "        return int(str(x)[:5])\n",
    "    except:\n",
    "        return x\n",
    "    \n",
    "sales_data['ZipCode'] = sales_data['ZipCode'].map(five_digit_ZIP)\n",
    "sales_data = sales_data.loc[sales_data['ZipCode'].apply(is_integer) == True, :]\n",
    "sales_data['ZipCode'] = sales_data['ZipCode'].map(int)\n",
    "```\n",
    "</details>"
   ]
  },
  {
   "cell_type": "markdown",
   "metadata": {
    "heading_collapsed": true,
    "hidden": true
   },
   "source": [
    "## Add a column for PricePerSqFt"
   ]
  },
  {
   "cell_type": "code",
   "execution_count": null,
   "metadata": {
    "hidden": true
   },
   "outputs": [],
   "source": []
  },
  {
   "cell_type": "markdown",
   "metadata": {
    "hidden": true
   },
   "source": [
    "<details>\n",
    "    <summary>Answer here</summary>\n",
    "\n",
    "```python\n",
    "sales_data['PricePerSqFt'] = sales_data['SalePrice'] / sales_data['SqFtTotLiving']\n",
    "```\n",
    "</details>"
   ]
  },
  {
   "cell_type": "markdown",
   "metadata": {
    "heading_collapsed": true,
    "hidden": true
   },
   "source": [
    "## Subset the data to 2021 sales only"
   ]
  },
  {
   "cell_type": "markdown",
   "metadata": {
    "hidden": true
   },
   "source": [
    "We can assume that the DocumentDate is approximately the sale date."
   ]
  },
  {
   "cell_type": "code",
   "execution_count": null,
   "metadata": {
    "hidden": true
   },
   "outputs": [],
   "source": []
  },
  {
   "cell_type": "markdown",
   "metadata": {
    "hidden": true
   },
   "source": [
    "<details>\n",
    "    <summary>Answer here</summary>\n",
    "\n",
    "```python\n",
    "sales_data['DocumentDate'] = pd.to_datetime(sales_data['DocumentDate'])\n",
    "sales_data = sales_data.loc[sales_data['DocumentDate'] > '12/31/2020']\n",
    "```\n",
    "</details>"
   ]
  },
  {
   "cell_type": "markdown",
   "metadata": {
    "heading_collapsed": true,
    "hidden": true
   },
   "source": [
    "## What is the mean price per square foot for a house sold in Seattle in 2021?"
   ]
  },
  {
   "cell_type": "code",
   "execution_count": null,
   "metadata": {
    "hidden": true
   },
   "outputs": [],
   "source": []
  },
  {
   "cell_type": "markdown",
   "metadata": {
    "hidden": true
   },
   "source": [
    "<details>\n",
    "    <summary>Answer here</summary>\n",
    "\n",
    "```python\n",
    "sales_data['PricePerSqFt'].mean()\n",
    "```\n",
    "</details>"
   ]
  },
  {
   "cell_type": "markdown",
   "metadata": {
    "heading_collapsed": true
   },
   "source": [
    "# Level Up: `pandas.set_option()`"
   ]
  },
  {
   "cell_type": "markdown",
   "metadata": {
    "hidden": true
   },
   "source": [
    "We can adjust how `pandas` works by setting options in advance."
   ]
  },
  {
   "cell_type": "markdown",
   "metadata": {
    "hidden": true
   },
   "source": [
    "For complete documentation, see [here](https://pandas.pydata.org/pandas-docs/stable/user_guide/options.html)."
   ]
  },
  {
   "cell_type": "markdown",
   "metadata": {
    "heading_collapsed": true,
    "hidden": true
   },
   "source": [
    "## Block Scientific Notation"
   ]
  },
  {
   "cell_type": "markdown",
   "metadata": {
    "hidden": true
   },
   "source": [
    "For example, suppose we want to prevent numbers from being displayed in scientific notation."
   ]
  },
  {
   "cell_type": "code",
   "execution_count": null,
   "metadata": {
    "hidden": true
   },
   "outputs": [],
   "source": [
    "df = pd.DataFrame([[1e9, 2e9], [3e9, 4e9]])\n",
    "df"
   ]
  },
  {
   "cell_type": "markdown",
   "metadata": {
    "hidden": true
   },
   "source": [
    "Then we can use:"
   ]
  },
  {
   "cell_type": "code",
   "execution_count": null,
   "metadata": {
    "hidden": true
   },
   "outputs": [],
   "source": [
    "pd.set_option('display.float_format', '{:.2f}'.format)\n",
    "\n",
    "df"
   ]
  },
  {
   "cell_type": "markdown",
   "metadata": {
    "heading_collapsed": true,
    "hidden": true
   },
   "source": [
    "## See More Rows"
   ]
  },
  {
   "cell_type": "markdown",
   "metadata": {
    "hidden": true
   },
   "source": [
    "Or suppose we want `pandas` to show more rows."
   ]
  },
  {
   "cell_type": "code",
   "execution_count": null,
   "metadata": {
    "hidden": true
   },
   "outputs": [],
   "source": [
    "df2 = pd.DataFrame(np.array(range(100)))\n",
    "df2"
   ]
  },
  {
   "cell_type": "markdown",
   "metadata": {
    "hidden": true
   },
   "source": [
    "In that case we can use:"
   ]
  },
  {
   "cell_type": "code",
   "execution_count": null,
   "metadata": {
    "hidden": true
   },
   "outputs": [],
   "source": [
    "pd.set_option('display.max_rows', 100)\n",
    "\n",
    "df2"
   ]
  }
 ],
 "metadata": {
  "hide_input": false,
  "kernelspec": {
   "display_name": "Python 3",
   "language": "python",
   "name": "python3"
  },
  "language_info": {
   "codemirror_mode": {
    "name": "ipython",
    "version": 3
   },
   "file_extension": ".py",
   "mimetype": "text/x-python",
   "name": "python",
   "nbconvert_exporter": "python",
   "pygments_lexer": "ipython3",
   "version": "3.8.8"
  },
  "latex_envs": {
   "LaTeX_envs_menu_present": true,
   "autoclose": false,
   "autocomplete": true,
   "bibliofile": "biblio.bib",
   "cite_by": "apalike",
   "current_citInitial": 1,
   "eqLabelWithNumbers": true,
   "eqNumInitial": 1,
   "hotkeys": {
    "equation": "Ctrl-E",
    "itemize": "Ctrl-I"
   },
   "labels_anchors": false,
   "latex_user_defs": false,
   "report_style_numbering": false,
   "user_envs_cfg": false
  },
  "nbTranslate": {
   "displayLangs": [
    "*"
   ],
   "hotkey": "alt-t",
   "langInMainMenu": true,
   "sourceLang": "en",
   "targetLang": "fr",
   "useGoogleTranslate": true
  },
  "toc": {
   "base_numbering": 1,
   "nav_menu": {},
   "number_sections": true,
   "sideBar": true,
   "skip_h1_title": false,
   "title_cell": "Table of Contents",
   "title_sidebar": "TOC",
   "toc_cell": true,
   "toc_position": {
    "height": "calc(100% - 180px)",
    "left": "10px",
    "top": "150px",
    "width": "288px"
   },
   "toc_section_display": true,
   "toc_window_display": false
  }
 },
 "nbformat": 4,
 "nbformat_minor": 2
}
