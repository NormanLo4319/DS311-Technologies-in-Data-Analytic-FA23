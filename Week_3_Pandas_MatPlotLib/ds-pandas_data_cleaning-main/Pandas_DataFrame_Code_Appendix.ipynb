{
 "cells": [
  {
   "cell_type": "markdown",
   "id": "83a47dc3",
   "metadata": {},
   "source": [
    "# Introduction to Pandas DataFrame\n",
    "\n",
    "## Reading Data into DataFrame\n",
    "\n",
    "Pandas provide several methods to read data into a Pandas DataFrame objects.  The most common ones are ```pd.DataFrame()```, ```pd.read_csv()```, and ```pd.read_json()```. Here are some examples that demonstrate the use of these methods.\n",
    "\n",
    "### ```pd.DataFrame``` \n",
    "\n",
    "We usually use ```pd.DataFrame``` to read dictionary, series, arrays, list-like objects into a 2D DataFrame that contains labeled axes (rows and columns). We can thought of as a dict-like container for Series objects.\n",
    "\n",
    "Key Arguments:\n",
    "\n",
    "*index, column, dtype, and copy*\n",
    "\n",
    "Resources: https://pandas.pydata.org/docs/reference/api/pandas.DataFrame.html\n",
    "\n",
    "Python Code:\n",
    "\n",
    "``` Python\n",
    "# Create a dictionary object\n",
    "d = {'col_1': [1, 3, 5, 7, 9], 'col_2': [2, 4, 6, 8, 10]}\n",
    "\n",
    "# Reading the dictionary into Pandas DataFrame\n",
    "df = pd.DataFrame(data=d)\n",
    "\n",
    "# Create a numpy ndarray (5 x 2 matrix)\n",
    "a = np.array([(1, 2), (3, 4), (5, 6), (7, 8), (9, 10)])\n",
    "\n",
    "# Reading the numpy ndarray into Pandas DataFrame\n",
    "df = pd.DataFrame(data=a, colmuns=['col_1', 'col_2'])\n",
    "```\n",
    "\n",
    "### ```pd.read_csv```\n",
    "\n",
    "The ```pd.read_csv``` method allow us to read a comma-separated values (csv) file into Pandas object.\n",
    "\n",
    "Key Arguments:\n",
    "\n",
    "*sep, delimiter, header, names, index_col, dtype, nrows*, etc ...\n",
    "\n",
    "Resources: https://pandas.pydata.org/docs/reference/api/pandas.read_csv.html\n",
    "\n",
    "Python Code:\n",
    "\n",
    "``` Python\n",
    "# Assume there is a path to the csv file in the local machine\n",
    "path = \"./.../file_name.csv\"\n",
    "\n",
    "# Reading the csv file into DataFrame object\n",
    "df = pd.read_csv(path)\n",
    "```\n",
    "\n",
    "### ```pd.read_json```\n",
    "\n",
    "The ```pd.read_json``` method converts a JSON string to Pandas object.\n",
    "\n",
    "Key Arguments:\n",
    "\n",
    "*dtype, numpy, encoding, nrows*, etc ...\n",
    "\n",
    "Resource: https://pandas.pydata.org/pandas-docs/version/1.1.3/reference/api/pandas.read_json.html\n",
    "\n",
    "Python Code:\n",
    "\n",
    "``` Python\n",
    "# Assume there is a path to the csv file in the local machine\n",
    "path = \"./.../file_name.json\"\n",
    "\n",
    "# Reading the csv file into DataFrame object\n",
    "df = pd.read_json(path)\n",
    "```"
   ]
  },
  {
   "cell_type": "markdown",
   "id": "6531d3d8",
   "metadata": {},
   "source": [
    "## Pandas Objects Attributes and Methods\n",
    "\n",
    "When it comes to Python, many people struggle to understand the different between **attributes** and **methods**. Generally speaking, a *method* is an *attribute* in an **instance** or **class**. \n",
    "\n",
    "**Attribute** is a variable stored in an instance or class, which is a value associated with an object which is reference by name using dotted expressions. \n",
    "\n",
    "**Method** is a function stored in an instance or class, which is defined inside a class body. If called as an attribute of an instance of that class, the method will get the instance object as its first argument (which is usually called self). \n",
    "\n",
    "There are so many *attributes* and *methods* for **Pandas objects**, which you can find the resources from below.\n",
    "\n",
    "Pandas DataFrame Documentation: https://pandas.pydata.org/docs/reference/api/pandas.DataFrame.html#"
   ]
  },
  {
   "cell_type": "markdown",
   "id": "8aadab8a",
   "metadata": {},
   "source": [
    "## Using ```.apply()```, ```.map()```, and ```.applymap()```\n",
    "\n",
    "### ```apply``` Method\n",
    "\n",
    "The ```apply``` method is used for one-dimensional arrays. The method can be used for columns and rows. A one-dimensional array is always taken as input, which the function is executed row by row or column by column. If add ```axis=1``` as parameter, the function preforms a row-wise calculation.\n",
    "\n",
    "Python Code:\n",
    "\n",
    "``` Python\n",
    "# Assume a dataframe with numerical columns X_1, X_2, and X_3\n",
    "\n",
    "# Define a function that calculate the range\n",
    "def cal_range(x):\n",
    "    diff = x.max() - x.min()\n",
    "    return diff\n",
    "\n",
    "# Apply the function to all needed columns of the dataframe\n",
    "df[['X_1', 'X_2', 'X_3']].apply(cal_range)\n",
    "\n",
    "# Apply the function to all needed rows of the dataframe\n",
    "df[['X_1', 'X_2', 'X_3']].apply(cal_range, axis=1)\n",
    "```\n",
    "\n",
    "### ```applymap``` Method\n",
    "\n",
    "The ```applymap``` method applies a function that accepts and returns a scalar to every element of a DataFrame (**THE WHOLE DATAFRAME!!**). In the previous example, we apply a specific function to each numeric column of the DataFrame. If we want to change each element individually, for instance, add the suffix \"\\_SF\" as a label to each element in the DataFrame, we can use the ```applymap``` method.\n",
    "\n",
    "Note: You cannot use ```applymap``` with Pandas Series, but only Pandas DataFrame, which means the function will apply to every elements in the dataframe.\n",
    "\n",
    "Python Code:\n",
    "\n",
    "``` Python\n",
    "# Assume a dataframe with string columns X_4 and X_5\n",
    "\n",
    "# Define a function that add the string to a string object\n",
    "def sf_string(x):\n",
    "    result = str(x) + \"_SF\"\n",
    "    return result\n",
    "\n",
    "# Apply the function to the whole dataframe, include X_4 and X_5\n",
    "df.applymap(sf_string)\n",
    "```\n",
    "\n",
    "### ```map``` Method\n",
    "\n",
    "The ```map``` method applies a function to every single element in a column (Pandas Series), while with ```applymap()``` applies the function to a Pandas DataFrame.\n",
    "\n",
    "Python Code:\n",
    "\n",
    "``` Python\n",
    "# Assume a dataframe with string columns X_4 and X_5\n",
    "\n",
    "# Define a function that add the string to a string object\n",
    "def sf_string(x):\n",
    "    result = str(x) + \"_SF\"\n",
    "    return result\n",
    "\n",
    "# Apply the function to the specific column in the dataframe, only X_4\n",
    "df['X_4'].map(sf_string) \n",
    "```"
   ]
  },
  {
   "cell_type": "code",
   "execution_count": 2,
   "id": "384f4b47",
   "metadata": {
    "ExecuteTime": {
     "end_time": "2021-10-20T05:12:01.863240Z",
     "start_time": "2021-10-20T05:12:01.391871Z"
    }
   },
   "outputs": [],
   "source": [
    "# Import the dependencies\n",
    "import pandas as pd\n",
    "import numpy as np"
   ]
  },
  {
   "cell_type": "code",
   "execution_count": 3,
   "id": "92581339",
   "metadata": {
    "ExecuteTime": {
     "end_time": "2021-10-20T05:12:01.880120Z",
     "start_time": "2021-10-20T05:12:01.864921Z"
    }
   },
   "outputs": [
    {
     "data": {
      "text/html": [
       "<div>\n",
       "<style scoped>\n",
       "    .dataframe tbody tr th:only-of-type {\n",
       "        vertical-align: middle;\n",
       "    }\n",
       "\n",
       "    .dataframe tbody tr th {\n",
       "        vertical-align: top;\n",
       "    }\n",
       "\n",
       "    .dataframe thead th {\n",
       "        text-align: right;\n",
       "    }\n",
       "</style>\n",
       "<table border=\"1\" class=\"dataframe\">\n",
       "  <thead>\n",
       "    <tr style=\"text-align: right;\">\n",
       "      <th></th>\n",
       "      <th>Customer</th>\n",
       "      <th>Costs_1</th>\n",
       "      <th>Costs_2</th>\n",
       "      <th>Costs_3</th>\n",
       "    </tr>\n",
       "  </thead>\n",
       "  <tbody>\n",
       "    <tr>\n",
       "      <th>0</th>\n",
       "      <td>Norman</td>\n",
       "      <td>0</td>\n",
       "      <td>0</td>\n",
       "      <td>0</td>\n",
       "    </tr>\n",
       "    <tr>\n",
       "      <th>1</th>\n",
       "      <td>Greg</td>\n",
       "      <td>2</td>\n",
       "      <td>3</td>\n",
       "      <td>4</td>\n",
       "    </tr>\n",
       "    <tr>\n",
       "      <th>2</th>\n",
       "      <td>Erin</td>\n",
       "      <td>4</td>\n",
       "      <td>6</td>\n",
       "      <td>8</td>\n",
       "    </tr>\n",
       "    <tr>\n",
       "      <th>3</th>\n",
       "      <td>Chester</td>\n",
       "      <td>6</td>\n",
       "      <td>9</td>\n",
       "      <td>12</td>\n",
       "    </tr>\n",
       "    <tr>\n",
       "      <th>4</th>\n",
       "      <td>Uohna</td>\n",
       "      <td>8</td>\n",
       "      <td>12</td>\n",
       "      <td>16</td>\n",
       "    </tr>\n",
       "    <tr>\n",
       "      <th>5</th>\n",
       "      <td>Jeffery</td>\n",
       "      <td>10</td>\n",
       "      <td>15</td>\n",
       "      <td>20</td>\n",
       "    </tr>\n",
       "  </tbody>\n",
       "</table>\n",
       "</div>"
      ],
      "text/plain": [
       "  Customer  Costs_1  Costs_2  Costs_3\n",
       "0   Norman        0        0        0\n",
       "1     Greg        2        3        4\n",
       "2     Erin        4        6        8\n",
       "3  Chester        6        9       12\n",
       "4    Uohna        8       12       16\n",
       "5  Jeffery       10       15       20"
      ]
     },
     "execution_count": 3,
     "metadata": {},
     "output_type": "execute_result"
    }
   ],
   "source": [
    "# Create a customer dataframe object\n",
    "df = pd.DataFrame({'Customer': 'Norman Greg Erin Chester Uohna Jeffery'.split(),\n",
    "                   'Costs_1': np.arange(6) * 2,\n",
    "                   'Costs_2': np.arange(6) * 3,\n",
    "                   'Costs_3': np.arange(6) * 4})\n",
    "\n",
    "df"
   ]
  },
  {
   "cell_type": "code",
   "execution_count": 5,
   "id": "c2ef7161",
   "metadata": {
    "ExecuteTime": {
     "end_time": "2021-10-20T05:12:53.811629Z",
     "start_time": "2021-10-20T05:12:53.807906Z"
    }
   },
   "outputs": [
    {
     "data": {
      "text/plain": [
       "pandas.core.frame.DataFrame"
      ]
     },
     "execution_count": 5,
     "metadata": {},
     "output_type": "execute_result"
    }
   ],
   "source": [
    "type(df.notna())"
   ]
  },
  {
   "cell_type": "code",
   "execution_count": 13,
   "id": "f56f5682",
   "metadata": {
    "ExecuteTime": {
     "end_time": "2021-10-20T05:15:04.912343Z",
     "start_time": "2021-10-20T05:15:04.905277Z"
    }
   },
   "outputs": [
    {
     "data": {
      "text/html": [
       "<div>\n",
       "<style scoped>\n",
       "    .dataframe tbody tr th:only-of-type {\n",
       "        vertical-align: middle;\n",
       "    }\n",
       "\n",
       "    .dataframe tbody tr th {\n",
       "        vertical-align: top;\n",
       "    }\n",
       "\n",
       "    .dataframe thead th {\n",
       "        text-align: right;\n",
       "    }\n",
       "</style>\n",
       "<table border=\"1\" class=\"dataframe\">\n",
       "  <thead>\n",
       "    <tr style=\"text-align: right;\">\n",
       "      <th></th>\n",
       "      <th>Customer</th>\n",
       "      <th>Costs_1</th>\n",
       "      <th>Costs_2</th>\n",
       "      <th>Costs_3</th>\n",
       "    </tr>\n",
       "  </thead>\n",
       "  <tbody>\n",
       "    <tr>\n",
       "      <th>0</th>\n",
       "      <td>True</td>\n",
       "      <td>True</td>\n",
       "      <td>True</td>\n",
       "      <td>True</td>\n",
       "    </tr>\n",
       "    <tr>\n",
       "      <th>1</th>\n",
       "      <td>True</td>\n",
       "      <td>True</td>\n",
       "      <td>True</td>\n",
       "      <td>True</td>\n",
       "    </tr>\n",
       "    <tr>\n",
       "      <th>2</th>\n",
       "      <td>True</td>\n",
       "      <td>True</td>\n",
       "      <td>True</td>\n",
       "      <td>True</td>\n",
       "    </tr>\n",
       "    <tr>\n",
       "      <th>3</th>\n",
       "      <td>True</td>\n",
       "      <td>True</td>\n",
       "      <td>True</td>\n",
       "      <td>True</td>\n",
       "    </tr>\n",
       "    <tr>\n",
       "      <th>4</th>\n",
       "      <td>True</td>\n",
       "      <td>True</td>\n",
       "      <td>True</td>\n",
       "      <td>True</td>\n",
       "    </tr>\n",
       "    <tr>\n",
       "      <th>5</th>\n",
       "      <td>True</td>\n",
       "      <td>True</td>\n",
       "      <td>True</td>\n",
       "      <td>True</td>\n",
       "    </tr>\n",
       "  </tbody>\n",
       "</table>\n",
       "</div>"
      ],
      "text/plain": [
       "   Customer  Costs_1  Costs_2  Costs_3\n",
       "0      True     True     True     True\n",
       "1      True     True     True     True\n",
       "2      True     True     True     True\n",
       "3      True     True     True     True\n",
       "4      True     True     True     True\n",
       "5      True     True     True     True"
      ]
     },
     "execution_count": 13,
     "metadata": {},
     "output_type": "execute_result"
    }
   ],
   "source": [
    "df.notna()"
   ]
  },
  {
   "cell_type": "code",
   "execution_count": 17,
   "id": "dea711bf",
   "metadata": {
    "ExecuteTime": {
     "end_time": "2021-10-20T05:17:53.188610Z",
     "start_time": "2021-10-20T05:17:53.180304Z"
    }
   },
   "outputs": [
    {
     "data": {
      "text/html": [
       "<div>\n",
       "<style scoped>\n",
       "    .dataframe tbody tr th:only-of-type {\n",
       "        vertical-align: middle;\n",
       "    }\n",
       "\n",
       "    .dataframe tbody tr th {\n",
       "        vertical-align: top;\n",
       "    }\n",
       "\n",
       "    .dataframe thead th {\n",
       "        text-align: right;\n",
       "    }\n",
       "</style>\n",
       "<table border=\"1\" class=\"dataframe\">\n",
       "  <thead>\n",
       "    <tr style=\"text-align: right;\">\n",
       "      <th></th>\n",
       "      <th>Customer</th>\n",
       "      <th>Costs_1</th>\n",
       "      <th>Costs_2</th>\n",
       "      <th>Costs_3</th>\n",
       "    </tr>\n",
       "  </thead>\n",
       "  <tbody>\n",
       "    <tr>\n",
       "      <th>0</th>\n",
       "      <td>Norman</td>\n",
       "      <td>0</td>\n",
       "      <td>0</td>\n",
       "      <td>0</td>\n",
       "    </tr>\n",
       "    <tr>\n",
       "      <th>1</th>\n",
       "      <td>Greg</td>\n",
       "      <td>2</td>\n",
       "      <td>3</td>\n",
       "      <td>4</td>\n",
       "    </tr>\n",
       "    <tr>\n",
       "      <th>2</th>\n",
       "      <td>Erin</td>\n",
       "      <td>4</td>\n",
       "      <td>6</td>\n",
       "      <td>8</td>\n",
       "    </tr>\n",
       "    <tr>\n",
       "      <th>3</th>\n",
       "      <td>Chester</td>\n",
       "      <td>6</td>\n",
       "      <td>9</td>\n",
       "      <td>12</td>\n",
       "    </tr>\n",
       "    <tr>\n",
       "      <th>4</th>\n",
       "      <td>Uohna</td>\n",
       "      <td>8</td>\n",
       "      <td>12</td>\n",
       "      <td>16</td>\n",
       "    </tr>\n",
       "    <tr>\n",
       "      <th>5</th>\n",
       "      <td>Jeffery</td>\n",
       "      <td>10</td>\n",
       "      <td>15</td>\n",
       "      <td>20</td>\n",
       "    </tr>\n",
       "  </tbody>\n",
       "</table>\n",
       "</div>"
      ],
      "text/plain": [
       "  Customer  Costs_1  Costs_2  Costs_3\n",
       "0   Norman        0        0        0\n",
       "1     Greg        2        3        4\n",
       "2     Erin        4        6        8\n",
       "3  Chester        6        9       12\n",
       "4    Uohna        8       12       16\n",
       "5  Jeffery       10       15       20"
      ]
     },
     "execution_count": 17,
     "metadata": {},
     "output_type": "execute_result"
    }
   ],
   "source": [
    "df[df.notna()]"
   ]
  },
  {
   "cell_type": "code",
   "execution_count": 12,
   "id": "b81e8bc4",
   "metadata": {
    "ExecuteTime": {
     "end_time": "2021-10-20T05:14:46.213960Z",
     "start_time": "2021-10-20T05:14:46.209738Z"
    }
   },
   "outputs": [
    {
     "data": {
      "text/plain": [
       "pandas.core.series.Series"
      ]
     },
     "execution_count": 12,
     "metadata": {},
     "output_type": "execute_result"
    }
   ],
   "source": [
    "type(df['Customer'] == 'Norman')"
   ]
  },
  {
   "cell_type": "code",
   "execution_count": 11,
   "id": "659439d8",
   "metadata": {
    "ExecuteTime": {
     "end_time": "2021-10-20T05:14:37.821033Z",
     "start_time": "2021-10-20T05:14:37.816480Z"
    }
   },
   "outputs": [
    {
     "data": {
      "text/plain": [
       "0     True\n",
       "1    False\n",
       "2    False\n",
       "3    False\n",
       "4    False\n",
       "5    False\n",
       "Name: Customer, dtype: bool"
      ]
     },
     "execution_count": 11,
     "metadata": {},
     "output_type": "execute_result"
    }
   ],
   "source": [
    "(df['Customer'] == 'Norman')"
   ]
  },
  {
   "cell_type": "code",
   "execution_count": 15,
   "id": "ee85cf36",
   "metadata": {
    "ExecuteTime": {
     "end_time": "2021-10-20T05:16:05.520295Z",
     "start_time": "2021-10-20T05:16:05.515569Z"
    }
   },
   "outputs": [
    {
     "data": {
      "text/plain": [
       "0    False\n",
       "1    False\n",
       "2    False\n",
       "3     True\n",
       "4     True\n",
       "5     True\n",
       "Name: Costs_1, dtype: bool"
      ]
     },
     "execution_count": 15,
     "metadata": {},
     "output_type": "execute_result"
    }
   ],
   "source": [
    "df['Costs_1'] > 5"
   ]
  },
  {
   "cell_type": "code",
   "execution_count": 16,
   "id": "ef0dfa5d",
   "metadata": {
    "ExecuteTime": {
     "end_time": "2021-10-20T05:16:12.912919Z",
     "start_time": "2021-10-20T05:16:12.905597Z"
    }
   },
   "outputs": [
    {
     "data": {
      "text/html": [
       "<div>\n",
       "<style scoped>\n",
       "    .dataframe tbody tr th:only-of-type {\n",
       "        vertical-align: middle;\n",
       "    }\n",
       "\n",
       "    .dataframe tbody tr th {\n",
       "        vertical-align: top;\n",
       "    }\n",
       "\n",
       "    .dataframe thead th {\n",
       "        text-align: right;\n",
       "    }\n",
       "</style>\n",
       "<table border=\"1\" class=\"dataframe\">\n",
       "  <thead>\n",
       "    <tr style=\"text-align: right;\">\n",
       "      <th></th>\n",
       "      <th>Customer</th>\n",
       "      <th>Costs_1</th>\n",
       "      <th>Costs_2</th>\n",
       "      <th>Costs_3</th>\n",
       "    </tr>\n",
       "  </thead>\n",
       "  <tbody>\n",
       "    <tr>\n",
       "      <th>3</th>\n",
       "      <td>Chester</td>\n",
       "      <td>6</td>\n",
       "      <td>9</td>\n",
       "      <td>12</td>\n",
       "    </tr>\n",
       "    <tr>\n",
       "      <th>4</th>\n",
       "      <td>Uohna</td>\n",
       "      <td>8</td>\n",
       "      <td>12</td>\n",
       "      <td>16</td>\n",
       "    </tr>\n",
       "    <tr>\n",
       "      <th>5</th>\n",
       "      <td>Jeffery</td>\n",
       "      <td>10</td>\n",
       "      <td>15</td>\n",
       "      <td>20</td>\n",
       "    </tr>\n",
       "  </tbody>\n",
       "</table>\n",
       "</div>"
      ],
      "text/plain": [
       "  Customer  Costs_1  Costs_2  Costs_3\n",
       "3  Chester        6        9       12\n",
       "4    Uohna        8       12       16\n",
       "5  Jeffery       10       15       20"
      ]
     },
     "execution_count": 16,
     "metadata": {},
     "output_type": "execute_result"
    }
   ],
   "source": [
    "df[df['Costs_1'] > 5]"
   ]
  },
  {
   "cell_type": "code",
   "execution_count": null,
   "id": "bdd11bcb",
   "metadata": {},
   "outputs": [],
   "source": [
    "# Try to apply a function to this dataframe using the \"apply\" method\n"
   ]
  },
  {
   "cell_type": "code",
   "execution_count": null,
   "id": "24f51abe",
   "metadata": {},
   "outputs": [],
   "source": [
    "# Try to apply a function to this dataframe using the \"applymap\" method\n"
   ]
  },
  {
   "cell_type": "code",
   "execution_count": null,
   "id": "ae98b422",
   "metadata": {},
   "outputs": [],
   "source": [
    "# Try to apply a function to this dataframe using the \"map\" method\n"
   ]
  },
  {
   "cell_type": "markdown",
   "id": "2501f625",
   "metadata": {},
   "source": [
    "## Lambda Functions / Anonymous Functions\n",
    "\n",
    "### Lambda Function\n",
    "\n",
    "First of all, \"**Lambda Function**\" is not Pandas object specific, which can be applied to different data structures in Python. In Python, we can create function values on the fly using *lambda* expressions, which evaluate to unnamed functions. A lambda expression evaluates to a function that has a single return expression as its body.  Assignment and control statement are NOT ALLOWED!!\n",
    "\n",
    "Generally speaking, lambda expression are limited: They are only useful for simple, one-line function that evaluate and return a single expression. In those special cases where they apply, lambda expression can be quite expressive.\n",
    "\n",
    "Structure of a *lambda* Expression:\n",
    "\n",
    "```  lambda                     x                    :              f(g(x))```\n",
    "\n",
    "```  A function that         takes x            and return          f(g(x))```\n",
    "\n",
    "The result of a lambda expression is called a lambda function. It has no intrinsic name, but otherwise behaves like any other function.\n",
    "\n",
    "Python Code:\n",
    "\n",
    "``` Python\n",
    "# Define a function that square a value\n",
    "def s1(x):\n",
    "    return x*x\n",
    "\n",
    "# Define a lambda function that square a value\n",
    "s2 = lambda x : x*x\n",
    "\n",
    "# We can use both the calculate a squared value\n",
    "s1(10) # return 100\n",
    "s2(10) # return 100\n",
    "```\n",
    "\n",
    "### Using Lambda Functions with Map or Apply Methods\n",
    "\n",
    "It's often cases that we don't want to write a separate block of code just to define a function to complete a task with a DataFrame, for instance, adding a suffix to a specific column in a DataFrame. The *lambda* function actually provides us a simple and elegant (Pythonic) way to achieve that objective and improve the readability of the code.\n",
    "\n",
    "Here is an example:\n",
    "\n",
    "``` Python\n",
    "# Assume a dataframe with string columns X_4 and X_5\n",
    "# Add a suffix to every elements in column X_4\n",
    "df['X_4'].map(lambda x: x + \"_CA\") \n",
    "\n",
    "# Add a suffix to every elements in column X_4 and X_5\n",
    "df[['X_4', 'X_5']].applymap(lambda x: x + \"_CA\")\n",
    "\n",
    "# Finding the maximum value from each column\n",
    "df.apply(lambda x: x.max())\n",
    "```\n",
    "\n",
    "Try to run the following codes and see if you can find any kind of pattern for using the ```.apply()```, ```.applymap()```, and ```.map()```.  Some of the code will throw you an error and you may want to investigate the reason for the error."
   ]
  },
  {
   "cell_type": "code",
   "execution_count": null,
   "id": "b71d35a4",
   "metadata": {},
   "outputs": [],
   "source": [
    "# Example 1:\n",
    "df[\"Customer\"].applymap(lambda x: x + \"_SF\") "
   ]
  },
  {
   "cell_type": "code",
   "execution_count": null,
   "id": "2722b915",
   "metadata": {
    "ExecuteTime": {
     "end_time": "2021-10-19T19:54:16.376184Z",
     "start_time": "2021-10-19T19:54:16.366377Z"
    }
   },
   "outputs": [],
   "source": [
    "# Example 2:\n",
    "df[[\"Customer\"]].applymap(lambda x: x + \"_SF\") "
   ]
  },
  {
   "cell_type": "code",
   "execution_count": null,
   "id": "ff4b2740",
   "metadata": {
    "ExecuteTime": {
     "end_time": "2021-10-19T16:48:12.551035Z",
     "start_time": "2021-10-19T16:48:12.540489Z"
    }
   },
   "outputs": [],
   "source": [
    "# Example 3:\n",
    "df.applymap(lambda x: str(x) + \"_SF\")"
   ]
  },
  {
   "cell_type": "code",
   "execution_count": null,
   "id": "b164391a",
   "metadata": {
    "ExecuteTime": {
     "end_time": "2021-10-19T16:48:36.709849Z",
     "start_time": "2021-10-19T16:48:36.697098Z"
    }
   },
   "outputs": [],
   "source": [
    "# Example 4:\n",
    "df.map(lambda x: str(x) + \"_SF\")"
   ]
  },
  {
   "cell_type": "code",
   "execution_count": null,
   "id": "9f5c8821",
   "metadata": {
    "ExecuteTime": {
     "end_time": "2021-10-19T16:48:55.897307Z",
     "start_time": "2021-10-19T16:48:55.890841Z"
    }
   },
   "outputs": [],
   "source": [
    "# Example 5:\n",
    "df.apply(lambda x: str(x) + \"_SF\")"
   ]
  },
  {
   "cell_type": "code",
   "execution_count": null,
   "id": "02fdcbf3",
   "metadata": {
    "ExecuteTime": {
     "end_time": "2021-10-19T20:04:13.156244Z",
     "start_time": "2021-10-19T20:04:13.150811Z"
    }
   },
   "outputs": [],
   "source": [
    "# Example 6:\n",
    "df.apply(lambda x: x.max())"
   ]
  },
  {
   "cell_type": "code",
   "execution_count": null,
   "id": "05d13dc5",
   "metadata": {},
   "outputs": [],
   "source": []
  }
 ],
 "metadata": {
  "hide_input": false,
  "kernelspec": {
   "display_name": "Python 3",
   "language": "python",
   "name": "python3"
  },
  "language_info": {
   "codemirror_mode": {
    "name": "ipython",
    "version": 3
   },
   "file_extension": ".py",
   "mimetype": "text/x-python",
   "name": "python",
   "nbconvert_exporter": "python",
   "pygments_lexer": "ipython3",
   "version": "3.8.8"
  },
  "latex_envs": {
   "LaTeX_envs_menu_present": true,
   "autoclose": false,
   "autocomplete": true,
   "bibliofile": "biblio.bib",
   "cite_by": "apalike",
   "current_citInitial": 1,
   "eqLabelWithNumbers": true,
   "eqNumInitial": 1,
   "hotkeys": {
    "equation": "Ctrl-E",
    "itemize": "Ctrl-I"
   },
   "labels_anchors": false,
   "latex_user_defs": false,
   "report_style_numbering": false,
   "user_envs_cfg": false
  },
  "nbTranslate": {
   "displayLangs": [
    "*"
   ],
   "hotkey": "alt-t",
   "langInMainMenu": true,
   "sourceLang": "en",
   "targetLang": "fr",
   "useGoogleTranslate": true
  },
  "toc": {
   "base_numbering": 1,
   "nav_menu": {},
   "number_sections": true,
   "sideBar": true,
   "skip_h1_title": false,
   "title_cell": "Table of Contents",
   "title_sidebar": "Contents",
   "toc_cell": false,
   "toc_position": {},
   "toc_section_display": true,
   "toc_window_display": false
  }
 },
 "nbformat": 4,
 "nbformat_minor": 5
}
