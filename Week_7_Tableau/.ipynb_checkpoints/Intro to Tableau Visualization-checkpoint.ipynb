{
 "cells": [
  {
   "cell_type": "markdown",
   "id": "cosmetic-basics",
   "metadata": {},
   "source": [
    "# Tableau Visualization\n",
    "\n",
    "## Topics\n",
    "\n",
    "1. How do green and blue fields affect ...\n",
    "- Rows and Columns\n",
    "- Colors\n",
    "- Filters\n",
    "\n",
    "2. Comparing Measures\n",
    "- measure names and measure values\n",
    "- combined axis chart\n",
    "- creating a dual axis chart\n",
    "- creating a bar in bar chart\n",
    "- creating a multiple measure crosstab\n",
    "- creating a highlight table\n",
    "- comparing measures using a scatter plot\n",
    "\n",
    "3. Mapping the Data\n",
    "- creating an area map\n",
    "- creating a symbol map\n",
    "- creating locations from coordinates\n",
    "- creating lines to connect location on a map"
   ]
  },
  {
   "cell_type": "markdown",
   "id": "deluxe-uganda",
   "metadata": {},
   "source": [
    "## 1. Green and Blue Fields\n",
    "\n",
    "### Rows and Columns\n",
    "\n",
    "Everything that you build in Tableau depends on whether we're using a green continuous field, or a blue discrete field. The first thing to understand is how we actually build a visualization, that is using drag and drop. So what we do is we drag and drop a continuous, or a discrete field onto our rows and columns and that will build the visualization. The combination of discrete continuous field determine the type of visualization that we get, whether it's a bar chart, a line chart, a pie chart, but to understand that we need to see the difference between using discrete and continuous field and Tableau has two very strict rules for this. The first rule, is for every continuous field that we put on a row or a column, we get an axis. Two important rule to remembers here,\n",
    "\n",
    "1. Any green / continuous field add on the row or column will turns into an axis.\n",
    "\n",
    "2. Any blue / discreet field add on the row or column will turns into header.\n",
    "\n",
    "Example: \n",
    "- Drag sales out of the meausres and put it onto the column\n",
    "- We get the sum of sales return in a single bar\n",
    "- Drag profit onto column as well\n",
    "- We have one for sum of sales and one for sume of profit\n",
    "\n",
    "Example:\n",
    "- Drag category field onto the rows\n",
    "- We get a category header, which includes furniture, office, supplies, and technology\n",
    "- We get three bars for each one of the two axes\n",
    "\n",
    "### Colors\n",
    "\n",
    "Now lets introduce a little bit of color in Tableau. The way that Tableau handles color depends on whether we're coloring by a green or a blue field, that is a discrete or a continuous field.  So it's really important to only use color where it actually helps your analysis rather than hinder it. Tableau has a maximum with 20 distinct colors it can show in any one particular time. If you've got 21, it will cycle round and start reusing some of the colors. So that can be really bad if you're trying to use that as some kind of color key. So I'd always recommend keeping it around five or six. Any more than that, is color a viable thing to use?\n",
    "\n",
    "Example:\n",
    "- Drag profit field to column\n",
    "- Drag category and subcategory fields to row\n",
    "- Drag category field from data pane into color\n",
    "\n",
    "### Filters\n",
    "\n",
    "The way that filtering works in Tableau is that you give it a measure or a dimension and then include or exclude certain values to filter those values out. And then Tableau will display the results of that filter. So the way I always think of it, is the left-hand side is the data pane. This is where all our data is. On the right-hand side is our view, the actual visualization of the data that we have. And then we have the little filters card between the two. So it's as if the data comes from over here on the left, is filtered through here in the middle, and that appears in our view.\n",
    "\n",
    "Example:\n",
    "- Drag profit field to column\n",
    "- Drag category and subcategory fields to row\n",
    "- Drag Category field from data pane into filter card\n",
    "- Check off the category within the field to exclude them\n",
    "- OR right click on the category field in the data pane and choose \"Show Filter\", then choose the cateogry to be included in the visualization\n"
   ]
  },
  {
   "cell_type": "markdown",
   "id": "engaged-outreach",
   "metadata": {},
   "source": [
    "## 2. Comparing Measures\n",
    "\n",
    "###"
   ]
  },
  {
   "cell_type": "markdown",
   "id": "disciplinary-stopping",
   "metadata": {},
   "source": [
    "## 3. Mapping the Data\n",
    "\n",
    "### "
   ]
  },
  {
   "cell_type": "markdown",
   "id": "ambient-approach",
   "metadata": {},
   "source": []
  },
  {
   "cell_type": "code",
   "execution_count": null,
   "id": "similar-simulation",
   "metadata": {},
   "outputs": [],
   "source": []
  }
 ],
 "metadata": {
  "hide_input": false,
  "kernelspec": {
   "display_name": "Python 3",
   "language": "python",
   "name": "python3"
  },
  "language_info": {
   "codemirror_mode": {
    "name": "ipython",
    "version": 3
   },
   "file_extension": ".py",
   "mimetype": "text/x-python",
   "name": "python",
   "nbconvert_exporter": "python",
   "pygments_lexer": "ipython3",
   "version": "3.7.1"
  },
  "nbTranslate": {
   "displayLangs": [
    "*"
   ],
   "hotkey": "alt-t",
   "langInMainMenu": true,
   "sourceLang": "en",
   "targetLang": "fr",
   "useGoogleTranslate": true
  },
  "varInspector": {
   "cols": {
    "lenName": 16,
    "lenType": 16,
    "lenVar": 40
   },
   "kernels_config": {
    "python": {
     "delete_cmd_postfix": "",
     "delete_cmd_prefix": "del ",
     "library": "var_list.py",
     "varRefreshCmd": "print(var_dic_list())"
    },
    "r": {
     "delete_cmd_postfix": ") ",
     "delete_cmd_prefix": "rm(",
     "library": "var_list.r",
     "varRefreshCmd": "cat(var_dic_list()) "
    }
   },
   "types_to_exclude": [
    "module",
    "function",
    "builtin_function_or_method",
    "instance",
    "_Feature"
   ],
   "window_display": false
  }
 },
 "nbformat": 4,
 "nbformat_minor": 5
}
