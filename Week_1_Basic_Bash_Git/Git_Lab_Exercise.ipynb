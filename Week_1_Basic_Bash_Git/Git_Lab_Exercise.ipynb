{
 "cells": [
  {
   "cell_type": "markdown",
   "id": "41bb0d88",
   "metadata": {},
   "source": [
    "# Git Lab Exercise\n",
    "\n",
    "## Exercise 1\n",
    "\n",
    "In this exercise, student needs to complete the following tasks:\n",
    "\n",
    "1. Create a GitHub account on [GitHub](www.github.com)\n",
    "\n",
    "[github page](./images/github.png)\n",
    "\n",
    "2. Create a new repository on GitHub and call it \"Hello-World\"\n",
    "\n",
    "[github page](./images/github.png)\n",
    "\n",
    "3. Use Git Bash or other command line interpreter (command prompt, terminal, etc ...) to clone the \"Hello-World\" repo to **Desktop**\n",
    "\n",
    "[github page](./images/github.png)\n",
    "\n",
    "4. Create the following items in the repository,\n",
    "\n",
    "    i. **image folder**, then put a screen shot of the GitHub repository page into the folder and call it **Git.png**\n",
    "    \n",
    "    [github page](./images/github.png)\n",
    "    \n",
    "    ii. **log.txt** and manually type out the log of the repository:\n",
    "        - Example: **Event Log: 08-22-2022 | 21:00:00 | Repository created**\n",
    "        \n",
    "        [github page](./images/github.png)\n",
    "        \n",
    "    iii. **data folder**, then download the GDP time series dataset from the [Fed](https://fred.stlouisfed.org/series/GDP) in CSV format, save it into the folder, and call it **gdp.csv**\n",
    "    \n",
    "    [github page](./images/github.png)\n",
    "    \n",
    "5. Once the items were created, use the command line interpreter to add the changes to the staging status, commit the changes with an intuitive message, and push the changes back to the remote repository on GitHub.\n",
    "\n",
    "[github page](./images/github.png)\n",
    "\n",
    "6. Finally, submit the repository link on iLearn for grading.\n",
    "\n",
    "[github page](./images/github.png)\n",
    "\n"
   ]
  },
  {
   "cell_type": "code",
   "execution_count": null,
   "id": "c1c15d55",
   "metadata": {},
   "outputs": [],
   "source": []
  }
 ],
 "metadata": {
  "kernelspec": {
   "display_name": "Python 3 (ipykernel)",
   "language": "python",
   "name": "python3"
  },
  "language_info": {
   "codemirror_mode": {
    "name": "ipython",
    "version": 3
   },
   "file_extension": ".py",
   "mimetype": "text/x-python",
   "name": "python",
   "nbconvert_exporter": "python",
   "pygments_lexer": "ipython3",
   "version": "3.8.12"
  },
  "latex_envs": {
   "LaTeX_envs_menu_present": true,
   "autoclose": false,
   "autocomplete": true,
   "bibliofile": "biblio.bib",
   "cite_by": "apalike",
   "current_citInitial": 1,
   "eqLabelWithNumbers": true,
   "eqNumInitial": 1,
   "hotkeys": {
    "equation": "Ctrl-E",
    "itemize": "Ctrl-I"
   },
   "labels_anchors": false,
   "latex_user_defs": false,
   "report_style_numbering": false,
   "user_envs_cfg": false
  },
  "toc": {
   "base_numbering": 1,
   "nav_menu": {},
   "number_sections": true,
   "sideBar": true,
   "skip_h1_title": false,
   "title_cell": "Table of Contents",
   "title_sidebar": "Contents",
   "toc_cell": false,
   "toc_position": {},
   "toc_section_display": true,
   "toc_window_display": false
  }
 },
 "nbformat": 4,
 "nbformat_minor": 5
}
