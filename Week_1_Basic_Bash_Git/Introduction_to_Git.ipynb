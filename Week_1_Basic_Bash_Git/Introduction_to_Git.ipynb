{
 "cells": [
  {
   "cell_type": "markdown",
   "metadata": {},
   "source": [
    "# Introduction to Git and GitHub\n",
    "\n",
    "1. Version Control\n",
    "2. Creating a Repo\n",
    "3. Collaboarting with Git\n",
    "\n",
    "### Version Control\n",
    "\n",
    "Q: Why do you think version control is important? Can you think of a use case?\n",
    "\n",
    "#### Options:\n",
    "\n",
    "<img src='https://i.redd.it/ckj3io6qf1y01.jpg' width=60%/>\n",
    "\n",
    "- Saving a new file each change is frustrating and can be too much over time!\n",
    "- subversion: lockout one editor at a time\n",
    "- `git` or Git: save just the changes!\n",
    "\n",
    "### Git is Super Common\n",
    "\n",
    "https://insights.stackoverflow.com/survey/2018/#work-_-version-control\n",
    "\n",
    "<img src='https://imgs.xkcd.com/comics/git.png'/>\n",
    "\n",
    "\n",
    "### Basic `git` Workflow\n",
    "\n",
    "<img src='https://res.cloudinary.com/practicaldev/image/fetch/s--Si7ksd-d--/c_limit%2Cf_auto%2Cfl_progressive%2Cq_auto%2Cw_880/https://cdn-images-1.medium.com/max/800/1%2AdiRLm1S5hkVoh5qeArND0Q.png'/>\n",
    "\n",
    "> Source: https://dev.to/sublimegeek/git-staging-area-explained-like-im-five-1anh"
   ]
  },
  {
   "cell_type": "markdown",
   "metadata": {},
   "source": [
    "```\n",
    "git add file_or_files\n",
    "git commit -m \"Message\"\n",
    "git push\n",
    "```"
   ]
  },
  {
   "cell_type": "markdown",
   "metadata": {},
   "source": [
    "- `git status`: what is staged? working directory?\n",
    "- `git diff`: differences between commits or working directory\n",
    "- `git log`: all the changes"
   ]
  },
  {
   "cell_type": "markdown",
   "metadata": {},
   "source": [
    "## Creating a Repo\n",
    "\n",
    "###  With GitHub\n",
    "\n",
    "Create the repo on your local machine via GitHub (repo already has to exist)\n",
    "\n",
    "```\n",
    "git clone url_from_github\n",
    "```\n",
    "\n",
    "###  From Local\n",
    "\n",
    "```\n",
    "git init\n",
    "git add .\n",
    "git commit -m \"First commit\"\n",
    "```\n",
    "\n",
    "Syncing up with GitHub:\n",
    "\n",
    "```\n",
    "git remote add origin the_url_for_the_repo\n",
    "git push -u origin master\n",
    "```\n",
    "\n",
    "This command above will also set up an **upstream** which you can think of as a path to push your current branch (see [git_collaboration.ipynb](git_collaboration.ipynb) for more about branches) to the remote repository.\n",
    "\n",
    "### Get Changes to Local\n",
    "\n",
    "This is is an important step in making sure your remote branch (GitHub) and your local branch are in sync. If you make changes to your GitHub repo ***you should do a `git pull` first*** or else face the wrath of a **[merge conflict](git_advanced.ipynb)**. "
   ]
  },
  {
   "cell_type": "markdown",
   "metadata": {},
   "source": [
    "```\n",
    "git pull\n",
    "```"
   ]
  },
  {
   "cell_type": "markdown",
   "metadata": {},
   "source": [
    "## Collaborating with Git: Branches\n",
    "\n",
    "Branches can be super helpful in creating tweaks to your original version. There can be branches for different features or used by different teams. This can allow for variations of the same base project to be worked on simultaneously.\n",
    "\n",
    "You can also combine branches called **merging** when you might integrate the work together to share a common timeline.\n",
    "\n",
    "<img src='https://www.atlassian.com/dam/jcr:746be214-eb99-462c-9319-04a4d2eeebfa/01.svg' width=80%/>\n",
    "\n",
    "> https://www.atlassian.com/git/tutorials/using-branches\n",
    "\n",
    "\n",
    "### Looking at Our Branches \n",
    "\n",
    "We can use the command below to see what branches are available (note these are just ones locally you made)\n",
    "\n",
    "```\n",
    "git branch\n",
    "```\n",
    "\n",
    "We can use the below line to see a prettified look at our repo's history (including branches)\n",
    "\n",
    "```\n",
    "git log --graph --decorate --oneline\n",
    "```\n",
    "\n",
    "### Checking Out a Branch\n",
    "\n",
    "We can use **checkout** to create branches or start working on existing branch\n",
    "\n",
    "#### Creating a new branch\n",
    "\n",
    "```\n",
    "git checkout -b branch_name\n",
    "```\n",
    "\n",
    "#### Work on an existing branch\n",
    "\n",
    "```\n",
    "git checkout branch_name\n",
    "```\n",
    "\n",
    "#### Extra note on checking out a commit\n",
    "\n",
    "You can also checkout a _past commit_ by giving the SHA (hash) ID and work off this! This can be tricky so always be careful! Notice you don't have to give the full hash if it is unique amongst all the IDs in your repo's history.\n",
    "\n",
    "```\n",
    "git checkout a80d3ce4\n",
    "```\n",
    "\n",
    "This can be really helpful if you want to roll back time and create a new branch here!\n",
    "\n",
    "#### A note on remote branches\n",
    "\n",
    "If you run the `git branch` after cloning or pulling from a remote repo, you'll likely notice you will only see the `master` branch. The other remote branches are actually there too! You can run `git branch -r` to see the list of branches, including remote ones!\n",
    "\n",
    "Also know that to checkout a branch that was pulled from a remote repository (think GitHub again), we need to specify the branch explicitly:\n",
    "\n",
    "```\n",
    "git checkout origin/other_branch\n",
    "```\n",
    "\n",
    "## Merges\n",
    "\n",
    "`git merge other_branch`: Merges the **other_branch** into your current branch you're on \n",
    "\n",
    "<img src='https://www.atlassian.com/dam/jcr:91b1bdf5-fda3-4d20-b108-0bb9eea402b2/08.svg' width=80%/>\n",
    "\n",
    "> https://www.atlassian.com/git/tutorials/using-branches/git-merge\n",
    "\n",
    "If the branch you're merging into your current branch just has additional changes that your original branch doesn't have, it will simply add those changes in. We call this a **fast-forward** merge.\n",
    "\n",
    "### When There's Conflict\n",
    "\n",
    "Sometimes working others can cause conflicts...\n",
    "\n",
    "What happens if we try to merge a branch but there are major differences to the same file in each branch? What's the best way to merge these? Git doesn't know and gives you a **merge conflict** to let you know you have to figure this one out manually. See the next notebook [git_advanced.ipynb](git_advanced.ipynb) for more details.\n",
    "\n",
    "https://www.atlassian.com/git/tutorials/using-branches/merge-conflicts"
   ]
  },
  {
   "cell_type": "code",
   "execution_count": null,
   "metadata": {},
   "outputs": [],
   "source": []
  }
 ],
 "metadata": {
  "hide_input": false,
  "kernelspec": {
   "display_name": "Python 3",
   "language": "python",
   "name": "python3"
  },
  "language_info": {
   "codemirror_mode": {
    "name": "ipython",
    "version": 3
   },
   "file_extension": ".py",
   "mimetype": "text/x-python",
   "name": "python",
   "nbconvert_exporter": "python",
   "pygments_lexer": "ipython3",
   "version": "3.7.1"
  },
  "latex_envs": {
   "LaTeX_envs_menu_present": true,
   "autoclose": false,
   "autocomplete": true,
   "bibliofile": "biblio.bib",
   "cite_by": "apalike",
   "current_citInitial": 1,
   "eqLabelWithNumbers": true,
   "eqNumInitial": 1,
   "hotkeys": {
    "equation": "Ctrl-E",
    "itemize": "Ctrl-I"
   },
   "labels_anchors": false,
   "latex_user_defs": false,
   "report_style_numbering": false,
   "user_envs_cfg": false
  },
  "nbTranslate": {
   "displayLangs": [
    "*"
   ],
   "hotkey": "alt-t",
   "langInMainMenu": true,
   "sourceLang": "en",
   "targetLang": "fr",
   "useGoogleTranslate": true
  },
  "toc": {
   "base_numbering": 1,
   "nav_menu": {},
   "number_sections": true,
   "sideBar": false,
   "skip_h1_title": false,
   "title_cell": "Table of Contents",
   "title_sidebar": "Contents",
   "toc_cell": true,
   "toc_position": {},
   "toc_section_display": false,
   "toc_window_display": false
  },
  "varInspector": {
   "cols": {
    "lenName": 16,
    "lenType": 16,
    "lenVar": 40
   },
   "kernels_config": {
    "python": {
     "delete_cmd_postfix": "",
     "delete_cmd_prefix": "del ",
     "library": "var_list.py",
     "varRefreshCmd": "print(var_dic_list())"
    },
    "r": {
     "delete_cmd_postfix": ") ",
     "delete_cmd_prefix": "rm(",
     "library": "var_list.r",
     "varRefreshCmd": "cat(var_dic_list()) "
    }
   },
   "types_to_exclude": [
    "module",
    "function",
    "builtin_function_or_method",
    "instance",
    "_Feature"
   ],
   "window_display": false
  }
 },
 "nbformat": 4,
 "nbformat_minor": 2
}
