{
 "cells": [
  {
   "cell_type": "markdown",
   "id": "human-running",
   "metadata": {},
   "source": [
    "<img src=\"https://raw.githubusercontent.com/flatiron-school/Online-DS-FT-022221-Cohort-Notes/master/Phase_5/tableau/images/tableau_cmyk_2015.png\" width=50%>\n",
    "\n",
    "# Tableau Dashboard\n",
    "\n",
    "## Dashboard Actions and Design Tips\n",
    "\n",
    "1. Using container in a dashboard\n",
    "2. Creating a tiled dashboard\n",
    "3. Creating a floating dashobard\n",
    "4. Using filter actions\n",
    "5. Using highlight actions"
   ]
  },
  {
   "cell_type": "markdown",
   "id": "phantom-baghdad",
   "metadata": {},
   "source": [
    "## Using Container in a Dashboard\n",
    "\n",
    " When we create a dashboard, we need to make sure the layout is exactly what we want. And one way to make an effective use of that is to understand what layout containers are. Now when we create a dashboard, layout containers are automatically created. So when we move our content into a dashboard, it goes inside a container. To understand that, let's have a little look and see that in action. So I've got three sheets here that I've just created, I've got a bar chart, a line chart, and a heat map, and what I want to do is put these into a dashboard. Now I'm just going to drag and drop them into here, roughly arrange them how I want, and then we'll have a look at the underlying structure of the dashboard to see what Tableau has actually done. So I'll start off by putting in my bars, and we'll put our line chart underneath, and I'll put our heat map over here on the right-hand side. So we'll just move that around a little bit, well move that to the top, just rearrange that slightly, okay. So, it doesn't really look that great, I'm having trouble kind of placing things where I want to, I don't really want to use all that space for the profits, so why is that happening? What's going on? Well Tableau is trying to maximize the best use of the space, and we haven't actually got a dashboard with just four objects in there. We've got three charts, one legend, and they're inside containers. Now I didn't put the containers in there, they just automatically appear. If we look at the underlying layout of the dashboard, by clicking on the layout tab, down at the bottom we have an item hierarchy. We can see that we have a tiled section, and then we have a horizontal with a vertical inside with the heat map and the bars, another vertical section with the profit. Now if we look at how this dashboard actually looks, to be honest, it's a bit of a mess. There's not enough room here for the heat map to exist in, though I really wanted the line chart to go the full width, and I don't really want that full size for the legend. The reason for that is, is if we look at the hierarchy, we can see it's all over the place. We've got a vertical container with the bars and the lines in. This sits inside a horizontal container with the heat map sitting inside that as well. The problem is, when we to just drag and drop things into a dashboard, we don't really have full control over where they go. We do to an extent but Tableau has to make the best job that it can. If we want to see whereabouts our fields are, I need to click on the gray bar around any one of the sheets. I can then see that this is contained in this container, and then double-click on the container to see where it is in the container, it's another way of navigating through the hierarchy. So, whenever we create a dashboard, it's generally a good idea to use either containers or floating objects, rather than just dragging and dropping a sheet straight into the empty dashboard. That way we control exactly the layout, we can control the sizing, and make sure that the dashboard actually looks like what we want it to. To see how to create either a tile dashboard, or a floating dashboard, check out either of the two videos in this section of the course. I'd always advise choosing either one or the other, mixing containers and a layout, and floating layout, can often cause trouble when we go to publish the dashboard. You might find that some of the floating elements move around and this can be incredibly annoying, so pick one and stick with it. Now, which is best, either a floating or a tiled, fixed or moving around, depends entirely on how you want to work. Some people swear by using a tiled layout, where everything goes inside a grid. Other people like to float their elements so they can pinpoint exactly where they're going to go. It's possible to create a beautiful dashboard using either to just pick the one that fits with your design style. Containers are not difficult as long as you understand them from the start, that's why I would definitely advise using them and not simply dragging and dropping things straight onto the dashboard."
   ]
  },
  {
   "cell_type": "markdown",
   "id": "actual-accident",
   "metadata": {},
   "source": [
    "## Creating a Tiled Dashboard\n",
    "\n",
    " One of the options for creating a dashboard is using a tiled layer. Now this makes use of layer containers in order to arrange our sheets within the containers, within a tile setup. To do that, I've got a couple of sheets here that we're going to put inside of a dashboard. I've got a bar chart, a line chart, and a heat map. Now I'm going to start off by sorting out my layer and thinking about how I want it to look. Then I can use horizontal and vertical containers to set up the grid and then drop my elements to where I want them to go. So, if I hover over my sheets in the left-hand side, I can see what they look like and then kind of work out (indistinct) in layout. And my line chart is quite wide. So obviously, I think I'd want that to use the entire width. And my bar and my heat map are slightly squarer, so I think what I want is to have my line chart going across the bottom of this page, and then the bar chart on the top left and maybe the heat map in the top right. So in order to do that, I need to have a vertical container and a horizontal container. Now the horizontal and vertical containers have a hierarchy and one goes inside the other. So it's a good idea sometimes to sketch it out on a piece of paper to think about what you want your dashboard to look like. Now I know that I want to have my two sheets side by side, so that's going to be a horizontal container. And then I want another sheet beneath it. So you have to kind of work backwards and start at the top level. So I know that the highest level I need is a virtual container. So I'm going to drop that into my view. Now, one of the problems with working with containers is they're invisible, and as I click away, it disappears. A little tip is to change the background color of your containers. We can always change it back at the end. So if I go to layout, currently there is no background for this container. So what I can do is change it to any particular color that I like. It's just so it will stand out. Next thing I want to do is actually put one of my first elements in. This will help with the layout process. So my line wants to go at the bottom. So I'll drop that into the container and we can see that it fills the gap, but my profit is over here. This is because tablets created a second container to put the legend in. Now I'm going to leave that for the moment. And then we'll address that towards the end. Next step of my layer is to put my bars on my heat map. Now I want those to sit above the line, but I want them to go one next to each other. So for that, I'm going to use a horizontal container. So I'm going to take my horizontal container and as I drag this over the view, we can see this light gray bar that kind of follows my mouse around. And this says, if you drop the mouse, this is where that container's going to go. So I want it to go there at the top of the line. Now I can check that I've put it in the right place. If I double click on the blue bars, it shows me that the parent container is actually our vertical one. And I can see that, as well, if I go into layout and open up the hierarchy at the bottom left hand corner. We can see we've got the horizontal container and the verticals are inside it. So here's my horizontal and here is my line. The next thing I'm going to do is I can put in my bar chart and put in my heat map. And what we can see is when we put things inside the container, the sheets will size to fit that container. And the container does the same thing. Because I've got a very wide heat map with all of those columns, it shrunk my bar chart over the left-hand side. So I need to reclaim a bit more of the space, and I can do that with this profit. I've got my color legend here and all of this white space. When you're creating a dashboard, what we're really doing is maximizing the best use of all of the space. The reason for that is that space is a premium and every single pixel needs to be contributing to our overall dashboard. Now in this case, I don't need that color legend because I know that orange is negative and blue is positive and the color gradient is hard to determine anyway, so overall it's not adding anything. So what I'm going to do is I'm just going to click and remove our profit. Now we've got a bit more space and everything fills out. I'm pretty happy with that layout. I could make better use of this. I could cause it to, instead of being standard fit, I could do fit the entire view. We could adjust it slightly. Maybe I'll do the same with our bar chart. Fit the entire view. And I might even want to shrink it up a little bit, to get a bit more space. Where we've got these asterisks marks in here shows that the text is too big for that gap. So I might have to go back and actually change the fonts. But what we've managed to do is get the layout right. By using the containers and bedding one inside of the other, we can make sure that the layout is correct. We can then go back and tweak things like font size and colors and the rest of the pieces. But once the layout is done, we're good to go."
   ]
  },
  {
   "cell_type": "markdown",
   "id": "revised-contrast",
   "metadata": {},
   "source": [
    "## Creating a Floating Dashboard\n",
    "\n",
    "One of the ways that we can create a dashboard is to use a floating dashboard. This differs from a tiled dashboard in that the location of the elements we place are not dependent on containers or a grid-type layout. Now, this can offer more flexibility in the positioning of some of our elements. To have a look at that, I'm going to create a simple dashboard that will be floating. Now, I've got three sheets that we're going to use. I've got a bar, I've got a line, and I've got the heat map. So we'll go to our dashboard. The first thing I need to do is say to Tableau that we're going to create a floating dashboard, and that's done through a toggle at the bottom left-hand corner. So I'm going to change from tiled to floating. So now I can place my elements anywhere I like within my dashboard. So if I drag my line, we can see that we have a small gray outline, which will show that this is where your object is going to go. So if I release my mouse, that's exactly where it does, and I could place my other elements around as well. Now, by default, they will take on that slightly smaller place. So I need to resize them. They're not fixed. I can simply pick one up, move it to anywhere that I like and stretch, and you have the windows open. Now, one of the advantages of using a floating layout is that we can overlap one element on top of another. So for example, my profit, I could actually overlay that on top of the line chart itself to maximize use of the space. If I was using a tiled layout, I could still do that, but you have to turn off individual elements and make them floating. It's a good idea not to mix floating and tiled layouts. Often when you publish them, a floating element can move slightly, which can be incredibly annoying and can completely mess up your overall look. Now dragging and dropping and moving things around is easy enough to do. So, I could resize this one, and I could resize this one as well, and then I need to try to get them to line up. That's a little bit tricky to do. So what we can do is make use of some of the layout options. So I click on the Layout tab on the top left. We can see that we can adjust the position of all of our elements. So I could set this to be 25 and the X position be 25. I could go ahead and select my heat map and change that to be 25 as well. So now both of these are exactly the same height, and again, with the sizing. So I kind of like the size of that bar, so that bar size is 4, 3, 4 by 4, 6, 5. So I can set this to be 4, 6, 5. Now, unlike some other tools you may have used such as PowerPoint, Tableau doesn't know about each individual element. They simply sit on the dashboard, minding their own business. You can't set the size of one element to be the same as another one. For example, when I moved them together, there's no indication that they're at the same level or anything like that. So we have to use this positioning in order to get pixel-perfect. Now, whether you choose to use a float or a container-tiled dashboard is entirely up to you. Again, I would advise not mixing the two together. So pick one that works best with you. Generally, tiled dashboards are better for gridded layers for a standard type of dashboard. If you did a more creative dashboard where you might be using graphical elements, it might be the case that you want to resize and position your elements to fit in with that dashboard so that they make best use of the underlying graphics. Sometimes, so your visualizations, you might have a large amount of space. For example, if I resize my profit, we can see that when I reorder it, I've got quite a large white space underneath here. and on a cramped dashboard. if we're making something that's making use of graphical elements, I might want to put some of my other floating elements to take advantage of that. We can see now that this bar is on top so I can change the floating order and send it to the back so that my profit now sits on top. So we have to think about layering because we can drag one element on top of another. This makes it slightly more complicated to build than with a tiled layout, when we use containers and everything's in a grid, but it does offer more flexibility. So the trade-off is one versus the other. There isn't a best one. So just pick the one that works best for you."
   ]
  },
  {
   "cell_type": "markdown",
   "id": "destroyed-mattress",
   "metadata": {},
   "source": [
    "## Using Filter Actions\n",
    "\n",
    "A great way to add more interactivity into your dashboards are to use actions. And one of these types of actions are \"filter actions\". Now filters are very common in dashboards, but they have one distinct disadvantage and that is they can be a big performance hit. If you have a dashboard that has many sheets and each one of those sheets has filters attached to them, every time you set the filter, Tableau has to do a bit of work to calculate what the rest of the filter should show, and then figure out what each sheet should show. Now filter actions don't have that, because the filter is only applied when you select something within the view itself. And there's two ways of creating filter actions. We can either use a quick filter or you can customize the filter. So first we'll have a look using a quick filter on this dashboard. This dashboard is just a simple one. I'm looking at our company profits. We've got a map. I've got a highlight table. We've got a line chart and a bar chart. They're all showing the profit and it's spit across different regions, different States. And when you first create a dashboard by default, none of the sheets are aware of each other. So even though they're in the same dashboard, each of those sheets is still working independently. If I select a particular mark on the map or in the table, or one of the bars, it's only affecting that particular sheet. What \"actions\" do is allows us to combine those sheets together, to work as an overall dashboard. So say for our example, I want to be able to select a State and then filter the line, bar and highlight table to just show the profit for that particular state. So first we'll look at the \"quick view\". So if I select the State and there's a little funnel icon on the top right-hand corner of the state sheet that says: use as filter. So I select this and nothing's happened yet, but look, what happens when I select a State. If I select California, the other three sheets have now all changed. I'm looking at just the timeline for California. I'm looking at all of the bars are the profit for each one of the subcategories for California. And the highlight table is showing all of the particular profit for all of my subcategories. Even though the column header says \"West\", this is actually showing a subset of West being California. If I select Texas, this change would be the central because Texas is in the central region. If I use a multiple selections, so such as a rubber band in this map and select a few States, what we can see now is that the filter has been applied to all those 19 States. So I'm seeing the line, the bar and the highlight table for the combination of all of those 19 States. So that's what a quick filter does. It used to entire sheet and drives all of the others in that to a dashboard. If I untick, the \"use as\" filter. It goes back to just being a sheet by itself. If you want some more control over what's actually going to happen. I can click on the dashboard, menu and actions, I can add an action. So such as the filter action. And I can then select which one of my sheets I want this filter to apply to. So it doesn't make sense necessarily to have the line included. So I could take the line off both of those. And I have to decide what kind of action I want to have. Do I want it to be a Hover action a select action or menu action? I mean, generally you're going to want \"select\" because you want to be able to click on a mark and has that changed something. I'll keep all the other options as default. Do Okay. And if I select a State, we can see that only the bar chart and the tableau are now changing. The line chart is staying the same. So if I now select \"tables\" I can then see all of the States where we've been selling tables and I can see which ones are profitable and which ones are loss making. I can then see the particular regions for those tables. But again, the line chart is showing everything. If I select a point on the line, it doesn't change anything in the view . If I want to do that, I have to add it as part of the filter. Filter actions are a fantastic way of adding this interactivity, but without the performance hit. It'd be a good idea in your dashboard title to mention that the field traction is enabled and tell people to click and interact in order to filter, because sometimes it's not completely obvious."
   ]
  },
  {
   "cell_type": "markdown",
   "id": "copyrighted-index",
   "metadata": {},
   "source": [
    "## Using Highlight Actions\n",
    "\n",
    "Dashboard actions are a fantastic way of increasing the interactivity of our dashboards. Now, by default, when you create a dashboard, the sheets don't know about each other's existence, they're just occupying the same space and there is no direct interactivity between them. Now, one of the really useful actions that we can have are highlight actions. Now, these work in a similar way to filter actions, but whereas filter actions remove the data, what a highlight action does is highlight that particular subset of data within the rest of it. This is really useful for seeing how things relate to other items. And also it puts the values into context. If you were to filter out removal data, you don't necessarily know if the remaining values are emblematic of the entire dataset or are they outliers? Highlights let you do that. So to create a highlight action, we need a dashboard. So we're going to use this one here, which is looking at our company profits. We've got a map. We have a highlight table, align chart and a scatterplot. And what I want to happen is I want to be able to select a state. And I want to see that value reflected in the rest of our data, or maybe I want to highlight the Eastern regions, or maybe I want to see the Eastern customers within our heat-map. So for that, we first go to the dashboard menu and actions, and I'm going to add a highlight action. So now we have some options on how we want this action to behave. Now, actions always have an action. They have a source and they have a target. So for this example, let's use the map as a source of our action. So I'm going to untick the other options. I'm going to have the select function as the actual action we're going to do. So when you select something by clicking on it, and I want it to work on the scatterplot. So we can use the map and the scatter plot. Now with a highlight action we're going to need to say, what field are we going to use to highlight? And what do I mean by that? But with the scatter plot, what I want to do is when I select a state within the map, I want to highlight those state's customers. So I have to select the selected field to be a state. So if I click okay, now, if I select Texas, something's not quite right there. None of the customers have been highlighted. So why is that? Well, the reason it is I'm using the state field as the highlighter. But if we actually go to the sheet on here, we can see the state isn't part of this view. What we need to do is add state to the level of detail. Whenever you use a highlight action, the field that you're using to do the highlighting has to be part of the view. So if I add the state to the detail, we can now see the view has changed slightly because some of our customers have data across more than one particular state. When I go back to my dashboard, we can see that the highlight has now shown the Texan customers. If I start at the different state, we can see that the scatterplot updates. This is really useful because it now lets us look at a particular state's data and see is it representative of all of our customers? Now I could if I wanted to, add other actions, so maybe I want to have an action that when I select something on the highlight table, it affects just the map and maybe the customers as well. Again, I go to the dashboard item, click on actions. I'm going to add a second action. And what I want to happen this time is if I click on the highlight table, I want to affect the scatter plot. Now again, I need to decide what I want it to work on doing, to work on the subcategory, or do I want it work on the region? Well, we'll stick with the region for this particular case. And I'm also going to go back and select the map. So we're going to use the region on both. And as before, I need to add the region to our detail for both the scatterplot and the region for our map. Now in this case, it didn't change because the level of data we're already looking at is lower than region. But now if I select one of our values, we can see that our scatterplot is now filtering just on region. So highlights let us highlight data rather than filtering out. The action only works when we actually click or hover over a particular item. So they are very effective and efficient way of interacting with our data."
   ]
  }
 ],
 "metadata": {
  "hide_input": false,
  "kernelspec": {
   "display_name": "Python 3",
   "language": "python",
   "name": "python3"
  },
  "language_info": {
   "codemirror_mode": {
    "name": "ipython",
    "version": 3
   },
   "file_extension": ".py",
   "mimetype": "text/x-python",
   "name": "python",
   "nbconvert_exporter": "python",
   "pygments_lexer": "ipython3",
   "version": "3.7.1"
  },
  "nbTranslate": {
   "displayLangs": [
    "*"
   ],
   "hotkey": "alt-t",
   "langInMainMenu": true,
   "sourceLang": "en",
   "targetLang": "fr",
   "useGoogleTranslate": true
  },
  "varInspector": {
   "cols": {
    "lenName": 16,
    "lenType": 16,
    "lenVar": 40
   },
   "kernels_config": {
    "python": {
     "delete_cmd_postfix": "",
     "delete_cmd_prefix": "del ",
     "library": "var_list.py",
     "varRefreshCmd": "print(var_dic_list())"
    },
    "r": {
     "delete_cmd_postfix": ") ",
     "delete_cmd_prefix": "rm(",
     "library": "var_list.r",
     "varRefreshCmd": "cat(var_dic_list()) "
    }
   },
   "types_to_exclude": [
    "module",
    "function",
    "builtin_function_or_method",
    "instance",
    "_Feature"
   ],
   "window_display": false
  }
 },
 "nbformat": 4,
 "nbformat_minor": 5
}
