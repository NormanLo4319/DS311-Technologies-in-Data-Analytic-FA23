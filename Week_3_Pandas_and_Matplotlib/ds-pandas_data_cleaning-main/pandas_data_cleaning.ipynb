{
 "cells": [
  {
   "cell_type": "markdown",
   "metadata": {
    "toc": true
   },
   "source": [
    "<h1>Table of Contents<span class=\"tocSkip\"></span></h1>\n",
    "<div class=\"toc\"><ul class=\"toc-item\"><li><span><a href=\"#Objectives\" data-toc-modified-id=\"Objectives-1\"><span class=\"toc-item-num\">1&nbsp;&nbsp;</span>Objectives</a></span></li><li><span><a href=\"#More-Pandas\" data-toc-modified-id=\"More-Pandas-2\"><span class=\"toc-item-num\">2&nbsp;&nbsp;</span>More Pandas</a></span><ul class=\"toc-item\"><li><span><a href=\"#Loading-the-Data\" data-toc-modified-id=\"Loading-the-Data-2.1\"><span class=\"toc-item-num\">2.1&nbsp;&nbsp;</span>Loading the Data</a></span></li></ul></li><li><span><a href=\"#Exploratory-Data-Analysis-(EDA)\" data-toc-modified-id=\"Exploratory-Data-Analysis-(EDA)-3\"><span class=\"toc-item-num\">3&nbsp;&nbsp;</span>Exploratory Data Analysis (EDA)</a></span><ul class=\"toc-item\"><li><span><a href=\"#Inspecting-the-Data\" data-toc-modified-id=\"Inspecting-the-Data-3.1\"><span class=\"toc-item-num\">3.1&nbsp;&nbsp;</span>Inspecting the Data</a></span></li><li><span><a href=\"#Question-1:-What-animal-types-are-in-the-dataset?\" data-toc-modified-id=\"Question-1:-What-animal-types-are-in-the-dataset?-3.2\"><span class=\"toc-item-num\">3.2&nbsp;&nbsp;</span>Question 1: What animal types are in the dataset?</a></span></li><li><span><a href=\"#Question-2:-What-&quot;Other&quot;-animals-are-in-the-dataset?\" data-toc-modified-id=\"Question-2:-What-&quot;Other&quot;-animals-are-in-the-dataset?-3.3\"><span class=\"toc-item-num\">3.3&nbsp;&nbsp;</span>Question 2: What \"Other\" animals are in the dataset?</a></span></li><li><span><a href=\"#Question-3:-How-old-are-the-animals-in-our-dataset?\" data-toc-modified-id=\"Question-3:-How-old-are-the-animals-in-our-dataset?-3.4\"><span class=\"toc-item-num\">3.4&nbsp;&nbsp;</span>Question 3: How old are the animals in our dataset?</a></span><ul class=\"toc-item\"><li><span><a href=\"#Series.map()\" data-toc-modified-id=\"Series.map()-3.4.1\"><span class=\"toc-item-num\">3.4.1&nbsp;&nbsp;</span><code>Series.map()</code></a></span></li><li><span><a href=\"#More-Sophisticated-Mapping\" data-toc-modified-id=\"More-Sophisticated-Mapping-3.4.2\"><span class=\"toc-item-num\">3.4.2&nbsp;&nbsp;</span>More Sophisticated Mapping</a></span></li><li><span><a href=\"#Lambda-Functions\" data-toc-modified-id=\"Lambda-Functions-3.4.3\"><span class=\"toc-item-num\">3.4.3&nbsp;&nbsp;</span>Lambda Functions</a></span></li></ul></li></ul></li><li><span><a href=\"#Handling-Missing-Data\" data-toc-modified-id=\"Handling-Missing-Data-4\"><span class=\"toc-item-num\">4&nbsp;&nbsp;</span>Handling Missing Data</a></span><ul class=\"toc-item\"><li><span><a href=\"#Fill-with-a-Relevant-Value\" data-toc-modified-id=\"Fill-with-a-Relevant-Value-4.1\"><span class=\"toc-item-num\">4.1&nbsp;&nbsp;</span>Fill with a Relevant Value</a></span></li><li><span><a href=\"#Fill-with-a-Reasonable-Value\" data-toc-modified-id=\"Fill-with-a-Reasonable-Value-4.2\"><span class=\"toc-item-num\">4.2&nbsp;&nbsp;</span>Fill with a Reasonable Value</a></span></li><li><span><a href=\"#Specify-That-the-Data-Were-Missing\" data-toc-modified-id=\"Specify-That-the-Data-Were-Missing-4.3\"><span class=\"toc-item-num\">4.3&nbsp;&nbsp;</span>Specify That the Data Were Missing</a></span></li><li><span><a href=\"#Drop-Missing-Data\" data-toc-modified-id=\"Drop-Missing-Data-4.4\"><span class=\"toc-item-num\">4.4&nbsp;&nbsp;</span>Drop Missing Data</a></span></li><li><span><a href=\"#Comparing-Before-and-After\" data-toc-modified-id=\"Comparing-Before-and-After-4.5\"><span class=\"toc-item-num\">4.5&nbsp;&nbsp;</span>Comparing Before and After</a></span></li></ul></li><li><span><a href=\"#Level-Up:-.applymap()\" data-toc-modified-id=\"Level-Up:-.applymap()-5\"><span class=\"toc-item-num\">5&nbsp;&nbsp;</span>Level Up: <code>.applymap()</code></a></span></li><li><span><a href=\"#Level-Up:-pandas.Series.str\" data-toc-modified-id=\"Level-Up:-pandas.Series.str-6\"><span class=\"toc-item-num\">6&nbsp;&nbsp;</span>Level Up: <code>pandas.Series.str</code></a></span></li><li><span><a href=\"#Level-Up:-Faster-NumPy-Methods\" data-toc-modified-id=\"Level-Up:-Faster-NumPy-Methods-7\"><span class=\"toc-item-num\">7&nbsp;&nbsp;</span>Level Up: Faster NumPy Methods</a></span><ul class=\"toc-item\"><li><span><a href=\"#NumPy's-where()-Method\" data-toc-modified-id=\"NumPy's-where()-Method-7.1\"><span class=\"toc-item-num\">7.1&nbsp;&nbsp;</span>NumPy's <code>where()</code> Method</a></span></li><li><span><a href=\"#NumPy's-select()-Method\" data-toc-modified-id=\"NumPy's-select()-Method-7.2\"><span class=\"toc-item-num\">7.2&nbsp;&nbsp;</span>NumPy's <code>select()</code> Method</a></span></li></ul></li></ul></div>"
   ]
  },
  {
   "cell_type": "markdown",
   "metadata": {},
   "source": [
    "![panda](http://res.freestockphotos.biz/thumbs/3/3173-illustration-of-a-giant-panda-eating-bamboo-th.png)"
   ]
  },
  {
   "cell_type": "code",
   "execution_count": 60,
   "metadata": {
    "ExecuteTime": {
     "end_time": "2021-10-19T16:00:49.310905Z",
     "start_time": "2021-10-19T16:00:49.289687Z"
    }
   },
   "outputs": [],
   "source": [
    "import numpy as np\n",
    "import pandas as pd\n",
    "\n",
    "from matplotlib import pyplot as plt\n",
    "%matplotlib inline"
   ]
  },
  {
   "cell_type": "markdown",
   "metadata": {
    "heading_collapsed": true
   },
   "source": [
    "# Objectives"
   ]
  },
  {
   "cell_type": "markdown",
   "metadata": {
    "hidden": true
   },
   "source": [
    "- Use lambda functions and DataFrame methods to transform data\n",
    "- Handle missing data"
   ]
  },
  {
   "cell_type": "markdown",
   "metadata": {
    "heading_collapsed": true
   },
   "source": [
    "# More Pandas"
   ]
  },
  {
   "cell_type": "markdown",
   "metadata": {
    "hidden": true
   },
   "source": [
    "Suppose you were interested in opening an animal shelter. To inform your planning, it would be useful to analyze data from other shelters to understand their operations. In this lecture, we'll analyze animal outcome data from the Austin Animal Center.  "
   ]
  },
  {
   "cell_type": "markdown",
   "metadata": {
    "heading_collapsed": true,
    "hidden": true
   },
   "source": [
    "## Loading the Data"
   ]
  },
  {
   "cell_type": "markdown",
   "metadata": {
    "hidden": true
   },
   "source": [
    "Let's take a moment to examine the [Austin Animal Center data set](https://data.austintexas.gov/Health-and-Community-Services/Austin-Animal-Center-Outcomes/9t4d-g238/data). \n",
    "\n",
    "We can also ingest the data right off the web, as we do below. The code below will load JSON data for the last 1000 animals to leave the center from this [JSON file](https://data.austintexas.gov/resource/9t4d-g238.json). "
   ]
  },
  {
   "cell_type": "code",
   "execution_count": 61,
   "metadata": {
    "ExecuteTime": {
     "end_time": "2021-10-19T16:00:51.945048Z",
     "start_time": "2021-10-19T16:00:51.940147Z"
    }
   },
   "outputs": [
    {
     "name": "stdout",
     "output_type": "stream",
     "text": [
      "https://data.austintexas.gov/resource/9t4d-g238.json\n"
     ]
    }
   ],
   "source": [
    "json_url = 'https://data.austintexas.gov/resource/9t4d-g238.json'\n",
    "print(json_url)"
   ]
  },
  {
   "cell_type": "code",
   "execution_count": 62,
   "metadata": {
    "ExecuteTime": {
     "end_time": "2021-10-19T16:00:53.611988Z",
     "start_time": "2021-10-19T16:00:52.347948Z"
    },
    "hidden": true
   },
   "outputs": [],
   "source": [
    "json_url = 'https://data.austintexas.gov/resource/9t4d-g238.json'\n",
    "animals = pd.read_json(json_url)"
   ]
  },
  {
   "cell_type": "code",
   "execution_count": 63,
   "metadata": {
    "ExecuteTime": {
     "end_time": "2021-10-19T16:00:53.618371Z",
     "start_time": "2021-10-19T16:00:53.614166Z"
    }
   },
   "outputs": [
    {
     "data": {
      "text/plain": [
       "pandas.core.frame.DataFrame"
      ]
     },
     "execution_count": 63,
     "metadata": {},
     "output_type": "execute_result"
    }
   ],
   "source": [
    "type(animals)"
   ]
  },
  {
   "cell_type": "markdown",
   "metadata": {
    "heading_collapsed": true
   },
   "source": [
    "# Exploratory Data Analysis (EDA)"
   ]
  },
  {
   "cell_type": "markdown",
   "metadata": {
    "hidden": true
   },
   "source": [
    "Exploring a new dataset is essential for understanding what it contains. This will generate ideas for processing the data and questions to try to answer in further analysis."
   ]
  },
  {
   "cell_type": "markdown",
   "metadata": {
    "heading_collapsed": true,
    "hidden": true
   },
   "source": [
    "## Inspecting the Data"
   ]
  },
  {
   "cell_type": "markdown",
   "metadata": {
    "hidden": true
   },
   "source": [
    "Let's take a look at a few rows of data."
   ]
  },
  {
   "cell_type": "code",
   "execution_count": 15,
   "metadata": {
    "ExecuteTime": {
     "end_time": "2021-10-18T20:31:00.728488Z",
     "start_time": "2021-10-18T20:31:00.708110Z"
    },
    "hidden": true
   },
   "outputs": [
    {
     "data": {
      "text/html": [
       "<div>\n",
       "<style scoped>\n",
       "    .dataframe tbody tr th:only-of-type {\n",
       "        vertical-align: middle;\n",
       "    }\n",
       "\n",
       "    .dataframe tbody tr th {\n",
       "        vertical-align: top;\n",
       "    }\n",
       "\n",
       "    .dataframe thead th {\n",
       "        text-align: right;\n",
       "    }\n",
       "</style>\n",
       "<table border=\"1\" class=\"dataframe\">\n",
       "  <thead>\n",
       "    <tr style=\"text-align: right;\">\n",
       "      <th></th>\n",
       "      <th>animal_id</th>\n",
       "      <th>name</th>\n",
       "      <th>datetime</th>\n",
       "      <th>monthyear</th>\n",
       "      <th>date_of_birth</th>\n",
       "      <th>outcome_type</th>\n",
       "      <th>outcome_subtype</th>\n",
       "      <th>animal_type</th>\n",
       "      <th>sex_upon_outcome</th>\n",
       "      <th>age_upon_outcome</th>\n",
       "      <th>breed</th>\n",
       "      <th>color</th>\n",
       "    </tr>\n",
       "  </thead>\n",
       "  <tbody>\n",
       "    <tr>\n",
       "      <th>0</th>\n",
       "      <td>A844286</td>\n",
       "      <td>A844286</td>\n",
       "      <td>2021-10-18 13:20:00</td>\n",
       "      <td>2021-10-18T13:20:00.000</td>\n",
       "      <td>2019-10-14T00:00:00.000</td>\n",
       "      <td>Transfer</td>\n",
       "      <td>Partner</td>\n",
       "      <td>Dog</td>\n",
       "      <td>Intact Female</td>\n",
       "      <td>2 years</td>\n",
       "      <td>Yorkshire Terrier/Border Terrier</td>\n",
       "      <td>Tan</td>\n",
       "    </tr>\n",
       "    <tr>\n",
       "      <th>1</th>\n",
       "      <td>A844174</td>\n",
       "      <td>NaN</td>\n",
       "      <td>2021-10-18 13:19:00</td>\n",
       "      <td>2021-10-18T13:19:00.000</td>\n",
       "      <td>2021-05-29T00:00:00.000</td>\n",
       "      <td>Transfer</td>\n",
       "      <td>Partner</td>\n",
       "      <td>Dog</td>\n",
       "      <td>Intact Female</td>\n",
       "      <td>4 months</td>\n",
       "      <td>Cairn Terrier</td>\n",
       "      <td>White/Black</td>\n",
       "    </tr>\n",
       "    <tr>\n",
       "      <th>2</th>\n",
       "      <td>A844304</td>\n",
       "      <td>Scooby</td>\n",
       "      <td>2021-10-18 13:01:00</td>\n",
       "      <td>2021-10-18T13:01:00.000</td>\n",
       "      <td>2007-04-14T00:00:00.000</td>\n",
       "      <td>Return to Owner</td>\n",
       "      <td>NaN</td>\n",
       "      <td>Dog</td>\n",
       "      <td>Neutered Male</td>\n",
       "      <td>14 years</td>\n",
       "      <td>Chihuahua Shorthair</td>\n",
       "      <td>Brown/Tan</td>\n",
       "    </tr>\n",
       "    <tr>\n",
       "      <th>3</th>\n",
       "      <td>A842910</td>\n",
       "      <td>*Jello</td>\n",
       "      <td>2021-10-18 12:08:00</td>\n",
       "      <td>2021-10-18T12:08:00.000</td>\n",
       "      <td>2018-09-23T00:00:00.000</td>\n",
       "      <td>Adoption</td>\n",
       "      <td>NaN</td>\n",
       "      <td>Dog</td>\n",
       "      <td>Neutered Male</td>\n",
       "      <td>3 years</td>\n",
       "      <td>Great Pyrenees/Labrador Retriever</td>\n",
       "      <td>White</td>\n",
       "    </tr>\n",
       "    <tr>\n",
       "      <th>4</th>\n",
       "      <td>A844268</td>\n",
       "      <td>A844268</td>\n",
       "      <td>2021-10-18 11:12:00</td>\n",
       "      <td>2021-10-18T11:12:00.000</td>\n",
       "      <td>2020-04-14T00:00:00.000</td>\n",
       "      <td>Transfer</td>\n",
       "      <td>Partner</td>\n",
       "      <td>Dog</td>\n",
       "      <td>Intact Female</td>\n",
       "      <td>1 year</td>\n",
       "      <td>Cairn Terrier Mix</td>\n",
       "      <td>Black/White</td>\n",
       "    </tr>\n",
       "    <tr>\n",
       "      <th>5</th>\n",
       "      <td>A717165</td>\n",
       "      <td>Quincy</td>\n",
       "      <td>2021-10-18 11:08:00</td>\n",
       "      <td>2021-10-18T11:08:00.000</td>\n",
       "      <td>2011-12-03T00:00:00.000</td>\n",
       "      <td>Adoption</td>\n",
       "      <td>Foster</td>\n",
       "      <td>Dog</td>\n",
       "      <td>Neutered Male</td>\n",
       "      <td>9 years</td>\n",
       "      <td>Australian Cattle Dog Mix</td>\n",
       "      <td>Red/White</td>\n",
       "    </tr>\n",
       "    <tr>\n",
       "      <th>6</th>\n",
       "      <td>A844508</td>\n",
       "      <td>NaN</td>\n",
       "      <td>2021-10-18 10:08:00</td>\n",
       "      <td>2021-10-18T10:08:00.000</td>\n",
       "      <td>2019-10-16T00:00:00.000</td>\n",
       "      <td>Euthanasia</td>\n",
       "      <td>Rabies Risk</td>\n",
       "      <td>Other</td>\n",
       "      <td>Unknown</td>\n",
       "      <td>2 years</td>\n",
       "      <td>Bat</td>\n",
       "      <td>Brown</td>\n",
       "    </tr>\n",
       "    <tr>\n",
       "      <th>7</th>\n",
       "      <td>A844564</td>\n",
       "      <td>NaN</td>\n",
       "      <td>2021-10-18 10:07:00</td>\n",
       "      <td>2021-10-18T10:07:00.000</td>\n",
       "      <td>2021-02-17T00:00:00.000</td>\n",
       "      <td>Euthanasia</td>\n",
       "      <td>Rabies Risk</td>\n",
       "      <td>Other</td>\n",
       "      <td>Unknown</td>\n",
       "      <td>7 months</td>\n",
       "      <td>Raccoon</td>\n",
       "      <td>Gray/Black</td>\n",
       "    </tr>\n",
       "    <tr>\n",
       "      <th>8</th>\n",
       "      <td>A843888</td>\n",
       "      <td>*Nana</td>\n",
       "      <td>2021-10-18 08:21:00</td>\n",
       "      <td>2021-10-18T08:21:00.000</td>\n",
       "      <td>2021-09-01T00:00:00.000</td>\n",
       "      <td>Transfer</td>\n",
       "      <td>Partner</td>\n",
       "      <td>Dog</td>\n",
       "      <td>Intact Female</td>\n",
       "      <td>1 month</td>\n",
       "      <td>Australian Shepherd Mix</td>\n",
       "      <td>Tan/White</td>\n",
       "    </tr>\n",
       "    <tr>\n",
       "      <th>9</th>\n",
       "      <td>A843887</td>\n",
       "      <td>*Ashley</td>\n",
       "      <td>2021-10-18 08:20:00</td>\n",
       "      <td>2021-10-18T08:20:00.000</td>\n",
       "      <td>2021-09-01T00:00:00.000</td>\n",
       "      <td>Transfer</td>\n",
       "      <td>Partner</td>\n",
       "      <td>Dog</td>\n",
       "      <td>Intact Female</td>\n",
       "      <td>1 month</td>\n",
       "      <td>Australian Shepherd Mix</td>\n",
       "      <td>Tan/White</td>\n",
       "    </tr>\n",
       "  </tbody>\n",
       "</table>\n",
       "</div>"
      ],
      "text/plain": [
       "  animal_id     name            datetime                monthyear  \\\n",
       "0   A844286  A844286 2021-10-18 13:20:00  2021-10-18T13:20:00.000   \n",
       "1   A844174      NaN 2021-10-18 13:19:00  2021-10-18T13:19:00.000   \n",
       "2   A844304   Scooby 2021-10-18 13:01:00  2021-10-18T13:01:00.000   \n",
       "3   A842910   *Jello 2021-10-18 12:08:00  2021-10-18T12:08:00.000   \n",
       "4   A844268  A844268 2021-10-18 11:12:00  2021-10-18T11:12:00.000   \n",
       "5   A717165   Quincy 2021-10-18 11:08:00  2021-10-18T11:08:00.000   \n",
       "6   A844508      NaN 2021-10-18 10:08:00  2021-10-18T10:08:00.000   \n",
       "7   A844564      NaN 2021-10-18 10:07:00  2021-10-18T10:07:00.000   \n",
       "8   A843888    *Nana 2021-10-18 08:21:00  2021-10-18T08:21:00.000   \n",
       "9   A843887  *Ashley 2021-10-18 08:20:00  2021-10-18T08:20:00.000   \n",
       "\n",
       "             date_of_birth     outcome_type outcome_subtype animal_type  \\\n",
       "0  2019-10-14T00:00:00.000         Transfer         Partner         Dog   \n",
       "1  2021-05-29T00:00:00.000         Transfer         Partner         Dog   \n",
       "2  2007-04-14T00:00:00.000  Return to Owner             NaN         Dog   \n",
       "3  2018-09-23T00:00:00.000         Adoption             NaN         Dog   \n",
       "4  2020-04-14T00:00:00.000         Transfer         Partner         Dog   \n",
       "5  2011-12-03T00:00:00.000         Adoption          Foster         Dog   \n",
       "6  2019-10-16T00:00:00.000       Euthanasia     Rabies Risk       Other   \n",
       "7  2021-02-17T00:00:00.000       Euthanasia     Rabies Risk       Other   \n",
       "8  2021-09-01T00:00:00.000         Transfer         Partner         Dog   \n",
       "9  2021-09-01T00:00:00.000         Transfer         Partner         Dog   \n",
       "\n",
       "  sex_upon_outcome age_upon_outcome                              breed  \\\n",
       "0    Intact Female          2 years   Yorkshire Terrier/Border Terrier   \n",
       "1    Intact Female         4 months                      Cairn Terrier   \n",
       "2    Neutered Male         14 years                Chihuahua Shorthair   \n",
       "3    Neutered Male          3 years  Great Pyrenees/Labrador Retriever   \n",
       "4    Intact Female           1 year                  Cairn Terrier Mix   \n",
       "5    Neutered Male          9 years          Australian Cattle Dog Mix   \n",
       "6          Unknown          2 years                                Bat   \n",
       "7          Unknown         7 months                            Raccoon   \n",
       "8    Intact Female          1 month            Australian Shepherd Mix   \n",
       "9    Intact Female          1 month            Australian Shepherd Mix   \n",
       "\n",
       "         color  \n",
       "0          Tan  \n",
       "1  White/Black  \n",
       "2    Brown/Tan  \n",
       "3        White  \n",
       "4  Black/White  \n",
       "5    Red/White  \n",
       "6        Brown  \n",
       "7   Gray/Black  \n",
       "8    Tan/White  \n",
       "9    Tan/White  "
      ]
     },
     "execution_count": 15,
     "metadata": {},
     "output_type": "execute_result"
    }
   ],
   "source": [
    "animals.head(10)"
   ]
  },
  {
   "cell_type": "markdown",
   "metadata": {
    "hidden": true
   },
   "source": [
    "The `info()` and `describe()` provide a useful overview of the data."
   ]
  },
  {
   "cell_type": "code",
   "execution_count": 16,
   "metadata": {
    "ExecuteTime": {
     "end_time": "2021-10-18T20:32:28.032129Z",
     "start_time": "2021-10-18T20:32:28.020226Z"
    },
    "hidden": true
   },
   "outputs": [
    {
     "name": "stdout",
     "output_type": "stream",
     "text": [
      "<class 'pandas.core.frame.DataFrame'>\n",
      "RangeIndex: 1000 entries, 0 to 999\n",
      "Data columns (total 12 columns):\n",
      " #   Column            Non-Null Count  Dtype         \n",
      "---  ------            --------------  -----         \n",
      " 0   animal_id         1000 non-null   object        \n",
      " 1   name              867 non-null    object        \n",
      " 2   datetime          1000 non-null   datetime64[ns]\n",
      " 3   monthyear         1000 non-null   object        \n",
      " 4   date_of_birth     1000 non-null   object        \n",
      " 5   outcome_type      999 non-null    object        \n",
      " 6   outcome_subtype   440 non-null    object        \n",
      " 7   animal_type       1000 non-null   object        \n",
      " 8   sex_upon_outcome  1000 non-null   object        \n",
      " 9   age_upon_outcome  1000 non-null   object        \n",
      " 10  breed             1000 non-null   object        \n",
      " 11  color             1000 non-null   object        \n",
      "dtypes: datetime64[ns](1), object(11)\n",
      "memory usage: 93.9+ KB\n"
     ]
    }
   ],
   "source": [
    "animals.info()"
   ]
  },
  {
   "cell_type": "markdown",
   "metadata": {
    "hidden": true
   },
   "source": [
    "> We can see we have some missing data. Specifically in the `outcome_type`, `outcome_subtype`, and `name` columns."
   ]
  },
  {
   "cell_type": "code",
   "execution_count": 17,
   "metadata": {
    "ExecuteTime": {
     "end_time": "2021-10-18T20:34:26.445738Z",
     "start_time": "2021-10-18T20:34:26.404291Z"
    },
    "hidden": true
   },
   "outputs": [
    {
     "name": "stderr",
     "output_type": "stream",
     "text": [
      "<ipython-input-17-3885fd60d0c1>:1: FutureWarning: Treating datetime data as categorical rather than numeric in `.describe` is deprecated and will be removed in a future version of pandas. Specify `datetime_is_numeric=True` to silence this warning and adopt the future behavior now.\n",
      "  animals.describe()\n"
     ]
    },
    {
     "data": {
      "text/html": [
       "<div>\n",
       "<style scoped>\n",
       "    .dataframe tbody tr th:only-of-type {\n",
       "        vertical-align: middle;\n",
       "    }\n",
       "\n",
       "    .dataframe tbody tr th {\n",
       "        vertical-align: top;\n",
       "    }\n",
       "\n",
       "    .dataframe thead th {\n",
       "        text-align: right;\n",
       "    }\n",
       "</style>\n",
       "<table border=\"1\" class=\"dataframe\">\n",
       "  <thead>\n",
       "    <tr style=\"text-align: right;\">\n",
       "      <th></th>\n",
       "      <th>animal_id</th>\n",
       "      <th>name</th>\n",
       "      <th>datetime</th>\n",
       "      <th>monthyear</th>\n",
       "      <th>date_of_birth</th>\n",
       "      <th>outcome_type</th>\n",
       "      <th>outcome_subtype</th>\n",
       "      <th>animal_type</th>\n",
       "      <th>sex_upon_outcome</th>\n",
       "      <th>age_upon_outcome</th>\n",
       "      <th>breed</th>\n",
       "      <th>color</th>\n",
       "    </tr>\n",
       "  </thead>\n",
       "  <tbody>\n",
       "    <tr>\n",
       "      <th>count</th>\n",
       "      <td>1000</td>\n",
       "      <td>867</td>\n",
       "      <td>1000</td>\n",
       "      <td>1000</td>\n",
       "      <td>1000</td>\n",
       "      <td>999</td>\n",
       "      <td>440</td>\n",
       "      <td>1000</td>\n",
       "      <td>1000</td>\n",
       "      <td>1000</td>\n",
       "      <td>1000</td>\n",
       "      <td>1000</td>\n",
       "    </tr>\n",
       "    <tr>\n",
       "      <th>unique</th>\n",
       "      <td>976</td>\n",
       "      <td>776</td>\n",
       "      <td>864</td>\n",
       "      <td>864</td>\n",
       "      <td>461</td>\n",
       "      <td>9</td>\n",
       "      <td>13</td>\n",
       "      <td>4</td>\n",
       "      <td>5</td>\n",
       "      <td>38</td>\n",
       "      <td>154</td>\n",
       "      <td>105</td>\n",
       "    </tr>\n",
       "    <tr>\n",
       "      <th>top</th>\n",
       "      <td>A842283</td>\n",
       "      <td>Luna</td>\n",
       "      <td>2021-10-15 15:00:00</td>\n",
       "      <td>2021-10-15T15:00:00.000</td>\n",
       "      <td>2021-07-26T00:00:00.000</td>\n",
       "      <td>Adoption</td>\n",
       "      <td>Partner</td>\n",
       "      <td>Cat</td>\n",
       "      <td>Neutered Male</td>\n",
       "      <td>2 months</td>\n",
       "      <td>Domestic Shorthair</td>\n",
       "      <td>Black</td>\n",
       "    </tr>\n",
       "    <tr>\n",
       "      <th>freq</th>\n",
       "      <td>3</td>\n",
       "      <td>8</td>\n",
       "      <td>6</td>\n",
       "      <td>6</td>\n",
       "      <td>17</td>\n",
       "      <td>591</td>\n",
       "      <td>183</td>\n",
       "      <td>469</td>\n",
       "      <td>339</td>\n",
       "      <td>175</td>\n",
       "      <td>271</td>\n",
       "      <td>102</td>\n",
       "    </tr>\n",
       "    <tr>\n",
       "      <th>first</th>\n",
       "      <td>NaN</td>\n",
       "      <td>NaN</td>\n",
       "      <td>2021-09-24 16:23:00</td>\n",
       "      <td>NaN</td>\n",
       "      <td>NaN</td>\n",
       "      <td>NaN</td>\n",
       "      <td>NaN</td>\n",
       "      <td>NaN</td>\n",
       "      <td>NaN</td>\n",
       "      <td>NaN</td>\n",
       "      <td>NaN</td>\n",
       "      <td>NaN</td>\n",
       "    </tr>\n",
       "    <tr>\n",
       "      <th>last</th>\n",
       "      <td>NaN</td>\n",
       "      <td>NaN</td>\n",
       "      <td>2021-10-18 13:20:00</td>\n",
       "      <td>NaN</td>\n",
       "      <td>NaN</td>\n",
       "      <td>NaN</td>\n",
       "      <td>NaN</td>\n",
       "      <td>NaN</td>\n",
       "      <td>NaN</td>\n",
       "      <td>NaN</td>\n",
       "      <td>NaN</td>\n",
       "      <td>NaN</td>\n",
       "    </tr>\n",
       "  </tbody>\n",
       "</table>\n",
       "</div>"
      ],
      "text/plain": [
       "       animal_id  name             datetime                monthyear  \\\n",
       "count       1000   867                 1000                     1000   \n",
       "unique       976   776                  864                      864   \n",
       "top      A842283  Luna  2021-10-15 15:00:00  2021-10-15T15:00:00.000   \n",
       "freq           3     8                    6                        6   \n",
       "first        NaN   NaN  2021-09-24 16:23:00                      NaN   \n",
       "last         NaN   NaN  2021-10-18 13:20:00                      NaN   \n",
       "\n",
       "                  date_of_birth outcome_type outcome_subtype animal_type  \\\n",
       "count                      1000          999             440        1000   \n",
       "unique                      461            9              13           4   \n",
       "top     2021-07-26T00:00:00.000     Adoption         Partner         Cat   \n",
       "freq                         17          591             183         469   \n",
       "first                       NaN          NaN             NaN         NaN   \n",
       "last                        NaN          NaN             NaN         NaN   \n",
       "\n",
       "       sex_upon_outcome age_upon_outcome               breed  color  \n",
       "count              1000             1000                1000   1000  \n",
       "unique                5               38                 154    105  \n",
       "top       Neutered Male         2 months  Domestic Shorthair  Black  \n",
       "freq                339              175                 271    102  \n",
       "first               NaN              NaN                 NaN    NaN  \n",
       "last                NaN              NaN                 NaN    NaN  "
      ]
     },
     "execution_count": 17,
     "metadata": {},
     "output_type": "execute_result"
    }
   ],
   "source": [
    "animals.describe()"
   ]
  },
  {
   "cell_type": "code",
   "execution_count": 18,
   "metadata": {
    "ExecuteTime": {
     "end_time": "2021-10-18T20:37:37.291801Z",
     "start_time": "2021-10-18T20:37:37.285348Z"
    },
    "hidden": true,
    "scrolled": true
   },
   "outputs": [
    {
     "data": {
      "text/plain": [
       "Black           102\n",
       "Black/White      96\n",
       "Brown Tabby      66\n",
       "White            44\n",
       "Orange Tabby     43\n",
       "               ... \n",
       "Black/Red         1\n",
       "Cream/Black       1\n",
       "Red/Black         1\n",
       "Brown/Gray        1\n",
       "Buff/White        1\n",
       "Name: color, Length: 105, dtype: int64"
      ]
     },
     "execution_count": 18,
     "metadata": {},
     "output_type": "execute_result"
    }
   ],
   "source": [
    "# Use value counts to check a categorical feature's distribution\n",
    "\n",
    "animals['color'].value_counts()"
   ]
  },
  {
   "cell_type": "markdown",
   "metadata": {
    "hidden": true
   },
   "source": [
    "Now that we have a sense of the data available to us, we can focus in on some more specific questions to dig into. These questions may or may not be directly relevant to your goal (e.g. helping plan a new shelter), but will always help you gain a better understanding of your data.\n",
    "\n",
    "In your EDA notebooks, **markdown** will be especially helpful in tracking these questions and your methods of answering the questions."
   ]
  },
  {
   "cell_type": "markdown",
   "metadata": {
    "heading_collapsed": true,
    "hidden": true
   },
   "source": [
    "## Question 1: What animal types are in the dataset?"
   ]
  },
  {
   "cell_type": "markdown",
   "metadata": {
    "hidden": true
   },
   "source": [
    "We can then begin thinking about what parts of the DataFrame we need to answer the question."
   ]
  },
  {
   "cell_type": "markdown",
   "metadata": {
    "hidden": true
   },
   "source": [
    "* What features do we need?\n",
    " - \"animal_type\"\n",
    "* What type of logic and calculation do we perform?\n",
    " - Let's use `.value_counts()` to count the different animal types\n",
    "* What type of visualization would help us answer the question?\n",
    " - A bar chart would be good for this purpose"
   ]
  },
  {
   "cell_type": "code",
   "execution_count": 20,
   "metadata": {
    "ExecuteTime": {
     "end_time": "2021-10-18T20:41:04.750215Z",
     "start_time": "2021-10-18T20:41:04.746112Z"
    }
   },
   "outputs": [
    {
     "data": {
      "text/plain": [
       "Index(['animal_id', 'name', 'datetime', 'monthyear', 'date_of_birth',\n",
       "       'outcome_type', 'outcome_subtype', 'animal_type', 'sex_upon_outcome',\n",
       "       'age_upon_outcome', 'breed', 'color'],\n",
       "      dtype='object')"
      ]
     },
     "execution_count": 20,
     "metadata": {},
     "output_type": "execute_result"
    }
   ],
   "source": [
    "animals.columns"
   ]
  },
  {
   "cell_type": "code",
   "execution_count": 21,
   "metadata": {
    "ExecuteTime": {
     "end_time": "2021-10-18T20:41:25.123041Z",
     "start_time": "2021-10-18T20:41:25.117786Z"
    },
    "hidden": true
   },
   "outputs": [
    {
     "data": {
      "text/plain": [
       "Cat      469\n",
       "Dog      459\n",
       "Other     70\n",
       "Bird       2\n",
       "Name: animal_type, dtype: int64"
      ]
     },
     "execution_count": 21,
     "metadata": {},
     "output_type": "execute_result"
    }
   ],
   "source": [
    "animals['animal_type'].value_counts()"
   ]
  },
  {
   "cell_type": "code",
   "execution_count": 22,
   "metadata": {
    "ExecuteTime": {
     "end_time": "2021-10-18T20:44:57.599386Z",
     "start_time": "2021-10-18T20:44:57.456614Z"
    },
    "hidden": true
   },
   "outputs": [
    {
     "data": {
      "image/png": "[encoded data removed]",
      "text/plain": [
       "<Figure size 432x288 with 1 Axes>"
      ]
     },
     "metadata": {
      "needs_background": "light"
     },
     "output_type": "display_data"
    }
   ],
   "source": [
    "fig, ax = plt.subplots()\n",
    "\n",
    "animal_type_values = animals['animal_type'].value_counts()\n",
    "\n",
    "ax.barh(\n",
    "    y=animal_type_values.index,\n",
    "    width=animal_type_values.values\n",
    ")\n",
    "ax.set_xlabel('count');"
   ]
  },
  {
   "cell_type": "code",
   "execution_count": 23,
   "metadata": {
    "ExecuteTime": {
     "end_time": "2021-10-18T20:45:58.975791Z",
     "start_time": "2021-10-18T20:45:58.814181Z"
    },
    "hidden": true
   },
   "outputs": [
    {
     "data": {
      "image/png": "[encoded data removed]",
      "text/plain": [
       "<Figure size 432x288 with 1 Axes>"
      ]
     },
     "metadata": {
      "needs_background": "light"
     },
     "output_type": "display_data"
    }
   ],
   "source": [
    "animals['animal_type'].hist();"
   ]
  },
  {
   "cell_type": "markdown",
   "metadata": {
    "hidden": true
   },
   "source": [
    "Questions lead to other questions. For the above example, the visualization raises the question..."
   ]
  },
  {
   "cell_type": "markdown",
   "metadata": {
    "heading_collapsed": true,
    "hidden": true
   },
   "source": [
    "## Question 2: What \"Other\" animals are in the dataset?"
   ]
  },
  {
   "cell_type": "markdown",
   "metadata": {
    "hidden": true
   },
   "source": [
    "To find out, we need to know whether the type of animal for \"Other\" is in our dataset - and if so, where to find it.   "
   ]
  },
  {
   "cell_type": "markdown",
   "metadata": {
    "hidden": true
   },
   "source": [
    "**Discussion**: Where might we look to find animal types within the Other category?\n",
    "\n",
    "<details>\n",
    "    <summary>\n",
    "        Answer\n",
    "    </summary>\n",
    "        The breed column.\n",
    "</details>"
   ]
  },
  {
   "cell_type": "code",
   "execution_count": 24,
   "metadata": {
    "ExecuteTime": {
     "end_time": "2021-10-18T20:47:07.493227Z",
     "start_time": "2021-10-18T20:47:07.479038Z"
    },
    "hidden": true
   },
   "outputs": [
    {
     "data": {
      "text/html": [
       "<div>\n",
       "<style scoped>\n",
       "    .dataframe tbody tr th:only-of-type {\n",
       "        vertical-align: middle;\n",
       "    }\n",
       "\n",
       "    .dataframe tbody tr th {\n",
       "        vertical-align: top;\n",
       "    }\n",
       "\n",
       "    .dataframe thead th {\n",
       "        text-align: right;\n",
       "    }\n",
       "</style>\n",
       "<table border=\"1\" class=\"dataframe\">\n",
       "  <thead>\n",
       "    <tr style=\"text-align: right;\">\n",
       "      <th></th>\n",
       "      <th>animal_id</th>\n",
       "      <th>name</th>\n",
       "      <th>datetime</th>\n",
       "      <th>monthyear</th>\n",
       "      <th>date_of_birth</th>\n",
       "      <th>outcome_type</th>\n",
       "      <th>outcome_subtype</th>\n",
       "      <th>animal_type</th>\n",
       "      <th>sex_upon_outcome</th>\n",
       "      <th>age_upon_outcome</th>\n",
       "      <th>breed</th>\n",
       "      <th>color</th>\n",
       "    </tr>\n",
       "  </thead>\n",
       "  <tbody>\n",
       "    <tr>\n",
       "      <th>0</th>\n",
       "      <td>A844286</td>\n",
       "      <td>A844286</td>\n",
       "      <td>2021-10-18 13:20:00</td>\n",
       "      <td>2021-10-18T13:20:00.000</td>\n",
       "      <td>2019-10-14T00:00:00.000</td>\n",
       "      <td>Transfer</td>\n",
       "      <td>Partner</td>\n",
       "      <td>Dog</td>\n",
       "      <td>Intact Female</td>\n",
       "      <td>2 years</td>\n",
       "      <td>Yorkshire Terrier/Border Terrier</td>\n",
       "      <td>Tan</td>\n",
       "    </tr>\n",
       "    <tr>\n",
       "      <th>1</th>\n",
       "      <td>A844174</td>\n",
       "      <td>NaN</td>\n",
       "      <td>2021-10-18 13:19:00</td>\n",
       "      <td>2021-10-18T13:19:00.000</td>\n",
       "      <td>2021-05-29T00:00:00.000</td>\n",
       "      <td>Transfer</td>\n",
       "      <td>Partner</td>\n",
       "      <td>Dog</td>\n",
       "      <td>Intact Female</td>\n",
       "      <td>4 months</td>\n",
       "      <td>Cairn Terrier</td>\n",
       "      <td>White/Black</td>\n",
       "    </tr>\n",
       "    <tr>\n",
       "      <th>2</th>\n",
       "      <td>A844304</td>\n",
       "      <td>Scooby</td>\n",
       "      <td>2021-10-18 13:01:00</td>\n",
       "      <td>2021-10-18T13:01:00.000</td>\n",
       "      <td>2007-04-14T00:00:00.000</td>\n",
       "      <td>Return to Owner</td>\n",
       "      <td>NaN</td>\n",
       "      <td>Dog</td>\n",
       "      <td>Neutered Male</td>\n",
       "      <td>14 years</td>\n",
       "      <td>Chihuahua Shorthair</td>\n",
       "      <td>Brown/Tan</td>\n",
       "    </tr>\n",
       "    <tr>\n",
       "      <th>3</th>\n",
       "      <td>A842910</td>\n",
       "      <td>*Jello</td>\n",
       "      <td>2021-10-18 12:08:00</td>\n",
       "      <td>2021-10-18T12:08:00.000</td>\n",
       "      <td>2018-09-23T00:00:00.000</td>\n",
       "      <td>Adoption</td>\n",
       "      <td>NaN</td>\n",
       "      <td>Dog</td>\n",
       "      <td>Neutered Male</td>\n",
       "      <td>3 years</td>\n",
       "      <td>Great Pyrenees/Labrador Retriever</td>\n",
       "      <td>White</td>\n",
       "    </tr>\n",
       "    <tr>\n",
       "      <th>4</th>\n",
       "      <td>A844268</td>\n",
       "      <td>A844268</td>\n",
       "      <td>2021-10-18 11:12:00</td>\n",
       "      <td>2021-10-18T11:12:00.000</td>\n",
       "      <td>2020-04-14T00:00:00.000</td>\n",
       "      <td>Transfer</td>\n",
       "      <td>Partner</td>\n",
       "      <td>Dog</td>\n",
       "      <td>Intact Female</td>\n",
       "      <td>1 year</td>\n",
       "      <td>Cairn Terrier Mix</td>\n",
       "      <td>Black/White</td>\n",
       "    </tr>\n",
       "  </tbody>\n",
       "</table>\n",
       "</div>"
      ],
      "text/plain": [
       "  animal_id     name            datetime                monthyear  \\\n",
       "0   A844286  A844286 2021-10-18 13:20:00  2021-10-18T13:20:00.000   \n",
       "1   A844174      NaN 2021-10-18 13:19:00  2021-10-18T13:19:00.000   \n",
       "2   A844304   Scooby 2021-10-18 13:01:00  2021-10-18T13:01:00.000   \n",
       "3   A842910   *Jello 2021-10-18 12:08:00  2021-10-18T12:08:00.000   \n",
       "4   A844268  A844268 2021-10-18 11:12:00  2021-10-18T11:12:00.000   \n",
       "\n",
       "             date_of_birth     outcome_type outcome_subtype animal_type  \\\n",
       "0  2019-10-14T00:00:00.000         Transfer         Partner         Dog   \n",
       "1  2021-05-29T00:00:00.000         Transfer         Partner         Dog   \n",
       "2  2007-04-14T00:00:00.000  Return to Owner             NaN         Dog   \n",
       "3  2018-09-23T00:00:00.000         Adoption             NaN         Dog   \n",
       "4  2020-04-14T00:00:00.000         Transfer         Partner         Dog   \n",
       "\n",
       "  sex_upon_outcome age_upon_outcome                              breed  \\\n",
       "0    Intact Female          2 years   Yorkshire Terrier/Border Terrier   \n",
       "1    Intact Female         4 months                      Cairn Terrier   \n",
       "2    Neutered Male         14 years                Chihuahua Shorthair   \n",
       "3    Neutered Male          3 years  Great Pyrenees/Labrador Retriever   \n",
       "4    Intact Female           1 year                  Cairn Terrier Mix   \n",
       "\n",
       "         color  \n",
       "0          Tan  \n",
       "1  White/Black  \n",
       "2    Brown/Tan  \n",
       "3        White  \n",
       "4  Black/White  "
      ]
     },
     "execution_count": 24,
     "metadata": {},
     "output_type": "execute_result"
    }
   ],
   "source": [
    "# Your exploration here\n",
    "animals.head()"
   ]
  },
  {
   "cell_type": "markdown",
   "metadata": {
    "hidden": true
   },
   "source": [
    "Let's use that column to answer our question."
   ]
  },
  {
   "cell_type": "code",
   "execution_count": 25,
   "metadata": {
    "ExecuteTime": {
     "end_time": "2021-10-18T20:49:00.444191Z",
     "start_time": "2021-10-18T20:49:00.438062Z"
    },
    "hidden": true
   },
   "outputs": [
    {
     "data": {
      "text/plain": [
       "Guinea Pig        22\n",
       "Bat               14\n",
       "Mouse             14\n",
       "Raccoon           10\n",
       "Rabbit Sh          4\n",
       "Ferret             1\n",
       "Fox                1\n",
       "Skunk              1\n",
       "Lop-Mini/Hotot     1\n",
       "Rex Mix            1\n",
       "Rex                1\n",
       "Name: breed, dtype: int64"
      ]
     },
     "execution_count": 25,
     "metadata": {},
     "output_type": "execute_result"
    }
   ],
   "source": [
    "mask_other_animals = animals['animal_type'] == 'Other'\n",
    "animals[mask_other_animals]['breed'].value_counts()"
   ]
  },
  {
   "cell_type": "code",
   "execution_count": 26,
   "metadata": {
    "ExecuteTime": {
     "end_time": "2021-10-18T20:50:18.072815Z",
     "start_time": "2021-10-18T20:50:18.054043Z"
    }
   },
   "outputs": [
    {
     "data": {
      "text/html": [
       "<div>\n",
       "<style scoped>\n",
       "    .dataframe tbody tr th:only-of-type {\n",
       "        vertical-align: middle;\n",
       "    }\n",
       "\n",
       "    .dataframe tbody tr th {\n",
       "        vertical-align: top;\n",
       "    }\n",
       "\n",
       "    .dataframe thead th {\n",
       "        text-align: right;\n",
       "    }\n",
       "</style>\n",
       "<table border=\"1\" class=\"dataframe\">\n",
       "  <thead>\n",
       "    <tr style=\"text-align: right;\">\n",
       "      <th></th>\n",
       "      <th>animal_id</th>\n",
       "      <th>name</th>\n",
       "      <th>datetime</th>\n",
       "      <th>monthyear</th>\n",
       "      <th>date_of_birth</th>\n",
       "      <th>outcome_type</th>\n",
       "      <th>outcome_subtype</th>\n",
       "      <th>animal_type</th>\n",
       "      <th>sex_upon_outcome</th>\n",
       "      <th>age_upon_outcome</th>\n",
       "      <th>breed</th>\n",
       "      <th>color</th>\n",
       "    </tr>\n",
       "  </thead>\n",
       "  <tbody>\n",
       "    <tr>\n",
       "      <th>6</th>\n",
       "      <td>A844508</td>\n",
       "      <td>NaN</td>\n",
       "      <td>2021-10-18 10:08:00</td>\n",
       "      <td>2021-10-18T10:08:00.000</td>\n",
       "      <td>2019-10-16T00:00:00.000</td>\n",
       "      <td>Euthanasia</td>\n",
       "      <td>Rabies Risk</td>\n",
       "      <td>Other</td>\n",
       "      <td>Unknown</td>\n",
       "      <td>2 years</td>\n",
       "      <td>Bat</td>\n",
       "      <td>Brown</td>\n",
       "    </tr>\n",
       "    <tr>\n",
       "      <th>7</th>\n",
       "      <td>A844564</td>\n",
       "      <td>NaN</td>\n",
       "      <td>2021-10-18 10:07:00</td>\n",
       "      <td>2021-10-18T10:07:00.000</td>\n",
       "      <td>2021-02-17T00:00:00.000</td>\n",
       "      <td>Euthanasia</td>\n",
       "      <td>Rabies Risk</td>\n",
       "      <td>Other</td>\n",
       "      <td>Unknown</td>\n",
       "      <td>7 months</td>\n",
       "      <td>Raccoon</td>\n",
       "      <td>Gray/Black</td>\n",
       "    </tr>\n",
       "    <tr>\n",
       "      <th>10</th>\n",
       "      <td>A844279</td>\n",
       "      <td>NaN</td>\n",
       "      <td>2021-10-17 19:32:00</td>\n",
       "      <td>2021-10-17T19:32:00.000</td>\n",
       "      <td>2020-10-14T00:00:00.000</td>\n",
       "      <td>Euthanasia</td>\n",
       "      <td>Rabies Risk</td>\n",
       "      <td>Other</td>\n",
       "      <td>Unknown</td>\n",
       "      <td>1 year</td>\n",
       "      <td>Raccoon</td>\n",
       "      <td>Black/Gray</td>\n",
       "    </tr>\n",
       "    <tr>\n",
       "      <th>13</th>\n",
       "      <td>A844149</td>\n",
       "      <td>*Nimbus</td>\n",
       "      <td>2021-10-17 16:32:00</td>\n",
       "      <td>2021-10-17T16:32:00.000</td>\n",
       "      <td>2019-10-12T00:00:00.000</td>\n",
       "      <td>Adoption</td>\n",
       "      <td>NaN</td>\n",
       "      <td>Other</td>\n",
       "      <td>Intact Male</td>\n",
       "      <td>2 years</td>\n",
       "      <td>Rabbit Sh</td>\n",
       "      <td>White/Brown</td>\n",
       "    </tr>\n",
       "    <tr>\n",
       "      <th>26</th>\n",
       "      <td>A844428</td>\n",
       "      <td>NaN</td>\n",
       "      <td>2021-10-17 11:00:00</td>\n",
       "      <td>2021-10-17T11:00:00.000</td>\n",
       "      <td>2019-10-15T00:00:00.000</td>\n",
       "      <td>Euthanasia</td>\n",
       "      <td>Rabies Risk</td>\n",
       "      <td>Other</td>\n",
       "      <td>Unknown</td>\n",
       "      <td>2 years</td>\n",
       "      <td>Bat</td>\n",
       "      <td>Brown</td>\n",
       "    </tr>\n",
       "    <tr>\n",
       "      <th>...</th>\n",
       "      <td>...</td>\n",
       "      <td>...</td>\n",
       "      <td>...</td>\n",
       "      <td>...</td>\n",
       "      <td>...</td>\n",
       "      <td>...</td>\n",
       "      <td>...</td>\n",
       "      <td>...</td>\n",
       "      <td>...</td>\n",
       "      <td>...</td>\n",
       "      <td>...</td>\n",
       "      <td>...</td>\n",
       "    </tr>\n",
       "    <tr>\n",
       "      <th>971</th>\n",
       "      <td>A840514</td>\n",
       "      <td>*Zorro</td>\n",
       "      <td>2021-09-25 12:39:00</td>\n",
       "      <td>2021-09-25T12:39:00.000</td>\n",
       "      <td>2021-08-03T00:00:00.000</td>\n",
       "      <td>Adoption</td>\n",
       "      <td>Foster</td>\n",
       "      <td>Other</td>\n",
       "      <td>Intact Male</td>\n",
       "      <td>1 month</td>\n",
       "      <td>Mouse</td>\n",
       "      <td>Black/White</td>\n",
       "    </tr>\n",
       "    <tr>\n",
       "      <th>972</th>\n",
       "      <td>A841931</td>\n",
       "      <td>NaN</td>\n",
       "      <td>2021-09-25 12:39:00</td>\n",
       "      <td>2021-09-25T12:39:00.000</td>\n",
       "      <td>2021-09-01T00:00:00.000</td>\n",
       "      <td>Adoption</td>\n",
       "      <td>Foster</td>\n",
       "      <td>Other</td>\n",
       "      <td>Intact Male</td>\n",
       "      <td>3 weeks</td>\n",
       "      <td>Mouse</td>\n",
       "      <td>White</td>\n",
       "    </tr>\n",
       "    <tr>\n",
       "      <th>973</th>\n",
       "      <td>A840512</td>\n",
       "      <td>*Puff</td>\n",
       "      <td>2021-09-25 12:39:00</td>\n",
       "      <td>2021-09-25T12:39:00.000</td>\n",
       "      <td>2021-08-03T00:00:00.000</td>\n",
       "      <td>Adoption</td>\n",
       "      <td>Foster</td>\n",
       "      <td>Other</td>\n",
       "      <td>Intact Male</td>\n",
       "      <td>1 month</td>\n",
       "      <td>Mouse</td>\n",
       "      <td>White</td>\n",
       "    </tr>\n",
       "    <tr>\n",
       "      <th>974</th>\n",
       "      <td>A840510</td>\n",
       "      <td>*Popcorn</td>\n",
       "      <td>2021-09-25 12:38:00</td>\n",
       "      <td>2021-09-25T12:38:00.000</td>\n",
       "      <td>2021-08-03T00:00:00.000</td>\n",
       "      <td>Adoption</td>\n",
       "      <td>Foster</td>\n",
       "      <td>Other</td>\n",
       "      <td>Intact Male</td>\n",
       "      <td>1 month</td>\n",
       "      <td>Mouse</td>\n",
       "      <td>White</td>\n",
       "    </tr>\n",
       "    <tr>\n",
       "      <th>995</th>\n",
       "      <td>A843000</td>\n",
       "      <td>NaN</td>\n",
       "      <td>2021-09-24 17:16:00</td>\n",
       "      <td>2021-09-24T17:16:00.000</td>\n",
       "      <td>2019-09-24T00:00:00.000</td>\n",
       "      <td>Euthanasia</td>\n",
       "      <td>Rabies Risk</td>\n",
       "      <td>Other</td>\n",
       "      <td>Unknown</td>\n",
       "      <td>2 years</td>\n",
       "      <td>Bat</td>\n",
       "      <td>Brown</td>\n",
       "    </tr>\n",
       "  </tbody>\n",
       "</table>\n",
       "<p>70 rows × 12 columns</p>\n",
       "</div>"
      ],
      "text/plain": [
       "    animal_id      name            datetime                monthyear  \\\n",
       "6     A844508       NaN 2021-10-18 10:08:00  2021-10-18T10:08:00.000   \n",
       "7     A844564       NaN 2021-10-18 10:07:00  2021-10-18T10:07:00.000   \n",
       "10    A844279       NaN 2021-10-17 19:32:00  2021-10-17T19:32:00.000   \n",
       "13    A844149   *Nimbus 2021-10-17 16:32:00  2021-10-17T16:32:00.000   \n",
       "26    A844428       NaN 2021-10-17 11:00:00  2021-10-17T11:00:00.000   \n",
       "..        ...       ...                 ...                      ...   \n",
       "971   A840514    *Zorro 2021-09-25 12:39:00  2021-09-25T12:39:00.000   \n",
       "972   A841931       NaN 2021-09-25 12:39:00  2021-09-25T12:39:00.000   \n",
       "973   A840512     *Puff 2021-09-25 12:39:00  2021-09-25T12:39:00.000   \n",
       "974   A840510  *Popcorn 2021-09-25 12:38:00  2021-09-25T12:38:00.000   \n",
       "995   A843000       NaN 2021-09-24 17:16:00  2021-09-24T17:16:00.000   \n",
       "\n",
       "               date_of_birth outcome_type outcome_subtype animal_type  \\\n",
       "6    2019-10-16T00:00:00.000   Euthanasia     Rabies Risk       Other   \n",
       "7    2021-02-17T00:00:00.000   Euthanasia     Rabies Risk       Other   \n",
       "10   2020-10-14T00:00:00.000   Euthanasia     Rabies Risk       Other   \n",
       "13   2019-10-12T00:00:00.000     Adoption             NaN       Other   \n",
       "26   2019-10-15T00:00:00.000   Euthanasia     Rabies Risk       Other   \n",
       "..                       ...          ...             ...         ...   \n",
       "971  2021-08-03T00:00:00.000     Adoption          Foster       Other   \n",
       "972  2021-09-01T00:00:00.000     Adoption          Foster       Other   \n",
       "973  2021-08-03T00:00:00.000     Adoption          Foster       Other   \n",
       "974  2021-08-03T00:00:00.000     Adoption          Foster       Other   \n",
       "995  2019-09-24T00:00:00.000   Euthanasia     Rabies Risk       Other   \n",
       "\n",
       "    sex_upon_outcome age_upon_outcome      breed        color  \n",
       "6            Unknown          2 years        Bat        Brown  \n",
       "7            Unknown         7 months    Raccoon   Gray/Black  \n",
       "10           Unknown           1 year    Raccoon   Black/Gray  \n",
       "13       Intact Male          2 years  Rabbit Sh  White/Brown  \n",
       "26           Unknown          2 years        Bat        Brown  \n",
       "..               ...              ...        ...          ...  \n",
       "971      Intact Male          1 month      Mouse  Black/White  \n",
       "972      Intact Male          3 weeks      Mouse        White  \n",
       "973      Intact Male          1 month      Mouse        White  \n",
       "974      Intact Male          1 month      Mouse        White  \n",
       "995          Unknown          2 years        Bat        Brown  \n",
       "\n",
       "[70 rows x 12 columns]"
      ]
     },
     "execution_count": 26,
     "metadata": {},
     "output_type": "execute_result"
    }
   ],
   "source": [
    "animals[mask_other_animals]"
   ]
  },
  {
   "cell_type": "markdown",
   "metadata": {
    "heading_collapsed": true,
    "hidden": true
   },
   "source": [
    "## Question 3: How old are the animals in our dataset?"
   ]
  },
  {
   "cell_type": "markdown",
   "metadata": {
    "hidden": true
   },
   "source": [
    "Let's try to answer this with the `age_upon_outcome` variable to learn some new `pandas` tools."
   ]
  },
  {
   "cell_type": "code",
   "execution_count": 27,
   "metadata": {
    "ExecuteTime": {
     "end_time": "2021-10-18T20:51:03.842242Z",
     "start_time": "2021-10-18T20:51:03.837073Z"
    },
    "hidden": true
   },
   "outputs": [
    {
     "data": {
      "text/plain": [
       "2 months     175\n",
       "2 years      168\n",
       "1 year        99\n",
       "3 months      69\n",
       "1 month       52\n",
       "4 months      49\n",
       "5 months      43\n",
       "2 weeks       33\n",
       "3 weeks       33\n",
       "3 years       30\n",
       "6 months      28\n",
       "4 years       24\n",
       "5 years       23\n",
       "7 months      20\n",
       "1 weeks       20\n",
       "6 years       18\n",
       "9 months      14\n",
       "8 months      13\n",
       "10 years      13\n",
       "1 week        11\n",
       "7 years       10\n",
       "9 years        7\n",
       "8 years        7\n",
       "10 months      6\n",
       "11 months      5\n",
       "14 years       4\n",
       "12 years       4\n",
       "NULL           3\n",
       "2 days         3\n",
       "3 days         3\n",
       "13 years       3\n",
       "4 weeks        3\n",
       "1 day          2\n",
       "20 years       1\n",
       "16 years       1\n",
       "0 years        1\n",
       "5 weeks        1\n",
       "6 days         1\n",
       "Name: age_upon_outcome, dtype: int64"
      ]
     },
     "execution_count": 27,
     "metadata": {},
     "output_type": "execute_result"
    }
   ],
   "source": [
    "animals['age_upon_outcome'].value_counts()"
   ]
  },
  {
   "cell_type": "markdown",
   "metadata": {
    "heading_collapsed": true,
    "hidden": true
   },
   "source": [
    "### `Series.map()`"
   ]
  },
  {
   "cell_type": "markdown",
   "metadata": {
    "hidden": true
   },
   "source": [
    "The `.map()` method applies a transformation to every entry in the Series. This transformation  \"maps\" each value from the Series to a new value. A transformation can be defined by a function, Series, or dictionary - usually we'll use functions."
   ]
  },
  {
   "cell_type": "markdown",
   "metadata": {
    "hidden": true
   },
   "source": [
    "The `.apply()` method is similar to the `.map()` method for Series, but can only use functions. It has more powerful uses when working with DataFrames."
   ]
  },
  {
   "cell_type": "code",
   "execution_count": 29,
   "metadata": {
    "ExecuteTime": {
     "end_time": "2021-10-18T20:54:08.606653Z",
     "start_time": "2021-10-18T20:54:08.603857Z"
    },
    "hidden": true
   },
   "outputs": [],
   "source": [
    "def one_year(age):\n",
    "    if age == '1 year':\n",
    "        return '1 years'\n",
    "    else:\n",
    "        return age"
   ]
  },
  {
   "cell_type": "code",
   "execution_count": 30,
   "metadata": {
    "ExecuteTime": {
     "end_time": "2021-10-18T20:54:12.345498Z",
     "start_time": "2021-10-18T20:54:12.338913Z"
    },
    "hidden": true,
    "scrolled": true
   },
   "outputs": [
    {
     "data": {
      "text/plain": [
       "2 months     175\n",
       "2 years      168\n",
       "1 years       99\n",
       "3 months      69\n",
       "1 month       52\n",
       "4 months      49\n",
       "5 months      43\n",
       "3 weeks       33\n",
       "2 weeks       33\n",
       "3 years       30\n",
       "6 months      28\n",
       "4 years       24\n",
       "5 years       23\n",
       "1 weeks       20\n",
       "7 months      20\n",
       "6 years       18\n",
       "9 months      14\n",
       "8 months      13\n",
       "10 years      13\n",
       "1 week        11\n",
       "7 years       10\n",
       "9 years        7\n",
       "8 years        7\n",
       "10 months      6\n",
       "11 months      5\n",
       "14 years       4\n",
       "12 years       4\n",
       "NULL           3\n",
       "2 days         3\n",
       "3 days         3\n",
       "4 weeks        3\n",
       "13 years       3\n",
       "1 day          2\n",
       "20 years       1\n",
       "16 years       1\n",
       "0 years        1\n",
       "6 days         1\n",
       "5 weeks        1\n",
       "Name: new_age1, dtype: int64"
      ]
     },
     "execution_count": 30,
     "metadata": {},
     "output_type": "execute_result"
    }
   ],
   "source": [
    "animals['new_age1'] = animals['age_upon_outcome'].map(one_year)\n",
    "animals['new_age1'].value_counts()"
   ]
  },
  {
   "cell_type": "markdown",
   "metadata": {
    "heading_collapsed": true,
    "hidden": true
   },
   "source": [
    "### More Sophisticated Mapping"
   ]
  },
  {
   "cell_type": "markdown",
   "metadata": {
    "hidden": true
   },
   "source": [
    "Let's use `.map()` to turn sex_upon_outcome into a category with three values (called **ternary**): male, female, or unknown. "
   ]
  },
  {
   "cell_type": "markdown",
   "metadata": {
    "hidden": true
   },
   "source": [
    "First, explore the unique values:"
   ]
  },
  {
   "cell_type": "code",
   "execution_count": 64,
   "metadata": {
    "ExecuteTime": {
     "end_time": "2021-10-19T16:01:18.722618Z",
     "start_time": "2021-10-19T16:01:18.718716Z"
    },
    "hidden": true
   },
   "outputs": [
    {
     "data": {
      "text/plain": [
       "array(['Neutered Male', 'Intact Male', 'Spayed Female', 'Intact Female',\n",
       "       'Unknown'], dtype=object)"
      ]
     },
     "execution_count": 64,
     "metadata": {},
     "output_type": "execute_result"
    }
   ],
   "source": [
    "animals['sex_upon_outcome'].unique()"
   ]
  },
  {
   "cell_type": "code",
   "execution_count": 65,
   "metadata": {
    "ExecuteTime": {
     "end_time": "2021-10-19T16:01:19.601146Z",
     "start_time": "2021-10-19T16:01:19.598655Z"
    },
    "hidden": true
   },
   "outputs": [],
   "source": [
    "def sex_mapper(status):\n",
    "    if status in ['Neutered Male', 'Intact Male']:\n",
    "        return 'Male'\n",
    "    elif status in ['Spayed Female', 'Intact Female']:\n",
    "        return 'Female'\n",
    "    else:\n",
    "        return 'Unknown'"
   ]
  },
  {
   "cell_type": "code",
   "execution_count": 69,
   "metadata": {
    "ExecuteTime": {
     "end_time": "2021-10-19T16:02:02.993990Z",
     "start_time": "2021-10-19T16:02:02.984112Z"
    },
    "hidden": true
   },
   "outputs": [
    {
     "data": {
      "text/html": [
       "<div>\n",
       "<style scoped>\n",
       "    .dataframe tbody tr th:only-of-type {\n",
       "        vertical-align: middle;\n",
       "    }\n",
       "\n",
       "    .dataframe tbody tr th {\n",
       "        vertical-align: top;\n",
       "    }\n",
       "\n",
       "    .dataframe thead th {\n",
       "        text-align: right;\n",
       "    }\n",
       "</style>\n",
       "<table border=\"1\" class=\"dataframe\">\n",
       "  <thead>\n",
       "    <tr style=\"text-align: right;\">\n",
       "      <th></th>\n",
       "      <th>sex_upon_outcome</th>\n",
       "      <th>new_sex1</th>\n",
       "    </tr>\n",
       "  </thead>\n",
       "  <tbody>\n",
       "    <tr>\n",
       "      <th>0</th>\n",
       "      <td>Neutered Male</td>\n",
       "      <td>Male</td>\n",
       "    </tr>\n",
       "    <tr>\n",
       "      <th>1</th>\n",
       "      <td>Neutered Male</td>\n",
       "      <td>Male</td>\n",
       "    </tr>\n",
       "    <tr>\n",
       "      <th>2</th>\n",
       "      <td>Intact Male</td>\n",
       "      <td>Male</td>\n",
       "    </tr>\n",
       "    <tr>\n",
       "      <th>3</th>\n",
       "      <td>Spayed Female</td>\n",
       "      <td>Female</td>\n",
       "    </tr>\n",
       "    <tr>\n",
       "      <th>4</th>\n",
       "      <td>Spayed Female</td>\n",
       "      <td>Female</td>\n",
       "    </tr>\n",
       "    <tr>\n",
       "      <th>...</th>\n",
       "      <td>...</td>\n",
       "      <td>...</td>\n",
       "    </tr>\n",
       "    <tr>\n",
       "      <th>995</th>\n",
       "      <td>Neutered Male</td>\n",
       "      <td>Male</td>\n",
       "    </tr>\n",
       "    <tr>\n",
       "      <th>996</th>\n",
       "      <td>Neutered Male</td>\n",
       "      <td>Male</td>\n",
       "    </tr>\n",
       "    <tr>\n",
       "      <th>997</th>\n",
       "      <td>Neutered Male</td>\n",
       "      <td>Male</td>\n",
       "    </tr>\n",
       "    <tr>\n",
       "      <th>998</th>\n",
       "      <td>Intact Female</td>\n",
       "      <td>Female</td>\n",
       "    </tr>\n",
       "    <tr>\n",
       "      <th>999</th>\n",
       "      <td>Neutered Male</td>\n",
       "      <td>Male</td>\n",
       "    </tr>\n",
       "  </tbody>\n",
       "</table>\n",
       "<p>1000 rows × 2 columns</p>\n",
       "</div>"
      ],
      "text/plain": [
       "    sex_upon_outcome new_sex1\n",
       "0      Neutered Male     Male\n",
       "1      Neutered Male     Male\n",
       "2        Intact Male     Male\n",
       "3      Spayed Female   Female\n",
       "4      Spayed Female   Female\n",
       "..               ...      ...\n",
       "995    Neutered Male     Male\n",
       "996    Neutered Male     Male\n",
       "997    Neutered Male     Male\n",
       "998    Intact Female   Female\n",
       "999    Neutered Male     Male\n",
       "\n",
       "[1000 rows x 2 columns]"
      ]
     },
     "execution_count": 69,
     "metadata": {},
     "output_type": "execute_result"
    }
   ],
   "source": [
    "animals['new_sex1'] = animals['sex_upon_outcome'].apply(sex_mapper)\n",
    "animals.loc[:, ['sex_upon_outcome', 'new_sex1']]"
   ]
  },
  {
   "cell_type": "markdown",
   "metadata": {
    "heading_collapsed": true,
    "hidden": true
   },
   "source": [
    "### Lambda Functions"
   ]
  },
  {
   "cell_type": "markdown",
   "metadata": {
    "hidden": true
   },
   "source": [
    "Simple functions can be defined just when you need them, when you would call the function. These are called **lambda functions**. These functions are **anonymous** and disappear immediately after use."
   ]
  },
  {
   "cell_type": "markdown",
   "metadata": {
    "hidden": true
   },
   "source": [
    "Let's use a lambda function to get rid of 'Other' in the \"animal_type' column."
   ]
  },
  {
   "cell_type": "code",
   "execution_count": 35,
   "metadata": {
    "ExecuteTime": {
     "end_time": "2021-10-18T21:04:22.740425Z",
     "start_time": "2021-10-18T21:04:22.719351Z"
    },
    "hidden": true
   },
   "outputs": [
    {
     "data": {
      "text/html": [
       "<div>\n",
       "<style scoped>\n",
       "    .dataframe tbody tr th:only-of-type {\n",
       "        vertical-align: middle;\n",
       "    }\n",
       "\n",
       "    .dataframe tbody tr th {\n",
       "        vertical-align: top;\n",
       "    }\n",
       "\n",
       "    .dataframe thead th {\n",
       "        text-align: right;\n",
       "    }\n",
       "</style>\n",
       "<table border=\"1\" class=\"dataframe\">\n",
       "  <thead>\n",
       "    <tr style=\"text-align: right;\">\n",
       "      <th></th>\n",
       "      <th>animal_id</th>\n",
       "      <th>name</th>\n",
       "      <th>datetime</th>\n",
       "      <th>monthyear</th>\n",
       "      <th>date_of_birth</th>\n",
       "      <th>outcome_type</th>\n",
       "      <th>outcome_subtype</th>\n",
       "      <th>animal_type</th>\n",
       "      <th>sex_upon_outcome</th>\n",
       "      <th>age_upon_outcome</th>\n",
       "      <th>breed</th>\n",
       "      <th>color</th>\n",
       "      <th>new_age1</th>\n",
       "      <th>new_sex1</th>\n",
       "    </tr>\n",
       "  </thead>\n",
       "  <tbody>\n",
       "    <tr>\n",
       "      <th>6</th>\n",
       "      <td>A844508</td>\n",
       "      <td>NaN</td>\n",
       "      <td>2021-10-18 10:08:00</td>\n",
       "      <td>2021-10-18T10:08:00.000</td>\n",
       "      <td>2019-10-16T00:00:00.000</td>\n",
       "      <td>Euthanasia</td>\n",
       "      <td>Rabies Risk</td>\n",
       "      <td>Other</td>\n",
       "      <td>Unknown</td>\n",
       "      <td>2 years</td>\n",
       "      <td>Bat</td>\n",
       "      <td>Brown</td>\n",
       "      <td>2 years</td>\n",
       "      <td>Unknown</td>\n",
       "    </tr>\n",
       "    <tr>\n",
       "      <th>7</th>\n",
       "      <td>A844564</td>\n",
       "      <td>NaN</td>\n",
       "      <td>2021-10-18 10:07:00</td>\n",
       "      <td>2021-10-18T10:07:00.000</td>\n",
       "      <td>2021-02-17T00:00:00.000</td>\n",
       "      <td>Euthanasia</td>\n",
       "      <td>Rabies Risk</td>\n",
       "      <td>Other</td>\n",
       "      <td>Unknown</td>\n",
       "      <td>7 months</td>\n",
       "      <td>Raccoon</td>\n",
       "      <td>Gray/Black</td>\n",
       "      <td>7 months</td>\n",
       "      <td>Unknown</td>\n",
       "    </tr>\n",
       "    <tr>\n",
       "      <th>10</th>\n",
       "      <td>A844279</td>\n",
       "      <td>NaN</td>\n",
       "      <td>2021-10-17 19:32:00</td>\n",
       "      <td>2021-10-17T19:32:00.000</td>\n",
       "      <td>2020-10-14T00:00:00.000</td>\n",
       "      <td>Euthanasia</td>\n",
       "      <td>Rabies Risk</td>\n",
       "      <td>Other</td>\n",
       "      <td>Unknown</td>\n",
       "      <td>1 year</td>\n",
       "      <td>Raccoon</td>\n",
       "      <td>Black/Gray</td>\n",
       "      <td>1 years</td>\n",
       "      <td>Unknown</td>\n",
       "    </tr>\n",
       "    <tr>\n",
       "      <th>13</th>\n",
       "      <td>A844149</td>\n",
       "      <td>*Nimbus</td>\n",
       "      <td>2021-10-17 16:32:00</td>\n",
       "      <td>2021-10-17T16:32:00.000</td>\n",
       "      <td>2019-10-12T00:00:00.000</td>\n",
       "      <td>Adoption</td>\n",
       "      <td>NaN</td>\n",
       "      <td>Other</td>\n",
       "      <td>Intact Male</td>\n",
       "      <td>2 years</td>\n",
       "      <td>Rabbit Sh</td>\n",
       "      <td>White/Brown</td>\n",
       "      <td>2 years</td>\n",
       "      <td>Male</td>\n",
       "    </tr>\n",
       "    <tr>\n",
       "      <th>26</th>\n",
       "      <td>A844428</td>\n",
       "      <td>NaN</td>\n",
       "      <td>2021-10-17 11:00:00</td>\n",
       "      <td>2021-10-17T11:00:00.000</td>\n",
       "      <td>2019-10-15T00:00:00.000</td>\n",
       "      <td>Euthanasia</td>\n",
       "      <td>Rabies Risk</td>\n",
       "      <td>Other</td>\n",
       "      <td>Unknown</td>\n",
       "      <td>2 years</td>\n",
       "      <td>Bat</td>\n",
       "      <td>Brown</td>\n",
       "      <td>2 years</td>\n",
       "      <td>Unknown</td>\n",
       "    </tr>\n",
       "    <tr>\n",
       "      <th>...</th>\n",
       "      <td>...</td>\n",
       "      <td>...</td>\n",
       "      <td>...</td>\n",
       "      <td>...</td>\n",
       "      <td>...</td>\n",
       "      <td>...</td>\n",
       "      <td>...</td>\n",
       "      <td>...</td>\n",
       "      <td>...</td>\n",
       "      <td>...</td>\n",
       "      <td>...</td>\n",
       "      <td>...</td>\n",
       "      <td>...</td>\n",
       "      <td>...</td>\n",
       "    </tr>\n",
       "    <tr>\n",
       "      <th>971</th>\n",
       "      <td>A840514</td>\n",
       "      <td>*Zorro</td>\n",
       "      <td>2021-09-25 12:39:00</td>\n",
       "      <td>2021-09-25T12:39:00.000</td>\n",
       "      <td>2021-08-03T00:00:00.000</td>\n",
       "      <td>Adoption</td>\n",
       "      <td>Foster</td>\n",
       "      <td>Other</td>\n",
       "      <td>Intact Male</td>\n",
       "      <td>1 month</td>\n",
       "      <td>Mouse</td>\n",
       "      <td>Black/White</td>\n",
       "      <td>1 month</td>\n",
       "      <td>Male</td>\n",
       "    </tr>\n",
       "    <tr>\n",
       "      <th>972</th>\n",
       "      <td>A841931</td>\n",
       "      <td>NaN</td>\n",
       "      <td>2021-09-25 12:39:00</td>\n",
       "      <td>2021-09-25T12:39:00.000</td>\n",
       "      <td>2021-09-01T00:00:00.000</td>\n",
       "      <td>Adoption</td>\n",
       "      <td>Foster</td>\n",
       "      <td>Other</td>\n",
       "      <td>Intact Male</td>\n",
       "      <td>3 weeks</td>\n",
       "      <td>Mouse</td>\n",
       "      <td>White</td>\n",
       "      <td>3 weeks</td>\n",
       "      <td>Male</td>\n",
       "    </tr>\n",
       "    <tr>\n",
       "      <th>973</th>\n",
       "      <td>A840512</td>\n",
       "      <td>*Puff</td>\n",
       "      <td>2021-09-25 12:39:00</td>\n",
       "      <td>2021-09-25T12:39:00.000</td>\n",
       "      <td>2021-08-03T00:00:00.000</td>\n",
       "      <td>Adoption</td>\n",
       "      <td>Foster</td>\n",
       "      <td>Other</td>\n",
       "      <td>Intact Male</td>\n",
       "      <td>1 month</td>\n",
       "      <td>Mouse</td>\n",
       "      <td>White</td>\n",
       "      <td>1 month</td>\n",
       "      <td>Male</td>\n",
       "    </tr>\n",
       "    <tr>\n",
       "      <th>974</th>\n",
       "      <td>A840510</td>\n",
       "      <td>*Popcorn</td>\n",
       "      <td>2021-09-25 12:38:00</td>\n",
       "      <td>2021-09-25T12:38:00.000</td>\n",
       "      <td>2021-08-03T00:00:00.000</td>\n",
       "      <td>Adoption</td>\n",
       "      <td>Foster</td>\n",
       "      <td>Other</td>\n",
       "      <td>Intact Male</td>\n",
       "      <td>1 month</td>\n",
       "      <td>Mouse</td>\n",
       "      <td>White</td>\n",
       "      <td>1 month</td>\n",
       "      <td>Male</td>\n",
       "    </tr>\n",
       "    <tr>\n",
       "      <th>995</th>\n",
       "      <td>A843000</td>\n",
       "      <td>NaN</td>\n",
       "      <td>2021-09-24 17:16:00</td>\n",
       "      <td>2021-09-24T17:16:00.000</td>\n",
       "      <td>2019-09-24T00:00:00.000</td>\n",
       "      <td>Euthanasia</td>\n",
       "      <td>Rabies Risk</td>\n",
       "      <td>Other</td>\n",
       "      <td>Unknown</td>\n",
       "      <td>2 years</td>\n",
       "      <td>Bat</td>\n",
       "      <td>Brown</td>\n",
       "      <td>2 years</td>\n",
       "      <td>Unknown</td>\n",
       "    </tr>\n",
       "  </tbody>\n",
       "</table>\n",
       "<p>70 rows × 14 columns</p>\n",
       "</div>"
      ],
      "text/plain": [
       "    animal_id      name            datetime                monthyear  \\\n",
       "6     A844508       NaN 2021-10-18 10:08:00  2021-10-18T10:08:00.000   \n",
       "7     A844564       NaN 2021-10-18 10:07:00  2021-10-18T10:07:00.000   \n",
       "10    A844279       NaN 2021-10-17 19:32:00  2021-10-17T19:32:00.000   \n",
       "13    A844149   *Nimbus 2021-10-17 16:32:00  2021-10-17T16:32:00.000   \n",
       "26    A844428       NaN 2021-10-17 11:00:00  2021-10-17T11:00:00.000   \n",
       "..        ...       ...                 ...                      ...   \n",
       "971   A840514    *Zorro 2021-09-25 12:39:00  2021-09-25T12:39:00.000   \n",
       "972   A841931       NaN 2021-09-25 12:39:00  2021-09-25T12:39:00.000   \n",
       "973   A840512     *Puff 2021-09-25 12:39:00  2021-09-25T12:39:00.000   \n",
       "974   A840510  *Popcorn 2021-09-25 12:38:00  2021-09-25T12:38:00.000   \n",
       "995   A843000       NaN 2021-09-24 17:16:00  2021-09-24T17:16:00.000   \n",
       "\n",
       "               date_of_birth outcome_type outcome_subtype animal_type  \\\n",
       "6    2019-10-16T00:00:00.000   Euthanasia     Rabies Risk       Other   \n",
       "7    2021-02-17T00:00:00.000   Euthanasia     Rabies Risk       Other   \n",
       "10   2020-10-14T00:00:00.000   Euthanasia     Rabies Risk       Other   \n",
       "13   2019-10-12T00:00:00.000     Adoption             NaN       Other   \n",
       "26   2019-10-15T00:00:00.000   Euthanasia     Rabies Risk       Other   \n",
       "..                       ...          ...             ...         ...   \n",
       "971  2021-08-03T00:00:00.000     Adoption          Foster       Other   \n",
       "972  2021-09-01T00:00:00.000     Adoption          Foster       Other   \n",
       "973  2021-08-03T00:00:00.000     Adoption          Foster       Other   \n",
       "974  2021-08-03T00:00:00.000     Adoption          Foster       Other   \n",
       "995  2019-09-24T00:00:00.000   Euthanasia     Rabies Risk       Other   \n",
       "\n",
       "    sex_upon_outcome age_upon_outcome      breed        color  new_age1  \\\n",
       "6            Unknown          2 years        Bat        Brown   2 years   \n",
       "7            Unknown         7 months    Raccoon   Gray/Black  7 months   \n",
       "10           Unknown           1 year    Raccoon   Black/Gray   1 years   \n",
       "13       Intact Male          2 years  Rabbit Sh  White/Brown   2 years   \n",
       "26           Unknown          2 years        Bat        Brown   2 years   \n",
       "..               ...              ...        ...          ...       ...   \n",
       "971      Intact Male          1 month      Mouse  Black/White   1 month   \n",
       "972      Intact Male          3 weeks      Mouse        White   3 weeks   \n",
       "973      Intact Male          1 month      Mouse        White   1 month   \n",
       "974      Intact Male          1 month      Mouse        White   1 month   \n",
       "995          Unknown          2 years        Bat        Brown   2 years   \n",
       "\n",
       "    new_sex1  \n",
       "6    Unknown  \n",
       "7    Unknown  \n",
       "10   Unknown  \n",
       "13      Male  \n",
       "26   Unknown  \n",
       "..       ...  \n",
       "971     Male  \n",
       "972     Male  \n",
       "973     Male  \n",
       "974     Male  \n",
       "995  Unknown  \n",
       "\n",
       "[70 rows x 14 columns]"
      ]
     },
     "execution_count": 35,
     "metadata": {},
     "output_type": "execute_result"
    }
   ],
   "source": [
    "animals[animals['animal_type'] == 'Other']"
   ]
  },
  {
   "cell_type": "code",
   "execution_count": 36,
   "metadata": {
    "ExecuteTime": {
     "end_time": "2021-10-18T21:04:42.292738Z",
     "start_time": "2021-10-18T21:04:42.287263Z"
    },
    "hidden": true
   },
   "outputs": [
    {
     "data": {
      "text/plain": [
       "Cat      469\n",
       "Dog      459\n",
       "Other     70\n",
       "Bird       2\n",
       "Name: animal_type, dtype: int64"
      ]
     },
     "execution_count": 36,
     "metadata": {},
     "output_type": "execute_result"
    }
   ],
   "source": [
    "animals['animal_type'].value_counts()"
   ]
  },
  {
   "cell_type": "code",
   "execution_count": 37,
   "metadata": {
    "ExecuteTime": {
     "end_time": "2021-10-18T21:05:10.162045Z",
     "start_time": "2021-10-18T21:05:10.158807Z"
    }
   },
   "outputs": [
    {
     "data": {
      "text/plain": [
       "float"
      ]
     },
     "execution_count": 37,
     "metadata": {},
     "output_type": "execute_result"
    }
   ],
   "source": [
    "type(np.nan)"
   ]
  },
  {
   "cell_type": "code",
   "execution_count": 38,
   "metadata": {
    "ExecuteTime": {
     "end_time": "2021-10-18T21:07:27.145281Z",
     "start_time": "2021-10-18T21:07:27.137321Z"
    },
    "hidden": true,
    "scrolled": false
   },
   "outputs": [
    {
     "data": {
      "text/plain": [
       "Cat     469\n",
       "Dog     459\n",
       "Bird      2\n",
       "Name: animal_type, dtype: int64"
      ]
     },
     "execution_count": 38,
     "metadata": {},
     "output_type": "execute_result"
    }
   ],
   "source": [
    "animals['animal_type'].map(lambda x: np.nan if x == 'Other' else x).value_counts()"
   ]
  },
  {
   "cell_type": "code",
   "execution_count": 39,
   "metadata": {
    "ExecuteTime": {
     "end_time": "2021-10-18T21:08:04.141314Z",
     "start_time": "2021-10-18T21:08:04.136420Z"
    }
   },
   "outputs": [
    {
     "data": {
      "text/plain": [
       "Cat      469\n",
       "Dog      459\n",
       "Other     70\n",
       "Bird       2\n",
       "Name: animal_type, dtype: int64"
      ]
     },
     "execution_count": 39,
     "metadata": {},
     "output_type": "execute_result"
    }
   ],
   "source": [
    "animals['animal_type'].value_counts()"
   ]
  },
  {
   "cell_type": "code",
   "execution_count": null,
   "metadata": {},
   "outputs": [],
   "source": [
    "#animals['animal_type'] = animals['animal_type'].map(lambda x: np.nan if x == 'Other' else x)"
   ]
  },
  {
   "cell_type": "markdown",
   "metadata": {
    "heading_collapsed": true
   },
   "source": [
    "# Handling Missing Data"
   ]
  },
  {
   "cell_type": "markdown",
   "metadata": {
    "hidden": true
   },
   "source": [
    "A lot of the times we'll have missing information in our data set. This can sometimes be troublesome in what we're trying to do."
   ]
  },
  {
   "cell_type": "markdown",
   "metadata": {
    "hidden": true
   },
   "source": [
    "So far, we've been doing some preprocessing/cleaning to answer questions. Now we're going to handle the missing values in our data.\n",
    "\n",
    "There are a few strategies we can choose from and they each have their special use case."
   ]
  },
  {
   "cell_type": "markdown",
   "metadata": {
    "hidden": true
   },
   "source": [
    "> Before making changes, it's convenient to make changes to a copy instead of overwriting data. We'll keep all our changes in `animals_clean` which will be a [copy](https://pandas.pydata.org/docs/reference/api/pandas.DataFrame.copy.html) of the original DataFrame."
   ]
  },
  {
   "cell_type": "code",
   "execution_count": 40,
   "metadata": {
    "ExecuteTime": {
     "end_time": "2021-10-18T21:10:01.214716Z",
     "start_time": "2021-10-18T21:10:01.211819Z"
    },
    "hidden": true
   },
   "outputs": [],
   "source": [
    "animals_clean = animals.copy()"
   ]
  },
  {
   "cell_type": "markdown",
   "metadata": {
    "heading_collapsed": true,
    "hidden": true
   },
   "source": [
    "## Fill with a Relevant Value"
   ]
  },
  {
   "cell_type": "markdown",
   "metadata": {
    "hidden": true
   },
   "source": [
    "A lot of times we already have an idea of how we want to specify that a value was missing and replace it with a value that makes more sense than an \"empty\" value."
   ]
  },
  {
   "cell_type": "markdown",
   "metadata": {
    "hidden": true
   },
   "source": [
    "For example, it might make sense to fill the value as \"MISSING\" or \"UNKNOWN\". This way it's clearer when do more analysis."
   ]
  },
  {
   "cell_type": "markdown",
   "metadata": {
    "hidden": true
   },
   "source": [
    "> We can use Pandas' [`fillna()` method](https://pandas.pydata.org/pandas-docs/stable/reference/api/pandas.DataFrame.fillna.html) to replace missing values with something specific"
   ]
  },
  {
   "cell_type": "code",
   "execution_count": 44,
   "metadata": {
    "ExecuteTime": {
     "end_time": "2021-10-18T21:14:24.125165Z",
     "start_time": "2021-10-18T21:14:24.104145Z"
    },
    "hidden": true
   },
   "outputs": [
    {
     "data": {
      "text/html": [
       "<div>\n",
       "<style scoped>\n",
       "    .dataframe tbody tr th:only-of-type {\n",
       "        vertical-align: middle;\n",
       "    }\n",
       "\n",
       "    .dataframe tbody tr th {\n",
       "        vertical-align: top;\n",
       "    }\n",
       "\n",
       "    .dataframe thead th {\n",
       "        text-align: right;\n",
       "    }\n",
       "</style>\n",
       "<table border=\"1\" class=\"dataframe\">\n",
       "  <thead>\n",
       "    <tr style=\"text-align: right;\">\n",
       "      <th></th>\n",
       "      <th>animal_id</th>\n",
       "      <th>name</th>\n",
       "      <th>datetime</th>\n",
       "      <th>monthyear</th>\n",
       "      <th>date_of_birth</th>\n",
       "      <th>outcome_type</th>\n",
       "      <th>outcome_subtype</th>\n",
       "      <th>animal_type</th>\n",
       "      <th>sex_upon_outcome</th>\n",
       "      <th>age_upon_outcome</th>\n",
       "      <th>breed</th>\n",
       "      <th>color</th>\n",
       "      <th>new_age1</th>\n",
       "      <th>new_sex1</th>\n",
       "    </tr>\n",
       "  </thead>\n",
       "  <tbody>\n",
       "    <tr>\n",
       "      <th>0</th>\n",
       "      <td>A844286</td>\n",
       "      <td>A844286</td>\n",
       "      <td>2021-10-18 13:20:00</td>\n",
       "      <td>2021-10-18T13:20:00.000</td>\n",
       "      <td>2019-10-14T00:00:00.000</td>\n",
       "      <td>Transfer</td>\n",
       "      <td>Partner</td>\n",
       "      <td>Dog</td>\n",
       "      <td>Intact Female</td>\n",
       "      <td>2 years</td>\n",
       "      <td>Yorkshire Terrier/Border Terrier</td>\n",
       "      <td>Tan</td>\n",
       "      <td>2 years</td>\n",
       "      <td>Female</td>\n",
       "    </tr>\n",
       "    <tr>\n",
       "      <th>1</th>\n",
       "      <td>A844174</td>\n",
       "      <td>np.nan</td>\n",
       "      <td>2021-10-18 13:19:00</td>\n",
       "      <td>2021-10-18T13:19:00.000</td>\n",
       "      <td>2021-05-29T00:00:00.000</td>\n",
       "      <td>Transfer</td>\n",
       "      <td>Partner</td>\n",
       "      <td>Dog</td>\n",
       "      <td>Intact Female</td>\n",
       "      <td>4 months</td>\n",
       "      <td>Cairn Terrier</td>\n",
       "      <td>White/Black</td>\n",
       "      <td>4 months</td>\n",
       "      <td>Female</td>\n",
       "    </tr>\n",
       "    <tr>\n",
       "      <th>2</th>\n",
       "      <td>A844304</td>\n",
       "      <td>Scooby</td>\n",
       "      <td>2021-10-18 13:01:00</td>\n",
       "      <td>2021-10-18T13:01:00.000</td>\n",
       "      <td>2007-04-14T00:00:00.000</td>\n",
       "      <td>Return to Owner</td>\n",
       "      <td>np.nan</td>\n",
       "      <td>Dog</td>\n",
       "      <td>Neutered Male</td>\n",
       "      <td>14 years</td>\n",
       "      <td>Chihuahua Shorthair</td>\n",
       "      <td>Brown/Tan</td>\n",
       "      <td>14 years</td>\n",
       "      <td>Male</td>\n",
       "    </tr>\n",
       "    <tr>\n",
       "      <th>3</th>\n",
       "      <td>A842910</td>\n",
       "      <td>*Jello</td>\n",
       "      <td>2021-10-18 12:08:00</td>\n",
       "      <td>2021-10-18T12:08:00.000</td>\n",
       "      <td>2018-09-23T00:00:00.000</td>\n",
       "      <td>Adoption</td>\n",
       "      <td>np.nan</td>\n",
       "      <td>Dog</td>\n",
       "      <td>Neutered Male</td>\n",
       "      <td>3 years</td>\n",
       "      <td>Great Pyrenees/Labrador Retriever</td>\n",
       "      <td>White</td>\n",
       "      <td>3 years</td>\n",
       "      <td>Male</td>\n",
       "    </tr>\n",
       "    <tr>\n",
       "      <th>4</th>\n",
       "      <td>A844268</td>\n",
       "      <td>A844268</td>\n",
       "      <td>2021-10-18 11:12:00</td>\n",
       "      <td>2021-10-18T11:12:00.000</td>\n",
       "      <td>2020-04-14T00:00:00.000</td>\n",
       "      <td>Transfer</td>\n",
       "      <td>Partner</td>\n",
       "      <td>Dog</td>\n",
       "      <td>Intact Female</td>\n",
       "      <td>1 year</td>\n",
       "      <td>Cairn Terrier Mix</td>\n",
       "      <td>Black/White</td>\n",
       "      <td>1 years</td>\n",
       "      <td>Female</td>\n",
       "    </tr>\n",
       "    <tr>\n",
       "      <th>5</th>\n",
       "      <td>A717165</td>\n",
       "      <td>Quincy</td>\n",
       "      <td>2021-10-18 11:08:00</td>\n",
       "      <td>2021-10-18T11:08:00.000</td>\n",
       "      <td>2011-12-03T00:00:00.000</td>\n",
       "      <td>Adoption</td>\n",
       "      <td>Foster</td>\n",
       "      <td>Dog</td>\n",
       "      <td>Neutered Male</td>\n",
       "      <td>9 years</td>\n",
       "      <td>Australian Cattle Dog Mix</td>\n",
       "      <td>Red/White</td>\n",
       "      <td>9 years</td>\n",
       "      <td>Male</td>\n",
       "    </tr>\n",
       "    <tr>\n",
       "      <th>6</th>\n",
       "      <td>A844508</td>\n",
       "      <td>np.nan</td>\n",
       "      <td>2021-10-18 10:08:00</td>\n",
       "      <td>2021-10-18T10:08:00.000</td>\n",
       "      <td>2019-10-16T00:00:00.000</td>\n",
       "      <td>Euthanasia</td>\n",
       "      <td>Rabies Risk</td>\n",
       "      <td>Other</td>\n",
       "      <td>Unknown</td>\n",
       "      <td>2 years</td>\n",
       "      <td>Bat</td>\n",
       "      <td>Brown</td>\n",
       "      <td>2 years</td>\n",
       "      <td>Unknown</td>\n",
       "    </tr>\n",
       "    <tr>\n",
       "      <th>7</th>\n",
       "      <td>A844564</td>\n",
       "      <td>np.nan</td>\n",
       "      <td>2021-10-18 10:07:00</td>\n",
       "      <td>2021-10-18T10:07:00.000</td>\n",
       "      <td>2021-02-17T00:00:00.000</td>\n",
       "      <td>Euthanasia</td>\n",
       "      <td>Rabies Risk</td>\n",
       "      <td>Other</td>\n",
       "      <td>Unknown</td>\n",
       "      <td>7 months</td>\n",
       "      <td>Raccoon</td>\n",
       "      <td>Gray/Black</td>\n",
       "      <td>7 months</td>\n",
       "      <td>Unknown</td>\n",
       "    </tr>\n",
       "    <tr>\n",
       "      <th>8</th>\n",
       "      <td>A843888</td>\n",
       "      <td>*Nana</td>\n",
       "      <td>2021-10-18 08:21:00</td>\n",
       "      <td>2021-10-18T08:21:00.000</td>\n",
       "      <td>2021-09-01T00:00:00.000</td>\n",
       "      <td>Transfer</td>\n",
       "      <td>Partner</td>\n",
       "      <td>Dog</td>\n",
       "      <td>Intact Female</td>\n",
       "      <td>1 month</td>\n",
       "      <td>Australian Shepherd Mix</td>\n",
       "      <td>Tan/White</td>\n",
       "      <td>1 month</td>\n",
       "      <td>Female</td>\n",
       "    </tr>\n",
       "    <tr>\n",
       "      <th>9</th>\n",
       "      <td>A843887</td>\n",
       "      <td>*Ashley</td>\n",
       "      <td>2021-10-18 08:20:00</td>\n",
       "      <td>2021-10-18T08:20:00.000</td>\n",
       "      <td>2021-09-01T00:00:00.000</td>\n",
       "      <td>Transfer</td>\n",
       "      <td>Partner</td>\n",
       "      <td>Dog</td>\n",
       "      <td>Intact Female</td>\n",
       "      <td>1 month</td>\n",
       "      <td>Australian Shepherd Mix</td>\n",
       "      <td>Tan/White</td>\n",
       "      <td>1 month</td>\n",
       "      <td>Female</td>\n",
       "    </tr>\n",
       "  </tbody>\n",
       "</table>\n",
       "</div>"
      ],
      "text/plain": [
       "  animal_id     name            datetime                monthyear  \\\n",
       "0   A844286  A844286 2021-10-18 13:20:00  2021-10-18T13:20:00.000   \n",
       "1   A844174   np.nan 2021-10-18 13:19:00  2021-10-18T13:19:00.000   \n",
       "2   A844304   Scooby 2021-10-18 13:01:00  2021-10-18T13:01:00.000   \n",
       "3   A842910   *Jello 2021-10-18 12:08:00  2021-10-18T12:08:00.000   \n",
       "4   A844268  A844268 2021-10-18 11:12:00  2021-10-18T11:12:00.000   \n",
       "5   A717165   Quincy 2021-10-18 11:08:00  2021-10-18T11:08:00.000   \n",
       "6   A844508   np.nan 2021-10-18 10:08:00  2021-10-18T10:08:00.000   \n",
       "7   A844564   np.nan 2021-10-18 10:07:00  2021-10-18T10:07:00.000   \n",
       "8   A843888    *Nana 2021-10-18 08:21:00  2021-10-18T08:21:00.000   \n",
       "9   A843887  *Ashley 2021-10-18 08:20:00  2021-10-18T08:20:00.000   \n",
       "\n",
       "             date_of_birth     outcome_type outcome_subtype animal_type  \\\n",
       "0  2019-10-14T00:00:00.000         Transfer         Partner         Dog   \n",
       "1  2021-05-29T00:00:00.000         Transfer         Partner         Dog   \n",
       "2  2007-04-14T00:00:00.000  Return to Owner          np.nan         Dog   \n",
       "3  2018-09-23T00:00:00.000         Adoption          np.nan         Dog   \n",
       "4  2020-04-14T00:00:00.000         Transfer         Partner         Dog   \n",
       "5  2011-12-03T00:00:00.000         Adoption          Foster         Dog   \n",
       "6  2019-10-16T00:00:00.000       Euthanasia     Rabies Risk       Other   \n",
       "7  2021-02-17T00:00:00.000       Euthanasia     Rabies Risk       Other   \n",
       "8  2021-09-01T00:00:00.000         Transfer         Partner         Dog   \n",
       "9  2021-09-01T00:00:00.000         Transfer         Partner         Dog   \n",
       "\n",
       "  sex_upon_outcome age_upon_outcome                              breed  \\\n",
       "0    Intact Female          2 years   Yorkshire Terrier/Border Terrier   \n",
       "1    Intact Female         4 months                      Cairn Terrier   \n",
       "2    Neutered Male         14 years                Chihuahua Shorthair   \n",
       "3    Neutered Male          3 years  Great Pyrenees/Labrador Retriever   \n",
       "4    Intact Female           1 year                  Cairn Terrier Mix   \n",
       "5    Neutered Male          9 years          Australian Cattle Dog Mix   \n",
       "6          Unknown          2 years                                Bat   \n",
       "7          Unknown         7 months                            Raccoon   \n",
       "8    Intact Female          1 month            Australian Shepherd Mix   \n",
       "9    Intact Female          1 month            Australian Shepherd Mix   \n",
       "\n",
       "         color  new_age1 new_sex1  \n",
       "0          Tan   2 years   Female  \n",
       "1  White/Black  4 months   Female  \n",
       "2    Brown/Tan  14 years     Male  \n",
       "3        White   3 years     Male  \n",
       "4  Black/White   1 years   Female  \n",
       "5    Red/White   9 years     Male  \n",
       "6        Brown   2 years  Unknown  \n",
       "7   Gray/Black  7 months  Unknown  \n",
       "8    Tan/White   1 month   Female  \n",
       "9    Tan/White   1 month   Female  "
      ]
     },
     "execution_count": 44,
     "metadata": {},
     "output_type": "execute_result"
    }
   ],
   "source": [
    "# Note this creates a copy of `animals` with the missing values replaced\n",
    "animals_name_filled = animals_clean.fillna('np.nan') # {col_name:new_value}\n",
    "animals_name_filled.head(10)"
   ]
  },
  {
   "cell_type": "code",
   "execution_count": 45,
   "metadata": {
    "ExecuteTime": {
     "end_time": "2021-10-18T21:14:49.614080Z",
     "start_time": "2021-10-18T21:14:49.598481Z"
    },
    "hidden": true
   },
   "outputs": [
    {
     "data": {
      "text/html": [
       "<div>\n",
       "<style scoped>\n",
       "    .dataframe tbody tr th:only-of-type {\n",
       "        vertical-align: middle;\n",
       "    }\n",
       "\n",
       "    .dataframe tbody tr th {\n",
       "        vertical-align: top;\n",
       "    }\n",
       "\n",
       "    .dataframe thead th {\n",
       "        text-align: right;\n",
       "    }\n",
       "</style>\n",
       "<table border=\"1\" class=\"dataframe\">\n",
       "  <thead>\n",
       "    <tr style=\"text-align: right;\">\n",
       "      <th></th>\n",
       "      <th>animal_id</th>\n",
       "      <th>name</th>\n",
       "      <th>datetime</th>\n",
       "      <th>monthyear</th>\n",
       "      <th>date_of_birth</th>\n",
       "      <th>outcome_type</th>\n",
       "      <th>outcome_subtype</th>\n",
       "      <th>animal_type</th>\n",
       "      <th>sex_upon_outcome</th>\n",
       "      <th>age_upon_outcome</th>\n",
       "      <th>breed</th>\n",
       "      <th>color</th>\n",
       "      <th>new_age1</th>\n",
       "      <th>new_sex1</th>\n",
       "    </tr>\n",
       "  </thead>\n",
       "  <tbody>\n",
       "    <tr>\n",
       "      <th>0</th>\n",
       "      <td>A844286</td>\n",
       "      <td>A844286</td>\n",
       "      <td>2021-10-18 13:20:00</td>\n",
       "      <td>2021-10-18T13:20:00.000</td>\n",
       "      <td>2019-10-14T00:00:00.000</td>\n",
       "      <td>Transfer</td>\n",
       "      <td>Partner</td>\n",
       "      <td>Dog</td>\n",
       "      <td>Intact Female</td>\n",
       "      <td>2 years</td>\n",
       "      <td>Yorkshire Terrier/Border Terrier</td>\n",
       "      <td>Tan</td>\n",
       "      <td>2 years</td>\n",
       "      <td>Female</td>\n",
       "    </tr>\n",
       "    <tr>\n",
       "      <th>1</th>\n",
       "      <td>A844174</td>\n",
       "      <td>NaN</td>\n",
       "      <td>2021-10-18 13:19:00</td>\n",
       "      <td>2021-10-18T13:19:00.000</td>\n",
       "      <td>2021-05-29T00:00:00.000</td>\n",
       "      <td>Transfer</td>\n",
       "      <td>Partner</td>\n",
       "      <td>Dog</td>\n",
       "      <td>Intact Female</td>\n",
       "      <td>4 months</td>\n",
       "      <td>Cairn Terrier</td>\n",
       "      <td>White/Black</td>\n",
       "      <td>4 months</td>\n",
       "      <td>Female</td>\n",
       "    </tr>\n",
       "    <tr>\n",
       "      <th>2</th>\n",
       "      <td>A844304</td>\n",
       "      <td>Scooby</td>\n",
       "      <td>2021-10-18 13:01:00</td>\n",
       "      <td>2021-10-18T13:01:00.000</td>\n",
       "      <td>2007-04-14T00:00:00.000</td>\n",
       "      <td>Return to Owner</td>\n",
       "      <td>NaN</td>\n",
       "      <td>Dog</td>\n",
       "      <td>Neutered Male</td>\n",
       "      <td>14 years</td>\n",
       "      <td>Chihuahua Shorthair</td>\n",
       "      <td>Brown/Tan</td>\n",
       "      <td>14 years</td>\n",
       "      <td>Male</td>\n",
       "    </tr>\n",
       "    <tr>\n",
       "      <th>3</th>\n",
       "      <td>A842910</td>\n",
       "      <td>*Jello</td>\n",
       "      <td>2021-10-18 12:08:00</td>\n",
       "      <td>2021-10-18T12:08:00.000</td>\n",
       "      <td>2018-09-23T00:00:00.000</td>\n",
       "      <td>Adoption</td>\n",
       "      <td>NaN</td>\n",
       "      <td>Dog</td>\n",
       "      <td>Neutered Male</td>\n",
       "      <td>3 years</td>\n",
       "      <td>Great Pyrenees/Labrador Retriever</td>\n",
       "      <td>White</td>\n",
       "      <td>3 years</td>\n",
       "      <td>Male</td>\n",
       "    </tr>\n",
       "    <tr>\n",
       "      <th>4</th>\n",
       "      <td>A844268</td>\n",
       "      <td>A844268</td>\n",
       "      <td>2021-10-18 11:12:00</td>\n",
       "      <td>2021-10-18T11:12:00.000</td>\n",
       "      <td>2020-04-14T00:00:00.000</td>\n",
       "      <td>Transfer</td>\n",
       "      <td>Partner</td>\n",
       "      <td>Dog</td>\n",
       "      <td>Intact Female</td>\n",
       "      <td>1 year</td>\n",
       "      <td>Cairn Terrier Mix</td>\n",
       "      <td>Black/White</td>\n",
       "      <td>1 years</td>\n",
       "      <td>Female</td>\n",
       "    </tr>\n",
       "  </tbody>\n",
       "</table>\n",
       "</div>"
      ],
      "text/plain": [
       "  animal_id     name            datetime                monthyear  \\\n",
       "0   A844286  A844286 2021-10-18 13:20:00  2021-10-18T13:20:00.000   \n",
       "1   A844174      NaN 2021-10-18 13:19:00  2021-10-18T13:19:00.000   \n",
       "2   A844304   Scooby 2021-10-18 13:01:00  2021-10-18T13:01:00.000   \n",
       "3   A842910   *Jello 2021-10-18 12:08:00  2021-10-18T12:08:00.000   \n",
       "4   A844268  A844268 2021-10-18 11:12:00  2021-10-18T11:12:00.000   \n",
       "\n",
       "             date_of_birth     outcome_type outcome_subtype animal_type  \\\n",
       "0  2019-10-14T00:00:00.000         Transfer         Partner         Dog   \n",
       "1  2021-05-29T00:00:00.000         Transfer         Partner         Dog   \n",
       "2  2007-04-14T00:00:00.000  Return to Owner             NaN         Dog   \n",
       "3  2018-09-23T00:00:00.000         Adoption             NaN         Dog   \n",
       "4  2020-04-14T00:00:00.000         Transfer         Partner         Dog   \n",
       "\n",
       "  sex_upon_outcome age_upon_outcome                              breed  \\\n",
       "0    Intact Female          2 years   Yorkshire Terrier/Border Terrier   \n",
       "1    Intact Female         4 months                      Cairn Terrier   \n",
       "2    Neutered Male         14 years                Chihuahua Shorthair   \n",
       "3    Neutered Male          3 years  Great Pyrenees/Labrador Retriever   \n",
       "4    Intact Female           1 year                  Cairn Terrier Mix   \n",
       "\n",
       "         color  new_age1 new_sex1  \n",
       "0          Tan   2 years   Female  \n",
       "1  White/Black  4 months   Female  \n",
       "2    Brown/Tan  14 years     Male  \n",
       "3        White   3 years     Male  \n",
       "4  Black/White   1 years   Female  "
      ]
     },
     "execution_count": 45,
     "metadata": {},
     "output_type": "execute_result"
    }
   ],
   "source": [
    "# `animals` DataFrame is left untouched\n",
    "animals_clean.head()"
   ]
  },
  {
   "cell_type": "code",
   "execution_count": 47,
   "metadata": {
    "ExecuteTime": {
     "end_time": "2021-10-18T21:15:32.446320Z",
     "start_time": "2021-10-18T21:15:32.437812Z"
    },
    "hidden": true
   },
   "outputs": [
    {
     "data": {
      "text/html": [
       "<div>\n",
       "<style scoped>\n",
       "    .dataframe tbody tr th:only-of-type {\n",
       "        vertical-align: middle;\n",
       "    }\n",
       "\n",
       "    .dataframe tbody tr th {\n",
       "        vertical-align: top;\n",
       "    }\n",
       "\n",
       "    .dataframe thead th {\n",
       "        text-align: right;\n",
       "    }\n",
       "</style>\n",
       "<table border=\"1\" class=\"dataframe\">\n",
       "  <thead>\n",
       "    <tr style=\"text-align: right;\">\n",
       "      <th></th>\n",
       "      <th>name</th>\n",
       "    </tr>\n",
       "  </thead>\n",
       "  <tbody>\n",
       "    <tr>\n",
       "      <th>0</th>\n",
       "      <td>A844286</td>\n",
       "    </tr>\n",
       "    <tr>\n",
       "      <th>1</th>\n",
       "      <td>UNKNOWN</td>\n",
       "    </tr>\n",
       "    <tr>\n",
       "      <th>2</th>\n",
       "      <td>Scooby</td>\n",
       "    </tr>\n",
       "    <tr>\n",
       "      <th>3</th>\n",
       "      <td>*Jello</td>\n",
       "    </tr>\n",
       "    <tr>\n",
       "      <th>4</th>\n",
       "      <td>A844268</td>\n",
       "    </tr>\n",
       "    <tr>\n",
       "      <th>5</th>\n",
       "      <td>Quincy</td>\n",
       "    </tr>\n",
       "    <tr>\n",
       "      <th>6</th>\n",
       "      <td>UNKNOWN</td>\n",
       "    </tr>\n",
       "    <tr>\n",
       "      <th>7</th>\n",
       "      <td>UNKNOWN</td>\n",
       "    </tr>\n",
       "    <tr>\n",
       "      <th>8</th>\n",
       "      <td>*Nana</td>\n",
       "    </tr>\n",
       "    <tr>\n",
       "      <th>9</th>\n",
       "      <td>*Ashley</td>\n",
       "    </tr>\n",
       "  </tbody>\n",
       "</table>\n",
       "</div>"
      ],
      "text/plain": [
       "      name\n",
       "0  A844286\n",
       "1  UNKNOWN\n",
       "2   Scooby\n",
       "3   *Jello\n",
       "4  A844268\n",
       "5   Quincy\n",
       "6  UNKNOWN\n",
       "7  UNKNOWN\n",
       "8    *Nana\n",
       "9  *Ashley"
      ]
     },
     "execution_count": 47,
     "metadata": {},
     "output_type": "execute_result"
    }
   ],
   "source": [
    "# Alternative way to fill missing values by specifying column(s) first\n",
    "animals_only_names = animals[['name']].fillna(value='UNKNOWN')\n",
    "animals_only_names.head(10)"
   ]
  },
  {
   "cell_type": "code",
   "execution_count": 48,
   "metadata": {
    "ExecuteTime": {
     "end_time": "2021-10-18T21:16:16.744228Z",
     "start_time": "2021-10-18T21:16:16.728899Z"
    },
    "hidden": true
   },
   "outputs": [
    {
     "data": {
      "text/html": [
       "<div>\n",
       "<style scoped>\n",
       "    .dataframe tbody tr th:only-of-type {\n",
       "        vertical-align: middle;\n",
       "    }\n",
       "\n",
       "    .dataframe tbody tr th {\n",
       "        vertical-align: top;\n",
       "    }\n",
       "\n",
       "    .dataframe thead th {\n",
       "        text-align: right;\n",
       "    }\n",
       "</style>\n",
       "<table border=\"1\" class=\"dataframe\">\n",
       "  <thead>\n",
       "    <tr style=\"text-align: right;\">\n",
       "      <th></th>\n",
       "      <th>animal_id</th>\n",
       "      <th>name</th>\n",
       "      <th>datetime</th>\n",
       "      <th>monthyear</th>\n",
       "      <th>date_of_birth</th>\n",
       "      <th>outcome_type</th>\n",
       "      <th>outcome_subtype</th>\n",
       "      <th>animal_type</th>\n",
       "      <th>sex_upon_outcome</th>\n",
       "      <th>age_upon_outcome</th>\n",
       "      <th>breed</th>\n",
       "      <th>color</th>\n",
       "      <th>new_age1</th>\n",
       "      <th>new_sex1</th>\n",
       "    </tr>\n",
       "  </thead>\n",
       "  <tbody>\n",
       "    <tr>\n",
       "      <th>0</th>\n",
       "      <td>A844286</td>\n",
       "      <td>A844286</td>\n",
       "      <td>2021-10-18 13:20:00</td>\n",
       "      <td>2021-10-18T13:20:00.000</td>\n",
       "      <td>2019-10-14T00:00:00.000</td>\n",
       "      <td>Transfer</td>\n",
       "      <td>Partner</td>\n",
       "      <td>Dog</td>\n",
       "      <td>Intact Female</td>\n",
       "      <td>2 years</td>\n",
       "      <td>Yorkshire Terrier/Border Terrier</td>\n",
       "      <td>Tan</td>\n",
       "      <td>2 years</td>\n",
       "      <td>Female</td>\n",
       "    </tr>\n",
       "    <tr>\n",
       "      <th>1</th>\n",
       "      <td>A844174</td>\n",
       "      <td>UNKNOWN</td>\n",
       "      <td>2021-10-18 13:19:00</td>\n",
       "      <td>2021-10-18T13:19:00.000</td>\n",
       "      <td>2021-05-29T00:00:00.000</td>\n",
       "      <td>Transfer</td>\n",
       "      <td>Partner</td>\n",
       "      <td>Dog</td>\n",
       "      <td>Intact Female</td>\n",
       "      <td>4 months</td>\n",
       "      <td>Cairn Terrier</td>\n",
       "      <td>White/Black</td>\n",
       "      <td>4 months</td>\n",
       "      <td>Female</td>\n",
       "    </tr>\n",
       "    <tr>\n",
       "      <th>2</th>\n",
       "      <td>A844304</td>\n",
       "      <td>Scooby</td>\n",
       "      <td>2021-10-18 13:01:00</td>\n",
       "      <td>2021-10-18T13:01:00.000</td>\n",
       "      <td>2007-04-14T00:00:00.000</td>\n",
       "      <td>Return to Owner</td>\n",
       "      <td>NaN</td>\n",
       "      <td>Dog</td>\n",
       "      <td>Neutered Male</td>\n",
       "      <td>14 years</td>\n",
       "      <td>Chihuahua Shorthair</td>\n",
       "      <td>Brown/Tan</td>\n",
       "      <td>14 years</td>\n",
       "      <td>Male</td>\n",
       "    </tr>\n",
       "    <tr>\n",
       "      <th>3</th>\n",
       "      <td>A842910</td>\n",
       "      <td>*Jello</td>\n",
       "      <td>2021-10-18 12:08:00</td>\n",
       "      <td>2021-10-18T12:08:00.000</td>\n",
       "      <td>2018-09-23T00:00:00.000</td>\n",
       "      <td>Adoption</td>\n",
       "      <td>NaN</td>\n",
       "      <td>Dog</td>\n",
       "      <td>Neutered Male</td>\n",
       "      <td>3 years</td>\n",
       "      <td>Great Pyrenees/Labrador Retriever</td>\n",
       "      <td>White</td>\n",
       "      <td>3 years</td>\n",
       "      <td>Male</td>\n",
       "    </tr>\n",
       "    <tr>\n",
       "      <th>4</th>\n",
       "      <td>A844268</td>\n",
       "      <td>A844268</td>\n",
       "      <td>2021-10-18 11:12:00</td>\n",
       "      <td>2021-10-18T11:12:00.000</td>\n",
       "      <td>2020-04-14T00:00:00.000</td>\n",
       "      <td>Transfer</td>\n",
       "      <td>Partner</td>\n",
       "      <td>Dog</td>\n",
       "      <td>Intact Female</td>\n",
       "      <td>1 year</td>\n",
       "      <td>Cairn Terrier Mix</td>\n",
       "      <td>Black/White</td>\n",
       "      <td>1 years</td>\n",
       "      <td>Female</td>\n",
       "    </tr>\n",
       "  </tbody>\n",
       "</table>\n",
       "</div>"
      ],
      "text/plain": [
       "  animal_id     name            datetime                monthyear  \\\n",
       "0   A844286  A844286 2021-10-18 13:20:00  2021-10-18T13:20:00.000   \n",
       "1   A844174  UNKNOWN 2021-10-18 13:19:00  2021-10-18T13:19:00.000   \n",
       "2   A844304   Scooby 2021-10-18 13:01:00  2021-10-18T13:01:00.000   \n",
       "3   A842910   *Jello 2021-10-18 12:08:00  2021-10-18T12:08:00.000   \n",
       "4   A844268  A844268 2021-10-18 11:12:00  2021-10-18T11:12:00.000   \n",
       "\n",
       "             date_of_birth     outcome_type outcome_subtype animal_type  \\\n",
       "0  2019-10-14T00:00:00.000         Transfer         Partner         Dog   \n",
       "1  2021-05-29T00:00:00.000         Transfer         Partner         Dog   \n",
       "2  2007-04-14T00:00:00.000  Return to Owner             NaN         Dog   \n",
       "3  2018-09-23T00:00:00.000         Adoption             NaN         Dog   \n",
       "4  2020-04-14T00:00:00.000         Transfer         Partner         Dog   \n",
       "\n",
       "  sex_upon_outcome age_upon_outcome                              breed  \\\n",
       "0    Intact Female          2 years   Yorkshire Terrier/Border Terrier   \n",
       "1    Intact Female         4 months                      Cairn Terrier   \n",
       "2    Neutered Male         14 years                Chihuahua Shorthair   \n",
       "3    Neutered Male          3 years  Great Pyrenees/Labrador Retriever   \n",
       "4    Intact Female           1 year                  Cairn Terrier Mix   \n",
       "\n",
       "         color  new_age1 new_sex1  \n",
       "0          Tan   2 years   Female  \n",
       "1  White/Black  4 months   Female  \n",
       "2    Brown/Tan  14 years     Male  \n",
       "3        White   3 years     Male  \n",
       "4  Black/White   1 years   Female  "
      ]
     },
     "execution_count": 48,
     "metadata": {},
     "output_type": "execute_result"
    }
   ],
   "source": [
    "# To keep changes in DataFrame, overwrite the column\n",
    "animals_clean[['name']] = animals_only_names\n",
    "animals_clean.head()"
   ]
  },
  {
   "cell_type": "markdown",
   "metadata": {
    "heading_collapsed": true,
    "hidden": true
   },
   "source": [
    "## Fill with a Reasonable Value"
   ]
  },
  {
   "cell_type": "markdown",
   "metadata": {
    "hidden": true
   },
   "source": [
    "Other times we don't know what the missing value was but we might have a reasonable guess. This allows us to still use the data point (row) in our analysis."
   ]
  },
  {
   "cell_type": "markdown",
   "metadata": {
    "hidden": true
   },
   "source": [
    "> Beware that filling in missing values can lead to you drawing incorrect conclusions. If most of the data from a column are missing, it's going to appear that the value you filled it in with is more common that it actually was!"
   ]
  },
  {
   "cell_type": "markdown",
   "metadata": {
    "hidden": true
   },
   "source": [
    "A lot of the time we'll use the _mean_ or _median_ for numerical values. Sometimes values like $0$ make sense since it might make sense in the context of how the data was collected.\n",
    "\n",
    "With categorical values, you might choose to fill the missing values with the most common value (the *mode*)."
   ]
  },
  {
   "cell_type": "markdown",
   "metadata": {
    "hidden": true
   },
   "source": [
    "> Similar to the previous subsection, we can use the `fillna()` method after specifying the value to fill"
   ]
  },
  {
   "cell_type": "code",
   "execution_count": 49,
   "metadata": {
    "ExecuteTime": {
     "end_time": "2021-10-18T21:18:18.500090Z",
     "start_time": "2021-10-18T21:18:18.494546Z"
    },
    "hidden": true
   },
   "outputs": [
    {
     "data": {
      "text/plain": [
       "Partner        183\n",
       "Foster         139\n",
       "Out State       52\n",
       "Rabies Risk     20\n",
       "Snr             17\n",
       "Suffering       16\n",
       "Aggressive       3\n",
       "Medical          3\n",
       "Field            2\n",
       "In Foster        2\n",
       "At Vet           1\n",
       "Barn             1\n",
       "Customer S       1\n",
       "Name: outcome_subtype, dtype: int64"
      ]
     },
     "execution_count": 49,
     "metadata": {},
     "output_type": "execute_result"
    }
   ],
   "source": [
    "## Let's find the most common value for `outcome_subtype`\n",
    "outcome_subtype_counts = animals['outcome_subtype'].value_counts()\n",
    "outcome_subtype_counts"
   ]
  },
  {
   "cell_type": "code",
   "execution_count": 50,
   "metadata": {
    "ExecuteTime": {
     "end_time": "2021-10-18T21:19:09.763940Z",
     "start_time": "2021-10-18T21:19:09.760088Z"
    },
    "hidden": true
   },
   "outputs": [
    {
     "name": "stdout",
     "output_type": "stream",
     "text": [
      "Index(['Partner', 'Foster', 'Out State', 'Rabies Risk', 'Snr', 'Suffering',\n",
      "       'Aggressive', 'Medical', 'Field', 'In Foster', 'At Vet', 'Barn',\n",
      "       'Customer S'],\n",
      "      dtype='object')\n"
     ]
    }
   ],
   "source": [
    "# This gets us just the values in order of most frequent to least frequent\n",
    "outcome_subtype_ordered = outcome_subtype_counts.index\n",
    "print(outcome_subtype_ordered)\n",
    "\n",
    "# Get the first one\n",
    "most_common_outcome_subtype = outcome_subtype_ordered[0]"
   ]
  },
  {
   "cell_type": "code",
   "execution_count": 51,
   "metadata": {
    "ExecuteTime": {
     "end_time": "2021-10-18T21:19:28.009167Z",
     "start_time": "2021-10-18T21:19:28.006038Z"
    }
   },
   "outputs": [
    {
     "data": {
      "text/plain": [
       "'Partner'"
      ]
     },
     "execution_count": 51,
     "metadata": {},
     "output_type": "execute_result"
    }
   ],
   "source": [
    "most_common_outcome_subtype"
   ]
  },
  {
   "cell_type": "code",
   "execution_count": 52,
   "metadata": {
    "ExecuteTime": {
     "end_time": "2021-10-18T21:19:43.475082Z",
     "start_time": "2021-10-18T21:19:43.470357Z"
    }
   },
   "outputs": [
    {
     "data": {
      "text/plain": [
       "0    Partner\n",
       "dtype: object"
      ]
     },
     "execution_count": 52,
     "metadata": {},
     "output_type": "execute_result"
    }
   ],
   "source": [
    "animals['outcome_subtype'].mode()"
   ]
  },
  {
   "cell_type": "code",
   "execution_count": 53,
   "metadata": {
    "ExecuteTime": {
     "end_time": "2021-10-18T21:19:57.134358Z",
     "start_time": "2021-10-18T21:19:57.129584Z"
    },
    "hidden": true
   },
   "outputs": [
    {
     "data": {
      "text/plain": [
       "'Partner'"
      ]
     },
     "execution_count": 53,
     "metadata": {},
     "output_type": "execute_result"
    }
   ],
   "source": [
    "# Using the built-in mode() method\n",
    "# Note this is Series so we have to get the first element (which is the value)\n",
    "most_common_outcome_subtype = animals['outcome_subtype'].mode()[0]\n",
    "most_common_outcome_subtype"
   ]
  },
  {
   "cell_type": "code",
   "execution_count": 54,
   "metadata": {
    "ExecuteTime": {
     "end_time": "2021-10-18T21:20:26.873576Z",
     "start_time": "2021-10-18T21:20:26.856310Z"
    },
    "hidden": true,
    "scrolled": true
   },
   "outputs": [
    {
     "data": {
      "text/html": [
       "<div>\n",
       "<style scoped>\n",
       "    .dataframe tbody tr th:only-of-type {\n",
       "        vertical-align: middle;\n",
       "    }\n",
       "\n",
       "    .dataframe tbody tr th {\n",
       "        vertical-align: top;\n",
       "    }\n",
       "\n",
       "    .dataframe thead th {\n",
       "        text-align: right;\n",
       "    }\n",
       "</style>\n",
       "<table border=\"1\" class=\"dataframe\">\n",
       "  <thead>\n",
       "    <tr style=\"text-align: right;\">\n",
       "      <th></th>\n",
       "      <th>animal_id</th>\n",
       "      <th>name</th>\n",
       "      <th>datetime</th>\n",
       "      <th>monthyear</th>\n",
       "      <th>date_of_birth</th>\n",
       "      <th>outcome_type</th>\n",
       "      <th>outcome_subtype</th>\n",
       "      <th>animal_type</th>\n",
       "      <th>sex_upon_outcome</th>\n",
       "      <th>age_upon_outcome</th>\n",
       "      <th>breed</th>\n",
       "      <th>color</th>\n",
       "      <th>new_age1</th>\n",
       "      <th>new_sex1</th>\n",
       "    </tr>\n",
       "  </thead>\n",
       "  <tbody>\n",
       "    <tr>\n",
       "      <th>0</th>\n",
       "      <td>A844286</td>\n",
       "      <td>A844286</td>\n",
       "      <td>2021-10-18 13:20:00</td>\n",
       "      <td>2021-10-18T13:20:00.000</td>\n",
       "      <td>2019-10-14T00:00:00.000</td>\n",
       "      <td>Transfer</td>\n",
       "      <td>Partner</td>\n",
       "      <td>Dog</td>\n",
       "      <td>Intact Female</td>\n",
       "      <td>2 years</td>\n",
       "      <td>Yorkshire Terrier/Border Terrier</td>\n",
       "      <td>Tan</td>\n",
       "      <td>2 years</td>\n",
       "      <td>Female</td>\n",
       "    </tr>\n",
       "    <tr>\n",
       "      <th>1</th>\n",
       "      <td>A844174</td>\n",
       "      <td>UNKNOWN</td>\n",
       "      <td>2021-10-18 13:19:00</td>\n",
       "      <td>2021-10-18T13:19:00.000</td>\n",
       "      <td>2021-05-29T00:00:00.000</td>\n",
       "      <td>Transfer</td>\n",
       "      <td>Partner</td>\n",
       "      <td>Dog</td>\n",
       "      <td>Intact Female</td>\n",
       "      <td>4 months</td>\n",
       "      <td>Cairn Terrier</td>\n",
       "      <td>White/Black</td>\n",
       "      <td>4 months</td>\n",
       "      <td>Female</td>\n",
       "    </tr>\n",
       "    <tr>\n",
       "      <th>2</th>\n",
       "      <td>A844304</td>\n",
       "      <td>Scooby</td>\n",
       "      <td>2021-10-18 13:01:00</td>\n",
       "      <td>2021-10-18T13:01:00.000</td>\n",
       "      <td>2007-04-14T00:00:00.000</td>\n",
       "      <td>Return to Owner</td>\n",
       "      <td>Partner</td>\n",
       "      <td>Dog</td>\n",
       "      <td>Neutered Male</td>\n",
       "      <td>14 years</td>\n",
       "      <td>Chihuahua Shorthair</td>\n",
       "      <td>Brown/Tan</td>\n",
       "      <td>14 years</td>\n",
       "      <td>Male</td>\n",
       "    </tr>\n",
       "    <tr>\n",
       "      <th>3</th>\n",
       "      <td>A842910</td>\n",
       "      <td>*Jello</td>\n",
       "      <td>2021-10-18 12:08:00</td>\n",
       "      <td>2021-10-18T12:08:00.000</td>\n",
       "      <td>2018-09-23T00:00:00.000</td>\n",
       "      <td>Adoption</td>\n",
       "      <td>Partner</td>\n",
       "      <td>Dog</td>\n",
       "      <td>Neutered Male</td>\n",
       "      <td>3 years</td>\n",
       "      <td>Great Pyrenees/Labrador Retriever</td>\n",
       "      <td>White</td>\n",
       "      <td>3 years</td>\n",
       "      <td>Male</td>\n",
       "    </tr>\n",
       "    <tr>\n",
       "      <th>4</th>\n",
       "      <td>A844268</td>\n",
       "      <td>A844268</td>\n",
       "      <td>2021-10-18 11:12:00</td>\n",
       "      <td>2021-10-18T11:12:00.000</td>\n",
       "      <td>2020-04-14T00:00:00.000</td>\n",
       "      <td>Transfer</td>\n",
       "      <td>Partner</td>\n",
       "      <td>Dog</td>\n",
       "      <td>Intact Female</td>\n",
       "      <td>1 year</td>\n",
       "      <td>Cairn Terrier Mix</td>\n",
       "      <td>Black/White</td>\n",
       "      <td>1 years</td>\n",
       "      <td>Female</td>\n",
       "    </tr>\n",
       "  </tbody>\n",
       "</table>\n",
       "</div>"
      ],
      "text/plain": [
       "  animal_id     name            datetime                monthyear  \\\n",
       "0   A844286  A844286 2021-10-18 13:20:00  2021-10-18T13:20:00.000   \n",
       "1   A844174  UNKNOWN 2021-10-18 13:19:00  2021-10-18T13:19:00.000   \n",
       "2   A844304   Scooby 2021-10-18 13:01:00  2021-10-18T13:01:00.000   \n",
       "3   A842910   *Jello 2021-10-18 12:08:00  2021-10-18T12:08:00.000   \n",
       "4   A844268  A844268 2021-10-18 11:12:00  2021-10-18T11:12:00.000   \n",
       "\n",
       "             date_of_birth     outcome_type outcome_subtype animal_type  \\\n",
       "0  2019-10-14T00:00:00.000         Transfer         Partner         Dog   \n",
       "1  2021-05-29T00:00:00.000         Transfer         Partner         Dog   \n",
       "2  2007-04-14T00:00:00.000  Return to Owner         Partner         Dog   \n",
       "3  2018-09-23T00:00:00.000         Adoption         Partner         Dog   \n",
       "4  2020-04-14T00:00:00.000         Transfer         Partner         Dog   \n",
       "\n",
       "  sex_upon_outcome age_upon_outcome                              breed  \\\n",
       "0    Intact Female          2 years   Yorkshire Terrier/Border Terrier   \n",
       "1    Intact Female         4 months                      Cairn Terrier   \n",
       "2    Neutered Male         14 years                Chihuahua Shorthair   \n",
       "3    Neutered Male          3 years  Great Pyrenees/Labrador Retriever   \n",
       "4    Intact Female           1 year                  Cairn Terrier Mix   \n",
       "\n",
       "         color  new_age1 new_sex1  \n",
       "0          Tan   2 years   Female  \n",
       "1  White/Black  4 months   Female  \n",
       "2    Brown/Tan  14 years     Male  \n",
       "3        White   3 years     Male  \n",
       "4  Black/White   1 years   Female  "
      ]
     },
     "execution_count": 54,
     "metadata": {},
     "output_type": "execute_result"
    }
   ],
   "source": [
    "# Similar to the previous subsection, we can use fillna() and update the DF\n",
    "animals_clean['outcome_subtype'] = animals['outcome_subtype']\\\n",
    ".fillna(most_common_outcome_subtype)\n",
    "animals_clean.head()"
   ]
  },
  {
   "cell_type": "markdown",
   "metadata": {
    "heading_collapsed": true,
    "hidden": true
   },
   "source": [
    "## Specify That the Data Were Missing"
   ]
  },
  {
   "cell_type": "markdown",
   "metadata": {
    "hidden": true
   },
   "source": [
    "Even after filling in missing values, it might make sense to specify that there were missing data. You can document that the data was missing by creating a new column that represents whether the data was originally missing or not."
   ]
  },
  {
   "cell_type": "markdown",
   "metadata": {
    "hidden": true
   },
   "source": [
    "This can be helpful when you suspect that the fact the data was missing could be important for an analysis."
   ]
  },
  {
   "cell_type": "markdown",
   "metadata": {
    "hidden": true
   },
   "source": [
    "> Since we already removed some missing values, we're going to reference back to the original `animals` DataFrame. (Good thing we didn't overwrite it! 😉)"
   ]
  },
  {
   "cell_type": "code",
   "execution_count": 55,
   "metadata": {
    "ExecuteTime": {
     "end_time": "2021-10-18T21:21:56.764215Z",
     "start_time": "2021-10-18T21:21:56.758589Z"
    },
    "hidden": true
   },
   "outputs": [
    {
     "data": {
      "text/plain": [
       "0      False\n",
       "1      False\n",
       "2       True\n",
       "3       True\n",
       "4      False\n",
       "       ...  \n",
       "995    False\n",
       "996     True\n",
       "997     True\n",
       "998     True\n",
       "999     True\n",
       "Name: outcome_subtype, Length: 1000, dtype: bool"
      ]
     },
     "execution_count": 55,
     "metadata": {},
     "output_type": "execute_result"
    }
   ],
   "source": [
    "# Let's specify which values were originally missing in \"outcome_subtype\"\n",
    "missing_outcome_subtypes = animals['outcome_subtype'].isna()\n",
    "missing_outcome_subtypes"
   ]
  },
  {
   "cell_type": "code",
   "execution_count": 56,
   "metadata": {
    "ExecuteTime": {
     "end_time": "2021-10-18T21:23:09.836177Z",
     "start_time": "2021-10-18T21:23:09.819417Z"
    },
    "hidden": true
   },
   "outputs": [
    {
     "data": {
      "text/html": [
       "<div>\n",
       "<style scoped>\n",
       "    .dataframe tbody tr th:only-of-type {\n",
       "        vertical-align: middle;\n",
       "    }\n",
       "\n",
       "    .dataframe tbody tr th {\n",
       "        vertical-align: top;\n",
       "    }\n",
       "\n",
       "    .dataframe thead th {\n",
       "        text-align: right;\n",
       "    }\n",
       "</style>\n",
       "<table border=\"1\" class=\"dataframe\">\n",
       "  <thead>\n",
       "    <tr style=\"text-align: right;\">\n",
       "      <th></th>\n",
       "      <th>animal_id</th>\n",
       "      <th>name</th>\n",
       "      <th>datetime</th>\n",
       "      <th>monthyear</th>\n",
       "      <th>date_of_birth</th>\n",
       "      <th>outcome_type</th>\n",
       "      <th>outcome_subtype</th>\n",
       "      <th>animal_type</th>\n",
       "      <th>sex_upon_outcome</th>\n",
       "      <th>age_upon_outcome</th>\n",
       "      <th>breed</th>\n",
       "      <th>color</th>\n",
       "      <th>new_age1</th>\n",
       "      <th>new_sex1</th>\n",
       "      <th>outcome_subtype_missing</th>\n",
       "    </tr>\n",
       "  </thead>\n",
       "  <tbody>\n",
       "    <tr>\n",
       "      <th>0</th>\n",
       "      <td>A844286</td>\n",
       "      <td>A844286</td>\n",
       "      <td>2021-10-18 13:20:00</td>\n",
       "      <td>2021-10-18T13:20:00.000</td>\n",
       "      <td>2019-10-14T00:00:00.000</td>\n",
       "      <td>Transfer</td>\n",
       "      <td>Partner</td>\n",
       "      <td>Dog</td>\n",
       "      <td>Intact Female</td>\n",
       "      <td>2 years</td>\n",
       "      <td>Yorkshire Terrier/Border Terrier</td>\n",
       "      <td>Tan</td>\n",
       "      <td>2 years</td>\n",
       "      <td>Female</td>\n",
       "      <td>False</td>\n",
       "    </tr>\n",
       "    <tr>\n",
       "      <th>1</th>\n",
       "      <td>A844174</td>\n",
       "      <td>UNKNOWN</td>\n",
       "      <td>2021-10-18 13:19:00</td>\n",
       "      <td>2021-10-18T13:19:00.000</td>\n",
       "      <td>2021-05-29T00:00:00.000</td>\n",
       "      <td>Transfer</td>\n",
       "      <td>Partner</td>\n",
       "      <td>Dog</td>\n",
       "      <td>Intact Female</td>\n",
       "      <td>4 months</td>\n",
       "      <td>Cairn Terrier</td>\n",
       "      <td>White/Black</td>\n",
       "      <td>4 months</td>\n",
       "      <td>Female</td>\n",
       "      <td>False</td>\n",
       "    </tr>\n",
       "    <tr>\n",
       "      <th>2</th>\n",
       "      <td>A844304</td>\n",
       "      <td>Scooby</td>\n",
       "      <td>2021-10-18 13:01:00</td>\n",
       "      <td>2021-10-18T13:01:00.000</td>\n",
       "      <td>2007-04-14T00:00:00.000</td>\n",
       "      <td>Return to Owner</td>\n",
       "      <td>Partner</td>\n",
       "      <td>Dog</td>\n",
       "      <td>Neutered Male</td>\n",
       "      <td>14 years</td>\n",
       "      <td>Chihuahua Shorthair</td>\n",
       "      <td>Brown/Tan</td>\n",
       "      <td>14 years</td>\n",
       "      <td>Male</td>\n",
       "      <td>True</td>\n",
       "    </tr>\n",
       "    <tr>\n",
       "      <th>3</th>\n",
       "      <td>A842910</td>\n",
       "      <td>*Jello</td>\n",
       "      <td>2021-10-18 12:08:00</td>\n",
       "      <td>2021-10-18T12:08:00.000</td>\n",
       "      <td>2018-09-23T00:00:00.000</td>\n",
       "      <td>Adoption</td>\n",
       "      <td>Partner</td>\n",
       "      <td>Dog</td>\n",
       "      <td>Neutered Male</td>\n",
       "      <td>3 years</td>\n",
       "      <td>Great Pyrenees/Labrador Retriever</td>\n",
       "      <td>White</td>\n",
       "      <td>3 years</td>\n",
       "      <td>Male</td>\n",
       "      <td>True</td>\n",
       "    </tr>\n",
       "    <tr>\n",
       "      <th>4</th>\n",
       "      <td>A844268</td>\n",
       "      <td>A844268</td>\n",
       "      <td>2021-10-18 11:12:00</td>\n",
       "      <td>2021-10-18T11:12:00.000</td>\n",
       "      <td>2020-04-14T00:00:00.000</td>\n",
       "      <td>Transfer</td>\n",
       "      <td>Partner</td>\n",
       "      <td>Dog</td>\n",
       "      <td>Intact Female</td>\n",
       "      <td>1 year</td>\n",
       "      <td>Cairn Terrier Mix</td>\n",
       "      <td>Black/White</td>\n",
       "      <td>1 years</td>\n",
       "      <td>Female</td>\n",
       "      <td>False</td>\n",
       "    </tr>\n",
       "  </tbody>\n",
       "</table>\n",
       "</div>"
      ],
      "text/plain": [
       "  animal_id     name            datetime                monthyear  \\\n",
       "0   A844286  A844286 2021-10-18 13:20:00  2021-10-18T13:20:00.000   \n",
       "1   A844174  UNKNOWN 2021-10-18 13:19:00  2021-10-18T13:19:00.000   \n",
       "2   A844304   Scooby 2021-10-18 13:01:00  2021-10-18T13:01:00.000   \n",
       "3   A842910   *Jello 2021-10-18 12:08:00  2021-10-18T12:08:00.000   \n",
       "4   A844268  A844268 2021-10-18 11:12:00  2021-10-18T11:12:00.000   \n",
       "\n",
       "             date_of_birth     outcome_type outcome_subtype animal_type  \\\n",
       "0  2019-10-14T00:00:00.000         Transfer         Partner         Dog   \n",
       "1  2021-05-29T00:00:00.000         Transfer         Partner         Dog   \n",
       "2  2007-04-14T00:00:00.000  Return to Owner         Partner         Dog   \n",
       "3  2018-09-23T00:00:00.000         Adoption         Partner         Dog   \n",
       "4  2020-04-14T00:00:00.000         Transfer         Partner         Dog   \n",
       "\n",
       "  sex_upon_outcome age_upon_outcome                              breed  \\\n",
       "0    Intact Female          2 years   Yorkshire Terrier/Border Terrier   \n",
       "1    Intact Female         4 months                      Cairn Terrier   \n",
       "2    Neutered Male         14 years                Chihuahua Shorthair   \n",
       "3    Neutered Male          3 years  Great Pyrenees/Labrador Retriever   \n",
       "4    Intact Female           1 year                  Cairn Terrier Mix   \n",
       "\n",
       "         color  new_age1 new_sex1  outcome_subtype_missing  \n",
       "0          Tan   2 years   Female                    False  \n",
       "1  White/Black  4 months   Female                    False  \n",
       "2    Brown/Tan  14 years     Male                     True  \n",
       "3        White   3 years     Male                     True  \n",
       "4  Black/White   1 years   Female                    False  "
      ]
     },
     "execution_count": 56,
     "metadata": {},
     "output_type": "execute_result"
    }
   ],
   "source": [
    "# Create new column for missing outcome subtypes matched w/ replaced values\n",
    "animals_clean['outcome_subtype_missing'] = missing_outcome_subtypes\n",
    "animals_clean.head()"
   ]
  },
  {
   "cell_type": "markdown",
   "metadata": {
    "heading_collapsed": true,
    "hidden": true
   },
   "source": [
    "## Drop Missing Data"
   ]
  },
  {
   "cell_type": "markdown",
   "metadata": {
    "hidden": true
   },
   "source": [
    "You should try to keep as much relevant data as possible, but sometimes the other methods don't make as much sense and it's better to remove or **drop** the missing data."
   ]
  },
  {
   "cell_type": "markdown",
   "metadata": {
    "hidden": true
   },
   "source": [
    "We typically drop missing data if very little data would be lost and/or trying to fill in the values wouldn't make sense for our use case. For example, if you're trying to predict the outcome based on the other features/columns it might not make sense to fill in those missing values with something you can't confirm."
   ]
  },
  {
   "cell_type": "markdown",
   "metadata": {
    "hidden": true
   },
   "source": [
    "> We noticed that `outcome_type` had only a few missing values. It might not be worth trying to handle those few missing values. We can pretend that the `outcome_type` was an important feature and without it the rest of the row's data is of little importance to us.\n",
    ">\n",
    "> So we'll decide to drop the row if a value from `outcome_type` is missing. We'll use Pandas' [`dropna()` method](https://pandas.pydata.org/pandas-docs/stable/reference/api/pandas.DataFrame.dropna.html)."
   ]
  },
  {
   "cell_type": "code",
   "execution_count": 57,
   "metadata": {
    "ExecuteTime": {
     "end_time": "2021-10-18T21:24:24.425104Z",
     "start_time": "2021-10-18T21:24:24.420693Z"
    }
   },
   "outputs": [
    {
     "data": {
      "text/plain": [
       "999"
      ]
     },
     "execution_count": 57,
     "metadata": {},
     "output_type": "execute_result"
    }
   ],
   "source": [
    "animals_clean['outcome_type'].value_counts().sum()"
   ]
  },
  {
   "cell_type": "code",
   "execution_count": 58,
   "metadata": {
    "ExecuteTime": {
     "end_time": "2021-10-18T21:25:50.210870Z",
     "start_time": "2021-10-18T21:25:50.190137Z"
    },
    "hidden": true
   },
   "outputs": [
    {
     "data": {
      "text/html": [
       "<div>\n",
       "<style scoped>\n",
       "    .dataframe tbody tr th:only-of-type {\n",
       "        vertical-align: middle;\n",
       "    }\n",
       "\n",
       "    .dataframe tbody tr th {\n",
       "        vertical-align: top;\n",
       "    }\n",
       "\n",
       "    .dataframe thead th {\n",
       "        text-align: right;\n",
       "    }\n",
       "</style>\n",
       "<table border=\"1\" class=\"dataframe\">\n",
       "  <thead>\n",
       "    <tr style=\"text-align: right;\">\n",
       "      <th></th>\n",
       "      <th>animal_id</th>\n",
       "      <th>name</th>\n",
       "      <th>datetime</th>\n",
       "      <th>monthyear</th>\n",
       "      <th>date_of_birth</th>\n",
       "      <th>outcome_type</th>\n",
       "      <th>outcome_subtype</th>\n",
       "      <th>animal_type</th>\n",
       "      <th>sex_upon_outcome</th>\n",
       "      <th>age_upon_outcome</th>\n",
       "      <th>breed</th>\n",
       "      <th>color</th>\n",
       "      <th>new_age1</th>\n",
       "      <th>new_sex1</th>\n",
       "      <th>outcome_subtype_missing</th>\n",
       "    </tr>\n",
       "  </thead>\n",
       "  <tbody>\n",
       "    <tr>\n",
       "      <th>0</th>\n",
       "      <td>A844286</td>\n",
       "      <td>A844286</td>\n",
       "      <td>2021-10-18 13:20:00</td>\n",
       "      <td>2021-10-18T13:20:00.000</td>\n",
       "      <td>2019-10-14T00:00:00.000</td>\n",
       "      <td>Transfer</td>\n",
       "      <td>Partner</td>\n",
       "      <td>Dog</td>\n",
       "      <td>Intact Female</td>\n",
       "      <td>2 years</td>\n",
       "      <td>Yorkshire Terrier/Border Terrier</td>\n",
       "      <td>Tan</td>\n",
       "      <td>2 years</td>\n",
       "      <td>Female</td>\n",
       "      <td>False</td>\n",
       "    </tr>\n",
       "    <tr>\n",
       "      <th>1</th>\n",
       "      <td>A844174</td>\n",
       "      <td>UNKNOWN</td>\n",
       "      <td>2021-10-18 13:19:00</td>\n",
       "      <td>2021-10-18T13:19:00.000</td>\n",
       "      <td>2021-05-29T00:00:00.000</td>\n",
       "      <td>Transfer</td>\n",
       "      <td>Partner</td>\n",
       "      <td>Dog</td>\n",
       "      <td>Intact Female</td>\n",
       "      <td>4 months</td>\n",
       "      <td>Cairn Terrier</td>\n",
       "      <td>White/Black</td>\n",
       "      <td>4 months</td>\n",
       "      <td>Female</td>\n",
       "      <td>False</td>\n",
       "    </tr>\n",
       "    <tr>\n",
       "      <th>2</th>\n",
       "      <td>A844304</td>\n",
       "      <td>Scooby</td>\n",
       "      <td>2021-10-18 13:01:00</td>\n",
       "      <td>2021-10-18T13:01:00.000</td>\n",
       "      <td>2007-04-14T00:00:00.000</td>\n",
       "      <td>Return to Owner</td>\n",
       "      <td>Partner</td>\n",
       "      <td>Dog</td>\n",
       "      <td>Neutered Male</td>\n",
       "      <td>14 years</td>\n",
       "      <td>Chihuahua Shorthair</td>\n",
       "      <td>Brown/Tan</td>\n",
       "      <td>14 years</td>\n",
       "      <td>Male</td>\n",
       "      <td>True</td>\n",
       "    </tr>\n",
       "    <tr>\n",
       "      <th>3</th>\n",
       "      <td>A842910</td>\n",
       "      <td>*Jello</td>\n",
       "      <td>2021-10-18 12:08:00</td>\n",
       "      <td>2021-10-18T12:08:00.000</td>\n",
       "      <td>2018-09-23T00:00:00.000</td>\n",
       "      <td>Adoption</td>\n",
       "      <td>Partner</td>\n",
       "      <td>Dog</td>\n",
       "      <td>Neutered Male</td>\n",
       "      <td>3 years</td>\n",
       "      <td>Great Pyrenees/Labrador Retriever</td>\n",
       "      <td>White</td>\n",
       "      <td>3 years</td>\n",
       "      <td>Male</td>\n",
       "      <td>True</td>\n",
       "    </tr>\n",
       "    <tr>\n",
       "      <th>4</th>\n",
       "      <td>A844268</td>\n",
       "      <td>A844268</td>\n",
       "      <td>2021-10-18 11:12:00</td>\n",
       "      <td>2021-10-18T11:12:00.000</td>\n",
       "      <td>2020-04-14T00:00:00.000</td>\n",
       "      <td>Transfer</td>\n",
       "      <td>Partner</td>\n",
       "      <td>Dog</td>\n",
       "      <td>Intact Female</td>\n",
       "      <td>1 year</td>\n",
       "      <td>Cairn Terrier Mix</td>\n",
       "      <td>Black/White</td>\n",
       "      <td>1 years</td>\n",
       "      <td>Female</td>\n",
       "      <td>False</td>\n",
       "    </tr>\n",
       "  </tbody>\n",
       "</table>\n",
       "</div>"
      ],
      "text/plain": [
       "  animal_id     name            datetime                monthyear  \\\n",
       "0   A844286  A844286 2021-10-18 13:20:00  2021-10-18T13:20:00.000   \n",
       "1   A844174  UNKNOWN 2021-10-18 13:19:00  2021-10-18T13:19:00.000   \n",
       "2   A844304   Scooby 2021-10-18 13:01:00  2021-10-18T13:01:00.000   \n",
       "3   A842910   *Jello 2021-10-18 12:08:00  2021-10-18T12:08:00.000   \n",
       "4   A844268  A844268 2021-10-18 11:12:00  2021-10-18T11:12:00.000   \n",
       "\n",
       "             date_of_birth     outcome_type outcome_subtype animal_type  \\\n",
       "0  2019-10-14T00:00:00.000         Transfer         Partner         Dog   \n",
       "1  2021-05-29T00:00:00.000         Transfer         Partner         Dog   \n",
       "2  2007-04-14T00:00:00.000  Return to Owner         Partner         Dog   \n",
       "3  2018-09-23T00:00:00.000         Adoption         Partner         Dog   \n",
       "4  2020-04-14T00:00:00.000         Transfer         Partner         Dog   \n",
       "\n",
       "  sex_upon_outcome age_upon_outcome                              breed  \\\n",
       "0    Intact Female          2 years   Yorkshire Terrier/Border Terrier   \n",
       "1    Intact Female         4 months                      Cairn Terrier   \n",
       "2    Neutered Male         14 years                Chihuahua Shorthair   \n",
       "3    Neutered Male          3 years  Great Pyrenees/Labrador Retriever   \n",
       "4    Intact Female           1 year                  Cairn Terrier Mix   \n",
       "\n",
       "         color  new_age1 new_sex1  outcome_subtype_missing  \n",
       "0          Tan   2 years   Female                    False  \n",
       "1  White/Black  4 months   Female                    False  \n",
       "2    Brown/Tan  14 years     Male                     True  \n",
       "3        White   3 years     Male                     True  \n",
       "4  Black/White   1 years   Female                    False  "
      ]
     },
     "execution_count": 58,
     "metadata": {},
     "output_type": "execute_result"
    }
   ],
   "source": [
    "# This will drop any row (axis=0) or column (axis=1) that has missing values\n",
    "animals_clean = animals_clean.dropna(   # Note we're overwriting animals_clean\n",
    "                                axis=0, # This is the default & will drop rows; axis=1 for cols\n",
    "                                subset=['outcome_type'] # Specific labels to consider (defaults to all)\n",
    ")\n",
    "animals_clean.head()"
   ]
  },
  {
   "cell_type": "code",
   "execution_count": 59,
   "metadata": {
    "ExecuteTime": {
     "end_time": "2021-10-18T21:25:55.342463Z",
     "start_time": "2021-10-18T21:25:55.339273Z"
    }
   },
   "outputs": [
    {
     "data": {
      "text/plain": [
       "(999, 15)"
      ]
     },
     "execution_count": 59,
     "metadata": {},
     "output_type": "execute_result"
    }
   ],
   "source": [
    "animals_clean.shape"
   ]
  },
  {
   "cell_type": "markdown",
   "metadata": {
    "heading_collapsed": true,
    "hidden": true
   },
   "source": [
    "## Comparing Before and After"
   ]
  },
  {
   "cell_type": "markdown",
   "metadata": {
    "hidden": true
   },
   "source": [
    "We can now see all the work we did!"
   ]
  },
  {
   "cell_type": "code",
   "execution_count": null,
   "metadata": {
    "hidden": true
   },
   "outputs": [],
   "source": [
    "# Original data\n",
    "animals.info()"
   ]
  },
  {
   "cell_type": "code",
   "execution_count": null,
   "metadata": {
    "hidden": true
   },
   "outputs": [],
   "source": [
    "# Missing data cleaned\n",
    "animals_clean.info()"
   ]
  },
  {
   "cell_type": "code",
   "execution_count": null,
   "metadata": {},
   "outputs": [],
   "source": [
    "animals_clean.reset_index()"
   ]
  },
  {
   "cell_type": "markdown",
   "metadata": {
    "heading_collapsed": true
   },
   "source": [
    "# Level Up: `.applymap()`"
   ]
  },
  {
   "cell_type": "markdown",
   "metadata": {
    "hidden": true
   },
   "source": [
    "`.applymap()` is used to apply a transformation to each element of a DataFrame."
   ]
  },
  {
   "cell_type": "code",
   "execution_count": null,
   "metadata": {
    "hidden": true,
    "scrolled": true
   },
   "outputs": [],
   "source": [
    "# This line will apply the base `type()` function to \n",
    "# all entries of the DataFrame.\n",
    "\n",
    "animals.applymap(type)"
   ]
  },
  {
   "cell_type": "markdown",
   "metadata": {},
   "source": [
    "# Level Up: `pandas.Series.str`"
   ]
  },
  {
   "cell_type": "markdown",
   "metadata": {},
   "source": [
    "To access normal `str` methods for each of the values in a categorical column of a DataFrame, use the following construction:"
   ]
  },
  {
   "cell_type": "code",
   "execution_count": null,
   "metadata": {},
   "outputs": [],
   "source": [
    "animals[animals['color'].str.contains('Black')]"
   ]
  },
  {
   "cell_type": "markdown",
   "metadata": {
    "heading_collapsed": true
   },
   "source": [
    "# Level Up: Faster NumPy Methods"
   ]
  },
  {
   "cell_type": "markdown",
   "metadata": {
    "hidden": true
   },
   "source": [
    "In general, `np.where()` and `np.select()` are faster than `map()`. This won't matter too much with reasonably-sized data but can be a consideration for ***big data***."
   ]
  },
  {
   "cell_type": "markdown",
   "metadata": {
    "heading_collapsed": true,
    "hidden": true
   },
   "source": [
    "## NumPy's `where()` Method"
   ]
  },
  {
   "cell_type": "code",
   "execution_count": null,
   "metadata": {
    "hidden": true,
    "scrolled": true
   },
   "outputs": [],
   "source": [
    "animals['new_age2'] = np.where(animals['age_upon_outcome'] == '1 year',\n",
    "                              '1 years', animals['age_upon_outcome'])\n",
    "animals['new_age2']"
   ]
  },
  {
   "cell_type": "code",
   "execution_count": null,
   "metadata": {
    "hidden": true
   },
   "outputs": [],
   "source": [
    "# Check we got the same results with np.where()\n",
    "(animals['new_age1'] != animals['new_age2']).sum()"
   ]
  },
  {
   "cell_type": "code",
   "execution_count": null,
   "metadata": {
    "hidden": true
   },
   "outputs": [],
   "source": [
    "# Let's time how long it takes .map() to run by running it multiple times\n",
    "%timeit animals['new_age1'] = animals['age_upon_outcome'].map(one_year)"
   ]
  },
  {
   "cell_type": "code",
   "execution_count": null,
   "metadata": {
    "hidden": true
   },
   "outputs": [],
   "source": [
    "# Let's time how long it takes np.where() to run by running it multiple times\n",
    "%timeit animals['new_age2'] = np.where(animals['age_upon_outcome'] == '1 year',\\\n",
    "                                       '1 years',animals['age_upon_outcome'])"
   ]
  },
  {
   "cell_type": "markdown",
   "metadata": {
    "heading_collapsed": true,
    "hidden": true
   },
   "source": [
    "## NumPy's `select()` Method"
   ]
  },
  {
   "cell_type": "markdown",
   "metadata": {
    "hidden": true
   },
   "source": [
    "Again, `numpy` will be faster:"
   ]
  },
  {
   "cell_type": "code",
   "execution_count": null,
   "metadata": {
    "hidden": true
   },
   "outputs": [],
   "source": [
    "conditions = [animals['sex_upon_outcome'] == 'Neutered Male',\n",
    "             animals['sex_upon_outcome'] == 'Intact Male',\n",
    "             animals['sex_upon_outcome'] == 'Spayed Female',\n",
    "             animals['sex_upon_outcome'] == 'Intact Female',\n",
    "             animals['sex_upon_outcome'] == 'Unknown',\n",
    "             animals['sex_upon_outcome'] == 'NULL']\n",
    "\n",
    "choices = ['Male', 'Male', 'Female', 'Female', 'Unknown', 'Unknown']"
   ]
  },
  {
   "cell_type": "code",
   "execution_count": null,
   "metadata": {
    "hidden": true
   },
   "outputs": [],
   "source": [
    "animals['new_sex2'] = np.select(conditions, choices)\n",
    "animals['new_sex2']"
   ]
  },
  {
   "cell_type": "code",
   "execution_count": null,
   "metadata": {
    "hidden": true
   },
   "outputs": [],
   "source": [
    "# Check we got the same results with np.where()\n",
    "(animals['new_sex1'] != animals['new_sex2']).sum()"
   ]
  },
  {
   "cell_type": "code",
   "execution_count": null,
   "metadata": {
    "hidden": true
   },
   "outputs": [],
   "source": [
    "# Let's time how long it takes .map() to run by running it multiple times\n",
    "%timeit animals['new_sex1'] = animals['sex_upon_outcome'].map(sex_mapper)"
   ]
  },
  {
   "cell_type": "code",
   "execution_count": null,
   "metadata": {
    "hidden": true
   },
   "outputs": [],
   "source": [
    "# Let's time how long it takes np.select() to run by running it multiple times\n",
    "%timeit animals['new_sex2'] = np.select(conditions, choices)"
   ]
  }
 ],
 "metadata": {
  "hide_input": false,
  "kernelspec": {
   "display_name": "Python 3",
   "language": "python",
   "name": "python3"
  },
  "language_info": {
   "codemirror_mode": {
    "name": "ipython",
    "version": 3
   },
   "file_extension": ".py",
   "mimetype": "text/x-python",
   "name": "python",
   "nbconvert_exporter": "python",
   "pygments_lexer": "ipython3",
   "version": "3.8.8"
  },
  "latex_envs": {
   "LaTeX_envs_menu_present": true,
   "autoclose": false,
   "autocomplete": true,
   "bibliofile": "biblio.bib",
   "cite_by": "apalike",
   "current_citInitial": 1,
   "eqLabelWithNumbers": true,
   "eqNumInitial": 1,
   "hotkeys": {
    "equation": "Ctrl-E",
    "itemize": "Ctrl-I"
   },
   "labels_anchors": false,
   "latex_user_defs": false,
   "report_style_numbering": false,
   "user_envs_cfg": false
  },
  "nbTranslate": {
   "displayLangs": [
    "*"
   ],
   "hotkey": "alt-t",
   "langInMainMenu": true,
   "sourceLang": "en",
   "targetLang": "fr",
   "useGoogleTranslate": true
  },
  "toc": {
   "base_numbering": 1,
   "nav_menu": {},
   "number_sections": true,
   "sideBar": true,
   "skip_h1_title": false,
   "title_cell": "Table of Contents",
   "title_sidebar": "TOC",
   "toc_cell": true,
   "toc_position": {
    "height": "calc(100% - 180px)",
    "left": "10px",
    "top": "150px",
    "width": "267px"
   },
   "toc_section_display": true,
   "toc_window_display": false
  }
 },
 "nbformat": 4,
 "nbformat_minor": 4
}
