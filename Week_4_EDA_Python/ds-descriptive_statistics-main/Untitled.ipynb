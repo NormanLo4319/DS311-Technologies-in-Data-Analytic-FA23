{
 "cells": [
  {
   "cell_type": "code",
   "execution_count": 2,
   "id": "9744b325",
   "metadata": {
    "ExecuteTime": {
     "end_time": "2021-10-19T20:10:38.239028Z",
     "start_time": "2021-10-19T20:10:37.746423Z"
    }
   },
   "outputs": [],
   "source": [
    "import pandas as pd\n",
    "import numpy as np"
   ]
  },
  {
   "cell_type": "code",
   "execution_count": 3,
   "id": "cc2b8332",
   "metadata": {
    "ExecuteTime": {
     "end_time": "2021-10-19T20:10:39.661419Z",
     "start_time": "2021-10-19T20:10:39.642322Z"
    }
   },
   "outputs": [
    {
     "data": {
      "text/html": [
       "<div>\n",
       "<style scoped>\n",
       "    .dataframe tbody tr th:only-of-type {\n",
       "        vertical-align: middle;\n",
       "    }\n",
       "\n",
       "    .dataframe tbody tr th {\n",
       "        vertical-align: top;\n",
       "    }\n",
       "\n",
       "    .dataframe thead th {\n",
       "        text-align: right;\n",
       "    }\n",
       "</style>\n",
       "<table border=\"1\" class=\"dataframe\">\n",
       "  <thead>\n",
       "    <tr style=\"text-align: right;\">\n",
       "      <th></th>\n",
       "      <th>Customer</th>\n",
       "      <th>Costs_1</th>\n",
       "      <th>Costs_2</th>\n",
       "      <th>Costs_3</th>\n",
       "    </tr>\n",
       "  </thead>\n",
       "  <tbody>\n",
       "    <tr>\n",
       "      <th>0</th>\n",
       "      <td>Norman</td>\n",
       "      <td>0</td>\n",
       "      <td>0</td>\n",
       "      <td>0</td>\n",
       "    </tr>\n",
       "    <tr>\n",
       "      <th>1</th>\n",
       "      <td>Greg</td>\n",
       "      <td>2</td>\n",
       "      <td>3</td>\n",
       "      <td>4</td>\n",
       "    </tr>\n",
       "    <tr>\n",
       "      <th>2</th>\n",
       "      <td>Erin</td>\n",
       "      <td>4</td>\n",
       "      <td>6</td>\n",
       "      <td>8</td>\n",
       "    </tr>\n",
       "    <tr>\n",
       "      <th>3</th>\n",
       "      <td>Chester</td>\n",
       "      <td>6</td>\n",
       "      <td>9</td>\n",
       "      <td>12</td>\n",
       "    </tr>\n",
       "    <tr>\n",
       "      <th>4</th>\n",
       "      <td>Uohna</td>\n",
       "      <td>8</td>\n",
       "      <td>12</td>\n",
       "      <td>16</td>\n",
       "    </tr>\n",
       "    <tr>\n",
       "      <th>5</th>\n",
       "      <td>Jeffery</td>\n",
       "      <td>10</td>\n",
       "      <td>15</td>\n",
       "      <td>20</td>\n",
       "    </tr>\n",
       "  </tbody>\n",
       "</table>\n",
       "</div>"
      ],
      "text/plain": [
       "  Customer  Costs_1  Costs_2  Costs_3\n",
       "0   Norman        0        0        0\n",
       "1     Greg        2        3        4\n",
       "2     Erin        4        6        8\n",
       "3  Chester        6        9       12\n",
       "4    Uohna        8       12       16\n",
       "5  Jeffery       10       15       20"
      ]
     },
     "execution_count": 3,
     "metadata": {},
     "output_type": "execute_result"
    }
   ],
   "source": [
    "# Create a customer dataframe object\n",
    "df = pd.DataFrame({'Customer': 'Norman Greg Erin Chester Uohna Jeffery'.split(),\n",
    "                   'Costs_1': np.arange(6) * 2,\n",
    "                   'Costs_2': np.arange(6) * 3,\n",
    "                   'Costs_3': np.arange(6) * 4})\n",
    "\n",
    "df"
   ]
  },
  {
   "cell_type": "code",
   "execution_count": 5,
   "id": "71cf9932",
   "metadata": {
    "ExecuteTime": {
     "end_time": "2021-10-19T20:22:34.451422Z",
     "start_time": "2021-10-19T20:22:34.446238Z"
    }
   },
   "outputs": [
    {
     "data": {
      "text/plain": [
       "0     Norman_SF\n",
       "1       Greg_SF\n",
       "2       Erin_SF\n",
       "3    Chester_SF\n",
       "4      Uohna_SF\n",
       "5    Jeffery_SF\n",
       "Name: Customer, dtype: object"
      ]
     },
     "execution_count": 5,
     "metadata": {},
     "output_type": "execute_result"
    }
   ],
   "source": [
    "\n",
    "df['Customer'].map(lambda x: str(x) + \"_SF\")"
   ]
  },
  {
   "cell_type": "code",
   "execution_count": 6,
   "id": "7c560d3d",
   "metadata": {
    "ExecuteTime": {
     "end_time": "2021-10-19T20:23:09.688094Z",
     "start_time": "2021-10-19T20:23:09.676169Z"
    }
   },
   "outputs": [
    {
     "data": {
      "text/html": [
       "<div>\n",
       "<style scoped>\n",
       "    .dataframe tbody tr th:only-of-type {\n",
       "        vertical-align: middle;\n",
       "    }\n",
       "\n",
       "    .dataframe tbody tr th {\n",
       "        vertical-align: top;\n",
       "    }\n",
       "\n",
       "    .dataframe thead th {\n",
       "        text-align: right;\n",
       "    }\n",
       "</style>\n",
       "<table border=\"1\" class=\"dataframe\">\n",
       "  <thead>\n",
       "    <tr style=\"text-align: right;\">\n",
       "      <th></th>\n",
       "      <th>Customer</th>\n",
       "      <th>Costs_1</th>\n",
       "      <th>Costs_2</th>\n",
       "      <th>Costs_3</th>\n",
       "    </tr>\n",
       "  </thead>\n",
       "  <tbody>\n",
       "    <tr>\n",
       "      <th>0</th>\n",
       "      <td>Norman_SF</td>\n",
       "      <td>0_SF</td>\n",
       "      <td>0_SF</td>\n",
       "      <td>0_SF</td>\n",
       "    </tr>\n",
       "    <tr>\n",
       "      <th>1</th>\n",
       "      <td>Greg_SF</td>\n",
       "      <td>2_SF</td>\n",
       "      <td>3_SF</td>\n",
       "      <td>4_SF</td>\n",
       "    </tr>\n",
       "    <tr>\n",
       "      <th>2</th>\n",
       "      <td>Erin_SF</td>\n",
       "      <td>4_SF</td>\n",
       "      <td>6_SF</td>\n",
       "      <td>8_SF</td>\n",
       "    </tr>\n",
       "    <tr>\n",
       "      <th>3</th>\n",
       "      <td>Chester_SF</td>\n",
       "      <td>6_SF</td>\n",
       "      <td>9_SF</td>\n",
       "      <td>12_SF</td>\n",
       "    </tr>\n",
       "    <tr>\n",
       "      <th>4</th>\n",
       "      <td>Uohna_SF</td>\n",
       "      <td>8_SF</td>\n",
       "      <td>12_SF</td>\n",
       "      <td>16_SF</td>\n",
       "    </tr>\n",
       "    <tr>\n",
       "      <th>5</th>\n",
       "      <td>Jeffery_SF</td>\n",
       "      <td>10_SF</td>\n",
       "      <td>15_SF</td>\n",
       "      <td>20_SF</td>\n",
       "    </tr>\n",
       "  </tbody>\n",
       "</table>\n",
       "</div>"
      ],
      "text/plain": [
       "     Customer Costs_1 Costs_2 Costs_3\n",
       "0   Norman_SF    0_SF    0_SF    0_SF\n",
       "1     Greg_SF    2_SF    3_SF    4_SF\n",
       "2     Erin_SF    4_SF    6_SF    8_SF\n",
       "3  Chester_SF    6_SF    9_SF   12_SF\n",
       "4    Uohna_SF    8_SF   12_SF   16_SF\n",
       "5  Jeffery_SF   10_SF   15_SF   20_SF"
      ]
     },
     "execution_count": 6,
     "metadata": {},
     "output_type": "execute_result"
    }
   ],
   "source": [
    "\n",
    "df.applymap(lambda x: str(x) + \"_SF\")"
   ]
  },
  {
   "cell_type": "code",
   "execution_count": 9,
   "id": "529a50e8",
   "metadata": {
    "ExecuteTime": {
     "end_time": "2021-10-19T20:26:27.792608Z",
     "start_time": "2021-10-19T20:26:27.783834Z"
    }
   },
   "outputs": [
    {
     "data": {
      "text/html": [
       "<div>\n",
       "<style scoped>\n",
       "    .dataframe tbody tr th:only-of-type {\n",
       "        vertical-align: middle;\n",
       "    }\n",
       "\n",
       "    .dataframe tbody tr th {\n",
       "        vertical-align: top;\n",
       "    }\n",
       "\n",
       "    .dataframe thead th {\n",
       "        text-align: right;\n",
       "    }\n",
       "</style>\n",
       "<table border=\"1\" class=\"dataframe\">\n",
       "  <thead>\n",
       "    <tr style=\"text-align: right;\">\n",
       "      <th></th>\n",
       "      <th>Customer</th>\n",
       "      <th>Costs_1</th>\n",
       "    </tr>\n",
       "  </thead>\n",
       "  <tbody>\n",
       "    <tr>\n",
       "      <th>0</th>\n",
       "      <td>Norman_SF</td>\n",
       "      <td>0_SF</td>\n",
       "    </tr>\n",
       "    <tr>\n",
       "      <th>1</th>\n",
       "      <td>Greg_SF</td>\n",
       "      <td>2_SF</td>\n",
       "    </tr>\n",
       "    <tr>\n",
       "      <th>2</th>\n",
       "      <td>Erin_SF</td>\n",
       "      <td>4_SF</td>\n",
       "    </tr>\n",
       "    <tr>\n",
       "      <th>3</th>\n",
       "      <td>Chester_SF</td>\n",
       "      <td>6_SF</td>\n",
       "    </tr>\n",
       "    <tr>\n",
       "      <th>4</th>\n",
       "      <td>Uohna_SF</td>\n",
       "      <td>8_SF</td>\n",
       "    </tr>\n",
       "    <tr>\n",
       "      <th>5</th>\n",
       "      <td>Jeffery_SF</td>\n",
       "      <td>10_SF</td>\n",
       "    </tr>\n",
       "  </tbody>\n",
       "</table>\n",
       "</div>"
      ],
      "text/plain": [
       "     Customer Costs_1\n",
       "0   Norman_SF    0_SF\n",
       "1     Greg_SF    2_SF\n",
       "2     Erin_SF    4_SF\n",
       "3  Chester_SF    6_SF\n",
       "4    Uohna_SF    8_SF\n",
       "5  Jeffery_SF   10_SF"
      ]
     },
     "execution_count": 9,
     "metadata": {},
     "output_type": "execute_result"
    }
   ],
   "source": [
    "df[['Customer', 'Costs_1']].applymap(lambda x: str(x) + \"_SF\")"
   ]
  },
  {
   "cell_type": "code",
   "execution_count": 10,
   "id": "5367a213",
   "metadata": {
    "ExecuteTime": {
     "end_time": "2021-10-19T20:27:22.924618Z",
     "start_time": "2021-10-19T20:27:22.916651Z"
    }
   },
   "outputs": [
    {
     "data": {
      "text/html": [
       "<div>\n",
       "<style scoped>\n",
       "    .dataframe tbody tr th:only-of-type {\n",
       "        vertical-align: middle;\n",
       "    }\n",
       "\n",
       "    .dataframe tbody tr th {\n",
       "        vertical-align: top;\n",
       "    }\n",
       "\n",
       "    .dataframe thead th {\n",
       "        text-align: right;\n",
       "    }\n",
       "</style>\n",
       "<table border=\"1\" class=\"dataframe\">\n",
       "  <thead>\n",
       "    <tr style=\"text-align: right;\">\n",
       "      <th></th>\n",
       "      <th>Customer</th>\n",
       "    </tr>\n",
       "  </thead>\n",
       "  <tbody>\n",
       "    <tr>\n",
       "      <th>0</th>\n",
       "      <td>Norman_SF</td>\n",
       "    </tr>\n",
       "    <tr>\n",
       "      <th>1</th>\n",
       "      <td>Greg_SF</td>\n",
       "    </tr>\n",
       "    <tr>\n",
       "      <th>2</th>\n",
       "      <td>Erin_SF</td>\n",
       "    </tr>\n",
       "    <tr>\n",
       "      <th>3</th>\n",
       "      <td>Chester_SF</td>\n",
       "    </tr>\n",
       "    <tr>\n",
       "      <th>4</th>\n",
       "      <td>Uohna_SF</td>\n",
       "    </tr>\n",
       "    <tr>\n",
       "      <th>5</th>\n",
       "      <td>Jeffery_SF</td>\n",
       "    </tr>\n",
       "  </tbody>\n",
       "</table>\n",
       "</div>"
      ],
      "text/plain": [
       "     Customer\n",
       "0   Norman_SF\n",
       "1     Greg_SF\n",
       "2     Erin_SF\n",
       "3  Chester_SF\n",
       "4    Uohna_SF\n",
       "5  Jeffery_SF"
      ]
     },
     "execution_count": 10,
     "metadata": {},
     "output_type": "execute_result"
    }
   ],
   "source": [
    "df[['Customer']].applymap(lambda x: str(x) + \"_SF\")"
   ]
  },
  {
   "cell_type": "code",
   "execution_count": 12,
   "id": "5096a040",
   "metadata": {
    "ExecuteTime": {
     "end_time": "2021-10-19T20:28:46.638602Z",
     "start_time": "2021-10-19T20:28:46.628979Z"
    }
   },
   "outputs": [
    {
     "data": {
      "text/html": [
       "<div>\n",
       "<style scoped>\n",
       "    .dataframe tbody tr th:only-of-type {\n",
       "        vertical-align: middle;\n",
       "    }\n",
       "\n",
       "    .dataframe tbody tr th {\n",
       "        vertical-align: top;\n",
       "    }\n",
       "\n",
       "    .dataframe thead th {\n",
       "        text-align: right;\n",
       "    }\n",
       "</style>\n",
       "<table border=\"1\" class=\"dataframe\">\n",
       "  <thead>\n",
       "    <tr style=\"text-align: right;\">\n",
       "      <th></th>\n",
       "      <th>Customer</th>\n",
       "      <th>Costs_1</th>\n",
       "      <th>Costs_2</th>\n",
       "      <th>Costs_3</th>\n",
       "    </tr>\n",
       "  </thead>\n",
       "  <tbody>\n",
       "    <tr>\n",
       "      <th>0</th>\n",
       "      <td>Norman</td>\n",
       "      <td>0</td>\n",
       "      <td>0</td>\n",
       "      <td>0</td>\n",
       "    </tr>\n",
       "  </tbody>\n",
       "</table>\n",
       "</div>"
      ],
      "text/plain": [
       "  Customer  Costs_1  Costs_2  Costs_3\n",
       "0   Norman        0        0        0"
      ]
     },
     "execution_count": 12,
     "metadata": {},
     "output_type": "execute_result"
    }
   ],
   "source": [
    "df[(df[\"Customer\"] == 'Norman')]"
   ]
  },
  {
   "cell_type": "code",
   "execution_count": null,
   "id": "bd3425a3",
   "metadata": {},
   "outputs": [],
   "source": []
  }
 ],
 "metadata": {
  "hide_input": false,
  "kernelspec": {
   "display_name": "Python 3",
   "language": "python",
   "name": "python3"
  },
  "language_info": {
   "codemirror_mode": {
    "name": "ipython",
    "version": 3
   },
   "file_extension": ".py",
   "mimetype": "text/x-python",
   "name": "python",
   "nbconvert_exporter": "python",
   "pygments_lexer": "ipython3",
   "version": "3.8.8"
  },
  "latex_envs": {
   "LaTeX_envs_menu_present": true,
   "autoclose": false,
   "autocomplete": true,
   "bibliofile": "biblio.bib",
   "cite_by": "apalike",
   "current_citInitial": 1,
   "eqLabelWithNumbers": true,
   "eqNumInitial": 1,
   "hotkeys": {
    "equation": "Ctrl-E",
    "itemize": "Ctrl-I"
   },
   "labels_anchors": false,
   "latex_user_defs": false,
   "report_style_numbering": false,
   "user_envs_cfg": false
  },
  "nbTranslate": {
   "displayLangs": [
    "*"
   ],
   "hotkey": "alt-t",
   "langInMainMenu": true,
   "sourceLang": "en",
   "targetLang": "fr",
   "useGoogleTranslate": true
  },
  "toc": {
   "base_numbering": 1,
   "nav_menu": {},
   "number_sections": true,
   "sideBar": true,
   "skip_h1_title": false,
   "title_cell": "Table of Contents",
   "title_sidebar": "Contents",
   "toc_cell": false,
   "toc_position": {},
   "toc_section_display": true,
   "toc_window_display": false
  }
 },
 "nbformat": 4,
 "nbformat_minor": 5
}
